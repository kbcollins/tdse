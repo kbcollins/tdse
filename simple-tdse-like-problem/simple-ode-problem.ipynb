{
 "cells": [
  {
   "cell_type": "code",
   "execution_count": 1,
   "metadata": {
    "collapsed": true
   },
   "outputs": [],
   "source": [
    "import numpy as np\n",
    "import numpy.linalg as nl\n",
    "import matplotlib.pyplot as plt\n",
    "import scipy.optimize as so\n",
    "import jax\n",
    "import jax.numpy as jnp\n",
    "# from jax.config import config\n",
    "jax.config.update(\"jax_enable_x64\", True)"
   ]
  },
  {
   "cell_type": "markdown",
   "source": [
    "<h1>Forward Problem</h1>"
   ],
   "metadata": {
    "collapsed": false,
    "pycharm": {
     "name": "#%% md\n"
    }
   }
  },
  {
   "cell_type": "code",
   "execution_count": 2,
   "outputs": [
    {
     "name": "stdout",
     "output_type": "stream",
     "text": [
      "l2 error xvec: 9.41008164741723e-15\n"
     ]
    },
    {
     "data": {
      "text/plain": "<Figure size 432x288 with 1 Axes>",
      "image/png": "[encoded data removed]"
     },
     "metadata": {
      "needs_background": "light"
     },
     "output_type": "display_data"
    }
   ],
   "source": [
    "L = 5.0\n",
    "\n",
    "dt = 0.25\n",
    "\n",
    "tvec = np.arange(0, 5, dt)\n",
    "\n",
    "a = 0.5\n",
    "\n",
    "x0 = 2.0\n",
    "\n",
    "xvec = [x0]\n",
    "for i in range(len(tvec) - 1):\n",
    "    xvec.append(xvec[-1] * np.exp(a * dt))\n",
    "\n",
    "xvec = np.array(xvec)\n",
    "\n",
    "print('l2 error xvec:', nl.norm(x0 * np.exp(a * tvec) - xvec))\n",
    "\n",
    "plt.plot(tvec, x0 * np.exp(a * tvec), label = 'analytic')\n",
    "plt.plot(tvec, xvec, label = 'numeric')\n",
    "plt.xlabel('time')\n",
    "plt.ylabel('x')\n",
    "plt.legend()\n",
    "plt.show()"
   ],
   "metadata": {
    "collapsed": false,
    "pycharm": {
     "name": "#%%\n"
    }
   }
  },
  {
   "cell_type": "markdown",
   "source": [
    "---\n",
    "<h1>Inverse Problem</h1>"
   ],
   "metadata": {
    "collapsed": false,
    "pycharm": {
     "name": "#%% md\n"
    }
   }
  },
  {
   "cell_type": "code",
   "execution_count": 3,
   "outputs": [
    {
     "name": "stdout",
     "output_type": "stream",
     "text": [
      "[ 2.          2.26629691  2.56805083  2.90998283  3.29744254  3.73649191\n",
      "  4.23400003  4.79775059  5.43656366  6.1604337   6.98068591  7.91015345\n",
      "  8.96337814 10.15683807 11.50920535 13.04163824 14.7781122  16.74579498\n",
      " 18.97547167 21.50202637]\n",
      "[2.         2.26629691]\n",
      "1.1331484530668263\n",
      "1.2840254166877414\n",
      "[1.13314845 1.28402542]\n"
     ]
    }
   ],
   "source": [
    "print(xvec)\n",
    "print(xvec[:2])\n",
    "\n",
    "print(np.exp(a * dt))\n",
    "print(np.exp(2 * a * dt))\n",
    "print(np.exp(np.arange(1, 2 + 1) * a * dt))"
   ],
   "metadata": {
    "collapsed": false,
    "pycharm": {
     "name": "#%%\n"
    }
   }
  },
  {
   "cell_type": "code",
   "execution_count": 4,
   "outputs": [
    {
     "name": "stdout",
     "output_type": "stream",
     "text": [
      "[0.00000000e+00 0.00000000e+00 1.00445172e-02 4.57057906e-02\n",
      " 1.30188018e-01 2.97124090e-01 5.94277296e-01 1.08842334e+00\n",
      " 1.87176911e+00 3.07036935e+00 4.85513697e+00 7.45621688e+00\n",
      " 1.11817165e+01 1.64420747e+01 2.37817216e+01 3.39201585e+01\n",
      " 4.78052023e+01 6.66819271e+01 9.21818530e+01 1.26438237e+02]\n"
     ]
    }
   ],
   "source": [
    "gradxvec1 = [0.0]\n",
    "for i in range(1, len(tvec)):\n",
    "    gradxvec1.append(dt * (np.exp(np.arange(1, i + 1) * a * dt) @ xvec[:i]))\n",
    "\n",
    "# print(gradxvec1)\n",
    "\n",
    "gradxvec2 = [0.0]\n",
    "for i in range(1, len(tvec)):\n",
    "    gradxvec2.append(np.exp(a * dt) * (dt * xvec[i - 1] + gradxvec2[i - 1]))\n",
    "\n",
    "# print(gradxvec2)\n",
    "\n",
    "print(np.abs(np.subtract(gradxvec1, gradxvec2)))"
   ],
   "metadata": {
    "collapsed": false,
    "pycharm": {
     "name": "#%%\n"
    }
   }
  },
  {
   "cell_type": "code",
   "execution_count": 5,
   "outputs": [
    {
     "name": "stdout",
     "output_type": "stream",
     "text": [
      "[11 12]\n",
      "[1]\n"
     ]
    }
   ],
   "source": [
    "print(np.array([11, 12, 13, 14, 15, 16])[0:2])\n",
    "\n",
    "print(np.arange(1, 2))"
   ],
   "metadata": {
    "collapsed": false,
    "pycharm": {
     "name": "#%%\n"
    }
   }
  },
  {
   "cell_type": "code",
   "execution_count": 44,
   "outputs": [],
   "source": [
    "def directmethod(theta):\n",
    "    # propagate with theta and compute gradient of J\n",
    "    xhat = x0\n",
    "    gradxhat = 0.0\n",
    "    gradJ = 0.0\n",
    "    for i in range(len(tvec) - 1):\n",
    "        # \\grad \\hat{x}_{i+1} = \\exp(\\theta * \\Delta t) * (\\Delta t * \\hat{x}_{i} + \\exp(\\theta * \\grad \\hat{x}_{i})\n",
    "        gradxhat = np.exp(theta * dt) * (dt * xhat + gradxhat)\n",
    "\n",
    "        # \\hat{x}_{i+1} = \\hat{x}_{i} * \\exp(\\theta * \\Delta t)\n",
    "        xhat = xhat * np.exp(theta * dt)\n",
    "\n",
    "        # \\grad J_{i+1} = -(x_{i+1}- \\hat{x}_{i+1}) * \\grad \\hat{x}_{i+1}\n",
    "        gradJ += -(xvec[i + 1] - xhat) * gradxhat\n",
    "\n",
    "    return gradJ\n",
    "\n",
    "\n",
    "# def directmethod(theta):\n",
    "#     # propagate with theta and compute gradient of J\n",
    "#     xhatvec = [x0]\n",
    "#     gradxhatvec2 = [0.0]\n",
    "#     gradJ1 = 0.0\n",
    "#     for i in range(len(tvec) - 1):\n",
    "#         # \\hat{x}_{i+1} = \\hat{x}_{i} * \\exp(\\theta * \\Delta t)\n",
    "#         xhatvec.append(xhatvec[i] * np.exp(theta * dt))\n",
    "#\n",
    "#         # \\grad \\hat{x}_{i+1} = \\exp(\\theta * \\Delta t) * (\\Delta t * \\hat{x}_{i} + \\exp(\\theta * \\grad \\hat{x}_{i})\n",
    "#         gradxhatvec2.append(np.exp(theta * dt) * (dt * xhatvec[i] + gradxhatvec2[i]))\n",
    "#\n",
    "#         # \\grad J_{i+1} = -(x_{i+1}- \\hat{x}_{i+1}) * \\grad \\hat{x}_{i+1}\n",
    "#         gradJ1 += -(xvec[i + 1] - xhatvec[i + 1]) * gradxhatvec2[i + 1]\n",
    "#         # print(np.abs(gradxhatvec2[-1] - thisgradxhat))\n",
    "#\n",
    "#     gradJ2 = -(np.subtract(xvec, xhatvec)) @ gradxhatvec2\n",
    "#\n",
    "#     return (gradJ1, gradJ2)\n",
    "\n",
    "\n",
    "# def directmethod(theta):\n",
    "#     # propagate with theta\n",
    "#     xhatvec = [x0]\n",
    "#     for i in range(len(tvec) - 1):\n",
    "#         xhatvec.append(xhatvec[-1] * np.exp(theta * dt))\n",
    "#\n",
    "#     xhatvec = np.array(xhatvec)\n",
    "#\n",
    "#     # print(xvec)\n",
    "#     # print(xhatvec)\n",
    "#     # print(xvec - xhatvec)\n",
    "#\n",
    "#     # compute gradient of J\n",
    "#     gradxhatvec1 = [0.0]\n",
    "#     gradxhatvec2 = [0.0]\n",
    "#     for i in range(1, len(tvec)):\n",
    "#         gradxhatvec1.append(dt * (np.exp(np.arange(1, i + 1) * theta * dt) @ np.flip(xhatvec[:i])))\n",
    "#         # print(np.exp(np.arange(1, i + 1) * theta * dt))\n",
    "#         # print(xhatvec[:i])\n",
    "#         gradxhatvec2.append(np.exp(theta * dt) * (dt * xhatvec[i - 1] + gradxhatvec2[i - 1]))\n",
    "#         # print(np.abs(gradxhatvec1[-1] - gradxhatvec2[-1]))\n",
    "#\n",
    "#     gradJ1 = -(xvec - xhatvec) @ gradxhatvec1\n",
    "#     gradJ2 = -(xvec - xhatvec) @ gradxhatvec2\n",
    "#\n",
    "#     return (gradJ1, gradJ2)"
   ],
   "metadata": {
    "collapsed": false,
    "pycharm": {
     "name": "#%%\n"
    }
   }
  },
  {
   "cell_type": "code",
   "execution_count": 45,
   "outputs": [
    {
     "name": "stdout",
     "output_type": "stream",
     "text": [
      "2297.108361013416\n"
     ]
    }
   ],
   "source": [
    "print(directmethod(a + 0.05))"
   ],
   "metadata": {
    "collapsed": false,
    "pycharm": {
     "name": "#%%\n"
    }
   }
  },
  {
   "cell_type": "code",
   "execution_count": 46,
   "outputs": [],
   "source": [
    "def obj(theta):\n",
    "    # propagate with theta\n",
    "    xhatvec = [x0]\n",
    "    for i in range(len(tvec) - 1):\n",
    "        xhatvec.append(jnp.exp(theta * dt) * xhatvec[-1])\n",
    "\n",
    "    xhatvec = jnp.array(xhatvec)\n",
    "\n",
    "    return 0.5 * jnp.sum((xvec - xhatvec)**2)\n",
    "\n"
   ],
   "metadata": {
    "collapsed": false,
    "pycharm": {
     "name": "#%%\n"
    }
   }
  },
  {
   "cell_type": "code",
   "execution_count": 47,
   "outputs": [
    {
     "name": "stdout",
     "output_type": "stream",
     "text": [
      "0.0\n"
     ]
    }
   ],
   "source": [
    "print(obj(a))"
   ],
   "metadata": {
    "collapsed": false,
    "pycharm": {
     "name": "#%%\n"
    }
   }
  },
  {
   "cell_type": "code",
   "execution_count": 48,
   "outputs": [
    {
     "name": "stdout",
     "output_type": "stream",
     "text": [
      "-0.0\n"
     ]
    }
   ],
   "source": [
    "gradobj = jax.grad(obj)\n",
    "print(gradobj(a))"
   ],
   "metadata": {
    "collapsed": false,
    "pycharm": {
     "name": "#%%\n"
    }
   }
  },
  {
   "cell_type": "code",
   "execution_count": 50,
   "outputs": [
    {
     "name": "stdout",
     "output_type": "stream",
     "text": [
      "grad error: 5.684341886080802e-14\n",
      "grad error: 1.1368683772161603e-13\n",
      "grad error: 2.2737367544323206e-13\n",
      "grad error: 3.410605131648481e-13\n",
      "grad error: 2.2737367544323206e-13\n",
      "grad error: 2.2737367544323206e-13\n",
      "grad error: 2.2737367544323206e-13\n",
      "grad error: 0.0\n",
      "grad error: 4.547473508864641e-13\n",
      "grad error: 0.0\n",
      "grad error: 2.2737367544323206e-13\n",
      "grad error: 5.684341886080802e-14\n",
      "grad error: 4.547473508864641e-13\n",
      "grad error: 1.1368683772161603e-13\n",
      "grad error: 2.842170943040401e-14\n",
      "grad error: 2.2737367544323206e-13\n",
      "grad error: 2.2737367544323206e-13\n",
      "grad error: 1.1368683772161603e-13\n",
      "grad error: 0.0\n",
      "grad error: 2.2737367544323206e-13\n",
      "grad error: 1.1368683772161603e-13\n",
      "grad error: 1.1368683772161603e-13\n",
      "grad error: 2.842170943040401e-14\n",
      "grad error: 2.2737367544323206e-13\n",
      "grad error: 5.684341886080802e-14\n",
      "grad error: 1.1368683772161603e-13\n",
      "grad error: 2.2737367544323206e-13\n",
      "grad error: 4.547473508864641e-13\n",
      "grad error: 2.2737367544323206e-13\n",
      "grad error: 3.410605131648481e-13\n",
      "grad error: 5.684341886080802e-14\n",
      "grad error: 1.7053025658242404e-13\n",
      "grad error: 4.547473508864641e-13\n",
      "grad error: 1.1368683772161603e-13\n",
      "grad error: 0.0\n",
      "grad error: 1.1368683772161603e-13\n",
      "grad error: 2.2737367544323206e-13\n",
      "grad error: 2.2737367544323206e-13\n",
      "grad error: 2.842170943040401e-14\n",
      "grad error: 2.2737367544323206e-13\n",
      "grad error: 0.0\n",
      "grad error: 2.842170943040401e-14\n",
      "grad error: 1.1368683772161603e-12\n",
      "grad error: 4.547473508864641e-13\n",
      "grad error: 5.684341886080802e-14\n",
      "grad error: 0.0\n",
      "grad error: 4.547473508864641e-13\n",
      "grad error: 0.0\n",
      "grad error: 5.684341886080802e-14\n",
      "grad error: 2.2737367544323206e-13\n"
     ]
    }
   ],
   "source": [
    "# check direct grads against JAX grads\n",
    "\n",
    "for _ in range(50):\n",
    "    thetahat = np.random.default_rng().uniform(-0.5, 0.5)\n",
    "    # print(directmethod(thetahat), gradobj(thetahat))\n",
    "    print('grad error:', np.abs(np.subtract(directmethod(thetahat), gradobj(thetahat))))\n",
    "    # print('obj:', obj(thetahat))"
   ],
   "metadata": {
    "collapsed": false,
    "pycharm": {
     "name": "#%%\n"
    }
   }
  },
  {
   "cell_type": "code",
   "execution_count": 52,
   "outputs": [
    {
     "name": "stdout",
     "output_type": "stream",
     "text": [
      "a: 0.5\n",
      "thetahat initial: 0.6823518632481435\n",
      "thetahat: 0.48126917685700815\n",
      "thetahat: 0.4868172307300783\n",
      "thetahat: 0.49086115762751714\n",
      "thetahat: 0.49373720285539446\n",
      "thetahat: 0.4957443663334799\n",
      "thetahat: 0.4971257164108151\n",
      "thetahat: 0.49806689906703255\n",
      "thetahat: 0.49870368330995596\n",
      "thetahat: 0.49913243326175605\n",
      "thetahat: 0.4994201584437499\n",
      "thetahat: 0.4996128122713378\n",
      "thetahat: 0.49974161383224425\n",
      "thetahat: 0.49982763869518954\n",
      "thetahat: 0.4998850545368694\n",
      "thetahat: 0.49992335836137164\n",
      "thetahat: 0.4999489042328244\n",
      "thetahat: 0.4999659380239632\n",
      "thetahat: 0.4999772944901016\n",
      "thetahat: 0.4999848651885996\n",
      "thetahat: 0.4999899118316069\n",
      "thetahat: 0.4999932757992688\n",
      "thetahat: 0.4999955180771686\n",
      "thetahat: 0.4999970126577171\n",
      "thetahat: 0.49999800885203194\n",
      "thetahat: 0.4999986728478672\n",
      "thetahat: 0.4999991154203023\n",
      "thetahat: 0.4999994104065978\n",
      "thetahat: 0.49999960702234636\n",
      "thetahat: 0.49999973807145875\n",
      "thetahat: 0.4999998254187443\n",
      "thetahat: 0.49999988363770426\n",
      "thetahat: 0.4999999224419524\n",
      "thetahat: 0.49999994830584976\n",
      "thetahat: 0.4999999655447108\n",
      "thetahat: 0.4999999770347925\n",
      "thetahat: 0.49999998469318496\n",
      "thetahat: 0.4999999897976719\n",
      "thetahat: 0.49999999319992466\n",
      "thetahat: 0.49999999546760077\n",
      "thetahat: 0.4999999969790565\n",
      "thetahat: 0.49999999798647493\n",
      "thetahat: 0.4999999986579415\n",
      "thetahat: 0.4999999991054886\n",
      "thetahat: 0.49999999940378853\n",
      "thetahat: 0.4999999996026121\n",
      "thetahat: 0.49999999973513226\n",
      "thetahat: 0.4999999998234598\n",
      "thetahat: 0.49999999988233207\n",
      "thetahat: 0.49999999992157174\n",
      "thetahat: 0.4999999999477259\n"
     ]
    }
   ],
   "source": [
    "# grad decent using direct method grad\n",
    "\n",
    "# grad decent step size\n",
    "ss = 0.00001\n",
    "\n",
    "thetahat = np.random.default_rng(123).uniform()\n",
    "# thetahat = a + np.random.default_rng(123).uniform(-0.05, 0.05)\n",
    "\n",
    "print('a:', a)\n",
    "print('thetahat initial:', thetahat)\n",
    "\n",
    "for i in range(50):\n",
    "    thetahat -= ss * directmethod(thetahat)\n",
    "\n",
    "    print('thetahat:', thetahat)\n"
   ],
   "metadata": {
    "collapsed": false,
    "pycharm": {
     "name": "#%%\n"
    }
   }
  },
  {
   "cell_type": "code",
   "execution_count": 70,
   "outputs": [],
   "source": [
    "def adjmethod(theta):\n",
    "    # propagate with theta\n",
    "    xhatvec = [x0]\n",
    "    for i in range(len(tvec) - 1):\n",
    "        xhatvec.append(xhatvec[-1] * jnp.exp(theta * dt))\n",
    "\n",
    "    xhatvec = jnp.array(xhatvec)\n",
    "\n",
    "    # solve for lambda\n",
    "    # build lambdavec backwards then flip at end\n",
    "    # \\lambda_T = -(x_T - \\hat{x}_T)\n",
    "    lamvec = [-(xvec[-1] - xhatvec[-1])]\n",
    "    for i in range(2, len(tvec)):\n",
    "        # \\lambda_k = -(x_k \\hat{x}_k) + \\lambda_{k+1} \\exp(\\theta \\Delta t)\n",
    "        lamvec.append(-(xvec[-i] - xhatvec[-i]) + lamvec[i - 2] * jnp.exp(theta * dt))\n",
    "\n",
    "    lamvec = jnp.flip(jnp.array(lamvec))\n",
    "    # print(tvec.shape)\n",
    "    # print(lamvec.shape)\n",
    "    # print(xhatvec.shape)\n",
    "\n",
    "    # \\grad L = \\Delta t * \\exp(\\theta \\Delta t) * \\sum_{k=0}^{T-1} \\lambda_{k+1} * \\hat{x}_k\n",
    "    return dt * jnp.exp(theta * dt) * (lamvec @ xhatvec[:-1])"
   ],
   "metadata": {
    "collapsed": false,
    "pycharm": {
     "name": "#%%\n"
    }
   }
  },
  {
   "cell_type": "code",
   "execution_count": 71,
   "outputs": [
    {
     "name": "stdout",
     "output_type": "stream",
     "text": [
      "0.0\n"
     ]
    }
   ],
   "source": [
    "print(adjmethod(a))"
   ],
   "metadata": {
    "collapsed": false,
    "pycharm": {
     "name": "#%%\n"
    }
   }
  },
  {
   "cell_type": "code",
   "execution_count": 73,
   "outputs": [
    {
     "name": "stdout",
     "output_type": "stream",
     "text": [
      "grad error: 0.0\n",
      "grad error: 2.2737367544323206e-13\n",
      "grad error: 0.0\n",
      "grad error: 2.2737367544323206e-13\n",
      "grad error: 2.2737367544323206e-13\n",
      "grad error: 0.0\n",
      "grad error: 2.842170943040401e-14\n",
      "grad error: 4.547473508864641e-13\n",
      "grad error: 5.684341886080802e-14\n",
      "grad error: 6.821210263296962e-13\n",
      "grad error: 0.0\n",
      "grad error: 5.684341886080802e-14\n",
      "grad error: 2.2737367544323206e-13\n",
      "grad error: 1.1368683772161603e-13\n",
      "grad error: 2.2737367544323206e-13\n",
      "grad error: 0.0\n",
      "grad error: 2.2737367544323206e-13\n",
      "grad error: 1.1368683772161603e-13\n",
      "grad error: 5.684341886080802e-14\n",
      "grad error: 4.547473508864641e-13\n",
      "grad error: 5.684341886080802e-14\n",
      "grad error: 1.1368683772161603e-13\n",
      "grad error: 5.684341886080802e-14\n",
      "grad error: 0.0\n",
      "grad error: 2.2737367544323206e-13\n",
      "grad error: 0.0\n",
      "grad error: 2.2737367544323206e-13\n",
      "grad error: 2.2737367544323206e-13\n",
      "grad error: 5.684341886080802e-14\n",
      "grad error: 5.684341886080802e-14\n",
      "grad error: 1.1368683772161603e-13\n",
      "grad error: 0.0\n",
      "grad error: 2.2737367544323206e-13\n",
      "grad error: 4.547473508864641e-13\n",
      "grad error: 2.2737367544323206e-13\n",
      "grad error: 2.2737367544323206e-13\n",
      "grad error: 0.0\n",
      "grad error: 5.684341886080802e-14\n",
      "grad error: 2.2737367544323206e-13\n",
      "grad error: 4.547473508864641e-13\n",
      "grad error: 5.684341886080802e-14\n",
      "grad error: 0.0\n",
      "grad error: 2.2737367544323206e-13\n",
      "grad error: 4.547473508864641e-13\n",
      "grad error: 2.2737367544323206e-13\n",
      "grad error: 0.0\n",
      "grad error: 0.0\n",
      "grad error: 2.2737367544323206e-13\n",
      "grad error: 0.0\n",
      "grad error: 5.684341886080802e-14\n"
     ]
    }
   ],
   "source": [
    "# check adjoint grads against JAX grads\n",
    "\n",
    "for _ in range(50):\n",
    "    # thetahat = a + np.random.default_rng().uniform(-0.005, 0.005)\n",
    "    thetahat = np.random.default_rng().uniform(-0.5, 0.5)\n",
    "    # print(adjmethod(thetahat), gradobj(thetahat))\n",
    "    print('grad error:', np.abs(adjmethod(thetahat) - gradobj(thetahat)))"
   ],
   "metadata": {
    "collapsed": false,
    "pycharm": {
     "name": "#%%\n"
    }
   }
  },
  {
   "cell_type": "code",
   "execution_count": null,
   "outputs": [],
   "source": [],
   "metadata": {
    "collapsed": false,
    "pycharm": {
     "name": "#%%\n"
    }
   }
  }
 ],
 "metadata": {
  "kernelspec": {
   "display_name": "Python 3",
   "language": "python",
   "name": "python3"
  },
  "language_info": {
   "codemirror_mode": {
    "name": "ipython",
    "version": 2
   },
   "file_extension": ".py",
   "mimetype": "text/x-python",
   "name": "python",
   "nbconvert_exporter": "python",
   "pygments_lexer": "ipython2",
   "version": "2.7.6"
  }
 },
 "nbformat": 4,
 "nbformat_minor": 0
}