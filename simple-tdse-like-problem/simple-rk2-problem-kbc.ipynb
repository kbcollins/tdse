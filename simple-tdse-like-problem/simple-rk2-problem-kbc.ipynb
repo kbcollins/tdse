{
 "cells": [
  {
   "cell_type": "code",
   "execution_count": 1,
   "metadata": {
    "collapsed": true
   },
   "outputs": [],
   "source": [
    "import numpy as np\n",
    "from matplotlib import pyplot as plt\n",
    "import jax\n",
    "import jax.numpy as jnp\n",
    "# from jax.config import config\n",
    "jax.config.update(\"jax_enable_x64\", True)"
   ]
  },
  {
   "cell_type": "code",
   "execution_count": 43,
   "outputs": [],
   "source": [
    "L = 5.0\n",
    "\n",
    "dt = 1e-2\n",
    "\n",
    "tvec = np.arange(0, 5, dt)\n",
    "\n",
    "theta = 0.5\n",
    "\n",
    "x0 = 2.0"
   ],
   "metadata": {
    "collapsed": false,
    "pycharm": {
     "name": "#%%\n"
    }
   }
  },
  {
   "cell_type": "code",
   "execution_count": 44,
   "outputs": [],
   "source": [
    "def rk2prop(thisx, thistheta):\n",
    "    return (1 + dt * thistheta + 0.5 * (dt * thistheta)**2) * thisx"
   ],
   "metadata": {
    "collapsed": false,
    "pycharm": {
     "name": "#%%\n"
    }
   }
  },
  {
   "cell_type": "code",
   "execution_count": 45,
   "outputs": [
    {
     "name": "stdout",
     "output_type": "stream",
     "text": [
      "2.0100249999999997\n"
     ]
    }
   ],
   "source": [
    "jitrk2prop = jax.jit(rk2prop)\n",
    "print(jitrk2prop(x0, theta))"
   ],
   "metadata": {
    "collapsed": false,
    "pycharm": {
     "name": "#%%\n"
    }
   }
  },
  {
   "cell_type": "code",
   "execution_count": 47,
   "outputs": [
    {
     "name": "stdout",
     "output_type": "stream",
     "text": [
      "Linf error: 0.00025285079205872307\n",
      "L2 error: 0.0020919083281495847\n"
     ]
    },
    {
     "data": {
      "text/plain": "<Figure size 432x288 with 1 Axes>",
      "image/png": "[encoded data removed]"
     },
     "metadata": {
      "needs_background": "light"
     },
     "output_type": "display_data"
    }
   ],
   "source": [
    "xvectrue = [x0]\n",
    "xvecnum = [x0]\n",
    "\n",
    "for _ in tvec:\n",
    "    xvectrue.append(xvectrue[-1] * np.exp(theta * dt))\n",
    "    xvecnum.append(jitrk2prop(xvecnum[-1], theta))\n",
    "\n",
    "xvectrue = np.array(xvectrue)\n",
    "xvecnum = np.array(xvecnum)\n",
    "\n",
    "# print(np.abs(xvectrue - xvecnum))\n",
    "print('Linf error:', np.max(np.abs(xvectrue - xvecnum)))\n",
    "print('L2 error:', np.linalg.norm(xvectrue - xvecnum))\n",
    "\n",
    "# plt.plot(np.abs(xvectrue - xvecnum))\n",
    "# plt.title('Abs Diff of True vs Numerical')\n",
    "# plt.show()\n",
    "\n",
    "plt.plot(xvectrue, label='true')\n",
    "plt.plot(xvecnum, label='numerical')\n",
    "plt.plot(np.abs(xvectrue - xvecnum), label='diff')\n",
    "plt.title('True vs Numerical')\n",
    "plt.legend()\n",
    "plt.show()"
   ],
   "metadata": {
    "collapsed": false,
    "pycharm": {
     "name": "#%%\n"
    }
   }
  },
  {
   "cell_type": "code",
   "execution_count": 36,
   "outputs": [],
   "source": [
    "def objective(thetahat):\n",
    "    xhatvec = [x0]\n",
    "\n",
    "    for _ in tvec:\n",
    "        xhatvec.append(jitrk2prop(xhatvec[-1], thetahat))\n",
    "\n",
    "    xhatvec = jnp.array(xhatvec)\n",
    "\n",
    "    return 0.5 * jnp.sum((xvecnum - xhatvec)**2)"
   ],
   "metadata": {
    "collapsed": false,
    "pycharm": {
     "name": "#%%\n"
    }
   }
  },
  {
   "cell_type": "code",
   "execution_count": 37,
   "outputs": [
    {
     "name": "stdout",
     "output_type": "stream",
     "text": [
      "-0.0\n"
     ]
    }
   ],
   "source": [
    "gradobjective = jax.grad(objective)\n",
    "print(gradobjective(theta))"
   ],
   "metadata": {
    "collapsed": false,
    "pycharm": {
     "name": "#%%\n"
    }
   }
  },
  {
   "cell_type": "code",
   "execution_count": 38,
   "outputs": [],
   "source": [
    "def analygradobj(thetahat):\n",
    "    xhatvec = [x0]\n",
    "\n",
    "    for _ in tvec:\n",
    "        xhatvec.append(jitrk2prop(xhatvec[-1], thetahat))\n",
    "\n",
    "    xhatvec = jnp.array(xhatvec)\n",
    "\n",
    "    # print(xhatvec.shape)\n",
    "    # print(xhatvec[:-1].shape)\n",
    "\n",
    "    return -1 * dt * (1 + dt * thetahat) * jnp.sum((xvecnum[1:] - xhatvec[1:]) * xhatvec[:-1])"
   ],
   "metadata": {
    "collapsed": false,
    "pycharm": {
     "name": "#%%\n"
    }
   }
  },
  {
   "cell_type": "code",
   "execution_count": 39,
   "outputs": [
    {
     "name": "stdout",
     "output_type": "stream",
     "text": [
      "-0.0\n"
     ]
    }
   ],
   "source": [
    "print(analygradobj(theta))"
   ],
   "metadata": {
    "collapsed": false,
    "pycharm": {
     "name": "#%%\n"
    }
   }
  },
  {
   "cell_type": "code",
   "execution_count": 42,
   "outputs": [
    {
     "name": "stdout",
     "output_type": "stream",
     "text": [
      "-10.066980533949287\t\t-0.3858197809600201\t\t9.681160752989268\n",
      "4233255337.7548723\t\t9027954.102631811\t\t4224227383.6522403\n",
      "-5.887396646898451\t\t-0.2914431851892272\t\t5.5959534617092235\n",
      "7.751726950936315e+19\t\t1.5882205772951194e+17\t\t7.735844745163365e+19\n",
      "5.963242209430235e+22\t\t1.217318478535474e+20\t\t5.95106902464488e+22\n",
      "-28342.45525493197\t\t-75.39105928277444\t\t28267.064195649196\n",
      "-50.33947335317254\t\t-0.9084464038824279\t\t49.43102694929011\n",
      "-11.216915850196578\t\t-0.40836952390531195\t\t10.808546326291266\n",
      "287628483.08804786\t\t622200.6223595071\t\t287006282.46568835\n",
      "-10.960737895284048\t\t-0.40344170385186245\t\t10.557296191432185\n"
     ]
    }
   ],
   "source": [
    "seed = None\n",
    "for _ in range(10):\n",
    "    thisthetahat = np.random.default_rng(seed).uniform(-10, 10)\n",
    "    thisjaxgrad = gradobjective(thisthetahat)\n",
    "    thisgrad = analygradobj(thisthetahat)\n",
    "    print(thisjaxgrad, thisgrad, np.abs(thisjaxgrad - thisgrad), sep='\\t')"
   ],
   "metadata": {
    "collapsed": false,
    "pycharm": {
     "name": "#%%\n"
    }
   }
  },
  {
   "cell_type": "code",
   "execution_count": null,
   "outputs": [],
   "source": [],
   "metadata": {
    "collapsed": false,
    "pycharm": {
     "name": "#%%\n"
    }
   }
  }
 ],
 "metadata": {
  "kernelspec": {
   "display_name": "Python 3",
   "language": "python",
   "name": "python3"
  },
  "language_info": {
   "codemirror_mode": {
    "name": "ipython",
    "version": 2
   },
   "file_extension": ".py",
   "mimetype": "text/x-python",
   "name": "python",
   "nbconvert_exporter": "python",
   "pygments_lexer": "ipython2",
   "version": "2.7.6"
  }
 },
 "nbformat": 4,
 "nbformat_minor": 0
}