{
 "cells": [
  {
   "cell_type": "code",
   "execution_count": 1,
   "id": "b56b4e7b-b7e8-4446-a869-dc16fcad25e4",
   "metadata": {},
   "outputs": [],
   "source": [
    "import numpy as np\n",
    "import numpy.linalg as nl\n",
    "import scipy.optimize as so\n",
    "import scipy.integrate as si\n",
    "import matplotlib.pyplot as plt\n",
    "from numba import njit"
   ]
  },
  {
   "cell_type": "markdown",
   "id": "ad17bee5-e941-4ef1-9314-9ea62ce43504",
   "metadata": {},
   "source": [
    "<h3>Generate Training Data</h3>\n",
    "\n",
    "**In other words, solve the forward problem**"
   ]
  },
  {
   "cell_type": "code",
   "execution_count": 2,
   "id": "ad8eba24-b227-4b38-aade-da3cfb717ad8",
   "metadata": {},
   "outputs": [],
   "source": [
    "@njit\n",
    "def toeplitz(r, c):\n",
    "    c = np.asarray(c).ravel()\n",
    "    r = np.asarray(r).ravel()\n",
    "    vals = np.concatenate((c[::-1], r[1:]))\n",
    "    out_shp = len(c), len(r)\n",
    "    n = vals.strides[0]\n",
    "    return np.lib.stride_tricks.as_strided(vals[len(c)-1:], shape=out_shp, strides=(-n, n)).copy()"
   ]
  },
  {
   "cell_type": "code",
   "execution_count": 3,
   "outputs": [],
   "source": [
    "# set number of Fourier basis\n",
    "nfb = 128\n",
    "\n",
    "# set radius of spatial domain\n",
    "radius = 16\n",
    "\n",
    "# create vector of real space points for plotting\n",
    "nx = 1024\n",
    "xvec = np.linspace(-radius, radius, nx)\n",
    "\n",
    "# matrix to convert Fourier basis coefficients\n",
    "# into real space values\n",
    "nvec = np.arange(-nfb, nfb+1)\n",
    "convmat = np.exp(1j * np.pi * np.outer(nvec, xvec) / radius) / np.sqrt(2 * radius)"
   ],
   "metadata": {
    "collapsed": false,
    "pycharm": {
     "name": "#%%\n"
    }
   }
  },
  {
   "cell_type": "code",
   "execution_count": 4,
   "outputs": [
    {
     "data": {
      "text/plain": "<Figure size 432x288 with 1 Axes>",
      "image/png": "[encoded data removed]"
     },
     "metadata": {
      "needs_background": "light"
     },
     "output_type": "display_data"
    }
   ],
   "source": [
    "# this code creates ainit from psi0\n",
    "\n",
    "psi0choice = 0\n",
    "def genainit():\n",
    "    def psi0(x, choice=0):\n",
    "        if choice == 0:\n",
    "            # rounded box function\n",
    "            return 1.0 + np.tanh((1 - x**2)/0.5)\n",
    "        elif choice == 1:\n",
    "            # triangular pulse\n",
    "            return np.piecewise(x, [x < -1, (x >= -1) & (x <= 1), x > 1], [0, lambda x: (1 - np.abs(x)), 0])\n",
    "        elif choice == 2:\n",
    "            # parabolic pulse\n",
    "            return np.piecewise(x, [x < -1, (x >= -1) & (x <= 1), x > 1], [0, lambda x: (1 - x**2), 0])\n",
    "        elif choice == 3:\n",
    "            # hyperbolic secant squared\n",
    "            return (np.cosh(x))**(-2)\n",
    "        elif choice == 4:\n",
    "            # Laplace\n",
    "            return np.exp(-np.abs(x))\n",
    "        else:\n",
    "            print('Function psi0(x, choice=0): Did not recognise your choice.')\n",
    "            return None\n",
    "\n",
    "    # normalize psi0\n",
    "    norm = np.sqrt(si.quad(lambda x: np.abs(psi0(x))**2, a=-radius, b=radius)[0])\n",
    "    def normpsi0(x):\n",
    "        return psi0(x)/norm\n",
    "\n",
    "    # transform psi0 to Fourier basis using quadrature method\n",
    "    vraw = np.zeros(nfb+1, dtype=np.complex128)\n",
    "    for thisn in range(nfb+1):\n",
    "        def integ(x):\n",
    "            return (2 * radius) ** (-0.5) * np.exp(-1j * np.pi * thisn * x / radius) * normpsi0(x)\n",
    "        def rinteg(x):\n",
    "            return np.real(integ(x))\n",
    "        def iinteg(x):\n",
    "            return np.imag(integ(x))\n",
    "        vraw[thisn] = si.quad(rinteg, a=-radius, b=radius)[0] + 1j * si.quad(iinteg, a=-radius, b=radius)[0]\n",
    "\n",
    "    return np.concatenate([np.conjugate(np.flipud(vraw[1:])), vraw])\n",
    "\n",
    "ainit = genainit()\n",
    "\n",
    "# plot real part of ainit\n",
    "plt.plot(xvec, np.real(ainit @ convmat))\n",
    "plt.show()"
   ],
   "metadata": {
    "collapsed": false,
    "pycharm": {
     "name": "#%%\n"
    }
   }
  },
  {
   "cell_type": "code",
   "execution_count": 5,
   "outputs": [
    {
     "data": {
      "text/plain": "<Figure size 432x288 with 1 Axes>",
      "image/png": "[encoded data removed]"
     },
     "metadata": {
      "needs_background": "light"
     },
     "output_type": "display_data"
    }
   ],
   "source": [
    "# define potential for generating training data\n",
    "\n",
    "def v(x, choice=0):\n",
    "    if choice == 0:\n",
    "        # dimensionless quantum harmonic oscillator potential\n",
    "        return 0.5 * x**2\n",
    "    elif choice == 1:\n",
    "        # rescaled symmetric double well potential\n",
    "        return 0.0025*(x**2 - 25)**2\n",
    "    elif choice == 2:\n",
    "        # scaled asymmetric double well potential\n",
    "        return 0.0003*((x-3)**4 + 10*(x-5)**3)\n",
    "    elif choice == 3:\n",
    "        # soft coulomb potential\n",
    "        return -1 / np.sqrt(x**2 + 0.25)\n",
    "    else:\n",
    "        print('Function v(x, choice=0): Choice not recognised.')\n",
    "        return None\n",
    "\n",
    "# compute true potential\n",
    "vchoice = 2\n",
    "vtrue = v(xvec, choice=vchoice)\n",
    "\n",
    "# plot true potential\n",
    "plt.plot(xvec, vtrue)\n",
    "plt.show()"
   ],
   "metadata": {
    "collapsed": false,
    "pycharm": {
     "name": "#%%\n"
    }
   }
  },
  {
   "cell_type": "code",
   "execution_count": 6,
   "outputs": [],
   "source": [
    "# set number of Gaussian basis\n",
    "ng = 16\n",
    "\n",
    "# vector of Gaussian basis centers in real space\n",
    "xg = np.linspace(-radius, radius, ng)"
   ],
   "metadata": {
    "collapsed": false,
    "pycharm": {
     "name": "#%%\n"
    }
   }
  },
  {
   "cell_type": "markdown",
   "source": [
    "---\n",
    "**Find Optimal Alpha**"
   ],
   "metadata": {
    "collapsed": false
   }
  },
  {
   "cell_type": "code",
   "execution_count": 7,
   "outputs": [],
   "source": [
    "def grecminfn(alpha):\n",
    "    grecgmat = np.exp(-alpha * (xg[:,np.newaxis] - xg)**2)\n",
    "    grecgmatplot = np.exp(-alpha * (xvec[:, np.newaxis] - xg) ** 2)\n",
    "\n",
    "    coeffs = nl.inv(grecgmat) @ v(xg, choice=vchoice)\n",
    "    greconvtrue = np.einsum('...bc, ...c', grecgmatplot, coeffs)\n",
    "    # quantify difference between real and reconstructed potentials\n",
    "    normval = nl.norm(greconvtrue - vtrue)\n",
    "    # scale norms so ranges from 0 to 1\n",
    "    scalednorm = normval / nl.norm(vtrue)\n",
    "\n",
    "    condnum = nl.cond(grecgmat)\n",
    "    logcondnum = np.log(condnum)\n",
    "\n",
    "    # I know the log of the condition number for alpha=0.01 is\n",
    "    # about 30. The condition number is monitonically decreasing\n",
    "    # so this is pretty close to as high as this value will be\n",
    "    # thus this is like a sudo maximum value\n",
    "    return scalednorm + logcondnum / 30"
   ],
   "metadata": {
    "collapsed": false,
    "pycharm": {
     "name": "#%%\n"
    }
   }
  },
  {
   "cell_type": "code",
   "execution_count": 8,
   "outputs": [
    {
     "name": "stdout",
     "output_type": "stream",
     "text": [
      "Optimization terminated successfully.\n",
      "         Current function value: 0.066390\n",
      "         Iterations: 3\n",
      "         Function evaluations: 15\n",
      "         Gradient evaluations: 5\n",
      "[0.60175385]\n"
     ]
    }
   ],
   "source": [
    "minalpha = so.minimize(grecminfn, x0=0.5, method='BFGS', jac='3-point', options={'disp': True}).x\n",
    "print(minalpha)"
   ],
   "metadata": {
    "collapsed": false,
    "pycharm": {
     "name": "#%%\n"
    }
   }
  },
  {
   "cell_type": "code",
   "execution_count": 20,
   "outputs": [],
   "source": [
    "# this code computes the gradient of the potential matrix\n",
    "# for the Gaussian basis, this is constant\n",
    "k = np.pi * np.arange(0, 2*nfb+1) / radius\n",
    "expmat = np.exp((-k**2 / (4*minalpha))[:, np.newaxis] + (-1j*k[:,np.newaxis]*xg))\n",
    "gvmatcnst = (1 / (2 * radius)) * np.sqrt(np.pi / minalpha) * expmat\n",
    "gradgvmat = np.zeros((ng, 2*nfb+1, 2*nfb+1), dtype=np.complex128)\n",
    "for i in range(ng):\n",
    "    gradgvmat[i,:]=toeplitz(gvmatcnst.T[i].conj(), gvmatcnst.T[i])\n",
    "\n",
    "# this code computes the potential matrix (in the Fourier basis)\n",
    "# given a set of Gaussian basis coefficients\n",
    "# @njit\n",
    "def gvmat(cff):\n",
    "    # cff is the vector containing the Gaussian basis coefficients\n",
    "    # njit can't multiply together arrays of different types\n",
    "    # so first convert cff to complex type\n",
    "    cplxcff = cff.astype(np.complex128)\n",
    "    if len(cplxcff.shape) == 1:\n",
    "        # coefficients are time-independent\n",
    "        column = gvmatcnst @ cplxcff\n",
    "        row = column.conj()\n",
    "        return toeplitz(r=row, c=column)\n",
    "    elif len(cplxcff.shape) == 2:\n",
    "        # coefficients are time-dependent\n",
    "        rtn = np.zeros((cplxcff.shape[0], nfb, nfb), dtype=np.complex128)\n",
    "        for i in range(cplxcff.shape[0]):\n",
    "            thiscolumn = gvmatcnst @ cplxcff[i]\n",
    "            thisrow = thiscolumn.conj()\n",
    "            rtn[i] = toeplitz(r=thisrow, c=thiscolumn)\n",
    "        return rtn\n",
    "    else:\n",
    "        # error\n",
    "        print('Function gvmat(cff): cff has unexpected shape')\n",
    "        return None"
   ],
   "metadata": {
    "collapsed": false,
    "pycharm": {
     "name": "#%%\n"
    }
   }
  },
  {
   "cell_type": "markdown",
   "source": [
    "---"
   ],
   "metadata": {
    "collapsed": false
   }
  },
  {
   "cell_type": "code",
   "execution_count": 15,
   "outputs": [
    {
     "data": {
      "text/plain": "<Figure size 432x288 with 1 Axes>",
      "image/png": "[encoded data removed]"
     },
     "metadata": {
      "needs_background": "light"
     },
     "output_type": "display_data"
    },
    {
     "name": "stdout",
     "output_type": "stream",
     "text": [
      "Relative Norm Difference: 0.05786991413169762\n"
     ]
    }
   ],
   "source": [
    "# this code computes the coefficients of the true potential in the\n",
    "# Gaussian basis using minalpha (determined above)\n",
    "\n",
    "# this is used for computing the Gaussian basis coefficients\n",
    "gmat = np.exp(-minalpha * (xg[:,np.newaxis] - xg)**2)\n",
    "\n",
    "# this is used for converting the Gaussian basis coefficients\n",
    "# to real space values\n",
    "gmatplot = np.exp(-minalpha * (xvec[:,np.newaxis] - xg)**2)\n",
    "\n",
    "# this computes the Gaussian basis coefficients\n",
    "# of the true potential\n",
    "# We use gmat and v(xg) here because we need\n",
    "# both of them to be square matrices\n",
    "cfftrue = nl.inv(gmat) @ v(xg, choice=vchoice)\n",
    "\n",
    "# reconstruct the potential from the Gaussian basis coefficents\n",
    "vrecontrue = gmatplot @ cfftrue\n",
    "\n",
    "# plot real potential vs. reconstructed potential\n",
    "plt.plot(xvec, vrecontrue, '2-r', label='Reconstructed')\n",
    "plt.plot(xvec, vtrue, label='True')\n",
    "plt.title('True and Reconstructed Potentials')\n",
    "plt.xlabel('x')\n",
    "plt.legend()\n",
    "plt.show()\n",
    "\n",
    "print('Relative Norm Difference:', nl.norm(vrecontrue - vtrue) / nl.norm(vtrue))"
   ],
   "metadata": {
    "collapsed": false,
    "pycharm": {
     "name": "#%%\n"
    }
   }
  },
  {
   "cell_type": "markdown",
   "id": "16cbba2b-8601-4a7a-a1b2-48f2ff60b96d",
   "metadata": {},
   "source": [
    "---\n",
    "**Functions for Propagating System Given Some amat**"
   ]
  },
  {
   "cell_type": "code",
   "execution_count": 16,
   "id": "7b241039-f314-4730-9423-644b4d59fac0",
   "metadata": {},
   "outputs": [],
   "source": [
    "# number of elements for toeplitz representation\n",
    "m = 2*nfb + 1\n",
    "\n",
    "# set the time step size for propagating\n",
    "dt = 0.01\n",
    "\n",
    "# set the number of steps to propagate \"a\" vector in time\n",
    "nt = 200"
   ]
  },
  {
   "cell_type": "code",
   "execution_count": 29,
   "outputs": [
    {
     "ename": "ValueError",
     "evalue": "could not broadcast input array from shape (257,257) into shape (128,128)",
     "output_type": "error",
     "traceback": [
      "\u001B[0;31m---------------------------------------------------------------------------\u001B[0m",
      "\u001B[0;31mValueError\u001B[0m                                Traceback (most recent call last)",
      "Input \u001B[0;32mIn [29]\u001B[0m, in \u001B[0;36m<module>\u001B[0;34m\u001B[0m\n\u001B[0;32m----> 1\u001B[0m \u001B[43mgvmat\u001B[49m\u001B[43m(\u001B[49m\u001B[43mnp\u001B[49m\u001B[38;5;241;43m.\u001B[39;49m\u001B[43mtile\u001B[49m\u001B[43m(\u001B[49m\u001B[43mcfftrue\u001B[49m\u001B[43m,\u001B[49m\u001B[43m \u001B[49m\u001B[43m(\u001B[49m\u001B[43mnt\u001B[49m\u001B[43m,\u001B[49m\u001B[43m \u001B[49m\u001B[38;5;241;43m1\u001B[39;49m\u001B[43m)\u001B[49m\u001B[43m)\u001B[49m\u001B[43m)\u001B[49m\n",
      "Input \u001B[0;32mIn [20]\u001B[0m, in \u001B[0;36mgvmat\u001B[0;34m(cff)\u001B[0m\n\u001B[1;32m     27\u001B[0m         thiscolumn \u001B[38;5;241m=\u001B[39m gvmatcnst \u001B[38;5;241m@\u001B[39m cplxcff[i]\n\u001B[1;32m     28\u001B[0m         thisrow \u001B[38;5;241m=\u001B[39m thiscolumn\u001B[38;5;241m.\u001B[39mconj()\n\u001B[0;32m---> 29\u001B[0m         rtn[i] \u001B[38;5;241m=\u001B[39m toeplitz(r\u001B[38;5;241m=\u001B[39mthisrow, c\u001B[38;5;241m=\u001B[39mthiscolumn)\n\u001B[1;32m     30\u001B[0m     \u001B[38;5;28;01mreturn\u001B[39;00m rtn\n\u001B[1;32m     31\u001B[0m \u001B[38;5;28;01melse\u001B[39;00m:\n\u001B[1;32m     32\u001B[0m     \u001B[38;5;66;03m# error\u001B[39;00m\n",
      "\u001B[0;31mValueError\u001B[0m: could not broadcast input array from shape (257,257) into shape (128,128)"
     ]
    }
   ],
   "source": [
    "gvmat(np.tile(cfftrue, (nt, 1)))"
   ],
   "metadata": {
    "collapsed": false,
    "pycharm": {
     "name": "#%%\n"
    }
   }
  },
  {
   "cell_type": "code",
   "execution_count": null,
   "outputs": [],
   "source": [
    "\n",
    "# construct kinetic matrix\n",
    "# this is constant for a given system\n",
    "kmat = np.diag(np.arange(-nfb,nfb+1) ** 2 * np.pi ** 2 / (2 * radius ** 2))\n",
    "\n",
    "@njit\n",
    "def propa(cff, initacff, timependcff=np.zeros(ng, dtype=float)):\n",
    "    # form static potential matrix from Gaussian coefficients\n",
    "    vmatstatcff = gvmat(cff)\n",
    "\n",
    "    # form time-dependent potential matrix from time-dependent\n",
    "    # Gaussian coefficients (will be a an nt by ng matrix)\n",
    "\n",
    "    # construct Hamiltonian matrix (in Fourier basis)\n",
    "    hmatcff = kmat + vmatstatcff\n",
    "\n",
    "    # diagonalize the Hamiltonian matrix (eigendecomposition)\n",
    "    speccff, statescff = np.linalg.eigh(hmatcff)\n",
    "\n",
    "    # form the propagator matrices\n",
    "    propamat = statescff @ np.diag(np.exp(-1j*speccff*dt)) @ np.conj(statescff.T)\n",
    "    proplammat = statescff @ np.diag(np.exp(1j*speccff*dt)) @ np.conj(statescff.T)\n",
    "\n",
    "    # propagate the a vector, i.e., solve the *forward* problem\n",
    "    amatcff = np.zeros((nt+1, 2*nfb+1), dtype=np.complex128)\n",
    "    amatcff[0,:] = np.copy(initacff)\n",
    "    for j in range(nt):\n",
    "        amatcff[j+1,:] = propamat @ amatcff[j,:]\n",
    "\n",
    "    return speccff, statescff, amatcff, proplammat"
   ],
   "metadata": {
    "collapsed": false,
    "pycharm": {
     "name": "#%%\n"
    }
   }
  },
  {
   "cell_type": "code",
   "execution_count": 43,
   "id": "b661ff6b-7318-4f44-b719-e976dc0efeaa",
   "metadata": {},
   "outputs": [],
   "source": [
    "# this code propagates the lambda vector backward in time,\n",
    "# i.e., solve the *adjoint* problem\n",
    "\n",
    "@njit\n",
    "def proplam(amatcff, thisamattrue, proplammat):\n",
    "    lambmat = np.zeros((nt+1, 2*nfb+1), dtype=np.complex128)\n",
    "    lambmat[nt,:] = amatcff[nt,:] - thisamattrue[nt, :]\n",
    "\n",
    "    for j in range(nt-1,0,-1):\n",
    "        lambmat[j,:] = amatcff[j,:] - thisamattrue[j, :] + proplammat @ lambmat[j + 1, :]\n",
    "    \n",
    "    return lambmat"
   ]
  },
  {
   "cell_type": "markdown",
   "id": "ea5d0825-5cf4-43d5-8057-fd47faae27e3",
   "metadata": {},
   "source": [
    "---\n",
    "**Compute True amat**"
   ]
  },
  {
   "cell_type": "code",
   "execution_count": 44,
   "id": "d5073758-84d9-4e3a-962c-100ae3a9ccf0",
   "metadata": {
    "tags": []
   },
   "outputs": [
    {
     "name": "stdout",
     "output_type": "stream",
     "text": [
      "1.0049999987336191\n"
     ]
    }
   ],
   "source": [
    "# this code propagates ainit using hmattrue produce amattrue\n",
    "\n",
    "spectrue, statestrue, amattrue, _ = propa(cfftrue, ainit)\n",
    "\n",
    "# transform amat to real space\n",
    "psimattrue = amattrue @ convmat\n",
    "\n",
    "# check if psimattrue is normalized for every time step\n",
    "# this should return something close to 1\n",
    "print( np.sum( np.sqrt( np.sum( np.abs(amattrue) ** 2, axis=1) ) )/nt )"
   ]
  },
  {
   "cell_type": "markdown",
   "id": "ca9676e3-7c4f-4701-8280-2999afd053d5",
   "metadata": {},
   "source": [
    "**Adjoint Method Code**"
   ]
  },
  {
   "cell_type": "code",
   "execution_count": 45,
   "id": "68e125d3-2317-42db-958e-235c1a66fb56",
   "metadata": {},
   "outputs": [],
   "source": [
    "# this code computes the Lagrangian the input cff here\n",
    "# is the vector of modeling parameters\n",
    "\n",
    "def justlag(cffprdt):\n",
    "    global glbspecprdt, glbstatesprdt, glbamatprdt, glblambmat\n",
    "    global glbproplammat\n",
    "    \n",
    "    # propagate ainit with cffprdt\n",
    "    glbspecprdt, glbstatesprdt, glbamatprdt, glbproplammat = propa(cffprdt, ainit)\n",
    "    \n",
    "    # propagate lambmat with glbamatprdt\n",
    "    glblambmat = proplam(glbamatprdt, amattrue, glbproplammat)\n",
    "    \n",
    "    # compute Lagrangian\n",
    "    resid = glbamatprdt - amattrue\n",
    "    lag = 0.5 * np.real( np.sum( np.conj(resid) * resid ) )\n",
    "    \n",
    "    print('Lagrangian:', lag, end='\\r')\n",
    "    return lag\n",
    "    "
   ]
  },
  {
   "cell_type": "code",
   "execution_count": 46,
   "id": "bd42af42-3827-4981-85a6-604257cd5657",
   "metadata": {},
   "outputs": [],
   "source": [
    "# compute the gradients\n",
    "# the input x is the vector of modeling parameters (theta or thetahat)\n",
    "\n",
    "@njit\n",
    "def gradhelp(specprdt, statesprdt):\n",
    "    alldmat = np.zeros((ng, m, m), dtype=np.complex128)\n",
    "    expspec = np.exp(-1j*dt*specprdt)\n",
    "    mask = np.zeros((m,m), dtype=np.complex128)\n",
    "\n",
    "    for ii in range(m):\n",
    "        for jj in range(m):\n",
    "            if np.abs(specprdt[ii] - specprdt[jj]) < 1e-8:\n",
    "                mask[ii,ii] = expspec[ii]\n",
    "            else:\n",
    "                mask[ii,jj] = (expspec[ii] - expspec[jj])/(-1j*dt*(specprdt[ii]-specprdt[jj]))\n",
    "    \n",
    "    for iii in range(ng):\n",
    "        thisA = statesprdt.conj().T @ gradgvmat[iii] @ statesprdt\n",
    "        qmat = thisA * mask\n",
    "        alldmat[iii,:,:] = -1j*dt* statesprdt @ qmat @ statesprdt.conj().T\n",
    "\n",
    "    return alldmat\n",
    "        \n",
    "def justgrad(_):\n",
    "    global glbspecprdt, glbstatesprdt, glbamatprdt, glblambmat\n",
    "    global glballdmat\n",
    "    \n",
    "    # compute alldmat\n",
    "    glballdmat = gradhelp(glbspecprdt, glbstatesprdt)\n",
    "\n",
    "    # compute all entries of the gradient at once\n",
    "    gradients = np.real(np.einsum('ij,ajk,ik->a', np.conj(glblambmat[1:,:]), glballdmat, glbamatprdt[:-1,:]))\n",
    "\n",
    "    return gradients"
   ]
  },
  {
   "cell_type": "markdown",
   "id": "ebb47a33-2c96-4dd9-90c2-728fa48a8946",
   "metadata": {},
   "source": [
    "**Check Functions Using True $\\theta$**"
   ]
  },
  {
   "cell_type": "code",
   "execution_count": 47,
   "id": "d87d14d5-edbe-4c21-8e65-966f20a35928",
   "metadata": {},
   "outputs": [
    {
     "name": "stdout",
     "output_type": "stream",
     "text": [
      "Lagrangian: 0.0\r\n",
      " 0.0\n",
      "[0. 0. 0. 0. 0. 0. 0. 0. 0. 0. 0. 0. 0. 0. 0. 0.]\n"
     ]
    }
   ],
   "source": [
    "# check if the Lagrangian of the true theta, xtrue, gives 0\n",
    "# justlag(xtrue)\n",
    "print('\\n', justlag(cfftrue))\n",
    "\n",
    "# check if the gradient of the Lagrangian is zero for the true theta, xtrue\n",
    "print(justgrad(None))"
   ]
  },
  {
   "cell_type": "markdown",
   "id": "1acb43f0-da6f-41ba-926d-f9f95be48c76",
   "metadata": {},
   "source": [
    "---\n",
    "**Initialize theta with uniform random values**"
   ]
  },
  {
   "cell_type": "code",
   "execution_count": 48,
   "id": "bb6340cf-8dbb-475b-b26a-1173cccb0ec6",
   "metadata": {},
   "outputs": [],
   "source": [
    "# uniform random values from the interval [-0.5, 0.5]\n",
    "# this should be difficult for the optimizer to find a good minimum\n",
    "\n",
    "cffform = np.random.uniform(size=cfftrue.shape) - 0.5"
   ]
  },
  {
   "cell_type": "code",
   "execution_count": 49,
   "id": "42b8d38b-58a4-4ccc-9a0c-01753e17bec4",
   "metadata": {},
   "outputs": [
    {
     "name": "stdout",
     "output_type": "stream",
     "text": [
      "Optimization terminated successfully.\n",
      "         Current function value: 0.000000\n",
      "         Iterations: 84\n",
      "         Function evaluations: 87\n",
      "         Gradient evaluations: 87\n"
     ]
    }
   ],
   "source": [
    "# minimize to find predicted theta\n",
    "\n",
    "resform = so.minimize(justlag, cffform, jac=justgrad, method='BFGS',\n",
    "                      options={'disp': True, 'maxiter': 100, }).x"
   ]
  },
  {
   "cell_type": "code",
   "execution_count": 50,
   "id": "14215909-7713-441e-b657-a9f29fb1d7e1",
   "metadata": {
    "tags": []
   },
   "outputs": [
    {
     "name": "stdout",
     "output_type": "stream",
     "text": [
      "Lagrangian for theta:  4.4075788936030834e-07\n",
      "Norm difference theta:  0.5022603624362898\n",
      "Prediction vs. Truth:  6.427603529775814\n",
      "Prediction vs. Training:  2.5713534945803955\n"
     ]
    },
    {
     "data": {
      "text/plain": "<Figure size 432x288 with 1 Axes>",
      "image/png": "[encoded data removed]"
     },
     "metadata": {
      "needs_background": "light"
     },
     "output_type": "display_data"
    }
   ],
   "source": [
    "# results\n",
    "\n",
    "# print value of Lagrangian for predicted theta\n",
    "print('Lagrangian for theta: ', justlag(resform))\n",
    "\n",
    "# check how close predicted theta are to true theta\n",
    "print('Norm difference theta: ', nl.norm(resform - cfftrue))\n",
    "\n",
    "# use the machine learned theta to compute the predicted potential\n",
    "vformprdc = gmatplot @ resform\n",
    "\n",
    "# check how close the predicted potential is to the true potential\n",
    "print('Prediction vs. Truth: ', nl.norm(vtrue - vformprdc))\n",
    "\n",
    "# check how close the predicted potential is to the training data\n",
    "print('Prediction vs. Training: ', nl.norm(vrecontrue - vformprdc))\n",
    "\n",
    "# red = learned potential\n",
    "# blue = reconstructed potentila (training data)\n",
    "# black = true potential\n",
    "trim = 1\n",
    "plt.plot(xvec[trim:-trim], vformprdc[trim:-trim], color='red', label='Prediction')\n",
    "plt.plot(xvec[trim:-trim], vrecontrue[trim:-trim], color='blue', label='Prediction')\n",
    "plt.plot(xvec[trim:-trim], vtrue[trim:-trim], color='black', label='True')\n",
    "plt.xlabel('x')\n",
    "plt.ylabel('Magnitude of Potential')\n",
    "#plt.ylim(-100, 1000)\n",
    "plt.legend()\n",
    "plt.show()"
   ]
  },
  {
   "cell_type": "markdown",
   "id": "0553535a-a8ef-4125-8b00-4c66a356a229",
   "metadata": {},
   "source": [
    "**Propagate System with Predicted Potential**"
   ]
  },
  {
   "cell_type": "code",
   "execution_count": 30,
   "id": "b66c6666-a1e5-41a2-a1f1-e2cd2bca046a",
   "metadata": {},
   "outputs": [
    {
     "name": "stdout",
     "output_type": "stream",
     "text": [
      "Element difference:\n",
      " [-0.00015448+0.00502113j  0.00904575+0.00404902j  0.01780947+0.00280006j\n",
      " ... -0.01746236+0.00663043j -0.0091857 +0.00584j\n",
      " -0.00015448+0.00502113j]\n",
      "Norm of difference: 1.1453485883162655\n"
     ]
    },
    {
     "data": {
      "image/png": "[encoded data removed]",
      "text/plain": [
       "<Figure size 432x288 with 1 Axes>"
      ]
     },
     "metadata": {
      "needs_background": "light"
     },
     "output_type": "display_data"
    },
    {
     "data": {
      "image/png": "[encoded data removed]",
      "text/plain": [
       "<Figure size 432x288 with 1 Axes>"
      ]
     },
     "metadata": {
      "needs_background": "light"
     },
     "output_type": "display_data"
    },
    {
     "data": {
      "image/png": "[encoded data removed]",
      "text/plain": [
       "<Figure size 432x288 with 1 Axes>"
      ]
     },
     "metadata": {
      "needs_background": "light"
     },
     "output_type": "display_data"
    }
   ],
   "source": [
    "# propagate ainit using the predicted theta\n",
    "_, _, amatform, _ = propa(resform.x, ainit)\n",
    "    \n",
    "# transform amat to real space\n",
    "psimatform = amatform @ convmat\n",
    "\n",
    "print('Element difference:\\n', psimatform[-1] - psimattrue[-1])\n",
    "print('Norm of difference:', nl.norm(psimatform - psimattrue))\n",
    "\n",
    "plt.plot(xvec, psimattrue[-1].real, 'k.-', label='True')\n",
    "plt.plot(xvec, psimatform[-1].real, 'r', label='Predicted')\n",
    "plt.legend()\n",
    "plt.title('Real Part of Final State')\n",
    "plt.xlabel('x')\n",
    "plt.show()\n",
    "\n",
    "plt.plot(xvec, psimattrue[-1].imag, 'k.', label='True')\n",
    "plt.plot(xvec, psimatform[-1].imag, 'r', label='Predicted')\n",
    "plt.legend()\n",
    "plt.title('Imaginary Part of Final State')\n",
    "plt.xlabel('x')\n",
    "plt.show()\n",
    "\n",
    "plt.plot(xvec, np.abs(psimattrue[-1])**2, 'k.', label='True')\n",
    "plt.plot(xvec, np.abs(psimatform[-1])**2, 'r', label='Predicted')\n",
    "plt.legend()\n",
    "plt.title('Probability Density of Final State')\n",
    "plt.xlabel('x')\n",
    "plt.ylabel('Probability')\n",
    "plt.show()"
   ]
  },
  {
   "cell_type": "code",
   "execution_count": null,
   "id": "5d1225d4-4514-4475-9ba9-a01542bd30b6",
   "metadata": {},
   "outputs": [],
   "source": []
  }
 ],
 "metadata": {
  "kernelspec": {
   "display_name": "Python 3 (ipykernel)",
   "language": "python",
   "name": "python3"
  },
  "language_info": {
   "codemirror_mode": {
    "name": "ipython",
    "version": 3
   },
   "file_extension": ".py",
   "mimetype": "text/x-python",
   "name": "python",
   "nbconvert_exporter": "python",
   "pygments_lexer": "ipython3",
   "version": "3.9.9"
  }
 },
 "nbformat": 4,
 "nbformat_minor": 5
}