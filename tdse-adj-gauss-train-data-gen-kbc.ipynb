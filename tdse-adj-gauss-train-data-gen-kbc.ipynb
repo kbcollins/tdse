{
 "cells": [
  {
   "cell_type": "markdown",
   "source": [
    "The output of this should be an amat matrix (i.e., a matrix collecting value of the a vector from the initial $a_0$ state to $a_N$ state, where $N$ is the number of time steps)\n",
    "\n",
    "This goal is equal to solving the forward TDSE problem given some initial state $\\psi_0$ and some potential $v(x, t)$."
   ],
   "metadata": {
    "collapsed": false,
    "pycharm": {
     "name": "#%% md\n"
    }
   }
  },
  {
   "cell_type": "code",
   "execution_count": 1,
   "metadata": {
    "collapsed": true
   },
   "outputs": [],
   "source": [
    "import numpy as np\n",
    "import numpy.linalg as nl\n",
    "import scipy.linalg as sl\n",
    "import scipy.optimize as so\n",
    "import scipy.integrate as si\n",
    "import matplotlib.pyplot as plt\n",
    "from numba import njit"
   ]
  },
  {
   "cell_type": "code",
   "execution_count": 2,
   "outputs": [],
   "source": [
    "@njit\n",
    "def toeplitz(r, c):\n",
    "    c = np.asarray(c).ravel()\n",
    "    r = np.asarray(r).ravel()\n",
    "    # Form a 1-D array containing a reversed c followed by r[1:]\n",
    "    # that can be strided to give us toeplitz matrix.\n",
    "    vals = np.concatenate((c[::-1], r[1:]))\n",
    "    out_shp = len(c), len(r)\n",
    "    n = vals.strides[0]\n",
    "    return np.lib.stride_tricks.as_strided(vals[len(c)-1:], shape=out_shp, strides=(-n, n)).copy()"
   ],
   "metadata": {
    "collapsed": false,
    "pycharm": {
     "name": "#%%\n"
    }
   }
  },
  {
   "cell_type": "code",
   "execution_count": 3,
   "outputs": [],
   "source": [
    "# set up computational parameters (such as computational region)\n",
    "\n",
    "# set radius of spatial domain\n",
    "l = 16\n",
    "\n",
    "# set real space grid, used for plotting\n",
    "# this has to be even for the comparison of\n",
    "# of methods for converting the true potential to\n",
    "# the Fourier basis to work.\n",
    "nx = 1024\n",
    "\n",
    "# dx is needed to perform norm check of training data\n",
    "xvec, dx = np.linspace(-l, l, nx, retstep=True)\n",
    "\n",
    "# set number of Fourier basis\n",
    "nF = 128\n",
    "\n",
    "# matrix for converting Fourier basis coefficients to real space values\n",
    "nvec = np.arange(-nF, nF+1) # nvec=-nfb,...,0,...,nfb\n",
    "Fmat = (1 / np.sqrt(2 * l)) * np.exp(1j * np.pi * np.outer(nvec, xvec) / l)"
   ],
   "metadata": {
    "collapsed": false,
    "pycharm": {
     "name": "#%%\n"
    }
   }
  },
  {
   "cell_type": "code",
   "execution_count": 4,
   "outputs": [
    {
     "data": {
      "text/plain": "<Figure size 432x288 with 1 Axes>",
      "image/png": "[encoded data removed]"
     },
     "metadata": {
      "needs_background": "light"
     },
     "output_type": "display_data"
    }
   ],
   "source": [
    "# define potential used to evolve the system\n",
    "\n",
    "def v(x):\n",
    "    # dimensionless quantum harmonic oscillator potential\n",
    "    # return 0.5 * x**2\n",
    "    # rescaled symmetric double well potential\n",
    "    # return 0.0025*(x**2 - 25)**2\n",
    "    # scaled asymmetric double well potential\n",
    "    return 0.0003*((x-3)**4 + 10*(x-5)**3)\n",
    "    # soft coulomb potential\n",
    "    # return -1 / np.sqrt(x**2 + 0.25)\n",
    "\n",
    "# compute true potential at xvec real space grid points\n",
    "vtruvec = v(xvec)\n",
    "\n",
    "# plot true potential\n",
    "plt.plot(xvec, vtruvec)\n",
    "plt.title('Plot of True Potential')\n",
    "plt.xlabel('x')\n",
    "plt.show()"
   ],
   "metadata": {
    "collapsed": false,
    "pycharm": {
     "name": "#%%\n"
    }
   }
  },
  {
   "cell_type": "code",
   "execution_count": 11,
   "outputs": [
    {
     "data": {
      "text/plain": "<Figure size 432x288 with 1 Axes>",
      "image/png": "[encoded data removed]"
     },
     "metadata": {
      "needs_background": "light"
     },
     "output_type": "display_data"
    },
    {
     "name": "stdout",
     "output_type": "stream",
     "text": [
      "Rel Norm Diff of Rec (should be close to zero):\n",
      "3.232809696826269e-16\n"
     ]
    }
   ],
   "source": [
    "# transform true potential to Fourier basis\n",
    "\n",
    "# Fres can be adjusted to improve the Fourier basis resolution\n",
    "# if we set Fres = 1, then Fsample = 2*nfb, which is the\n",
    "# Nyquist frequency\n",
    "# Fres = 100\n",
    "# Fsample = Fres * 2 * nF\n",
    "# Fxvec = np.linspace(-l, l, Fsample + 2)\n",
    "# Fvtruvec = np.fft.rfft(v(Fxvec), norm='forward')\n",
    "# Fvtruvecrec1 = np.fft.irfft(Fvtruvec, norm='forward')\n",
    "Fvvec = np.fft.rfft(vtruvec, norm='forward')\n",
    "Fvvecrec = np.fft.irfft(Fvvec, norm='forward')\n",
    "\n",
    "# plot potentials\n",
    "plt.plot(xvec, Fvvecrec, '-', label='FFT Rec')\n",
    "plt.plot(xvec, vtruvec, label='Truth')\n",
    "plt.title('True and Reconstructed Potentials')\n",
    "plt.xlabel('x')\n",
    "plt.legend()\n",
    "plt.show()\n",
    "\n",
    "print('Rel Norm Diff of Rec (should be close to zero):', nl.norm(vtruvec - Fvvecrec) / nl.norm(vtruvec), sep='\\n')\n",
    "\n",
    "# compute Fourier basis representation of potential\n",
    "# using a quadrature method\n",
    "# FFT method gives reconstructions with a RND on the\n",
    "# order of 1e-16, while the quadrature method is on\n",
    "# order of 1e-4, so the FFT is more accurate\n",
    "# def vintegrand(x):\n",
    "#     return v(x) * np.exp(-1j * np.pi * nvec * x / l) / np.sqrt(2 * l)\n",
    "# vquadrtn = si.quad_vec(vintegrand, -l, l)[0]\n",
    "# print(vquadrtn.shape)\n",
    "# print(Fmat.shape)\n",
    "# Fvtruvecrec2 = vquadrtn @ Fmat\n",
    "\n",
    "# plot potentials\n",
    "# plt.plot(Fxvec, Fvtruvecrec1, '-', label='FFT')\n",
    "# plt.plot(xvec, Fvtruvecrec2.real, '-', label='quad real')\n",
    "# plt.plot(xvec, Fvtruvecrec2.imag, '-', label='quad imag')\n",
    "# plt.plot(xvec, vtruvec, label='Truth')\n",
    "# plt.title('True and Reconstructed Fourier Basis Potentials')\n",
    "# plt.xlabel('x')\n",
    "# plt.legend()\n",
    "# plt.show()\n",
    "\n",
    "# print('Rel Norm Diff FFT:', nl.norm(vtruvec - Fvtruvecrec1) / nl.norm(vtruvec))\n",
    "# print('Rel Norm Diff quad:', nl.norm(vtruvec - Fvtruvecrec2) / nl.norm(vtruvec))"
   ],
   "metadata": {
    "collapsed": false,
    "pycharm": {
     "name": "#%%\n"
    }
   }
  },
  {
   "cell_type": "code",
   "execution_count": 20,
   "outputs": [
    {
     "data": {
      "text/plain": "<Figure size 432x288 with 1 Axes>",
      "image/png": "[encoded data removed]"
     },
     "metadata": {
      "needs_background": "light"
     },
     "output_type": "display_data"
    },
    {
     "name": "stdout",
     "output_type": "stream",
     "text": [
      "Rel Norm Diff FFT: 2.756158104341385e-16\n"
     ]
    }
   ],
   "source": [
    "# define initial state and transform to Fourier basis\n",
    "\n",
    "def psi0(x):\n",
    "    # rounded box function\n",
    "    return 1.0 + np.tanh((1 - x**2)/0.5)\n",
    "    # triangular pulse\n",
    "    # return np.piecewise(x, [x < -1, (x >= -1) & (x <= 1), x > 1], [0, lambda x: (1 - np.abs(x)), 0])\n",
    "    # parabolic pulse\n",
    "    # return np.piecewise(x, [x < -1, (x >= -1) & (x <= 1), x > 1], [0, lambda x: (1 - x**2), 0])\n",
    "    # hyperbolic secant squared\n",
    "    # return (np.cosh(x))**(-2)\n",
    "    # Laplace\n",
    "    # return np.exp(-np.abs(x))\n",
    "\n",
    "def mknormpsifn(psifn):\n",
    "    # compute psi normalization term,\n",
    "    # this is a constant given some psi\n",
    "    psiprobintegrand = lambda x: np.abs(psifn(x))**2\n",
    "    normterm = np.sqrt(si.quad(psiprobintegrand, a=-l, b=l)[0])\n",
    "\n",
    "    # define function for computing normalized psi\n",
    "    # via scipy.integrate methods\n",
    "    def normpsifn(x):\n",
    "        return psifn(x)/normterm\n",
    "\n",
    "    return normpsifn\n",
    "\n",
    "normpsi0fn = mknormpsifn(psi0)\n",
    "\n",
    "# vector of the normalized psi0 function sampled on the\n",
    "# real space grid, \"Truth\"\n",
    "normpsi0truvec = normpsi0fn(xvec)\n",
    "\n",
    "# compute the Fourier basis representation of the\n",
    "# normalized psi0 function using FFT method\n",
    "Fnormpsi0vec = np.fft.rfft(normpsi0truvec, norm='forward')\n",
    "Fnormpsi0vecrec = np.fft.irfft(Fnormpsi0vec, norm='forward')\n",
    "# Fnormpsi0vecrec1 = np.fft.irfft(Fnormpsi0vec, norm='forward')\n",
    "\n",
    "# plot the real port of the normalized psi0\n",
    "plt.plot(xvec, Fnormpsi0vecrec.real, 'r', label=\"FFT Rec\")\n",
    "plt.plot(xvec, normpsi0truvec.real, 'k', label=\"Truth\")\n",
    "plt.title('Real Part of Initial Wave Function')\n",
    "plt.xlabel('x')\n",
    "plt.legend()\n",
    "plt.show()\n",
    "\n",
    "print('Rel Norm Diff FFT:', nl.norm(normpsi0truvec - Fnormpsi0vecrec) / nl.norm(normpsi0truvec))\n",
    "\n",
    "# compute the Fourier basis representation of the\n",
    "# normalized psi0 function using a scipy.integrate method\n",
    "# this method produced a reconstruction who's relative\n",
    "# norm difference ranged from 1e-2 to 1e-11.\n",
    "# The FFT method on the other hand was always of the\n",
    "# order 1e-16, so that is the method I will use\n",
    "# normpsi0integrand = lambda x: np.exp(-1j * np.pi * nvec * x / l) / np.sqrt(2 * l) * normpsi0fn(x)\n",
    "# normpsi0quadrtn = si.quad_vec(normpsi0integrand, -l, l)[0]\n",
    "# print(normpsi0quadrtn.shape)\n",
    "# print(Fmat.shape)\n",
    "# Fnormpsi0vecrec2 = normpsi0quadrtn @ Fmat\n",
    "\n",
    "# plot the real port of the normalized psi0\n",
    "# plt.plot(xvec, Fnormpsi0vecrec1.real, 'r', label=\"Quad Rec\")\n",
    "# plt.plot(xvec, Fnormpsi0vecrec2.real, 'b', label=\"FFT Rec\")\n",
    "# plt.plot(xvec, normpsi0truvec.real, 'k', label=\"Truth\")\n",
    "# plt.title('Real Part of Initial Wave Function')\n",
    "# plt.xlabel('x')\n",
    "# plt.legend()\n",
    "# plt.show()\n",
    "\n",
    "# print('Rel Norm Diff FFT:', nl.norm(normpsi0truvec - Fnormpsi0vecrec1) / nl.norm(normpsi0truvec))\n",
    "# print('Rel Norm Diff quad:', nl.norm(normpsi0truvec - Fnormpsi0vecrec2) / nl.norm(normpsi0truvec))"
   ],
   "metadata": {
    "collapsed": false,
    "pycharm": {
     "name": "#%%\n"
    }
   }
  },
  {
   "cell_type": "code",
   "execution_count": null,
   "outputs": [],
   "source": [
    "# solve the forward problem and generate amat"
   ],
   "metadata": {
    "collapsed": false,
    "pycharm": {
     "name": "#%%\n"
    }
   }
  },
  {
   "cell_type": "code",
   "execution_count": null,
   "outputs": [],
   "source": [
    "# store computed amat to disk"
   ],
   "metadata": {
    "collapsed": false,
    "pycharm": {
     "name": "#%%\n"
    }
   }
  }
 ],
 "metadata": {
  "kernelspec": {
   "display_name": "Python 3",
   "language": "python",
   "name": "python3"
  },
  "language_info": {
   "codemirror_mode": {
    "name": "ipython",
    "version": 2
   },
   "file_extension": ".py",
   "mimetype": "text/x-python",
   "name": "python",
   "nbconvert_exporter": "python",
   "pygments_lexer": "ipython2",
   "version": "2.7.6"
  }
 },
 "nbformat": 4,
 "nbformat_minor": 0
}