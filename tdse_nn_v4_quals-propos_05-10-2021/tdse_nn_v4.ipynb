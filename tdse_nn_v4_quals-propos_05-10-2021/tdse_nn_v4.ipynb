{
 "cells": [
  {
   "cell_type": "code",
   "execution_count": 39,
   "id": "sacred-chassis",
   "metadata": {},
   "outputs": [],
   "source": [
    "import numpy\n",
    "import matplotlib # for exporting graphs\n",
    "matplotlib.use('Agg') # for exporting graphs\n",
    "import matplotlib.pyplot as pyplot\n",
    "from tensorflow import keras\n",
    "from TrainingDataGeneratorV3 import training_data_generator\n",
    "\n",
    "fig_size = (2*6.4, 2*4.8)"
   ]
  },
  {
   "cell_type": "code",
   "execution_count": 2,
   "id": "frozen-procurement",
   "metadata": {},
   "outputs": [
    {
     "name": "stdout",
     "output_type": "stream",
     "text": [
      "Building training data, 15 samples:\n",
      ">>> Generating random initial wavefunctions\n",
      ">>> Success 0.003092050552368164\n",
      ">>> Generating random potentials\n",
      "(5, 1024)\n",
      ">>> Success 0.0009410381317138672\n",
      ">>> Solving pseudo-spectral ODE...\n",
      "    0 of 15, Batch time: 3.814697265625e-06\n",
      "    10 of 15, Batch time: 28.692018270492554\n",
      "    0 of 15, Batch time: 13.445857048034668\n",
      "    10 of 15, Batch time: 27.650409936904907\n",
      "    0 of 15, Batch time: 13.604524850845337\n",
      "    10 of 15, Batch time: 28.828989028930664\n",
      "    0 of 15, Batch time: 14.23098611831665\n",
      "    10 of 15, Batch time: 27.590330839157104\n",
      "    0 of 15, Batch time: 13.448508262634277\n",
      "    10 of 15, Batch time: 27.11696171760559\n",
      ">>> Success 208.320650100708\n",
      "Total elapse time: 208.76601433753967\n"
     ]
    }
   ],
   "source": [
    "train_data, test_data, time_steps, space_steps = training_data_generator(\n",
    "    num_samples=15, # FOR A TRAIN/TEST SPLIT OF 0.2 5 IS THE MIN FOR 1 TEST SAMPLE\n",
    "    num_potentials=5,\n",
    "    test_set_rnd_seed=0)"
   ]
  },
  {
   "cell_type": "code",
   "execution_count": 3,
   "id": "designing-egyptian",
   "metadata": {},
   "outputs": [
    {
     "name": "stdout",
     "output_type": "stream",
     "text": [
      "(5, 12, 500, 1024)\n",
      "(60, 500, 1024)\n",
      "(5, 12, 500, 1024)\n",
      "(60, 500, 1024)\n"
     ]
    }
   ],
   "source": [
    "print(train_data['input'].shape)\n",
    "#train_data_input = train_data['input'].reshape(500, train_data['input'].shape[0]*train_data['input'].shape[1]*1024)\n",
    "train_data_input = train_data['input'].reshape(train_data['input'].shape[0]*train_data['input'].shape[1], 500, 1024)\n",
    "print(train_data_input.shape)\n",
    "\n",
    "print(train_data['output'].shape)\n",
    "train_data_output = train_data['output'].reshape(train_data['output'].shape[0]*train_data['output'].shape[1], 500, 1024)\n",
    "print(train_data_output.shape)"
   ]
  },
  {
   "cell_type": "code",
   "execution_count": 4,
   "id": "tender-profit",
   "metadata": {},
   "outputs": [
    {
     "name": "stdout",
     "output_type": "stream",
     "text": [
      "Epoch 1/50\n",
      "10/10 [==============================] - 5s 510ms/step - loss: 0.0497 - val_loss: 0.0533\n",
      "Epoch 2/50\n",
      "10/10 [==============================] - 5s 448ms/step - loss: 0.0285 - val_loss: 0.0310\n",
      "Epoch 3/50\n",
      "10/10 [==============================] - 5s 451ms/step - loss: 0.0229 - val_loss: 0.0226\n",
      "Epoch 4/50\n",
      "10/10 [==============================] - 4s 448ms/step - loss: 0.0200 - val_loss: 0.0183\n",
      "Epoch 5/50\n",
      "10/10 [==============================] - 4s 446ms/step - loss: 0.0171 - val_loss: 0.0158\n",
      "Epoch 6/50\n",
      "10/10 [==============================] - 5s 453ms/step - loss: 0.0173 - val_loss: 0.0162\n",
      "Epoch 7/50\n",
      "10/10 [==============================] - 5s 453ms/step - loss: 0.0159 - val_loss: 0.0151\n",
      "Epoch 8/50\n",
      "10/10 [==============================] - 4s 446ms/step - loss: 0.0153 - val_loss: 0.0153\n",
      "Epoch 9/50\n",
      "10/10 [==============================] - 5s 455ms/step - loss: 0.0158 - val_loss: 0.0142\n",
      "Epoch 10/50\n",
      "10/10 [==============================] - 5s 455ms/step - loss: 0.0151 - val_loss: 0.0138\n",
      "Epoch 11/50\n",
      "10/10 [==============================] - 5s 478ms/step - loss: 0.0164 - val_loss: 0.0151\n",
      "Epoch 12/50\n",
      "10/10 [==============================] - 5s 490ms/step - loss: 0.0147 - val_loss: 0.0148\n",
      "Epoch 13/50\n",
      "10/10 [==============================] - 5s 457ms/step - loss: 0.0143 - val_loss: 0.0149\n",
      "Epoch 14/50\n",
      "10/10 [==============================] - 4s 446ms/step - loss: 0.0151 - val_loss: 0.0149\n",
      "Epoch 15/50\n",
      "10/10 [==============================] - 4s 442ms/step - loss: 0.0154 - val_loss: 0.0148\n",
      "Epoch 16/50\n",
      "10/10 [==============================] - 4s 445ms/step - loss: 0.0157 - val_loss: 0.0149\n",
      "Epoch 17/50\n",
      "10/10 [==============================] - 5s 452ms/step - loss: 0.0149 - val_loss: 0.0138\n",
      "Epoch 18/50\n",
      "10/10 [==============================] - 5s 452ms/step - loss: 0.0142 - val_loss: 0.0156\n",
      "Epoch 19/50\n",
      "10/10 [==============================] - 5s 455ms/step - loss: 0.0149 - val_loss: 0.0149\n",
      "Epoch 20/50\n",
      "10/10 [==============================] - 5s 452ms/step - loss: 0.0139 - val_loss: 0.0170\n",
      "Epoch 21/50\n",
      "10/10 [==============================] - 5s 457ms/step - loss: 0.0150 - val_loss: 0.0156\n",
      "Epoch 22/50\n",
      "10/10 [==============================] - 5s 453ms/step - loss: 0.0147 - val_loss: 0.0158\n",
      "Epoch 23/50\n",
      "10/10 [==============================] - 5s 454ms/step - loss: 0.0160 - val_loss: 0.0172\n",
      "Epoch 24/50\n",
      "10/10 [==============================] - 5s 451ms/step - loss: 0.0150 - val_loss: 0.0157\n",
      "Epoch 25/50\n",
      "10/10 [==============================] - 5s 453ms/step - loss: 0.0162 - val_loss: 0.0147\n",
      "Epoch 26/50\n",
      "10/10 [==============================] - 5s 453ms/step - loss: 0.0153 - val_loss: 0.0144\n",
      "Epoch 27/50\n",
      "10/10 [==============================] - 5s 454ms/step - loss: 0.0158 - val_loss: 0.0159\n",
      "Epoch 28/50\n",
      "10/10 [==============================] - 5s 453ms/step - loss: 0.0152 - val_loss: 0.0153\n",
      "Epoch 29/50\n",
      "10/10 [==============================] - 5s 455ms/step - loss: 0.0150 - val_loss: 0.0153\n",
      "Epoch 30/50\n",
      "10/10 [==============================] - 5s 459ms/step - loss: 0.0150 - val_loss: 0.0143\n",
      "Epoch 31/50\n",
      "10/10 [==============================] - 5s 451ms/step - loss: 0.0134 - val_loss: 0.0146\n",
      "Epoch 32/50\n",
      "10/10 [==============================] - 4s 443ms/step - loss: 0.0155 - val_loss: 0.0130\n",
      "Epoch 33/50\n",
      "10/10 [==============================] - 5s 452ms/step - loss: 0.0146 - val_loss: 0.0133\n",
      "Epoch 34/50\n",
      "10/10 [==============================] - 4s 450ms/step - loss: 0.0139 - val_loss: 0.0132\n",
      "Epoch 35/50\n",
      "10/10 [==============================] - 4s 450ms/step - loss: 0.0144 - val_loss: 0.0151\n",
      "Epoch 36/50\n",
      "10/10 [==============================] - 5s 463ms/step - loss: 0.0140 - val_loss: 0.0137\n",
      "Epoch 37/50\n",
      "10/10 [==============================] - 5s 457ms/step - loss: 0.0137 - val_loss: 0.0142\n",
      "Epoch 38/50\n",
      "10/10 [==============================] - 4s 449ms/step - loss: 0.0158 - val_loss: 0.0170\n",
      "Epoch 39/50\n",
      "10/10 [==============================] - 5s 452ms/step - loss: 0.0153 - val_loss: 0.0183\n",
      "Epoch 40/50\n",
      "10/10 [==============================] - 5s 464ms/step - loss: 0.0171 - val_loss: 0.0133\n",
      "Epoch 41/50\n",
      "10/10 [==============================] - 5s 452ms/step - loss: 0.0156 - val_loss: 0.0179\n",
      "Epoch 42/50\n",
      "10/10 [==============================] - 4s 444ms/step - loss: 0.0162 - val_loss: 0.0155\n",
      "Epoch 43/50\n",
      "10/10 [==============================] - 5s 460ms/step - loss: 0.0135 - val_loss: 0.0140\n",
      "Epoch 44/50\n",
      "10/10 [==============================] - 4s 447ms/step - loss: 0.0154 - val_loss: 0.0157\n",
      "Epoch 45/50\n",
      "10/10 [==============================] - 5s 454ms/step - loss: 0.0146 - val_loss: 0.0149\n",
      "Epoch 46/50\n",
      "10/10 [==============================] - 4s 450ms/step - loss: 0.0153 - val_loss: 0.0157\n",
      "Epoch 47/50\n",
      "10/10 [==============================] - 5s 450ms/step - loss: 0.0148 - val_loss: 0.0155\n",
      "Epoch 48/50\n",
      "10/10 [==============================] - 5s 452ms/step - loss: 0.0157 - val_loss: 0.0163\n",
      "Epoch 49/50\n",
      "10/10 [==============================] - 5s 453ms/step - loss: 0.0138 - val_loss: 0.0155\n",
      "Epoch 50/50\n",
      "10/10 [==============================] - 4s 443ms/step - loss: 0.0144 - val_loss: 0.0162\n"
     ]
    }
   ],
   "source": [
    "num_epochs = 50\n",
    "\n",
    "# WHAT IS THE FORM OF THE INPUT? IS IT COMPLEX?\n",
    "# IF YOU ARE USING COMPLEX VALUES, YOU NEED TO CONSIDER THINGS LIKE THE ACTIVATION FUNCTION\n",
    "# AND HOW IT HANDLES THINGS (FOR EXAMPLE GREATER/LESS THAN COMPARISON AREN'T DEFINED FOR COMPLEX NUMBERS)\n",
    "# IF IT IS COMPLEX, HOW IS THAT BEING HANDLED? WHAT IS GOING ON WITH YOUR METHOD UNDER THE HOOD?\n",
    "# NEED TO UNDERSTAND HOW THINGS ARE BEING HANDLED BY KERAS.\n",
    "\n",
    "# IF IT IS COMPLEX NUMBERS BEING FED INTO THE NETWORK, YOU ARE GETTING A REAL NUMBER BACK, OR IT'S GIVING\n",
    "# YOU A COMPLEX NUMBER BUT ALL OF YOUR TRAINING DATA IS REAL\n",
    "\n",
    "\n",
    "# create input nodes\n",
    "nn_input = keras.Input(shape=(500, 1024))\n",
    "\n",
    "# create hidden layers, connect graph nodes (construct graph structure)\n",
    "nn_output = keras.layers.Dense(units=2048, activation='elu')(nn_input)\n",
    "nn_output = keras.layers.Dense(units=2048, activation='elu')(nn_output)\n",
    "nn_output = keras.layers.Dense(1024)(nn_output)\n",
    "\n",
    "# create a model from the graph\n",
    "nn_model = keras.Model(inputs=nn_input, outputs=nn_output)\n",
    "\n",
    "# complile model parameters\n",
    "nn_model.compile(optimizer='Adam', loss='MSE')\n",
    "\n",
    "# fit the model\n",
    "nn_hist = nn_model.fit(x=train_data_input,\n",
    "                       y=train_data_output,\n",
    "                       batch_size=5,\n",
    "                       validation_split=0.2,\n",
    "                       epochs=num_epochs,\n",
    "                       verbose=1\n",
    "                      )"
   ]
  },
  {
   "cell_type": "code",
   "execution_count": 5,
   "id": "fourth-roommate",
   "metadata": {},
   "outputs": [
    {
     "data": {
      "text/plain": [
       "dict_keys(['loss', 'val_loss'])"
      ]
     },
     "execution_count": 5,
     "metadata": {},
     "output_type": "execute_result"
    }
   ],
   "source": [
    "nn_hist.history.keys()"
   ]
  },
  {
   "cell_type": "code",
   "execution_count": 44,
   "id": "stopped-pipeline",
   "metadata": {},
   "outputs": [],
   "source": [
    "xaxis = range(1, num_epochs + 1)\n",
    "\n",
    "pyplot.figure(figsize=fig_size)\n",
    "pyplot.plot(xaxis, nn_hist.history['loss'], label='Training Loss')\n",
    "pyplot.plot(xaxis, nn_hist.history['val_loss'], label='Validation Loss')\n",
    "pyplot.title('Training metrics', fontsize=20)\n",
    "pyplot.xlabel('Epochs', fontsize=20)\n",
    "pyplot.legend(fontsize=20)\n",
    "pyplot.savefig('training-metrics') # for exporting graphs\n",
    "pyplot.close() # for exporting graphs\n",
    "#pyplot.show()"
   ]
  },
  {
   "cell_type": "code",
   "execution_count": 7,
   "id": "leading-comparative",
   "metadata": {},
   "outputs": [
    {
     "name": "stdout",
     "output_type": "stream",
     "text": [
      "(5, 3, 500, 1024)\n",
      "(15, 500, 1024)\n"
     ]
    }
   ],
   "source": [
    "print(test_data['input'].shape)\n",
    "test_data_input = test_data['input'].reshape(test_data['input'].shape[0]*test_data['input'].shape[1], 500, 1024)\n",
    "print(test_data_input.shape)"
   ]
  },
  {
   "cell_type": "code",
   "execution_count": 8,
   "id": "refined-plate",
   "metadata": {},
   "outputs": [
    {
     "name": "stdout",
     "output_type": "stream",
     "text": [
      "1/1 [==============================] - 0s 330ms/step\n"
     ]
    }
   ],
   "source": [
    "nn_predict = nn_model.predict(x=test_data_input,\n",
    "                              verbose=True)\n",
    "#nn_predict = nn_model.predict(x=numpy.array([test_data['input'][0,0]]),\n",
    "#                              verbose=True)"
   ]
  },
  {
   "cell_type": "code",
   "execution_count": 9,
   "id": "egyptian-parliament",
   "metadata": {},
   "outputs": [
    {
     "name": "stdout",
     "output_type": "stream",
     "text": [
      "(15, 500, 1024)\n",
      "(5, 1024)\n"
     ]
    }
   ],
   "source": [
    "print(nn_predict.shape)\n",
    "print(test_data['output'].shape)"
   ]
  },
  {
   "cell_type": "code",
   "execution_count": 45,
   "id": "detailed-despite",
   "metadata": {},
   "outputs": [
    {
     "name": "stdout",
     "output_type": "stream",
     "text": [
      "3\n"
     ]
    }
   ],
   "source": [
    "samples_per_potential = int(nn_predict.shape[0] / test_data['output'].shape[0])\n",
    "print(samples_per_potential)\n",
    "\n",
    "for p in range(test_data['output'].shape[0]): # potential\n",
    "    index = samples_per_potential*p\n",
    "    pyplot.figure(figsize=fig_size)\n",
    "    for s in range(index, index+samples_per_potential+1): # sample\n",
    "        for i in range(nn_predict.shape[1]): # time evolution of sample\n",
    "            pyplot.plot(space_steps, nn_predict[p,i], 'c')\n",
    "    \n",
    "    pyplot.plot(space_steps, test_data['output'][p], 'r', label='Truth')\n",
    "    pyplot.title(f'Potential {p+1}', fontsize=20)\n",
    "    pyplot.xlabel('Position (no units)', fontsize=20)\n",
    "    pyplot.ylabel('Amplitude (no units)', fontsize=20)\n",
    "    pyplot.legend(fontsize=20)\n",
    "    pyplot.savefig(f'potential{p+1}') # for exporting graphs\n",
    "    pyplot.close() # for exporting graphs\n",
    "    #pyplot.show()\n",
    "\n"
   ]
  },
  {
   "cell_type": "code",
   "execution_count": null,
   "id": "regulated-singapore",
   "metadata": {},
   "outputs": [],
   "source": []
  }
 ],
 "metadata": {
  "kernelspec": {
   "display_name": "Python 3",
   "language": "python",
   "name": "python3"
  },
  "language_info": {
   "codemirror_mode": {
    "name": "ipython",
    "version": 3
   },
   "file_extension": ".py",
   "mimetype": "text/x-python",
   "name": "python",
   "nbconvert_exporter": "python",
   "pygments_lexer": "ipython3",
   "version": "3.8.8"
  }
 },
 "nbformat": 4,
 "nbformat_minor": 5
}
