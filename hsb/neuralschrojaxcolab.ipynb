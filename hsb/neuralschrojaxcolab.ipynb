{
  "nbformat": 4,
  "nbformat_minor": 5,
  "metadata": {
    "kernelspec": {
      "display_name": "Python 3",
      "language": "python",
      "name": "python3"
    },
    "language_info": {
      "codemirror_mode": {
        "name": "ipython",
        "version": 3
      },
      "file_extension": ".py",
      "mimetype": "text/x-python",
      "name": "python",
      "nbconvert_exporter": "python",
      "pygments_lexer": "ipython3",
      "version": "3.6.10"
    },
    "colab": {
      "name": "neuralschrojax.ipynb",
      "provenance": []
    }
  },
  "cells": [
    {
      "cell_type": "code",
      "metadata": {
        "id": "KlIOQIxH8Cz2"
      },
      "source": [
        "from jax.config import config\n",
        "config.update(\"jax_enable_x64\", True)\n",
        "\n",
        "import jax.numpy as jnp\n",
        "from jax import grad, jacobian, jit, vmap, random, nn, tree_multimap\n",
        "\n",
        "import numpy as np\n",
        "\n",
        "import matplotlib \n",
        "%matplotlib inline\n",
        "import matplotlib.pyplot as plt\n",
        "\n",
        "import scipy.linalg as sl\n",
        "import scipy.optimize"
      ],
      "id": "KlIOQIxH8Cz2",
      "execution_count": 1,
      "outputs": []
    },
    {
      "cell_type": "code",
      "metadata": {
        "id": "8eX8uVp38Cz5"
      },
      "source": [
        "# modification of (somewhat erroneous) code i found here:\n",
        "# https://www.numbercrunch.de/blog/2014/08/calculating-the-hermite-functions/\n",
        "\n",
        "# i realized later that everything here can be derived from what is found here:\n",
        "# https://en.wikipedia.org/wiki/Hermite_polynomials#Hermite_functions\n",
        "# go to the part of the entry that deals with \"Hermite functions\" and then\n",
        "# search for \"Recursion relation\"\n",
        "\n",
        "# compute only the n-th Hermite function at all values in the vector x\n",
        "def oneherm(n, x):\n",
        "    if n==0:\n",
        "        return np.ones_like(x)*np.pi**(-0.25)*np.exp(-x**2/2)\n",
        "    if n==1:\n",
        "        return np.sqrt(2.)*x*np.pi**(-0.25)*np.exp(-x**2/2)\n",
        "    h_i_2 = np.ones_like(x)*np.pi**(-0.25)\n",
        "    h_i_1 = np.sqrt(2.)*x*np.pi**(-0.25)\n",
        "    for i in range(2, n+1):\n",
        "        h_i = np.sqrt(2./i)*x*h_i_1 - np.sqrt((i-1.)/i)*h_i_2\n",
        "        h_i_2, h_i_1 = h_i_1, h_i\n",
        "    return h_i*np.exp(-x**2/2) \n",
        "\n",
        "# compute all Hermite functions up to the n-th one at all values in the vector x\n",
        "def allherm(n, x):\n",
        "    out = np.zeros((n+1, x.shape[0]))\n",
        "    h_i_2 = np.ones_like(x)*np.pi**(-0.25)\n",
        "    out[0,:] = h_i_2*np.exp(-x**2/2)\n",
        "    if n==0:\n",
        "        return out\n",
        "    h_i_1 = np.sqrt(2.)*x*np.pi**(-0.25)\n",
        "    out[1,:] = h_i_1*np.exp(-x**2/2)\n",
        "    if n==1:\n",
        "        return out\n",
        "    for i in range(2, n+1):\n",
        "        h_i = np.sqrt(2./i)*x*h_i_1 - np.sqrt((i-1.)/i)*h_i_2\n",
        "        h_i_2, h_i_1 = h_i_1, h_i\n",
        "        out[i,:] = h_i*np.exp(-x**2/2)\n",
        "    return out\n"
      ],
      "id": "8eX8uVp38Cz5",
      "execution_count": 2,
      "outputs": []
    },
    {
      "cell_type": "code",
      "metadata": {
        "id": "4D0jwveV8Cz7",
        "outputId": "fe1f13ea-7911-4ed1-9161-d25b94006c9e",
        "colab": {
          "base_uri": "https://localhost:8080/",
          "height": 265
        }
      },
      "source": [
        "xvec, dx = np.linspace(-10, 10, 1024, retstep=True)\n",
        "plt.plot(xvec, oneherm(30, xvec))\n",
        "plt.show()"
      ],
      "id": "4D0jwveV8Cz7",
      "execution_count": 3,
      "outputs": [
        {
          "output_type": "display_data",
          "data": {
            "image/png": "[encoded data removed]",
            "text/plain": [
              "<Figure size 432x288 with 1 Axes>"
            ]
          },
          "metadata": {
            "tags": [],
            "needs_background": "light"
          }
        }
      ]
    },
    {
      "cell_type": "code",
      "metadata": {
        "id": "PkPtZ3rk8Cz9",
        "outputId": "9464f67b-b79b-408c-deeb-927a87171832",
        "colab": {
          "base_uri": "https://localhost:8080/"
        }
      },
      "source": [
        "# check orthonormality\n",
        "maxdeg = 20\n",
        "hermmat = allherm(maxdeg, xvec)\n",
        "print(hermmat.shape)\n",
        "orthcheck = (hermmat @ hermmat.T) * dx\n",
        "print(np.linalg.norm(orthcheck - np.eye(maxdeg+1)))\n",
        "\n",
        "# compute pseudoinverse that can be used to obtain coefficients for a given function\n",
        "herminv = sl.pinv(hermmat.T) "
      ],
      "id": "PkPtZ3rk8Cz9",
      "execution_count": 4,
      "outputs": [
        {
          "output_type": "stream",
          "text": [
            "(21, 1024)\n",
            "7.039725676978157e-15\n"
          ],
          "name": "stdout"
        }
      ]
    },
    {
      "cell_type": "code",
      "metadata": {
        "id": "vW12Hf188Cz-",
        "outputId": "2cb002a4-8828-4f81-f921-1ffe99f13953",
        "colab": {
          "base_uri": "https://localhost:8080/",
          "height": 513
        }
      },
      "source": [
        "# see if we can find the Hermite function representation of a function in $L^2(\\mathbb{R})$\n",
        "def mypot(x):\n",
        "    return -np.exp(-(x-1)**2) + np.exp(-(x+1)**2)\n",
        "\n",
        "hermcoef = herminv @ mypot(xvec)\n",
        "reconpot = hermcoef @ hermmat\n",
        "\n",
        "plt.plot(xvec, mypot(xvec), color='black')\n",
        "plt.plot(xvec, reconpot, color='red')\n",
        "plt.show()\n",
        "\n",
        "# try it again for another function in $L^2(\\mathbb{R})$\n",
        "def mypot2(x):\n",
        "    return np.exp(-0.1*x**2)\n",
        "\n",
        "hermcoef2 = herminv @ mypot2(xvec)\n",
        "reconpot2 = hermcoef2 @ hermmat\n",
        "\n",
        "plt.plot(xvec, mypot2(xvec), color='black')\n",
        "plt.plot(xvec, reconpot2, color='red')\n",
        "plt.show()"
      ],
      "id": "vW12Hf188Cz-",
      "execution_count": 5,
      "outputs": [
        {
          "output_type": "display_data",
          "data": {
            "image/png": "[encoded data removed]",
            "text/plain": [
              "<Figure size 432x288 with 1 Axes>"
            ]
          },
          "metadata": {
            "tags": [],
            "needs_background": "light"
          }
        },
        {
          "output_type": "display_data",
          "data": {
            "image/png": "[encoded data removed]",
            "text/plain": [
              "<Figure size 432x288 with 1 Axes>"
            ]
          },
          "metadata": {
            "tags": [],
            "needs_background": "light"
          }
        }
      ]
    },
    {
      "cell_type": "code",
      "metadata": {
        "id": "6NPHPtZa8Cz_",
        "outputId": "bf12b406-cd14-4f51-f104-9f19dae76022",
        "colab": {
          "base_uri": "https://localhost:8080/",
          "height": 265
        }
      },
      "source": [
        "# exponential decay that we apply to a random set of coefficients\n",
        "decay = np.exp(-0.4*np.arange(maxdeg+1))\n",
        "\n",
        "# form decaying, random set of coefficients\n",
        "randcoef = np.random.normal(size=(maxdeg+1))*decay\n",
        "\n",
        "# evaluate potential for the purposes of plotting\n",
        "randpot = randcoef @ hermmat\n",
        "plt.plot(xvec, randpot)\n",
        "plt.show()"
      ],
      "id": "6NPHPtZa8Cz_",
      "execution_count": 6,
      "outputs": [
        {
          "output_type": "display_data",
          "data": {
            "image/png": "[encoded data removed]",
            "text/plain": [
              "<Figure size 432x288 with 1 Axes>"
            ]
          },
          "metadata": {
            "tags": [],
            "needs_background": "light"
          }
        }
      ]
    },
    {
      "cell_type": "code",
      "metadata": {
        "id": "Daa4WRsC8C0A",
        "outputId": "ae91943b-2d4c-46e9-d428-ac8d898b2423",
        "colab": {
          "base_uri": "https://localhost:8080/",
          "height": 265
        }
      },
      "source": [
        "# this is the spatial grid and dx that we'll actually use for learning\n",
        "num_space_steps = 16\n",
        "xvec, dx = np.linspace(-10, 10, num_space_steps, retstep=True)\n",
        "hermmat = allherm(maxdeg, xvec)\n",
        "\n",
        "space_res = dx\n",
        "k_res = 1/(num_space_steps * space_res)\n",
        "k_steps = np.arange(-num_space_steps//2, num_space_steps//2) * k_res\n",
        "k_terms = np.fft.ifftshift(2 * np.pi * 1j * k_steps)\n",
        "psi = np.exp(-xvec**2)\n",
        "psi_hat = np.fft.fft(psi)\n",
        "psi_hat_prime = k_terms**2 * psi_hat\n",
        "psi_x = np.fft.ifft(k_terms * psi_hat)\n",
        "psi_xx = np.fft.ifft(psi_hat_prime)\n",
        "\n",
        "plt.plot(xvec, psi)\n",
        "plt.plot(xvec, np.real(psi_x))\n",
        "plt.plot(xvec, np.real(psi_xx))\n",
        "plt.show()"
      ],
      "id": "Daa4WRsC8C0A",
      "execution_count": 7,
      "outputs": [
        {
          "output_type": "display_data",
          "data": {
            "image/png": "[encoded data removed]",
            "text/plain": [
              "<Figure size 432x288 with 1 Axes>"
            ]
          },
          "metadata": {
            "tags": [],
            "needs_background": "light"
          }
        }
      ]
    },
    {
      "cell_type": "code",
      "metadata": {
        "id": "4X6d0D6I8C0A",
        "outputId": "141bafbd-2c8f-4fcf-db75-00e399a882c1",
        "colab": {
          "base_uri": "https://localhost:8080/",
          "height": 340
        }
      },
      "source": [
        "# if you go to this page,\n",
        "# https://numpy.org/doc/stable/reference/routines.fft.html\n",
        "# and look up the \"implementation details\", you'll see an equation where\n",
        "# \n",
        "# A_k = \\sum_{m=0}^{n-1} M_{k,m} a_m, \n",
        "# \n",
        "# with\n",
        "# \n",
        "# M_{k,m} = exp(-2*pi*i*m*k/n)\n",
        "# \n",
        "# here i compute this matrix M in one line and store it in \"fftmat\"\n",
        "fftmat = np.exp(-2*np.pi*1j*np.outer(np.arange(num_space_steps), np.arange(num_space_steps))/num_space_steps)\n",
        "\n",
        "# now i check that multiplying by fftmat is the same as computing the FFT via np.fft.fft\n",
        "test = fftmat @ psi\n",
        "print(np.linalg.norm(test - psi_hat))\n",
        "\n",
        "# we properties of the inverse FFT, we can derive that\n",
        "ifftmat = (1.0/num_space_steps)*fftmat.conj().T\n",
        "\n",
        "# let us check that multiplying these gives us the identity matrix\n",
        "print(np.linalg.norm(fftmat @ ifftmat - np.eye(num_space_steps)))\n",
        "print(np.linalg.norm(ifftmat @ fftmat - np.eye(num_space_steps)))\n",
        "\n",
        "# now let us compute the second-derivative matrix\n",
        "d2mat = ifftmat @ np.diag(k_terms**2) @ fftmat\n",
        "\n",
        "# let's check if d2mat is Hermitian\n",
        "print(np.linalg.norm(d2mat - d2mat.conj().T))\n",
        "\n",
        "# plot second-derivatives computed two different ways\n",
        "plt.plot(xvec, np.real(psi_xx))\n",
        "plt.plot(xvec, np.real(d2mat @ psi))\n",
        "plt.show()\n",
        "\n",
        "# define the kinetic matrix\n",
        "kinmat = -0.5*d2mat\n"
      ],
      "id": "4X6d0D6I8C0A",
      "execution_count": 8,
      "outputs": [
        {
          "output_type": "stream",
          "text": [
            "6.128622934815108e-15\n",
            "9.019996107702867e-15\n",
            "9.019996107702867e-15\n",
            "1.140204861523586e-15\n"
          ],
          "name": "stdout"
        },
        {
          "output_type": "display_data",
          "data": {
            "image/png": "[encoded data removed]",
            "text/plain": [
              "<Figure size 432x288 with 1 Axes>"
            ]
          },
          "metadata": {
            "tags": [],
            "needs_background": "light"
          }
        }
      ]
    },
    {
      "cell_type": "code",
      "metadata": {
        "id": "3VM1rxi48C0B"
      },
      "source": [
        "# set time step and compute time vector\n",
        "num_time_steps = 5\n",
        "dt = 1e-2\n",
        "tvec = np.arange(num_time_steps)*dt\n",
        "\n",
        "# form training data\n",
        "numpots = 40\n",
        "trainpots = np.zeros((numpots, num_space_steps))\n",
        "trainwvfns = np.zeros((numpots, num_time_steps, num_space_steps), dtype=np.complex128)\n",
        "\n",
        "# just to keep things simple, pick the same initial condition for everybody\n",
        "trainwvfns[:,0,:] = np.exp(-xvec**4)\n",
        "\n",
        "for i in range(numpots):\n",
        "    # exponential decay that we apply to a random set of coefficients\n",
        "    decay = np.exp(-0.4*np.arange(maxdeg+1))\n",
        "\n",
        "    # form decaying, random set of coefficients\n",
        "    randcoef = np.random.normal(size=(maxdeg+1))*decay\n",
        "\n",
        "    # evaluate potential and store\n",
        "    trainpots[i,:] = randcoef @ hermmat\n",
        "    \n",
        "    # form the Hamiltonian\n",
        "    ham = kinmat + np.diag(trainpots[i,:])\n",
        "    \n",
        "    # diagonalize\n",
        "    hamspec, hamstates = np.linalg.eigh(ham)\n",
        "    \n",
        "    # compute unitary propagator\n",
        "    prop = hamstates @ np.diag(np.exp(-1j*hamspec*dt)) @ hamstates.conj().T\n",
        "    \n",
        "    # iterate propagation\n",
        "    for j in range(num_time_steps-1):\n",
        "        trainwvfns[i,j+1,:] = prop @ trainwvfns[i,j,:]\n",
        "\n",
        "trainwvfnsRraw = np.concatenate([np.real(trainwvfns), np.imag(trainwvfns)], axis=2)\n",
        "\n",
        "# stack inputs in time\n",
        "# take \"stride\" snapshots in a row and concatenate them\n",
        "stride = 3\n",
        "numslices = trainwvfnsRraw.shape[1]-stride+1\n",
        "trainwvfnsR = np.zeros((numpots, numslices, 2*stride*num_space_steps))\n",
        "for j in range(numpots):\n",
        "    for i in range(numslices):\n",
        "        trainwvfnsR[j, i, :] = trainwvfnsRraw[j, i:(i+stride), :].reshape((-1))\n",
        "\n",
        "trainwvfnsR = trainwvfnsR.reshape((-1, 2*stride*num_space_steps))\n",
        "trainpotsR = np.tile(np.expand_dims(trainpots,1),(1,numslices,1))\n",
        "trainpotsR = trainpotsR.reshape((-1, num_space_steps))"
      ],
      "id": "3VM1rxi48C0B",
      "execution_count": 9,
      "outputs": []
    },
    {
      "cell_type": "code",
      "metadata": {
        "id": "-POWs2PF8C0C"
      },
      "source": [
        "# set up neural network by hand\n",
        "numlayers = 4\n",
        "unitsperlayer = 32\n",
        "\n",
        "@jit\n",
        "def relu(x):\n",
        "    return 0*(x<0) + x*(x>=0)\n",
        "\n",
        "@jit\n",
        "def trainpredict(theta, inputs, activation=nn.relu):\n",
        "    # organize theta as follows:\n",
        "    # weight, bias\n",
        "    cnt = 0\n",
        "    hlist = []\n",
        "    for layer in range(numlayers+1):\n",
        "        # the weight in each layer has shape (dim1, dim2)\n",
        "        # the bias in each layer has shape (dim2,)\n",
        "        if layer==0:\n",
        "            dim1 = inputs.shape[1]\n",
        "        else:\n",
        "            dim1 = unitsperlayer\n",
        "        if layer==numlayers:\n",
        "            dim2 = num_space_steps\n",
        "        else:\n",
        "            dim2 = unitsperlayer\n",
        "        \n",
        "        # extract weight and bias from theta vector\n",
        "        thisweight = theta[cnt : (cnt + dim1*dim2)].reshape((dim1, dim2))\n",
        "        thisbias = theta[(cnt + dim1*dim2) : (cnt + (dim1+1)*dim2)]\n",
        "        cnt += (dim1+1)*dim2\n",
        "        \n",
        "        # forward propagation\n",
        "        if layer==0:\n",
        "            hnew = inputs @ thisweight + thisbias\n",
        "        else:\n",
        "            hnew = hlist[layer-1] @ thisweight + thisbias\n",
        "        if layer<numlayers:\n",
        "            hnew = activation(hnew)\n",
        "        hlist.append(hnew)\n",
        "    \n",
        "    return hlist[numlayers]\n",
        "\n",
        "def resid(theta):\n",
        "    return (trainpredict(theta, trainwvfnsR) - trainpotsR).reshape((-1))\n",
        "\n",
        "def loss(theta):\n",
        "    return 0.5*jnp.sum(jnp.square(trainpredict(theta, trainwvfnsR) - trainpotsR))\n",
        "\n",
        "thetaWdim = trainwvfnsR.shape[1]*unitsperlayer + (numlayers-1)*unitsperlayer**2 + unitsperlayer*num_space_steps\n",
        "thetaBdim = numlayers*unitsperlayer + num_space_steps\n",
        "thetadim = thetaWdim + thetaBdim\n",
        "randtheta = np.random.uniform(size=thetadim)"
      ],
      "id": "-POWs2PF8C0C",
      "execution_count": 10,
      "outputs": []
    },
    {
      "cell_type": "code",
      "metadata": {
        "id": "BOBnLa5x8C0D"
      },
      "source": [
        "jloss = jit(loss)\n",
        "jresid = jit(resid)\n",
        "jacobresid = jacobian(resid)\n",
        "jjacob = jit(jacobresid)\n",
        "gradloss = grad(loss)\n",
        "jgradloss = jit(gradloss)"
      ],
      "id": "BOBnLa5x8C0D",
      "execution_count": 11,
      "outputs": []
    },
    {
      "cell_type": "code",
      "metadata": {
        "id": "kKrQ0lmU8C0D"
      },
      "source": [
        "def bfgsloss(theta):\n",
        "    thetajax = jnp.array(theta)\n",
        "    return np.array(jloss(thetajax))\n",
        "\n",
        "def bfgsjac(theta):\n",
        "    thetajax = jnp.array(theta)\n",
        "    return np.array(jgradloss(thetajax))"
      ],
      "id": "kKrQ0lmU8C0D",
      "execution_count": 12,
      "outputs": []
    },
    {
      "cell_type": "code",
      "metadata": {
        "id": "VitM8v6h8C0D",
        "outputId": "a8d45dcb-55ab-46dd-f354-aeb5cd1fa725",
        "colab": {
          "base_uri": "https://localhost:8080/"
        }
      },
      "source": [
        "# load saved results from earlier optimization\n",
        "!curl --output reslsx.txt https://raw.githubusercontent.com/kbcollins/mltdse/main/hsb/reslsx.txt?token=ABGSM5UT3553QGFRP2ZP3HTAYZTBY\n",
        "reslsx = np.loadtxt('reslsx.txt')\n",
        "jloss(reslsx)\n",
        "\n",
        "# levenberg-marquardt\n",
        "resls = scipy.optimize.least_squares(fun=jresid, jac=jjacob, x0=reslsx, verbose=2, \n",
        "                                     ftol=1e-10, gtol=1e-10, xtol=1e-14)"
      ],
      "id": "VitM8v6h8C0D",
      "execution_count": null,
      "outputs": [
        {
          "output_type": "stream",
          "text": [
            "  % Total    % Received % Xferd  Average Speed   Time    Time     Time  Current\n",
            "                                 Dload  Upload   Total   Spent    Left  Speed\n",
            "\r  0     0    0     0    0     0      0      0 --:--:-- --:--:-- --:--:--     0\r100  168k  100  168k    0     0  2240k      0 --:--:-- --:--:-- --:--:-- 2240k\n"
          ],
          "name": "stdout"
        },
        {
          "output_type": "stream",
          "text": [
            "WARNING:absl:No GPU/TPU found, falling back to CPU. (Set TF_CPP_MIN_LOG_LEVEL=0 and rerun for more info.)\n"
          ],
          "name": "stderr"
        },
        {
          "output_type": "stream",
          "text": [
            "   Iteration     Total nfev        Cost      Cost reduction    Step norm     Optimality   \n",
            "       0              1         1.0593e+03                                    2.62e+05    \n",
            "       1              6         9.8926e+02      7.01e+01       4.67e-01       2.17e+06    \n",
            "       2              7         2.3227e+01      9.66e+02       1.17e-01       3.24e+05    \n"
          ],
          "name": "stdout"
        }
      ]
    },
    {
      "cell_type": "code",
      "metadata": {
        "id": "0P0xs7Fw8C0E"
      },
      "source": [
        "# res = scipy.optimize.minimize(fun=bfgsloss, jac=bfgsjac, x0=resls.x, method='L-BFGS-B', \n",
        "#                               options={'iprint': 99})"
      ],
      "id": "0P0xs7Fw8C0E",
      "execution_count": null,
      "outputs": []
    },
    {
      "cell_type": "code",
      "metadata": {
        "id": "YcjQLXG_8C0E"
      },
      "source": [
        "# np.savez('reslsx.npz',resls.x)"
      ],
      "id": "YcjQLXG_8C0E",
      "execution_count": null,
      "outputs": []
    },
    {
      "cell_type": "code",
      "metadata": {
        "id": "hj3NxMnP8C0F"
      },
      "source": [
        "def mse(theta):\n",
        "    return jnp.mean(jnp.square(trainpredict(theta, trainwvfnsR) - trainpotsR))\n"
      ],
      "id": "hj3NxMnP8C0F",
      "execution_count": null,
      "outputs": []
    },
    {
      "cell_type": "code",
      "metadata": {
        "id": "ho2CcHra8C0F"
      },
      "source": [
        "mse(resls.x)"
      ],
      "id": "ho2CcHra8C0F",
      "execution_count": null,
      "outputs": []
    },
    {
      "cell_type": "code",
      "metadata": {
        "id": "_z-Dqgy38C0G"
      },
      "source": [
        "predpots = trainpredict(resls.x, trainwvfnsR)"
      ],
      "id": "_z-Dqgy38C0G",
      "execution_count": null,
      "outputs": []
    },
    {
      "cell_type": "code",
      "metadata": {
        "id": "EjTdykZc8C0G"
      },
      "source": [
        "predpots.shape"
      ],
      "id": "EjTdykZc8C0G",
      "execution_count": null,
      "outputs": []
    },
    {
      "cell_type": "code",
      "metadata": {
        "id": "JhBjEmC58C0G"
      },
      "source": [
        "for i in range(120):\n",
        "    plt.plot(trainpotsR[i,:],color='black')\n",
        "    plt.plot(predpots[i,:],color='red')\n",
        "    if (i+1) % 3 == 0:\n",
        "        plt.show()"
      ],
      "id": "JhBjEmC58C0G",
      "execution_count": null,
      "outputs": []
    },
    {
      "cell_type": "code",
      "metadata": {
        "id": "EP6O60ML8C0H"
      },
      "source": [
        ""
      ],
      "id": "EP6O60ML8C0H",
      "execution_count": null,
      "outputs": []
    }
  ]
}