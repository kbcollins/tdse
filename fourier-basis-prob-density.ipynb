{
 "cells": [
  {
   "cell_type": "code",
   "execution_count": 22,
   "metadata": {
    "collapsed": true
   },
   "outputs": [],
   "source": [
    "import numpy as np\n",
    "import scipy.signal as ss"
   ]
  },
  {
   "cell_type": "code",
   "execution_count": 3,
   "outputs": [
    {
     "name": "stdout",
     "output_type": "stream",
     "text": [
      "a:\n",
      "[[-3 -3 -3 -3 -3 -3 -3]\n",
      " [-2 -2 -2 -2 -2 -2 -2]\n",
      " [-1 -1 -1 -1 -1 -1 -1]\n",
      " [ 0  0  0  0  0  0  0]\n",
      " [ 1  1  1  1  1  1  1]\n",
      " [ 2  2  2  2  2  2  2]\n",
      " [ 3  3  3  3  3  3  3]]\n",
      "b:\n",
      "[[-3 -2 -1  0  1  2  3]\n",
      " [-3 -2 -1  0  1  2  3]\n",
      " [-3 -2 -1  0  1  2  3]\n",
      " [-3 -2 -1  0  1  2  3]\n",
      " [-3 -2 -1  0  1  2  3]\n",
      " [-3 -2 -1  0  1  2  3]\n",
      " [-3 -2 -1  0  1  2  3]]\n"
     ]
    }
   ],
   "source": [
    "d = 3\n",
    "a, b = np.mgrid[-d:d+1, -d:d+1]\n",
    "print('a:', a, 'b:', b, sep='\\n')"
   ],
   "metadata": {
    "collapsed": false,
    "pycharm": {
     "name": "#%%\n"
    }
   }
  },
  {
   "cell_type": "code",
   "execution_count": 4,
   "outputs": [
    {
     "name": "stdout",
     "output_type": "stream",
     "text": [
      "[[-6 -5 -4 -3 -2 -1  0]\n",
      " [-5 -4 -3 -2 -1  0  1]\n",
      " [-4 -3 -2 -1  0  1  2]\n",
      " [-3 -2 -1  0  1  2  3]\n",
      " [-2 -1  0  1  2  3  4]\n",
      " [-1  0  1  2  3  4  5]\n",
      " [ 0  1  2  3  4  5  6]]\n"
     ]
    }
   ],
   "source": [
    "print(a+b)"
   ],
   "metadata": {
    "collapsed": false,
    "pycharm": {
     "name": "#%%\n"
    }
   }
  },
  {
   "cell_type": "code",
   "execution_count": 5,
   "outputs": [
    {
     "name": "stdout",
     "output_type": "stream",
     "text": [
      "[[False False False  True  True  True  True]\n",
      " [False False  True  True  True  True  True]\n",
      " [False  True  True  True  True  True  True]\n",
      " [ True  True  True  True  True  True  True]\n",
      " [ True  True  True  True  True  True False]\n",
      " [ True  True  True  True  True False False]\n",
      " [ True  True  True  True False False False]]\n"
     ]
    }
   ],
   "source": [
    "mask = np.abs(a+b) <= d\n",
    "print(mask)"
   ],
   "metadata": {
    "collapsed": false,
    "pycharm": {
     "name": "#%%\n"
    }
   }
  },
  {
   "cell_type": "code",
   "execution_count": 6,
   "outputs": [
    {
     "name": "stdout",
     "output_type": "stream",
     "text": [
      "[[ 0  0  0 14 15 16 17]\n",
      " [ 0  0 13 14 15 16 17]\n",
      " [ 0 12 13 14 15 16 17]\n",
      " [11 12 13 14 15 16 17]\n",
      " [11 12 13 14 15 16  0]\n",
      " [11 12 13 14 15  0  0]\n",
      " [11 12 13 14  0  0  0]]\n",
      "[[ 0  0  0 14 15 16 17]\n",
      " [ 0  0 13 14 15 16 17]\n",
      " [ 0 12 13 14 15 16 17]\n",
      " [11 12 13 14 15 16 17]\n",
      " [11 12 13 14 15 16  0]\n",
      " [11 12 13 14 15  0  0]\n",
      " [11 12 13 14  0  0  0]]\n",
      "[25.31139401 30.61862178 35.51760127 40.00833247 33.06811153 26.53613888\n",
      " 20.41241452]\n",
      "[25.31139401 30.61862178 35.51760127 40.00833247 33.06811153 26.53613888\n",
      " 20.41241452]\n"
     ]
    }
   ],
   "source": [
    "print(mask * np.arange(11, 18))\n",
    "g = np.arange(11, 18)\n",
    "f = mask * g\n",
    "print(f)\n",
    "print(np.sum(f, axis=1) / np.sqrt(2 * d))\n",
    "print((f / np.sqrt(2 * d)) @ np.ones(7, dtype=float))\n"
   ],
   "metadata": {
    "collapsed": false,
    "pycharm": {
     "name": "#%%\n"
    }
   }
  },
  {
   "cell_type": "code",
   "execution_count": 25,
   "outputs": [
    {
     "name": "stdout",
     "output_type": "stream",
     "text": [
      "[ 966 1135 1279 1400 1111  855  630]\n",
      "[ 956 1115 1244 1344 1076  835  620]\n",
      "[10 20 35 56 35 20 10]\n",
      "[ 956 1115 1244 1344 1076  835  620]\n"
     ]
    }
   ],
   "source": [
    "true = (f @ g)  # / np.sqrt(2 * d)\n",
    "\n",
    "# flip because formual is \\sum_{k=-d}^d a_{k + \\ell} a_k\n",
    "# rather than a_{k - \\ell}\n",
    "test = np.flip(np.convolve(g, g, mode='same'))  # / np.sqrt(2 * d)\n",
    "\n",
    "print(true)\n",
    "print(test)\n",
    "print(np.abs(true - test))\n",
    "\n",
    "print(np.flip(ss.convolve(g, g, mode='same')))\n"
   ],
   "metadata": {
    "collapsed": false,
    "pycharm": {
     "name": "#%%\n"
    }
   }
  },
  {
   "cell_type": "code",
   "execution_count": null,
   "outputs": [],
   "source": [],
   "metadata": {
    "collapsed": false,
    "pycharm": {
     "name": "#%%\n"
    }
   }
  }
 ],
 "metadata": {
  "kernelspec": {
   "display_name": "Python 3",
   "language": "python",
   "name": "python3"
  },
  "language_info": {
   "codemirror_mode": {
    "name": "ipython",
    "version": 2
   },
   "file_extension": ".py",
   "mimetype": "text/x-python",
   "name": "python",
   "nbconvert_exporter": "python",
   "pygments_lexer": "ipython2",
   "version": "2.7.6"
  }
 },
 "nbformat": 4,
 "nbformat_minor": 0
}