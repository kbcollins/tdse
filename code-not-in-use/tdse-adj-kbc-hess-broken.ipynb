{
 "cells": [
  {
   "cell_type": "code",
   "execution_count": 1,
   "id": "b56b4e7b-b7e8-4446-a869-dc16fcad25e4",
   "metadata": {},
   "outputs": [],
   "source": [
    "import numpy as np\n",
    "import numpy.linalg as nl\n",
    "import scipy.optimize as so\n",
    "import scipy.linalg as sl\n",
    "import scipy.integrate as si\n",
    "import matplotlib.pyplot as plt\n",
    "from numba import njit"
   ]
  },
  {
   "cell_type": "code",
   "execution_count": 2,
   "id": "ad8eba24-b227-4b38-aade-da3cfb717ad8",
   "metadata": {},
   "outputs": [],
   "source": [
    "@njit\n",
    "def toeplitz(r, c):\n",
    "    c = np.asarray(c).ravel()\n",
    "    r = np.asarray(r).ravel()\n",
    "    # Form a 1-D array containing a reversed c followed by r[1:] that could be\n",
    "    # strided to give us toeplitz matrix.\n",
    "    vals = np.concatenate((c[::-1], r[1:]))\n",
    "    out_shp = len(c), len(r)\n",
    "    n = vals.strides[0]\n",
    "    return np.lib.stride_tricks.as_strided(vals[len(c)-1:], shape=out_shp, strides=(-n, n)).copy()"
   ]
  },
  {
   "cell_type": "markdown",
   "id": "ad17bee5-e941-4ef1-9314-9ea62ce43504",
   "metadata": {},
   "source": [
    "<h3>Forward Problem</h3>"
   ]
  },
  {
   "cell_type": "code",
   "execution_count": 3,
   "id": "adfe7af6-6efb-4071-83e8-c95bc24d1d5a",
   "metadata": {},
   "outputs": [],
   "source": [
    "# set number of basis functions to use\n",
    "# for Fourier representation\n",
    "nmax = 128\n",
    "\n",
    "# set size of spatial domain\n",
    "L = 16"
   ]
  },
  {
   "cell_type": "code",
   "execution_count": 4,
   "id": "5570b7a7-a1cc-498b-bd45-f95b5fca1742",
   "metadata": {},
   "outputs": [],
   "source": [
    "# test potentials for generating synthetic observations\n",
    "\n",
    "# symmetric double well potential\n",
    "#def v(x):\n",
    "#    return 0.25*(x**2 - 25)**2\n",
    "\n",
    "# dimensionless quantum harmonic oscillator potential\n",
    "def v(x):\n",
    "    return 0.5*x**2"
   ]
  },
  {
   "cell_type": "code",
   "execution_count": 5,
   "id": "7b241039-f314-4730-9423-644b4d59fac0",
   "metadata": {},
   "outputs": [
    {
     "name": "stdout",
     "output_type": "stream",
     "text": [
      "0.0\n",
      "5.72003711317733e-12\n",
      "4.07668687362199e-14\n"
     ]
    }
   ],
   "source": [
    "# this code constructions the Hamiltonian matrix\n",
    "# and performs the eigendecomposition on it\n",
    "\n",
    "# set sampling rate\n",
    "# if f_sample = 2*nmax, then we are sampling at the Nyquist frequency\n",
    "# scaling the Nyquist frequency reduces resolution but uses less memory\n",
    "f_sample = 100 * 2 * nmax\n",
    "\n",
    "# create vector of time step points\n",
    "t = np.linspace(-L, L, f_sample+2, endpoint=False)\n",
    "\n",
    "# sample the potential at times t, do FFT for real input\n",
    "# (normalizing on the forward transform),\n",
    "# and take the first 2*nmax+1 coefficents\n",
    "y = np.fft.rfft(v(t), norm=\"forward\")[:(2*nmax+1)]\n",
    "\n",
    "# store the Fourier series coefficients for n-m=0,...,2*nmax\n",
    "# WHY DO WE MULTIPLY BY -1^(n-m)?\n",
    "vrow = y * (-1)**np.arange(2*nmax+1)\n",
    "\n",
    "# construct potential matrix\n",
    "vmat = toeplitz(r=vrow,c=np.conj(vrow))\n",
    "\n",
    "# construct kinetic matrix\n",
    "kmat = np.diag(np.arange(-nmax,nmax+1)**2 * np.pi**2 / (2*L**2))\n",
    "\n",
    "# construct Hamiltonian matrix\n",
    "hmat = kmat + vmat\n",
    "\n",
    "# check if the Hamiltonian matrix is Hermitian\n",
    "print(nl.norm(hmat - hmat.T.conj()))\n",
    "\n",
    "# diagonalize hmat matrix (i.e. eigendecomposition)\n",
    "# eigenspectrum / eigensates\n",
    "eigval, eigsta = nl.eigh(hmat)\n",
    "\n",
    "# check if eigval / eigsta diagonalizes hmat\n",
    "# if this is close to zero then\n",
    "# hmat = states @ np.diag(spec) @ np.conj(states).T\n",
    "print(nl.norm(hmat @ eigsta - eigsta @ np.diag(eigval)))\n",
    "\n",
    "# check if the eigenstates are unitary\n",
    "print(nl.norm(eigsta @ eigsta.T.conj() - np.eye(2*nmax+1)))"
   ]
  },
  {
   "cell_type": "code",
   "execution_count": 6,
   "id": "f560c584-2fec-4373-84df-760d06d308ab",
   "metadata": {},
   "outputs": [],
   "source": [
    "# this code constructs elements needed for plotting and\n",
    "# converting from the Fourier basis to real space\n",
    "\n",
    "# create vector of real space points\n",
    "xvec = np.linspace(-L, L, 1025)\n",
    "\n",
    "# construct matrix to convert basis coefficients into real space values\n",
    "nvec = np.arange(-nmax, nmax+1) # nvec=-nmax,...,0,...,nmax\n",
    "convmat = np.exp(1j * np.pi * np.outer(nvec, xvec) / L) / np.sqrt(2*L)"
   ]
  },
  {
   "cell_type": "code",
   "execution_count": 7,
   "id": "bb88599c-3295-4ad2-896d-28f42dada22d",
   "metadata": {},
   "outputs": [
    {
     "data": {
      "image/png": "[encoded data removed]",
      "text/plain": [
       "<Figure size 432x288 with 1 Axes>"
      ]
     },
     "metadata": {
      "needs_background": "light"
     },
     "output_type": "display_data"
    },
    {
     "name": "stdout",
     "output_type": "stream",
     "text": [
      "1.0000000000000018\n"
     ]
    }
   ],
   "source": [
    "# this code plots the ground state wave function of hmat\n",
    "\n",
    "wavefn = eigsta[:, 0] @ convmat\n",
    "plt.plot(xvec, -wavefn.real)\n",
    "plt.show()\n",
    "\n",
    "# check if the normalization of the wave function is 1\n",
    "print(np.sum(np.abs(wavefn)**2 * (xvec[1]-xvec[0])))"
   ]
  },
  {
   "cell_type": "code",
   "execution_count": 8,
   "id": "12e15e71-591e-4115-9cac-b427cee21e45",
   "metadata": {},
   "outputs": [
    {
     "data": {
      "image/png": "[encoded data removed]",
      "text/plain": [
       "<Figure size 432x288 with 1 Axes>"
      ]
     },
     "metadata": {
      "needs_background": "light"
     },
     "output_type": "display_data"
    },
    {
     "name": "stdout",
     "output_type": "stream",
     "text": [
      "0.9999999999999993\n"
     ]
    }
   ],
   "source": [
    "# this code plots the first excited state of hmat\n",
    "\n",
    "wavefn = eigsta[:, 1] @ convmat\n",
    "plt.plot(xvec, -wavefn.real)\n",
    "plt.show()\n",
    "\n",
    "# check if the normalization of the wave function is 1\n",
    "print(np.sum(np.abs(wavefn)**2 * (xvec[1]-xvec[0])))"
   ]
  },
  {
   "cell_type": "code",
   "execution_count": 9,
   "id": "c7d9113b-b601-4c1d-85e2-ec227a142132",
   "metadata": {},
   "outputs": [
    {
     "data": {
      "image/png": "[encoded data removed]",
      "text/plain": [
       "<Figure size 432x288 with 1 Axes>"
      ]
     },
     "metadata": {
      "needs_background": "light"
     },
     "output_type": "display_data"
    }
   ],
   "source": [
    "# this code creates the initial wave function psi0\n",
    "\n",
    "# triangular pulse\n",
    "# def psi0(x):\n",
    "#     return np.piecewise(x, [x < -1, (x >= -1) & (x <= 1), x > 1], [0, lambda x: (1 - np.abs(x)), 0])\n",
    "\n",
    "# parabolic pulse\n",
    "# def psi0(x):\n",
    "#     return np.piecewise(x, [x < -1, (x >= -1) & (x <= 1), x > 1], [0, lambda x: (1 - x**2), 0])\n",
    "\n",
    "# hyperbolic secant squared\n",
    "# def psi0(x):\n",
    "#     return (np.cosh(x))**(-2)\n",
    "\n",
    "# Laplace\n",
    "# def psi0(x):\n",
    "#     return np.exp(-np.abs(x))\n",
    "\n",
    "# rounded box function\n",
    "def psi0(x):\n",
    "    return 1.0 + np.tanh((1 - x**2)/0.5)\n",
    "\n",
    "# normalize psi0\n",
    "norm = np.sqrt(si.quad(lambda x: np.abs(psi0(x))**2, a=-L, b=L)[0])\n",
    "def normpsi0(x):\n",
    "    return psi0(x)/norm\n",
    "\n",
    "# transform psi0 to Fourier basis using quadrature method\n",
    "# do this by stepping through and integrating for each n\n",
    "vraw = np.zeros(nmax+1, dtype=np.complex128)\n",
    "for thisn in range(nmax+1):\n",
    "    def integ(x):\n",
    "        return (2*L)**(-0.5)*np.exp(-1j*np.pi*thisn*x/L)*normpsi0(x)\n",
    "    def rinteg(x):\n",
    "        return np.real(integ(x))\n",
    "    def iinteg(x):\n",
    "        return np.imag(integ(x))\n",
    "    vraw[thisn] = si.quad(rinteg, a=-L, b=L)[0] + 1j*si.quad(iinteg, a=-L, b=L)[0]\n",
    "ainit = np.concatenate([np.conjugate(np.flipud(vraw[1:])), vraw])\n",
    "\n",
    "# check if the reconstructed psi0 is \"close enough\" to the\n",
    "# actual psi0\n",
    "plt.plot(xvec, normpsi0(xvec), color='black', label=r\"True $\\psi_0$\")\n",
    "psi0recon = np.real(ainit @ convmat)\n",
    "plt.plot(xvec, psi0recon, color='red', label=r\"Reconstructed $\\psi_0$\")\n",
    "plt.legend()\n",
    "plt.show()"
   ]
  },
  {
   "cell_type": "markdown",
   "id": "be480105-d1a0-49bf-99ae-20016fc16ecd",
   "metadata": {},
   "source": [
    "<h3>Inverse Problem</h3>"
   ]
  },
  {
   "cell_type": "code",
   "execution_count": 10,
   "id": "f1a68e95-59f7-4fe7-852f-6f6a0d8fd526",
   "metadata": {},
   "outputs": [],
   "source": [
    "# set the time step size for propagating\n",
    "dt = 0.01\n",
    "\n",
    "# set the number of steps to propagate \"a\" vector in time\n",
    "nsteps = 200\n"
   ]
  },
  {
   "cell_type": "markdown",
   "id": "6d4c7af1-b230-4e46-b76c-d9789f28458b",
   "metadata": {},
   "source": [
    "**Generate Training Data**"
   ]
  },
  {
   "cell_type": "code",
   "execution_count": 11,
   "id": "d5073758-84d9-4e3a-962c-100ae3a9ccf0",
   "metadata": {
    "tags": []
   },
   "outputs": [
    {
     "name": "stdout",
     "output_type": "stream",
     "text": [
      "[1. 1. 1. 1. 1. 1. 1. 1. 1. 1. 1. 1. 1. 1. 1. 1. 1. 1. 1. 1. 1. 1. 1. 1.\n",
      " 1. 1. 1. 1. 1. 1. 1. 1. 1. 1. 1. 1. 1. 1. 1. 1. 1. 1. 1. 1. 1. 1. 1. 1.\n",
      " 1. 1. 1. 1. 1. 1. 1. 1. 1. 1. 1. 1. 1. 1. 1. 1. 1. 1. 1. 1. 1. 1. 1. 1.\n",
      " 1. 1. 1. 1. 1. 1. 1. 1. 1. 1. 1. 1. 1. 1. 1. 1. 1. 1. 1. 1. 1. 1. 1. 1.\n",
      " 1. 1. 1. 1. 1. 1. 1. 1. 1. 1. 1. 1. 1. 1. 1. 1. 1. 1. 1. 1. 1. 1. 1. 1.\n",
      " 1. 1. 1. 1. 1. 1. 1. 1. 1. 1. 1. 1. 1. 1. 1. 1. 1. 1. 1. 1. 1. 1. 1. 1.\n",
      " 1. 1. 1. 1. 1. 1. 1. 1. 1. 1. 1. 1. 1. 1. 1. 1. 1. 1. 1. 1. 1. 1. 1. 1.\n",
      " 1. 1. 1. 1. 1. 1. 1. 1. 1. 1. 1. 1. 1. 1. 1. 1. 1. 1. 1. 1. 1. 1. 1. 1.\n",
      " 1. 1. 1. 1. 1. 1. 1. 1. 1.]\n"
     ]
    }
   ],
   "source": [
    "# this code generates the training data by propagating the \"a\" vector\n",
    "# of coefficients using the eigendecomposition from above\n",
    "\n",
    "# compute the propagator matrix using eigval & eigsta\n",
    "propmat = eigsta @ np.diag(np.exp(-1j * eigval * dt)) @ eigsta.T.conj()\n",
    "\n",
    "# initialize matrix to store time series data for \"a\" vector \n",
    "amat = np.zeros((nsteps+1, 2*nmax+1), dtype=np.complex128)\n",
    "amat[0, :] = ainit.copy()\n",
    "\n",
    "# propagate \"a\" vector using propmat\n",
    "for j in range(nsteps):\n",
    "    amat[j+1,:] = propmat @ amat[j,:]\n",
    "    \n",
    "# transform amat to real space\n",
    "psimat = np.abs(amat @ convmat)**2\n",
    "\n",
    "# check that wave function is normalized for every time step\n",
    "psimatnorm = np.sqrt(np.sum(np.abs(amat)**2, axis=1))\n",
    "print(psimatnorm)"
   ]
  },
  {
   "cell_type": "markdown",
   "id": "ca9676e3-7c4f-4701-8280-2999afd053d5",
   "metadata": {},
   "source": [
    "**Code for Propagating $\\hat{a}$ Vector**"
   ]
  },
  {
   "cell_type": "code",
   "execution_count": 12,
   "id": "09b58789-b69f-408a-a3ef-573c6ef4611f",
   "metadata": {},
   "outputs": [],
   "source": [
    "# this code propagates the a/ahat vector using a Hamiltonian which\n",
    "# depends on the modeling paramters theta/thetahat\n",
    "\n",
    "@njit\n",
    "def prop(x):\n",
    "    m = 2*nmax + 1\n",
    "    \n",
    "    # generate vhatmat from model paramters thetahat\n",
    "    thetahatR = x[:m]\n",
    "    thetahatI = np.copy(x[(m-1):])\n",
    "    thetahatI[0] = 0.0\n",
    "    thetahat = thetahatR + 1j*thetahatI\n",
    "    vhatmat = toeplitz(r=thetahat,c=np.conj(thetahat))\n",
    "\n",
    "    # Hamiltonian matrix \n",
    "    hhatmat = kmat + vhatmat\n",
    "\n",
    "    # eigendecomposition and compute propagator\n",
    "    hatspec, hatstates = np.linalg.eigh(hhatmat)\n",
    "    hatprop = hatstates @ np.diag(np.exp(-1j*hatspec*dt)) @ np.conj(hatstates.T)\n",
    "    hatpropH = hatstates @ np.diag(np.exp(1j*hatspec*dt)) @ np.conj(hatstates.T)\n",
    "\n",
    "    # propagate the ahat vector of coefficients, i.e., solve the *forward* problem\n",
    "    ahatmat = np.zeros((nsteps+1, 2*nmax+1), dtype=np.complex128)\n",
    "    ahatmat[0,:] = np.copy(ainit)\n",
    "    for j in range(nsteps):\n",
    "        ahatmat[j+1,:] = hatprop @ ahatmat[j,:]\n",
    "\n",
    "    # propagating the lambda vector backward in time, i.e., solve the *adjoint* problem\n",
    "    lambmat = np.zeros((nsteps+1, 2*nmax+1), dtype=np.complex128)\n",
    "    lambmat[nsteps,:] = ahatmat[nsteps,:] - amat[nsteps,:]\n",
    "    for j in range(nsteps-1,0,-1):\n",
    "        lambmat[j,:] = ahatmat[j,:] - amat[j,:] + hatpropH @ lambmat[j+1,:]\n",
    "    \n",
    "    return hatspec, hatstates, ahatmat, lambmat, hatprop, hatpropH\n"
   ]
  },
  {
   "cell_type": "code",
   "execution_count": 13,
   "id": "68e125d3-2317-42db-958e-235c1a66fb56",
   "metadata": {},
   "outputs": [],
   "source": [
    "# compute the Lagrangian\n",
    "# the input x is the vector of modeling parameters (theta or thetahat)\n",
    "\n",
    "@njit\n",
    "def laghelp(x, ahatmat):\n",
    "    # compute lagrangian\n",
    "    resid = ahatmat - amat\n",
    "    lag = 0.5*np.real(np.sum(np.conj(resid)*resid))\n",
    "    return lag\n",
    "\n",
    "laghistlen = 20\n",
    "laghist = np.zeros(laghistlen)\n",
    "\n",
    "def justlag(x):\n",
    "    global laghist, laghistpsn\n",
    "    global glbhatspec, glbhatstates, glbahatmat, glblambmat\n",
    "    global glbhatprop, glbhatpropH\n",
    "    \n",
    "    # propagate system\n",
    "    glbhatspec, glbhatstates, glbahatmat, glblambmat, glbhatprop, glbhatpropH = prop(x)\n",
    "    \n",
    "    # compute Lagrange\n",
    "    lag = laghelp(x, glbahatmat)\n",
    "    \n",
    "    # roll the history back one and replace with newest value\n",
    "    # i.e. put newest value on the end of the stack\n",
    "    laghist = np.roll(laghist, -1)\n",
    "    laghist[-1] = lag\n",
    "    \n",
    "    # print the last 5 values of laghist\n",
    "    print(f'Lagrangan={laghist[-5:]}', end='\\r')\n",
    "    return lag\n",
    "    "
   ]
  },
  {
   "cell_type": "code",
   "execution_count": 14,
   "id": "bd42af42-3827-4981-85a6-604257cd5657",
   "metadata": {},
   "outputs": [],
   "source": [
    "# compute the gradients\n",
    "# the input x is the vector of modeling parameters (theta or thetahat)\n",
    "\n",
    "@njit\n",
    "def gradhelp(x, hatspec, hatstates, ahatmat, lambmat, derivamat):\n",
    "    m = 2*nmax + 1\n",
    "    \n",
    "    alldmat = np.zeros((2*m-1, m, m), dtype=np.complex128)\n",
    "    expspec = np.exp(-1j*dt*hatspec)\n",
    "    mask = np.zeros((m,m), dtype=np.complex128)\n",
    "    for ii in range(m):\n",
    "        for jj in range(m):\n",
    "            if np.abs(hatspec[ii] - hatspec[jj]) < 1e-8:\n",
    "                mask[ii,ii] = expspec[ii]\n",
    "            else:\n",
    "                mask[ii,jj] = (expspec[ii] - expspec[jj])/(-1j*dt*(hatspec[ii]-hatspec[jj]))\n",
    "    \n",
    "    for iii in range(m):\n",
    "        ctrvec = np.zeros(m, dtype=np.complex128)\n",
    "        ctrvec[iii] = 1.0\n",
    "        ctrmat = toeplitz(r=ctrvec, c=np.conj(ctrvec))\n",
    "        derivamat[iii, :, :] = hatstates.conj().T @ ctrmat @ hatstates\n",
    "        qmat = derivamat[iii, :, :] * mask\n",
    "        alldmat[iii,:,:] = -1j*dt* hatstates @ qmat @ hatstates.conj().T\n",
    "    \n",
    "    for iii in range(m-1):\n",
    "        ctrvec = np.zeros(m, dtype=np.complex128)\n",
    "        ctrvec[iii + 1] = 1.0j\n",
    "        ctrmat = toeplitz(r=ctrvec, c=np.conj(ctrvec))\n",
    "        derivamat[m + iii, :, :] = hatstates.conj().T @ ctrmat @ hatstates\n",
    "        qmat = derivamat[m + iii, :, :] * mask\n",
    "        alldmat[m + iii,:,:] = -1j*dt* hatstates @ qmat @ hatstates.conj().T\n",
    "\n",
    "    return alldmat\n",
    "        \n",
    "def justgrad(x):\n",
    "    global glbhatspec, glbhatstates, glbahatmat, glblambmat\n",
    "    global glballdmat, glbderivamat\n",
    "    \n",
    "    m = 2*nmax + 1\n",
    "    glbderivamat = np.zeros((2*m-1, m, m), dtype=np.complex128)\n",
    "    \n",
    "    # compute alldmat\n",
    "    glballdmat = gradhelp(x, glbhatspec, glbhatstates, glbahatmat, glblambmat, glbderivamat)\n",
    "    \n",
    "    # compute all entries of the gradient at once\n",
    "    gradients = np.real(np.einsum('ij,ajk,ik->a', np.conj(glblambmat[1:,:]), glballdmat, glbahatmat[:-1,:]))\n",
    "    return gradients"
   ]
  },
  {
   "cell_type": "code",
   "execution_count": 15,
   "id": "501393d2-7844-4441-b5ad-09c1c2aae8c4",
   "metadata": {},
   "outputs": [],
   "source": [
    "@njit\n",
    "def fone(di, dk, dn, aik, akn):\n",
    "    return -aik*akn*((dn-dk)*np.exp(di) + (di-dn)*np.exp(dk) + (dk-di)*np.exp(dn))/((di-dk)*(di-dn)*(dk-dn))\n",
    "\n",
    "@njit\n",
    "def fik(di, dn, aik, akn):\n",
    "    return aik*akn*((-1.0 + di - dn)*np.exp(di) + np.exp(dn))/((di-dn)**2)\n",
    "\n",
    "@njit\n",
    "def fin(di, dk, aik, akn):\n",
    "    return aik*akn*((-1.0 + di - dk)*np.exp(di) + np.exp(dk))/((di-dk)**2)\n",
    "\n",
    "@njit\n",
    "def fkn(di, dk, aik, akn):\n",
    "    return -aik*akn*(-np.exp(di) + (1.0 + di - dk)*np.exp(dk))/((di-dk)**2)\n",
    "\n",
    "@njit\n",
    "def fikn(di, aik, akn):\n",
    "    return 0.5*aik*akn*np.exp(di)\n",
    "\n",
    "@njit\n",
    "def hesshelp(x, hatspec, derivamat, indices):\n",
    "    hsp = -1j*dt*hatspec\n",
    "    print('in hesshelp')\n",
    "    m = 2*nmax + 1\n",
    "    thishess = np.zeros((2*m-1,2*m-1,m,m), dtype=np.complex128)\n",
    "    \n",
    "    for ii in range(m):\n",
    "        for nn in range(m):\n",
    "            result = np.zeros((2*m-1)**2, dtype=np.complex128)\n",
    "            for kk in range(m):\n",
    "                if ii==nn:\n",
    "                    if kk==nn:\n",
    "                        result += fikn(hsp[ii], derivamat[indices[:,0],ii,kk], derivamat[indices[:,1],kk,nn])\n",
    "                        result += fikn(hsp[ii], derivamat[indices[:,1],ii,kk], derivamat[indices[:,0],kk,nn])\n",
    "                    else:\n",
    "                        result += fin(hsp[ii], hsp[kk], derivamat[indices[:,0],ii,kk], derivamat[indices[:,1],kk,nn])\n",
    "                        result += fin(hsp[ii], hsp[kk], derivamat[indices[:,1],ii,kk], derivamat[indices[:,0],kk,nn])\n",
    "                elif kk==nn:\n",
    "                    result += fkn(hsp[ii], hsp[kk], derivamat[indices[:,0],ii,kk], derivamat[indices[:,1],kk,nn])\n",
    "                    result += fkn(hsp[ii], hsp[kk], derivamat[indices[:,1],ii,kk], derivamat[indices[:,0],kk,nn])\n",
    "                elif ii==kk:\n",
    "                    result += fik(hsp[ii], hsp[nn], derivamat[indices[:,0],ii,kk], derivamat[indices[:,1],kk,nn])\n",
    "                    result += fik(hsp[ii], hsp[nn], derivamat[indices[:,1],ii,kk], derivamat[indices[:,0],kk,nn])\n",
    "                else:\n",
    "                    result += fone(hsp[ii], hsp[kk], hsp[nn], derivamat[indices[:,0],ii,kk], derivamat[indices[:,1],kk,nn])\n",
    "                    result += fone(hsp[ii], hsp[kk], hsp[nn], derivamat[indices[:,1],ii,kk], derivamat[indices[:,0],kk,nn])\n",
    "                thishess[:,:,ii,nn] += result #.reshape((2*m-1,2*m-1))\n",
    "    return thishess\n",
    " \n",
    "def justhess(x):\n",
    "    global glbhatspec, glbhatstates, glbahatmat, glblambmat\n",
    "    global glballdmat, glbderivamat\n",
    "    global glbhatprop, glbhatpropH\n",
    "    \n",
    "    m = 2*nmax + 1\n",
    "    ddmat = np.zeros((2*m-1,2*m-1,m,m), dtype=np.complex128)\n",
    "    Xind, Yind = np.meshgrid(np.arange(2*(2*nmax+1)-1),np.arange(2*(2*nmax+1)-1))\n",
    "    indices = np.stack([Xind.flatten(), Yind.flatten()]).T\n",
    "    \n",
    "    thishess = hesshelp(x, glbhatspec, glbderivamat, indices)\n",
    "    \n",
    "    # propagate \\nabla_{\\theta} a\n",
    "    gradamat = np.zeros((nsteps+1, 2*nmax+1, 4*nmax+1), dtype=np.complex128)\n",
    "    for j in range(nsteps):\n",
    "        gradamat[j+1,:,:] = glbhatprop @ gradamat[j,:,:] + (glballdmat @ glbahatmat[j,:]).T\n",
    "    \n",
    "    # propagate \\nabla_{\\theta} \\lambda\n",
    "    gradlamb = np.zeros((nsteps+1, 2*nmax+1, 4*nmax+1), dtype=np.complex128)\n",
    "    gradlamb[nsteps] = np.copy(gradamat[nsteps])\n",
    "    alldmatH = np.transpose(glballdmat.conj(),axes=(2,1,0))\n",
    "    for j in range(nsteps-1,-1,-1):\n",
    "        term1 = glbhatpropH @ gradlamb[j+1,:,:]\n",
    "        term2 = np.einsum('ijk,j->ik', alldmatH, glblambmat[j+1,:])\n",
    "        gradlamb[j,:,:] = gradamat[j,:,:] + term1 + term2\n",
    "    \n",
    "    # compute all entries of the Hessian at once\n",
    "    ddmat = (-dt**2)*np.einsum('ij,abjk,kl->abil',glbhatstates,thishess,glbhatstates.conj().T)\n",
    "    hesspt1 = np.real(np.einsum('ijl,ajk,ik->al', np.conj(gradlamb[1:,:,:]), glballdmat, glbahatmat[:-1,:]))\n",
    "    hesspt2 = np.real(np.einsum('ij,ajk,ikl->al', np.conj(glblambmat[1:,:]), glballdmat, gradamat[:-1,:,:]))\n",
    "    hesspt3 = np.real(np.einsum('ij,aljk,ik->al', np.conj(glblambmat[1:,:]), ddmat, glbahatmat[:-1,:]))\n",
    "    hess = hesspt1 + hesspt2 + hesspt3\n",
    "    return hess"
   ]
  },
  {
   "cell_type": "markdown",
   "id": "ebb47a33-2c96-4dd9-90c2-728fa48a8946",
   "metadata": {},
   "source": [
    "**Check Functions Using True $\\theta$**"
   ]
  },
  {
   "cell_type": "code",
   "execution_count": 16,
   "id": "6174fd4a-ff6b-482c-96f5-a56e88294cfa",
   "metadata": {
    "tags": []
   },
   "outputs": [
    {
     "name": "stdout",
     "output_type": "stream",
     "text": [
      "(513,)\n"
     ]
    }
   ],
   "source": [
    "# Construct the true theta used to generate training data\n",
    "truethetaR = np.real(vrow)\n",
    "truethetaI = np.imag(vrow[1:])\n",
    "xtrue = np.concatenate([truethetaR, truethetaI])\n",
    "print(xtrue.shape)"
   ]
  },
  {
   "cell_type": "code",
   "execution_count": 17,
   "id": "d87d14d5-edbe-4c21-8e65-966f20a35928",
   "metadata": {},
   "outputs": [
    {
     "name": "stdout",
     "output_type": "stream",
     "text": [
      "Lagrangan=[0. 0. 0. 0. 0.]\r"
     ]
    },
    {
     "data": {
      "text/plain": [
       "0.0"
      ]
     },
     "execution_count": 17,
     "metadata": {},
     "output_type": "execute_result"
    }
   ],
   "source": [
    "# check if the Lagrangian of the true theta, xtrue, gives 0\n",
    "justlag(xtrue)"
   ]
  },
  {
   "cell_type": "code",
   "execution_count": 18,
   "id": "415c86b0-261f-4770-bc59-29f03f290730",
   "metadata": {},
   "outputs": [
    {
     "data": {
      "text/plain": [
       "array([0., 0., 0., 0., 0., 0., 0., 0., 0., 0., 0., 0., 0., 0., 0., 0., 0.,\n",
       "       0., 0., 0., 0., 0., 0., 0., 0., 0., 0., 0., 0., 0., 0., 0., 0., 0.,\n",
       "       0., 0., 0., 0., 0., 0., 0., 0., 0., 0., 0., 0., 0., 0., 0., 0., 0.,\n",
       "       0., 0., 0., 0., 0., 0., 0., 0., 0., 0., 0., 0., 0., 0., 0., 0., 0.,\n",
       "       0., 0., 0., 0., 0., 0., 0., 0., 0., 0., 0., 0., 0., 0., 0., 0., 0.,\n",
       "       0., 0., 0., 0., 0., 0., 0., 0., 0., 0., 0., 0., 0., 0., 0., 0., 0.,\n",
       "       0., 0., 0., 0., 0., 0., 0., 0., 0., 0., 0., 0., 0., 0., 0., 0., 0.,\n",
       "       0., 0., 0., 0., 0., 0., 0., 0., 0., 0., 0., 0., 0., 0., 0., 0., 0.,\n",
       "       0., 0., 0., 0., 0., 0., 0., 0., 0., 0., 0., 0., 0., 0., 0., 0., 0.,\n",
       "       0., 0., 0., 0., 0., 0., 0., 0., 0., 0., 0., 0., 0., 0., 0., 0., 0.,\n",
       "       0., 0., 0., 0., 0., 0., 0., 0., 0., 0., 0., 0., 0., 0., 0., 0., 0.,\n",
       "       0., 0., 0., 0., 0., 0., 0., 0., 0., 0., 0., 0., 0., 0., 0., 0., 0.,\n",
       "       0., 0., 0., 0., 0., 0., 0., 0., 0., 0., 0., 0., 0., 0., 0., 0., 0.,\n",
       "       0., 0., 0., 0., 0., 0., 0., 0., 0., 0., 0., 0., 0., 0., 0., 0., 0.,\n",
       "       0., 0., 0., 0., 0., 0., 0., 0., 0., 0., 0., 0., 0., 0., 0., 0., 0.,\n",
       "       0., 0., 0., 0., 0., 0., 0., 0., 0., 0., 0., 0., 0., 0., 0., 0., 0.,\n",
       "       0., 0., 0., 0., 0., 0., 0., 0., 0., 0., 0., 0., 0., 0., 0., 0., 0.,\n",
       "       0., 0., 0., 0., 0., 0., 0., 0., 0., 0., 0., 0., 0., 0., 0., 0., 0.,\n",
       "       0., 0., 0., 0., 0., 0., 0., 0., 0., 0., 0., 0., 0., 0., 0., 0., 0.,\n",
       "       0., 0., 0., 0., 0., 0., 0., 0., 0., 0., 0., 0., 0., 0., 0., 0., 0.,\n",
       "       0., 0., 0., 0., 0., 0., 0., 0., 0., 0., 0., 0., 0., 0., 0., 0., 0.,\n",
       "       0., 0., 0., 0., 0., 0., 0., 0., 0., 0., 0., 0., 0., 0., 0., 0., 0.,\n",
       "       0., 0., 0., 0., 0., 0., 0., 0., 0., 0., 0., 0., 0., 0., 0., 0., 0.,\n",
       "       0., 0., 0., 0., 0., 0., 0., 0., 0., 0., 0., 0., 0., 0., 0., 0., 0.,\n",
       "       0., 0., 0., 0., 0., 0., 0., 0., 0., 0., 0., 0., 0., 0., 0., 0., 0.,\n",
       "       0., 0., 0., 0., 0., 0., 0., 0., 0., 0., 0., 0., 0., 0., 0., 0., 0.,\n",
       "       0., 0., 0., 0., 0., 0., 0., 0., 0., 0., 0., 0., 0., 0., 0., 0., 0.,\n",
       "       0., 0., 0., 0., 0., 0., 0., 0., 0., 0., 0., 0., 0., 0., 0., 0., 0.,\n",
       "       0., 0., 0., 0., 0., 0., 0., 0., 0., 0., 0., 0., 0., 0., 0., 0., 0.,\n",
       "       0., 0., 0., 0., 0., 0., 0., 0., 0., 0., 0., 0., 0., 0., 0., 0., 0.,\n",
       "       0., 0., 0.])"
      ]
     },
     "execution_count": 18,
     "metadata": {},
     "output_type": "execute_result"
    }
   ],
   "source": [
    "# check if the gradient of the Lagrangian is zero for the true theta, xtrue\n",
    "justgrad(xtrue)"
   ]
  },
  {
   "cell_type": "code",
   "execution_count": null,
   "id": "7175ebbe-5f6f-4fb0-947d-cd3af3378ae4",
   "metadata": {},
   "outputs": [],
   "source": [
    "# test hess functions\n",
    "justhess(xtrue)"
   ]
  },
  {
   "cell_type": "code",
   "execution_count": 39,
   "id": "a238e68d-e4e0-4fba-9fd9-56c6119f1f68",
   "metadata": {},
   "outputs": [
    {
     "data": {
      "image/png": "[encoded data removed]",
      "text/plain": [
       "<Figure size 432x288 with 1 Axes>"
      ]
     },
     "metadata": {
      "needs_background": "light"
     },
     "output_type": "display_data"
    }
   ],
   "source": [
    "plt.plot(np.arange(2*nmax+1),np.log(np.abs(truethetaR)))\n",
    "plt.show()"
   ]
  },
  {
   "cell_type": "markdown",
   "id": "5e139fca-5d70-41ae-9b47-c63ab7ba2c5a",
   "metadata": {},
   "source": [
    "**Initialize theta with true theta pertubed by random normally distributed noise**"
   ]
  },
  {
   "cell_type": "code",
   "execution_count": 19,
   "id": "bee18c5f-e106-4918-82fd-be15aea50885",
   "metadata": {},
   "outputs": [],
   "source": [
    "# easy test case: initialize theta with true theta pertubed random normally\n",
    "# distributed noise with small variance. This should be easy for the optimizer\n",
    "# to converge to a good minimum\n",
    "xtrub = xtrue.copy()\n",
    "xtrub += 0.25*np.random.normal(size=xtrue.shape)"
   ]
  },
  {
   "cell_type": "code",
   "execution_count": 20,
   "id": "5b980492-ec80-4e08-9ca5-2a9d98ac7aa8",
   "metadata": {},
   "outputs": [
    {
     "name": "stdout",
     "output_type": "stream",
     "text": [
      "Lagrangan=[ 0.          0.          0.          0.         56.47807547]\r"
     ]
    },
    {
     "data": {
      "text/plain": [
       "56.47807546992996"
      ]
     },
     "execution_count": 20,
     "metadata": {},
     "output_type": "execute_result"
    }
   ],
   "source": [
    "# check if the Lagrangian of the true theta, xtrue, gives 0\n",
    "justlag(xtrub)"
   ]
  },
  {
   "cell_type": "code",
   "execution_count": 21,
   "id": "37515e52-a398-4d39-a7b2-505fd94f0465",
   "metadata": {},
   "outputs": [
    {
     "data": {
      "text/plain": [
       "array([-9.78686937e+01, -1.95183613e+02, -1.93641046e+02, -1.91099454e+02,\n",
       "       -1.87248078e+02, -1.81800162e+02, -1.74778293e+02, -1.66392463e+02,\n",
       "       -1.56764049e+02, -1.45909266e+02, -1.33883801e+02, -1.20947354e+02,\n",
       "       -1.07581716e+02, -9.43437880e+01, -8.16465891e+01, -6.96183167e+01,\n",
       "       -5.82431835e+01, -4.75347026e+01, -3.75739451e+01, -2.84544010e+01,\n",
       "       -2.03074950e+01, -1.32354687e+01, -7.14189399e+00, -1.81205126e+00,\n",
       "        2.84926698e+00,  6.82528466e+00,  1.01473357e+01,  1.28944157e+01,\n",
       "        1.50581102e+01,  1.65558209e+01,  1.74121602e+01,  1.78273524e+01,\n",
       "        1.79841518e+01,  1.78918808e+01,  1.74826753e+01,  1.67536899e+01,\n",
       "        1.57717958e+01,  1.46173470e+01,  1.33613337e+01,  1.20661376e+01,\n",
       "        1.07728398e+01,  9.48550080e+00,  8.18594861e+00,  6.87589700e+00,\n",
       "        5.58936056e+00,  4.39713078e+00,  3.38426813e+00,  2.60365347e+00,\n",
       "        2.06301410e+00,  1.74229514e+00,  1.59086113e+00,  1.51674746e+00,\n",
       "        1.42759330e+00,  1.29278741e+00,  1.16106343e+00,  1.11281813e+00,\n",
       "        1.18043766e+00,  1.33707039e+00,  1.56602225e+00,  1.89242754e+00,\n",
       "        2.33161119e+00,  2.83428210e+00,  3.31180764e+00,  3.70583251e+00,\n",
       "        4.02637251e+00,  4.31591298e+00,  4.58993900e+00,  4.83250225e+00,\n",
       "        5.03755970e+00,  5.21788038e+00,  5.37097189e+00,  5.46086616e+00,\n",
       "        5.46715826e+00,  5.43400613e+00,  5.43301813e+00,  5.48093717e+00,\n",
       "        5.52938045e+00,  5.53963684e+00,  5.51581801e+00,  5.46552335e+00,\n",
       "        5.38198606e+00,  5.27053410e+00,  5.15804394e+00,  5.06624600e+00,\n",
       "        4.98552585e+00,  4.88201541e+00,  4.73364577e+00,  4.54933013e+00,\n",
       "        4.34536675e+00,  4.12083929e+00,  3.86517919e+00,  3.58249719e+00,\n",
       "        3.29299258e+00,  3.00669290e+00,  2.71192527e+00,  2.39854708e+00,\n",
       "        2.08185796e+00,  1.78411210e+00,  1.50774367e+00,  1.24213759e+00,\n",
       "        9.88578111e-01,  7.59446904e-01,  5.60020013e-01,  3.83735110e-01,\n",
       "        2.22258552e-01,  7.39218680e-02, -5.94814809e-02, -1.78168425e-01,\n",
       "       -2.78443498e-01, -3.53388027e-01, -4.03127101e-01, -4.38135429e-01,\n",
       "       -4.69761942e-01, -5.03803578e-01, -5.40301009e-01, -5.76732560e-01,\n",
       "       -6.11314468e-01, -6.42006257e-01, -6.64965284e-01, -6.78904310e-01,\n",
       "       -6.87597283e-01, -6.95899129e-01, -7.01006728e-01, -6.93818278e-01,\n",
       "       -6.71519366e-01, -6.42531117e-01, -6.17046912e-01, -5.95995431e-01,\n",
       "       -5.75434401e-01, -5.55074706e-01, -5.36353307e-01, -5.16127331e-01,\n",
       "       -4.88472868e-01, -4.52174744e-01, -4.10467335e-01, -3.67604013e-01,\n",
       "       -3.25913166e-01, -2.85516727e-01, -2.47191423e-01, -2.13301644e-01,\n",
       "       -1.85736552e-01, -1.63957071e-01, -1.45469275e-01, -1.28591829e-01,\n",
       "       -1.13725490e-01, -1.01627907e-01, -9.11936191e-02, -8.04513578e-02,\n",
       "       -6.96482112e-02, -6.07239257e-02, -5.45320763e-02, -4.95573192e-02,\n",
       "       -4.40023323e-02, -3.79507183e-02, -3.26335171e-02, -2.89563647e-02,\n",
       "       -2.65034552e-02, -2.42715300e-02, -2.18160567e-02, -1.91805593e-02,\n",
       "       -1.65923649e-02, -1.41978987e-02, -1.22233202e-02, -1.10487573e-02,\n",
       "       -1.06940563e-02, -1.07337515e-02, -1.08258515e-02, -1.09342939e-02,\n",
       "       -1.12793438e-02, -1.18871593e-02, -1.22693458e-02, -1.20855388e-02,\n",
       "       -1.14201805e-02, -1.03824854e-02, -9.01432901e-03, -7.43904851e-03,\n",
       "       -5.84262797e-03, -4.31407007e-03, -2.89463926e-03, -1.61191944e-03,\n",
       "       -4.86169401e-04,  5.53683056e-04,  1.65932403e-03,  2.85136560e-03,\n",
       "        3.99643768e-03,  5.00019204e-03,  5.95674153e-03,  6.98693767e-03,\n",
       "        8.02233547e-03,  8.89283376e-03,  9.47992517e-03,  9.77106356e-03,\n",
       "        9.81507103e-03,  9.61321969e-03,  9.16117059e-03,  8.54829090e-03,\n",
       "        7.93488120e-03,  7.40721271e-03,  6.94864754e-03,  6.56380340e-03,\n",
       "        6.32809513e-03,  6.32089485e-03,  6.47636469e-03,  6.64422077e-03,\n",
       "        6.75644419e-03,  6.84529221e-03,  6.94857630e-03,  7.02441332e-03,\n",
       "        7.01725810e-03,  6.92784875e-03,  6.78504728e-03,  6.58942483e-03,\n",
       "        6.29950162e-03,  5.88527157e-03,  5.38099670e-03,  4.88827655e-03,\n",
       "        4.47866153e-03,  4.14332517e-03,  3.82036278e-03,  3.47768030e-03,\n",
       "        3.14478206e-03,  2.84487660e-03,  2.55766381e-03,  2.25918788e-03,\n",
       "        1.96836473e-03,  1.71756229e-03,  1.49247380e-03,  1.26185511e-03,\n",
       "        1.02007453e-03,  7.85002639e-04,  5.78984793e-04,  4.06754175e-04,\n",
       "        2.62766146e-04,  1.49732697e-04,  8.54476389e-05,  8.18981638e-05,\n",
       "        1.22648813e-04,  1.71490388e-04,  1.97303316e-04,  1.90098209e-04,\n",
       "        1.47622766e-04,  5.96437700e-05, -7.86139736e-05, -2.49685501e-04,\n",
       "       -4.26296852e-04, -5.89130903e-04, -7.19728751e-04, -7.97172000e-04,\n",
       "       -8.09983499e-04, -7.61746389e-04, -6.66829516e-04, -5.45048868e-04,\n",
       "       -4.18216328e-04, -3.02307897e-04, -2.03647331e-04, -1.22864185e-04,\n",
       "       -5.43898422e-05, -1.13758136e+01, -2.13190364e+01, -2.95477680e+01,\n",
       "       -3.66278940e+01, -4.28695379e+01, -4.80716948e+01, -5.21999120e+01,\n",
       "       -5.55678307e+01, -5.82062321e+01, -5.96980275e+01, -5.96943549e+01,\n",
       "       -5.83671141e+01, -5.62196063e+01, -5.35258836e+01, -5.01843700e+01,\n",
       "       -4.60833776e+01, -4.13496073e+01, -3.61962938e+01, -3.07230799e+01,\n",
       "       -2.49579322e+01, -1.90325407e+01, -1.31843935e+01, -7.51430843e+00,\n",
       "       -1.96561241e+00,  3.43113366e+00,  8.48216385e+00,  1.30200036e+01,\n",
       "        1.70091103e+01,  2.04925209e+01,  2.35366427e+01,  2.61849119e+01,\n",
       "        2.84480134e+01,  3.03057051e+01,  3.16888766e+01,  3.25451913e+01,\n",
       "        3.29276063e+01,  3.29230323e+01,  3.25344685e+01,  3.17332433e+01,\n",
       "        3.05626312e+01,  2.91438110e+01,  2.76165917e+01,  2.60474511e+01,\n",
       "        2.44087851e+01,  2.26754369e+01,  2.08748664e+01,  1.90152633e+01,\n",
       "        1.70510599e+01,  1.49556236e+01,  1.27971256e+01,  1.07231336e+01,\n",
       "        8.84683814e+00,  7.15552986e+00,  5.56350112e+00,  4.03800260e+00,\n",
       "        2.63236416e+00,  1.39594364e+00,  3.19586088e-01, -6.36761705e-01,\n",
       "       -1.49021447e+00, -2.22901736e+00, -2.86325619e+00, -3.43115968e+00,\n",
       "       -3.94996544e+00, -4.38728173e+00, -4.70436275e+00, -4.91071242e+00,\n",
       "       -5.04711776e+00, -5.13453668e+00, -5.16057752e+00, -5.12034869e+00,\n",
       "       -5.04075283e+00, -4.94342625e+00, -4.81796150e+00, -4.64605298e+00,\n",
       "       -4.44149902e+00, -4.23842101e+00, -4.04327117e+00, -3.82541111e+00,\n",
       "       -3.56017596e+00, -3.26451281e+00, -2.97474089e+00, -2.70723771e+00,\n",
       "       -2.45600674e+00, -2.21448847e+00, -1.98300787e+00, -1.75627204e+00,\n",
       "       -1.52811036e+00, -1.30347342e+00, -1.10059603e+00, -9.38913220e-01,\n",
       "       -8.20862813e-01, -7.33777241e-01, -6.68024867e-01, -6.22566314e-01,\n",
       "       -5.99179970e-01, -5.94341781e-01, -5.98983897e-01, -6.06915224e-01,\n",
       "       -6.16259798e-01, -6.25421750e-01, -6.34076814e-01, -6.44267263e-01,\n",
       "       -6.59933251e-01, -6.82003249e-01, -7.08143595e-01, -7.36056627e-01,\n",
       "       -7.61530698e-01, -7.77717703e-01, -7.82810925e-01, -7.85569718e-01,\n",
       "       -7.98070413e-01, -8.21305217e-01, -8.43904370e-01, -8.55388407e-01,\n",
       "       -8.52066827e-01, -8.34129887e-01, -8.02304672e-01, -7.57103449e-01,\n",
       "       -6.99237128e-01, -6.35113703e-01, -5.76434820e-01, -5.30906053e-01,\n",
       "       -4.97208690e-01, -4.70676787e-01, -4.51006503e-01, -4.39061353e-01,\n",
       "       -4.29682734e-01, -4.13821528e-01, -3.88320490e-01, -3.57342608e-01,\n",
       "       -3.24375340e-01, -2.88392143e-01, -2.48103665e-01, -2.04984174e-01,\n",
       "       -1.62132210e-01, -1.21721764e-01, -8.39771027e-02, -4.84426080e-02,\n",
       "       -1.65579442e-02,  9.16616212e-03,  2.94407558e-02,  4.72824890e-02,\n",
       "        6.43739987e-02,  7.92133525e-02,  8.93515824e-02,  9.50656151e-02,\n",
       "        9.87611964e-02,  1.02133683e-01,  1.04759257e-01,  1.05834946e-01,\n",
       "        1.06093011e-01,  1.06650897e-01,  1.07263633e-01,  1.06631832e-01,\n",
       "        1.04085814e-01,  1.00487550e-01,  9.72294296e-02,  9.46758722e-02,\n",
       "        9.21506383e-02,  8.89207380e-02,  8.47089727e-02,  7.95592287e-02,\n",
       "        7.36319510e-02,  6.72628339e-02,  6.10589791e-02,  5.56754564e-02,\n",
       "        5.12362905e-02,  4.73720640e-02,  4.38504657e-02,  4.06888739e-02,\n",
       "        3.78837639e-02,  3.51835326e-02,  3.23060672e-02,  2.92520480e-02,\n",
       "        2.61445330e-02,  2.30881056e-02,  2.01308578e-02,  1.73547676e-02,\n",
       "        1.48542952e-02,  1.25804918e-02,  1.05188626e-02,  8.78554110e-03,\n",
       "        7.52592160e-03,  6.79499007e-03,  6.47415176e-03,  6.37138174e-03,\n",
       "        6.33071255e-03,  6.25039125e-03,  6.03672102e-03,  5.64999561e-03,\n",
       "        5.19671947e-03,  4.86040298e-03,  4.73976708e-03,  4.70471874e-03,\n",
       "        4.55274769e-03,  4.24990737e-03,  3.89706920e-03,  3.53757489e-03,\n",
       "        3.09568684e-03,  2.54995295e-03,  2.02657683e-03,  1.60211908e-03,\n",
       "        1.23548493e-03,  8.98354129e-04,  6.51637091e-04,  5.49038892e-04,\n",
       "        5.37041354e-04,  5.25413278e-04,  4.97375768e-04,  5.00221355e-04,\n",
       "        5.46770629e-04,  5.79418251e-04,  5.39988334e-04,  4.36991841e-04,\n",
       "        3.26655825e-04,  2.42200482e-04,  1.44365847e-04, -2.02455598e-05,\n",
       "       -2.28852623e-04, -4.11613075e-04, -5.43076294e-04, -6.56599535e-04,\n",
       "       -7.75703698e-04, -8.80743682e-04, -9.54857622e-04, -1.01558088e-03,\n",
       "       -1.08359530e-03, -1.16095645e-03, -1.23815786e-03, -1.30796085e-03,\n",
       "       -1.35679827e-03, -1.36759531e-03, -1.33974014e-03, -1.28274089e-03,\n",
       "       -1.20331822e-03, -1.11024617e-03, -1.02547130e-03, -9.69105451e-04,\n",
       "       -9.30672756e-04, -8.84299430e-04, -8.18147382e-04, -7.36682513e-04,\n",
       "       -6.42006829e-04, -5.30065355e-04, -4.02303787e-04, -2.73085356e-04,\n",
       "       -1.60872770e-04, -7.57345414e-05, -1.82059885e-05,  1.45845455e-05,\n",
       "        2.44790339e-05,  1.49041473e-05, -2.66570268e-06, -1.41242427e-05,\n",
       "       -1.16736092e-05])"
      ]
     },
     "execution_count": 21,
     "metadata": {},
     "output_type": "execute_result"
    }
   ],
   "source": [
    "# check if the gradient of the Lagrangian is zero for the true theta, xtrue\n",
    "justgrad(xtrub)"
   ]
  },
  {
   "cell_type": "code",
   "execution_count": null,
   "id": "21db0740-ee4c-4114-9fce-008cfd64cda2",
   "metadata": {},
   "outputs": [],
   "source": [
    "# test hess functions\n",
    "justhess(xtrub)"
   ]
  },
  {
   "cell_type": "code",
   "execution_count": 19,
   "id": "829c0135-e4c0-4ab2-ad58-49c26de39804",
   "metadata": {},
   "outputs": [
    {
     "name": "stdout",
     "output_type": "stream",
     "text": [
      "Lagrangan=[  0.           0.         203.37153216 170.81303307 132.59051395]\r"
     ]
    }
   ],
   "source": [
    "res = so.minimize(justlag, xtrub, jac=justgrad, options={'maxiter': 2})"
   ]
  },
  {
   "cell_type": "code",
   "execution_count": 20,
   "id": "bb69f02d-4b8e-42c8-9ef8-28a7e6173b8a",
   "metadata": {},
   "outputs": [
    {
     "name": "stdout",
     "output_type": "stream",
     "text": [
      "[  0.           0.           0.           0.           0.\n",
      "   0.           0.           0.           0.           0.\n",
      "   0.           0.           0.           0.           0.\n",
      "   0.           0.         203.37153216 170.81303307 132.59051395]\n"
     ]
    }
   ],
   "source": [
    "print(laghist)"
   ]
  },
  {
   "cell_type": "code",
   "execution_count": 43,
   "id": "03d1d80b-3ef8-46c6-97c5-dcdc2e16fcab",
   "metadata": {},
   "outputs": [
    {
     "name": "stdout",
     "output_type": "stream",
     "text": [
      "lag= 0.5907160329132436\n",
      "0.5907160329132436\n",
      "128.72700100839862\n"
     ]
    }
   ],
   "source": [
    "# check value of Lagrangian at computed value of theta\n",
    "print(justlag(res.x))\n",
    "\n",
    "# check if computed thetahat is close to true theta\n",
    "print(nl.norm(res.x - np.concatenate([truethetaR, truethetaI])))"
   ]
  },
  {
   "cell_type": "code",
   "execution_count": 44,
   "id": "a7d88a15-033f-438c-84c4-b273a4c0a508",
   "metadata": {},
   "outputs": [
    {
     "data": {
      "image/png": "[encoded data removed]",
      "text/plain": [
       "<Figure size 432x288 with 1 Axes>"
      ]
     },
     "metadata": {
      "needs_background": "light"
     },
     "output_type": "display_data"
    }
   ],
   "source": [
    "# this code plots the estimated potential against the true potential\n",
    "\n",
    "mm = 2*nmax+1\n",
    "thetahat = np.zeros(mm, dtype=np.complex128)\n",
    "thetahat += res.x[:mm]\n",
    "thetahat[1:] += 1j*res.x[mm:]\n",
    "nvec2 = np.arange(-2*nmax,2*nmax+1)\n",
    "convmat2 = np.exp(1j*np.pi*np.outer(nvec2, xvec)/L)\n",
    "fullthetahat = np.concatenate([np.flipud(thetahat[1:].conj()), thetahat])\n",
    "vx = fullthetahat @ convmat2\n",
    "\n",
    "# plot the real part of theta\n",
    "# red = learned potential\n",
    "# black = true potential\n",
    "trim = 250\n",
    "plt.plot(xvec[trim:-trim], np.real(vx)[trim:-trim], color='red')\n",
    "plt.plot(xvec[trim:-trim], np.real(v(xvec))[trim:-trim], color='black')\n",
    "plt.xlabel('x')\n",
    "plt.ylabel('Re(v(x))')\n",
    "plt.show()"
   ]
  },
  {
   "cell_type": "code",
   "execution_count": 45,
   "id": "4fc60392-e0cc-402e-a824-9221c9c34488",
   "metadata": {},
   "outputs": [
    {
     "data": {
      "image/png": "[encoded data removed]",
      "text/plain": [
       "<Figure size 432x288 with 1 Axes>"
      ]
     },
     "metadata": {
      "needs_background": "light"
     },
     "output_type": "display_data"
    }
   ],
   "source": [
    "# this code plots the difference between the real part of the estimated potential\n",
    "# and true potential\n",
    "\n",
    "trim = 250\n",
    "plt.plot(xvec[trim:-trim], np.real(vx)[trim:-trim] - np.real(v(xvec))[trim:-trim], color='black')\n",
    "plt.xlabel('x')\n",
    "plt.ylabel('difference in real parts')\n",
    "plt.show()"
   ]
  },
  {
   "cell_type": "code",
   "execution_count": 46,
   "id": "df3e5b42-06b2-4fde-9825-bcad6b97a4aa",
   "metadata": {},
   "outputs": [
    {
     "data": {
      "image/png": "[encoded data removed]",
      "text/plain": [
       "<Figure size 432x288 with 1 Axes>"
      ]
     },
     "metadata": {
      "needs_background": "light"
     },
     "output_type": "display_data"
    }
   ],
   "source": [
    "# this code plots the estimated potential against the true potential of the imaginary part\n",
    "\n",
    "# red = learned potential\n",
    "# black = true potential\n",
    "plt.plot(xvec, np.imag(vx), color='red')\n",
    "plt.plot(xvec, np.imag(v(xvec)), color='black')\n",
    "plt.xlabel('x')\n",
    "plt.ylabel('Im(v(x))')\n",
    "plt.show()"
   ]
  },
  {
   "cell_type": "markdown",
   "id": "1acb43f0-da6f-41ba-926d-f9f95be48c76",
   "metadata": {},
   "source": [
    "**Initialize theta with uniform random values**"
   ]
  },
  {
   "cell_type": "code",
   "execution_count": null,
   "id": "42b8d38b-58a4-4ccc-9a0c-01753e17bec4",
   "metadata": {},
   "outputs": [],
   "source": [
    "# uniform random values from the interval [-0.5, 0.5]\n",
    "# this should be difficult for the optimizer to find a good minimum\n",
    "\n",
    "thetahatR = np.random.uniform(size=2*nmax+1) - 0.5\n",
    "thetahatI = np.random.uniform(size=2*nmax) - 0.5\n",
    "xform = np.concatenate([thetahatR, thetahatI])\n",
    "res = so.minimize(justlag, xform, jac=justgrad, method='bfgs')"
   ]
  },
  {
   "cell_type": "code",
   "execution_count": null,
   "id": "14215909-7713-441e-b657-a9f29fb1d7e1",
   "metadata": {},
   "outputs": [],
   "source": [
    "# plot estimated potential\n",
    "\n",
    "mm = 2*nmax+1\n",
    "thetahat = np.zeros(mm, dtype=np.complex128)\n",
    "thetahat += res.x[:mm]\n",
    "thetahat[1:] += 1j*res.x[mm:]\n",
    "nvec2 = np.arange(-2*nmax,2*nmax+1)\n",
    "convmat2 = np.exp(1j*np.pi*np.outer(nvec2, xvec)/L)\n",
    "fullthetahat = np.concatenate([np.flipud(thetahat[1:].conj()), thetahat])\n",
    "vx = fullthetahat @ convmat2\n",
    "\n",
    "# plot real part of theta\n",
    "# red = learned potential\n",
    "# black = true potential\n",
    "plt.plot(xvec, np.real(vx), color='red')\n",
    "plt.plot(xvec, np.real(v(xvec)), color='black')\n",
    "plt.xlabel('x')\n",
    "plt.ylabel('Re(v(x))')\n",
    "plt.show()"
   ]
  },
  {
   "cell_type": "code",
   "execution_count": null,
   "id": "b01a46b2-fe54-4aa1-b8b7-a876a58f0554",
   "metadata": {},
   "outputs": [],
   "source": []
  }
 ],
 "metadata": {
  "kernelspec": {
   "display_name": "Python 3 (ipykernel)",
   "language": "python",
   "name": "python3"
  },
  "language_info": {
   "codemirror_mode": {
    "name": "ipython",
    "version": 3
   },
   "file_extension": ".py",
   "mimetype": "text/x-python",
   "name": "python",
   "nbconvert_exporter": "python",
   "pygments_lexer": "ipython3",
   "version": "3.9.9"
  }
 },
 "nbformat": 4,
 "nbformat_minor": 5
}
