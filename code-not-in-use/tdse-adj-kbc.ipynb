{
 "cells": [
  {
   "cell_type": "code",
   "execution_count": 1,
   "id": "b56b4e7b-b7e8-4446-a869-dc16fcad25e4",
   "metadata": {},
   "outputs": [],
   "source": [
    "import numpy as np\n",
    "import numpy.linalg as nl\n",
    "import scipy.optimize as so\n",
    "import scipy.linalg as sl\n",
    "import scipy.integrate as si\n",
    "import matplotlib.pyplot as plt\n",
    "from numba import njit"
   ]
  },
  {
   "cell_type": "code",
   "execution_count": 2,
   "id": "ad8eba24-b227-4b38-aade-da3cfb717ad8",
   "metadata": {},
   "outputs": [],
   "source": [
    "@njit\n",
    "def toeplitz(r, c):\n",
    "    c = np.asarray(c).ravel()\n",
    "    r = np.asarray(r).ravel()\n",
    "    # Form a 1-D array containing a reversed c followed by r[1:] that could be\n",
    "    # strided to give us toeplitz matrix.\n",
    "    vals = np.concatenate((c[::-1], r[1:]))\n",
    "    out_shp = len(c), len(r)\n",
    "    n = vals.strides[0]\n",
    "    return np.lib.stride_tricks.as_strided(vals[len(c)-1:], shape=out_shp, strides=(-n, n)).copy()"
   ]
  },
  {
   "cell_type": "markdown",
   "id": "ad17bee5-e941-4ef1-9314-9ea62ce43504",
   "metadata": {},
   "source": [
    "<h3>Forward Problem</h3>"
   ]
  },
  {
   "cell_type": "code",
   "execution_count": 3,
   "id": "adfe7af6-6efb-4071-83e8-c95bc24d1d5a",
   "metadata": {},
   "outputs": [],
   "source": [
    "# set number of basis functions to use\n",
    "# for Fourier representation\n",
    "nmax = 128\n",
    "\n",
    "# set size of spatial domain\n",
    "L = 16"
   ]
  },
  {
   "cell_type": "code",
   "execution_count": 4,
   "id": "5570b7a7-a1cc-498b-bd45-f95b5fca1742",
   "metadata": {},
   "outputs": [],
   "source": [
    "# test potentials for generating synthetic observations\n",
    "\n",
    "# symmetric double well potential\n",
    "#def v(x):\n",
    "#    return 0.25*(x**2 - 25)**2\n",
    "\n",
    "# dimensionless quantum harmonic oscillator potential\n",
    "def v(x):\n",
    "    return 0.5*x**2"
   ]
  },
  {
   "cell_type": "code",
   "execution_count": 5,
   "id": "bb893b25-ec9a-4ca4-b2fe-06bd327e31b6",
   "metadata": {},
   "outputs": [],
   "source": [
    "# this code transforms the potential function to the fourier basis\n",
    "# and then forms the potential matrix\n",
    "\n",
    "# set sampling rate\n",
    "# if f_sample = 2*nmax, then we are sampling at the Nyquist frequency\n",
    "# scaling the Nyquist frequency reduces resolution but uses less memory\n",
    "f_sample = 100 * 2 * nmax\n",
    "\n",
    "# create vector of time step points\n",
    "t = np.linspace(-L, L, f_sample+2, endpoint=False)\n",
    "\n",
    "# sample the potential at times t, do FFT for real input\n",
    "# (normalizing on the forward transform),\n",
    "# and take the first 2*nmax+1 coefficents\n",
    "y = np.fft.rfft(v(t), norm=\"forward\")[:(2*nmax+1)]\n",
    "\n",
    "# store the Fourier series coefficients for n-m=0,...,2*nmax\n",
    "# WHY DO WE MULTIPLY BY -1^(n-m)?\n",
    "vrow = y * (-1)**np.arange(2*nmax+1)\n",
    "\n",
    "# construct potential matrix\n",
    "vmat = toeplitz(r=vrow,c=np.conj(vrow))"
   ]
  },
  {
   "cell_type": "code",
   "execution_count": 5,
   "id": "cebf33f3-f4b6-4b29-aacc-08a26a89387b",
   "metadata": {},
   "outputs": [
    {
     "name": "stdout",
     "output_type": "stream",
     "text": [
      "0.0\n",
      "5.72003711317733e-12\n",
      "4.07668687362199e-14\n"
     ]
    }
   ],
   "source": [
    "# this code constructions the Hamiltonian matrix\n",
    "# and diagonalizes it, this is then used to propagate the system\n",
    "\n",
    "# construct kinetic matrix\n",
    "kmat = np.diag(np.arange(-nmax,nmax+1)**2 * np.pi**2 / (2*L**2))\n",
    "\n",
    "# construct Hamiltonian matrix\n",
    "hmat = kmat + vmat\n",
    "\n",
    "# check if the Hamiltonian matrix is Hermitian\n",
    "print(nl.norm(hmat - hmat.T.conj()))\n",
    "\n",
    "# diagonalize hmat matrix (i.e. eigendecomposition)\n",
    "# eigenspectrum / eigensates\n",
    "eigval, eigsta = nl.eigh(hmat)\n",
    "\n",
    "# check if eigval / eigsta diagonalizes hmat\n",
    "# if this is close to zero then\n",
    "# hmat = states @ np.diag(spec) @ np.conj(states).T\n",
    "print(nl.norm(hmat @ eigsta - eigsta @ np.diag(eigval)))\n",
    "\n",
    "# check if the eigenstates are unitary\n",
    "print(nl.norm(eigsta @ eigsta.T.conj() - np.eye(2*nmax+1)))"
   ]
  },
  {
   "cell_type": "code",
   "execution_count": 6,
   "id": "f560c584-2fec-4373-84df-760d06d308ab",
   "metadata": {},
   "outputs": [],
   "source": [
    "# this code constructs elements needed for plotting and\n",
    "# converting from the Fourier basis to real space\n",
    "\n",
    "# create vector of real space points\n",
    "xvec = np.linspace(-L, L, 1025)\n",
    "\n",
    "# construct matrix to convert basis coefficients into real space values\n",
    "nvec = np.arange(-nmax, nmax+1) # nvec=-nmax,...,0,...,nmax\n",
    "convmat = np.exp(1j * np.pi * np.outer(nvec, xvec) / L) / np.sqrt(2*L)"
   ]
  },
  {
   "cell_type": "code",
   "execution_count": 7,
   "id": "bb88599c-3295-4ad2-896d-28f42dada22d",
   "metadata": {},
   "outputs": [
    {
     "data": {
      "image/png": "[encoded data removed]",
      "text/plain": [
       "<Figure size 432x288 with 1 Axes>"
      ]
     },
     "metadata": {
      "needs_background": "light"
     },
     "output_type": "display_data"
    },
    {
     "name": "stdout",
     "output_type": "stream",
     "text": [
      "1.0000000000000018\n"
     ]
    }
   ],
   "source": [
    "# this code plots the ground state wave function of hmat\n",
    "\n",
    "wavefn = eigsta[:, 0] @ convmat\n",
    "plt.plot(xvec, -wavefn.real)\n",
    "plt.show()\n",
    "\n",
    "# check if the normalization of the wave function is 1\n",
    "print(np.sum(np.abs(wavefn)**2 * (xvec[1]-xvec[0])))"
   ]
  },
  {
   "cell_type": "code",
   "execution_count": 8,
   "id": "12e15e71-591e-4115-9cac-b427cee21e45",
   "metadata": {},
   "outputs": [
    {
     "data": {
      "image/png": "[encoded data removed]",
      "text/plain": [
       "<Figure size 432x288 with 1 Axes>"
      ]
     },
     "metadata": {
      "needs_background": "light"
     },
     "output_type": "display_data"
    },
    {
     "name": "stdout",
     "output_type": "stream",
     "text": [
      "0.9999999999999993\n"
     ]
    }
   ],
   "source": [
    "# this code plots the first excited state of hmat\n",
    "\n",
    "wavefn = eigsta[:, 1] @ convmat\n",
    "plt.plot(xvec, -wavefn.real)\n",
    "plt.show()\n",
    "\n",
    "# check if the normalization of the wave function is 1\n",
    "print(np.sum(np.abs(wavefn)**2 * (xvec[1]-xvec[0])))"
   ]
  },
  {
   "cell_type": "code",
   "execution_count": 9,
   "id": "c7d9113b-b601-4c1d-85e2-ec227a142132",
   "metadata": {},
   "outputs": [
    {
     "data": {
      "image/png": "[encoded data removed]",
      "text/plain": [
       "<Figure size 432x288 with 1 Axes>"
      ]
     },
     "metadata": {
      "needs_background": "light"
     },
     "output_type": "display_data"
    }
   ],
   "source": [
    "# this code creates the initial wave function psi0\n",
    "\n",
    "# triangular pulse\n",
    "# def psi0(x):\n",
    "#     return np.piecewise(x, [x < -1, (x >= -1) & (x <= 1), x > 1], [0, lambda x: (1 - np.abs(x)), 0])\n",
    "\n",
    "# parabolic pulse\n",
    "# def psi0(x):\n",
    "#     return np.piecewise(x, [x < -1, (x >= -1) & (x <= 1), x > 1], [0, lambda x: (1 - x**2), 0])\n",
    "\n",
    "# hyperbolic secant squared\n",
    "# def psi0(x):\n",
    "#     return (np.cosh(x))**(-2)\n",
    "\n",
    "# Laplace\n",
    "# def psi0(x):\n",
    "#     return np.exp(-np.abs(x))\n",
    "\n",
    "# rounded box function\n",
    "def psi0(x):\n",
    "    return 1.0 + np.tanh((1 - x**2)/0.5)\n",
    "\n",
    "# normalize psi0\n",
    "norm = np.sqrt(si.quad(lambda x: np.abs(psi0(x))**2, a=-L, b=L)[0])\n",
    "def normpsi0(x):\n",
    "    return psi0(x)/norm\n",
    "\n",
    "# transform psi0 to Fourier basis using quadrature method\n",
    "# do this by stepping through and integrating for each n\n",
    "vraw = np.zeros(nmax+1, dtype=np.complex128)\n",
    "for thisn in range(nmax+1):\n",
    "    def integ(x):\n",
    "        return (2*L)**(-0.5)*np.exp(-1j*np.pi*thisn*x/L)*normpsi0(x)\n",
    "    def rinteg(x):\n",
    "        return np.real(integ(x))\n",
    "    def iinteg(x):\n",
    "        return np.imag(integ(x))\n",
    "    vraw[thisn] = si.quad(rinteg, a=-L, b=L)[0] + 1j*si.quad(iinteg, a=-L, b=L)[0]\n",
    "ainit = np.concatenate([np.conjugate(np.flipud(vraw[1:])), vraw])\n",
    "\n",
    "# check if the reconstructed psi0 is \"close enough\" to the\n",
    "# actual psi0\n",
    "plt.plot(xvec, normpsi0(xvec), color='black', label=r\"True $\\psi_0$\")\n",
    "psi0recon = np.real(ainit @ convmat)\n",
    "plt.plot(xvec, psi0recon, color='red', label=r\"Reconstructed $\\psi_0$\")\n",
    "plt.legend()\n",
    "plt.show()"
   ]
  },
  {
   "cell_type": "markdown",
   "id": "be480105-d1a0-49bf-99ae-20016fc16ecd",
   "metadata": {},
   "source": [
    "<h3>Inverse Problem</h3>"
   ]
  },
  {
   "cell_type": "code",
   "execution_count": 10,
   "id": "f1a68e95-59f7-4fe7-852f-6f6a0d8fd526",
   "metadata": {},
   "outputs": [],
   "source": [
    "# set the time step size for propagating\n",
    "dt = 0.01\n",
    "\n",
    "# set the number of steps to propagate \"a\" vector in time\n",
    "nsteps = 200\n"
   ]
  },
  {
   "cell_type": "markdown",
   "id": "6d4c7af1-b230-4e46-b76c-d9789f28458b",
   "metadata": {},
   "source": [
    "**Generate Training Data**"
   ]
  },
  {
   "cell_type": "code",
   "execution_count": 11,
   "id": "d5073758-84d9-4e3a-962c-100ae3a9ccf0",
   "metadata": {
    "tags": []
   },
   "outputs": [
    {
     "name": "stdout",
     "output_type": "stream",
     "text": [
      "[1. 1. 1. 1. 1. 1. 1. 1. 1. 1. 1. 1. 1. 1. 1. 1. 1. 1. 1. 1. 1. 1. 1. 1.\n",
      " 1. 1. 1. 1. 1. 1. 1. 1. 1. 1. 1. 1. 1. 1. 1. 1. 1. 1. 1. 1. 1. 1. 1. 1.\n",
      " 1. 1. 1. 1. 1. 1. 1. 1. 1. 1. 1. 1. 1. 1. 1. 1. 1. 1. 1. 1. 1. 1. 1. 1.\n",
      " 1. 1. 1. 1. 1. 1. 1. 1. 1. 1. 1. 1. 1. 1. 1. 1. 1. 1. 1. 1. 1. 1. 1. 1.\n",
      " 1. 1. 1. 1. 1. 1. 1. 1. 1. 1. 1. 1. 1. 1. 1. 1. 1. 1. 1. 1. 1. 1. 1. 1.\n",
      " 1. 1. 1. 1. 1. 1. 1. 1. 1. 1. 1. 1. 1. 1. 1. 1. 1. 1. 1. 1. 1. 1. 1. 1.\n",
      " 1. 1. 1. 1. 1. 1. 1. 1. 1. 1. 1. 1. 1. 1. 1. 1. 1. 1. 1. 1. 1. 1. 1. 1.\n",
      " 1. 1. 1. 1. 1. 1. 1. 1. 1. 1. 1. 1. 1. 1. 1. 1. 1. 1. 1. 1. 1. 1. 1. 1.\n",
      " 1. 1. 1. 1. 1. 1. 1. 1. 1.]\n"
     ]
    }
   ],
   "source": [
    "# this code generates the training data by propagating the \"a\" vector\n",
    "# of coefficients using the eigendecomposition from above\n",
    "\n",
    "# compute the propagator matrix using eigval & eigsta\n",
    "propmat = eigsta @ np.diag(np.exp(-1j * eigval * dt)) @ eigsta.T.conj()\n",
    "\n",
    "# initialize matrix to store time series data for \"a\" vector \n",
    "amat = np.zeros((nsteps+1, 2*nmax+1), dtype=np.complex128)\n",
    "amat[0, :] = ainit.copy()\n",
    "\n",
    "# propagate \"a\" vector using propmat\n",
    "for j in range(nsteps):\n",
    "    amat[j+1,:] = propmat @ amat[j,:]\n",
    "    \n",
    "# transform amat to real space\n",
    "psimat = np.abs(amat @ convmat)**2\n",
    "\n",
    "# check that wave function is normalized for every time step\n",
    "psimatnorm = np.sqrt(np.sum(np.abs(amat)**2, axis=1))\n",
    "print(psimatnorm)"
   ]
  },
  {
   "cell_type": "markdown",
   "id": "ca9676e3-7c4f-4701-8280-2999afd053d5",
   "metadata": {},
   "source": [
    "**Code for Propagating $\\hat{a}$ Vector**"
   ]
  },
  {
   "cell_type": "code",
   "execution_count": 12,
   "id": "09b58789-b69f-408a-a3ef-573c6ef4611f",
   "metadata": {},
   "outputs": [],
   "source": [
    "# this code propagates the a/ahat vector using a Hamiltonian which\n",
    "# depends on the modeling paramters theta/thetahat\n",
    "\n",
    "@njit\n",
    "def prop(x):\n",
    "    m = 2*nmax + 1\n",
    "    \n",
    "    # generate vhatmat from model paramters thetahat\n",
    "    thetahatR = x[:m]\n",
    "    thetahatI = np.copy(x[(m-1):])\n",
    "    thetahatI[0] = 0.0\n",
    "    thetahat = thetahatR + 1j*thetahatI\n",
    "    vhatmat = toeplitz(r=thetahat,c=np.conj(thetahat))\n",
    "\n",
    "    # Hamiltonian matrix \n",
    "    hhatmat = kmat + vhatmat\n",
    "\n",
    "    # eigendecomposition and compute propagator\n",
    "    hatspec, hatstates = np.linalg.eigh(hhatmat)\n",
    "    hatprop = hatstates @ np.diag(np.exp(-1j*hatspec*dt)) @ np.conj(hatstates.T)\n",
    "    hatpropH = hatstates @ np.diag(np.exp(1j*hatspec*dt)) @ np.conj(hatstates.T)\n",
    "\n",
    "    # propagate the ahat vector of coefficients, i.e., solve the *forward* problem\n",
    "    ahatmat = np.zeros((nsteps+1, 2*nmax+1), dtype=np.complex128)\n",
    "    ahatmat[0,:] = np.copy(ainit)\n",
    "    for j in range(nsteps):\n",
    "        ahatmat[j+1,:] = hatprop @ ahatmat[j,:]\n",
    "\n",
    "    # propagating the lambda vector backward in time, i.e., solve the *adjoint* problem\n",
    "    lambmat = np.zeros((nsteps+1, 2*nmax+1), dtype=np.complex128)\n",
    "    lambmat[nsteps,:] = ahatmat[nsteps,:] - amat[nsteps,:]\n",
    "    for j in range(nsteps-1,0,-1):\n",
    "        lambmat[j,:] = ahatmat[j,:] - amat[j,:] + hatpropH @ lambmat[j+1,:]\n",
    "    \n",
    "    return hatspec, hatstates, ahatmat, lambmat, hatprop, hatpropH\n"
   ]
  },
  {
   "cell_type": "code",
   "execution_count": 13,
   "id": "68e125d3-2317-42db-958e-235c1a66fb56",
   "metadata": {},
   "outputs": [],
   "source": [
    "# compute the Lagrangian\n",
    "# the input x is the vector of modeling parameters (theta or thetahat)\n",
    "\n",
    "@njit\n",
    "def laghelp(x, ahatmat):\n",
    "    # compute lagrangian\n",
    "    resid = ahatmat - amat\n",
    "    lag = 0.5*np.real(np.sum(np.conj(resid)*resid))\n",
    "    return lag\n",
    "\n",
    "laghistlen = 20\n",
    "laghist = np.zeros(laghistlen)\n",
    "itercnt = 0\n",
    "\n",
    "def justlag(x):\n",
    "    global laghist, laghistpsn\n",
    "    global glbhatspec, glbhatstates, glbahatmat, glblambmat\n",
    "    global glbhatprop, glbhatpropH\n",
    "    global itercnt\n",
    "    \n",
    "    # propagate system\n",
    "    glbhatspec, glbhatstates, glbahatmat, glblambmat, glbhatprop, glbhatpropH = prop(x)\n",
    "    \n",
    "    # compute Lagrange\n",
    "    lag = laghelp(x, glbahatmat)\n",
    "    itercnt += 1\n",
    "    \n",
    "    # roll the history back one and replace with newest value\n",
    "    # i.e. put newest value on the end of the stack\n",
    "    laghist = np.roll(laghist, -1)\n",
    "    laghist[-1] = lag\n",
    "    \n",
    "    # print the last 5 values of laghist\n",
    "    print(f'{itercnt} Lagrangan={laghist[-5:]}', end='\\r')\n",
    "    return lag\n",
    "    "
   ]
  },
  {
   "cell_type": "code",
   "execution_count": 14,
   "id": "bd42af42-3827-4981-85a6-604257cd5657",
   "metadata": {},
   "outputs": [],
   "source": [
    "# compute the gradients\n",
    "# the input x is the vector of modeling parameters (theta or thetahat)\n",
    "\n",
    "@njit\n",
    "def gradhelp(x, hatspec, hatstates, ahatmat, lambmat, derivamat):\n",
    "    m = 2*nmax + 1\n",
    "    \n",
    "    alldmat = np.zeros((2*m-1, m, m), dtype=np.complex128)\n",
    "    expspec = np.exp(-1j*dt*hatspec)\n",
    "    mask = np.zeros((m,m), dtype=np.complex128)\n",
    "    for ii in range(m):\n",
    "        for jj in range(m):\n",
    "            if np.abs(hatspec[ii] - hatspec[jj]) < 1e-8:\n",
    "                mask[ii,ii] = expspec[ii]\n",
    "            else:\n",
    "                mask[ii,jj] = (expspec[ii] - expspec[jj])/(-1j*dt*(hatspec[ii]-hatspec[jj]))\n",
    "    \n",
    "    for iii in range(m):\n",
    "        ctrvec = np.zeros(m, dtype=np.complex128)\n",
    "        ctrvec[iii] = 1.0\n",
    "        ctrmat = toeplitz(r=ctrvec, c=np.conj(ctrvec))\n",
    "        derivamat[iii, :, :] = hatstates.conj().T @ ctrmat @ hatstates\n",
    "        qmat = derivamat[iii, :, :] * mask\n",
    "        alldmat[iii,:,:] = -1j*dt* hatstates @ qmat @ hatstates.conj().T\n",
    "    \n",
    "    for iii in range(m-1):\n",
    "        ctrvec = np.zeros(m, dtype=np.complex128)\n",
    "        ctrvec[iii + 1] = 1.0j\n",
    "        ctrmat = toeplitz(r=ctrvec, c=np.conj(ctrvec))\n",
    "        derivamat[m + iii, :, :] = hatstates.conj().T @ ctrmat @ hatstates\n",
    "        qmat = derivamat[m + iii, :, :] * mask\n",
    "        alldmat[m + iii,:,:] = -1j*dt* hatstates @ qmat @ hatstates.conj().T\n",
    "\n",
    "    return alldmat\n",
    "        \n",
    "def justgrad(x):\n",
    "    global glbhatspec, glbhatstates, glbahatmat, glblambmat\n",
    "    global glballdmat, glbderivamat\n",
    "    \n",
    "    m = 2*nmax + 1\n",
    "    glbderivamat = np.zeros((2*m-1, m, m), dtype=np.complex128)\n",
    "    \n",
    "    # compute alldmat\n",
    "    glballdmat = gradhelp(x, glbhatspec, glbhatstates, glbahatmat, glblambmat, glbderivamat)\n",
    "    \n",
    "    # compute all entries of the gradient at once\n",
    "    gradients = np.real(np.einsum('ij,ajk,ik->a', np.conj(glblambmat[1:,:]), glballdmat, glbahatmat[:-1,:]))\n",
    "    return gradients"
   ]
  },
  {
   "cell_type": "markdown",
   "id": "ebb47a33-2c96-4dd9-90c2-728fa48a8946",
   "metadata": {},
   "source": [
    "**Check Functions Using True $\\theta$**"
   ]
  },
  {
   "cell_type": "code",
   "execution_count": 15,
   "id": "6174fd4a-ff6b-482c-96f5-a56e88294cfa",
   "metadata": {
    "tags": []
   },
   "outputs": [
    {
     "name": "stdout",
     "output_type": "stream",
     "text": [
      "(513,)\n"
     ]
    }
   ],
   "source": [
    "# Construct the true theta used to generate training data\n",
    "truethetaR = np.real(vrow)\n",
    "truethetaI = np.imag(vrow[1:])\n",
    "xtrue = np.concatenate([truethetaR, truethetaI])\n",
    "print(xtrue.shape)"
   ]
  },
  {
   "cell_type": "code",
   "execution_count": 16,
   "id": "d87d14d5-edbe-4c21-8e65-966f20a35928",
   "metadata": {},
   "outputs": [
    {
     "name": "stdout",
     "output_type": "stream",
     "text": [
      "1 Lagrangan=[0. 0. 0. 0. 0.]\r"
     ]
    },
    {
     "data": {
      "text/plain": [
       "0.0"
      ]
     },
     "execution_count": 16,
     "metadata": {},
     "output_type": "execute_result"
    }
   ],
   "source": [
    "# check if the Lagrangian of the true theta, xtrue, gives 0\n",
    "justlag(xtrue)"
   ]
  },
  {
   "cell_type": "code",
   "execution_count": 17,
   "id": "415c86b0-261f-4770-bc59-29f03f290730",
   "metadata": {},
   "outputs": [
    {
     "data": {
      "text/plain": [
       "array([0., 0., 0., 0., 0., 0., 0., 0., 0., 0., 0., 0., 0., 0., 0., 0., 0.,\n",
       "       0., 0., 0., 0., 0., 0., 0., 0., 0., 0., 0., 0., 0., 0., 0., 0., 0.,\n",
       "       0., 0., 0., 0., 0., 0., 0., 0., 0., 0., 0., 0., 0., 0., 0., 0., 0.,\n",
       "       0., 0., 0., 0., 0., 0., 0., 0., 0., 0., 0., 0., 0., 0., 0., 0., 0.,\n",
       "       0., 0., 0., 0., 0., 0., 0., 0., 0., 0., 0., 0., 0., 0., 0., 0., 0.,\n",
       "       0., 0., 0., 0., 0., 0., 0., 0., 0., 0., 0., 0., 0., 0., 0., 0., 0.,\n",
       "       0., 0., 0., 0., 0., 0., 0., 0., 0., 0., 0., 0., 0., 0., 0., 0., 0.,\n",
       "       0., 0., 0., 0., 0., 0., 0., 0., 0., 0., 0., 0., 0., 0., 0., 0., 0.,\n",
       "       0., 0., 0., 0., 0., 0., 0., 0., 0., 0., 0., 0., 0., 0., 0., 0., 0.,\n",
       "       0., 0., 0., 0., 0., 0., 0., 0., 0., 0., 0., 0., 0., 0., 0., 0., 0.,\n",
       "       0., 0., 0., 0., 0., 0., 0., 0., 0., 0., 0., 0., 0., 0., 0., 0., 0.,\n",
       "       0., 0., 0., 0., 0., 0., 0., 0., 0., 0., 0., 0., 0., 0., 0., 0., 0.,\n",
       "       0., 0., 0., 0., 0., 0., 0., 0., 0., 0., 0., 0., 0., 0., 0., 0., 0.,\n",
       "       0., 0., 0., 0., 0., 0., 0., 0., 0., 0., 0., 0., 0., 0., 0., 0., 0.,\n",
       "       0., 0., 0., 0., 0., 0., 0., 0., 0., 0., 0., 0., 0., 0., 0., 0., 0.,\n",
       "       0., 0., 0., 0., 0., 0., 0., 0., 0., 0., 0., 0., 0., 0., 0., 0., 0.,\n",
       "       0., 0., 0., 0., 0., 0., 0., 0., 0., 0., 0., 0., 0., 0., 0., 0., 0.,\n",
       "       0., 0., 0., 0., 0., 0., 0., 0., 0., 0., 0., 0., 0., 0., 0., 0., 0.,\n",
       "       0., 0., 0., 0., 0., 0., 0., 0., 0., 0., 0., 0., 0., 0., 0., 0., 0.,\n",
       "       0., 0., 0., 0., 0., 0., 0., 0., 0., 0., 0., 0., 0., 0., 0., 0., 0.,\n",
       "       0., 0., 0., 0., 0., 0., 0., 0., 0., 0., 0., 0., 0., 0., 0., 0., 0.,\n",
       "       0., 0., 0., 0., 0., 0., 0., 0., 0., 0., 0., 0., 0., 0., 0., 0., 0.,\n",
       "       0., 0., 0., 0., 0., 0., 0., 0., 0., 0., 0., 0., 0., 0., 0., 0., 0.,\n",
       "       0., 0., 0., 0., 0., 0., 0., 0., 0., 0., 0., 0., 0., 0., 0., 0., 0.,\n",
       "       0., 0., 0., 0., 0., 0., 0., 0., 0., 0., 0., 0., 0., 0., 0., 0., 0.,\n",
       "       0., 0., 0., 0., 0., 0., 0., 0., 0., 0., 0., 0., 0., 0., 0., 0., 0.,\n",
       "       0., 0., 0., 0., 0., 0., 0., 0., 0., 0., 0., 0., 0., 0., 0., 0., 0.,\n",
       "       0., 0., 0., 0., 0., 0., 0., 0., 0., 0., 0., 0., 0., 0., 0., 0., 0.,\n",
       "       0., 0., 0., 0., 0., 0., 0., 0., 0., 0., 0., 0., 0., 0., 0., 0., 0.,\n",
       "       0., 0., 0., 0., 0., 0., 0., 0., 0., 0., 0., 0., 0., 0., 0., 0., 0.,\n",
       "       0., 0., 0.])"
      ]
     },
     "execution_count": 17,
     "metadata": {},
     "output_type": "execute_result"
    }
   ],
   "source": [
    "# check if the gradient of the Lagrangian is zero for the true theta, xtrue\n",
    "justgrad(xtrue)"
   ]
  },
  {
   "cell_type": "code",
   "execution_count": 18,
   "id": "a238e68d-e4e0-4fba-9fd9-56c6119f1f68",
   "metadata": {},
   "outputs": [
    {
     "data": {
      "image/png": "[encoded data removed]",
      "text/plain": [
       "<Figure size 432x288 with 1 Axes>"
      ]
     },
     "metadata": {
      "needs_background": "light"
     },
     "output_type": "display_data"
    }
   ],
   "source": [
    "plt.plot(np.arange(2*nmax+1),np.log(np.abs(truethetaR)))\n",
    "plt.show()"
   ]
  },
  {
   "cell_type": "markdown",
   "id": "5e139fca-5d70-41ae-9b47-c63ab7ba2c5a",
   "metadata": {},
   "source": [
    "**Initialize theta with true theta pertubed by random normally distributed noise**"
   ]
  },
  {
   "cell_type": "code",
   "execution_count": 19,
   "id": "bee18c5f-e106-4918-82fd-be15aea50885",
   "metadata": {},
   "outputs": [],
   "source": [
    "# easy test case: initialize theta with true theta pertubed random normally\n",
    "# distributed noise with small variance. This should be easy for the optimizer\n",
    "# to converge to a good minimum\n",
    "xtrub = xtrue.copy()\n",
    "xtrub += 0.25*np.random.normal(size=xtrue.shape)"
   ]
  },
  {
   "cell_type": "code",
   "execution_count": 20,
   "id": "829c0135-e4c0-4ab2-ad58-49c26de39804",
   "metadata": {},
   "outputs": [
    {
     "name": "stdout",
     "output_type": "stream",
     "text": [
      "1047 Lagrangan=[0.16618769 0.16615064 0.1661169  0.16609077 0.16607259]04]231 ]\r"
     ]
    }
   ],
   "source": [
    "laghist = np.zeros(laghistlen)\n",
    "itercnt = 0\n",
    "restrub = so.minimize(justlag, xtrub, jac=justgrad,\n",
    "                  options={'maxiter': 1000}) "
   ]
  },
  {
   "cell_type": "code",
   "execution_count": 20,
   "id": "bb69f02d-4b8e-42c8-9ef8-28a7e6173b8a",
   "metadata": {},
   "outputs": [
    {
     "name": "stdout",
     "output_type": "stream",
     "text": [
      "[  0.           0.           0.           0.           0.\n",
      "   0.           0.           0.           0.           0.\n",
      "   0.           0.           0.           0.          38.86125068\n",
      " 209.00263765  88.29091926  22.47140614 143.07844468  19.90616384]\n"
     ]
    }
   ],
   "source": [
    "plt.plot(laghist)\n",
    "plt.show()"
   ]
  },
  {
   "cell_type": "code",
   "execution_count": 24,
   "id": "03d1d80b-3ef8-46c6-97c5-dcdc2e16fcab",
   "metadata": {},
   "outputs": [
    {
     "name": "stdout",
     "output_type": "stream",
     "text": [
      "0.166072586225284625889457 0.25801507 0.25674508 0.25533671 0.16607259]\n",
      "80.79914514494094\n"
     ]
    }
   ],
   "source": [
    "# check value of Lagrangian at computed value of theta\n",
    "print(justlag(restrub.x))\n",
    "\n",
    "# check if computed thetahat is close to true theta\n",
    "print(nl.norm(restrub.x - np.concatenate([truethetaR, truethetaI])))"
   ]
  },
  {
   "cell_type": "code",
   "execution_count": 25,
   "id": "a7d88a15-033f-438c-84c4-b273a4c0a508",
   "metadata": {},
   "outputs": [
    {
     "data": {
      "image/png": "[encoded data removed]",
      "text/plain": [
       "<Figure size 432x288 with 1 Axes>"
      ]
     },
     "metadata": {
      "needs_background": "light"
     },
     "output_type": "display_data"
    }
   ],
   "source": [
    "# this code plots the estimated potential against the true potential\n",
    "\n",
    "mm = 2*nmax+1\n",
    "thetahat = np.zeros(mm, dtype=np.complex128)\n",
    "thetahat += restrub.x[:mm]\n",
    "thetahat[1:] += 1j*restrub.x[mm:]\n",
    "nvec2 = np.arange(-2*nmax,2*nmax+1)\n",
    "convmat2 = np.exp(1j*np.pi*np.outer(nvec2, xvec)/L)\n",
    "fullthetahat = np.concatenate([np.flipud(thetahat[1:].conj()), thetahat])\n",
    "vx = fullthetahat @ convmat2\n",
    "\n",
    "# plot the real part of theta\n",
    "# red = learned potential\n",
    "# black = true potential\n",
    "trim = 250\n",
    "plt.plot(xvec[trim:-trim], np.real(vx)[trim:-trim], color='red')\n",
    "plt.plot(xvec[trim:-trim], np.real(v(xvec))[trim:-trim], color='black')\n",
    "plt.xlabel('x')\n",
    "plt.ylabel('Re(v(x))')\n",
    "plt.show()"
   ]
  },
  {
   "cell_type": "code",
   "execution_count": 26,
   "id": "4fc60392-e0cc-402e-a824-9221c9c34488",
   "metadata": {},
   "outputs": [
    {
     "data": {
      "image/png": "[encoded data removed]",
      "text/plain": [
       "<Figure size 432x288 with 1 Axes>"
      ]
     },
     "metadata": {
      "needs_background": "light"
     },
     "output_type": "display_data"
    }
   ],
   "source": [
    "# this code plots the difference between the real part of the estimated potential\n",
    "# and true potential\n",
    "\n",
    "trim = 250\n",
    "plt.plot(xvec[trim:-trim], np.real(vx)[trim:-trim] - np.real(v(xvec))[trim:-trim], color='black')\n",
    "plt.xlabel('x')\n",
    "plt.ylabel('difference in real parts')\n",
    "plt.show()"
   ]
  },
  {
   "cell_type": "code",
   "execution_count": 27,
   "id": "df3e5b42-06b2-4fde-9825-bcad6b97a4aa",
   "metadata": {},
   "outputs": [
    {
     "data": {
      "image/png": "[encoded data removed]",
      "text/plain": [
       "<Figure size 432x288 with 1 Axes>"
      ]
     },
     "metadata": {
      "needs_background": "light"
     },
     "output_type": "display_data"
    }
   ],
   "source": [
    "# this code plots the estimated potential against the true potential of the imaginary part\n",
    "\n",
    "# red = learned potential\n",
    "# black = true potential\n",
    "plt.plot(xvec, np.imag(vx), color='red')\n",
    "plt.plot(xvec, np.imag(v(xvec)), color='black')\n",
    "plt.xlabel('x')\n",
    "plt.ylabel('Im(v(x))')\n",
    "plt.show()"
   ]
  },
  {
   "cell_type": "markdown",
   "id": "1acb43f0-da6f-41ba-926d-f9f95be48c76",
   "metadata": {},
   "source": [
    "**Initialize theta with uniform random values**"
   ]
  },
  {
   "cell_type": "code",
   "execution_count": 21,
   "id": "42b8d38b-58a4-4ccc-9a0c-01753e17bec4",
   "metadata": {},
   "outputs": [
    {
     "name": "stdout",
     "output_type": "stream",
     "text": [
      "1033 Lagrangan=[0.2604245  0.25889457 0.25801507 0.25674508 0.25533671]11]5244]\r"
     ]
    }
   ],
   "source": [
    "# uniform random values from the interval [-0.5, 0.5]\n",
    "# this should be difficult for the optimizer to find a good minimum\n",
    "\n",
    "thetahatR = np.random.uniform(size=2*nmax+1) - 0.5\n",
    "thetahatI = np.random.uniform(size=2*nmax) - 0.5\n",
    "xform = np.concatenate([thetahatR, thetahatI])\n",
    "\n",
    "laghist = np.zeros(laghistlen)\n",
    "itercnt = 0\n",
    "resform = so.minimize(justlag, xform, jac=justgrad,\n",
    "                      method='bfgs', options={'maxiter': 1000})"
   ]
  },
  {
   "cell_type": "code",
   "execution_count": 31,
   "id": "da63c2e6-48db-499a-9684-a8ab54178b22",
   "metadata": {},
   "outputs": [
    {
     "name": "stdout",
     "output_type": "stream",
     "text": [
      "[0.29184437 0.28959473 0.28668769 0.2838296  0.28010016 0.27745237\n",
      " 0.27537353 0.27329428 0.27066666 0.2685632  0.26715207 0.26528836\n",
      " 0.2637096  0.2617865  0.2604245  0.25889457 0.25801507 0.25674508\n",
      " 0.25533671 0.16607259]\n"
     ]
    },
    {
     "data": {
      "image/png": "[encoded data removed]",
      "text/plain": [
       "<Figure size 432x288 with 1 Axes>"
      ]
     },
     "metadata": {
      "needs_background": "light"
     },
     "output_type": "display_data"
    }
   ],
   "source": [
    "print(laghist)\n",
    "\n",
    "plt.plot(laghist)\n",
    "plt.show()"
   ]
  },
  {
   "cell_type": "code",
   "execution_count": 33,
   "id": "14215909-7713-441e-b657-a9f29fb1d7e1",
   "metadata": {},
   "outputs": [
    {
     "data": {
      "image/png": "[encoded data removed]",
      "text/plain": [
       "<Figure size 432x288 with 1 Axes>"
      ]
     },
     "metadata": {
      "needs_background": "light"
     },
     "output_type": "display_data"
    }
   ],
   "source": [
    "# plot estimated potential\n",
    "\n",
    "mm = 2*nmax+1\n",
    "thetahat = np.zeros(mm, dtype=np.complex128)\n",
    "thetahat += resform.x[:mm]\n",
    "thetahat[1:] += 1j*resform.x[mm:]\n",
    "nvec2 = np.arange(-2*nmax,2*nmax+1)\n",
    "convmat2 = np.exp(1j*np.pi*np.outer(nvec2, xvec)/L)\n",
    "fullthetahat = np.concatenate([np.flipud(thetahat[1:].conj()), thetahat])\n",
    "vx = fullthetahat @ convmat2\n",
    "\n",
    "# plot real part of theta\n",
    "# red = learned potential\n",
    "# black = true potential\n",
    "plt.plot(xvec, np.real(vx), color='red')\n",
    "plt.plot(xvec, np.real(v(xvec)), color='black')\n",
    "plt.xlabel('x')\n",
    "plt.ylabel('Re(v(x))')\n",
    "plt.show()"
   ]
  },
  {
   "cell_type": "code",
   "execution_count": null,
   "id": "b01a46b2-fe54-4aa1-b8b7-a876a58f0554",
   "metadata": {},
   "outputs": [],
   "source": []
  }
 ],
 "metadata": {
  "kernelspec": {
   "display_name": "Python 3 (ipykernel)",
   "language": "python",
   "name": "python3"
  },
  "language_info": {
   "codemirror_mode": {
    "name": "ipython",
    "version": 3
   },
   "file_extension": ".py",
   "mimetype": "text/x-python",
   "name": "python",
   "nbconvert_exporter": "python",
   "pygments_lexer": "ipython3",
   "version": "3.9.9"
  }
 },
 "nbformat": 4,
 "nbformat_minor": 5
}
