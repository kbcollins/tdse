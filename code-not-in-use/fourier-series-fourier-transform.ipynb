{
 "cells": [
  {
   "cell_type": "markdown",
   "metadata": {},
   "source": [
    "<h3>Gaussian Function</h3>\n",
    "A shifted Gaussian function has the following definition\n",
    "$$\n",
    "g(x) = e^{- \\alpha (x - \\beta)^2}\n",
    "$$"
   ]
  },
  {
   "cell_type": "code",
   "execution_count": 1,
   "metadata": {},
   "outputs": [],
   "source": [
    "import scipy.integrate as si\n",
    "import numpy as np\n",
    "import matplotlib.pyplot as plt"
   ]
  },
  {
   "cell_type": "code",
   "execution_count": 2,
   "metadata": {},
   "outputs": [
    {
     "name": "stdout",
     "output_type": "stream",
     "text": [
      "50 -50 100\n"
     ]
    },
    {
     "data": {
      "image/png": "[encoded data removed]",
      "text/plain": [
       "<Figure size 432x288 with 1 Axes>"
      ]
     },
     "metadata": {
      "needs_background": "light"
     },
     "output_type": "display_data"
    }
   ],
   "source": [
    "# region of interest\n",
    "b = 50\n",
    "a = -b\n",
    "L = b - a\n",
    "print(b, a, L)\n",
    "\n",
    "# shifted Gaussian\n",
    "alpha = 1/25\n",
    "beta = 20\n",
    "def gauss(x):\n",
    "    return np.exp(-alpha * (x - beta)**2)\n",
    "\n",
    "# plot Gaussian\n",
    "Nx = 5000\n",
    "x = np.linspace(-b, b, Nx)\n",
    "plt.plot(x, gauss(x), '.')\n",
    "plt.show()"
   ]
  },
  {
   "cell_type": "markdown",
   "metadata": {},
   "source": [
    "<h3>Fourier Series</h3>\n",
    "\n",
    "The Fourier series coefficients, $f_n$, are given by\n",
    "$$\n",
    "f_n = \\int_a^b e^{-i k x} g(x) dx\n",
    "$$\n",
    "where $-\\infty < n < \\infty$.\n",
    "\n",
    "The above integral can be evaluated using the error function as\n",
    "$$\n",
    "f_n = \\frac{1}{2} \\sqrt{\\frac{\\pi}{\\alpha}} e^{-i k \\beta } e^{-\\frac{k^2}{4 \\alpha}} \\left[ -\\mathrm{erf}\\left( s_1^{\\left( n \\right)} \\right) + \\mathrm{erf} \\left( s_2^{\\left( n \\right)} \\right) \\right]\n",
    "$$\n",
    "where\n",
    "$$\n",
    "s_1^{(n)} = \\sqrt{\\alpha} \\left( a - \\beta \\right) + \\frac{i k}{2 \\sqrt{\\alpha}}\n",
    "$$\n",
    "$$\n",
    "s_2^{(n)} = \\sqrt{\\alpha} \\left( b - \\beta \\right) + \\frac{i k}{2 \\sqrt{\\alpha}}\n",
    "$$\n",
    "$$\n",
    "k = \\frac{2 \\pi n}{L}\n",
    "$$\n"
   ]
  },
  {
   "cell_type": "code",
   "execution_count": 4,
   "metadata": {},
   "outputs": [
    {
     "data": {
      "text/plain": [
       "array([ 8.86226925+0.j        ,  2.67184659-8.22309825j,\n",
       "       -6.49590161-4.71954877j, -5.74196451+4.17178141j])"
      ]
     },
     "execution_count": 4,
     "metadata": {},
     "output_type": "execute_result"
    }
   ],
   "source": [
    "from scipy.special import erf\n",
    "# determins how many harmonics are used\n",
    "Nf = 600\n",
    "\n",
    "def fn(n):\n",
    "    k = 2 * np.pi * n / L\n",
    "    s1 = np.sqrt(alpha) * (a - beta) + (1j*k)/(2 * np.sqrt(alpha))\n",
    "    s2 = np.sqrt(alpha) * (b - beta) + (1j*k)/(2 * np.sqrt(alpha))\n",
    "    return 0.5 * np.sqrt(np.pi / alpha) * np.exp(-1j*k*beta) * np.exp(-k**2 / (4*alpha)) * (-erf(s1)+erf(s2))\n",
    "\n",
    "fn(np.array([0, 1, 2, 3]))"
   ]
  },
  {
   "cell_type": "markdown",
   "metadata": {},
   "source": [
    "<h3>Fourier Transfrom</h3>\n",
    "\n",
    "In the limit\n",
    "$$\n",
    "a \\rightarrow -\\infty, \\quad b \\rightarrow \\infty\n",
    "$$\n",
    "$L \\rightarrow \\infty$ and $k$ transforms to a continuous variable, thus the above integral becomes\n",
    "$$\n",
    "\\widetilde{f}(k) = \\int_{-\\infty}^\\infty e^{-i k x} g(x) dx\n",
    "$$\n",
    "which is the Fourier transform of $g(x)$ and has the following result\n",
    "$$\n",
    "\\widetilde{f}(k) = \\sqrt{\\frac{\\pi}{\\alpha}} e^{-i k \\beta } e^{- \\frac{k^2}{4 \\alpha}}\n",
    "$$"
   ]
  },
  {
   "cell_type": "code",
   "execution_count": 5,
   "metadata": {},
   "outputs": [
    {
     "data": {
      "text/plain": [
       "array([ 8.86226925+0.j        ,  2.67184659-8.22309825j,\n",
       "       -6.49590161-4.71954877j, -5.74196451+4.17178141j])"
      ]
     },
     "execution_count": 5,
     "metadata": {},
     "output_type": "execute_result"
    }
   ],
   "source": [
    "def fnapx(n):\n",
    "    k = 2 * np.pi * n / L\n",
    "    return np.sqrt(np.pi / alpha) * np.exp(-1j * k * beta) * np.exp(-k**2 / (4*alpha))\n",
    "\n",
    "fnapx(np.array([0, 1, 2, 3]))"
   ]
  }
 ],
 "metadata": {
  "kernelspec": {
   "display_name": "Python 3",
   "language": "python",
   "name": "python3"
  },
  "language_info": {
   "codemirror_mode": {
    "name": "ipython",
    "version": 3
   },
   "file_extension": ".py",
   "mimetype": "text/x-python",
   "name": "python",
   "nbconvert_exporter": "python",
   "pygments_lexer": "ipython3",
   "version": "3.8.10"
  }
 },
 "nbformat": 4,
 "nbformat_minor": 4
}
