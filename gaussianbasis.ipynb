{
 "cells": [
  {
   "cell_type": "code",
   "execution_count": 7,
   "metadata": {},
   "outputs": [],
   "source": [
    "import numpy as np"
   ]
  },
  {
   "cell_type": "code",
   "execution_count": 8,
   "metadata": {},
   "outputs": [],
   "source": [
    "import matplotlib\n",
    "%matplotlib inline\n",
    "import matplotlib.pyplot as plt"
   ]
  },
  {
   "cell_type": "code",
   "execution_count": 217,
   "metadata": {},
   "outputs": [
    {
     "name": "stdout",
     "output_type": "stream",
     "text": [
      "0.2\n",
      "7.216449660063518e-16\n"
     ]
    }
   ],
   "source": [
    "N = 101 # 1001\n",
    "l = 10\n",
    "xvec, dx = np.linspace(-l, l, N, retstep=True)\n",
    "print(dx)\n",
    "print(dx - (xvec[1] - xvec[0]))"
   ]
  },
  {
   "cell_type": "code",
   "execution_count": 218,
   "metadata": {},
   "outputs": [
    {
     "name": "stdout",
     "output_type": "stream",
     "text": [
      "1.0\n",
      "(101,)\n",
      "[-10.   -9.8  -9.6  -9.4  -9.2  -9.   -8.8  -8.6  -8.4  -8.2  -8.   -7.8\n",
      "  -7.6  -7.4  -7.2  -7.   -6.8  -6.6  -6.4  -6.2  -6.   -5.8  -5.6  -5.4\n",
      "  -5.2  -5.   -4.8  -4.6  -4.4  -4.2  -4.   -3.8  -3.6  -3.4  -3.2  -3.\n",
      "  -2.8  -2.6  -2.4  -2.2  -2.   -1.8  -1.6  -1.4  -1.2  -1.   -0.8  -0.6\n",
      "  -0.4  -0.2   0.    0.2   0.4   0.6   0.8   1.    1.2   1.4   1.6   1.8\n",
      "   2.    2.2   2.4   2.6   2.8   3.    3.2   3.4   3.6   3.8   4.    4.2\n",
      "   4.4   4.6   4.8   5.    5.2   5.4   5.6   5.8   6.    6.2   6.4   6.6\n",
      "   6.8   7.    7.2   7.4   7.6   7.8   8.    8.2   8.4   8.6   8.8   9.\n",
      "   9.2   9.4   9.6   9.8  10. ]\n"
     ]
    }
   ],
   "source": [
    "# effective grid\n",
    "# grid scaling\n",
    "# this determines the density of our Gaussians\n",
    "# which relates the number of bases we are using\n",
    "# a Gaussian will cented every gs*dx step\n",
    "# gs = 10\n",
    "\n",
    "# this is the grid of center positions for our\n",
    "# Gaussian basis\n",
    "# xx = np.arange((N-1)//gs + 1) * dx * gs - l\n",
    "\n",
    "# gx = dx*gs\n",
    "\n",
    "# Let's redo the above code so that we can directly\n",
    "# set the number of bases we use\n",
    "Ng = 101 # 101\n",
    "xx, gx = np.linspace(-l, l, Ng, retstep=True)\n",
    "\n",
    "# where gx = gs*dx\n",
    "gs = gx/dx\n",
    "\n",
    "print(gs)\n",
    "print(xx.shape)\n",
    "print(xx)"
   ]
  },
  {
   "cell_type": "code",
   "execution_count": 219,
   "metadata": {},
   "outputs": [
    {
     "name": "stdout",
     "output_type": "stream",
     "text": [
      "0.043280851226668915\n"
     ]
    },
    {
     "data": {
      "image/png": "[encoded data removed]",
      "text/plain": [
       "<Figure size 432x288 with 1 Axes>"
      ]
     },
     "metadata": {
      "needs_background": "light"
     },
     "output_type": "display_data"
    }
   ],
   "source": [
    "# for plotting\n",
    "def gauss(x, j):\n",
    "    return np.exp(-(x - j*gx)**2 / sigma)\n",
    "\n",
    "# first attempt at finding the optimal amount of overlap\n",
    "# by hand\n",
    "# sigma = dx*2\n",
    "\n",
    "# this should insure that not matter the number of bases\n",
    "# we will have about the same overlap\n",
    "sigma = 6 * gx**2 / (8 * np.log(2))\n",
    "print(sigma)\n",
    "\n",
    "\n",
    "\n",
    "plt.plot(xvec, gauss(xvec,-1))\n",
    "plt.vlines(-1*gx, ymin=0, ymax=1, label=-1*gx, linestyles='dashed')\n",
    "plt.plot(xvec, gauss(xvec,0))\n",
    "plt.vlines(0, ymin=0, ymax=1, label=0, color='darkorange', linestyles='dashed')\n",
    "plt.plot(xvec, gauss(xvec,1))\n",
    "plt.vlines(gx, ymin=0, ymax=1, label=gx, color='green', linestyles='dashed')\n",
    "plt.xlim([-0.5,0.5])\n",
    "plt.legend()\n",
    "plt.show()"
   ]
  },
  {
   "cell_type": "code",
   "execution_count": 220,
   "metadata": {},
   "outputs": [
    {
     "name": "stdout",
     "output_type": "stream",
     "text": [
      "(101, 101)\n"
     ]
    },
    {
     "data": {
      "text/plain": [
       "7.208835051018818"
      ]
     },
     "execution_count": 220,
     "metadata": {},
     "output_type": "execute_result"
    }
   ],
   "source": [
    "# We want a matrix which is constructed by evaluating\n",
    "# each of the shifted Gaussians at all of the spacial\n",
    "# grid points\n",
    "# Here we have one Gaussian centered at each spacial\n",
    "# grid point\n",
    "# gmat = np.exp(-(np.expand_dims(xx,0) - np.expand_dims(xx,1))**2 / sigma)\n",
    "# Because of broadcasting we only need to expand one of the arrays\n",
    "# so that the dimension is (#, 1)\n",
    "gmat = np.exp(-(xx - np.expand_dims(xx,1))**2 / sigma)\n",
    "print(gmat.shape)\n",
    "np.linalg.cond(gmat)"
   ]
  },
  {
   "cell_type": "code",
   "execution_count": 221,
   "metadata": {},
   "outputs": [
    {
     "name": "stdout",
     "output_type": "stream",
     "text": [
      "(101, 101)\n"
     ]
    }
   ],
   "source": [
    "gmatplot = np.exp(-(np.expand_dims(xx,0) - np.expand_dims(xvec,1))**2 / sigma)\n",
    "print(gmatplot.shape)"
   ]
  },
  {
   "cell_type": "code",
   "execution_count": 222,
   "metadata": {},
   "outputs": [],
   "source": [
    "def myfunc(x):\n",
    "    out = (x < -3)*(x+3)**3/350 + ((x >= -3) & (x < 6))*(np.exp(-x - 3) - 1) + (x >= 6)*(np.exp(-9) - 1 + (x-6)**2/14)\n",
    "    # out = 2*np.cos(x) + np.sin(5*x)\n",
    "    return out"
   ]
  },
  {
   "cell_type": "code",
   "execution_count": 223,
   "metadata": {},
   "outputs": [],
   "source": [
    "coefs = np.linalg.inv(gmat) @ myfunc(xx)"
   ]
  },
  {
   "cell_type": "code",
   "execution_count": 224,
   "metadata": {},
   "outputs": [
    {
     "data": {
      "text/plain": [
       "array([-0.8220431 , -0.36700478, -0.49253515, -0.38663122, -0.37620823,\n",
       "       -0.33112635, -0.30294645, -0.2711015 , -0.24364972, -0.21728929,\n",
       "       -0.19322664, -0.1708791 , -0.15037401, -0.13155693, -0.11438525,\n",
       "       -0.09877199, -0.08464776, -0.0719362 , -0.06056373, -0.05045559,\n",
       "       -0.04153772, -0.0337352 , -0.02697486, -0.02117935, -0.01628175,\n",
       "       -0.01218889, -0.0088737 , -0.00614263, -0.00422156, -0.00227951,\n",
       "       -0.00214859,  0.00104958, -0.00471521,  0.01112153, -0.02801171,\n",
       "        0.06815568, -0.13360821, -0.17052891, -0.2527467 , -0.29936069,\n",
       "       -0.34574415, -0.38045768, -0.41017327, -0.43398859, -0.45369081,\n",
       "       -0.46974071, -0.48291337, -0.49368548, -0.50251   , -0.5097329 ,\n",
       "       -0.51564731, -0.5204893 , -0.52445371, -0.52769945, -0.53035685,\n",
       "       -0.53253254, -0.53431385, -0.53577226, -0.5369663 , -0.5379439 ,\n",
       "       -0.5387443 , -0.5393996 , -0.53993612, -0.54037539, -0.54073503,\n",
       "       -0.54102947, -0.54127055, -0.54146792, -0.54162953, -0.54176181,\n",
       "       -0.54187019, -0.54195872, -0.54203173, -0.54209016, -0.54214139,\n",
       "       -0.54217481, -0.54222363, -0.54220954, -0.54233409, -0.54209552,\n",
       "       -0.54272036, -0.54175617, -0.536861  , -0.52921168, -0.51832525,\n",
       "       -0.50439452, -0.48734251, -0.46720083, -0.44395427, -0.41761554,\n",
       "       -0.38816279, -0.35564707, -0.31994132, -0.28136508, -0.2391134 ,\n",
       "       -0.19521454, -0.1445577 , -0.10002045, -0.02916613, -0.01352615,\n",
       "        0.14909629])"
      ]
     },
     "execution_count": 224,
     "metadata": {},
     "output_type": "execute_result"
    }
   ],
   "source": [
    "coefs"
   ]
  },
  {
   "cell_type": "code",
   "execution_count": 225,
   "metadata": {},
   "outputs": [
    {
     "name": "stdout",
     "output_type": "stream",
     "text": [
      "4.6290860999080515e-15\n"
     ]
    },
    {
     "data": {
      "image/png": "[encoded data removed]",
      "text/plain": [
       "<Figure size 432x288 with 1 Axes>"
      ]
     },
     "metadata": {
      "needs_background": "light"
     },
     "output_type": "display_data"
    }
   ],
   "source": [
    "myfuncapprox = gmatplot @ coefs\n",
    "\n",
    "print(np.linalg.norm(myfunc(xvec) - myfuncapprox)) # 0.18633125114381555 for Ng=101\n",
    "\n",
    "plt.plot(xvec, myfunc(xvec), color='black')\n",
    "\n",
    "plt.plot(xvec, myfuncapprox, color='red')\n",
    "plt.show()"
   ]
  },
  {
   "cell_type": "code",
   "execution_count": null,
   "metadata": {},
   "outputs": [],
   "source": []
  }
 ],
 "metadata": {
  "kernelspec": {
   "display_name": "Python 3",
   "language": "python",
   "name": "python3"
  },
  "language_info": {
   "codemirror_mode": {
    "name": "ipython",
    "version": 3
   },
   "file_extension": ".py",
   "mimetype": "text/x-python",
   "name": "python",
   "nbconvert_exporter": "python",
   "pygments_lexer": "ipython3",
   "version": "3.8.5"
  }
 },
 "nbformat": 4,
 "nbformat_minor": 5
}
