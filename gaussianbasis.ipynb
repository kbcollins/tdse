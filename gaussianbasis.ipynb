{
 "cells": [
  {
   "cell_type": "code",
   "execution_count": 1,
   "metadata": {},
   "outputs": [],
   "source": [
    "import numpy as np"
   ]
  },
  {
   "cell_type": "code",
   "execution_count": 2,
   "metadata": {},
   "outputs": [],
   "source": [
    "import matplotlib\n",
    "%matplotlib inline\n",
    "import matplotlib.pyplot as plt"
   ]
  },
  {
   "cell_type": "code",
   "execution_count": 3,
   "metadata": {},
   "outputs": [
    {
     "name": "stdout",
     "output_type": "stream",
     "text": [
      "0.02\n",
      "4.2674197509029455e-16\n"
     ]
    }
   ],
   "source": [
    "N = 1001\n",
    "l = 10\n",
    "xvec, dx = np.linspace(-l, l, N, retstep=True)\n",
    "print(dx)\n",
    "print(dx - (xvec[1] - xvec[0]))"
   ]
  },
  {
   "cell_type": "code",
   "execution_count": 53,
   "metadata": {},
   "outputs": [
    {
     "name": "stdout",
     "output_type": "stream",
     "text": [
      "25.64102564102564\n",
      "(40,)\n",
      "[-10.          -9.48717949  -8.97435897  -8.46153846  -7.94871795\n",
      "  -7.43589744  -6.92307692  -6.41025641  -5.8974359   -5.38461538\n",
      "  -4.87179487  -4.35897436  -3.84615385  -3.33333333  -2.82051282\n",
      "  -2.30769231  -1.79487179  -1.28205128  -0.76923077  -0.25641026\n",
      "   0.25641026   0.76923077   1.28205128   1.79487179   2.30769231\n",
      "   2.82051282   3.33333333   3.84615385   4.35897436   4.87179487\n",
      "   5.38461538   5.8974359    6.41025641   6.92307692   7.43589744\n",
      "   7.94871795   8.46153846   8.97435897   9.48717949  10.        ]\n"
     ]
    }
   ],
   "source": [
    "# effective grid\n",
    "# grid scaling\n",
    "# this determines the density of our Gaussians\n",
    "# which relates the number of bases we are using\n",
    "# a Gaussian will cented every gs*dx step\n",
    "# gs = 10\n",
    "\n",
    "# this is the grid of center positions for our\n",
    "# Gaussian basis\n",
    "# xx = np.arange((N-1)//gs + 1) * dx * gs - l\n",
    "\n",
    "# gx = dx*gs\n",
    "\n",
    "# Let's redo the above code so that we can directly\n",
    "# set the number of bases we use\n",
    "Ng = 40 # 101\n",
    "xx, gx = np.linspace(-l, l, Ng, retstep=True)\n",
    "\n",
    "# where gx = gs*dx\n",
    "gs = gx/dx\n",
    "\n",
    "print(gs)\n",
    "print(xx.shape)\n",
    "print(xx)"
   ]
  },
  {
   "cell_type": "code",
   "execution_count": 54,
   "metadata": {},
   "outputs": [
    {
     "name": "stdout",
     "output_type": "stream",
     "text": [
      "0.800553016990103\n"
     ]
    },
    {
     "data": {
      "image/png": "[encoded data removed]",
      "text/plain": [
       "<Figure size 432x288 with 1 Axes>"
      ]
     },
     "metadata": {
      "needs_background": "light"
     },
     "output_type": "display_data"
    }
   ],
   "source": [
    "# for plotting\n",
    "def gauss(x, j):\n",
    "    return np.exp(-0.5*((x - j*gx)/sigma)**2)\n",
    "\n",
    "# this should insure that regardless of how many bases\n",
    "# we use the overlate will be about the same\n",
    "# fracmax sets at what fraction of the maximum hight\n",
    "# we want our basis Gaussians to overlap\n",
    "fracmax = .95\n",
    "sigma = gx / (2 * np.sqrt(2 * np.log(1/fracmax) ) ) \n",
    "print(sigma)\n",
    "\n",
    "\n",
    "\n",
    "plt.plot(xvec, gauss(xvec,-1))\n",
    "plt.vlines(-1*gx, ymin=0, ymax=1, label=-1*gx, linestyles='dashed')\n",
    "plt.plot(xvec, gauss(xvec,0))\n",
    "plt.vlines(0, ymin=0, ymax=1, label=0, color='darkorange', linestyles='dashed')\n",
    "plt.plot(xvec, gauss(xvec,1))\n",
    "plt.vlines(gx, ymin=0, ymax=1, label=gx, color='green', linestyles='dashed')\n",
    "plt.xlim([-0.5,0.5])\n",
    "plt.legend()\n",
    "plt.show()"
   ]
  },
  {
   "cell_type": "code",
   "execution_count": 85,
   "metadata": {},
   "outputs": [
    {
     "name": "stdout",
     "output_type": "stream",
     "text": [
      "(40, 40)\n"
     ]
    },
    {
     "data": {
      "text/plain": [
       "68129.5026140817"
      ]
     },
     "execution_count": 85,
     "metadata": {},
     "output_type": "execute_result"
    }
   ],
   "source": [
    "fracmax = 0.95 # 0.80\n",
    "sigma = gx / (2 * np.sqrt(2 * np.log(1/fracmax) ) ) \n",
    "\n",
    "# We want a matrix which is constructed by evaluating\n",
    "# each of the shifted Gaussians at all of the spacial\n",
    "# grid points\n",
    "# Here we have one Gaussian centered at each spacial\n",
    "# grid point\n",
    "# gmat = np.exp(-(np.expand_dims(xx,0) - np.expand_dims(xx,1))**2 / sigma)\n",
    "# Because of broadcasting we only need to expand one of the arrays\n",
    "# so that thegmat = np.exp(-(xx - np.expand_dims(xx,1))**2 / sigma) dimension is (#, 1)\n",
    "# gmat = np.exp(-(xx - np.expand_dims(xx,1))**2 / sigma)\n",
    "gmat = np.exp(-0.5*((xx - np.expand_dims(xx,1))/sigma)**2)\n",
    "print(gmat.shape)\n",
    "np.linalg.cond(gmat)"
   ]
  },
  {
   "cell_type": "code",
   "execution_count": 86,
   "metadata": {},
   "outputs": [
    {
     "name": "stdout",
     "output_type": "stream",
     "text": [
      "(2002, 40)\n"
     ]
    }
   ],
   "source": [
    "Nfine = N*2\n",
    "xvecfine, dxfine = np.linspace(-l, l, Nfine, retstep=True)\n",
    "# gmatplot = np.exp(-(np.expand_dims(xx,0) - np.expand_dims(xvec,1))**2 / sigma)\n",
    "gmatplot = np.exp(-0.5*((xx - np.expand_dims(xvecfine, 1))/sigma)**2)\n",
    "print(gmatplot.shape)"
   ]
  },
  {
   "cell_type": "code",
   "execution_count": 87,
   "metadata": {},
   "outputs": [],
   "source": [
    "def myfunc(x):\n",
    "    # out = (x < -3)*(x+3)**3/350 + ((x >= -3) & (x < 6))*(np.exp(-x - 3) - 1) + (x >= 6)*(np.exp(-9) - 1 + (x-6)**2/14)\n",
    "    out = 2*np.cos(x) + np.sin(5*x)\n",
    "    # harmonic potential\n",
    "    # out = 0.5 * x**2\n",
    "    # double well potential\n",
    "    # out = 0.5 * (x**2 - 4)**2\n",
    "    # soft Coulomb\n",
    "    # out = 1 / np.sqrt(1 + (x - 10)**2)\n",
    "    return out"
   ]
  },
  {
   "cell_type": "code",
   "execution_count": 88,
   "metadata": {},
   "outputs": [],
   "source": [
    "coefs = np.linalg.inv(gmat) @ myfunc(xx)"
   ]
  },
  {
   "cell_type": "code",
   "execution_count": 89,
   "metadata": {},
   "outputs": [],
   "source": [
    "#coefs"
   ]
  },
  {
   "cell_type": "code",
   "execution_count": 90,
   "metadata": {},
   "outputs": [
    {
     "name": "stdout",
     "output_type": "stream",
     "text": [
      "0.0329797955487259\n"
     ]
    },
    {
     "data": {
      "image/png": "[encoded data removed]",
      "text/plain": [
       "<Figure size 432x288 with 1 Axes>"
      ]
     },
     "metadata": {
      "needs_background": "light"
     },
     "output_type": "display_data"
    }
   ],
   "source": [
    "myfuncapprox = gmatplot @ coefs\n",
    "\n",
    "print(dxfine*np.linalg.norm(myfunc(xvecfine) - myfuncapprox))\n",
    "\n",
    "plt.plot(xvecfine, myfunc(xvecfine), '-', color='black')\n",
    "\n",
    "plt.plot(xvecfine, myfuncapprox, '-', color='red')\n",
    "plt.show()"
   ]
  },
  {
   "cell_type": "code",
   "execution_count": null,
   "metadata": {},
   "outputs": [],
   "source": []
  }
 ],
 "metadata": {
  "kernelspec": {
   "display_name": "Python 3",
   "language": "python",
   "name": "python3"
  },
  "language_info": {
   "codemirror_mode": {
    "name": "ipython",
    "version": 3
   },
   "file_extension": ".py",
   "mimetype": "text/x-python",
   "name": "python",
   "nbconvert_exporter": "python",
   "pygments_lexer": "ipython3",
   "version": "3.8.5"
  }
 },
 "nbformat": 4,
 "nbformat_minor": 5
}
