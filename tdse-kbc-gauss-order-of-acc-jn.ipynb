{
 "cells": [
  {
   "cell_type": "code",
   "execution_count": 1,
   "metadata": {
    "collapsed": true
   },
   "outputs": [],
   "source": [
    "import numpy as np\n",
    "import numpy.linalg as nl\n",
    "import scipy.linalg as sl\n",
    "import scipy.integrate as si\n",
    "import matplotlib.pyplot as plt"
   ]
  },
  {
   "cell_type": "code",
   "execution_count": 2,
   "outputs": [],
   "source": [
    "# function we are trying to approximate\n",
    "def f(x, choice=4):\n",
    "    if choice == 0:\n",
    "        # dimensionless quantum harmonic oscillator potential\n",
    "        return 0.5 * x**2\n",
    "    elif choice == 1:\n",
    "        # symmetric double well potential\n",
    "        return 0.0025 * (x ** 2 - 25) ** 2\n",
    "    elif choice == 2:\n",
    "        # asymmetric double well potential\n",
    "        return 0.0003 * ((x - 3) ** 4 + 10 * (x - 5) ** 3)\n",
    "    elif choice == 3:\n",
    "        # soft coulomb potential\n",
    "        return -1 / np.sqrt(x ** 2 + 0.25)\n",
    "    elif choice == 4:\n",
    "        # a complicated function made by Harish\n",
    "        return np.cos(x**2) - x*np.sin(x)\n",
    "    else:\n",
    "        print('Function v(x, choice=0): Did not recognise your input for choice.')"
   ],
   "metadata": {
    "collapsed": false,
    "pycharm": {
     "name": "#%%\n"
    }
   }
  },
  {
   "cell_type": "code",
   "execution_count": 3,
   "outputs": [],
   "source": [
    "# vectorized version of Gaussian basis function\n",
    "# Gaussian centered at grid point j*h with shape parameter alpha\n",
    "# z_{ij} = x_i - j*h\n",
    "def gbm(z, alpha):\n",
    "    return np.exp(-alpha * z**2)"
   ],
   "metadata": {
    "collapsed": false,
    "pycharm": {
     "name": "#%%\n"
    }
   }
  },
  {
   "cell_type": "code",
   "execution_count": 4,
   "outputs": [],
   "source": [
    "def gbmatfn(x1, x2, alpha):\n",
    "    # make arrays that can be used in vectorized evaluations\n",
    "    # row values are x1 and column values are x2\n",
    "    x1v, x2v = np.meshgrid(x1, x2, sparse=True, indexing='ij')\n",
    "\n",
    "    # make Gaussian basis matrix\n",
    "    # We want [gbmat @ cfs](x_i) = vtrue(x_i), so each row\n",
    "    # in gbmat is an x_i point and each column is a j*h\n",
    "    # point. Given N x_i points and J j values, gbmat\n",
    "    # is an NxJ matrix\n",
    "    return gbm(x1v - x2v, alpha)"
   ],
   "metadata": {
    "collapsed": false,
    "pycharm": {
     "name": "#%%\n"
    }
   }
  },
  {
   "cell_type": "code",
   "execution_count": 5,
   "outputs": [],
   "source": [
    "# function for computing the L2 error given J\n",
    "def gbcfs(J, L, alpha):\n",
    "    # make vector of x points for Gaussian centers\n",
    "    # with spacing h\n",
    "    h = L/J\n",
    "    xg = np.arange(-J, J+1) * h\n",
    "\n",
    "    # make Gaussian basis matrix\n",
    "    gbmat = gbmatfn(xg, xg, alpha)\n",
    "\n",
    "    # vector of the function evaluated on\n",
    "    # the xg grid (needed for computing\n",
    "    # basis coefficients)\n",
    "    fxgt = f(xg)\n",
    "\n",
    "    # solve gbmat @ gbcfs = fxjtrue\n",
    "    # to compute Gaussian basis coefficients\n",
    "    # gbmat must be a square matrix\n",
    "    cfs = sl.solve(gbmat, fxgt, assume_a='sym')\n",
    "\n",
    "    return cfs, xg"
   ],
   "metadata": {
    "collapsed": false,
    "pycharm": {
     "name": "#%%\n"
    }
   }
  },
  {
   "cell_type": "code",
   "execution_count": 6,
   "outputs": [],
   "source": [
    "def L2err(cfs, xg, L, alpha):\n",
    "    # function representation of L2 norm\n",
    "    def integrand(x):\n",
    "        # when more than one x point is evaluated,\n",
    "        # x forms the rows and xg forms the columns\n",
    "        gbmat = gbmatfn(x, xg, alpha)\n",
    "        return np.square(gbmat @ cfs - f(x))\n",
    "\n",
    "    # integrate to get the square of the L2 error\n",
    "    l2errsq, _ = si.quadrature(integrand, -L, L, maxiter=500, tol=1e-8, rtol=1e-8)\n",
    "    return np.sqrt(l2errsq)"
   ],
   "metadata": {
    "collapsed": false,
    "pycharm": {
     "name": "#%%\n"
    }
   }
  },
  {
   "cell_type": "code",
   "execution_count": 7,
   "outputs": [],
   "source": [
    "# compute L^\\infty error\n",
    "\n",
    "# Grid of x_i points should be fine enough that the answer is stable\n",
    "# (i.e. further refinement does not appreciably change the answer)\n",
    "# also the answer should be reasonably accurate, that is, if\n",
    "# you graph |fapprox(x) - f(x)| vs. x that the maximum isn't\n",
    "# obviously different from the L^\\infty error\n",
    "\n",
    "def Linferr(n, cfs, xg, L, alpha):\n",
    "    x = np.linspace(-L, L, n)\n",
    "    fxt = f(x)\n",
    "    gbmat = gbmatfn(x, xg, alpha)\n",
    "    fxp = gbmat @ cfs\n",
    "    absdif = np.abs(fxp - fxt)\n",
    "    return np.max(absdif)"
   ],
   "metadata": {
    "collapsed": false,
    "pycharm": {
     "name": "#%%\n"
    }
   }
  },
  {
   "cell_type": "code",
   "execution_count": 8,
   "outputs": [
    {
     "name": "stderr",
     "output_type": "stream",
     "text": [
      "/var/folders/pz/wy3lg_ps0fg986p2nzxcqlf00000gp/T/ipykernel_99540/1313790090.py:19: LinAlgWarning: Ill-conditioned matrix (rcond=2.19607e-20): result may not be accurate.\n",
      "  cfs = sl.solve(gbmat, fxgt, assume_a='sym')\n"
     ]
    },
    {
     "data": {
      "text/plain": "<Figure size 432x288 with 1 Axes>",
      "image/png": "[encoded data removed]"
     },
     "metadata": {
      "needs_background": "light"
     },
     "output_type": "display_data"
    },
    {
     "name": "stdout",
     "output_type": "stream",
     "text": [
      "h value: 0.06283185307179587\n",
      "L2 Error: 0.0001399555132323139\n",
      "L\\infty Error: 0.0001658880894401804\n"
     ]
    }
   ],
   "source": [
    "bigJ = 100\n",
    "bigL = 2*np.pi\n",
    "myalpha = 3.0\n",
    "cfsrtn, xgrtn = gbcfs(bigJ, bigL, myalpha)\n",
    "\n",
    "gbmatrtn = gbmatfn(xgrtn, xgrtn, myalpha)\n",
    "\n",
    "fxtrue = f(xgrtn)\n",
    "fxprdt = gbmatrtn @ cfsrtn\n",
    "\n",
    "# plot the truth vs reconstruction\n",
    "plt.plot(xgrtn, fxprdt, label='Predict')\n",
    "plt.plot(xgrtn, fxtrue, label='True')\n",
    "plt.legend()\n",
    "plt.show()\n",
    "\n",
    "print(f'h value: {bigL/bigJ}',\n",
    "      f'L2 Error: {L2err(cfsrtn, xgrtn, bigL, myalpha)}',\n",
    "      f'L\\infty Error: {Linferr(1000, cfsrtn, xgrtn, bigL, myalpha)}',\n",
    "      sep='\\n')"
   ],
   "metadata": {
    "collapsed": false,
    "pycharm": {
     "name": "#%%\n"
    }
   }
  },
  {
   "cell_type": "code",
   "execution_count": 11,
   "outputs": [
    {
     "data": {
      "text/plain": "<Figure size 432x288 with 1 Axes>",
      "image/png": "[encoded data removed]"
     },
     "metadata": {
      "needs_background": "light"
     },
     "output_type": "display_data"
    }
   ],
   "source": [
    "nvec = range(100, 4000)\n",
    "lennvec = len(nvec)\n",
    "Linferrvec = np.zeros(lennvec, dtype=float)\n",
    "for i in range(lennvec):\n",
    "    Linferrvec[i] = Linferr(nvec[i], cfsrtn, xgrtn, bigL, myalpha)\n",
    "\n",
    "plt.plot(nvec, Linferrvec)\n",
    "plt.title(r'$L^\\infty$ Error')\n",
    "plt.xlabel('Number of x-space Grid Points')\n",
    "plt.ylabel('Error')\n",
    "plt.show()"
   ],
   "metadata": {
    "collapsed": false,
    "pycharm": {
     "name": "#%%\n"
    }
   }
  },
  {
   "cell_type": "markdown",
   "source": [
    "---"
   ],
   "metadata": {
    "collapsed": false,
    "pycharm": {
     "name": "#%% md\n"
    }
   }
  },
  {
   "cell_type": "code",
   "execution_count": 18,
   "outputs": [
    {
     "name": "stdout",
     "output_type": "stream",
     "text": [
      "Computing 1 of 115\n",
      "Computing 2 of 115\n",
      "Computing 3 of 115\n",
      "Computing 4 of 115\n",
      "Computing 5 of 115\n",
      "Computing 6 of 115\n",
      "Computing 7 of 115\n",
      "Computing 8 of 115\n",
      "Computing 9 of 115\n",
      "Computing 10 of 115\n",
      "Computing 11 of 115\n",
      "Computing 12 of 115\n",
      "Computing 13 of 115\n",
      "Computing 14 of 115\n",
      "Computing 15 of 115\n",
      "Computing 16 of 115\n",
      "Computing 17 of 115\n",
      "Computing 18 of 115\n",
      "Computing 19 of 115\n",
      "Computing 20 of 115\n",
      "Computing 21 of 115\n",
      "Computing 22 of 115\n",
      "Computing 23 of 115\n",
      "Computing 24 of 115\n",
      "Computing 25 of 115\n",
      "Computing 26 of 115\n",
      "Computing 27 of 115\n",
      "Computing 28 of 115\n",
      "Computing 29 of 115\n",
      "Computing 30 of 115\n",
      "Computing 31 of 115\n",
      "Computing 32 of 115\n",
      "Computing 33 of 115\n",
      "Computing 34 of 115\n",
      "Computing 35 of 115\n",
      "Computing 36 of 115\n",
      "Computing 37 of 115\n",
      "Computing 38 of 115\n",
      "Computing 39 of 115\n",
      "Computing 40 of 115\n",
      "Computing 41 of 115\n",
      "Computing 42 of 115\n",
      "Computing 43 of 115\n",
      "Computing 44 of 115\n",
      "Computing 45 of 115\n",
      "Computing 46 of 115\n",
      "Computing 47 of 115\n",
      "Computing 48 of 115\n",
      "Computing 49 of 115\n",
      "Computing 50 of 115\n",
      "Computing 51 of 115\n",
      "Computing 52 of 115\n",
      "Computing 53 of 115\n",
      "Computing 54 of 115\n",
      "Computing 55 of 115\n",
      "Computing 56 of 115\n",
      "Computing 57 of 115\n",
      "Computing 58 of 115\n",
      "Computing 59 of 115\n",
      "Computing 60 of 115\n",
      "Computing 61 of 115\n",
      "Computing 62 of 115\n",
      "Computing 63 of 115\n",
      "Computing 64 of 115\n",
      "Computing 65 of 115\n",
      "Computing 66 of 115\n"
     ]
    },
    {
     "name": "stderr",
     "output_type": "stream",
     "text": [
      "/var/folders/pz/wy3lg_ps0fg986p2nzxcqlf00000gp/T/ipykernel_99540/1313790090.py:19: LinAlgWarning: Ill-conditioned matrix (rcond=4.56661e-17): result may not be accurate.\n",
      "  cfs = sl.solve(gbmat, fxgt, assume_a='sym')\n",
      "/var/folders/pz/wy3lg_ps0fg986p2nzxcqlf00000gp/T/ipykernel_99540/1313790090.py:19: LinAlgWarning: Ill-conditioned matrix (rcond=1.90134e-17): result may not be accurate.\n",
      "  cfs = sl.solve(gbmat, fxgt, assume_a='sym')\n",
      "/var/folders/pz/wy3lg_ps0fg986p2nzxcqlf00000gp/T/ipykernel_99540/1313790090.py:19: LinAlgWarning: Ill-conditioned matrix (rcond=3.42011e-18): result may not be accurate.\n",
      "  cfs = sl.solve(gbmat, fxgt, assume_a='sym')\n",
      "/var/folders/pz/wy3lg_ps0fg986p2nzxcqlf00000gp/T/ipykernel_99540/1313790090.py:19: LinAlgWarning: Ill-conditioned matrix (rcond=2.57988e-18): result may not be accurate.\n",
      "  cfs = sl.solve(gbmat, fxgt, assume_a='sym')\n",
      "/var/folders/pz/wy3lg_ps0fg986p2nzxcqlf00000gp/T/ipykernel_99540/1313790090.py:19: LinAlgWarning: Ill-conditioned matrix (rcond=2.65489e-18): result may not be accurate.\n",
      "  cfs = sl.solve(gbmat, fxgt, assume_a='sym')\n",
      "/var/folders/pz/wy3lg_ps0fg986p2nzxcqlf00000gp/T/ipykernel_99540/1313790090.py:19: LinAlgWarning: Ill-conditioned matrix (rcond=1.15797e-18): result may not be accurate.\n",
      "  cfs = sl.solve(gbmat, fxgt, assume_a='sym')\n",
      "/var/folders/pz/wy3lg_ps0fg986p2nzxcqlf00000gp/T/ipykernel_99540/1313790090.py:19: LinAlgWarning: Ill-conditioned matrix (rcond=1.34831e-19): result may not be accurate.\n",
      "  cfs = sl.solve(gbmat, fxgt, assume_a='sym')\n",
      "/var/folders/pz/wy3lg_ps0fg986p2nzxcqlf00000gp/T/ipykernel_99540/1313790090.py:19: LinAlgWarning: Ill-conditioned matrix (rcond=6.43776e-19): result may not be accurate.\n",
      "  cfs = sl.solve(gbmat, fxgt, assume_a='sym')\n",
      "/var/folders/pz/wy3lg_ps0fg986p2nzxcqlf00000gp/T/ipykernel_99540/1313790090.py:19: LinAlgWarning: Ill-conditioned matrix (rcond=1.0911e-19): result may not be accurate.\n",
      "  cfs = sl.solve(gbmat, fxgt, assume_a='sym')\n",
      "/var/folders/pz/wy3lg_ps0fg986p2nzxcqlf00000gp/T/ipykernel_99540/1313790090.py:19: LinAlgWarning: Ill-conditioned matrix (rcond=2.22982e-19): result may not be accurate.\n",
      "  cfs = sl.solve(gbmat, fxgt, assume_a='sym')\n",
      "/var/folders/pz/wy3lg_ps0fg986p2nzxcqlf00000gp/T/ipykernel_99540/1313790090.py:19: LinAlgWarning: Ill-conditioned matrix (rcond=7.26698e-20): result may not be accurate.\n",
      "  cfs = sl.solve(gbmat, fxgt, assume_a='sym')\n",
      "/var/folders/pz/wy3lg_ps0fg986p2nzxcqlf00000gp/T/ipykernel_99540/1313790090.py:19: LinAlgWarning: Ill-conditioned matrix (rcond=1.57824e-18): result may not be accurate.\n",
      "  cfs = sl.solve(gbmat, fxgt, assume_a='sym')\n",
      "/var/folders/pz/wy3lg_ps0fg986p2nzxcqlf00000gp/T/ipykernel_99540/1313790090.py:19: LinAlgWarning: Ill-conditioned matrix (rcond=1.7126e-19): result may not be accurate.\n",
      "  cfs = sl.solve(gbmat, fxgt, assume_a='sym')\n",
      "/var/folders/pz/wy3lg_ps0fg986p2nzxcqlf00000gp/T/ipykernel_99540/1313790090.py:19: LinAlgWarning: Ill-conditioned matrix (rcond=2.1813e-19): result may not be accurate.\n",
      "  cfs = sl.solve(gbmat, fxgt, assume_a='sym')\n",
      "/var/folders/pz/wy3lg_ps0fg986p2nzxcqlf00000gp/T/ipykernel_99540/1313790090.py:19: LinAlgWarning: Ill-conditioned matrix (rcond=5.69117e-20): result may not be accurate.\n",
      "  cfs = sl.solve(gbmat, fxgt, assume_a='sym')\n",
      "/var/folders/pz/wy3lg_ps0fg986p2nzxcqlf00000gp/T/ipykernel_99540/1313790090.py:19: LinAlgWarning: Ill-conditioned matrix (rcond=2.3445e-19): result may not be accurate.\n",
      "  cfs = sl.solve(gbmat, fxgt, assume_a='sym')\n",
      "/var/folders/pz/wy3lg_ps0fg986p2nzxcqlf00000gp/T/ipykernel_99540/1313790090.py:19: LinAlgWarning: Ill-conditioned matrix (rcond=7.32791e-19): result may not be accurate.\n",
      "  cfs = sl.solve(gbmat, fxgt, assume_a='sym')\n",
      "/var/folders/pz/wy3lg_ps0fg986p2nzxcqlf00000gp/T/ipykernel_99540/1313790090.py:19: LinAlgWarning: Ill-conditioned matrix (rcond=7.27446e-20): result may not be accurate.\n",
      "  cfs = sl.solve(gbmat, fxgt, assume_a='sym')\n",
      "/var/folders/pz/wy3lg_ps0fg986p2nzxcqlf00000gp/T/ipykernel_99540/1313790090.py:19: LinAlgWarning: Ill-conditioned matrix (rcond=3.75361e-19): result may not be accurate.\n",
      "  cfs = sl.solve(gbmat, fxgt, assume_a='sym')\n",
      "/var/folders/pz/wy3lg_ps0fg986p2nzxcqlf00000gp/T/ipykernel_99540/1313790090.py:19: LinAlgWarning: Ill-conditioned matrix (rcond=5.65294e-20): result may not be accurate.\n",
      "  cfs = sl.solve(gbmat, fxgt, assume_a='sym')\n",
      "/var/folders/pz/wy3lg_ps0fg986p2nzxcqlf00000gp/T/ipykernel_99540/1313790090.py:19: LinAlgWarning: Ill-conditioned matrix (rcond=4.91866e-19): result may not be accurate.\n",
      "  cfs = sl.solve(gbmat, fxgt, assume_a='sym')\n",
      "/var/folders/pz/wy3lg_ps0fg986p2nzxcqlf00000gp/T/ipykernel_99540/1313790090.py:19: LinAlgWarning: Ill-conditioned matrix (rcond=2.96793e-19): result may not be accurate.\n",
      "  cfs = sl.solve(gbmat, fxgt, assume_a='sym')\n",
      "/var/folders/pz/wy3lg_ps0fg986p2nzxcqlf00000gp/T/ipykernel_99540/1313790090.py:19: LinAlgWarning: Ill-conditioned matrix (rcond=2.48814e-19): result may not be accurate.\n",
      "  cfs = sl.solve(gbmat, fxgt, assume_a='sym')\n",
      "/var/folders/pz/wy3lg_ps0fg986p2nzxcqlf00000gp/T/ipykernel_99540/1313790090.py:19: LinAlgWarning: Ill-conditioned matrix (rcond=2.40676e-19): result may not be accurate.\n",
      "  cfs = sl.solve(gbmat, fxgt, assume_a='sym')\n",
      "/var/folders/pz/wy3lg_ps0fg986p2nzxcqlf00000gp/T/ipykernel_99540/1313790090.py:19: LinAlgWarning: Ill-conditioned matrix (rcond=1.97152e-19): result may not be accurate.\n",
      "  cfs = sl.solve(gbmat, fxgt, assume_a='sym')\n",
      "/var/folders/pz/wy3lg_ps0fg986p2nzxcqlf00000gp/T/ipykernel_99540/1313790090.py:19: LinAlgWarning: Ill-conditioned matrix (rcond=2.77201e-19): result may not be accurate.\n",
      "  cfs = sl.solve(gbmat, fxgt, assume_a='sym')\n",
      "/var/folders/pz/wy3lg_ps0fg986p2nzxcqlf00000gp/T/ipykernel_99540/1313790090.py:19: LinAlgWarning: Ill-conditioned matrix (rcond=1.58641e-20): result may not be accurate.\n",
      "  cfs = sl.solve(gbmat, fxgt, assume_a='sym')\n",
      "/var/folders/pz/wy3lg_ps0fg986p2nzxcqlf00000gp/T/ipykernel_99540/1313790090.py:19: LinAlgWarning: Ill-conditioned matrix (rcond=5.69411e-19): result may not be accurate.\n",
      "  cfs = sl.solve(gbmat, fxgt, assume_a='sym')\n",
      "/var/folders/pz/wy3lg_ps0fg986p2nzxcqlf00000gp/T/ipykernel_99540/1313790090.py:19: LinAlgWarning: Ill-conditioned matrix (rcond=1.58133e-19): result may not be accurate.\n",
      "  cfs = sl.solve(gbmat, fxgt, assume_a='sym')\n",
      "/var/folders/pz/wy3lg_ps0fg986p2nzxcqlf00000gp/T/ipykernel_99540/1313790090.py:19: LinAlgWarning: Ill-conditioned matrix (rcond=3.73821e-20): result may not be accurate.\n",
      "  cfs = sl.solve(gbmat, fxgt, assume_a='sym')\n",
      "/var/folders/pz/wy3lg_ps0fg986p2nzxcqlf00000gp/T/ipykernel_99540/1313790090.py:19: LinAlgWarning: Ill-conditioned matrix (rcond=3.61542e-19): result may not be accurate.\n",
      "  cfs = sl.solve(gbmat, fxgt, assume_a='sym')\n",
      "/var/folders/pz/wy3lg_ps0fg986p2nzxcqlf00000gp/T/ipykernel_99540/1313790090.py:19: LinAlgWarning: Ill-conditioned matrix (rcond=1.98018e-19): result may not be accurate.\n",
      "  cfs = sl.solve(gbmat, fxgt, assume_a='sym')\n",
      "/var/folders/pz/wy3lg_ps0fg986p2nzxcqlf00000gp/T/ipykernel_99540/1313790090.py:19: LinAlgWarning: Ill-conditioned matrix (rcond=1.69996e-19): result may not be accurate.\n",
      "  cfs = sl.solve(gbmat, fxgt, assume_a='sym')\n",
      "/var/folders/pz/wy3lg_ps0fg986p2nzxcqlf00000gp/T/ipykernel_99540/1313790090.py:19: LinAlgWarning: Ill-conditioned matrix (rcond=1.16741e-19): result may not be accurate.\n",
      "  cfs = sl.solve(gbmat, fxgt, assume_a='sym')\n",
      "/var/folders/pz/wy3lg_ps0fg986p2nzxcqlf00000gp/T/ipykernel_99540/1313790090.py:19: LinAlgWarning: Ill-conditioned matrix (rcond=3.67202e-19): result may not be accurate.\n",
      "  cfs = sl.solve(gbmat, fxgt, assume_a='sym')\n",
      "/var/folders/pz/wy3lg_ps0fg986p2nzxcqlf00000gp/T/ipykernel_99540/1313790090.py:19: LinAlgWarning: Ill-conditioned matrix (rcond=3.79207e-20): result may not be accurate.\n",
      "  cfs = sl.solve(gbmat, fxgt, assume_a='sym')\n",
      "/var/folders/pz/wy3lg_ps0fg986p2nzxcqlf00000gp/T/ipykernel_99540/1313790090.py:19: LinAlgWarning: Ill-conditioned matrix (rcond=9.16504e-20): result may not be accurate.\n",
      "  cfs = sl.solve(gbmat, fxgt, assume_a='sym')\n",
      "/var/folders/pz/wy3lg_ps0fg986p2nzxcqlf00000gp/T/ipykernel_99540/1313790090.py:19: LinAlgWarning: Ill-conditioned matrix (rcond=3.33525e-19): result may not be accurate.\n",
      "  cfs = sl.solve(gbmat, fxgt, assume_a='sym')\n",
      "/var/folders/pz/wy3lg_ps0fg986p2nzxcqlf00000gp/T/ipykernel_99540/1313790090.py:19: LinAlgWarning: Ill-conditioned matrix (rcond=6.71179e-20): result may not be accurate.\n",
      "  cfs = sl.solve(gbmat, fxgt, assume_a='sym')\n",
      "/var/folders/pz/wy3lg_ps0fg986p2nzxcqlf00000gp/T/ipykernel_99540/1313790090.py:19: LinAlgWarning: Ill-conditioned matrix (rcond=1.7946e-19): result may not be accurate.\n",
      "  cfs = sl.solve(gbmat, fxgt, assume_a='sym')\n",
      "/var/folders/pz/wy3lg_ps0fg986p2nzxcqlf00000gp/T/ipykernel_99540/1313790090.py:19: LinAlgWarning: Ill-conditioned matrix (rcond=8.81207e-20): result may not be accurate.\n",
      "  cfs = sl.solve(gbmat, fxgt, assume_a='sym')\n",
      "/var/folders/pz/wy3lg_ps0fg986p2nzxcqlf00000gp/T/ipykernel_99540/1313790090.py:19: LinAlgWarning: Ill-conditioned matrix (rcond=2.18776e-19): result may not be accurate.\n",
      "  cfs = sl.solve(gbmat, fxgt, assume_a='sym')\n",
      "/var/folders/pz/wy3lg_ps0fg986p2nzxcqlf00000gp/T/ipykernel_99540/1313790090.py:19: LinAlgWarning: Ill-conditioned matrix (rcond=2.79959e-20): result may not be accurate.\n",
      "  cfs = sl.solve(gbmat, fxgt, assume_a='sym')\n",
      "/var/folders/pz/wy3lg_ps0fg986p2nzxcqlf00000gp/T/ipykernel_99540/1313790090.py:19: LinAlgWarning: Ill-conditioned matrix (rcond=3.64447e-19): result may not be accurate.\n",
      "  cfs = sl.solve(gbmat, fxgt, assume_a='sym')\n",
      "/var/folders/pz/wy3lg_ps0fg986p2nzxcqlf00000gp/T/ipykernel_99540/1313790090.py:19: LinAlgWarning: Ill-conditioned matrix (rcond=8.56132e-20): result may not be accurate.\n",
      "  cfs = sl.solve(gbmat, fxgt, assume_a='sym')\n",
      "/var/folders/pz/wy3lg_ps0fg986p2nzxcqlf00000gp/T/ipykernel_99540/1313790090.py:19: LinAlgWarning: Ill-conditioned matrix (rcond=1.30897e-20): result may not be accurate.\n",
      "  cfs = sl.solve(gbmat, fxgt, assume_a='sym')\n",
      "/var/folders/pz/wy3lg_ps0fg986p2nzxcqlf00000gp/T/ipykernel_99540/1313790090.py:19: LinAlgWarning: Ill-conditioned matrix (rcond=2.70236e-19): result may not be accurate.\n",
      "  cfs = sl.solve(gbmat, fxgt, assume_a='sym')\n",
      "/var/folders/pz/wy3lg_ps0fg986p2nzxcqlf00000gp/T/ipykernel_99540/1313790090.py:19: LinAlgWarning: Ill-conditioned matrix (rcond=1.39081e-19): result may not be accurate.\n",
      "  cfs = sl.solve(gbmat, fxgt, assume_a='sym')\n",
      "/var/folders/pz/wy3lg_ps0fg986p2nzxcqlf00000gp/T/ipykernel_99540/1313790090.py:19: LinAlgWarning: Ill-conditioned matrix (rcond=1.63466e-19): result may not be accurate.\n",
      "  cfs = sl.solve(gbmat, fxgt, assume_a='sym')\n",
      "/var/folders/pz/wy3lg_ps0fg986p2nzxcqlf00000gp/T/ipykernel_99540/1313790090.py:19: LinAlgWarning: Ill-conditioned matrix (rcond=8.1554e-20): result may not be accurate.\n",
      "  cfs = sl.solve(gbmat, fxgt, assume_a='sym')\n",
      "/var/folders/pz/wy3lg_ps0fg986p2nzxcqlf00000gp/T/ipykernel_99540/1313790090.py:19: LinAlgWarning: Ill-conditioned matrix (rcond=1.15311e-19): result may not be accurate.\n",
      "  cfs = sl.solve(gbmat, fxgt, assume_a='sym')\n",
      "/var/folders/pz/wy3lg_ps0fg986p2nzxcqlf00000gp/T/ipykernel_99540/1313790090.py:19: LinAlgWarning: Ill-conditioned matrix (rcond=3.79433e-20): result may not be accurate.\n",
      "  cfs = sl.solve(gbmat, fxgt, assume_a='sym')\n",
      "/var/folders/pz/wy3lg_ps0fg986p2nzxcqlf00000gp/T/ipykernel_99540/1313790090.py:19: LinAlgWarning: Ill-conditioned matrix (rcond=5.02014e-21): result may not be accurate.\n",
      "  cfs = sl.solve(gbmat, fxgt, assume_a='sym')\n",
      "/var/folders/pz/wy3lg_ps0fg986p2nzxcqlf00000gp/T/ipykernel_99540/1313790090.py:19: LinAlgWarning: Ill-conditioned matrix (rcond=1.23096e-19): result may not be accurate.\n",
      "  cfs = sl.solve(gbmat, fxgt, assume_a='sym')\n",
      "/var/folders/pz/wy3lg_ps0fg986p2nzxcqlf00000gp/T/ipykernel_99540/1313790090.py:19: LinAlgWarning: Ill-conditioned matrix (rcond=3.32835e-19): result may not be accurate.\n",
      "  cfs = sl.solve(gbmat, fxgt, assume_a='sym')\n",
      "/var/folders/pz/wy3lg_ps0fg986p2nzxcqlf00000gp/T/ipykernel_99540/1313790090.py:19: LinAlgWarning: Ill-conditioned matrix (rcond=4.98681e-20): result may not be accurate.\n",
      "  cfs = sl.solve(gbmat, fxgt, assume_a='sym')\n",
      "/var/folders/pz/wy3lg_ps0fg986p2nzxcqlf00000gp/T/ipykernel_99540/1313790090.py:19: LinAlgWarning: Ill-conditioned matrix (rcond=1.61176e-19): result may not be accurate.\n",
      "  cfs = sl.solve(gbmat, fxgt, assume_a='sym')\n",
      "/var/folders/pz/wy3lg_ps0fg986p2nzxcqlf00000gp/T/ipykernel_99540/1313790090.py:19: LinAlgWarning: Ill-conditioned matrix (rcond=2.19607e-20): result may not be accurate.\n",
      "  cfs = sl.solve(gbmat, fxgt, assume_a='sym')\n"
     ]
    },
    {
     "name": "stdout",
     "output_type": "stream",
     "text": [
      "Computing 67 of 115\n",
      "Computing 68 of 115\n",
      "Computing 69 of 115\n",
      "Computing 70 of 115\n",
      "Computing 71 of 115\n",
      "Computing 72 of 115\n",
      "Computing 73 of 115\n",
      "Computing 74 of 115\n",
      "Computing 75 of 115\n",
      "Computing 76 of 115\n",
      "Computing 77 of 115\n",
      "Computing 78 of 115\n",
      "Computing 79 of 115\n",
      "Computing 80 of 115\n",
      "Computing 81 of 115\n",
      "Computing 82 of 115\n",
      "Computing 83 of 115\n",
      "Computing 84 of 115\n",
      "Computing 85 of 115\n",
      "Computing 86 of 115\n",
      "Computing 87 of 115\n",
      "Computing 88 of 115\n",
      "Computing 89 of 115\n",
      "Computing 90 of 115\n",
      "Computing 91 of 115\n",
      "Computing 92 of 115\n",
      "Computing 93 of 115\n",
      "Computing 94 of 115\n",
      "Computing 95 of 115\n",
      "Computing 96 of 115\n",
      "Computing 97 of 115\n",
      "Computing 98 of 115\n",
      "Computing 99 of 115\n",
      "Computing 100 of 115\n",
      "Computing 101 of 115\n",
      "Computing 102 of 115\n",
      "Computing 103 of 115\n",
      "Computing 104 of 115\n",
      "Computing 105 of 115\n",
      "Computing 106 of 115\n",
      "Computing 107 of 115\n",
      "Computing 108 of 115\n",
      "Computing 109 of 115\n",
      "Computing 110 of 115\n",
      "Computing 111 of 115\n",
      "Computing 112 of 115\n",
      "Computing 113 of 115\n",
      "Computing 114 of 115\n",
      "Computing 115 of 115\n"
     ]
    },
    {
     "name": "stderr",
     "output_type": "stream",
     "text": [
      "/var/folders/pz/wy3lg_ps0fg986p2nzxcqlf00000gp/T/ipykernel_99540/1313790090.py:19: LinAlgWarning: Ill-conditioned matrix (rcond=4.76508e-20): result may not be accurate.\n",
      "  cfs = sl.solve(gbmat, fxgt, assume_a='sym')\n",
      "/var/folders/pz/wy3lg_ps0fg986p2nzxcqlf00000gp/T/ipykernel_99540/1313790090.py:19: LinAlgWarning: Ill-conditioned matrix (rcond=1.98875e-19): result may not be accurate.\n",
      "  cfs = sl.solve(gbmat, fxgt, assume_a='sym')\n",
      "/var/folders/pz/wy3lg_ps0fg986p2nzxcqlf00000gp/T/ipykernel_99540/1313790090.py:19: LinAlgWarning: Ill-conditioned matrix (rcond=7.98717e-20): result may not be accurate.\n",
      "  cfs = sl.solve(gbmat, fxgt, assume_a='sym')\n",
      "/var/folders/pz/wy3lg_ps0fg986p2nzxcqlf00000gp/T/ipykernel_99540/1313790090.py:19: LinAlgWarning: Ill-conditioned matrix (rcond=4.66623e-19): result may not be accurate.\n",
      "  cfs = sl.solve(gbmat, fxgt, assume_a='sym')\n",
      "/var/folders/pz/wy3lg_ps0fg986p2nzxcqlf00000gp/T/ipykernel_99540/1313790090.py:19: LinAlgWarning: Ill-conditioned matrix (rcond=4.04211e-20): result may not be accurate.\n",
      "  cfs = sl.solve(gbmat, fxgt, assume_a='sym')\n",
      "/var/folders/pz/wy3lg_ps0fg986p2nzxcqlf00000gp/T/ipykernel_99540/1313790090.py:19: LinAlgWarning: Ill-conditioned matrix (rcond=4.8049e-20): result may not be accurate.\n",
      "  cfs = sl.solve(gbmat, fxgt, assume_a='sym')\n",
      "/var/folders/pz/wy3lg_ps0fg986p2nzxcqlf00000gp/T/ipykernel_99540/1313790090.py:19: LinAlgWarning: Ill-conditioned matrix (rcond=4.19391e-21): result may not be accurate.\n",
      "  cfs = sl.solve(gbmat, fxgt, assume_a='sym')\n",
      "/var/folders/pz/wy3lg_ps0fg986p2nzxcqlf00000gp/T/ipykernel_99540/1313790090.py:19: LinAlgWarning: Ill-conditioned matrix (rcond=3.29762e-20): result may not be accurate.\n",
      "  cfs = sl.solve(gbmat, fxgt, assume_a='sym')\n",
      "/var/folders/pz/wy3lg_ps0fg986p2nzxcqlf00000gp/T/ipykernel_99540/1313790090.py:19: LinAlgWarning: Ill-conditioned matrix (rcond=3.16949e-19): result may not be accurate.\n",
      "  cfs = sl.solve(gbmat, fxgt, assume_a='sym')\n",
      "/var/folders/pz/wy3lg_ps0fg986p2nzxcqlf00000gp/T/ipykernel_99540/1313790090.py:19: LinAlgWarning: Ill-conditioned matrix (rcond=7.20214e-20): result may not be accurate.\n",
      "  cfs = sl.solve(gbmat, fxgt, assume_a='sym')\n",
      "/var/folders/pz/wy3lg_ps0fg986p2nzxcqlf00000gp/T/ipykernel_99540/1313790090.py:19: LinAlgWarning: Ill-conditioned matrix (rcond=2.24284e-19): result may not be accurate.\n",
      "  cfs = sl.solve(gbmat, fxgt, assume_a='sym')\n",
      "/var/folders/pz/wy3lg_ps0fg986p2nzxcqlf00000gp/T/ipykernel_99540/1313790090.py:19: LinAlgWarning: Ill-conditioned matrix (rcond=7.87186e-21): result may not be accurate.\n",
      "  cfs = sl.solve(gbmat, fxgt, assume_a='sym')\n",
      "/var/folders/pz/wy3lg_ps0fg986p2nzxcqlf00000gp/T/ipykernel_99540/1313790090.py:19: LinAlgWarning: Ill-conditioned matrix (rcond=1.85615e-19): result may not be accurate.\n",
      "  cfs = sl.solve(gbmat, fxgt, assume_a='sym')\n",
      "/var/folders/pz/wy3lg_ps0fg986p2nzxcqlf00000gp/T/ipykernel_99540/1313790090.py:19: LinAlgWarning: Ill-conditioned matrix (rcond=1.17141e-19): result may not be accurate.\n",
      "  cfs = sl.solve(gbmat, fxgt, assume_a='sym')\n",
      "/var/folders/pz/wy3lg_ps0fg986p2nzxcqlf00000gp/T/ipykernel_99540/1313790090.py:19: LinAlgWarning: Ill-conditioned matrix (rcond=1.27322e-19): result may not be accurate.\n",
      "  cfs = sl.solve(gbmat, fxgt, assume_a='sym')\n",
      "/var/folders/pz/wy3lg_ps0fg986p2nzxcqlf00000gp/T/ipykernel_99540/1313790090.py:19: LinAlgWarning: Ill-conditioned matrix (rcond=3.49427e-20): result may not be accurate.\n",
      "  cfs = sl.solve(gbmat, fxgt, assume_a='sym')\n",
      "/var/folders/pz/wy3lg_ps0fg986p2nzxcqlf00000gp/T/ipykernel_99540/1313790090.py:19: LinAlgWarning: Ill-conditioned matrix (rcond=1.10145e-19): result may not be accurate.\n",
      "  cfs = sl.solve(gbmat, fxgt, assume_a='sym')\n",
      "/var/folders/pz/wy3lg_ps0fg986p2nzxcqlf00000gp/T/ipykernel_99540/1313790090.py:19: LinAlgWarning: Ill-conditioned matrix (rcond=2.14368e-19): result may not be accurate.\n",
      "  cfs = sl.solve(gbmat, fxgt, assume_a='sym')\n",
      "/var/folders/pz/wy3lg_ps0fg986p2nzxcqlf00000gp/T/ipykernel_99540/1313790090.py:19: LinAlgWarning: Ill-conditioned matrix (rcond=2.37024e-19): result may not be accurate.\n",
      "  cfs = sl.solve(gbmat, fxgt, assume_a='sym')\n"
     ]
    }
   ],
   "source": [
    "jspace = np.arange(5, 120)  # 60)\n",
    "lenjspace = len(jspace)\n",
    "hvec = np.zeros(lenjspace, dtype=float)\n",
    "L2errvec = np.zeros(lenjspace, dtype=float)\n",
    "LIerrvec = np.zeros(lenjspace, dtype=float)\n",
    "\n",
    "# main loop\n",
    "for i in range(lenjspace):\n",
    "    print(f'Computing {i+1} of {lenjspace}')\n",
    "    hvec[i] = bigL / jspace[i]\n",
    "    thiscfs, thisxgr = gbcfs(jspace[i], bigL, myalpha)\n",
    "    L2errvec[i] = L2err(thiscfs, thisxgr, bigL, myalpha)\n",
    "    LIerrvec[i] = Linferr(2000, thiscfs, thisxgr, bigL, myalpha)"
   ],
   "metadata": {
    "collapsed": false,
    "pycharm": {
     "name": "#%%\n"
    }
   }
  },
  {
   "cell_type": "code",
   "execution_count": 19,
   "outputs": [
    {
     "data": {
      "text/plain": "<Figure size 432x288 with 1 Axes>",
      "image/png": "[encoded data removed]"
     },
     "metadata": {
      "needs_background": "light"
     },
     "output_type": "display_data"
    },
    {
     "data": {
      "text/plain": "<Figure size 432x288 with 1 Axes>",
      "image/png": "[encoded data removed]"
     },
     "metadata": {
      "needs_background": "light"
     },
     "output_type": "display_data"
    }
   ],
   "source": [
    "plt.loglog(hvec, L2errvec)\n",
    "plt.xscale('log', base=2)\n",
    "plt.yscale('log', base=10)\n",
    "plt.title(r'$L^2$ Error vs. Gaussian Spacing')\n",
    "plt.xlabel('Spacing')\n",
    "plt.ylabel('Error')\n",
    "plt.show()\n",
    "\n",
    "plt.loglog(hvec, LIerrvec)\n",
    "plt.xscale('log', base=2)\n",
    "plt.yscale('log', base=10)\n",
    "plt.title(r'$L^\\infty$ Error vs. Gaussian Spacing')\n",
    "plt.xlabel('Spacing')\n",
    "plt.ylabel('Error')\n",
    "plt.show()"
   ],
   "metadata": {
    "collapsed": false,
    "pycharm": {
     "name": "#%%\n"
    }
   }
  },
  {
   "cell_type": "code",
   "execution_count": 22,
   "outputs": [
    {
     "name": "stdout",
     "output_type": "stream",
     "text": [
      "Computing 1 of 55\n",
      "Computing 2 of 55\n",
      "Computing 3 of 55\n",
      "Computing 4 of 55\n",
      "Computing 5 of 55\n",
      "Computing 6 of 55\n",
      "Computing 7 of 55\n"
     ]
    },
    {
     "name": "stderr",
     "output_type": "stream",
     "text": [
      "/Users/morty/miniforge3/envs/work0122/lib/python3.9/site-packages/scipy/integrate/_quadrature.py:276: AccuracyWarning: maxiter (500) exceeded. Latest difference = 2.312414e-02\n",
      "  warnings.warn(\n",
      "/var/folders/pz/wy3lg_ps0fg986p2nzxcqlf00000gp/T/ipykernel_99540/1313790090.py:19: LinAlgWarning: Ill-conditioned matrix (rcond=5.54398e-18): result may not be accurate.\n",
      "  cfs = sl.solve(gbmat, fxgt, assume_a='sym')\n",
      "/Users/morty/miniforge3/envs/work0122/lib/python3.9/site-packages/scipy/integrate/_quadrature.py:276: AccuracyWarning: maxiter (500) exceeded. Latest difference = 6.067657e-01\n",
      "  warnings.warn(\n",
      "/var/folders/pz/wy3lg_ps0fg986p2nzxcqlf00000gp/T/ipykernel_99540/1313790090.py:19: LinAlgWarning: Ill-conditioned matrix (rcond=2.13992e-18): result may not be accurate.\n",
      "  cfs = sl.solve(gbmat, fxgt, assume_a='sym')\n",
      "/Users/morty/miniforge3/envs/work0122/lib/python3.9/site-packages/scipy/integrate/_quadrature.py:276: AccuracyWarning: maxiter (500) exceeded. Latest difference = 1.719742e+00\n",
      "  warnings.warn(\n",
      "/var/folders/pz/wy3lg_ps0fg986p2nzxcqlf00000gp/T/ipykernel_99540/1313790090.py:19: LinAlgWarning: Ill-conditioned matrix (rcond=6.5052e-19): result may not be accurate.\n",
      "  cfs = sl.solve(gbmat, fxgt, assume_a='sym')\n",
      "/Users/morty/miniforge3/envs/work0122/lib/python3.9/site-packages/scipy/integrate/_quadrature.py:276: AccuracyWarning: maxiter (500) exceeded. Latest difference = 2.252209e+01\n",
      "  warnings.warn(\n",
      "/var/folders/pz/wy3lg_ps0fg986p2nzxcqlf00000gp/T/ipykernel_99540/1313790090.py:19: LinAlgWarning: Ill-conditioned matrix (rcond=2.91868e-19): result may not be accurate.\n",
      "  cfs = sl.solve(gbmat, fxgt, assume_a='sym')\n",
      "/Users/morty/miniforge3/envs/work0122/lib/python3.9/site-packages/scipy/integrate/_quadrature.py:276: AccuracyWarning: maxiter (500) exceeded. Latest difference = 1.009338e+00\n",
      "  warnings.warn(\n",
      "/var/folders/pz/wy3lg_ps0fg986p2nzxcqlf00000gp/T/ipykernel_99540/1313790090.py:19: LinAlgWarning: Ill-conditioned matrix (rcond=1.61365e-19): result may not be accurate.\n",
      "  cfs = sl.solve(gbmat, fxgt, assume_a='sym')\n",
      "/Users/morty/miniforge3/envs/work0122/lib/python3.9/site-packages/scipy/integrate/_quadrature.py:276: AccuracyWarning: maxiter (500) exceeded. Latest difference = 3.882453e+01\n",
      "  warnings.warn(\n",
      "/var/folders/pz/wy3lg_ps0fg986p2nzxcqlf00000gp/T/ipykernel_99540/1313790090.py:19: LinAlgWarning: Ill-conditioned matrix (rcond=4.19542e-19): result may not be accurate.\n",
      "  cfs = sl.solve(gbmat, fxgt, assume_a='sym')\n",
      "/Users/morty/miniforge3/envs/work0122/lib/python3.9/site-packages/scipy/integrate/_quadrature.py:276: AccuracyWarning: maxiter (500) exceeded. Latest difference = 3.799715e+01\n",
      "  warnings.warn(\n",
      "/var/folders/pz/wy3lg_ps0fg986p2nzxcqlf00000gp/T/ipykernel_99540/1313790090.py:19: LinAlgWarning: Ill-conditioned matrix (rcond=1.9211e-20): result may not be accurate.\n",
      "  cfs = sl.solve(gbmat, fxgt, assume_a='sym')\n"
     ]
    },
    {
     "name": "stdout",
     "output_type": "stream",
     "text": [
      "Computing 8 of 55\n",
      "Computing 9 of 55\n",
      "Computing 10 of 55\n",
      "Computing 11 of 55\n",
      "Computing 12 of 55\n"
     ]
    },
    {
     "name": "stderr",
     "output_type": "stream",
     "text": [
      "/Users/morty/miniforge3/envs/work0122/lib/python3.9/site-packages/scipy/integrate/_quadrature.py:276: AccuracyWarning: maxiter (500) exceeded. Latest difference = 1.745346e+03\n",
      "  warnings.warn(\n",
      "/var/folders/pz/wy3lg_ps0fg986p2nzxcqlf00000gp/T/ipykernel_99540/1313790090.py:19: LinAlgWarning: Ill-conditioned matrix (rcond=2.67875e-19): result may not be accurate.\n",
      "  cfs = sl.solve(gbmat, fxgt, assume_a='sym')\n",
      "/Users/morty/miniforge3/envs/work0122/lib/python3.9/site-packages/scipy/integrate/_quadrature.py:276: AccuracyWarning: maxiter (500) exceeded. Latest difference = 3.521710e+01\n",
      "  warnings.warn(\n",
      "/var/folders/pz/wy3lg_ps0fg986p2nzxcqlf00000gp/T/ipykernel_99540/1313790090.py:19: LinAlgWarning: Ill-conditioned matrix (rcond=1.71638e-19): result may not be accurate.\n",
      "  cfs = sl.solve(gbmat, fxgt, assume_a='sym')\n",
      "/Users/morty/miniforge3/envs/work0122/lib/python3.9/site-packages/scipy/integrate/_quadrature.py:276: AccuracyWarning: maxiter (500) exceeded. Latest difference = 2.953719e+01\n",
      "  warnings.warn(\n",
      "/var/folders/pz/wy3lg_ps0fg986p2nzxcqlf00000gp/T/ipykernel_99540/1313790090.py:19: LinAlgWarning: Ill-conditioned matrix (rcond=5.26999e-19): result may not be accurate.\n",
      "  cfs = sl.solve(gbmat, fxgt, assume_a='sym')\n",
      "/Users/morty/miniforge3/envs/work0122/lib/python3.9/site-packages/scipy/integrate/_quadrature.py:276: AccuracyWarning: maxiter (500) exceeded. Latest difference = 1.480216e+01\n",
      "  warnings.warn(\n",
      "/var/folders/pz/wy3lg_ps0fg986p2nzxcqlf00000gp/T/ipykernel_99540/1313790090.py:19: LinAlgWarning: Ill-conditioned matrix (rcond=2.61599e-20): result may not be accurate.\n",
      "  cfs = sl.solve(gbmat, fxgt, assume_a='sym')\n",
      "/Users/morty/miniforge3/envs/work0122/lib/python3.9/site-packages/scipy/integrate/_quadrature.py:276: AccuracyWarning: maxiter (500) exceeded. Latest difference = 1.912722e+02\n",
      "  warnings.warn(\n",
      "/var/folders/pz/wy3lg_ps0fg986p2nzxcqlf00000gp/T/ipykernel_99540/1313790090.py:19: LinAlgWarning: Ill-conditioned matrix (rcond=7.69032e-21): result may not be accurate.\n",
      "  cfs = sl.solve(gbmat, fxgt, assume_a='sym')\n"
     ]
    },
    {
     "name": "stdout",
     "output_type": "stream",
     "text": [
      "Computing 13 of 55\n",
      "Computing 14 of 55\n",
      "Computing 15 of 55\n",
      "Computing 16 of 55\n"
     ]
    },
    {
     "name": "stderr",
     "output_type": "stream",
     "text": [
      "/Users/morty/miniforge3/envs/work0122/lib/python3.9/site-packages/scipy/integrate/_quadrature.py:276: AccuracyWarning: maxiter (500) exceeded. Latest difference = 2.691964e+04\n",
      "  warnings.warn(\n",
      "/var/folders/pz/wy3lg_ps0fg986p2nzxcqlf00000gp/T/ipykernel_99540/1313790090.py:19: LinAlgWarning: Ill-conditioned matrix (rcond=3.15028e-19): result may not be accurate.\n",
      "  cfs = sl.solve(gbmat, fxgt, assume_a='sym')\n",
      "/Users/morty/miniforge3/envs/work0122/lib/python3.9/site-packages/scipy/integrate/_quadrature.py:276: AccuracyWarning: maxiter (500) exceeded. Latest difference = 6.695734e+00\n",
      "  warnings.warn(\n",
      "/var/folders/pz/wy3lg_ps0fg986p2nzxcqlf00000gp/T/ipykernel_99540/1313790090.py:19: LinAlgWarning: Ill-conditioned matrix (rcond=1.74894e-19): result may not be accurate.\n",
      "  cfs = sl.solve(gbmat, fxgt, assume_a='sym')\n",
      "/Users/morty/miniforge3/envs/work0122/lib/python3.9/site-packages/scipy/integrate/_quadrature.py:276: AccuracyWarning: maxiter (500) exceeded. Latest difference = 2.843182e+01\n",
      "  warnings.warn(\n",
      "/var/folders/pz/wy3lg_ps0fg986p2nzxcqlf00000gp/T/ipykernel_99540/1313790090.py:19: LinAlgWarning: Ill-conditioned matrix (rcond=3.73442e-20): result may not be accurate.\n",
      "  cfs = sl.solve(gbmat, fxgt, assume_a='sym')\n",
      "/Users/morty/miniforge3/envs/work0122/lib/python3.9/site-packages/scipy/integrate/_quadrature.py:276: AccuracyWarning: maxiter (500) exceeded. Latest difference = 6.469075e+01\n",
      "  warnings.warn(\n",
      "/var/folders/pz/wy3lg_ps0fg986p2nzxcqlf00000gp/T/ipykernel_99540/1313790090.py:19: LinAlgWarning: Ill-conditioned matrix (rcond=8.6587e-20): result may not be accurate.\n",
      "  cfs = sl.solve(gbmat, fxgt, assume_a='sym')\n"
     ]
    },
    {
     "name": "stdout",
     "output_type": "stream",
     "text": [
      "Computing 17 of 55\n",
      "Computing 18 of 55\n",
      "Computing 19 of 55\n",
      "Computing 20 of 55\n"
     ]
    },
    {
     "name": "stderr",
     "output_type": "stream",
     "text": [
      "/Users/morty/miniforge3/envs/work0122/lib/python3.9/site-packages/scipy/integrate/_quadrature.py:276: AccuracyWarning: maxiter (500) exceeded. Latest difference = 1.593880e+03\n",
      "  warnings.warn(\n",
      "/var/folders/pz/wy3lg_ps0fg986p2nzxcqlf00000gp/T/ipykernel_99540/1313790090.py:19: LinAlgWarning: Ill-conditioned matrix (rcond=2.43901e-20): result may not be accurate.\n",
      "  cfs = sl.solve(gbmat, fxgt, assume_a='sym')\n",
      "/Users/morty/miniforge3/envs/work0122/lib/python3.9/site-packages/scipy/integrate/_quadrature.py:276: AccuracyWarning: maxiter (500) exceeded. Latest difference = 1.563348e+02\n",
      "  warnings.warn(\n",
      "/var/folders/pz/wy3lg_ps0fg986p2nzxcqlf00000gp/T/ipykernel_99540/1313790090.py:19: LinAlgWarning: Ill-conditioned matrix (rcond=1.17742e-19): result may not be accurate.\n",
      "  cfs = sl.solve(gbmat, fxgt, assume_a='sym')\n",
      "/Users/morty/miniforge3/envs/work0122/lib/python3.9/site-packages/scipy/integrate/_quadrature.py:276: AccuracyWarning: maxiter (500) exceeded. Latest difference = 2.834147e+02\n",
      "  warnings.warn(\n",
      "/var/folders/pz/wy3lg_ps0fg986p2nzxcqlf00000gp/T/ipykernel_99540/1313790090.py:19: LinAlgWarning: Ill-conditioned matrix (rcond=2.3896e-20): result may not be accurate.\n",
      "  cfs = sl.solve(gbmat, fxgt, assume_a='sym')\n",
      "/Users/morty/miniforge3/envs/work0122/lib/python3.9/site-packages/scipy/integrate/_quadrature.py:276: AccuracyWarning: maxiter (500) exceeded. Latest difference = 1.237400e+03\n",
      "  warnings.warn(\n",
      "/var/folders/pz/wy3lg_ps0fg986p2nzxcqlf00000gp/T/ipykernel_99540/1313790090.py:19: LinAlgWarning: Ill-conditioned matrix (rcond=2.97203e-19): result may not be accurate.\n",
      "  cfs = sl.solve(gbmat, fxgt, assume_a='sym')\n"
     ]
    },
    {
     "name": "stdout",
     "output_type": "stream",
     "text": [
      "Computing 21 of 55\n",
      "Computing 22 of 55\n",
      "Computing 23 of 55\n"
     ]
    },
    {
     "name": "stderr",
     "output_type": "stream",
     "text": [
      "/Users/morty/miniforge3/envs/work0122/lib/python3.9/site-packages/scipy/integrate/_quadrature.py:276: AccuracyWarning: maxiter (500) exceeded. Latest difference = 7.822867e+01\n",
      "  warnings.warn(\n",
      "/var/folders/pz/wy3lg_ps0fg986p2nzxcqlf00000gp/T/ipykernel_99540/1313790090.py:19: LinAlgWarning: Ill-conditioned matrix (rcond=1.84942e-19): result may not be accurate.\n",
      "  cfs = sl.solve(gbmat, fxgt, assume_a='sym')\n",
      "/Users/morty/miniforge3/envs/work0122/lib/python3.9/site-packages/scipy/integrate/_quadrature.py:276: AccuracyWarning: maxiter (500) exceeded. Latest difference = 3.569540e+01\n",
      "  warnings.warn(\n",
      "/var/folders/pz/wy3lg_ps0fg986p2nzxcqlf00000gp/T/ipykernel_99540/1313790090.py:19: LinAlgWarning: Ill-conditioned matrix (rcond=2.64737e-20): result may not be accurate.\n",
      "  cfs = sl.solve(gbmat, fxgt, assume_a='sym')\n",
      "/Users/morty/miniforge3/envs/work0122/lib/python3.9/site-packages/scipy/integrate/_quadrature.py:276: AccuracyWarning: maxiter (500) exceeded. Latest difference = 2.816996e+02\n",
      "  warnings.warn(\n",
      "/var/folders/pz/wy3lg_ps0fg986p2nzxcqlf00000gp/T/ipykernel_99540/1313790090.py:19: LinAlgWarning: Ill-conditioned matrix (rcond=4.14097e-20): result may not be accurate.\n",
      "  cfs = sl.solve(gbmat, fxgt, assume_a='sym')\n"
     ]
    },
    {
     "name": "stdout",
     "output_type": "stream",
     "text": [
      "Computing 24 of 55\n",
      "Computing 25 of 55\n",
      "Computing 26 of 55\n"
     ]
    },
    {
     "name": "stderr",
     "output_type": "stream",
     "text": [
      "/Users/morty/miniforge3/envs/work0122/lib/python3.9/site-packages/scipy/integrate/_quadrature.py:276: AccuracyWarning: maxiter (500) exceeded. Latest difference = 2.412966e+02\n",
      "  warnings.warn(\n",
      "/var/folders/pz/wy3lg_ps0fg986p2nzxcqlf00000gp/T/ipykernel_99540/1313790090.py:19: LinAlgWarning: Ill-conditioned matrix (rcond=9.0371e-20): result may not be accurate.\n",
      "  cfs = sl.solve(gbmat, fxgt, assume_a='sym')\n",
      "/Users/morty/miniforge3/envs/work0122/lib/python3.9/site-packages/scipy/integrate/_quadrature.py:276: AccuracyWarning: maxiter (500) exceeded. Latest difference = 1.795291e+01\n",
      "  warnings.warn(\n",
      "/var/folders/pz/wy3lg_ps0fg986p2nzxcqlf00000gp/T/ipykernel_99540/1313790090.py:19: LinAlgWarning: Ill-conditioned matrix (rcond=6.91831e-20): result may not be accurate.\n",
      "  cfs = sl.solve(gbmat, fxgt, assume_a='sym')\n",
      "/Users/morty/miniforge3/envs/work0122/lib/python3.9/site-packages/scipy/integrate/_quadrature.py:276: AccuracyWarning: maxiter (500) exceeded. Latest difference = 7.145861e+01\n",
      "  warnings.warn(\n",
      "/var/folders/pz/wy3lg_ps0fg986p2nzxcqlf00000gp/T/ipykernel_99540/1313790090.py:19: LinAlgWarning: Ill-conditioned matrix (rcond=1.76018e-19): result may not be accurate.\n",
      "  cfs = sl.solve(gbmat, fxgt, assume_a='sym')\n"
     ]
    },
    {
     "name": "stdout",
     "output_type": "stream",
     "text": [
      "Computing 27 of 55\n",
      "Computing 28 of 55\n",
      "Computing 29 of 55\n"
     ]
    },
    {
     "name": "stderr",
     "output_type": "stream",
     "text": [
      "/Users/morty/miniforge3/envs/work0122/lib/python3.9/site-packages/scipy/integrate/_quadrature.py:276: AccuracyWarning: maxiter (500) exceeded. Latest difference = 2.814975e+01\n",
      "  warnings.warn(\n",
      "/var/folders/pz/wy3lg_ps0fg986p2nzxcqlf00000gp/T/ipykernel_99540/1313790090.py:19: LinAlgWarning: Ill-conditioned matrix (rcond=1.36653e-19): result may not be accurate.\n",
      "  cfs = sl.solve(gbmat, fxgt, assume_a='sym')\n",
      "/Users/morty/miniforge3/envs/work0122/lib/python3.9/site-packages/scipy/integrate/_quadrature.py:276: AccuracyWarning: maxiter (500) exceeded. Latest difference = 1.103542e+00\n",
      "  warnings.warn(\n",
      "/var/folders/pz/wy3lg_ps0fg986p2nzxcqlf00000gp/T/ipykernel_99540/1313790090.py:19: LinAlgWarning: Ill-conditioned matrix (rcond=4.97196e-20): result may not be accurate.\n",
      "  cfs = sl.solve(gbmat, fxgt, assume_a='sym')\n",
      "/Users/morty/miniforge3/envs/work0122/lib/python3.9/site-packages/scipy/integrate/_quadrature.py:276: AccuracyWarning: maxiter (500) exceeded. Latest difference = 1.187827e+03\n",
      "  warnings.warn(\n",
      "/var/folders/pz/wy3lg_ps0fg986p2nzxcqlf00000gp/T/ipykernel_99540/1313790090.py:19: LinAlgWarning: Ill-conditioned matrix (rcond=6.54436e-20): result may not be accurate.\n",
      "  cfs = sl.solve(gbmat, fxgt, assume_a='sym')\n",
      "/Users/morty/miniforge3/envs/work0122/lib/python3.9/site-packages/scipy/integrate/_quadrature.py:276: AccuracyWarning: maxiter (500) exceeded. Latest difference = 4.402724e+00\n",
      "  warnings.warn(\n",
      "/var/folders/pz/wy3lg_ps0fg986p2nzxcqlf00000gp/T/ipykernel_99540/1313790090.py:19: LinAlgWarning: Ill-conditioned matrix (rcond=1.11446e-19): result may not be accurate.\n",
      "  cfs = sl.solve(gbmat, fxgt, assume_a='sym')\n",
      "/Users/morty/miniforge3/envs/work0122/lib/python3.9/site-packages/scipy/integrate/_quadrature.py:276: AccuracyWarning: maxiter (500) exceeded. Latest difference = 1.634036e+01\n",
      "  warnings.warn(\n",
      "/var/folders/pz/wy3lg_ps0fg986p2nzxcqlf00000gp/T/ipykernel_99540/1313790090.py:19: LinAlgWarning: Ill-conditioned matrix (rcond=5.69492e-20): result may not be accurate.\n",
      "  cfs = sl.solve(gbmat, fxgt, assume_a='sym')\n"
     ]
    },
    {
     "name": "stdout",
     "output_type": "stream",
     "text": [
      "Computing 30 of 55\n",
      "Computing 31 of 55\n",
      "Computing 32 of 55\n"
     ]
    },
    {
     "name": "stderr",
     "output_type": "stream",
     "text": [
      "/Users/morty/miniforge3/envs/work0122/lib/python3.9/site-packages/scipy/integrate/_quadrature.py:276: AccuracyWarning: maxiter (500) exceeded. Latest difference = 2.340287e+01\n",
      "  warnings.warn(\n",
      "/var/folders/pz/wy3lg_ps0fg986p2nzxcqlf00000gp/T/ipykernel_99540/1313790090.py:19: LinAlgWarning: Ill-conditioned matrix (rcond=1.21017e-19): result may not be accurate.\n",
      "  cfs = sl.solve(gbmat, fxgt, assume_a='sym')\n",
      "/Users/morty/miniforge3/envs/work0122/lib/python3.9/site-packages/scipy/integrate/_quadrature.py:276: AccuracyWarning: maxiter (500) exceeded. Latest difference = 1.290798e+01\n",
      "  warnings.warn(\n",
      "/var/folders/pz/wy3lg_ps0fg986p2nzxcqlf00000gp/T/ipykernel_99540/1313790090.py:19: LinAlgWarning: Ill-conditioned matrix (rcond=8.83967e-20): result may not be accurate.\n",
      "  cfs = sl.solve(gbmat, fxgt, assume_a='sym')\n",
      "/Users/morty/miniforge3/envs/work0122/lib/python3.9/site-packages/scipy/integrate/_quadrature.py:276: AccuracyWarning: maxiter (500) exceeded. Latest difference = 6.749914e+02\n",
      "  warnings.warn(\n",
      "/var/folders/pz/wy3lg_ps0fg986p2nzxcqlf00000gp/T/ipykernel_99540/1313790090.py:19: LinAlgWarning: Ill-conditioned matrix (rcond=7.37903e-20): result may not be accurate.\n",
      "  cfs = sl.solve(gbmat, fxgt, assume_a='sym')\n"
     ]
    },
    {
     "name": "stdout",
     "output_type": "stream",
     "text": [
      "Computing 33 of 55\n",
      "Computing 34 of 55\n",
      "Computing 35 of 55\n"
     ]
    },
    {
     "name": "stderr",
     "output_type": "stream",
     "text": [
      "/Users/morty/miniforge3/envs/work0122/lib/python3.9/site-packages/scipy/integrate/_quadrature.py:276: AccuracyWarning: maxiter (500) exceeded. Latest difference = 7.380953e+01\n",
      "  warnings.warn(\n",
      "/var/folders/pz/wy3lg_ps0fg986p2nzxcqlf00000gp/T/ipykernel_99540/1313790090.py:19: LinAlgWarning: Ill-conditioned matrix (rcond=3.39997e-20): result may not be accurate.\n",
      "  cfs = sl.solve(gbmat, fxgt, assume_a='sym')\n",
      "/Users/morty/miniforge3/envs/work0122/lib/python3.9/site-packages/scipy/integrate/_quadrature.py:276: AccuracyWarning: maxiter (500) exceeded. Latest difference = 1.286779e+01\n",
      "  warnings.warn(\n",
      "/var/folders/pz/wy3lg_ps0fg986p2nzxcqlf00000gp/T/ipykernel_99540/1313790090.py:19: LinAlgWarning: Ill-conditioned matrix (rcond=9.72389e-20): result may not be accurate.\n",
      "  cfs = sl.solve(gbmat, fxgt, assume_a='sym')\n",
      "/Users/morty/miniforge3/envs/work0122/lib/python3.9/site-packages/scipy/integrate/_quadrature.py:276: AccuracyWarning: maxiter (500) exceeded. Latest difference = 4.019502e-01\n",
      "  warnings.warn(\n",
      "/var/folders/pz/wy3lg_ps0fg986p2nzxcqlf00000gp/T/ipykernel_99540/1313790090.py:19: LinAlgWarning: Ill-conditioned matrix (rcond=1.93345e-20): result may not be accurate.\n",
      "  cfs = sl.solve(gbmat, fxgt, assume_a='sym')\n"
     ]
    },
    {
     "name": "stdout",
     "output_type": "stream",
     "text": [
      "Computing 36 of 55\n",
      "Computing 37 of 55\n",
      "Computing 38 of 55\n"
     ]
    },
    {
     "name": "stderr",
     "output_type": "stream",
     "text": [
      "/Users/morty/miniforge3/envs/work0122/lib/python3.9/site-packages/scipy/integrate/_quadrature.py:276: AccuracyWarning: maxiter (500) exceeded. Latest difference = 2.245320e+02\n",
      "  warnings.warn(\n",
      "/var/folders/pz/wy3lg_ps0fg986p2nzxcqlf00000gp/T/ipykernel_99540/1313790090.py:19: LinAlgWarning: Ill-conditioned matrix (rcond=7.83145e-20): result may not be accurate.\n",
      "  cfs = sl.solve(gbmat, fxgt, assume_a='sym')\n",
      "/Users/morty/miniforge3/envs/work0122/lib/python3.9/site-packages/scipy/integrate/_quadrature.py:276: AccuracyWarning: maxiter (500) exceeded. Latest difference = 3.163214e+02\n",
      "  warnings.warn(\n",
      "/var/folders/pz/wy3lg_ps0fg986p2nzxcqlf00000gp/T/ipykernel_99540/1313790090.py:19: LinAlgWarning: Ill-conditioned matrix (rcond=6.23844e-20): result may not be accurate.\n",
      "  cfs = sl.solve(gbmat, fxgt, assume_a='sym')\n",
      "/Users/morty/miniforge3/envs/work0122/lib/python3.9/site-packages/scipy/integrate/_quadrature.py:276: AccuracyWarning: maxiter (500) exceeded. Latest difference = 2.711108e+00\n",
      "  warnings.warn(\n",
      "/var/folders/pz/wy3lg_ps0fg986p2nzxcqlf00000gp/T/ipykernel_99540/1313790090.py:19: LinAlgWarning: Ill-conditioned matrix (rcond=7.40492e-20): result may not be accurate.\n",
      "  cfs = sl.solve(gbmat, fxgt, assume_a='sym')\n"
     ]
    },
    {
     "name": "stdout",
     "output_type": "stream",
     "text": [
      "Computing 39 of 55\n",
      "Computing 40 of 55\n",
      "Computing 41 of 55\n"
     ]
    },
    {
     "name": "stderr",
     "output_type": "stream",
     "text": [
      "/Users/morty/miniforge3/envs/work0122/lib/python3.9/site-packages/scipy/integrate/_quadrature.py:276: AccuracyWarning: maxiter (500) exceeded. Latest difference = 1.556899e+01\n",
      "  warnings.warn(\n",
      "/var/folders/pz/wy3lg_ps0fg986p2nzxcqlf00000gp/T/ipykernel_99540/1313790090.py:19: LinAlgWarning: Ill-conditioned matrix (rcond=2.5184e-20): result may not be accurate.\n",
      "  cfs = sl.solve(gbmat, fxgt, assume_a='sym')\n",
      "/Users/morty/miniforge3/envs/work0122/lib/python3.9/site-packages/scipy/integrate/_quadrature.py:276: AccuracyWarning: maxiter (500) exceeded. Latest difference = 7.219128e+02\n",
      "  warnings.warn(\n",
      "/var/folders/pz/wy3lg_ps0fg986p2nzxcqlf00000gp/T/ipykernel_99540/1313790090.py:19: LinAlgWarning: Ill-conditioned matrix (rcond=2.13737e-19): result may not be accurate.\n",
      "  cfs = sl.solve(gbmat, fxgt, assume_a='sym')\n",
      "/Users/morty/miniforge3/envs/work0122/lib/python3.9/site-packages/scipy/integrate/_quadrature.py:276: AccuracyWarning: maxiter (500) exceeded. Latest difference = 1.563357e+01\n",
      "  warnings.warn(\n",
      "/var/folders/pz/wy3lg_ps0fg986p2nzxcqlf00000gp/T/ipykernel_99540/1313790090.py:19: LinAlgWarning: Ill-conditioned matrix (rcond=4.9123e-20): result may not be accurate.\n",
      "  cfs = sl.solve(gbmat, fxgt, assume_a='sym')\n"
     ]
    },
    {
     "name": "stdout",
     "output_type": "stream",
     "text": [
      "Computing 42 of 55\n",
      "Computing 43 of 55\n",
      "Computing 44 of 55\n"
     ]
    },
    {
     "name": "stderr",
     "output_type": "stream",
     "text": [
      "/Users/morty/miniforge3/envs/work0122/lib/python3.9/site-packages/scipy/integrate/_quadrature.py:276: AccuracyWarning: maxiter (500) exceeded. Latest difference = 2.286018e+01\n",
      "  warnings.warn(\n",
      "/var/folders/pz/wy3lg_ps0fg986p2nzxcqlf00000gp/T/ipykernel_99540/1313790090.py:19: LinAlgWarning: Ill-conditioned matrix (rcond=2.71721e-20): result may not be accurate.\n",
      "  cfs = sl.solve(gbmat, fxgt, assume_a='sym')\n",
      "/Users/morty/miniforge3/envs/work0122/lib/python3.9/site-packages/scipy/integrate/_quadrature.py:276: AccuracyWarning: maxiter (500) exceeded. Latest difference = 7.185720e+01\n",
      "  warnings.warn(\n",
      "/var/folders/pz/wy3lg_ps0fg986p2nzxcqlf00000gp/T/ipykernel_99540/1313790090.py:19: LinAlgWarning: Ill-conditioned matrix (rcond=1.24703e-19): result may not be accurate.\n",
      "  cfs = sl.solve(gbmat, fxgt, assume_a='sym')\n"
     ]
    },
    {
     "name": "stdout",
     "output_type": "stream",
     "text": [
      "Computing 45 of 55\n",
      "Computing 46 of 55\n"
     ]
    },
    {
     "name": "stderr",
     "output_type": "stream",
     "text": [
      "/Users/morty/miniforge3/envs/work0122/lib/python3.9/site-packages/scipy/integrate/_quadrature.py:276: AccuracyWarning: maxiter (500) exceeded. Latest difference = 1.121401e+01\n",
      "  warnings.warn(\n",
      "/var/folders/pz/wy3lg_ps0fg986p2nzxcqlf00000gp/T/ipykernel_99540/1313790090.py:19: LinAlgWarning: Ill-conditioned matrix (rcond=5.77689e-20): result may not be accurate.\n",
      "  cfs = sl.solve(gbmat, fxgt, assume_a='sym')\n",
      "/Users/morty/miniforge3/envs/work0122/lib/python3.9/site-packages/scipy/integrate/_quadrature.py:276: AccuracyWarning: maxiter (500) exceeded. Latest difference = 6.709507e+00\n",
      "  warnings.warn(\n",
      "/var/folders/pz/wy3lg_ps0fg986p2nzxcqlf00000gp/T/ipykernel_99540/1313790090.py:19: LinAlgWarning: Ill-conditioned matrix (rcond=6.18229e-20): result may not be accurate.\n",
      "  cfs = sl.solve(gbmat, fxgt, assume_a='sym')\n"
     ]
    },
    {
     "name": "stdout",
     "output_type": "stream",
     "text": [
      "Computing 47 of 55\n",
      "Computing 48 of 55\n"
     ]
    },
    {
     "name": "stderr",
     "output_type": "stream",
     "text": [
      "/Users/morty/miniforge3/envs/work0122/lib/python3.9/site-packages/scipy/integrate/_quadrature.py:276: AccuracyWarning: maxiter (500) exceeded. Latest difference = 5.646039e+00\n",
      "  warnings.warn(\n",
      "/var/folders/pz/wy3lg_ps0fg986p2nzxcqlf00000gp/T/ipykernel_99540/1313790090.py:19: LinAlgWarning: Ill-conditioned matrix (rcond=7.74383e-21): result may not be accurate.\n",
      "  cfs = sl.solve(gbmat, fxgt, assume_a='sym')\n",
      "/Users/morty/miniforge3/envs/work0122/lib/python3.9/site-packages/scipy/integrate/_quadrature.py:276: AccuracyWarning: maxiter (500) exceeded. Latest difference = 2.091494e+01\n",
      "  warnings.warn(\n",
      "/var/folders/pz/wy3lg_ps0fg986p2nzxcqlf00000gp/T/ipykernel_99540/1313790090.py:19: LinAlgWarning: Ill-conditioned matrix (rcond=3.19548e-20): result may not be accurate.\n",
      "  cfs = sl.solve(gbmat, fxgt, assume_a='sym')\n"
     ]
    },
    {
     "name": "stdout",
     "output_type": "stream",
     "text": [
      "Computing 49 of 55\n",
      "Computing 50 of 55\n"
     ]
    },
    {
     "name": "stderr",
     "output_type": "stream",
     "text": [
      "/Users/morty/miniforge3/envs/work0122/lib/python3.9/site-packages/scipy/integrate/_quadrature.py:276: AccuracyWarning: maxiter (500) exceeded. Latest difference = 4.393231e+01\n",
      "  warnings.warn(\n",
      "/var/folders/pz/wy3lg_ps0fg986p2nzxcqlf00000gp/T/ipykernel_99540/1313790090.py:19: LinAlgWarning: Ill-conditioned matrix (rcond=1.40646e-20): result may not be accurate.\n",
      "  cfs = sl.solve(gbmat, fxgt, assume_a='sym')\n",
      "/Users/morty/miniforge3/envs/work0122/lib/python3.9/site-packages/scipy/integrate/_quadrature.py:276: AccuracyWarning: maxiter (500) exceeded. Latest difference = 1.106362e+01\n",
      "  warnings.warn(\n",
      "/var/folders/pz/wy3lg_ps0fg986p2nzxcqlf00000gp/T/ipykernel_99540/1313790090.py:19: LinAlgWarning: Ill-conditioned matrix (rcond=9.57324e-22): result may not be accurate.\n",
      "  cfs = sl.solve(gbmat, fxgt, assume_a='sym')\n",
      "/Users/morty/miniforge3/envs/work0122/lib/python3.9/site-packages/scipy/integrate/_quadrature.py:276: AccuracyWarning: maxiter (500) exceeded. Latest difference = 4.409420e+03\n",
      "  warnings.warn(\n",
      "/var/folders/pz/wy3lg_ps0fg986p2nzxcqlf00000gp/T/ipykernel_99540/1313790090.py:19: LinAlgWarning: Ill-conditioned matrix (rcond=5.13453e-20): result may not be accurate.\n",
      "  cfs = sl.solve(gbmat, fxgt, assume_a='sym')\n"
     ]
    },
    {
     "name": "stdout",
     "output_type": "stream",
     "text": [
      "Computing 51 of 55\n",
      "Computing 52 of 55\n",
      "Computing 53 of 55\n"
     ]
    },
    {
     "name": "stderr",
     "output_type": "stream",
     "text": [
      "/Users/morty/miniforge3/envs/work0122/lib/python3.9/site-packages/scipy/integrate/_quadrature.py:276: AccuracyWarning: maxiter (500) exceeded. Latest difference = 3.193459e+02\n",
      "  warnings.warn(\n",
      "/var/folders/pz/wy3lg_ps0fg986p2nzxcqlf00000gp/T/ipykernel_99540/1313790090.py:19: LinAlgWarning: Ill-conditioned matrix (rcond=6.01734e-20): result may not be accurate.\n",
      "  cfs = sl.solve(gbmat, fxgt, assume_a='sym')\n",
      "/Users/morty/miniforge3/envs/work0122/lib/python3.9/site-packages/scipy/integrate/_quadrature.py:276: AccuracyWarning: maxiter (500) exceeded. Latest difference = 1.461434e+02\n",
      "  warnings.warn(\n",
      "/var/folders/pz/wy3lg_ps0fg986p2nzxcqlf00000gp/T/ipykernel_99540/1313790090.py:19: LinAlgWarning: Ill-conditioned matrix (rcond=1.97118e-20): result may not be accurate.\n",
      "  cfs = sl.solve(gbmat, fxgt, assume_a='sym')\n"
     ]
    },
    {
     "name": "stdout",
     "output_type": "stream",
     "text": [
      "Computing 54 of 55\n",
      "Computing 55 of 55\n"
     ]
    },
    {
     "name": "stderr",
     "output_type": "stream",
     "text": [
      "/Users/morty/miniforge3/envs/work0122/lib/python3.9/site-packages/scipy/integrate/_quadrature.py:276: AccuracyWarning: maxiter (500) exceeded. Latest difference = 2.557241e+02\n",
      "  warnings.warn(\n",
      "/Users/morty/miniforge3/envs/work0122/lib/python3.9/site-packages/scipy/integrate/_quadrature.py:276: AccuracyWarning: maxiter (500) exceeded. Latest difference = 4.058576e-04\n",
      "  warnings.warn(\n",
      "/var/folders/pz/wy3lg_ps0fg986p2nzxcqlf00000gp/T/ipykernel_99540/1313790090.py:19: LinAlgWarning: Ill-conditioned matrix (rcond=7.67245e-17): result may not be accurate.\n",
      "  cfs = sl.solve(gbmat, fxgt, assume_a='sym')\n",
      "/Users/morty/miniforge3/envs/work0122/lib/python3.9/site-packages/scipy/integrate/_quadrature.py:276: AccuracyWarning: maxiter (500) exceeded. Latest difference = 4.404976e-01\n",
      "  warnings.warn(\n",
      "/var/folders/pz/wy3lg_ps0fg986p2nzxcqlf00000gp/T/ipykernel_99540/1313790090.py:19: LinAlgWarning: Ill-conditioned matrix (rcond=5.72744e-18): result may not be accurate.\n",
      "  cfs = sl.solve(gbmat, fxgt, assume_a='sym')\n",
      "/Users/morty/miniforge3/envs/work0122/lib/python3.9/site-packages/scipy/integrate/_quadrature.py:276: AccuracyWarning: maxiter (500) exceeded. Latest difference = 7.770710e+00\n",
      "  warnings.warn(\n",
      "/var/folders/pz/wy3lg_ps0fg986p2nzxcqlf00000gp/T/ipykernel_99540/1313790090.py:19: LinAlgWarning: Ill-conditioned matrix (rcond=4.49065e-18): result may not be accurate.\n",
      "  cfs = sl.solve(gbmat, fxgt, assume_a='sym')\n",
      "/Users/morty/miniforge3/envs/work0122/lib/python3.9/site-packages/scipy/integrate/_quadrature.py:276: AccuracyWarning: maxiter (500) exceeded. Latest difference = 3.735215e+00\n",
      "  warnings.warn(\n",
      "/var/folders/pz/wy3lg_ps0fg986p2nzxcqlf00000gp/T/ipykernel_99540/1313790090.py:19: LinAlgWarning: Ill-conditioned matrix (rcond=7.63811e-19): result may not be accurate.\n",
      "  cfs = sl.solve(gbmat, fxgt, assume_a='sym')\n",
      "/Users/morty/miniforge3/envs/work0122/lib/python3.9/site-packages/scipy/integrate/_quadrature.py:276: AccuracyWarning: maxiter (500) exceeded. Latest difference = 5.738774e+00\n",
      "  warnings.warn(\n",
      "/var/folders/pz/wy3lg_ps0fg986p2nzxcqlf00000gp/T/ipykernel_99540/1313790090.py:19: LinAlgWarning: Ill-conditioned matrix (rcond=3.10615e-18): result may not be accurate.\n",
      "  cfs = sl.solve(gbmat, fxgt, assume_a='sym')\n"
     ]
    },
    {
     "name": "stdout",
     "output_type": "stream",
     "text": [
      "Computing 1 of 55\n",
      "Computing 2 of 55\n",
      "Computing 3 of 55\n",
      "Computing 4 of 55\n",
      "Computing 5 of 55\n",
      "Computing 6 of 55\n",
      "Computing 7 of 55\n",
      "Computing 8 of 55\n",
      "Computing 9 of 55\n",
      "Computing 10 of 55\n"
     ]
    },
    {
     "name": "stderr",
     "output_type": "stream",
     "text": [
      "/Users/morty/miniforge3/envs/work0122/lib/python3.9/site-packages/scipy/integrate/_quadrature.py:276: AccuracyWarning: maxiter (500) exceeded. Latest difference = 4.878562e+00\n",
      "  warnings.warn(\n",
      "/var/folders/pz/wy3lg_ps0fg986p2nzxcqlf00000gp/T/ipykernel_99540/1313790090.py:19: LinAlgWarning: Ill-conditioned matrix (rcond=4.57727e-19): result may not be accurate.\n",
      "  cfs = sl.solve(gbmat, fxgt, assume_a='sym')\n",
      "/Users/morty/miniforge3/envs/work0122/lib/python3.9/site-packages/scipy/integrate/_quadrature.py:276: AccuracyWarning: maxiter (500) exceeded. Latest difference = 8.719052e+00\n",
      "  warnings.warn(\n",
      "/var/folders/pz/wy3lg_ps0fg986p2nzxcqlf00000gp/T/ipykernel_99540/1313790090.py:19: LinAlgWarning: Ill-conditioned matrix (rcond=1.34115e-18): result may not be accurate.\n",
      "  cfs = sl.solve(gbmat, fxgt, assume_a='sym')\n",
      "/Users/morty/miniforge3/envs/work0122/lib/python3.9/site-packages/scipy/integrate/_quadrature.py:276: AccuracyWarning: maxiter (500) exceeded. Latest difference = 1.921538e+01\n",
      "  warnings.warn(\n",
      "/var/folders/pz/wy3lg_ps0fg986p2nzxcqlf00000gp/T/ipykernel_99540/1313790090.py:19: LinAlgWarning: Ill-conditioned matrix (rcond=8.02613e-19): result may not be accurate.\n",
      "  cfs = sl.solve(gbmat, fxgt, assume_a='sym')\n",
      "/Users/morty/miniforge3/envs/work0122/lib/python3.9/site-packages/scipy/integrate/_quadrature.py:276: AccuracyWarning: maxiter (500) exceeded. Latest difference = 1.807920e+01\n",
      "  warnings.warn(\n",
      "/var/folders/pz/wy3lg_ps0fg986p2nzxcqlf00000gp/T/ipykernel_99540/1313790090.py:19: LinAlgWarning: Ill-conditioned matrix (rcond=2.0523e-19): result may not be accurate.\n",
      "  cfs = sl.solve(gbmat, fxgt, assume_a='sym')\n",
      "/Users/morty/miniforge3/envs/work0122/lib/python3.9/site-packages/scipy/integrate/_quadrature.py:276: AccuracyWarning: maxiter (500) exceeded. Latest difference = 1.117628e+01\n",
      "  warnings.warn(\n",
      "/var/folders/pz/wy3lg_ps0fg986p2nzxcqlf00000gp/T/ipykernel_99540/1313790090.py:19: LinAlgWarning: Ill-conditioned matrix (rcond=1.87781e-19): result may not be accurate.\n",
      "  cfs = sl.solve(gbmat, fxgt, assume_a='sym')\n"
     ]
    },
    {
     "name": "stdout",
     "output_type": "stream",
     "text": [
      "Computing 11 of 55\n",
      "Computing 12 of 55\n",
      "Computing 13 of 55\n",
      "Computing 14 of 55\n",
      "Computing 15 of 55\n"
     ]
    },
    {
     "name": "stderr",
     "output_type": "stream",
     "text": [
      "/Users/morty/miniforge3/envs/work0122/lib/python3.9/site-packages/scipy/integrate/_quadrature.py:276: AccuracyWarning: maxiter (500) exceeded. Latest difference = 1.207008e+02\n",
      "  warnings.warn(\n",
      "/var/folders/pz/wy3lg_ps0fg986p2nzxcqlf00000gp/T/ipykernel_99540/1313790090.py:19: LinAlgWarning: Ill-conditioned matrix (rcond=1.12427e-19): result may not be accurate.\n",
      "  cfs = sl.solve(gbmat, fxgt, assume_a='sym')\n",
      "/Users/morty/miniforge3/envs/work0122/lib/python3.9/site-packages/scipy/integrate/_quadrature.py:276: AccuracyWarning: maxiter (500) exceeded. Latest difference = 2.651497e+01\n",
      "  warnings.warn(\n",
      "/var/folders/pz/wy3lg_ps0fg986p2nzxcqlf00000gp/T/ipykernel_99540/1313790090.py:19: LinAlgWarning: Ill-conditioned matrix (rcond=7.9634e-19): result may not be accurate.\n",
      "  cfs = sl.solve(gbmat, fxgt, assume_a='sym')\n",
      "/Users/morty/miniforge3/envs/work0122/lib/python3.9/site-packages/scipy/integrate/_quadrature.py:276: AccuracyWarning: maxiter (500) exceeded. Latest difference = 1.393572e+01\n",
      "  warnings.warn(\n",
      "/var/folders/pz/wy3lg_ps0fg986p2nzxcqlf00000gp/T/ipykernel_99540/1313790090.py:19: LinAlgWarning: Ill-conditioned matrix (rcond=2.94312e-19): result may not be accurate.\n",
      "  cfs = sl.solve(gbmat, fxgt, assume_a='sym')\n"
     ]
    },
    {
     "name": "stdout",
     "output_type": "stream",
     "text": [
      "Computing 16 of 55\n",
      "Computing 17 of 55\n",
      "Computing 18 of 55\n"
     ]
    },
    {
     "name": "stderr",
     "output_type": "stream",
     "text": [
      "/Users/morty/miniforge3/envs/work0122/lib/python3.9/site-packages/scipy/integrate/_quadrature.py:276: AccuracyWarning: maxiter (500) exceeded. Latest difference = 2.036703e+01\n",
      "  warnings.warn(\n",
      "/var/folders/pz/wy3lg_ps0fg986p2nzxcqlf00000gp/T/ipykernel_99540/1313790090.py:19: LinAlgWarning: Ill-conditioned matrix (rcond=2.67601e-19): result may not be accurate.\n",
      "  cfs = sl.solve(gbmat, fxgt, assume_a='sym')\n",
      "/Users/morty/miniforge3/envs/work0122/lib/python3.9/site-packages/scipy/integrate/_quadrature.py:276: AccuracyWarning: maxiter (500) exceeded. Latest difference = 1.430794e+01\n",
      "  warnings.warn(\n",
      "/var/folders/pz/wy3lg_ps0fg986p2nzxcqlf00000gp/T/ipykernel_99540/1313790090.py:19: LinAlgWarning: Ill-conditioned matrix (rcond=3.48382e-19): result may not be accurate.\n",
      "  cfs = sl.solve(gbmat, fxgt, assume_a='sym')\n",
      "/Users/morty/miniforge3/envs/work0122/lib/python3.9/site-packages/scipy/integrate/_quadrature.py:276: AccuracyWarning: maxiter (500) exceeded. Latest difference = 3.396020e+01\n",
      "  warnings.warn(\n",
      "/var/folders/pz/wy3lg_ps0fg986p2nzxcqlf00000gp/T/ipykernel_99540/1313790090.py:19: LinAlgWarning: Ill-conditioned matrix (rcond=2.01542e-19): result may not be accurate.\n",
      "  cfs = sl.solve(gbmat, fxgt, assume_a='sym')\n"
     ]
    },
    {
     "name": "stdout",
     "output_type": "stream",
     "text": [
      "Computing 19 of 55\n",
      "Computing 20 of 55\n",
      "Computing 21 of 55\n"
     ]
    },
    {
     "name": "stderr",
     "output_type": "stream",
     "text": [
      "/Users/morty/miniforge3/envs/work0122/lib/python3.9/site-packages/scipy/integrate/_quadrature.py:276: AccuracyWarning: maxiter (500) exceeded. Latest difference = 4.055735e+01\n",
      "  warnings.warn(\n",
      "/var/folders/pz/wy3lg_ps0fg986p2nzxcqlf00000gp/T/ipykernel_99540/1313790090.py:19: LinAlgWarning: Ill-conditioned matrix (rcond=5.0451e-19): result may not be accurate.\n",
      "  cfs = sl.solve(gbmat, fxgt, assume_a='sym')\n",
      "/Users/morty/miniforge3/envs/work0122/lib/python3.9/site-packages/scipy/integrate/_quadrature.py:276: AccuracyWarning: maxiter (500) exceeded. Latest difference = 2.328867e+01\n",
      "  warnings.warn(\n",
      "/var/folders/pz/wy3lg_ps0fg986p2nzxcqlf00000gp/T/ipykernel_99540/1313790090.py:19: LinAlgWarning: Ill-conditioned matrix (rcond=2.61636e-19): result may not be accurate.\n",
      "  cfs = sl.solve(gbmat, fxgt, assume_a='sym')\n",
      "/Users/morty/miniforge3/envs/work0122/lib/python3.9/site-packages/scipy/integrate/_quadrature.py:276: AccuracyWarning: maxiter (500) exceeded. Latest difference = 2.963232e+00\n",
      "  warnings.warn(\n",
      "/var/folders/pz/wy3lg_ps0fg986p2nzxcqlf00000gp/T/ipykernel_99540/1313790090.py:19: LinAlgWarning: Ill-conditioned matrix (rcond=4.08876e-20): result may not be accurate.\n",
      "  cfs = sl.solve(gbmat, fxgt, assume_a='sym')\n"
     ]
    },
    {
     "name": "stdout",
     "output_type": "stream",
     "text": [
      "Computing 22 of 55\n",
      "Computing 23 of 55\n",
      "Computing 24 of 55\n"
     ]
    },
    {
     "name": "stderr",
     "output_type": "stream",
     "text": [
      "/Users/morty/miniforge3/envs/work0122/lib/python3.9/site-packages/scipy/integrate/_quadrature.py:276: AccuracyWarning: maxiter (500) exceeded. Latest difference = 2.455237e+02\n",
      "  warnings.warn(\n",
      "/var/folders/pz/wy3lg_ps0fg986p2nzxcqlf00000gp/T/ipykernel_99540/1313790090.py:19: LinAlgWarning: Ill-conditioned matrix (rcond=2.57998e-19): result may not be accurate.\n",
      "  cfs = sl.solve(gbmat, fxgt, assume_a='sym')\n",
      "/Users/morty/miniforge3/envs/work0122/lib/python3.9/site-packages/scipy/integrate/_quadrature.py:276: AccuracyWarning: maxiter (500) exceeded. Latest difference = 5.412752e+00\n",
      "  warnings.warn(\n",
      "/var/folders/pz/wy3lg_ps0fg986p2nzxcqlf00000gp/T/ipykernel_99540/1313790090.py:19: LinAlgWarning: Ill-conditioned matrix (rcond=1.17061e-19): result may not be accurate.\n",
      "  cfs = sl.solve(gbmat, fxgt, assume_a='sym')\n",
      "/Users/morty/miniforge3/envs/work0122/lib/python3.9/site-packages/scipy/integrate/_quadrature.py:276: AccuracyWarning: maxiter (500) exceeded. Latest difference = 2.863914e+01\n",
      "  warnings.warn(\n",
      "/var/folders/pz/wy3lg_ps0fg986p2nzxcqlf00000gp/T/ipykernel_99540/1313790090.py:19: LinAlgWarning: Ill-conditioned matrix (rcond=1.32574e-19): result may not be accurate.\n",
      "  cfs = sl.solve(gbmat, fxgt, assume_a='sym')\n"
     ]
    },
    {
     "name": "stdout",
     "output_type": "stream",
     "text": [
      "Computing 25 of 55\n",
      "Computing 26 of 55\n",
      "Computing 27 of 55\n"
     ]
    },
    {
     "name": "stderr",
     "output_type": "stream",
     "text": [
      "/Users/morty/miniforge3/envs/work0122/lib/python3.9/site-packages/scipy/integrate/_quadrature.py:276: AccuracyWarning: maxiter (500) exceeded. Latest difference = 5.524966e+02\n",
      "  warnings.warn(\n",
      "/var/folders/pz/wy3lg_ps0fg986p2nzxcqlf00000gp/T/ipykernel_99540/1313790090.py:19: LinAlgWarning: Ill-conditioned matrix (rcond=2.15025e-19): result may not be accurate.\n",
      "  cfs = sl.solve(gbmat, fxgt, assume_a='sym')\n",
      "/Users/morty/miniforge3/envs/work0122/lib/python3.9/site-packages/scipy/integrate/_quadrature.py:276: AccuracyWarning: maxiter (500) exceeded. Latest difference = 3.873199e+01\n",
      "  warnings.warn(\n",
      "/var/folders/pz/wy3lg_ps0fg986p2nzxcqlf00000gp/T/ipykernel_99540/1313790090.py:19: LinAlgWarning: Ill-conditioned matrix (rcond=5.73512e-20): result may not be accurate.\n",
      "  cfs = sl.solve(gbmat, fxgt, assume_a='sym')\n",
      "/Users/morty/miniforge3/envs/work0122/lib/python3.9/site-packages/scipy/integrate/_quadrature.py:276: AccuracyWarning: maxiter (500) exceeded. Latest difference = 2.247785e+01\n",
      "  warnings.warn(\n",
      "/var/folders/pz/wy3lg_ps0fg986p2nzxcqlf00000gp/T/ipykernel_99540/1313790090.py:19: LinAlgWarning: Ill-conditioned matrix (rcond=2.2933e-19): result may not be accurate.\n",
      "  cfs = sl.solve(gbmat, fxgt, assume_a='sym')\n",
      "/Users/morty/miniforge3/envs/work0122/lib/python3.9/site-packages/scipy/integrate/_quadrature.py:276: AccuracyWarning: maxiter (500) exceeded. Latest difference = 4.207758e+00\n",
      "  warnings.warn(\n",
      "/var/folders/pz/wy3lg_ps0fg986p2nzxcqlf00000gp/T/ipykernel_99540/1313790090.py:19: LinAlgWarning: Ill-conditioned matrix (rcond=3.86044e-19): result may not be accurate.\n",
      "  cfs = sl.solve(gbmat, fxgt, assume_a='sym')\n"
     ]
    },
    {
     "name": "stdout",
     "output_type": "stream",
     "text": [
      "Computing 28 of 55\n",
      "Computing 29 of 55\n",
      "Computing 30 of 55\n",
      "Computing 31 of 55\n"
     ]
    },
    {
     "name": "stderr",
     "output_type": "stream",
     "text": [
      "/Users/morty/miniforge3/envs/work0122/lib/python3.9/site-packages/scipy/integrate/_quadrature.py:276: AccuracyWarning: maxiter (500) exceeded. Latest difference = 1.107205e+01\n",
      "  warnings.warn(\n",
      "/var/folders/pz/wy3lg_ps0fg986p2nzxcqlf00000gp/T/ipykernel_99540/1313790090.py:19: LinAlgWarning: Ill-conditioned matrix (rcond=3.61961e-20): result may not be accurate.\n",
      "  cfs = sl.solve(gbmat, fxgt, assume_a='sym')\n",
      "/Users/morty/miniforge3/envs/work0122/lib/python3.9/site-packages/scipy/integrate/_quadrature.py:276: AccuracyWarning: maxiter (500) exceeded. Latest difference = 8.596635e+01\n",
      "  warnings.warn(\n",
      "/var/folders/pz/wy3lg_ps0fg986p2nzxcqlf00000gp/T/ipykernel_99540/1313790090.py:19: LinAlgWarning: Ill-conditioned matrix (rcond=2.21068e-20): result may not be accurate.\n",
      "  cfs = sl.solve(gbmat, fxgt, assume_a='sym')\n",
      "/Users/morty/miniforge3/envs/work0122/lib/python3.9/site-packages/scipy/integrate/_quadrature.py:276: AccuracyWarning: maxiter (500) exceeded. Latest difference = 4.322380e+03\n",
      "  warnings.warn(\n",
      "/var/folders/pz/wy3lg_ps0fg986p2nzxcqlf00000gp/T/ipykernel_99540/1313790090.py:19: LinAlgWarning: Ill-conditioned matrix (rcond=5.40896e-20): result may not be accurate.\n",
      "  cfs = sl.solve(gbmat, fxgt, assume_a='sym')\n"
     ]
    },
    {
     "name": "stdout",
     "output_type": "stream",
     "text": [
      "Computing 32 of 55\n",
      "Computing 33 of 55\n",
      "Computing 34 of 55\n"
     ]
    },
    {
     "name": "stderr",
     "output_type": "stream",
     "text": [
      "/Users/morty/miniforge3/envs/work0122/lib/python3.9/site-packages/scipy/integrate/_quadrature.py:276: AccuracyWarning: maxiter (500) exceeded. Latest difference = 3.377075e+01\n",
      "  warnings.warn(\n",
      "/var/folders/pz/wy3lg_ps0fg986p2nzxcqlf00000gp/T/ipykernel_99540/1313790090.py:19: LinAlgWarning: Ill-conditioned matrix (rcond=1.69045e-20): result may not be accurate.\n",
      "  cfs = sl.solve(gbmat, fxgt, assume_a='sym')\n",
      "/Users/morty/miniforge3/envs/work0122/lib/python3.9/site-packages/scipy/integrate/_quadrature.py:276: AccuracyWarning: maxiter (500) exceeded. Latest difference = 1.507208e+02\n",
      "  warnings.warn(\n",
      "/var/folders/pz/wy3lg_ps0fg986p2nzxcqlf00000gp/T/ipykernel_99540/1313790090.py:19: LinAlgWarning: Ill-conditioned matrix (rcond=1.31139e-19): result may not be accurate.\n",
      "  cfs = sl.solve(gbmat, fxgt, assume_a='sym')\n",
      "/Users/morty/miniforge3/envs/work0122/lib/python3.9/site-packages/scipy/integrate/_quadrature.py:276: AccuracyWarning: maxiter (500) exceeded. Latest difference = 4.725377e+00\n",
      "  warnings.warn(\n",
      "/var/folders/pz/wy3lg_ps0fg986p2nzxcqlf00000gp/T/ipykernel_99540/1313790090.py:19: LinAlgWarning: Ill-conditioned matrix (rcond=2.73238e-19): result may not be accurate.\n",
      "  cfs = sl.solve(gbmat, fxgt, assume_a='sym')\n"
     ]
    },
    {
     "name": "stdout",
     "output_type": "stream",
     "text": [
      "Computing 35 of 55\n",
      "Computing 36 of 55\n",
      "Computing 37 of 55\n"
     ]
    },
    {
     "name": "stderr",
     "output_type": "stream",
     "text": [
      "/Users/morty/miniforge3/envs/work0122/lib/python3.9/site-packages/scipy/integrate/_quadrature.py:276: AccuracyWarning: maxiter (500) exceeded. Latest difference = 1.181599e+01\n",
      "  warnings.warn(\n",
      "/var/folders/pz/wy3lg_ps0fg986p2nzxcqlf00000gp/T/ipykernel_99540/1313790090.py:19: LinAlgWarning: Ill-conditioned matrix (rcond=1.9259e-19): result may not be accurate.\n",
      "  cfs = sl.solve(gbmat, fxgt, assume_a='sym')\n",
      "/Users/morty/miniforge3/envs/work0122/lib/python3.9/site-packages/scipy/integrate/_quadrature.py:276: AccuracyWarning: maxiter (500) exceeded. Latest difference = 5.391709e+00\n",
      "  warnings.warn(\n",
      "/var/folders/pz/wy3lg_ps0fg986p2nzxcqlf00000gp/T/ipykernel_99540/1313790090.py:19: LinAlgWarning: Ill-conditioned matrix (rcond=8.67783e-20): result may not be accurate.\n",
      "  cfs = sl.solve(gbmat, fxgt, assume_a='sym')\n",
      "/Users/morty/miniforge3/envs/work0122/lib/python3.9/site-packages/scipy/integrate/_quadrature.py:276: AccuracyWarning: maxiter (500) exceeded. Latest difference = 4.290714e+01\n",
      "  warnings.warn(\n",
      "/var/folders/pz/wy3lg_ps0fg986p2nzxcqlf00000gp/T/ipykernel_99540/1313790090.py:19: LinAlgWarning: Ill-conditioned matrix (rcond=5.24775e-20): result may not be accurate.\n",
      "  cfs = sl.solve(gbmat, fxgt, assume_a='sym')\n"
     ]
    },
    {
     "name": "stdout",
     "output_type": "stream",
     "text": [
      "Computing 38 of 55\n",
      "Computing 39 of 55\n",
      "Computing 40 of 55\n"
     ]
    },
    {
     "name": "stderr",
     "output_type": "stream",
     "text": [
      "/Users/morty/miniforge3/envs/work0122/lib/python3.9/site-packages/scipy/integrate/_quadrature.py:276: AccuracyWarning: maxiter (500) exceeded. Latest difference = 6.274261e+00\n",
      "  warnings.warn(\n",
      "/var/folders/pz/wy3lg_ps0fg986p2nzxcqlf00000gp/T/ipykernel_99540/1313790090.py:19: LinAlgWarning: Ill-conditioned matrix (rcond=8.33483e-20): result may not be accurate.\n",
      "  cfs = sl.solve(gbmat, fxgt, assume_a='sym')\n",
      "/Users/morty/miniforge3/envs/work0122/lib/python3.9/site-packages/scipy/integrate/_quadrature.py:276: AccuracyWarning: maxiter (500) exceeded. Latest difference = 2.935637e+01\n",
      "  warnings.warn(\n",
      "/var/folders/pz/wy3lg_ps0fg986p2nzxcqlf00000gp/T/ipykernel_99540/1313790090.py:19: LinAlgWarning: Ill-conditioned matrix (rcond=1.46389e-19): result may not be accurate.\n",
      "  cfs = sl.solve(gbmat, fxgt, assume_a='sym')\n",
      "/Users/morty/miniforge3/envs/work0122/lib/python3.9/site-packages/scipy/integrate/_quadrature.py:276: AccuracyWarning: maxiter (500) exceeded. Latest difference = 8.232992e+01\n",
      "  warnings.warn(\n",
      "/var/folders/pz/wy3lg_ps0fg986p2nzxcqlf00000gp/T/ipykernel_99540/1313790090.py:19: LinAlgWarning: Ill-conditioned matrix (rcond=1.36193e-19): result may not be accurate.\n",
      "  cfs = sl.solve(gbmat, fxgt, assume_a='sym')\n"
     ]
    },
    {
     "name": "stdout",
     "output_type": "stream",
     "text": [
      "Computing 41 of 55\n",
      "Computing 42 of 55\n",
      "Computing 43 of 55\n"
     ]
    },
    {
     "name": "stderr",
     "output_type": "stream",
     "text": [
      "/Users/morty/miniforge3/envs/work0122/lib/python3.9/site-packages/scipy/integrate/_quadrature.py:276: AccuracyWarning: maxiter (500) exceeded. Latest difference = 3.220558e+01\n",
      "  warnings.warn(\n",
      "/var/folders/pz/wy3lg_ps0fg986p2nzxcqlf00000gp/T/ipykernel_99540/1313790090.py:19: LinAlgWarning: Ill-conditioned matrix (rcond=1.10497e-19): result may not be accurate.\n",
      "  cfs = sl.solve(gbmat, fxgt, assume_a='sym')\n",
      "/Users/morty/miniforge3/envs/work0122/lib/python3.9/site-packages/scipy/integrate/_quadrature.py:276: AccuracyWarning: maxiter (500) exceeded. Latest difference = 1.183105e+02\n",
      "  warnings.warn(\n",
      "/var/folders/pz/wy3lg_ps0fg986p2nzxcqlf00000gp/T/ipykernel_99540/1313790090.py:19: LinAlgWarning: Ill-conditioned matrix (rcond=2.47602e-19): result may not be accurate.\n",
      "  cfs = sl.solve(gbmat, fxgt, assume_a='sym')\n",
      "/Users/morty/miniforge3/envs/work0122/lib/python3.9/site-packages/scipy/integrate/_quadrature.py:276: AccuracyWarning: maxiter (500) exceeded. Latest difference = 8.497686e+00\n",
      "  warnings.warn(\n",
      "/var/folders/pz/wy3lg_ps0fg986p2nzxcqlf00000gp/T/ipykernel_99540/1313790090.py:19: LinAlgWarning: Ill-conditioned matrix (rcond=1.41155e-19): result may not be accurate.\n",
      "  cfs = sl.solve(gbmat, fxgt, assume_a='sym')\n"
     ]
    },
    {
     "name": "stdout",
     "output_type": "stream",
     "text": [
      "Computing 44 of 55\n",
      "Computing 45 of 55\n",
      "Computing 46 of 55\n"
     ]
    },
    {
     "name": "stderr",
     "output_type": "stream",
     "text": [
      "/Users/morty/miniforge3/envs/work0122/lib/python3.9/site-packages/scipy/integrate/_quadrature.py:276: AccuracyWarning: maxiter (500) exceeded. Latest difference = 3.055019e+01\n",
      "  warnings.warn(\n",
      "/var/folders/pz/wy3lg_ps0fg986p2nzxcqlf00000gp/T/ipykernel_99540/1313790090.py:19: LinAlgWarning: Ill-conditioned matrix (rcond=1.58475e-19): result may not be accurate.\n",
      "  cfs = sl.solve(gbmat, fxgt, assume_a='sym')\n",
      "/Users/morty/miniforge3/envs/work0122/lib/python3.9/site-packages/scipy/integrate/_quadrature.py:276: AccuracyWarning: maxiter (500) exceeded. Latest difference = 1.555881e+01\n",
      "  warnings.warn(\n",
      "/var/folders/pz/wy3lg_ps0fg986p2nzxcqlf00000gp/T/ipykernel_99540/1313790090.py:19: LinAlgWarning: Ill-conditioned matrix (rcond=1.09376e-19): result may not be accurate.\n",
      "  cfs = sl.solve(gbmat, fxgt, assume_a='sym')\n",
      "/Users/morty/miniforge3/envs/work0122/lib/python3.9/site-packages/scipy/integrate/_quadrature.py:276: AccuracyWarning: maxiter (500) exceeded. Latest difference = 2.135585e+01\n",
      "  warnings.warn(\n",
      "/var/folders/pz/wy3lg_ps0fg986p2nzxcqlf00000gp/T/ipykernel_99540/1313790090.py:19: LinAlgWarning: Ill-conditioned matrix (rcond=1.16235e-19): result may not be accurate.\n",
      "  cfs = sl.solve(gbmat, fxgt, assume_a='sym')\n"
     ]
    },
    {
     "name": "stdout",
     "output_type": "stream",
     "text": [
      "Computing 47 of 55\n",
      "Computing 48 of 55\n",
      "Computing 49 of 55\n"
     ]
    },
    {
     "name": "stderr",
     "output_type": "stream",
     "text": [
      "/Users/morty/miniforge3/envs/work0122/lib/python3.9/site-packages/scipy/integrate/_quadrature.py:276: AccuracyWarning: maxiter (500) exceeded. Latest difference = 9.191046e+00\n",
      "  warnings.warn(\n",
      "/var/folders/pz/wy3lg_ps0fg986p2nzxcqlf00000gp/T/ipykernel_99540/1313790090.py:19: LinAlgWarning: Ill-conditioned matrix (rcond=1.93986e-19): result may not be accurate.\n",
      "  cfs = sl.solve(gbmat, fxgt, assume_a='sym')\n",
      "/Users/morty/miniforge3/envs/work0122/lib/python3.9/site-packages/scipy/integrate/_quadrature.py:276: AccuracyWarning: maxiter (500) exceeded. Latest difference = 2.530866e+01\n",
      "  warnings.warn(\n",
      "/var/folders/pz/wy3lg_ps0fg986p2nzxcqlf00000gp/T/ipykernel_99540/1313790090.py:19: LinAlgWarning: Ill-conditioned matrix (rcond=6.29307e-20): result may not be accurate.\n",
      "  cfs = sl.solve(gbmat, fxgt, assume_a='sym')\n",
      "/Users/morty/miniforge3/envs/work0122/lib/python3.9/site-packages/scipy/integrate/_quadrature.py:276: AccuracyWarning: maxiter (500) exceeded. Latest difference = 3.011758e+01\n",
      "  warnings.warn(\n",
      "/var/folders/pz/wy3lg_ps0fg986p2nzxcqlf00000gp/T/ipykernel_99540/1313790090.py:19: LinAlgWarning: Ill-conditioned matrix (rcond=2.74805e-20): result may not be accurate.\n",
      "  cfs = sl.solve(gbmat, fxgt, assume_a='sym')\n"
     ]
    },
    {
     "name": "stdout",
     "output_type": "stream",
     "text": [
      "Computing 50 of 55\n",
      "Computing 51 of 55\n",
      "Computing 52 of 55\n"
     ]
    },
    {
     "name": "stderr",
     "output_type": "stream",
     "text": [
      "/Users/morty/miniforge3/envs/work0122/lib/python3.9/site-packages/scipy/integrate/_quadrature.py:276: AccuracyWarning: maxiter (500) exceeded. Latest difference = 4.396214e+01\n",
      "  warnings.warn(\n",
      "/var/folders/pz/wy3lg_ps0fg986p2nzxcqlf00000gp/T/ipykernel_99540/1313790090.py:19: LinAlgWarning: Ill-conditioned matrix (rcond=5.61415e-20): result may not be accurate.\n",
      "  cfs = sl.solve(gbmat, fxgt, assume_a='sym')\n",
      "/Users/morty/miniforge3/envs/work0122/lib/python3.9/site-packages/scipy/integrate/_quadrature.py:276: AccuracyWarning: maxiter (500) exceeded. Latest difference = 1.531765e+01\n",
      "  warnings.warn(\n",
      "/var/folders/pz/wy3lg_ps0fg986p2nzxcqlf00000gp/T/ipykernel_99540/1313790090.py:19: LinAlgWarning: Ill-conditioned matrix (rcond=4.2746e-20): result may not be accurate.\n",
      "  cfs = sl.solve(gbmat, fxgt, assume_a='sym')\n",
      "/Users/morty/miniforge3/envs/work0122/lib/python3.9/site-packages/scipy/integrate/_quadrature.py:276: AccuracyWarning: maxiter (500) exceeded. Latest difference = 1.533800e+02\n",
      "  warnings.warn(\n",
      "/var/folders/pz/wy3lg_ps0fg986p2nzxcqlf00000gp/T/ipykernel_99540/1313790090.py:19: LinAlgWarning: Ill-conditioned matrix (rcond=5.80654e-20): result may not be accurate.\n",
      "  cfs = sl.solve(gbmat, fxgt, assume_a='sym')\n"
     ]
    },
    {
     "name": "stdout",
     "output_type": "stream",
     "text": [
      "Computing 53 of 55\n",
      "Computing 54 of 55\n",
      "Computing 55 of 55\n"
     ]
    },
    {
     "name": "stderr",
     "output_type": "stream",
     "text": [
      "/Users/morty/miniforge3/envs/work0122/lib/python3.9/site-packages/scipy/integrate/_quadrature.py:276: AccuracyWarning: maxiter (500) exceeded. Latest difference = 1.187242e+01\n",
      "  warnings.warn(\n",
      "/var/folders/pz/wy3lg_ps0fg986p2nzxcqlf00000gp/T/ipykernel_99540/1313790090.py:19: LinAlgWarning: Ill-conditioned matrix (rcond=9.86694e-18): result may not be accurate.\n",
      "  cfs = sl.solve(gbmat, fxgt, assume_a='sym')\n",
      "/Users/morty/miniforge3/envs/work0122/lib/python3.9/site-packages/scipy/integrate/_quadrature.py:276: AccuracyWarning: maxiter (500) exceeded. Latest difference = 4.677419e-06\n",
      "  warnings.warn(\n",
      "/var/folders/pz/wy3lg_ps0fg986p2nzxcqlf00000gp/T/ipykernel_99540/1313790090.py:19: LinAlgWarning: Ill-conditioned matrix (rcond=9.29418e-18): result may not be accurate.\n",
      "  cfs = sl.solve(gbmat, fxgt, assume_a='sym')\n"
     ]
    },
    {
     "name": "stdout",
     "output_type": "stream",
     "text": [
      "Computing 1 of 55\n",
      "Computing 2 of 55\n",
      "Computing 3 of 55\n",
      "Computing 4 of 55\n",
      "Computing 5 of 55\n",
      "Computing 6 of 55\n",
      "Computing 7 of 55\n",
      "Computing 8 of 55\n",
      "Computing 9 of 55\n",
      "Computing 10 of 55\n",
      "Computing 11 of 55\n",
      "Computing 12 of 55\n",
      "Computing 13 of 55\n",
      "Computing 14 of 55\n",
      "Computing 15 of 55\n",
      "Computing 16 of 55\n",
      "Computing 17 of 55\n",
      "Computing 18 of 55\n",
      "Computing 19 of 55\n",
      "Computing 20 of 55\n",
      "Computing 21 of 55\n",
      "Computing 22 of 55\n",
      "Computing 23 of 55\n"
     ]
    },
    {
     "name": "stderr",
     "output_type": "stream",
     "text": [
      "/Users/morty/miniforge3/envs/work0122/lib/python3.9/site-packages/scipy/integrate/_quadrature.py:276: AccuracyWarning: maxiter (500) exceeded. Latest difference = 1.926401e-05\n",
      "  warnings.warn(\n",
      "/var/folders/pz/wy3lg_ps0fg986p2nzxcqlf00000gp/T/ipykernel_99540/1313790090.py:19: LinAlgWarning: Ill-conditioned matrix (rcond=9.15083e-18): result may not be accurate.\n",
      "  cfs = sl.solve(gbmat, fxgt, assume_a='sym')\n",
      "/Users/morty/miniforge3/envs/work0122/lib/python3.9/site-packages/scipy/integrate/_quadrature.py:276: AccuracyWarning: maxiter (500) exceeded. Latest difference = 4.531913e-05\n",
      "  warnings.warn(\n",
      "/var/folders/pz/wy3lg_ps0fg986p2nzxcqlf00000gp/T/ipykernel_99540/1313790090.py:19: LinAlgWarning: Ill-conditioned matrix (rcond=7.01365e-19): result may not be accurate.\n",
      "  cfs = sl.solve(gbmat, fxgt, assume_a='sym')\n",
      "/Users/morty/miniforge3/envs/work0122/lib/python3.9/site-packages/scipy/integrate/_quadrature.py:276: AccuracyWarning: maxiter (500) exceeded. Latest difference = 5.866275e-05\n",
      "  warnings.warn(\n",
      "/var/folders/pz/wy3lg_ps0fg986p2nzxcqlf00000gp/T/ipykernel_99540/1313790090.py:19: LinAlgWarning: Ill-conditioned matrix (rcond=2.40023e-18): result may not be accurate.\n",
      "  cfs = sl.solve(gbmat, fxgt, assume_a='sym')\n",
      "/var/folders/pz/wy3lg_ps0fg986p2nzxcqlf00000gp/T/ipykernel_99540/1313790090.py:19: LinAlgWarning: Ill-conditioned matrix (rcond=2.09396e-18): result may not be accurate.\n",
      "  cfs = sl.solve(gbmat, fxgt, assume_a='sym')\n"
     ]
    },
    {
     "name": "stdout",
     "output_type": "stream",
     "text": [
      "Computing 24 of 55\n",
      "Computing 25 of 55\n",
      "Computing 26 of 55\n",
      "Computing 27 of 55\n"
     ]
    },
    {
     "name": "stderr",
     "output_type": "stream",
     "text": [
      "/Users/morty/miniforge3/envs/work0122/lib/python3.9/site-packages/scipy/integrate/_quadrature.py:276: AccuracyWarning: maxiter (500) exceeded. Latest difference = 4.011423e-05\n",
      "  warnings.warn(\n",
      "/var/folders/pz/wy3lg_ps0fg986p2nzxcqlf00000gp/T/ipykernel_99540/1313790090.py:19: LinAlgWarning: Ill-conditioned matrix (rcond=1.17113e-18): result may not be accurate.\n",
      "  cfs = sl.solve(gbmat, fxgt, assume_a='sym')\n",
      "/var/folders/pz/wy3lg_ps0fg986p2nzxcqlf00000gp/T/ipykernel_99540/1313790090.py:19: LinAlgWarning: Ill-conditioned matrix (rcond=6.95477e-19): result may not be accurate.\n",
      "  cfs = sl.solve(gbmat, fxgt, assume_a='sym')\n",
      "/Users/morty/miniforge3/envs/work0122/lib/python3.9/site-packages/scipy/integrate/_quadrature.py:276: AccuracyWarning: maxiter (500) exceeded. Latest difference = 2.101511e-04\n",
      "  warnings.warn(\n",
      "/var/folders/pz/wy3lg_ps0fg986p2nzxcqlf00000gp/T/ipykernel_99540/1313790090.py:19: LinAlgWarning: Ill-conditioned matrix (rcond=1.93478e-19): result may not be accurate.\n",
      "  cfs = sl.solve(gbmat, fxgt, assume_a='sym')\n"
     ]
    },
    {
     "name": "stdout",
     "output_type": "stream",
     "text": [
      "Computing 28 of 55\n",
      "Computing 29 of 55\n",
      "Computing 30 of 55\n"
     ]
    },
    {
     "name": "stderr",
     "output_type": "stream",
     "text": [
      "/Users/morty/miniforge3/envs/work0122/lib/python3.9/site-packages/scipy/integrate/_quadrature.py:276: AccuracyWarning: maxiter (500) exceeded. Latest difference = 6.503758e-03\n",
      "  warnings.warn(\n",
      "/var/folders/pz/wy3lg_ps0fg986p2nzxcqlf00000gp/T/ipykernel_99540/1313790090.py:19: LinAlgWarning: Ill-conditioned matrix (rcond=4.23608e-19): result may not be accurate.\n",
      "  cfs = sl.solve(gbmat, fxgt, assume_a='sym')\n",
      "/Users/morty/miniforge3/envs/work0122/lib/python3.9/site-packages/scipy/integrate/_quadrature.py:276: AccuracyWarning: maxiter (500) exceeded. Latest difference = 1.079313e-04\n",
      "  warnings.warn(\n",
      "/var/folders/pz/wy3lg_ps0fg986p2nzxcqlf00000gp/T/ipykernel_99540/1313790090.py:19: LinAlgWarning: Ill-conditioned matrix (rcond=3.79732e-19): result may not be accurate.\n",
      "  cfs = sl.solve(gbmat, fxgt, assume_a='sym')\n",
      "/Users/morty/miniforge3/envs/work0122/lib/python3.9/site-packages/scipy/integrate/_quadrature.py:276: AccuracyWarning: maxiter (500) exceeded. Latest difference = 7.492280e-04\n",
      "  warnings.warn(\n",
      "/var/folders/pz/wy3lg_ps0fg986p2nzxcqlf00000gp/T/ipykernel_99540/1313790090.py:19: LinAlgWarning: Ill-conditioned matrix (rcond=5.11206e-19): result may not be accurate.\n",
      "  cfs = sl.solve(gbmat, fxgt, assume_a='sym')\n"
     ]
    },
    {
     "name": "stdout",
     "output_type": "stream",
     "text": [
      "Computing 31 of 55\n",
      "Computing 32 of 55\n",
      "Computing 33 of 55\n"
     ]
    },
    {
     "name": "stderr",
     "output_type": "stream",
     "text": [
      "/Users/morty/miniforge3/envs/work0122/lib/python3.9/site-packages/scipy/integrate/_quadrature.py:276: AccuracyWarning: maxiter (500) exceeded. Latest difference = 3.365901e-04\n",
      "  warnings.warn(\n",
      "/var/folders/pz/wy3lg_ps0fg986p2nzxcqlf00000gp/T/ipykernel_99540/1313790090.py:19: LinAlgWarning: Ill-conditioned matrix (rcond=1.68635e-19): result may not be accurate.\n",
      "  cfs = sl.solve(gbmat, fxgt, assume_a='sym')\n",
      "/Users/morty/miniforge3/envs/work0122/lib/python3.9/site-packages/scipy/integrate/_quadrature.py:276: AccuracyWarning: maxiter (500) exceeded. Latest difference = 7.525203e-05\n",
      "  warnings.warn(\n",
      "/var/folders/pz/wy3lg_ps0fg986p2nzxcqlf00000gp/T/ipykernel_99540/1313790090.py:19: LinAlgWarning: Ill-conditioned matrix (rcond=4.76399e-19): result may not be accurate.\n",
      "  cfs = sl.solve(gbmat, fxgt, assume_a='sym')\n",
      "/Users/morty/miniforge3/envs/work0122/lib/python3.9/site-packages/scipy/integrate/_quadrature.py:276: AccuracyWarning: maxiter (500) exceeded. Latest difference = 5.012374e-04\n",
      "  warnings.warn(\n",
      "/var/folders/pz/wy3lg_ps0fg986p2nzxcqlf00000gp/T/ipykernel_99540/1313790090.py:19: LinAlgWarning: Ill-conditioned matrix (rcond=1.26849e-18): result may not be accurate.\n",
      "  cfs = sl.solve(gbmat, fxgt, assume_a='sym')\n"
     ]
    },
    {
     "name": "stdout",
     "output_type": "stream",
     "text": [
      "Computing 34 of 55\n",
      "Computing 35 of 55\n",
      "Computing 36 of 55\n"
     ]
    },
    {
     "name": "stderr",
     "output_type": "stream",
     "text": [
      "/Users/morty/miniforge3/envs/work0122/lib/python3.9/site-packages/scipy/integrate/_quadrature.py:276: AccuracyWarning: maxiter (500) exceeded. Latest difference = 3.974464e-04\n",
      "  warnings.warn(\n",
      "/var/folders/pz/wy3lg_ps0fg986p2nzxcqlf00000gp/T/ipykernel_99540/1313790090.py:19: LinAlgWarning: Ill-conditioned matrix (rcond=3.24927e-19): result may not be accurate.\n",
      "  cfs = sl.solve(gbmat, fxgt, assume_a='sym')\n",
      "/Users/morty/miniforge3/envs/work0122/lib/python3.9/site-packages/scipy/integrate/_quadrature.py:276: AccuracyWarning: maxiter (500) exceeded. Latest difference = 3.387749e-04\n",
      "  warnings.warn(\n",
      "/var/folders/pz/wy3lg_ps0fg986p2nzxcqlf00000gp/T/ipykernel_99540/1313790090.py:19: LinAlgWarning: Ill-conditioned matrix (rcond=6.62944e-19): result may not be accurate.\n",
      "  cfs = sl.solve(gbmat, fxgt, assume_a='sym')\n",
      "/Users/morty/miniforge3/envs/work0122/lib/python3.9/site-packages/scipy/integrate/_quadrature.py:276: AccuracyWarning: maxiter (500) exceeded. Latest difference = 4.067522e-04\n",
      "  warnings.warn(\n",
      "/var/folders/pz/wy3lg_ps0fg986p2nzxcqlf00000gp/T/ipykernel_99540/1313790090.py:19: LinAlgWarning: Ill-conditioned matrix (rcond=9.46071e-19): result may not be accurate.\n",
      "  cfs = sl.solve(gbmat, fxgt, assume_a='sym')\n"
     ]
    },
    {
     "name": "stdout",
     "output_type": "stream",
     "text": [
      "Computing 37 of 55\n",
      "Computing 38 of 55\n",
      "Computing 39 of 55\n"
     ]
    },
    {
     "name": "stderr",
     "output_type": "stream",
     "text": [
      "/Users/morty/miniforge3/envs/work0122/lib/python3.9/site-packages/scipy/integrate/_quadrature.py:276: AccuracyWarning: maxiter (500) exceeded. Latest difference = 5.320614e-04\n",
      "  warnings.warn(\n",
      "/var/folders/pz/wy3lg_ps0fg986p2nzxcqlf00000gp/T/ipykernel_99540/1313790090.py:19: LinAlgWarning: Ill-conditioned matrix (rcond=2.44735e-19): result may not be accurate.\n",
      "  cfs = sl.solve(gbmat, fxgt, assume_a='sym')\n",
      "/Users/morty/miniforge3/envs/work0122/lib/python3.9/site-packages/scipy/integrate/_quadrature.py:276: AccuracyWarning: maxiter (500) exceeded. Latest difference = 2.035972e-04\n",
      "  warnings.warn(\n",
      "/var/folders/pz/wy3lg_ps0fg986p2nzxcqlf00000gp/T/ipykernel_99540/1313790090.py:19: LinAlgWarning: Ill-conditioned matrix (rcond=5.53136e-20): result may not be accurate.\n",
      "  cfs = sl.solve(gbmat, fxgt, assume_a='sym')\n",
      "/Users/morty/miniforge3/envs/work0122/lib/python3.9/site-packages/scipy/integrate/_quadrature.py:276: AccuracyWarning: maxiter (500) exceeded. Latest difference = 1.998488e-04\n",
      "  warnings.warn(\n",
      "/var/folders/pz/wy3lg_ps0fg986p2nzxcqlf00000gp/T/ipykernel_99540/1313790090.py:19: LinAlgWarning: Ill-conditioned matrix (rcond=2.87596e-19): result may not be accurate.\n",
      "  cfs = sl.solve(gbmat, fxgt, assume_a='sym')\n"
     ]
    },
    {
     "name": "stdout",
     "output_type": "stream",
     "text": [
      "Computing 40 of 55\n",
      "Computing 41 of 55\n",
      "Computing 42 of 55\n"
     ]
    },
    {
     "name": "stderr",
     "output_type": "stream",
     "text": [
      "/Users/morty/miniforge3/envs/work0122/lib/python3.9/site-packages/scipy/integrate/_quadrature.py:276: AccuracyWarning: maxiter (500) exceeded. Latest difference = 1.560534e-05\n",
      "  warnings.warn(\n",
      "/var/folders/pz/wy3lg_ps0fg986p2nzxcqlf00000gp/T/ipykernel_99540/1313790090.py:19: LinAlgWarning: Ill-conditioned matrix (rcond=8.08328e-19): result may not be accurate.\n",
      "  cfs = sl.solve(gbmat, fxgt, assume_a='sym')\n",
      "/Users/morty/miniforge3/envs/work0122/lib/python3.9/site-packages/scipy/integrate/_quadrature.py:276: AccuracyWarning: maxiter (500) exceeded. Latest difference = 9.249516e-06\n",
      "  warnings.warn(\n",
      "/var/folders/pz/wy3lg_ps0fg986p2nzxcqlf00000gp/T/ipykernel_99540/1313790090.py:19: LinAlgWarning: Ill-conditioned matrix (rcond=1.70784e-19): result may not be accurate.\n",
      "  cfs = sl.solve(gbmat, fxgt, assume_a='sym')\n",
      "/Users/morty/miniforge3/envs/work0122/lib/python3.9/site-packages/scipy/integrate/_quadrature.py:276: AccuracyWarning: maxiter (500) exceeded. Latest difference = 2.138002e-03\n",
      "  warnings.warn(\n",
      "/var/folders/pz/wy3lg_ps0fg986p2nzxcqlf00000gp/T/ipykernel_99540/1313790090.py:19: LinAlgWarning: Ill-conditioned matrix (rcond=4.38636e-20): result may not be accurate.\n",
      "  cfs = sl.solve(gbmat, fxgt, assume_a='sym')\n"
     ]
    },
    {
     "name": "stdout",
     "output_type": "stream",
     "text": [
      "Computing 43 of 55\n",
      "Computing 44 of 55\n",
      "Computing 45 of 55\n"
     ]
    },
    {
     "name": "stderr",
     "output_type": "stream",
     "text": [
      "/Users/morty/miniforge3/envs/work0122/lib/python3.9/site-packages/scipy/integrate/_quadrature.py:276: AccuracyWarning: maxiter (500) exceeded. Latest difference = 3.710140e-03\n",
      "  warnings.warn(\n",
      "/var/folders/pz/wy3lg_ps0fg986p2nzxcqlf00000gp/T/ipykernel_99540/1313790090.py:19: LinAlgWarning: Ill-conditioned matrix (rcond=4.43501e-19): result may not be accurate.\n",
      "  cfs = sl.solve(gbmat, fxgt, assume_a='sym')\n",
      "/Users/morty/miniforge3/envs/work0122/lib/python3.9/site-packages/scipy/integrate/_quadrature.py:276: AccuracyWarning: maxiter (500) exceeded. Latest difference = 5.247500e-05\n",
      "  warnings.warn(\n",
      "/var/folders/pz/wy3lg_ps0fg986p2nzxcqlf00000gp/T/ipykernel_99540/1313790090.py:19: LinAlgWarning: Ill-conditioned matrix (rcond=8.81267e-20): result may not be accurate.\n",
      "  cfs = sl.solve(gbmat, fxgt, assume_a='sym')\n",
      "/Users/morty/miniforge3/envs/work0122/lib/python3.9/site-packages/scipy/integrate/_quadrature.py:276: AccuracyWarning: maxiter (500) exceeded. Latest difference = 5.221681e-03\n",
      "  warnings.warn(\n",
      "/var/folders/pz/wy3lg_ps0fg986p2nzxcqlf00000gp/T/ipykernel_99540/1313790090.py:19: LinAlgWarning: Ill-conditioned matrix (rcond=7.69066e-20): result may not be accurate.\n",
      "  cfs = sl.solve(gbmat, fxgt, assume_a='sym')\n"
     ]
    },
    {
     "name": "stdout",
     "output_type": "stream",
     "text": [
      "Computing 46 of 55\n",
      "Computing 47 of 55\n",
      "Computing 48 of 55\n"
     ]
    },
    {
     "name": "stderr",
     "output_type": "stream",
     "text": [
      "/Users/morty/miniforge3/envs/work0122/lib/python3.9/site-packages/scipy/integrate/_quadrature.py:276: AccuracyWarning: maxiter (500) exceeded. Latest difference = 8.898795e-03\n",
      "  warnings.warn(\n",
      "/var/folders/pz/wy3lg_ps0fg986p2nzxcqlf00000gp/T/ipykernel_99540/1313790090.py:19: LinAlgWarning: Ill-conditioned matrix (rcond=1.12237e-19): result may not be accurate.\n",
      "  cfs = sl.solve(gbmat, fxgt, assume_a='sym')\n",
      "/Users/morty/miniforge3/envs/work0122/lib/python3.9/site-packages/scipy/integrate/_quadrature.py:276: AccuracyWarning: maxiter (500) exceeded. Latest difference = 2.877422e-03\n",
      "  warnings.warn(\n",
      "/var/folders/pz/wy3lg_ps0fg986p2nzxcqlf00000gp/T/ipykernel_99540/1313790090.py:19: LinAlgWarning: Ill-conditioned matrix (rcond=3.3633e-19): result may not be accurate.\n",
      "  cfs = sl.solve(gbmat, fxgt, assume_a='sym')\n"
     ]
    },
    {
     "name": "stdout",
     "output_type": "stream",
     "text": [
      "Computing 49 of 55\n",
      "Computing 50 of 55\n"
     ]
    },
    {
     "name": "stderr",
     "output_type": "stream",
     "text": [
      "/Users/morty/miniforge3/envs/work0122/lib/python3.9/site-packages/scipy/integrate/_quadrature.py:276: AccuracyWarning: maxiter (500) exceeded. Latest difference = 1.291302e-04\n",
      "  warnings.warn(\n",
      "/var/folders/pz/wy3lg_ps0fg986p2nzxcqlf00000gp/T/ipykernel_99540/1313790090.py:19: LinAlgWarning: Ill-conditioned matrix (rcond=2.42776e-19): result may not be accurate.\n",
      "  cfs = sl.solve(gbmat, fxgt, assume_a='sym')\n",
      "/Users/morty/miniforge3/envs/work0122/lib/python3.9/site-packages/scipy/integrate/_quadrature.py:276: AccuracyWarning: maxiter (500) exceeded. Latest difference = 2.550375e-05\n",
      "  warnings.warn(\n",
      "/var/folders/pz/wy3lg_ps0fg986p2nzxcqlf00000gp/T/ipykernel_99540/1313790090.py:19: LinAlgWarning: Ill-conditioned matrix (rcond=2.03276e-20): result may not be accurate.\n",
      "  cfs = sl.solve(gbmat, fxgt, assume_a='sym')\n",
      "/Users/morty/miniforge3/envs/work0122/lib/python3.9/site-packages/scipy/integrate/_quadrature.py:276: AccuracyWarning: maxiter (500) exceeded. Latest difference = 1.065579e-03\n",
      "  warnings.warn(\n",
      "/var/folders/pz/wy3lg_ps0fg986p2nzxcqlf00000gp/T/ipykernel_99540/1313790090.py:19: LinAlgWarning: Ill-conditioned matrix (rcond=2.70124e-20): result may not be accurate.\n",
      "  cfs = sl.solve(gbmat, fxgt, assume_a='sym')\n"
     ]
    },
    {
     "name": "stdout",
     "output_type": "stream",
     "text": [
      "Computing 51 of 55\n",
      "Computing 52 of 55\n",
      "Computing 53 of 55\n"
     ]
    },
    {
     "name": "stderr",
     "output_type": "stream",
     "text": [
      "/Users/morty/miniforge3/envs/work0122/lib/python3.9/site-packages/scipy/integrate/_quadrature.py:276: AccuracyWarning: maxiter (500) exceeded. Latest difference = 1.175530e-02\n",
      "  warnings.warn(\n",
      "/var/folders/pz/wy3lg_ps0fg986p2nzxcqlf00000gp/T/ipykernel_99540/1313790090.py:19: LinAlgWarning: Ill-conditioned matrix (rcond=3.2172e-20): result may not be accurate.\n",
      "  cfs = sl.solve(gbmat, fxgt, assume_a='sym')\n",
      "/Users/morty/miniforge3/envs/work0122/lib/python3.9/site-packages/scipy/integrate/_quadrature.py:276: AccuracyWarning: maxiter (500) exceeded. Latest difference = 2.040582e-01\n",
      "  warnings.warn(\n",
      "/var/folders/pz/wy3lg_ps0fg986p2nzxcqlf00000gp/T/ipykernel_99540/1313790090.py:19: LinAlgWarning: Ill-conditioned matrix (rcond=7.82945e-21): result may not be accurate.\n",
      "  cfs = sl.solve(gbmat, fxgt, assume_a='sym')\n",
      "/Users/morty/miniforge3/envs/work0122/lib/python3.9/site-packages/scipy/integrate/_quadrature.py:276: AccuracyWarning: maxiter (500) exceeded. Latest difference = 2.260813e-01\n",
      "  warnings.warn(\n"
     ]
    },
    {
     "name": "stdout",
     "output_type": "stream",
     "text": [
      "Computing 54 of 55\n",
      "Computing 55 of 55\n",
      "Computing 1 of 55\n",
      "Computing 2 of 55\n",
      "Computing 3 of 55\n",
      "Computing 4 of 55\n",
      "Computing 5 of 55\n",
      "Computing 6 of 55\n",
      "Computing 7 of 55\n",
      "Computing 8 of 55\n",
      "Computing 9 of 55\n",
      "Computing 10 of 55\n",
      "Computing 11 of 55\n",
      "Computing 12 of 55\n",
      "Computing 13 of 55\n",
      "Computing 14 of 55\n",
      "Computing 15 of 55\n",
      "Computing 16 of 55\n",
      "Computing 17 of 55\n",
      "Computing 18 of 55\n",
      "Computing 19 of 55\n",
      "Computing 20 of 55\n",
      "Computing 21 of 55\n",
      "Computing 22 of 55\n",
      "Computing 23 of 55\n",
      "Computing 24 of 55\n",
      "Computing 25 of 55\n",
      "Computing 26 of 55\n",
      "Computing 27 of 55\n",
      "Computing 28 of 55\n",
      "Computing 29 of 55\n",
      "Computing 30 of 55\n",
      "Computing 31 of 55\n",
      "Computing 32 of 55\n",
      "Computing 33 of 55\n",
      "Computing 34 of 55\n",
      "Computing 35 of 55\n",
      "Computing 36 of 55\n",
      "Computing 37 of 55\n",
      "Computing 38 of 55\n",
      "Computing 39 of 55\n",
      "Computing 40 of 55\n",
      "Computing 41 of 55\n",
      "Computing 42 of 55\n",
      "Computing 43 of 55\n",
      "Computing 44 of 55\n",
      "Computing 45 of 55\n",
      "Computing 46 of 55\n",
      "Computing 47 of 55\n",
      "Computing 48 of 55\n",
      "Computing 49 of 55\n",
      "Computing 50 of 55\n",
      "Computing 51 of 55\n",
      "Computing 52 of 55\n",
      "Computing 53 of 55\n",
      "Computing 54 of 55\n",
      "Computing 55 of 55\n",
      "Computing 1 of 55\n",
      "Computing 2 of 55\n",
      "Computing 3 of 55\n",
      "Computing 4 of 55\n",
      "Computing 5 of 55\n",
      "Computing 6 of 55\n",
      "Computing 7 of 55\n",
      "Computing 8 of 55\n",
      "Computing 9 of 55\n",
      "Computing 10 of 55\n",
      "Computing 11 of 55\n",
      "Computing 12 of 55\n",
      "Computing 13 of 55\n",
      "Computing 14 of 55\n",
      "Computing 15 of 55\n",
      "Computing 16 of 55\n",
      "Computing 17 of 55\n",
      "Computing 18 of 55\n",
      "Computing 19 of 55\n"
     ]
    },
    {
     "name": "stderr",
     "output_type": "stream",
     "text": [
      "/var/folders/pz/wy3lg_ps0fg986p2nzxcqlf00000gp/T/ipykernel_99540/1313790090.py:19: LinAlgWarning: Ill-conditioned matrix (rcond=4.56661e-17): result may not be accurate.\n",
      "  cfs = sl.solve(gbmat, fxgt, assume_a='sym')\n",
      "/var/folders/pz/wy3lg_ps0fg986p2nzxcqlf00000gp/T/ipykernel_99540/1313790090.py:19: LinAlgWarning: Ill-conditioned matrix (rcond=1.90134e-17): result may not be accurate.\n",
      "  cfs = sl.solve(gbmat, fxgt, assume_a='sym')\n",
      "/var/folders/pz/wy3lg_ps0fg986p2nzxcqlf00000gp/T/ipykernel_99540/1313790090.py:19: LinAlgWarning: Ill-conditioned matrix (rcond=3.42011e-18): result may not be accurate.\n",
      "  cfs = sl.solve(gbmat, fxgt, assume_a='sym')\n",
      "/var/folders/pz/wy3lg_ps0fg986p2nzxcqlf00000gp/T/ipykernel_99540/1313790090.py:19: LinAlgWarning: Ill-conditioned matrix (rcond=2.57988e-18): result may not be accurate.\n",
      "  cfs = sl.solve(gbmat, fxgt, assume_a='sym')\n",
      "/var/folders/pz/wy3lg_ps0fg986p2nzxcqlf00000gp/T/ipykernel_99540/1313790090.py:19: LinAlgWarning: Ill-conditioned matrix (rcond=2.65489e-18): result may not be accurate.\n",
      "  cfs = sl.solve(gbmat, fxgt, assume_a='sym')\n",
      "/var/folders/pz/wy3lg_ps0fg986p2nzxcqlf00000gp/T/ipykernel_99540/1313790090.py:19: LinAlgWarning: Ill-conditioned matrix (rcond=1.15797e-18): result may not be accurate.\n",
      "  cfs = sl.solve(gbmat, fxgt, assume_a='sym')\n",
      "/var/folders/pz/wy3lg_ps0fg986p2nzxcqlf00000gp/T/ipykernel_99540/1313790090.py:19: LinAlgWarning: Ill-conditioned matrix (rcond=1.34831e-19): result may not be accurate.\n",
      "  cfs = sl.solve(gbmat, fxgt, assume_a='sym')\n",
      "/var/folders/pz/wy3lg_ps0fg986p2nzxcqlf00000gp/T/ipykernel_99540/1313790090.py:19: LinAlgWarning: Ill-conditioned matrix (rcond=6.43776e-19): result may not be accurate.\n",
      "  cfs = sl.solve(gbmat, fxgt, assume_a='sym')\n",
      "/var/folders/pz/wy3lg_ps0fg986p2nzxcqlf00000gp/T/ipykernel_99540/1313790090.py:19: LinAlgWarning: Ill-conditioned matrix (rcond=1.0911e-19): result may not be accurate.\n",
      "  cfs = sl.solve(gbmat, fxgt, assume_a='sym')\n",
      "/var/folders/pz/wy3lg_ps0fg986p2nzxcqlf00000gp/T/ipykernel_99540/1313790090.py:19: LinAlgWarning: Ill-conditioned matrix (rcond=2.22982e-19): result may not be accurate.\n",
      "  cfs = sl.solve(gbmat, fxgt, assume_a='sym')\n",
      "/var/folders/pz/wy3lg_ps0fg986p2nzxcqlf00000gp/T/ipykernel_99540/1313790090.py:19: LinAlgWarning: Ill-conditioned matrix (rcond=7.26698e-20): result may not be accurate.\n",
      "  cfs = sl.solve(gbmat, fxgt, assume_a='sym')\n",
      "/var/folders/pz/wy3lg_ps0fg986p2nzxcqlf00000gp/T/ipykernel_99540/1313790090.py:19: LinAlgWarning: Ill-conditioned matrix (rcond=1.57824e-18): result may not be accurate.\n",
      "  cfs = sl.solve(gbmat, fxgt, assume_a='sym')\n",
      "/var/folders/pz/wy3lg_ps0fg986p2nzxcqlf00000gp/T/ipykernel_99540/1313790090.py:19: LinAlgWarning: Ill-conditioned matrix (rcond=1.7126e-19): result may not be accurate.\n",
      "  cfs = sl.solve(gbmat, fxgt, assume_a='sym')\n",
      "/var/folders/pz/wy3lg_ps0fg986p2nzxcqlf00000gp/T/ipykernel_99540/1313790090.py:19: LinAlgWarning: Ill-conditioned matrix (rcond=2.1813e-19): result may not be accurate.\n",
      "  cfs = sl.solve(gbmat, fxgt, assume_a='sym')\n",
      "/var/folders/pz/wy3lg_ps0fg986p2nzxcqlf00000gp/T/ipykernel_99540/1313790090.py:19: LinAlgWarning: Ill-conditioned matrix (rcond=5.69117e-20): result may not be accurate.\n",
      "  cfs = sl.solve(gbmat, fxgt, assume_a='sym')\n",
      "/var/folders/pz/wy3lg_ps0fg986p2nzxcqlf00000gp/T/ipykernel_99540/1313790090.py:19: LinAlgWarning: Ill-conditioned matrix (rcond=2.3445e-19): result may not be accurate.\n",
      "  cfs = sl.solve(gbmat, fxgt, assume_a='sym')\n",
      "/var/folders/pz/wy3lg_ps0fg986p2nzxcqlf00000gp/T/ipykernel_99540/1313790090.py:19: LinAlgWarning: Ill-conditioned matrix (rcond=7.32791e-19): result may not be accurate.\n",
      "  cfs = sl.solve(gbmat, fxgt, assume_a='sym')\n"
     ]
    },
    {
     "name": "stdout",
     "output_type": "stream",
     "text": [
      "Computing 20 of 55\n",
      "Computing 21 of 55\n",
      "Computing 22 of 55\n",
      "Computing 23 of 55\n",
      "Computing 24 of 55\n",
      "Computing 25 of 55\n",
      "Computing 26 of 55\n",
      "Computing 27 of 55\n",
      "Computing 28 of 55\n",
      "Computing 29 of 55\n",
      "Computing 30 of 55\n",
      "Computing 31 of 55\n",
      "Computing 32 of 55\n",
      "Computing 33 of 55\n",
      "Computing 34 of 55\n",
      "Computing 35 of 55\n",
      "Computing 36 of 55\n",
      "Computing 37 of 55\n",
      "Computing 38 of 55\n",
      "Computing 39 of 55\n",
      "Computing 40 of 55\n",
      "Computing 41 of 55\n",
      "Computing 42 of 55\n",
      "Computing 43 of 55\n",
      "Computing 44 of 55\n",
      "Computing 45 of 55\n",
      "Computing 46 of 55\n",
      "Computing 47 of 55\n",
      "Computing 48 of 55\n",
      "Computing 49 of 55\n",
      "Computing 50 of 55\n",
      "Computing 51 of 55\n",
      "Computing 52 of 55\n",
      "Computing 53 of 55\n",
      "Computing 54 of 55\n",
      "Computing 55 of 55\n"
     ]
    },
    {
     "data": {
      "text/plain": "<Figure size 576x720 with 2 Axes>",
      "image/png": "[encoded data removed]"
     },
     "metadata": {
      "needs_background": "light"
     },
     "output_type": "display_data"
    }
   ],
   "source": [
    "fig, (ax1, ax2) = plt.subplots(2, 1, figsize=(8, 10))\n",
    "\n",
    "for thisalpha in [0.01, 0.1, 1.0, 3.0, 10.0]:\n",
    "    jspace = np.arange(5, 60)\n",
    "    lenjspace = len(jspace)\n",
    "    hvec = np.zeros(lenjspace, dtype=float)\n",
    "    L2errvec = np.zeros(lenjspace, dtype=float)\n",
    "    LIerrvec = np.zeros(lenjspace, dtype=float)\n",
    "\n",
    "    # main loop\n",
    "    for i in range(lenjspace):\n",
    "        print(f'Computing {i+1} of {lenjspace}')\n",
    "        hvec[i] = bigL / jspace[i]\n",
    "        thiscfs, thisxgr = gbcfs(jspace[i], bigL, thisalpha)\n",
    "        L2errvec[i] = L2err(thiscfs, thisxgr, bigL, thisalpha)\n",
    "        LIerrvec[i] = Linferr(2000, thiscfs, thisxgr, bigL, thisalpha)\n",
    "\n",
    "    ax1.loglog(hvec, L2errvec, label=f'{thisalpha}')\n",
    "    ax2.loglog(hvec, LIerrvec, label=f'{thisalpha}')\n",
    "\n",
    "\n",
    "ax1.set_title(r'$L^2$ Error vs. Gaussian Spacing')\n",
    "ax1.set_xscale('log', base=2)\n",
    "ax1.set_yscale('log', base=10)\n",
    "ax1.set_xlabel('Spacing')\n",
    "ax1.set_ylabel('Error')\n",
    "ax1.legend()\n",
    "\n",
    "ax2.set_title(r'$L^\\infty$ Error vs. Gaussian Spacing')\n",
    "ax2.set_xscale('log', base=2)\n",
    "ax2.set_yscale('log', base=10)\n",
    "ax2.set_xlabel('Spacing')\n",
    "ax2.set_ylabel('Error')\n",
    "ax2.legend()\n",
    "\n",
    "plt.show()"
   ],
   "metadata": {
    "collapsed": false,
    "pycharm": {
     "name": "#%%\n"
    }
   }
  },
  {
   "cell_type": "code",
   "execution_count": null,
   "outputs": [],
   "source": [],
   "metadata": {
    "collapsed": false,
    "pycharm": {
     "name": "#%%\n"
    }
   }
  }
 ],
 "metadata": {
  "kernelspec": {
   "display_name": "Python 3",
   "language": "python",
   "name": "python3"
  },
  "language_info": {
   "codemirror_mode": {
    "name": "ipython",
    "version": 2
   },
   "file_extension": ".py",
   "mimetype": "text/x-python",
   "name": "python",
   "nbconvert_exporter": "python",
   "pygments_lexer": "ipython2",
   "version": "2.7.6"
  }
 },
 "nbformat": 4,
 "nbformat_minor": 0
}