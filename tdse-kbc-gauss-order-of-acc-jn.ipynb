{
 "cells": [
  {
   "cell_type": "code",
   "execution_count": 1,
   "metadata": {
    "collapsed": true
   },
   "outputs": [],
   "source": [
    "import numpy as np\n",
    "import numpy.linalg as nl\n",
    "import scipy.linalg as sl\n",
    "import scipy.integrate as si\n",
    "import matplotlib.pyplot as plt"
   ]
  },
  {
   "cell_type": "code",
   "execution_count": 2,
   "outputs": [],
   "source": [
    "def xj(J, L):\n",
    "    h = L/J\n",
    "    return np.arange(-J, J+1) * h"
   ],
   "metadata": {
    "collapsed": false,
    "pycharm": {
     "name": "#%%\n"
    }
   }
  },
  {
   "cell_type": "code",
   "execution_count": 3,
   "outputs": [],
   "source": [
    "# function we are trying to approximate\n",
    "def v(x, choice=4):\n",
    "    if choice == 0:\n",
    "        # dimensionless quantum harmonic oscillator potential\n",
    "        return 0.5 * x**2\n",
    "    elif choice == 1:\n",
    "        # symmetric double well potential\n",
    "        return 0.0025 * (x ** 2 - 25) ** 2\n",
    "    elif choice == 2:\n",
    "        # asymmetric double well potential\n",
    "        return 0.0003 * ((x - 3) ** 4 + 10 * (x - 5) ** 3)\n",
    "    elif choice == 3:\n",
    "        # soft coulomb potential\n",
    "        return -1 / np.sqrt(x ** 2 + 0.25)\n",
    "    elif choice == 4:\n",
    "        # a complicated function made by Harish\n",
    "        return np.cos(x**2) - x*np.sin(x)\n",
    "    else:\n",
    "        print('Function v(x, choice=0): Did not recognise your input for choice.')"
   ],
   "metadata": {
    "collapsed": false,
    "pycharm": {
     "name": "#%%\n"
    }
   }
  },
  {
   "cell_type": "code",
   "execution_count": 4,
   "outputs": [],
   "source": [
    "# define Gaussian basis function\n",
    "# Gaussian centered at grid point j*h with shape parameter alpha\n",
    "# x can be a vector\n",
    "def gb(x, j, h, alpha):\n",
    "    return np.exp(-alpha * (x - j*h)** 2)\n",
    "\n",
    "def gbm(x, alpha):\n",
    "    return np.exp(-alpha * x** 2)"
   ],
   "metadata": {
    "collapsed": false,
    "pycharm": {
     "name": "#%%\n"
    }
   }
  },
  {
   "cell_type": "code",
   "execution_count": 39,
   "outputs": [],
   "source": [
    "# function for computing the L2 error given some number of basis\n",
    "def loopfn(J, L, alpha):\n",
    "    h = L/J\n",
    "\n",
    "    # make vector of xj values\n",
    "    xjvec = xj(J, L)\n",
    "    # make arrays that can be used in vectorized evaluations\n",
    "    xj1, xj2 = np.meshgrid(xjvec, xjvec)\n",
    "\n",
    "    # make Gaussian basis matrix.\n",
    "    # We want gbmat @ gbcfs = vtrue, so each row in gbmat is\n",
    "    # all the Gaussian basis for one value of x\n",
    "    gbmat = gbm(xj1 - xj2, alpha)\n",
    "\n",
    "    # compute vector of the function evaluated on grid\n",
    "    vxjtrue = v(xjvec)\n",
    "\n",
    "    # use solve to compute basis coefficients\n",
    "    coef = sl.solve(gbmat, vxjtrue, assume_a='sym')\n",
    "\n",
    "    # reconstruct function from coefficients\n",
    "    vxjprdt = gbmat @ coef\n",
    "\n",
    "    # function representation of L2 norm\n",
    "    def integrand(x):\n",
    "        xm, xim = np.meshgrid(xjvec, x)\n",
    "        thisg = gbm(xm - xim, alpha)\n",
    "        return np.square(thisg @ coef - v(x))\n",
    "\n",
    "\n",
    "    # integrate to get the square of the L2 error\n",
    "    l2errsq, _ = si.quadrature(integrand, -L, L, maxiter=500, tol=1e-8, rtol=1e-8)\n",
    "    return [xjvec, vxjtrue, vxjprdt, np.sqrt(l2errsq), h]"
   ],
   "metadata": {
    "collapsed": false,
    "pycharm": {
     "name": "#%%\n"
    }
   }
  },
  {
   "cell_type": "code",
   "execution_count": 40,
   "outputs": [
    {
     "name": "stderr",
     "output_type": "stream",
     "text": [
      "/var/folders/pz/wy3lg_ps0fg986p2nzxcqlf00000gp/T/ipykernel_73236/3386804832.py:19: LinAlgWarning: Ill-conditioned matrix (rcond=2.19607e-20): result may not be accurate.\n",
      "  coef = sl.solve(gbmat, vxjtrue, assume_a='sym')\n"
     ]
    },
    {
     "name": "stdout",
     "output_type": "stream",
     "text": [
      "(1, 201)\n",
      "(1, 201)\n",
      "(2, 201)\n",
      "(2, 201)\n",
      "(3, 201)\n",
      "(3, 201)\n",
      "(4, 201)\n",
      "(4, 201)\n",
      "(5, 201)\n",
      "(5, 201)\n",
      "(6, 201)\n",
      "(6, 201)\n",
      "(7, 201)\n",
      "(7, 201)\n",
      "(8, 201)\n",
      "(8, 201)\n",
      "(9, 201)\n",
      "(9, 201)\n"
     ]
    },
    {
     "data": {
      "text/plain": "<Figure size 432x288 with 1 Axes>",
      "image/png": "[encoded data removed]"
     },
     "metadata": {
      "needs_background": "light"
     },
     "output_type": "display_data"
    },
    {
     "name": "stdout",
     "output_type": "stream",
     "text": [
      "L2 Error: 0.0001399555132323139 h value: 0.06283185307179587\n"
     ]
    }
   ],
   "source": [
    "xjvec, vxjtrue, vxjprdt, l2err, hval = loopfn(J=100, L=2*np.pi, alpha=3.0)\n",
    "\n",
    "# plot the truth vs reconstruction\n",
    "plt.plot(xjvec, vxjprdt, label='Predict')\n",
    "plt.plot(xjvec, vxjtrue, label='Truth')\n",
    "plt.legend()\n",
    "plt.show()\n",
    "\n",
    "print(f'L2 Error: {l2err}', f'h value: {hval}')"
   ],
   "metadata": {
    "collapsed": false,
    "pycharm": {
     "name": "#%%\n"
    }
   }
  },
  {
   "cell_type": "markdown",
   "source": [
    "---"
   ],
   "metadata": {
    "collapsed": false,
    "pycharm": {
     "name": "#%% md\n"
    }
   }
  },
  {
   "cell_type": "code",
   "execution_count": 34,
   "outputs": [
    {
     "name": "stdout",
     "output_type": "stream",
     "text": [
      "Computing Result 1.0 of 10\n",
      "Computing Result 1.5 of 10\n",
      "Computing Result 2.0 of 10\n",
      "Computing Result 2.5 of 10\n",
      "Computing Result 3.0 of 10\n",
      "Computing Result 3.5 of 10\n",
      "Computing Result 4.0 of 10\n",
      "Computing Result 4.5 of 10\n",
      "Computing Result 5.0 of 10\n",
      "Computing Result 5.5 of 10\n",
      "Computing Result 6.0 of 10\n"
     ]
    },
    {
     "name": "stderr",
     "output_type": "stream",
     "text": [
      "/var/folders/pz/wy3lg_ps0fg986p2nzxcqlf00000gp/T/ipykernel_73236/612653428.py:19: LinAlgWarning: Ill-conditioned matrix (rcond=1.62085e-19): result may not be accurate.\n",
      "  coef = sl.solve(gbmat, vxjtrue, assume_a='sym')\n",
      "/var/folders/pz/wy3lg_ps0fg986p2nzxcqlf00000gp/T/ipykernel_73236/612653428.py:19: LinAlgWarning: Ill-conditioned matrix (rcond=2.96793e-19): result may not be accurate.\n",
      "  coef = sl.solve(gbmat, vxjtrue, assume_a='sym')\n",
      "/var/folders/pz/wy3lg_ps0fg986p2nzxcqlf00000gp/T/ipykernel_73236/612653428.py:19: LinAlgWarning: Ill-conditioned matrix (rcond=1.32735e-20): result may not be accurate.\n",
      "  coef = sl.solve(gbmat, vxjtrue, assume_a='sym')\n",
      "/var/folders/pz/wy3lg_ps0fg986p2nzxcqlf00000gp/T/ipykernel_73236/612653428.py:19: LinAlgWarning: Ill-conditioned matrix (rcond=2.0815e-20): result may not be accurate.\n",
      "  coef = sl.solve(gbmat, vxjtrue, assume_a='sym')\n",
      "/var/folders/pz/wy3lg_ps0fg986p2nzxcqlf00000gp/T/ipykernel_73236/612653428.py:19: LinAlgWarning: Ill-conditioned matrix (rcond=4.89306e-20): result may not be accurate.\n",
      "  coef = sl.solve(gbmat, vxjtrue, assume_a='sym')\n",
      "/var/folders/pz/wy3lg_ps0fg986p2nzxcqlf00000gp/T/ipykernel_73236/612653428.py:19: LinAlgWarning: Ill-conditioned matrix (rcond=1.38049e-21): result may not be accurate.\n",
      "  coef = sl.solve(gbmat, vxjtrue, assume_a='sym')\n",
      "/var/folders/pz/wy3lg_ps0fg986p2nzxcqlf00000gp/T/ipykernel_73236/612653428.py:19: LinAlgWarning: Ill-conditioned matrix (rcond=1.22239e-20): result may not be accurate.\n",
      "  coef = sl.solve(gbmat, vxjtrue, assume_a='sym')\n"
     ]
    },
    {
     "name": "stdout",
     "output_type": "stream",
     "text": [
      "Computing Result 6.5 of 10\n",
      "Computing Result 7.0 of 10\n",
      "Computing Result 7.5 of 10\n"
     ]
    },
    {
     "name": "stderr",
     "output_type": "stream",
     "text": [
      "/var/folders/pz/wy3lg_ps0fg986p2nzxcqlf00000gp/T/ipykernel_73236/612653428.py:19: LinAlgWarning: Ill-conditioned matrix (rcond=6.05131e-21): result may not be accurate.\n",
      "  coef = sl.solve(gbmat, vxjtrue, assume_a='sym')\n",
      "/var/folders/pz/wy3lg_ps0fg986p2nzxcqlf00000gp/T/ipykernel_73236/612653428.py:19: LinAlgWarning: Ill-conditioned matrix (rcond=3.05174e-21): result may not be accurate.\n",
      "  coef = sl.solve(gbmat, vxjtrue, assume_a='sym')\n"
     ]
    },
    {
     "name": "stdout",
     "output_type": "stream",
     "text": [
      "Computing Result 8.0 of 10\n"
     ]
    },
    {
     "name": "stderr",
     "output_type": "stream",
     "text": [
      "/var/folders/pz/wy3lg_ps0fg986p2nzxcqlf00000gp/T/ipykernel_73236/612653428.py:19: LinAlgWarning: Ill-conditioned matrix (rcond=3.07328e-21): result may not be accurate.\n",
      "  coef = sl.solve(gbmat, vxjtrue, assume_a='sym')\n"
     ]
    },
    {
     "name": "stdout",
     "output_type": "stream",
     "text": [
      "Computing Result 8.5 of 10\n"
     ]
    },
    {
     "name": "stderr",
     "output_type": "stream",
     "text": [
      "/var/folders/pz/wy3lg_ps0fg986p2nzxcqlf00000gp/T/ipykernel_73236/612653428.py:19: LinAlgWarning: Ill-conditioned matrix (rcond=3.30016e-22): result may not be accurate.\n",
      "  coef = sl.solve(gbmat, vxjtrue, assume_a='sym')\n"
     ]
    },
    {
     "name": "stdout",
     "output_type": "stream",
     "text": [
      "Computing Result 9.0 of 10\n"
     ]
    },
    {
     "name": "stderr",
     "output_type": "stream",
     "text": [
      "/var/folders/pz/wy3lg_ps0fg986p2nzxcqlf00000gp/T/ipykernel_73236/612653428.py:19: LinAlgWarning: Ill-conditioned matrix (rcond=1.88035e-21): result may not be accurate.\n",
      "  coef = sl.solve(gbmat, vxjtrue, assume_a='sym')\n"
     ]
    },
    {
     "name": "stdout",
     "output_type": "stream",
     "text": [
      "Computing Result 9.5 of 10\n"
     ]
    },
    {
     "name": "stderr",
     "output_type": "stream",
     "text": [
      "/var/folders/pz/wy3lg_ps0fg986p2nzxcqlf00000gp/T/ipykernel_73236/612653428.py:19: LinAlgWarning: Ill-conditioned matrix (rcond=4.63333e-22): result may not be accurate.\n",
      "  coef = sl.solve(gbmat, vxjtrue, assume_a='sym')\n"
     ]
    },
    {
     "name": "stdout",
     "output_type": "stream",
     "text": [
      "Computing Result 10.0 of 10\n"
     ]
    },
    {
     "name": "stderr",
     "output_type": "stream",
     "text": [
      "/var/folders/pz/wy3lg_ps0fg986p2nzxcqlf00000gp/T/ipykernel_73236/612653428.py:19: LinAlgWarning: Ill-conditioned matrix (rcond=4.27289e-22): result may not be accurate.\n",
      "  coef = sl.solve(gbmat, vxjtrue, assume_a='sym')\n"
     ]
    },
    {
     "name": "stdout",
     "output_type": "stream",
     "text": [
      "Computing Result 10.5 of 10\n"
     ]
    },
    {
     "name": "stderr",
     "output_type": "stream",
     "text": [
      "/var/folders/pz/wy3lg_ps0fg986p2nzxcqlf00000gp/T/ipykernel_73236/612653428.py:19: LinAlgWarning: Ill-conditioned matrix (rcond=1.41637e-22): result may not be accurate.\n",
      "  coef = sl.solve(gbmat, vxjtrue, assume_a='sym')\n"
     ]
    },
    {
     "name": "stdout",
     "output_type": "stream",
     "text": [
      "(20, 5)\n"
     ]
    }
   ],
   "source": [
    "# set number of loops\n",
    "lpnum = 10\n",
    "\n",
    "# initialize array for storing results\n",
    "resultvec = []\n",
    "\n",
    "# main loop\n",
    "for i in np.arange(lpnum, step=0.5):\n",
    "    print(f'Computing Result {i+1} of {lpnum}')\n",
    "    forJ = 2**(3 + i)\n",
    "    resultvec.append(loopfn(J=forJ, L=2*np.pi, alpha=3.0))\n",
    "\n",
    "resultvec = np.array(resultvec, dtype=object)\n",
    "print(resultvec.shape)"
   ],
   "metadata": {
    "collapsed": false,
    "pycharm": {
     "name": "#%%\n"
    }
   }
  },
  {
   "cell_type": "code",
   "execution_count": 36,
   "outputs": [
    {
     "data": {
      "text/plain": "<Figure size 432x288 with 1 Axes>",
      "image/png": "[encoded data removed]"
     },
     "metadata": {
      "needs_background": "light"
     },
     "output_type": "display_data"
    }
   ],
   "source": [
    "plt.loglog(resultvec[:,-1], resultvec[:,-2])\n",
    "plt.xscale('log', base=2)\n",
    "plt.yscale('log', base=10)\n",
    "plt.title('Log Error vs. Log h')\n",
    "plt.xlabel('h')\n",
    "plt.ylabel('L2 Error')\n",
    "plt.show()\n",
    "#plt.savefig('./order-of-accuracy-results/error-vs-h-plot.pdf')"
   ],
   "metadata": {
    "collapsed": false,
    "pycharm": {
     "name": "#%%\n"
    }
   }
  },
  {
   "cell_type": "code",
   "execution_count": null,
   "outputs": [],
   "source": [],
   "metadata": {
    "collapsed": false,
    "pycharm": {
     "name": "#%%\n"
    }
   }
  }
 ],
 "metadata": {
  "kernelspec": {
   "display_name": "Python 3",
   "language": "python",
   "name": "python3"
  },
  "language_info": {
   "codemirror_mode": {
    "name": "ipython",
    "version": 2
   },
   "file_extension": ".py",
   "mimetype": "text/x-python",
   "name": "python",
   "nbconvert_exporter": "python",
   "pygments_lexer": "ipython2",
   "version": "2.7.6"
  }
 },
 "nbformat": 4,
 "nbformat_minor": 0
}