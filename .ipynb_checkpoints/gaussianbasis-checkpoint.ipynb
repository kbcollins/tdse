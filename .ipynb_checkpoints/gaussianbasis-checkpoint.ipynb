{
 "cells": [
  {
   "cell_type": "code",
   "execution_count": 1,
   "id": "f6758451",
   "metadata": {},
   "outputs": [],
   "source": [
    "import numpy as np\n",
    "import scipy.integrate as si\n",
    "import matplotlib\n",
    "%matplotlib inline\n",
    "import matplotlib.pyplot as plt"
   ]
  },
  {
   "cell_type": "code",
   "execution_count": 16,
   "id": "74230704",
   "metadata": {},
   "outputs": [
    {
     "name": "stdout",
     "output_type": "stream",
     "text": [
      "0.019550342130987292\n",
      "1.734723475976807e-17\n"
     ]
    }
   ],
   "source": [
    "# number of samples\n",
    "N = 1024\n",
    "\n",
    "# postive extent of numeric region of interest\n",
    "l = 10\n",
    "\n",
    "xvec, dx = np.linspace(-l, l, N, retstep=True)\n",
    "print(dx)\n",
    "print(dx - (xvec[1] - xvec[0]))"
   ]
  },
  {
   "cell_type": "code",
   "execution_count": null,
   "id": "6d3c79a0-1787-42ad-b291-8e5265e3ef1d",
   "metadata": {},
   "outputs": [],
   "source": [
    "# set overlap\n",
    "# this should insure that regardless of how many bases\n",
    "# we use the overlate will be about the same\n",
    "# fracmax sets at what fraction of the maximum hight\n",
    "# we want our basis Gaussians to overlap\n",
    "# fracmax = 0.80\n",
    "# sigma = gx / (2 * np.sqrt(2 * np.log(1/fracmax) ) ) \n",
    "# print(sigma)\n",
    "\n",
    "# define Gaussian basis functions\n",
    "# def gauss(x, j):\n",
    "#     return np.exp(-((x - j*gx)/sigma)**2)\n",
    "\n",
    "# plt.plot(xvec, gauss(xvec, i))\n",
    "# plt.vlines(i*gx, ymin=0, ymax=1, label=i*gx, linestyles='dashed')\n",
    "# plt.plot(xvec, gauss(xvec,0))\n",
    "# plt.vlines(0, ymin=0, ymax=1, label=0, color='darkorange', linestyles='dashed')\n",
    "# plt.plot(xvec, gauss(xvec,1))\n",
    "# plt.vlines(gx, ymin=0, ymax=1, label=gx, color='green', linestyles='dashed')\n",
    "# plt.xlim([-0.5,0.5])"
   ]
  },
  {
   "cell_type": "code",
   "execution_count": 19,
   "id": "ff8cb11e",
   "metadata": {},
   "outputs": [
    {
     "name": "stdout",
     "output_type": "stream",
     "text": [
      "(256,)\n"
     ]
    },
    {
     "data": {
      "image/png": "[encoded data removed]",
      "text/plain": [
       "<Figure size 432x288 with 1 Axes>"
      ]
     },
     "metadata": {
      "needs_background": "light"
     },
     "output_type": "display_data"
    }
   ],
   "source": [
    "# test of overlap of Gaussian basis\n",
    "\n",
    "# set the number of Gaussians we use as bases\n",
    "Ng = 256 # 101 # 40\n",
    "\n",
    "# make real space grid where each point\n",
    "# is the center of a Gaussian\n",
    "xx, gx = np.linspace(-l, l, Ng, retstep=True)\n",
    "print(xx.shape)\n",
    "\n",
    "# define Gaussian basis functions\n",
    "alpha = 1\n",
    "def gauss(x, j):\n",
    "    return np.exp(-alpha*(x - j*gx)**2)\n",
    "\n",
    "# plot\n",
    "for i in [-1, 0, 1]:\n",
    "    plt.plot(xvec, gauss(xvec, i))\n",
    "    plt.vlines(i*gx, ymin=0, ymax=1, label=i*gx, linestyles='dashed')\n",
    "\n",
    "plt.xlim([-0.5,0.5])\n",
    "plt.legend()\n",
    "plt.show()"
   ]
  },
  {
   "cell_type": "code",
   "execution_count": 4,
   "id": "2b76eb23",
   "metadata": {},
   "outputs": [
    {
     "name": "stdout",
     "output_type": "stream",
     "text": [
      "(200, 200)\n"
     ]
    },
    {
     "data": {
      "text/plain": [
       "7.9317283489753585"
      ]
     },
     "execution_count": 4,
     "metadata": {},
     "output_type": "execute_result"
    }
   ],
   "source": [
    "# - we want a SQUARE matrix where each row is one of the\n",
    "# Gaussian basis functions sampled at the space points\n",
    "# where the Gaussians basis functions are centered\n",
    "# - the matrix must be square so we can use numpy.linalg.inv()\n",
    "# or numpy.linalg.solv()\n",
    "# - using broadcasting, we only need to expand one of the arrays\n",
    "# so that np.exp(-(xx - np.expand_dims(xx,1))**2 / sigma)\n",
    "# ends up with dimensions (Ng, Ng)\n",
    "gmat = np.exp(-0.5*((xx - np.expand_dims(xx,1))/sigma)**2)\n",
    "print(gmat.shape)\n",
    "\n",
    "# this relates to how difficult it will be to invert\n",
    "# gmat, a bigger number = harder to invert\n",
    "np.linalg.cond(gmat)"
   ]
  },
  {
   "cell_type": "code",
   "execution_count": 5,
   "id": "65ccd8b2",
   "metadata": {},
   "outputs": [
    {
     "name": "stdout",
     "output_type": "stream",
     "text": [
      "(2002, 200)\n"
     ]
    }
   ],
   "source": [
    "Nfine = N*2\n",
    "xvecfine, dxfine = np.linspace(-l, l, Nfine, retstep=True)\n",
    "# gmatplot = np.exp(-(np.expand_dims(xx,0) - np.expand_dims(xvec,1))**2 / sigma)\n",
    "gmatplot = np.exp(-0.5*((xx - np.expand_dims(xvecfine, 1))/sigma)**2)\n",
    "print(gmatplot.shape)"
   ]
  },
  {
   "cell_type": "code",
   "execution_count": 6,
   "id": "33ef8ce2",
   "metadata": {},
   "outputs": [],
   "source": [
    "def myfunc(x):\n",
    "    # out = (x < -3)*(x+3)**3/350 + ((x >= -3) & (x < 6))*(np.exp(-x - 3) - 1) + (x >= 6)*(np.exp(-9) - 1 + (x-6)**2/14)\n",
    "    out = 2*np.cos(x) + np.sin(5*x)\n",
    "    # harmonic potential\n",
    "    # out = 0.5 * x**2\n",
    "    # double well potential\n",
    "    # out = 0.5 * (x**2 - 4)**2\n",
    "    # soft Coulomb\n",
    "    # out = 1 / np.sqrt(1 + (x - 10)**2)\n",
    "    return out"
   ]
  },
  {
   "cell_type": "code",
   "execution_count": 7,
   "id": "b30e3d0c",
   "metadata": {},
   "outputs": [
    {
     "name": "stdout",
     "output_type": "stream",
     "text": [
      "(200,)\n"
     ]
    }
   ],
   "source": [
    "# this gives us the coefficents which solve\n",
    "# gmat @ coefs = myfunc(xx)\n",
    "coefs = np.linalg.inv(gmat) @ myfunc(xx)\n",
    "print(coefs.shape)"
   ]
  },
  {
   "cell_type": "code",
   "execution_count": 8,
   "id": "e337ec36",
   "metadata": {},
   "outputs": [],
   "source": [
    "#coefs"
   ]
  },
  {
   "cell_type": "code",
   "execution_count": 9,
   "id": "aaa71ddd",
   "metadata": {},
   "outputs": [
    {
     "name": "stdout",
     "output_type": "stream",
     "text": [
      "0.0035138109379552343\n"
     ]
    },
    {
     "data": {
      "image/png": "[encoded data removed]",
      "text/plain": [
       "<Figure size 432x288 with 1 Axes>"
      ]
     },
     "metadata": {
      "needs_background": "light"
     },
     "output_type": "display_data"
    }
   ],
   "source": [
    "myfuncapprox = gmatplot @ coefs\n",
    "\n",
    "print(dxfine*np.linalg.norm(myfunc(xvecfine) - myfuncapprox))\n",
    "\n",
    "plt.plot(xvecfine, myfunc(xvecfine), '-', color='black')\n",
    "\n",
    "plt.plot(xvecfine, myfuncapprox, '-', color='red')\n",
    "plt.show()"
   ]
  },
  {
   "cell_type": "markdown",
   "id": "02ad1681",
   "metadata": {},
   "source": [
    "<h3>Potential Operator for Gaussian Basis Model</h3>"
   ]
  },
  {
   "cell_type": "code",
   "execution_count": 10,
   "id": "67294cec",
   "metadata": {},
   "outputs": [],
   "source": [
    "hstart = 350\n",
    "def vhfn(h):\n",
    "    k = np.pi * h / l\n",
    "    return np.sqrt(np.pi) * sigma * np.exp(-(k**2) * sigma**2) * (coefs * np.exp(-1j* np.expand_dims( k, axis=1) * xx)).sum(axis=1) / (2 * l)\n",
    "\n",
    "vhprct = vhfn(np.arange(hstart, hstart+20))"
   ]
  },
  {
   "cell_type": "code",
   "execution_count": 11,
   "id": "b513980e",
   "metadata": {},
   "outputs": [
    {
     "name": "stdout",
     "output_type": "stream",
     "text": [
      "(20,)\n",
      "[-2.03701364e-32+3.10862148e-33j  1.36958640e-32-2.15032136e-33j\n",
      " -9.19865422e-33+1.48711236e-33j  6.17151546e-33-1.02829269e-33j\n",
      " -4.13604157e-33+7.10971757e-34j  2.76882743e-33-4.91567925e-34j\n",
      " -1.85146960e-33+3.39896496e-34j  1.23662513e-33-2.35061895e-34j\n",
      " -8.24993632e-34+1.62605570e-34j  5.49722417e-34-1.12527126e-34j\n",
      " -3.65851412e-34+7.79122058e-35j  2.43176267e-34-5.39816694e-35j\n",
      " -1.61427631e-34+3.74330902e-35j  1.07018256e-34-2.59849408e-35j\n",
      " -7.08503250e-35+1.80612345e-35j  4.68389959e-35-1.25734406e-35j\n",
      " -3.09192733e-35+8.76972927e-36j  2.03787166e-35-6.13079884e-36j\n",
      " -1.34095667e-35+4.29791315e-36j  8.80847790e-36-3.02320427e-36j]\n"
     ]
    }
   ],
   "source": [
    "print(vhprct.shape)\n",
    "print(vhprct)"
   ]
  },
  {
   "cell_type": "code",
   "execution_count": 12,
   "id": "962e7ddd",
   "metadata": {},
   "outputs": [],
   "source": [
    "vhcalc = np.zeros(20, dtype=np.complex128)\n",
    "\n",
    "for h in range(hstart, hstart+20):\n",
    "    total = 0\n",
    "    \n",
    "    for j in range(Ng):\n",
    "        def thisgauss(x):\n",
    "            return np.exp(-((x - xx[j])/sigma)**2)\n",
    "        \n",
    "        def ahfn(x):\n",
    "            theta = np.pi * h * x / l\n",
    "            return np.cos(theta) * thisgauss(x)\n",
    "\n",
    "        def bhfn(x):\n",
    "            theta = np.pi * h * x / l\n",
    "            return np.sin(theta) * thisgauss(x)\n",
    "\n",
    "        ah = (1 / l) * si.quad(ahfn, a=-l, b=l)[0]\n",
    "\n",
    "        if h >= 1:\n",
    "            bh = (1 / l) * si.quad(bhfn, a=-l, b=l)[0]\n",
    "        else:\n",
    "            bh = 0\n",
    "    \n",
    "        total += coefs[j] * l * (ah - 1j*bh)\n",
    "    \n",
    "    vhcalc[h-hstart] = total / (2 * l)"
   ]
  },
  {
   "cell_type": "code",
   "execution_count": 13,
   "id": "43599dd8",
   "metadata": {},
   "outputs": [
    {
     "name": "stdout",
     "output_type": "stream",
     "text": [
      "(20,)\n",
      "[ 3.71376301e-05-0.00012694j -3.69335898e-05+0.00012659j\n",
      "  3.67322663e-05-0.00012625j -3.65321416e-05+0.00012591j\n",
      "  3.63340293e-05-0.00012557j -3.61357746e-05+0.00012524j\n",
      "  3.59420845e-05-0.00012491j -3.57471166e-05+0.00012457j\n",
      "  3.55546091e-05-0.00012424j -3.53647555e-05+0.00012391j\n",
      "  3.51742241e-05-0.00012359j -3.49866425e-05+0.00012326j\n",
      "  3.47999579e-05-0.00012294j -3.46147542e-05+0.00012261j\n",
      "  3.44317948e-05-0.00012229j -3.42489345e-05+0.00012198j\n",
      "  3.40685235e-05-0.00012166j -3.38888546e-05+0.00012134j\n",
      "  3.37107808e-05-0.00012103j -3.35341290e-05+0.00012072j]\n"
     ]
    }
   ],
   "source": [
    "print(vhcalc.shape)\n",
    "print(vhcalc)"
   ]
  },
  {
   "cell_type": "code",
   "execution_count": 14,
   "id": "10462f15",
   "metadata": {},
   "outputs": [
    {
     "name": "stdout",
     "output_type": "stream",
     "text": [
      "0.0005756954260551948\n",
      "[-3.71376301e-05+0.00012694j  3.69335898e-05-0.00012659j\n",
      " -3.67322663e-05+0.00012625j  3.65321416e-05-0.00012591j\n",
      " -3.63340293e-05+0.00012557j  3.61357746e-05-0.00012524j\n",
      " -3.59420845e-05+0.00012491j  3.57471166e-05-0.00012457j\n",
      " -3.55546091e-05+0.00012424j  3.53647555e-05-0.00012391j\n",
      " -3.51742241e-05+0.00012359j  3.49866425e-05-0.00012326j\n",
      " -3.47999579e-05+0.00012294j  3.46147542e-05-0.00012261j\n",
      " -3.44317948e-05+0.00012229j  3.42489345e-05-0.00012198j\n",
      " -3.40685235e-05+0.00012166j  3.38888546e-05-0.00012134j\n",
      " -3.37107808e-05+0.00012103j  3.35341290e-05-0.00012072j]\n"
     ]
    }
   ],
   "source": [
    "print(np.linalg.norm(vhprct - vhcalc))\n",
    "print(vhprct - vhcalc)"
   ]
  },
  {
   "cell_type": "code",
   "execution_count": null,
   "id": "1445fe53",
   "metadata": {},
   "outputs": [],
   "source": []
  }
 ],
 "metadata": {
  "kernelspec": {
   "display_name": "Python 3 (ipykernel)",
   "language": "python",
   "name": "python3"
  },
  "language_info": {
   "codemirror_mode": {
    "name": "ipython",
    "version": 3
   },
   "file_extension": ".py",
   "mimetype": "text/x-python",
   "name": "python",
   "nbconvert_exporter": "python",
   "pygments_lexer": "ipython3",
   "version": "3.9.9"
  }
 },
 "nbformat": 4,
 "nbformat_minor": 5
}
