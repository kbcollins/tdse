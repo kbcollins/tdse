{
 "cells": [
  {
   "cell_type": "code",
   "execution_count": 1,
   "metadata": {
    "collapsed": true
   },
   "outputs": [],
   "source": [
    "import numpy as np\n",
    "import numpy.linalg as nl\n",
    "import matplotlib.pyplot as plt\n",
    "import scipy.optimize as so\n",
    "import jax\n",
    "import jax.numpy as jnp\n",
    "# from jax.config import config\n",
    "jax.config.update(\"jax_enable_x64\", True)"
   ]
  },
  {
   "cell_type": "markdown",
   "source": [
    "<h1>Forward Problem</h1>"
   ],
   "metadata": {
    "collapsed": false,
    "pycharm": {
     "name": "#%% md\n"
    }
   }
  },
  {
   "cell_type": "code",
   "execution_count": 2,
   "outputs": [
    {
     "name": "stdout",
     "output_type": "stream",
     "text": [
      "l2 error xvec: 9.41008164741723e-15\n"
     ]
    },
    {
     "data": {
      "text/plain": "<Figure size 432x288 with 1 Axes>",
      "image/png": "[encoded data removed]"
     },
     "metadata": {
      "needs_background": "light"
     },
     "output_type": "display_data"
    }
   ],
   "source": [
    "L = 5.0\n",
    "\n",
    "dt = 0.25\n",
    "\n",
    "tvec = np.arange(0, 5, dt)\n",
    "\n",
    "a = 0.5\n",
    "\n",
    "x0 = 2.0\n",
    "\n",
    "xvec = [x0]\n",
    "for i in range(len(tvec) - 1):\n",
    "    xvec.append(xvec[-1] * np.exp(a * dt))\n",
    "\n",
    "xvec = np.array(xvec)\n",
    "\n",
    "print('l2 error xvec:', nl.norm(x0 * np.exp(a * tvec) - xvec))\n",
    "\n",
    "plt.plot(tvec, x0 * np.exp(a * tvec), label = 'analytic')\n",
    "plt.plot(tvec, xvec, label = 'numeric')\n",
    "plt.xlabel('time')\n",
    "plt.ylabel('x')\n",
    "plt.legend()\n",
    "plt.show()"
   ],
   "metadata": {
    "collapsed": false,
    "pycharm": {
     "name": "#%%\n"
    }
   }
  },
  {
   "cell_type": "markdown",
   "source": [
    "---\n",
    "<h1>Inverse Problem</h1>"
   ],
   "metadata": {
    "collapsed": false,
    "pycharm": {
     "name": "#%% md\n"
    }
   }
  },
  {
   "cell_type": "code",
   "execution_count": 3,
   "outputs": [
    {
     "name": "stdout",
     "output_type": "stream",
     "text": [
      "-3.3496901438904656\n",
      "5.057825916067559e-07\n"
     ]
    }
   ],
   "source": [
    "thetahat = np.random.default_rng().uniform(-5, 5)\n",
    "print(thetahat)\n",
    "\n",
    "xhatvec = [x0]\n",
    "for i in range(len(tvec) - 1):\n",
    "    xhatvec.append(xhatvec[-1] * np.exp(thetahat * dt))\n",
    "\n",
    "xhatvec = np.array(xhatvec)\n",
    "\n",
    "gradxhat = 0\n",
    "for i in range(1, len(tvec)):\n",
    "    gradxhat += dt * np.exp(i * thetahat * dt) * xhatvec[-i]\n",
    "\n",
    "print(gradxhat)"
   ],
   "metadata": {
    "collapsed": false,
    "pycharm": {
     "name": "#%%\n"
    }
   }
  },
  {
   "cell_type": "code",
   "execution_count": 4,
   "outputs": [
    {
     "name": "stdout",
     "output_type": "stream",
     "text": [
      "[11 12]\n",
      "[1]\n"
     ]
    }
   ],
   "source": [
    "print(np.array([11, 12, 13, 14, 15, 16])[0:2])\n",
    "\n",
    "print(np.arange(1, 2))"
   ],
   "metadata": {
    "collapsed": false,
    "pycharm": {
     "name": "#%%\n"
    }
   }
  },
  {
   "cell_type": "code",
   "execution_count": 70,
   "outputs": [],
   "source": [
    "def directmethod(theta):\n",
    "    # propagate with theta and compute gradient of objective\n",
    "    thisxhat = x0\n",
    "    gradJ = 0.0\n",
    "    thisgradxhat = 0.0\n",
    "    for i in range(1, len(tvec)):\n",
    "        # propagate one from the previous state\n",
    "        thisxhat = thisxhat * jnp.exp(theta * dt)\n",
    "        thisgradxhat = jnp.exp(theta * dt) * (dt * thisxhat + thisgradxhat)\n",
    "        gradJ += -(xvec[i] - thisxhat) * thisgradxhat\n",
    "        # print(xvec[i] - thisxhat, thisgradxhat, gradJ)\n",
    "\n",
    "    return gradJ"
   ],
   "metadata": {
    "collapsed": false,
    "pycharm": {
     "name": "#%%\n"
    }
   }
  },
  {
   "cell_type": "code",
   "execution_count": 71,
   "outputs": [
    {
     "name": "stdout",
     "output_type": "stream",
     "text": [
      "0.0\n"
     ]
    }
   ],
   "source": [
    "print(directmethod(a))"
   ],
   "metadata": {
    "collapsed": false,
    "pycharm": {
     "name": "#%%\n"
    }
   }
  },
  {
   "cell_type": "code",
   "execution_count": 72,
   "outputs": [],
   "source": [
    "def obj(theta):\n",
    "    # propagate with theta\n",
    "    xhatvec = [x0]\n",
    "    for i in range(len(tvec) - 1):\n",
    "        xhatvec.append(jnp.exp(theta * dt) * xhatvec[-1])\n",
    "\n",
    "    xhatvec = jnp.array(xhatvec)\n",
    "\n",
    "    return 0.5 * jnp.sum((xvec - xhatvec)**2)\n",
    "\n"
   ],
   "metadata": {
    "collapsed": false,
    "pycharm": {
     "name": "#%%\n"
    }
   }
  },
  {
   "cell_type": "code",
   "execution_count": 73,
   "outputs": [
    {
     "name": "stdout",
     "output_type": "stream",
     "text": [
      "0.0\n"
     ]
    }
   ],
   "source": [
    "print(obj(a))"
   ],
   "metadata": {
    "collapsed": false,
    "pycharm": {
     "name": "#%%\n"
    }
   }
  },
  {
   "cell_type": "code",
   "execution_count": 74,
   "outputs": [
    {
     "name": "stdout",
     "output_type": "stream",
     "text": [
      "-0.0\n"
     ]
    }
   ],
   "source": [
    "gradobj = jax.grad(obj)\n",
    "print(gradobj(a))"
   ],
   "metadata": {
    "collapsed": false,
    "pycharm": {
     "name": "#%%\n"
    }
   }
  },
  {
   "cell_type": "code",
   "execution_count": 75,
   "outputs": [
    {
     "name": "stdout",
     "output_type": "stream",
     "text": [
      "grad error: 21.602779738221898\n",
      "grad error: 87.68270599533321\n",
      "grad error: 20.98476148245254\n",
      "grad error: 178.24628000965618\n",
      "grad error: 141.3197648472235\n",
      "grad error: 13.618091549173869\n",
      "grad error: 56.89118982261266\n",
      "grad error: 4.916716283855294\n",
      "grad error: 6.635079630149903\n",
      "grad error: 3.0083403337274603\n",
      "grad error: 39.768646412625685\n",
      "grad error: 68.90269438316204\n",
      "grad error: 9.224843660462057\n",
      "grad error: 24.26877474161512\n",
      "grad error: 23.566545521565757\n",
      "grad error: 20.549407332008002\n",
      "grad error: 22.18437332037763\n",
      "grad error: 47.32844876738454\n",
      "grad error: 24.195265694275918\n",
      "grad error: 6.022362672495092\n",
      "grad error: 106.45335822905736\n",
      "grad error: 22.201715033564597\n",
      "grad error: 5.642167923285228\n",
      "grad error: 17.92735285218498\n",
      "grad error: 9.156860079608578\n",
      "grad error: 186.63262069424673\n",
      "grad error: 22.910234419111077\n",
      "grad error: 123.0836067805285\n",
      "grad error: 119.46594868216448\n",
      "grad error: 155.13115608026146\n",
      "grad error: 2.150407684755578\n",
      "grad error: 23.68309206005256\n",
      "grad error: 47.485329707143364\n",
      "grad error: 23.536101096790645\n",
      "grad error: 22.510803827675772\n",
      "grad error: 69.82909605310942\n",
      "grad error: 183.9373977850828\n",
      "grad error: 22.76910850927615\n",
      "grad error: 89.31224199240819\n",
      "grad error: 75.7497135169815\n",
      "grad error: 24.351101921518193\n",
      "grad error: 165.43922289471902\n",
      "grad error: 23.77329818605517\n",
      "grad error: 21.533971073790724\n",
      "grad error: 13.52238464923721\n",
      "grad error: 56.99443078953709\n",
      "grad error: 126.68887251611818\n",
      "grad error: 21.17894924115606\n",
      "grad error: 90.6194733537759\n",
      "grad error: 9.739613594192406\n"
     ]
    }
   ],
   "source": [
    "# check direct grads against JAX grads\n",
    "\n",
    "for _ in range(50):\n",
    "    thetahat = np.random.default_rng().uniform(-0.5, 0.5)\n",
    "    # print(thetahat, directmethod(thetahat), gradobj(thetahat))\n",
    "    print('grad error:', np.abs(directmethod(thetahat) - gradobj(thetahat)))\n",
    "    # print('obj:', obj(thetahat))"
   ],
   "metadata": {
    "collapsed": false,
    "pycharm": {
     "name": "#%%\n"
    }
   }
  },
  {
   "cell_type": "code",
   "execution_count": 11,
   "outputs": [
    {
     "name": "stdout",
     "output_type": "stream",
     "text": [
      "a: 0.5\n",
      "thetahat initial: 0.6823518632481435\n",
      "thetahat final: 0.48126917685700815\n",
      "thetahat final: 0.4868172307300783\n",
      "thetahat final: 0.49086115762751714\n",
      "thetahat final: 0.4937372028553947\n",
      "thetahat final: 0.4957443663334801\n",
      "thetahat final: 0.4971257164108153\n",
      "thetahat final: 0.4980668990670325\n",
      "thetahat final: 0.4987036833099559\n",
      "thetahat final: 0.499132433261756\n",
      "thetahat final: 0.4994201584437498\n",
      "thetahat final: 0.499612812271338\n",
      "thetahat final: 0.49974161383224447\n",
      "thetahat final: 0.49982763869518976\n",
      "thetahat final: 0.4998850545368696\n",
      "thetahat final: 0.4999233583613716\n",
      "thetahat final: 0.49994890423282434\n",
      "thetahat final: 0.49996593802396316\n",
      "thetahat final: 0.49997729449010153\n",
      "thetahat final: 0.4999848651885995\n",
      "thetahat final: 0.49998991183160685\n",
      "thetahat final: 0.4999932757992687\n",
      "thetahat final: 0.4999955180771685\n",
      "thetahat final: 0.49999701265771707\n",
      "thetahat final: 0.4999980088520319\n",
      "thetahat final: 0.49999867284786714\n",
      "thetahat final: 0.49999911542030223\n",
      "thetahat final: 0.49999941040659773\n",
      "thetahat final: 0.4999996070223463\n",
      "thetahat final: 0.4999997380714587\n",
      "thetahat final: 0.49999982541874455\n",
      "thetahat final: 0.4999998836377045\n",
      "thetahat final: 0.4999999224419524\n",
      "thetahat final: 0.49999994830584976\n",
      "thetahat final: 0.4999999655447108\n",
      "thetahat final: 0.4999999770347925\n",
      "thetahat final: 0.49999998469318496\n",
      "thetahat final: 0.4999999897976719\n",
      "thetahat final: 0.49999999319992466\n",
      "thetahat final: 0.49999999546760077\n",
      "thetahat final: 0.4999999969790565\n",
      "thetahat final: 0.49999999798647493\n",
      "thetahat final: 0.4999999986579415\n",
      "thetahat final: 0.4999999991054886\n",
      "thetahat final: 0.49999999940378853\n",
      "thetahat final: 0.4999999996026121\n",
      "thetahat final: 0.49999999973513226\n",
      "thetahat final: 0.4999999998234598\n",
      "thetahat final: 0.49999999988233207\n",
      "thetahat final: 0.49999999992157174\n",
      "thetahat final: 0.4999999999477259\n"
     ]
    }
   ],
   "source": [
    "# grad decent using direct method grad\n",
    "\n",
    "# grad decent step size\n",
    "ss = 0.00001\n",
    "\n",
    "thetahat = np.random.default_rng(123).uniform()\n",
    "# thetahat = a + np.random.default_rng(123).uniform(-0.05, 0.05)\n",
    "\n",
    "print('a:', a)\n",
    "print('thetahat initial:', thetahat)\n",
    "\n",
    "for i in range(50):\n",
    "    thetahat -= ss * directmethod(thetahat)\n",
    "\n",
    "    print('thetahat final:', thetahat)\n"
   ],
   "metadata": {
    "collapsed": false,
    "pycharm": {
     "name": "#%%\n"
    }
   }
  },
  {
   "cell_type": "code",
   "execution_count": 57,
   "outputs": [],
   "source": [
    "def adjmethod(theta):\n",
    "    # propagate with theta\n",
    "    xhatvec = [x0]\n",
    "    for i in range(len(tvec) - 1):\n",
    "        xhatvec.append(xhatvec[-1] * jnp.exp(theta * dt))\n",
    "\n",
    "    xhatvec = jnp.array(xhatvec)\n",
    "\n",
    "    # propagate backwards lambda\n",
    "    # build lambdavec vec backwards then flip at end\n",
    "    lambdavec = [xvec[-1] - xhatvec[-1]]\n",
    "    for i in range(2, len(tvec) - 1):\n",
    "        lambdavec.append(xvec[-i] - xhatvec[-i] + lambdavec[-1] * jnp.exp(theta * dt))\n",
    "\n",
    "    lambdavec = jnp.flip(jnp.array(lambdavec))\n",
    "    # lambdavec = jnp.concatenate((jnp.array([0.0]), jnp.flip(jnp.array(lambdavec[1:]))))\n",
    "    # print('lambda_1:', lambdavec[0])\n",
    "\n",
    "    # problem: true grad seems to be neg of this, but math says this is correct\n",
    "    # return dt * jnp.exp(theta * dt) * (lambdavec @ xhatvec[:-2])\n",
    "    return -1 * dt * jnp.exp(theta * dt) * (lambdavec @ xhatvec[:-2])\n",
    "    # print(lambdavec @ xhatvec[:-2] - jnp.sum(lambdavec * xhatvec[:-2]))\n",
    "    # return dt * jnp.exp(theta * dt) * jnp.sum(lambdavec * xhatvec[:-2])"
   ],
   "metadata": {
    "collapsed": false,
    "pycharm": {
     "name": "#%%\n"
    }
   }
  },
  {
   "cell_type": "code",
   "execution_count": 58,
   "outputs": [
    {
     "name": "stdout",
     "output_type": "stream",
     "text": [
      "-0.0\n"
     ]
    }
   ],
   "source": [
    "print(adjmethod(a))"
   ],
   "metadata": {
    "collapsed": false,
    "pycharm": {
     "name": "#%%\n"
    }
   }
  },
  {
   "cell_type": "code",
   "execution_count": 59,
   "outputs": [
    {
     "name": "stdout",
     "output_type": "stream",
     "text": [
      "0.4965618254250124 -93.0607239231896 -112.18087356724152\n",
      "grad error: 19.12014964405192\n",
      "0.5048137824025641 137.03592779803304 165.51658426371083\n",
      "grad error: 28.480656465677782\n",
      "0.5048808354175288 139.00181125825785 167.89372982487967\n",
      "grad error: 28.891918566621825\n",
      "0.49536215925297583 -124.6162726031509 -150.17683270163442\n",
      "grad error: 25.56056009848352\n",
      "0.49736958634560424 -71.54910950157732 -86.2661193509282\n",
      "grad error: 14.717009849350873\n",
      "0.5034449324227416 97.25000773342107 117.42346770326206\n",
      "grad error: 20.17345996984099\n",
      "0.5033412036498659 94.26190230769467 113.81269609308657\n",
      "grad error: 19.550793785391903\n",
      "0.49774945989439634 -61.35844595128631 -73.9860285299736\n",
      "grad error: 12.627582578687282\n",
      "0.4975804624374694 -65.89792963800025 -79.45653733874036\n",
      "grad error: 13.558607700740112\n",
      "0.495288516573893 -126.53814330820217 -152.4902292233819\n",
      "grad error: 25.952085915179737\n"
     ]
    }
   ],
   "source": [
    "# check adjoint grads against JAX grads\n",
    "\n",
    "for _ in range(10):\n",
    "    thetahat = a + np.random.default_rng().uniform(-0.005, 0.005)\n",
    "    # thetahat = np.random.default_rng().uniform(-0.5, 0.5)\n",
    "    print(thetahat, adjmethod(thetahat), gradobj(thetahat))\n",
    "    print('grad error:', np.abs(adjmethod(thetahat) - gradobj(thetahat)))"
   ],
   "metadata": {
    "collapsed": false,
    "pycharm": {
     "name": "#%%\n"
    }
   }
  },
  {
   "cell_type": "code",
   "execution_count": null,
   "outputs": [],
   "source": [],
   "metadata": {
    "collapsed": false,
    "pycharm": {
     "name": "#%%\n"
    }
   }
  }
 ],
 "metadata": {
  "kernelspec": {
   "display_name": "Python 3",
   "language": "python",
   "name": "python3"
  },
  "language_info": {
   "codemirror_mode": {
    "name": "ipython",
    "version": 2
   },
   "file_extension": ".py",
   "mimetype": "text/x-python",
   "name": "python",
   "nbconvert_exporter": "python",
   "pygments_lexer": "ipython2",
   "version": "2.7.6"
  }
 },
 "nbformat": 4,
 "nbformat_minor": 0
}