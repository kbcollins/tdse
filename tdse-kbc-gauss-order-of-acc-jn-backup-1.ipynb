{
 "cells": [
  {
   "cell_type": "code",
   "execution_count": 1,
   "metadata": {
    "collapsed": true
   },
   "outputs": [],
   "source": [
    "import numpy as np\n",
    "import numpy.linalg as nl\n",
    "import scipy.linalg as sl\n",
    "import scipy.integrate as si\n",
    "import matplotlib.pyplot as plt"
   ]
  },
  {
   "cell_type": "code",
   "execution_count": 2,
   "outputs": [],
   "source": [
    "def xj(J, L):\n",
    "    h = L/J\n",
    "    return np.arange(-J, J+1) * h"
   ],
   "metadata": {
    "collapsed": false,
    "pycharm": {
     "name": "#%%\n"
    }
   }
  },
  {
   "cell_type": "code",
   "execution_count": 3,
   "outputs": [],
   "source": [
    "# function we are trying to approximate\n",
    "def f(x, choice=4):\n",
    "    if choice == 0:\n",
    "        # dimensionless quantum harmonic oscillator potential\n",
    "        return 0.5 * x**2\n",
    "    elif choice == 1:\n",
    "        # symmetric double well potential\n",
    "        return 0.0025 * (x ** 2 - 25) ** 2\n",
    "    elif choice == 2:\n",
    "        # asymmetric double well potential\n",
    "        return 0.0003 * ((x - 3) ** 4 + 10 * (x - 5) ** 3)\n",
    "    elif choice == 3:\n",
    "        # soft coulomb potential\n",
    "        return -1 / np.sqrt(x ** 2 + 0.25)\n",
    "    elif choice == 4:\n",
    "        # a complicated function made by Harish\n",
    "        return np.cos(x**2) - x*np.sin(x)\n",
    "    else:\n",
    "        print('Function v(x, choice=0): Did not recognise your input for choice.')"
   ],
   "metadata": {
    "collapsed": false,
    "pycharm": {
     "name": "#%%\n"
    }
   }
  },
  {
   "cell_type": "code",
   "execution_count": 4,
   "outputs": [],
   "source": [
    "# define Gaussian basis function\n",
    "# Gaussian centered at grid point j*h with shape parameter alpha\n",
    "# x can be a vector\n",
    "def gb(x, j, h, alpha):\n",
    "    return np.exp(-alpha * (x - j*h)**2)\n",
    "\n",
    "# matrix version of gb\n",
    "def gbm(x, alpha):\n",
    "    return np.exp(-alpha * x**2)"
   ],
   "metadata": {
    "collapsed": false,
    "pycharm": {
     "name": "#%%\n"
    }
   }
  },
  {
   "cell_type": "code",
   "execution_count": 17,
   "outputs": [],
   "source": [
    "# function for computing the L2 error given some number of basis\n",
    "def loopfn(J, L, alpha):\n",
    "    # make vector of xj values\n",
    "    xjvec = xj(J, L)\n",
    "\n",
    "    # make arrays that can be used in vectorized evaluations\n",
    "    xj1, xj2 = np.meshgrid(xjvec, xjvec, sparse=True)\n",
    "\n",
    "    # make Gaussian basis matrix.\n",
    "    # We want gbmat @ gbcfs = vtrue, so each row in gbmat is\n",
    "    # the Gaussian basis representation for one value of x\n",
    "    gbmat = gbm(xj1 - xj2, alpha)\n",
    "\n",
    "    # compute vector of the function evaluated on grid\n",
    "    fxjtrue = f(xjvec)\n",
    "\n",
    "    # use solve to compute Gaussian basis coefficients\n",
    "    gbcfs = sl.solve(gbmat, fxjtrue, assume_a='sym')\n",
    "\n",
    "    # reconstruct function from coefficients\n",
    "    fxjprdt = gbmat @ gbcfs\n",
    "\n",
    "    # function representation of L2 norm\n",
    "    def integrand(x):\n",
    "        xm, xjm = np.meshgrid(x, xjvec, indexing='ij', sparse=True)\n",
    "\n",
    "        # when more than one x point is evaluated, x forms the rows\n",
    "        # and xj forms the columns\n",
    "        gatx = gbm(xm - xjm, alpha)\n",
    "\n",
    "        return np.square(gatx @ gbcfs - f(x))\n",
    "\n",
    "    # integrate to get the square of the L2 error\n",
    "    l2errsq, _ = si.quadrature(integrand, -L, L, maxiter=500, tol=1e-8, rtol=1e-8)\n",
    "    return xjvec, fxjtrue, fxjprdt, np.sqrt(l2errsq), L/J"
   ],
   "metadata": {
    "collapsed": false,
    "pycharm": {
     "name": "#%%\n"
    }
   }
  },
  {
   "cell_type": "code",
   "execution_count": 19,
   "outputs": [
    {
     "name": "stderr",
     "output_type": "stream",
     "text": [
      "/var/folders/pz/wy3lg_ps0fg986p2nzxcqlf00000gp/T/ipykernel_77161/336894881.py:18: LinAlgWarning: Ill-conditioned matrix (rcond=2.19607e-20): result may not be accurate.\n",
      "  gbcfs = sl.solve(gbmat, fxjtrue, assume_a='sym')\n"
     ]
    },
    {
     "data": {
      "text/plain": "<Figure size 432x288 with 1 Axes>",
      "image/png": "[encoded data removed]"
     },
     "metadata": {
      "needs_background": "light"
     },
     "output_type": "display_data"
    },
    {
     "name": "stdout",
     "output_type": "stream",
     "text": [
      "L2 Error: 0.0001399555132323139\n",
      "h value: 0.06283185307179587\n"
     ]
    }
   ],
   "source": [
    "xjvec, vxjtrue, vxjprdt, l2err, hval = loopfn(J=100, L=2*np.pi, alpha=3.0)\n",
    "\n",
    "# plot the truth vs reconstruction\n",
    "plt.plot(xjvec, vxjprdt, label='Predict')\n",
    "plt.plot(xjvec, vxjtrue, label='Truth')\n",
    "plt.legend()\n",
    "plt.show()\n",
    "\n",
    "print(f'L2 Error: {l2err}', f'h value: {hval}', sep='\\n')"
   ],
   "metadata": {
    "collapsed": false,
    "pycharm": {
     "name": "#%%\n"
    }
   }
  },
  {
   "cell_type": "markdown",
   "source": [
    "---"
   ],
   "metadata": {
    "collapsed": false,
    "pycharm": {
     "name": "#%% md\n"
    }
   }
  },
  {
   "cell_type": "code",
   "execution_count": 21,
   "outputs": [
    {
     "name": "stdout",
     "output_type": "stream",
     "text": [
      "Computing 1 of 55\n",
      "Computing 2 of 55\n",
      "Computing 3 of 55\n",
      "Computing 4 of 55\n",
      "Computing 5 of 55\n",
      "Computing 6 of 55\n",
      "Computing 7 of 55\n",
      "Computing 8 of 55\n",
      "Computing 9 of 55\n",
      "Computing 10 of 55\n",
      "Computing 11 of 55\n",
      "Computing 12 of 55\n",
      "Computing 13 of 55\n",
      "Computing 14 of 55\n",
      "Computing 15 of 55\n",
      "Computing 16 of 55\n",
      "Computing 17 of 55\n",
      "Computing 18 of 55\n",
      "Computing 19 of 55\n",
      "Computing 20 of 55\n",
      "Computing 21 of 55\n",
      "Computing 22 of 55\n",
      "Computing 23 of 55\n",
      "Computing 24 of 55\n",
      "Computing 25 of 55\n",
      "Computing 26 of 55\n",
      "Computing 27 of 55\n",
      "Computing 28 of 55\n",
      "Computing 29 of 55\n",
      "Computing 30 of 55\n",
      "Computing 31 of 55\n",
      "Computing 32 of 55\n",
      "Computing 33 of 55\n",
      "Computing 34 of 55\n",
      "Computing 35 of 55\n",
      "Computing 36 of 55\n",
      "Computing 37 of 55\n",
      "Computing 38 of 55\n",
      "Computing 39 of 55\n",
      "Computing 40 of 55\n",
      "Computing 41 of 55\n",
      "Computing 42 of 55\n",
      "Computing 43 of 55\n",
      "Computing 44 of 55\n",
      "Computing 45 of 55\n",
      "Computing 46 of 55\n",
      "Computing 47 of 55\n",
      "Computing 48 of 55\n",
      "Computing 49 of 55\n",
      "Computing 50 of 55\n",
      "Computing 51 of 55\n",
      "Computing 52 of 55\n",
      "Computing 53 of 55\n",
      "Computing 54 of 55\n",
      "Computing 55 of 55\n"
     ]
    },
    {
     "name": "stderr",
     "output_type": "stream",
     "text": [
      "/var/folders/pz/wy3lg_ps0fg986p2nzxcqlf00000gp/T/ipykernel_77161/336894881.py:18: LinAlgWarning: Ill-conditioned matrix (rcond=4.56661e-17): result may not be accurate.\n",
      "  gbcfs = sl.solve(gbmat, fxjtrue, assume_a='sym')\n",
      "/var/folders/pz/wy3lg_ps0fg986p2nzxcqlf00000gp/T/ipykernel_77161/336894881.py:18: LinAlgWarning: Ill-conditioned matrix (rcond=1.90134e-17): result may not be accurate.\n",
      "  gbcfs = sl.solve(gbmat, fxjtrue, assume_a='sym')\n",
      "/var/folders/pz/wy3lg_ps0fg986p2nzxcqlf00000gp/T/ipykernel_77161/336894881.py:18: LinAlgWarning: Ill-conditioned matrix (rcond=3.42011e-18): result may not be accurate.\n",
      "  gbcfs = sl.solve(gbmat, fxjtrue, assume_a='sym')\n",
      "/var/folders/pz/wy3lg_ps0fg986p2nzxcqlf00000gp/T/ipykernel_77161/336894881.py:18: LinAlgWarning: Ill-conditioned matrix (rcond=2.57988e-18): result may not be accurate.\n",
      "  gbcfs = sl.solve(gbmat, fxjtrue, assume_a='sym')\n",
      "/var/folders/pz/wy3lg_ps0fg986p2nzxcqlf00000gp/T/ipykernel_77161/336894881.py:18: LinAlgWarning: Ill-conditioned matrix (rcond=2.65489e-18): result may not be accurate.\n",
      "  gbcfs = sl.solve(gbmat, fxjtrue, assume_a='sym')\n",
      "/var/folders/pz/wy3lg_ps0fg986p2nzxcqlf00000gp/T/ipykernel_77161/336894881.py:18: LinAlgWarning: Ill-conditioned matrix (rcond=1.15797e-18): result may not be accurate.\n",
      "  gbcfs = sl.solve(gbmat, fxjtrue, assume_a='sym')\n",
      "/var/folders/pz/wy3lg_ps0fg986p2nzxcqlf00000gp/T/ipykernel_77161/336894881.py:18: LinAlgWarning: Ill-conditioned matrix (rcond=1.34831e-19): result may not be accurate.\n",
      "  gbcfs = sl.solve(gbmat, fxjtrue, assume_a='sym')\n",
      "/var/folders/pz/wy3lg_ps0fg986p2nzxcqlf00000gp/T/ipykernel_77161/336894881.py:18: LinAlgWarning: Ill-conditioned matrix (rcond=6.43776e-19): result may not be accurate.\n",
      "  gbcfs = sl.solve(gbmat, fxjtrue, assume_a='sym')\n",
      "/var/folders/pz/wy3lg_ps0fg986p2nzxcqlf00000gp/T/ipykernel_77161/336894881.py:18: LinAlgWarning: Ill-conditioned matrix (rcond=1.0911e-19): result may not be accurate.\n",
      "  gbcfs = sl.solve(gbmat, fxjtrue, assume_a='sym')\n",
      "/var/folders/pz/wy3lg_ps0fg986p2nzxcqlf00000gp/T/ipykernel_77161/336894881.py:18: LinAlgWarning: Ill-conditioned matrix (rcond=2.22982e-19): result may not be accurate.\n",
      "  gbcfs = sl.solve(gbmat, fxjtrue, assume_a='sym')\n",
      "/var/folders/pz/wy3lg_ps0fg986p2nzxcqlf00000gp/T/ipykernel_77161/336894881.py:18: LinAlgWarning: Ill-conditioned matrix (rcond=7.26698e-20): result may not be accurate.\n",
      "  gbcfs = sl.solve(gbmat, fxjtrue, assume_a='sym')\n",
      "/var/folders/pz/wy3lg_ps0fg986p2nzxcqlf00000gp/T/ipykernel_77161/336894881.py:18: LinAlgWarning: Ill-conditioned matrix (rcond=1.57824e-18): result may not be accurate.\n",
      "  gbcfs = sl.solve(gbmat, fxjtrue, assume_a='sym')\n",
      "/var/folders/pz/wy3lg_ps0fg986p2nzxcqlf00000gp/T/ipykernel_77161/336894881.py:18: LinAlgWarning: Ill-conditioned matrix (rcond=1.7126e-19): result may not be accurate.\n",
      "  gbcfs = sl.solve(gbmat, fxjtrue, assume_a='sym')\n",
      "/var/folders/pz/wy3lg_ps0fg986p2nzxcqlf00000gp/T/ipykernel_77161/336894881.py:18: LinAlgWarning: Ill-conditioned matrix (rcond=2.1813e-19): result may not be accurate.\n",
      "  gbcfs = sl.solve(gbmat, fxjtrue, assume_a='sym')\n",
      "/var/folders/pz/wy3lg_ps0fg986p2nzxcqlf00000gp/T/ipykernel_77161/336894881.py:18: LinAlgWarning: Ill-conditioned matrix (rcond=5.69117e-20): result may not be accurate.\n",
      "  gbcfs = sl.solve(gbmat, fxjtrue, assume_a='sym')\n",
      "/var/folders/pz/wy3lg_ps0fg986p2nzxcqlf00000gp/T/ipykernel_77161/336894881.py:18: LinAlgWarning: Ill-conditioned matrix (rcond=2.3445e-19): result may not be accurate.\n",
      "  gbcfs = sl.solve(gbmat, fxjtrue, assume_a='sym')\n",
      "/var/folders/pz/wy3lg_ps0fg986p2nzxcqlf00000gp/T/ipykernel_77161/336894881.py:18: LinAlgWarning: Ill-conditioned matrix (rcond=7.32791e-19): result may not be accurate.\n",
      "  gbcfs = sl.solve(gbmat, fxjtrue, assume_a='sym')\n"
     ]
    }
   ],
   "source": [
    "jspace = np.arange(5, 60)\n",
    "lenjspace = len(jspace)\n",
    "hvec = np.zeros(lenjspace, dtype=float)\n",
    "errvec = np.zeros(lenjspace, dtype=float)\n",
    "bigL = 2*np.pi\n",
    "\n",
    "# main loop\n",
    "for i in range(lenjspace):\n",
    "    print(f'Computing {i+1} of {lenjspace}')\n",
    "    _, _, _, errvec[i], hvec[i] = loopfn(J=jspace[i], L=bigL, alpha=3.0)\n"
   ],
   "metadata": {
    "collapsed": false,
    "pycharm": {
     "name": "#%%\n"
    }
   }
  },
  {
   "cell_type": "code",
   "execution_count": 22,
   "outputs": [
    {
     "data": {
      "text/plain": "<Figure size 432x288 with 1 Axes>",
      "image/png": "[encoded data removed]"
     },
     "metadata": {
      "needs_background": "light"
     },
     "output_type": "display_data"
    }
   ],
   "source": [
    "plt.loglog(hvec, errvec)\n",
    "plt.xscale('log', base=2)\n",
    "plt.yscale('log', base=10)\n",
    "plt.title('Log Error vs. Log h')\n",
    "plt.xlabel('h')\n",
    "plt.ylabel('L2 Error')\n",
    "plt.show()\n",
    "#plt.savefig('./order-of-accuracy-results/error-vs-h-plot.pdf')"
   ],
   "metadata": {
    "collapsed": false,
    "pycharm": {
     "name": "#%%\n"
    }
   }
  },
  {
   "cell_type": "code",
   "execution_count": null,
   "outputs": [],
   "source": [],
   "metadata": {
    "collapsed": false,
    "pycharm": {
     "name": "#%%\n"
    }
   }
  }
 ],
 "metadata": {
  "kernelspec": {
   "display_name": "Python 3",
   "language": "python",
   "name": "python3"
  },
  "language_info": {
   "codemirror_mode": {
    "name": "ipython",
    "version": 2
   },
   "file_extension": ".py",
   "mimetype": "text/x-python",
   "name": "python",
   "nbconvert_exporter": "python",
   "pygments_lexer": "ipython2",
   "version": "2.7.6"
  }
 },
 "nbformat": 4,
 "nbformat_minor": 0
}