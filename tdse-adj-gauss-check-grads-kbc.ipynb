{
 "cells": [
  {
   "cell_type": "code",
   "execution_count": 24,
   "metadata": {
    "collapsed": true
   },
   "outputs": [],
   "source": [
    "from jax.config import config\n",
    "config.update(\"jax_enable_x64\", True)\n",
    "import jax\n",
    "import jax.numpy as jnp\n",
    "import numpy as np\n",
    "import numpy.linalg as nl\n",
    "import scipy.linalg as sl\n",
    "import scipy.optimize as so\n",
    "import scipy.integrate as si\n",
    "import matplotlib.pyplot as plt\n",
    "import time"
   ]
  },
  {
   "cell_type": "code",
   "execution_count": 2,
   "outputs": [],
   "source": [
    "# set up computational parameters (such as computational region)\n",
    "\n",
    "# set radius of spatial domain\n",
    "l = 16\n",
    "\n",
    "# set number of real space grid points\n",
    "nx = 1025\n",
    "# real space spatial grid for the purposes of plotting\n",
    "xvec = np.linspace(-l, l, nx)\n",
    "\n",
    "# set number of Fourier basis from n = -nF to n = nF\n",
    "nF = 256\n",
    "# matrix for converting Fourier basis coefficients into real space\n",
    "# wave functions by matrix multiplication\n",
    "nvec = np.arange(-nF, nF + 1)\n",
    "Fcnvrmat = np.exp(1j * np.pi * np.outer(nvec, xvec) / l) / np.sqrt(2 * l)"
   ],
   "metadata": {
    "collapsed": false,
    "pycharm": {
     "name": "#%%\n"
    }
   }
  },
  {
   "cell_type": "code",
   "execution_count": 3,
   "outputs": [
    {
     "data": {
      "text/plain": "<Figure size 432x288 with 1 Axes>",
      "image/png": "[encoded data removed]"
     },
     "metadata": {
      "needs_background": "light"
     },
     "output_type": "display_data"
    }
   ],
   "source": [
    "# define potential used to evolve the system\n",
    "\n",
    "def v(x):\n",
    "    # dimensionless quantum harmonic oscillator potential\n",
    "    # return 0.5 * x**2\n",
    "    # symmetric double well potential\n",
    "    return 0.25 * (x**2 - 25)**2\n",
    "    # rescaled symmetric double well potential\n",
    "    # return 0.0025 * (x**2 - 25)**2\n",
    "    # scaled asymmetric double well potential\n",
    "    # return 0.0003*((x-3)**4 + 10*(x-5)**3)\n",
    "    # soft coulomb potential\n",
    "    # return -1 / np.sqrt(x**2 + 0.25)\n",
    "\n",
    "# compute true potential at xvec real space grid points\n",
    "# vtruvec = v(xvec)\n",
    "\n",
    "# plot true potential\n",
    "plt.plot(xvec, v(xvec))\n",
    "plt.title('Plot of Potential')\n",
    "plt.xlabel('x')\n",
    "plt.show()"
   ],
   "metadata": {
    "collapsed": false,
    "pycharm": {
     "name": "#%%\n"
    }
   }
  },
  {
   "cell_type": "code",
   "execution_count": 4,
   "outputs": [],
   "source": [
    "# transform potential to Fourier basis\n",
    "\n",
    "# Fres can be adjusted to improve the Fourier basis resolution\n",
    "# if we set Fres = 1, then Fsample = 2*nfb, which is the\n",
    "# Nyquist frequency (which is low quality?)\n",
    "Fres = 100\n",
    "Fsample = Fres * 2 * nF\n",
    "# print(Fsample)\n",
    "Fxvec = np.linspace(-l, l, Fsample + 2, endpoint=False)\n",
    "# Fvvec = np.fft.rfft(v(Fxvec), norm='forward')[:(2 * nF + 1)]\n",
    "# this is what Harish uses\n",
    "Fvvec = (np.fft.rfft(v(Fxvec)) / Fxvec.size)[:(2 * nF + 1)]\n",
    "\n",
    "# this stores the Fourier series coefficients for n-m=0 to n-m=2*nmax\n",
    "vrow = Fvvec * (-1)**np.arange(2 * nF + 1)\n",
    "vmat = sl.toeplitz(r=vrow, c=vrow.conj())"
   ],
   "metadata": {
    "collapsed": false,
    "pycharm": {
     "name": "#%%\n"
    }
   }
  },
  {
   "cell_type": "code",
   "execution_count": 5,
   "outputs": [
    {
     "name": "stdout",
     "output_type": "stream",
     "text": [
      "(513,)\n",
      "(513, 1025)\n"
     ]
    },
    {
     "data": {
      "text/plain": "<Figure size 432x288 with 1 Axes>",
      "image/png": "[encoded data removed]"
     },
     "metadata": {
      "needs_background": "light"
     },
     "output_type": "display_data"
    },
    {
     "name": "stdout",
     "output_type": "stream",
     "text": [
      "Rel Norm Diff: 4.03989568596126e-09\n"
     ]
    }
   ],
   "source": [
    "# define initial state and transform to Fourier basis\n",
    "\n",
    "# I GET BETTER RESULTS WHEN I USE MY METHOD WHICH NORMALIZES\n",
    "# THE INITIAL WAVE FUNCTION RATHER THAN USING THE WAVE FUNCTION\n",
    "# NORMALIZED MANUALLY\n",
    "\n",
    "def psi0(x):\n",
    "    # rounded box function\n",
    "    # return 1.0 + np.tanh((1 - x**2)/0.5)\n",
    "    # HSB's manually normalized rounded box function\n",
    "    return (1.0 + np.tanh((1 - x**2)/0.5)) / 2.58046\n",
    "    # triangular pulse\n",
    "    # return np.piecewise(x, [x < -1, (x >= -1) & (x <= 1), x > 1], [0, lambda x: (1 - np.abs(x)), 0])\n",
    "    # parabolic pulse\n",
    "    # return np.piecewise(x, [x < -1, (x >= -1) & (x <= 1), x > 1], [0, lambda x: (1 - x**2), 0])\n",
    "    # hyperbolic secant squared\n",
    "    # return (np.cosh(x))**(-2)\n",
    "    # Laplace\n",
    "    # return np.exp(-np.abs(x))\n",
    "\n",
    "# def mknormpsifn(psifn):\n",
    "    # compute psi normalization term,\n",
    "    # this is a constant given some psi\n",
    "    # psiprobintegrand = lambda x: np.abs(psifn(x))**2\n",
    "    # normterm = np.sqrt(si.quad(psiprobintegrand, a=-l, b=l)[0])\n",
    "\n",
    "    # define function for computing normalized psi\n",
    "    # via scipy.integrate methods\n",
    "    # def normpsifn(x):\n",
    "    #     return psifn(x)/normterm\n",
    "\n",
    "    # return normpsifn\n",
    "\n",
    "# normpsi0fn = mknormpsifn(psi0)\n",
    "normpsi0fn = psi0 # when using Harish's psi0\n",
    "# vector of the normalized psi0 function sampled on the\n",
    "# real space grid for plotting\n",
    "normpsi0vec = normpsi0fn(xvec)\n",
    "\n",
    "# compute the Fourier basis representation of the\n",
    "# normalized psi0 function using a scipy.integrate method\n",
    "normpsi0integrand = lambda x: np.exp(-1j * np.pi * nvec * x / l) / np.sqrt(2 * l) * normpsi0fn(x)\n",
    "normpsi0quadrtn = si.quad_vec(normpsi0integrand, -l, l)[0]\n",
    "Fnormpsi0vec = si.quad_vec(normpsi0integrand, -l, l)[0]\n",
    "print(normpsi0quadrtn.shape)\n",
    "print(Fcnvrmat.shape)\n",
    "# Fnormpsi0vecrec2 = normpsi0quadrtn @ Fmat\n",
    "Fnormpsi0vecrec = normpsi0quadrtn @ Fcnvrmat\n",
    "\n",
    "# plot the real part of the normalized psi0\n",
    "plt.plot(xvec, Fnormpsi0vecrec.real, 'r', label=\"Rec\")\n",
    "plt.plot(xvec, normpsi0vec.real, 'k', label=\"Truth\")\n",
    "plt.title('Real Part of Initial Wave Function')\n",
    "plt.xlabel('x')\n",
    "plt.legend()\n",
    "plt.show()\n",
    "\n",
    "print('Rel Norm Diff:', nl.norm(normpsi0vec - Fnormpsi0vecrec) / nl.norm(normpsi0vec))"
   ],
   "metadata": {
    "collapsed": false,
    "pycharm": {
     "name": "#%%\n"
    }
   }
  },
  {
   "cell_type": "code",
   "execution_count": 6,
   "outputs": [
    {
     "name": "stdout",
     "output_type": "stream",
     "text": [
      "hmat Hermitian check (should be close to zero):\n",
      "0.0\n",
      "Check if hmat is diagonalized (should be close to zero):\n",
      "2.273227606745706e-10\n",
      "Unitary stts check (should be close to zero):\n",
      "6.589451280122539e-14\n"
     ]
    }
   ],
   "source": [
    "# construct the kinetic matrix representation of the\n",
    "# kinetic operator in the Fourier basis\n",
    "# (this is constant for a given system)\n",
    "kmat = np.diag(np.arange(-nF, nF + 1)**2 * np.pi**2 / (2 * l**2))\n",
    "\n",
    "# construct the Hamiltonian matrix representation of the\n",
    "# Hamiltonian operator in the Fourier basis\n",
    "hmat = kmat + vmat\n",
    "\n",
    "# check if the Hamiltonian matrix is Hermitian\n",
    "print('hmat Hermitian check (should be close to zero):', nl.norm(hmat - hmat.T.conj()), sep='\\n')\n",
    "\n",
    "# eigen-decomposition of the Hamiltonian matrix\n",
    "spc, stts = nl.eigh(hmat)\n",
    "\n",
    "# check if the eigendecomposition diagonalizes the\n",
    "# Hamiltonian matrix\n",
    "# if this is close to zero then\n",
    "# hmat = states @ np.diag(spec) @ np.conj(states).T\n",
    "print('Check if hmat is diagonalized (should be close to zero):', nl.norm(hmat @ stts - stts @ np.diag(spc)), sep='\\n')\n",
    "\n",
    "# check if the eigenstates are unitary\n",
    "print('Unitary stts check (should be close to zero):', nl.norm(stts @ stts.conj().T - np.eye(2 * nF + 1)), sep='\\n')"
   ],
   "metadata": {
    "collapsed": false,
    "pycharm": {
     "name": "#%%\n"
    }
   }
  },
  {
   "cell_type": "code",
   "execution_count": 7,
   "outputs": [],
   "source": [
    "# find indices that sort eigenvalues\n",
    "ordering = np.argsort(spc)"
   ],
   "metadata": {
    "collapsed": false,
    "pycharm": {
     "name": "#%%\n"
    }
   }
  },
  {
   "cell_type": "code",
   "execution_count": 8,
   "outputs": [
    {
     "data": {
      "text/plain": "<Figure size 432x288 with 1 Axes>",
      "image/png": "[encoded data removed]"
     },
     "metadata": {
      "needs_background": "light"
     },
     "output_type": "display_data"
    },
    {
     "name": "stdout",
     "output_type": "stream",
     "text": [
      "Quick check of Ground state' normalization (should be close to 1):\n",
      "0.9999999999999993\n",
      "Check of Ground state' normalization (should be close to 1):\n",
      "0.9999999999999994\n"
     ]
    }
   ],
   "source": [
    "# pick out and plot ground state\n",
    "groundstate = ordering[0]\n",
    "wavefn = stts[:,groundstate] @ Fcnvrmat\n",
    "plt.plot(xvec, -np.real(wavefn))\n",
    "plt.show()\n",
    "\n",
    "# quick and dirty check if the ground state wave function\n",
    "# is normalized\n",
    "print('Quick check of Ground state\\' normalization (should be close to 1):', np.sum(np.abs(wavefn)**2 * (xvec[1]-xvec[0])), sep='\\n')\n",
    "\n",
    "# this should be a more accurate check of the ground state\n",
    "# wave functions' normalization\n",
    "print('Check of Ground state\\' normalization (should be close to 1):', si.trapezoid(np.abs(wavefn)**2, xvec), sep='\\n')"
   ],
   "metadata": {
    "collapsed": false,
    "pycharm": {
     "name": "#%%\n"
    }
   }
  },
  {
   "cell_type": "code",
   "execution_count": 9,
   "outputs": [
    {
     "data": {
      "text/plain": "<Figure size 432x288 with 1 Axes>",
      "image/png": "[encoded data removed]"
     },
     "metadata": {
      "needs_background": "light"
     },
     "output_type": "display_data"
    },
    {
     "name": "stdout",
     "output_type": "stream",
     "text": [
      "Quick check of Ground state' normalization (should be close to 1):\n",
      "0.9999999999999998\n",
      "Check of Ground state' normalization (should be close to 1):\n",
      "0.9999999999999998\n"
     ]
    }
   ],
   "source": [
    "# pick out and plot the j-th state with j starting at 0\n",
    "wavefn = stts[:,ordering[1]] @ Fcnvrmat\n",
    "plt.plot(xvec, np.imag(wavefn))\n",
    "plt.show()\n",
    "\n",
    "# quick and dirty check if the ground state wave function\n",
    "# is normalized\n",
    "print('Quick check of Ground state\\' normalization (should be close to 1):', np.sum(np.abs(wavefn)**2 * (xvec[1]-xvec[0])), sep='\\n')\n",
    "\n",
    "# this should be a more accurate check of the ground state\n",
    "# wave functions' normalization\n",
    "print('Check of Ground state\\' normalization (should be close to 1):', si.trapezoid(np.abs(wavefn)**2, xvec), sep='\\n')"
   ],
   "metadata": {
    "collapsed": false,
    "pycharm": {
     "name": "#%%\n"
    }
   }
  },
  {
   "cell_type": "code",
   "execution_count": 10,
   "outputs": [
    {
     "data": {
      "text/plain": "<Figure size 432x288 with 1 Axes>",
      "image/png": "[encoded data removed]"
     },
     "metadata": {
      "needs_background": "light"
     },
     "output_type": "display_data"
    },
    {
     "name": "stdout",
     "output_type": "stream",
     "text": [
      "Average Norm of Trajectory (should be close to 1):\n",
      "0.9999966495223894\n"
     ]
    }
   ],
   "source": [
    "# solve the forward problem and generate amat\n",
    "# set the time step and compute the propagator matrix\n",
    "# note that we are reusing the spectrum and states from\n",
    "# the eigendecomposition of Hamiltonian matrix computed above\n",
    "\n",
    "# set the size of a time step\n",
    "dt = 0.01\n",
    "\n",
    "# make the propagator matrix\n",
    "propamat = stts @ np.diag(np.exp(-1j * spc * dt)) @ stts.conj().T\n",
    "\n",
    "# set the number of time steps to take starting from\n",
    "# the initial state (a single trajectory should be\n",
    "# nts + 1 states, this includes the initial state)\n",
    "nts = 2000\n",
    "\n",
    "# propagate the system starting from the initial \"a\" state\n",
    "amat = np.zeros((nts + 1, 2 * nF + 1), dtype=np.complex128)\n",
    "amat[0,:] = Fnormpsi0vec.copy()\n",
    "for i in range(nts):\n",
    "    amat[i + 1,:] = propamat @ amat[i,:]\n",
    "\n",
    "# check if the wave function of each time step\n",
    "# is normalized to 1\n",
    "# this should produce a graph with a line that is almost\n",
    "# completely horizontal at 1\n",
    "psimatnormvec = si.trapezoid(np.abs(amat @ Fcnvrmat) ** 2, xvec, axis=1)\n",
    "plt.plot(np.arange(nts + 1) * dt, psimatnormvec)\n",
    "plt.hlines(1 , 0, nts * dt, linestyles='-.', colors='darkorange')\n",
    "plt.title('Normalization of the Wave Function\\nas a Function of Time\\n')\n",
    "plt.xlabel('Time')\n",
    "plt.ylabel('Norm')\n",
    "plt.show()\n",
    "\n",
    "# norm difference of wave function normalization check,\n",
    "# this should be close to 1\n",
    "print('Average Norm of Trajectory (should be close to 1):', psimatnormvec.sum() / (nts + 1), sep='\\n')"
   ],
   "metadata": {
    "collapsed": false,
    "pycharm": {
     "name": "#%%\n"
    }
   }
  },
  {
   "cell_type": "code",
   "execution_count": 11,
   "outputs": [],
   "source": [
    "# we need to make the toeplitz matrix by hand to\n",
    "# use with JAX grad/jacobian functions, to do this\n",
    "# we will use NumPy/JAX's advance indexing\n",
    "ntoep = 2 * nF + 1\n",
    "toepindx = ((-1) * np.arange(0, ntoep)).reshape(ntoep, 1) + [np.arange(ntoep  -1, 2 * ntoep - 1)]"
   ],
   "metadata": {
    "collapsed": false,
    "pycharm": {
     "name": "#%%\n"
    }
   }
  },
  {
   "cell_type": "code",
   "execution_count": 44,
   "outputs": [
    {
     "name": "stdout",
     "output_type": "stream",
     "text": [
      "jacGvmat.shape: (33, 513, 513)\n"
     ]
    }
   ],
   "source": [
    "# Gaussian basis model of the potential\n",
    "\n",
    "# the number of Gaussian basis functions equals 2 * J + 1\n",
    "J = 16\n",
    "\n",
    "# set the width of the Gaussian basis functions\n",
    "alpha = 4.0\n",
    "\n",
    "# real space special grid points which determines\n",
    "# the location of the centers of the Gaussian basis functions\n",
    "h = l / J\n",
    "Gxvec = np.arange(-J, J+1) * h\n",
    "\n",
    "# Gaussian basis matrix used for transforming the Gaussian\n",
    "# basis coefficients to real space values located at each\n",
    "# real space grid point\n",
    "xvecmesh, Gxvecmesh = np.meshgrid(xvec, Gxvec, sparse=True, indexing='ij')\n",
    "Gmat = np.exp(-alpha * (xvecmesh - Gxvecmesh)**2)\n",
    "\n",
    "# compute the Gaussian basis coefficients of v(x)\n",
    "# by solving the equation Gmat @ vcffs = v(Gxvec)\n",
    "# to compute Gaussian basis coefficients\n",
    "# Gmat must be a square matrix\n",
    "Gxvecmesh1, Gxvecmesh2 = np.meshgrid(Gxvec, Gxvec, sparse=True, indexing='ij')\n",
    "Gmatsqr = np.exp(-alpha * (Gxvecmesh1 - Gxvecmesh2)**2)\n",
    "vcffs = sl.solve(Gmatsqr, v(Gxvec), assume_a='sym')\n",
    "\n",
    "# vector of k-space terms needed to make the potential\n",
    "# matrix in the Fourier basis representation from Gaussian basis\n",
    "# coefficients, also for computing the gradient of the\n",
    "# potential matrix from the Gaussian basis coefficients\n",
    "Gkvec = np.pi * np.arange(0, 2 * J + 1) / l\n",
    "\n",
    "# JAX compliant function which generates the toeplitz\n",
    "# representation of the potential matrix in the Fourier\n",
    "# basis from a set of Gaussian basis coefficients\n",
    "# in order to compute the Jacobian of this function\n",
    "# using JAX the output must be real valued\n",
    "def mkGvmat(cffs):\n",
    "    Gkvecmesh, Gxvecmesh = jnp.meshgrid(Gkvec, Gxvec, sparse=True, indexing='ij')\n",
    "    cnstGFmat = jnp.exp(-1j * Gkvecmesh * Gxvecmesh)\n",
    "    # print('cnstGFmat.shape:', cnstGFmat.shape)\n",
    "    cnstexptrm = jnp.exp(-Gkvec ** 2 / (4 * alpha))\n",
    "    # print('cnstexptrm.shape:', cnstexptrm.shape)\n",
    "    toeprow = jnp.sqrt(np.pi / alpha) * cnstexptrm / (2 * l) * (cnstGFmat @ cffs)\n",
    "    flattoep = jnp.concatenate([jnp.flipud(toeprow.conj()), toeprow[1:]])\n",
    "\n",
    "    # make vmat and return the result\n",
    "    return flattoep[toepindx]\n",
    "\n",
    "    # return flattened toeplitz matrix with the real and imaginary parts\n",
    "    # separated\n",
    "    # to use jax.jacrev (reverse mode autograd for computing the Jacobian)\n",
    "    # the output must be real, to do this I spilt the output\n",
    "    # into real and imaginary parts and concatenate them together\n",
    "    # return jnp.concatenate([flattoep.real, flattoep.imag])\n",
    "\n",
    "# gradient of the potential matrix in the Fourier basis\n",
    "# representation, this is a constant\n",
    "jacGvmat = np.zeros((2 * J + 1, 2 * nF + 1, 2 * nF + 1), dtype=np.complex128)\n",
    "for i in range(2 * J + 1):\n",
    "        thiscffs = np.zeros(2 * J + 1)\n",
    "        thiscffs[i] = 1\n",
    "\n",
    "        # this code is for normal operations\n",
    "        jacGvmat[i] = mkGvmat(thiscffs)\n",
    "\n",
    "        # this code is used when using jax.jacrev on mkGvmat\n",
    "        # mkGvmatrtn = mkGvmat(thiscffs)\n",
    "        # Gvmattoeprep = mkGvmatrtn[:2 * (2 * J + 1) - 1] + 1j * mkGvmatrtn[2 * (2 * J + 1) - 1:]\n",
    "        # jacGvmat[i] = Gvmattoeprep[toepindx]\n",
    "\n",
    "print('jacGvmat.shape:', jacGvmat.shape)\n",
    "\n",
    "# compute Jacobian of mkGvmat using JAX\n",
    "# jacfnGvtoepvec = jax.jacrev(mkGvmat)\n",
    "# jacGvtoepvec = jacfnGvtoepvec(vcffs).T\n",
    "# print('jacGvtoepvec.shape:', jacGvtoepvec.shape)\n",
    "# jaxjacGvmat = (jacGvtoepvec[:, :2 * (2 * J + 1) - 1] + 1j * jacGvtoepvec[:, 2 * (2 * J + 1) - 1:])[:, toepindx]\n",
    "# print('jaxjacGvmat.shape:', jaxjacGvmat.shape)\n",
    "\n",
    "# print('Norm of jacGvmat - jaxjacGvmat (should be close to 0):', nl.norm(jacGvmat - jaxjacGvmat), sep='\\n')"
   ],
   "metadata": {
    "collapsed": false,
    "pycharm": {
     "name": "#%%\n"
    }
   }
  },
  {
   "cell_type": "code",
   "execution_count": null,
   "outputs": [],
   "source": [
    "def Gobjfn(cffs):\n",
    "        # construct the Hamiltonian matrix in the Fourier basis\n",
    "        Ghmat = kmat + mkGvmat(cffs)\n",
    "\n",
    "        # eigendecomposition of Hamiltonian matrix\n",
    "        Gspc, Gstts = jnp.linalg.eigh(hmat)\n",
    "\n",
    "        # propagator matrix\n",
    "        Gpropamat = Gstts @ jnp.diag( np.exp(-1j * Gspc * dt) ) @ Gstts.T.conj()\n",
    "\n",
    "        # propagate\n",
    "        Gamat = jnp.zeros((nts + 1, 2 * nF + 1), dtype=np.complex128)\n",
    "        Gamat[0, :] = jnp.copy(Fnormpsi0vec)\n",
    "        for i in range(nts):\n",
    "            Gamat[i + 1, :] = Gpropamat @ Gamat[i, :]\n",
    "\n",
    "        # compute objective\n",
    "        residue = Gamat - amat\n",
    "        obj = 0.5 * jnp.real(jnp.sum(residue.conj()*residue))\n",
    "\n",
    "        return obj\n",
    "\n",
    "def Ggradfn(cffs):\n",
    "    m = 2 * nF + 1\n",
    "    indx = jnp.array(a + b)\n",
    "\n",
    "    # construct the Hamiltonian matrix in the Fourier basis\n",
    "    Ghmat = kmat + mkGvmat(cffs)\n",
    "\n",
    "     # eigendecomposition of Hamiltonian matrix\n",
    "    Gspc, Gstts = jnp.linalg.eigh(Ghmat)\n",
    "\n",
    "    # propagator matrix\n",
    "    Gpropamat = Gstts @ jnp.diag( np.exp(-1j * Gspc * dt) ) @ Gstts.T.conj()\n",
    "    Gprophmat = Gstts @ jnp.diag( np.exp(1j * Gspc * dt) ) @ Gstts.T.conj()\n",
    "\n",
    "    # propagate\n",
    "    Gamat = jnp.zeros((nts + 1, 2 * nF + 1), dtype=np.complex128)\n",
    "    Gamat[0, :] = jnp.copy(Fnormpsi0vec)\n",
    "    for i in range(nts):\n",
    "        Gamat[i + 1, :] = Gpropamat @ Gamat[i, :]\n",
    "\n",
    "    # code for propagating lambda\n",
    "    lammat = [Gamat[nts,:] - amat[nts,:]]\n",
    "\n",
    "    itr = 0\n",
    "    for j in range(nts - 1, -1, -1):\n",
    "        lammat.append(Gamat[j,:] - amat[j,:] + Gprophmat @ lammat[itr] )\n",
    "        itr += 1\n",
    "\n",
    "    lammat = jnp.flipud(jnp.stack(lammat))\n",
    "\n",
    "    # code for computing gradients\n",
    "    offdiagmask = jnp.ones((m, m)) - jnp.eye(m)\n",
    "    expspec = jnp.exp(-1j * dt * Gspc)\n",
    "    e1, e2 = jnp.meshgrid(expspec, expspec)\n",
    "    s1, s2 = jnp.meshgrid(Gspc, Gspc)\n",
    "    denom = offdiagmask * (-1j * dt) * (s1 - s2) + jnp.eye(m)\n",
    "    mask = offdiagmask * (e1 - e2) / denom + jnp.diag(expspec)\n",
    "    myeye = jnp.eye(m)\n",
    "    ws = jnp.hstack([jnp.fliplr(myeye), myeye[:, 1:]]).T\n",
    "    ctrmats = ws[indx]\n",
    "    # derivamats = jnp.einsum('ij,jkm,kl->ilm', Gstts.conj().T, ctrmats, Gstts) * jnp.expand_dims(mask,2)\n",
    "    derivamats = jnp.einsum('ij,jkm,kl->ilm', Gstts.conj().T, gradGvmat, Gstts) * jnp.expand_dims(mask,2)\n",
    "    alldmatreal = -1j * dt * jnp.einsum('ij,jkm,kl->mil', Gstts, derivamats, Gstts.conj().T)\n",
    "\n",
    "    ws = 1.0j * jnp.hstack([-jnp.fliplr(myeye), myeye[:,1:]])\n",
    "    ws = ws[1:,:]\n",
    "    ws = ws.T\n",
    "    ctrmats = ws[indx]\n",
    "    # derivamats = jnp.einsum('ij,jkm,kl->ilm', Gstts.conj().T, ctrmats, Gstts) * jnp.expand_dims(mask,2)\n",
    "    derivamats = jnp.einsum('ij,jkm,kl->ilm', Gstts.conj().T, gradGvmat, Gstts) * jnp.expand_dims(mask,2)\n",
    "    alldmatimag = -1j * dt * jnp.einsum('ij,jkm,kl->mil', Gstts, derivamats, Gstts.conj().T)\n",
    "\n",
    "    alldmat = jnp.vstack([alldmatreal, alldmatimag])\n",
    "\n",
    "    gradients = jnp.real(jnp.einsum('ij,ajk,ik->a', jnp.conj(lammat[1:,:]), alldmat, Gamat[:-1,:]))\n",
    "\n",
    "    return gradients"
   ],
   "metadata": {
    "collapsed": false,
    "pycharm": {
     "name": "#%%\n"
    }
   }
  },
  {
   "cell_type": "code",
   "execution_count": null,
   "outputs": [],
   "source": [
    "Gxvecmesh1, Gxvecmesh2 = np.meshgrid(Gxvec, Gxvec, sparse=True, indexing='ij')\n",
    "cffstru = sl.solve(np.exp(-alpha * (Gxvecmesh1 - Gxvecmesh2)**2), v(Gxvec), assume_a='sym')"
   ],
   "metadata": {
    "collapsed": false,
    "pycharm": {
     "name": "#%%\n"
    }
   }
  }
 ],
 "metadata": {
  "kernelspec": {
   "display_name": "Python 3",
   "language": "python",
   "name": "python3"
  },
  "language_info": {
   "codemirror_mode": {
    "name": "ipython",
    "version": 2
   },
   "file_extension": ".py",
   "mimetype": "text/x-python",
   "name": "python",
   "nbconvert_exporter": "python",
   "pygments_lexer": "ipython2",
   "version": "2.7.6"
  }
 },
 "nbformat": 4,
 "nbformat_minor": 0
}