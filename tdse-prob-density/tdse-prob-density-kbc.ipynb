{
 "cells": [
  {
   "cell_type": "code",
   "execution_count": 1,
   "outputs": [],
   "source": [
    "import numpy as np\n",
    "import numpy.linalg as nl\n",
    "import scipy.linalg as sl\n",
    "import scipy.special as ss\n",
    "import scipy.integrate as si\n",
    "import scipy.optimize as so\n",
    "import matplotlib.pyplot as plt\n",
    "import jax\n",
    "import jax.numpy as jnp\n",
    "import jax.numpy.linalg as jnl\n",
    "from jax.config import config\n",
    "config.update(\"jax_enable_x64\", True)"
   ],
   "metadata": {
    "collapsed": false,
    "pycharm": {
     "name": "#%%\n"
    }
   }
  },
  {
   "cell_type": "markdown",
   "source": [
    "<h1>Forward Problem</h1>"
   ],
   "metadata": {
    "collapsed": false,
    "pycharm": {
     "name": "#%% md\n"
    }
   }
  },
  {
   "cell_type": "code",
   "execution_count": 2,
   "outputs": [
    {
     "name": "stdout",
     "output_type": "stream",
     "text": [
      "Shape fourtox: (25, 1025)\n"
     ]
    }
   ],
   "source": [
    "# size of spatial domain\n",
    "L = 10.0\n",
    "# number of real space grid points (for plotting)\n",
    "numx = 1025\n",
    "# real space grid points (for plotting)\n",
    "xvec = np.linspace(-L, L, numx)\n",
    "\n",
    "# number of Fourier basis functions\n",
    "# n = -numF to n = numF\n",
    "numfour = 12  # 32\n",
    "\n",
    "# matrix for converting Fourier representation to real space\n",
    "fournvec = np.arange(-numfour, numfour + 1) # fournvec=-nfb,...,0,...,nfb\n",
    "fourtox = np.exp(1j * np.pi * np.outer(fournvec, xvec) / L) / np.sqrt(2 * L)\n",
    "print('Shape fourtox:', fourtox.shape)"
   ],
   "metadata": {
    "collapsed": false,
    "pycharm": {
     "name": "#%%\n"
    }
   }
  },
  {
   "cell_type": "code",
   "execution_count": 3,
   "outputs": [
    {
     "data": {
      "text/plain": "<Figure size 432x288 with 1 Axes>",
      "image/png": "[encoded data removed]"
     },
     "metadata": {
      "needs_background": "light"
     },
     "output_type": "display_data"
    }
   ],
   "source": [
    "def v(z):\n",
    "    # harmonic oscillator potential (should be exact for Chebyshev)\n",
    "    return 0.5 * z**2\n",
    "    # symmetric double well potential\n",
    "    # return 2.5e-3 * (z**2 - 25)**2\n",
    "    # asymmetric double well potential\n",
    "    # c0 = 4.35; c1 = 9.40e-1; c2 = -3.56e-1; c3 = -4.66e-2\n",
    "    # c4 = 1.46e-2; c5 = 6.76e-4; c6 = -1.26e-4; c7 = -5.43e-6\n",
    "    # c8 = 4.12e-7; c9 = 1.65e-8\n",
    "    # x = z + 0.8\n",
    "    # return 0.5 * (c0 + c1*x + c2*x**2 + c3*x**3 + c4*x**4 + c5*x**5 \\\n",
    "    #        + c6*x**6 + c7*x**7 + c8*x**8 + c9*x**9)\n",
    "    # non-polynomial potentials\n",
    "    # return np.sin(0.4 * z - 1)\n",
    "    # return np.sin((0.5 * z)**2)\n",
    "    # return 15 * (-np.cos(z) + np.sin((0.5 * z)**2 - 0.2 * z))\n",
    "    # soft coulomb potential\n",
    "    # return -1 / np.sqrt(z**2 + 0.25)\n",
    "\n",
    "# compute true potential on real space grid for plotting\n",
    "vxvec = v(xvec)\n",
    "\n",
    "# plot true potential\n",
    "plt.plot(xvec, vxvec)\n",
    "plt.title('Plot of V(x)')\n",
    "plt.xlabel('x')\n",
    "plt.show()"
   ],
   "metadata": {
    "collapsed": false,
    "pycharm": {
     "name": "#%%\n"
    }
   }
  },
  {
   "cell_type": "code",
   "execution_count": 4,
   "outputs": [
    {
     "name": "stdout",
     "output_type": "stream",
     "text": [
      "Shape vmattrue: (25, 25)\n"
     ]
    }
   ],
   "source": [
    "# transform potential to Fourier representation\n",
    "\n",
    "fourvtoep = []\n",
    "for thisfourn in range(2 * numfour + 1):\n",
    "    def intgrnd(x):\n",
    "        return v(x) * np.exp(-1j * np.pi * thisfourn * x / L) / (2 * L)\n",
    "    def rintgrnd(x):\n",
    "        return intgrnd(x).real\n",
    "    def iintgrnd(x):\n",
    "        return intgrnd(x).imag\n",
    "    fourvtoep.append(si.quad(rintgrnd, -L, L, limit=100)[0] + 1j * si.quad(iintgrnd, -L, L, limit=100)[0])\n",
    "vmattrue = sl.toeplitz(r=fourvtoep, c=np.conj(fourvtoep))\n",
    "\n",
    "print('Shape vmattrue:', vmattrue.shape)"
   ],
   "metadata": {
    "collapsed": false,
    "pycharm": {
     "name": "#%%\n"
    }
   }
  },
  {
   "cell_type": "code",
   "execution_count": 5,
   "outputs": [
    {
     "name": "stdout",
     "output_type": "stream",
     "text": [
      "l2 error psi0: 5.861156835591349e-06\n",
      "l-infinity error psi0: 2.231487175188936e-06\n"
     ]
    },
    {
     "data": {
      "text/plain": "<Figure size 432x288 with 1 Axes>",
      "image/png": "[encoded data removed]"
     },
     "metadata": {
      "needs_background": "light"
     },
     "output_type": "display_data"
    }
   ],
   "source": [
    "# define initial states and transform to Fourier basis\n",
    "\n",
    "def psi0(x):\n",
    "    return np.exp(-(x + 3)**2 / 4) * (2.0 / np.pi)**0.25\n",
    "    # return np.exp(-(x - 3)**2 / 4) * (2.0 / np.pi)**0.25\n",
    "    # return np.exp(-(x - 6)**2) * (2.0 / np.pi)**0.25\n",
    "    # return np.exp(-(x + 6)**2) * (2.0 / np.pi)**0.25\n",
    "    # return np.exp(-x**2) * (2.0 / np.pi)**0.25\n",
    "\n",
    "\n",
    "# compute psi0 normalization term\n",
    "psi0_prob_intgrnd = lambda x: np.abs(psi0(x)) ** 2\n",
    "psi0_norm = np.sqrt(si.quad(psi0_prob_intgrnd, -L, L)[0])\n",
    "\n",
    "# normalized psi function (for integration)\n",
    "norm_psi0_fn = lambda x: psi0(x) / psi0_norm\n",
    "\n",
    "# compute the Fourier representation of psi0fn\n",
    "norm_psi0 = []\n",
    "for thisfourn in range (numfour + 1):\n",
    "    def intgrnd(x):\n",
    "        return norm_psi0_fn(x) * np.exp(-1j * np.pi * thisfourn * x / L) / np.sqrt(2 * L)\n",
    "    def rintgrnd(x):\n",
    "        return intgrnd(x).real\n",
    "    def iintgrnd(x):\n",
    "        return intgrnd(x).imag\n",
    "    norm_psi0.append(si.quad(rintgrnd, -L, L)[0] \\\n",
    "                       + 1j * si.quad(iintgrnd, -L, L)[0])\n",
    "\n",
    "a0 = np.concatenate([np.conjugate(np.flipud(norm_psi0[1:])), norm_psi0])\n",
    "\n",
    "normpsi0x = norm_psi0_fn(xvec)\n",
    "normpsi0xrec = a0 @ fourtox\n",
    "\n",
    "# check if Fourier representation is close to truth\n",
    "print(f'l2 error psi0:', nl.norm(normpsi0x - normpsi0xrec))\n",
    "print(f'l-infinity error psi0:', np.max(np.abs(normpsi0x - normpsi0xrec)))\n",
    "\n",
    "# plot the real part of the normalized psi0\n",
    "plt.plot(xvec, normpsi0xrec.real, label=f\"Truth\")\n",
    "plt.plot(xvec, normpsi0xrec.real, label=f\"Rec\")\n",
    "plt.title('Real Part of Initial Wave Functions')\n",
    "plt.xlabel('x')\n",
    "plt.legend()\n",
    "plt.show()"
   ],
   "metadata": {
    "collapsed": false,
    "pycharm": {
     "name": "#%%\n"
    }
   }
  },
  {
   "cell_type": "markdown",
   "source": [
    "---\n",
    "**Forward Propagation**"
   ],
   "metadata": {
    "collapsed": false
   }
  },
  {
   "cell_type": "code",
   "execution_count": 6,
   "outputs": [
    {
     "name": "stdout",
     "output_type": "stream",
     "text": [
      "hmattrue Hermitian check (should be close to zero):\n",
      "0.0\n",
      "hmattrue diagonalized check (should be close to zero):\n",
      "1.0821475850409268e-13\n",
      "stttrue unitary check (should be close to zero):\n",
      "6.871102662274836e-15\n"
     ]
    }
   ],
   "source": [
    "# Eigendecomposition of Hamiltonian\n",
    "\n",
    "# kinetic operator in the Fourier representation\n",
    "# (this is constant for a given system)\n",
    "kmat = np.diag(np.arange(-numfour, numfour + 1) ** 2 * np.pi ** 2 / (2 * L ** 2))\n",
    "\n",
    "# Hamiltonian operator in the Fourier representation\n",
    "hmattrue = kmat + vmattrue\n",
    "\n",
    "# check if the Hamiltonian matrix is Hermitian\n",
    "print('hmattrue Hermitian check (should be close to zero):', nl.norm(hmattrue - hmattrue.T.conj()), sep='\\n')\n",
    "\n",
    "# eigen-decomposition of the Hamiltonian matrix\n",
    "spctrue, stttrue = nl.eigh(hmattrue)\n",
    "\n",
    "# check if the decomposition diagonalizes the\n",
    "# Hamiltonian matrix\n",
    "# if this is close to zero then\n",
    "# hmat = states @ np.diag(spec) @ np.conj(states).T\n",
    "print('hmattrue diagonalized check (should be close to zero):', nl.norm(hmattrue @ stttrue - stttrue @ np.diag(spctrue)), sep='\\n')\n",
    "\n",
    "# check if the eigenstates are unitary\n",
    "print('stttrue unitary check (should be close to zero):', nl.norm(stttrue @ stttrue.T.conj() - np.eye(2 * numfour + 1)), sep='\\n')"
   ],
   "metadata": {
    "collapsed": false,
    "pycharm": {
     "name": "#%%\n"
    }
   }
  },
  {
   "cell_type": "code",
   "execution_count": 7,
   "outputs": [
    {
     "name": "stdout",
     "output_type": "stream",
     "text": [
      "[0.50000034 1.50001041 2.50014751 3.50127861 4.50753787 5.53192104]\n"
     ]
    },
    {
     "data": {
      "text/plain": "<Figure size 432x288 with 1 Axes>",
      "image/png": "[encoded data removed]"
     },
     "metadata": {
      "needs_background": "light"
     },
     "output_type": "display_data"
    },
    {
     "name": "stdout",
     "output_type": "stream",
     "text": [
      "Quick normalization check (should be close to 1):\n",
      "1.0000000000062454\n",
      "Accurate normalization check (should be close to 1):\n",
      "0.9999999999999986\n"
     ]
    }
   ],
   "source": [
    "# plot ground state of Eigendecomposition\n",
    "\n",
    "# find indices that sort eigenvalues\n",
    "ordering = np.argsort(spctrue)\n",
    "\n",
    "# print the first few eigenvalues\n",
    "print(spctrue[ordering[:6]])\n",
    "\n",
    "# pick out and plot real part of the ground state\n",
    "groundstate = ordering[0]\n",
    "wavefn = stttrue[:, groundstate] @ fourtox\n",
    "plt.plot(xvec, np.real(wavefn))\n",
    "plt.title('Real Part of Ground State')\n",
    "plt.xlabel('x')\n",
    "plt.show()\n",
    "\n",
    "# quick and dirty check of normalization\n",
    "print('Quick normalization check (should be close to 1):', np.sum(np.abs(wavefn)**2 * (xvec[1]-xvec[0])), sep='\\n')\n",
    "\n",
    "# this should be a more accurate check of the ground state\n",
    "# wave functions' normalization\n",
    "print('Accurate normalization check (should be close to 1):', si.trapezoid(np.abs(wavefn)**2, xvec), sep='\\n')"
   ],
   "metadata": {
    "collapsed": false,
    "pycharm": {
     "name": "#%%\n"
    }
   }
  },
  {
   "cell_type": "code",
   "execution_count": 8,
   "outputs": [
    {
     "name": "stdout",
     "output_type": "stream",
     "text": [
      "Shape amattrue: (11, 25)\n",
      "Done propagating\n"
     ]
    }
   ],
   "source": [
    "# Propagate\n",
    "\n",
    "# set time-step size\n",
    "dt = 1e-2\n",
    "\n",
    "# set number of time steps\n",
    "# trajectory length is numts + 1 (initial state + numts steps)\n",
    "numts = 10  # 100  # 200\n",
    "\n",
    "\n",
    "# compute propagator matrix\n",
    "propatrue = stttrue @ np.diag(np.exp(-1j * spctrue * dt)) @ stttrue.conj().T\n",
    "\n",
    "# propagate system starting from initial \"a\" state\n",
    "amattrue = [a0.copy()]\n",
    "for i in range(numts):\n",
    "    amattrue.append(propatrue @ amattrue[-1])\n",
    "\n",
    "amattrue = np.array(amattrue)\n",
    "\n",
    "print('Shape amattrue:', amattrue.shape)\n",
    "\n",
    "print('Done propagating')"
   ],
   "metadata": {
    "collapsed": false,
    "pycharm": {
     "name": "#%%\n"
    }
   }
  },
  {
   "cell_type": "code",
   "execution_count": 9,
   "outputs": [
    {
     "name": "stdout",
     "output_type": "stream",
     "text": [
      "Shape psimattrue: (11, 1025)\n",
      "Shape probmattrue: (11, 1025)\n",
      "Shape normmattrue: (11,)\n"
     ]
    },
    {
     "data": {
      "text/plain": "<Figure size 432x288 with 1 Axes>",
      "image/png": "[encoded data removed]"
     },
     "metadata": {
      "needs_background": "light"
     },
     "output_type": "display_data"
    }
   ],
   "source": [
    "# check if system's state remains normalized for the propagation\n",
    "\n",
    "psimattrue = amattrue @ fourtox\n",
    "print('Shape psimattrue:', psimattrue.shape)\n",
    "\n",
    "probmattrue = np.abs(psimattrue) ** 2\n",
    "print('Shape probmattrue:', probmattrue.shape)\n",
    "\n",
    "normmattrue = si.trapezoid(probmattrue, xvec)\n",
    "print('Shape normmattrue:', normmattrue.shape)\n",
    "\n",
    "# plot normalization (should be almost flat line at 1)\n",
    "plt.plot(np.arange(numts + 1) * dt, normmattrue, label=f'Trajectory')\n",
    "\n",
    "plt.hlines(1, 0, numts * dt, linestyles='-.', colors='darkorange', label='_')\n",
    "plt.title('Probability as a Function of Time')\n",
    "plt.xlabel('Time')\n",
    "plt.ylabel('Probability')\n",
    "plt.legend()\n",
    "plt.show()"
   ],
   "metadata": {
    "collapsed": false,
    "pycharm": {
     "name": "#%%\n"
    }
   }
  },
  {
   "cell_type": "markdown",
   "source": [
    "<h1>Inverse Problem</h1>"
   ],
   "metadata": {
    "collapsed": false,
    "pycharm": {
     "name": "#%% md\n"
    }
   }
  },
  {
   "cell_type": "code",
   "execution_count": 10,
   "outputs": [
    {
     "name": "stdout",
     "output_type": "stream",
     "text": [
      "(25, 25)\n"
     ]
    }
   ],
   "source": [
    "# code for constructing a toeplitz matrix from the\n",
    "# Fourier representation\n",
    "# flat_toep_vec = jnp.concatenate([jnp.flipud(cvrow.conj()), cvrow[1:]])\n",
    "\n",
    "numtoepelms = 2 * numfour + 1\n",
    "aa = (-1) * np.arange(0, numtoepelms).reshape(numtoepelms, 1)\n",
    "bb = [np.arange(numtoepelms - 1, 2 * numtoepelms - 1)]\n",
    "toepindxmat = np.array(aa + bb)\n",
    "print(toepindxmat.shape)"
   ],
   "metadata": {
    "collapsed": false,
    "pycharm": {
     "name": "#%%\n"
    }
   }
  },
  {
   "cell_type": "code",
   "execution_count": 11,
   "outputs": [
    {
     "name": "stdout",
     "output_type": "stream",
     "text": [
      "0.0\n"
     ]
    }
   ],
   "source": [
    "# check if index method makes same vmat\n",
    "# should be close to 0\n",
    "\n",
    "print(nl.norm(vmattrue - np.concatenate([np.flipud(np.conj(fourvtoep)), fourvtoep[1:]])[toepindxmat]))"
   ],
   "metadata": {
    "collapsed": false,
    "pycharm": {
     "name": "#%%\n"
    }
   }
  },
  {
   "cell_type": "code",
   "execution_count": 12,
   "outputs": [
    {
     "name": "stdout",
     "output_type": "stream",
     "text": [
      "Shape probmattrue (11, 1025)\n",
      "Shape betamattrue (11, 25)\n",
      "Shape betamattrue @ fourtox: (11, 1025)\n",
      "l2 error betamattrue @ fourtox:\n",
      "0.0019006317146527103\n"
     ]
    }
   ],
   "source": [
    "# probability training data\n",
    "# we need |\\psi(t)|^2 in the Fourier representation\n",
    "\n",
    "# compute \"beta\" from \"a\"\n",
    "# np.convolve only works with 1D vectors\n",
    "betamattrue = []\n",
    "for thisavec in amattrue:\n",
    "    betamattrue.append(np.convolve(thisavec.conj(), np.flip(thisavec), 'same').conj())\n",
    "\n",
    "betamattrue = np.array(betamattrue) / np.sqrt(2 * L)\n",
    "\n",
    "print('Shape probmattrue', probmattrue.shape)\n",
    "print('Shape betamattrue', betamattrue.shape)\n",
    "print('Shape betamattrue @ fourtox:', np.shape(betamattrue @ fourtox))\n",
    "\n",
    "print('l2 error betamattrue @ fourtox:', nl.norm(probmattrue - betamattrue @ fourtox), sep='\\n')"
   ],
   "metadata": {
    "collapsed": false,
    "pycharm": {
     "name": "#%%\n"
    }
   }
  },
  {
   "cell_type": "code",
   "execution_count": 37,
   "outputs": [],
   "source": [
    "# objective function\n",
    "\n",
    "def probobj(catfourcff):\n",
    "    fourcff = catfourcff[:2 * numfour + 1] + 1j*catfourcff[2 * numfour + 1:]\n",
    "    # turn Fourier space coefficients of the potential\n",
    "    # into vmat for propagation\n",
    "    vmat = jnp.concatenate([jnp.flipud(jnp.conj(fourcff)), fourcff[1:]])[toepindxmat]\n",
    "\n",
    "    # Hamiltonian operator in the Fourier representation\n",
    "    hmat = kmat + vmat\n",
    "\n",
    "    # eigen-decomposition of the Hamiltonian matrix\n",
    "    spc, stt = jnl.eigh(hmat)\n",
    "\n",
    "    # compute propagator matrix\n",
    "    propa = stt @ jnp.diag(jnp.exp(-1j * spc * dt)) @ stt.conj().T\n",
    "\n",
    "    # propagate system starting from initial \"a\" state\n",
    "    amat = [a0.copy()]\n",
    "    for i in range(numts):\n",
    "        amat.append(propa @ amat[-1])\n",
    "\n",
    "    amat = jnp.array(amat)\n",
    "\n",
    "    # compute \"beta\" from \"a\"\n",
    "    # np.convolve only works with 1D vectors\n",
    "    # betamat = np.zeros(2 * numfour + 1, dtype=jnp.complex128)\n",
    "    betamat = []\n",
    "    for thisavec in amat:\n",
    "        # betamat.append(jnp.convolve(thisavec.conj(),jnp.flip(thisavec),'same').conj())\n",
    "        tempbetavec = []\n",
    "        for l in range(-numfour ,numfour + 1):\n",
    "            tempbetavec.append(0.0 + 0.0j)\n",
    "            for k in range(-numfour ,numfour + 1):\n",
    "                if abs(k+l) <= L:\n",
    "                    # everybody has a \"+d\" inside square brackets because Python indexing starts at 0 and goes up to 2*d,\n",
    "                    # while mathematical indexing goes from -d, -d+1, ..., 0, ..., d-1, d\n",
    "                    tempbetavec[-1] += thisavec[k + l + numfour] * jnp.conj(thisavec[k + numfour])\n",
    "\n",
    "        betamat.append(tempbetavec)\n",
    "\n",
    "    betamat = jnp.array(betamat) / jnp.sqrt(2 * L)\n",
    "    # betamat = betamat / jnp.sqrt(2 * L)\n",
    "\n",
    "    # compute objective functions\n",
    "    # print('Shape betamat:', betamat.shape)\n",
    "    # print('Shape betamattrue:', betamattrue.shape)\n",
    "    # print(jnl.norm(betamat - betamattrue))\n",
    "    # print(jnp.sum(jnp.abs(betamat - betamattrue)**2))\n",
    "    rtnobj = jnp.sum(jnp.abs(betamat - betamattrue)**2)\n",
    "\n",
    "    return rtnobj"
   ],
   "metadata": {
    "collapsed": false,
    "pycharm": {
     "name": "#%%\n"
    }
   }
  },
  {
   "cell_type": "code",
   "execution_count": 38,
   "outputs": [
    {
     "name": "stdout",
     "output_type": "stream",
     "text": [
      "Shape vfourcatcff: (50,)\n",
      "(25,)\n",
      "1.503340790155762e-10\n"
     ]
    }
   ],
   "source": [
    "vfourcatcff = np.concatenate((np.real(fourvtoep), np.imag(fourvtoep)))\n",
    "print('Shape vfourcatcff:', vfourcatcff.shape)\n",
    "\n",
    "print(vfourcatcff[:2 * numfour + 1].shape)\n",
    "\n",
    "# check objective with true potential\n",
    "print(probobj(vfourcatcff))"
   ],
   "metadata": {
    "collapsed": false,
    "pycharm": {
     "name": "#%%\n"
    }
   }
  },
  {
   "cell_type": "code",
   "execution_count": 39,
   "outputs": [],
   "source": [
    "# jit probobj\n",
    "jitprobobj = jax.jit(probobj)"
   ],
   "metadata": {
    "collapsed": false,
    "pycharm": {
     "name": "#%%\n"
    }
   }
  },
  {
   "cell_type": "code",
   "execution_count": 41,
   "outputs": [
    {
     "name": "stdout",
     "output_type": "stream",
     "text": [
      "1.5033407901555704e-10\n"
     ]
    }
   ],
   "source": [
    "# complie and test jitprobobj\n",
    "print(jitprobobj(vfourcatcff))"
   ],
   "metadata": {
    "collapsed": false,
    "pycharm": {
     "name": "#%%\n"
    }
   }
  },
  {
   "cell_type": "code",
   "execution_count": 42,
   "outputs": [],
   "source": [
    "# JAX grad of the objective\n",
    "gradprobobj = jax.jit(jax.grad(jitprobobj))"
   ],
   "metadata": {
    "collapsed": false,
    "pycharm": {
     "name": "#%%\n"
    }
   }
  },
  {
   "cell_type": "code",
   "execution_count": 43,
   "outputs": [
    {
     "data": {
      "text/plain": "DeviceArray([ 8.62045241e-20, -3.42151115e-09, -1.72555188e-08,\n             -2.42534685e-08,  3.98292668e-08,  1.79167903e-07,\n              1.56503409e-07, -2.78515212e-07, -7.12223695e-07,\n             -2.82410156e-07,  8.33882544e-07,  1.24632873e-06,\n              4.11888398e-07, -5.41010050e-07, -6.32293543e-07,\n             -2.04325960e-07,  6.26636440e-08,  6.84925461e-08,\n              1.68055635e-08, -1.51487024e-09, -1.47808642e-09,\n             -2.13663977e-10,  1.36916366e-11,  6.10350950e-12,\n              3.10042953e-13,  0.00000000e+00, -3.97148669e-09,\n              2.33870841e-10,  3.64682340e-08,  8.56610441e-08,\n              1.24351848e-08, -2.66051703e-07, -4.02708415e-07,\n              1.23088893e-07,  9.39473590e-07,  8.56154552e-07,\n             -2.83998926e-07, -1.10839892e-06, -7.65273732e-07,\n              4.36880627e-09,  2.97847328e-07,  1.62148357e-07,\n              1.52503757e-08, -1.66532627e-08, -6.46440486e-09,\n             -4.53245716e-10,  2.07442375e-10,  4.53201818e-11,\n              9.39893593e-13, -4.53170451e-13], dtype=float64)"
     },
     "execution_count": 43,
     "metadata": {},
     "output_type": "execute_result"
    }
   ],
   "source": [
    "# check grad of objective with true potential\n",
    "gradprobobj(vfourcatcff)"
   ],
   "metadata": {
    "collapsed": false,
    "pycharm": {
     "name": "#%%\n"
    }
   }
  },
  {
   "cell_type": "markdown",
   "source": [
    "---\n",
    "**Initialize with perturbed true coefficients**"
   ],
   "metadata": {
    "collapsed": false,
    "pycharm": {
     "name": "#%% md\n"
    }
   }
  },
  {
   "cell_type": "code",
   "execution_count": 71,
   "outputs": [],
   "source": [
    "seed = 1234  # set to None for random initialization\n",
    "cfftrub = vfourcatcff.copy()\n",
    "cfftrub += 2 * np.random.default_rng(seed).normal(size=len(vfourcatcff))\n",
    "# cfftrub += 0.25 * np.random.default_rng(seed).normal(size=len(vfourcatcff))"
   ],
   "metadata": {
    "collapsed": false,
    "pycharm": {
     "name": "#%%\n"
    }
   }
  },
  {
   "cell_type": "code",
   "execution_count": 72,
   "outputs": [
    {
     "name": "stdout",
     "output_type": "stream",
     "text": [
      "0.09235756514446343\n",
      "[ 5.84818652e-16 -2.80631519e-03 -4.81262126e-03  1.42525407e-03\n",
      "  1.24227216e-02  1.81202811e-02  9.60888793e-03 -1.41009580e-02\n",
      " -3.64779338e-02 -3.14464904e-02  4.55155583e-03  3.85228321e-02\n",
      "  3.60158174e-02  2.66055804e-03 -2.53336383e-02 -2.45630144e-02\n",
      " -4.53386771e-03  1.04998516e-02  9.09010560e-03  3.83548774e-04\n",
      " -3.12512693e-03 -6.52687439e-04  1.28837014e-03  6.82436563e-04\n",
      " -1.14651306e-04  0.00000000e+00 -8.46535086e-04  4.21135800e-03\n",
      "  1.01370037e-02  7.11971389e-03 -6.35433623e-03 -2.30593172e-02\n",
      " -2.78964827e-02 -7.76540465e-03  2.74311292e-02  4.37264590e-02\n",
      "  2.05862696e-02 -1.97771849e-02 -3.69065921e-02 -1.92500858e-02\n",
      "  8.83667172e-03  1.97624206e-02  1.02318843e-02 -2.90880908e-03\n",
      " -5.58365642e-03 -6.29055269e-04  2.08807731e-03  7.70131392e-04\n",
      " -5.62634580e-04 -5.10114335e-04]\n"
     ]
    }
   ],
   "source": [
    "print(jitprobobj(cfftrub))\n",
    "print(gradprobobj(cfftrub))"
   ],
   "metadata": {
    "collapsed": false,
    "pycharm": {
     "name": "#%%\n"
    }
   }
  },
  {
   "cell_type": "code",
   "execution_count": 73,
   "outputs": [
    {
     "name": "stdout",
     "output_type": "stream",
     "text": [
      "Warning: Desired error not necessarily achieved due to precision loss.\n",
      "         Current function value: 0.000000\n",
      "         Iterations: 552\n",
      "         Function evaluations: 696\n",
      "         Gradient evaluations: 679\n"
     ]
    }
   ],
   "source": [
    "rslttrubjaxgrad = so.minimize(jitprobobj, cfftrub, jac=gradprobobj, tol=1e-12, options={'maxiter': 2000, 'disp': True, 'gtol': 1e-15}).x"
   ],
   "metadata": {
    "collapsed": false,
    "pycharm": {
     "name": "#%%\n"
    }
   }
  },
  {
   "cell_type": "code",
   "execution_count": 74,
   "outputs": [
    {
     "data": {
      "text/plain": "<Figure size 432x288 with 1 Axes>",
      "image/png": "[encoded data removed]"
     },
     "metadata": {
      "needs_background": "light"
     },
     "output_type": "display_data"
    }
   ],
   "source": [
    "# plot learned vs true\n",
    "cmpcfftrub = cfftrub[:2 * numfour + 1] + cfftrub[2 * numfour + 1:]\n",
    "\n",
    "cmprslttrubgrad = rslttrubjaxgrad[:2 * numfour + 1] + rslttrubjaxgrad[2 * numfour + 1:]\n",
    "\n",
    "plt.plot(xvec, np.real(cmpcfftrub @ fourtox), label='init')\n",
    "plt.plot(xvec, np.real(cmprslttrubgrad @ fourtox), label='learned')\n",
    "plt.plot(xvec, vxvec, label='Truth')\n",
    "plt.title('Learned Potential vs. Truth')\n",
    "plt.legend()\n",
    "plt.show()"
   ],
   "metadata": {
    "collapsed": false,
    "pycharm": {
     "name": "#%%\n"
    }
   }
  },
  {
   "cell_type": "markdown",
   "source": [
    "---\n",
    "**Initialize with random coefficients**"
   ],
   "metadata": {
    "collapsed": false,
    "pycharm": {
     "name": "#%% md\n"
    }
   }
  },
  {
   "cell_type": "code",
   "execution_count": 32,
   "outputs": [],
   "source": [
    "seed = 1234  # set to None for random initialization\n",
    "cffform = np.random.default_rng(seed).uniform(low=-5.0, high=5.0, size=cfftrue.shape)"
   ],
   "metadata": {
    "collapsed": false,
    "pycharm": {
     "name": "#%%\n"
    }
   }
  },
  {
   "cell_type": "code",
   "execution_count": 33,
   "outputs": [
    {
     "name": "stdout",
     "output_type": "stream",
     "text": [
      "Warning: Desired error not necessarily achieved due to precision loss.\n",
      "         Current function value: 0.000000\n",
      "         Iterations: 134\n",
      "         Function evaluations: 313\n",
      "         Gradient evaluations: 297\n"
     ]
    }
   ],
   "source": [
    "resform = so.minimize(jitcobjfn, cffform, jac=jaxgradcobjfn, tol=1e-15, options={'maxiter': 1000, 'disp': True, 'gtol': 1e-14}).x"
   ],
   "metadata": {
    "collapsed": false,
    "pycharm": {
     "name": "#%%\n"
    }
   }
  },
  {
   "cell_type": "code",
   "execution_count": 34,
   "outputs": [
    {
     "name": "stdout",
     "output_type": "stream",
     "text": [
      "Objective of the Learned Coefficients:\n",
      "3.225981834017433e-24\n",
      "Vec L2 Norm of Gradient of the Learned Coefficients:\n",
      "1.3591848931107718e-12\n",
      "Continuous L2 Error of Potential using Quadrature Method:\n",
      "8.808442253066008e-11\n"
     ]
    },
    {
     "data": {
      "text/plain": "<Figure size 432x288 with 1 Axes>",
      "image/png": "[encoded data removed]"
     },
     "metadata": {
      "needs_background": "light"
     },
     "output_type": "display_data"
    },
    {
     "data": {
      "text/plain": "<Figure size 432x288 with 1 Axes>",
      "image/png": "[encoded data removed]"
     },
     "metadata": {
      "needs_background": "light"
     },
     "output_type": "display_data"
    }
   ],
   "source": [
    "print('Objective of the Learned Coefficients:', cobjfn(resform), sep='\\n')\n",
    "print('Vec L2 Norm of Gradient of the Learned Coefficients:', nl.norm(jaxgradcobjfn(resform)), sep='\\n')\n",
    "\n",
    "print('Continuous L2 Error of Potential using Quadrature Method:', np.sqrt(si.quad(sqrerrorfn, -L, L, args=(resform)))[0], sep='\\n')\n",
    "\n",
    "# plot initial vs learned\n",
    "plt.plot(xvec, chebtox @ cffform, label='initial')\n",
    "plt.plot(xvec, chebtox @ resform, label='learned')\n",
    "plt.title('Initial Potential vs. Truth')\n",
    "plt.legend()\n",
    "plt.show()\n",
    "\n",
    "# plot true vs learned\n",
    "plt.plot(xvec[100:-100], vxvec[100:-100], label='Truth')\n",
    "plt.plot(xvec[100:-100], (chebtox @ resform)[100:-100], label='learned')\n",
    "plt.title('Learned Potential vs. Truth')\n",
    "plt.legend()\n",
    "plt.show()"
   ],
   "metadata": {
    "collapsed": false,
    "pycharm": {
     "name": "#%%\n"
    }
   }
  },
  {
   "cell_type": "markdown",
   "source": [
    "---\n",
    "* Forward Problem\n",
    "    * Computational Variables\n",
    "    * Potential (real space and Fourier basis)\n",
    "    * Initial wave function (real and Fourier)\n",
    "    * Solution to forward problem\n",
    "* Inverse Problem\n",
    "    * Training data (prob density - new)\n",
    "    * Objective (new)\n",
    "    * JAX grad of objective\n",
    "    * Solver (optimizer)"
   ],
   "metadata": {
    "collapsed": false
   }
  },
  {
   "cell_type": "code",
   "execution_count": null,
   "outputs": [],
   "source": [],
   "metadata": {
    "collapsed": false,
    "pycharm": {
     "name": "#%%\n"
    }
   }
  }
 ],
 "metadata": {
  "kernelspec": {
   "display_name": "Python 3",
   "language": "python",
   "name": "python3"
  },
  "language_info": {
   "codemirror_mode": {
    "name": "ipython",
    "version": 2
   },
   "file_extension": ".py",
   "mimetype": "text/x-python",
   "name": "python",
   "nbconvert_exporter": "python",
   "pygments_lexer": "ipython2",
   "version": "2.7.6"
  }
 },
 "nbformat": 4,
 "nbformat_minor": 0
}