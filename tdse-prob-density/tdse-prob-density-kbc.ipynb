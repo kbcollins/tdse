{
 "cells": [
  {
   "cell_type": "code",
   "execution_count": 189,
   "outputs": [
    {
     "name": "stdout",
     "output_type": "stream",
     "text": [
      "Requirement already satisfied: pip in /opt/conda/lib/python3.9/site-packages (22.1.1)\r\n",
      "Looking in links: https://storage.googleapis.com/jax-releases/jax_releases.html\r\n",
      "Requirement already satisfied: jax[cuda] in /opt/conda/lib/python3.9/site-packages (0.3.13)\r\n",
      "Requirement already satisfied: scipy>=1.2.1 in /opt/conda/lib/python3.9/site-packages (from jax[cuda]) (1.8.0)\r\n",
      "Requirement already satisfied: typing-extensions in /opt/conda/lib/python3.9/site-packages (from jax[cuda]) (4.2.0)\r\n",
      "Requirement already satisfied: absl-py in /opt/conda/lib/python3.9/site-packages (from jax[cuda]) (1.0.0)\r\n",
      "Requirement already satisfied: numpy>=1.19 in /opt/conda/lib/python3.9/site-packages (from jax[cuda]) (1.21.6)\r\n",
      "Requirement already satisfied: opt-einsum in /opt/conda/lib/python3.9/site-packages (from jax[cuda]) (3.3.0)\r\n",
      "Requirement already satisfied: jaxlib==0.3.10+cuda11.cudnn82 in /opt/conda/lib/python3.9/site-packages (from jax[cuda]) (0.3.10+cuda11.cudnn82)\r\n",
      "Requirement already satisfied: flatbuffers<3.0,>=1.12 in /opt/conda/lib/python3.9/site-packages (from jaxlib==0.3.10+cuda11.cudnn82->jax[cuda]) (2.0)\r\n",
      "Requirement already satisfied: six in /opt/conda/lib/python3.9/site-packages (from absl-py->jax[cuda]) (1.16.0)\r\n",
      "Note: you may need to restart the kernel to use updated packages.\n",
      "env: XLA_PYTHON_CLIENT_PREALLOCATE=false\n"
     ]
    },
    {
     "data": {
      "text/plain": "{'PATH': '/opt/conda/bin:/usr/local/nvidia/bin:/usr/local/cuda/bin:/usr/local/sbin:/usr/local/bin:/usr/sbin:/usr/bin:/sbin:/bin',\n 'HOSTNAME': 'jupyter-kcollins9-40ucmerced-2eedu',\n 'NVIDIA_VISIBLE_DEVICES': 'MIG-a14556e8-fb46-51b6-877d-fb5fc0fb4885',\n 'JPY_API_TOKEN': '<hidden>',\n 'JUPYTERHUB_HOST': '',\n 'JUPYTER_IMAGE_SPEC': 'localhost:30081/prp/jupyter-stack/scipy',\n 'MEM_GUARANTEE': '8589934592',\n 'JUPYTERHUB_OAUTH_CALLBACK_URL': '/user/kcollins9@ucmerced.edu/oauth_callback',\n 'JUPYTER_IMAGE': 'localhost:30081/prp/jupyter-stack/scipy',\n 'CPU_GUARANTEE': '8.0',\n 'CPU_LIMIT': '8.0',\n 'JUPYTERHUB_ACTIVITY_URL': 'http://hub:8081/hub/api/users/kcollins9@ucmerced.edu/activity',\n 'JUPYTERHUB_CLIENT_ID': 'jupyterhub-user-kcollins9%40ucmerced.edu',\n 'JUPYTERHUB_SERVER_NAME': '',\n 'JUPYTERHUB_USER': 'kcollins9@ucmerced.edu',\n 'MEM_LIMIT': '8589934592',\n 'JUPYTERHUB_ADMIN_ACCESS': '1',\n 'JUPYTERHUB_API_TOKEN': '<hidden>',\n 'JUPYTERHUB_API_URL': 'http://hub:8081/hub/api',\n 'JUPYTERHUB_BASE_URL': '/',\n 'JUPYTERHUB_SERVICE_PREFIX': '/user/kcollins9@ucmerced.edu/',\n 'HUB_PORT_8081_TCP_PORT': '8081',\n 'KUBERNETES_PORT_443_TCP_ADDR': '10.96.0.1',\n 'PROXY_API_SERVICE_HOST': '10.103.20.131',\n 'PROXY_API_PORT': 'tcp://10.103.20.131:8001',\n 'KUBERNETES_SERVICE_PORT': '443',\n 'PROXY_API_PORT_8001_TCP': 'tcp://10.103.20.131:8001',\n 'PROXY_API_PORT_8001_TCP_ADDR': '10.103.20.131',\n 'PROXY_PUBLIC_SERVICE_PORT_HTTP': '80',\n 'PROXY_PUBLIC_PORT_80_TCP_PORT': '80',\n 'HUB_PORT_8081_TCP_PROTO': 'tcp',\n 'KUBERNETES_PORT_443_TCP': 'tcp://10.96.0.1:443',\n 'KUBERNETES_PORT_443_TCP_PORT': '443',\n 'PROXY_API_PORT_8001_TCP_PROTO': 'tcp',\n 'PROXY_PUBLIC_PORT_80_TCP': 'tcp://10.107.169.223:80',\n 'PROXY_PUBLIC_PORT_80_TCP_ADDR': '10.107.169.223',\n 'HUB_SERVICE_PORT': '8081',\n 'HUB_PORT': 'tcp://10.102.46.209:8081',\n 'PROXY_API_PORT_8001_TCP_PORT': '8001',\n 'PROXY_PUBLIC_SERVICE_PORT': '80',\n 'HUB_PORT_8081_TCP': 'tcp://10.102.46.209:8081',\n 'KUBERNETES_PORT': 'tcp://10.96.0.1:443',\n 'KUBERNETES_PORT_443_TCP_PROTO': 'tcp',\n 'PROXY_API_SERVICE_PORT': '8001',\n 'HUB_SERVICE_HOST': '10.102.46.209',\n 'HUB_SERVICE_PORT_HUB': '8081',\n 'PROXY_PUBLIC_PORT': 'tcp://10.107.169.223:80',\n 'PROXY_PUBLIC_PORT_80_TCP_PROTO': 'tcp',\n 'HUB_PORT_8081_TCP_ADDR': '10.102.46.209',\n 'KUBERNETES_SERVICE_HOST': '10.96.0.1',\n 'KUBERNETES_SERVICE_PORT_HTTPS': '443',\n 'PROXY_PUBLIC_SERVICE_HOST': '10.107.169.223',\n 'NVARCH': 'x86_64',\n 'NVIDIA_REQUIRE_CUDA': 'cuda>=11.4 brand=tesla,driver>=418,driver<419 brand=tesla,driver>=440,driver<441 brand=tesla,driver>=450,driver<451 brand=tesla,driver>=460,driver<461',\n 'NV_CUDA_CUDART_VERSION': '11.4.148-1',\n 'NV_CUDA_COMPAT_PACKAGE': 'cuda-compat-11-4',\n 'CUDA_VERSION': '11.4.3',\n 'LD_LIBRARY_PATH': '/usr/local/nvidia/lib:/usr/local/nvidia/lib64',\n 'NVIDIA_DRIVER_CAPABILITIES': 'compute,utility',\n 'NV_CUDA_LIB_VERSION': '11.4.3-1',\n 'NV_NVTX_VERSION': '11.4.120-1',\n 'NV_LIBNPP_VERSION': '11.4.0.110-1',\n 'NV_LIBNPP_PACKAGE': 'libnpp-11-4=11.4.0.110-1',\n 'NV_LIBCUSPARSE_VERSION': '11.6.0.120-1',\n 'NV_LIBCUBLAS_PACKAGE_NAME': 'libcublas-11-4',\n 'NV_LIBCUBLAS_VERSION': '11.6.5.2-1',\n 'NV_LIBCUBLAS_PACKAGE': 'libcublas-11-4=11.6.5.2-1',\n 'NV_LIBNCCL_PACKAGE_NAME': 'libnccl2',\n 'NV_LIBNCCL_PACKAGE_VERSION': '2.11.4-1',\n 'NCCL_VERSION': '2.11.4-1',\n 'NV_LIBNCCL_PACKAGE': 'libnccl2=2.11.4-1+cuda11.4',\n 'NV_CUDA_CUDART_DEV_VERSION': '11.4.148-1',\n 'NV_NVML_DEV_VERSION': '11.4.120-1',\n 'NV_LIBCUSPARSE_DEV_VERSION': '11.6.0.120-1',\n 'NV_LIBNPP_DEV_VERSION': '11.4.0.110-1',\n 'NV_LIBNPP_DEV_PACKAGE': 'libnpp-dev-11-4=11.4.0.110-1',\n 'NV_LIBCUBLAS_DEV_VERSION': '11.6.5.2-1',\n 'NV_LIBCUBLAS_DEV_PACKAGE_NAME': 'libcublas-dev-11-4',\n 'NV_LIBCUBLAS_DEV_PACKAGE': 'libcublas-dev-11-4=11.6.5.2-1',\n 'NV_LIBNCCL_DEV_PACKAGE_NAME': 'libnccl-dev',\n 'NV_LIBNCCL_DEV_PACKAGE_VERSION': '2.11.4-1',\n 'NV_LIBNCCL_DEV_PACKAGE': 'libnccl-dev=2.11.4-1+cuda11.4',\n 'LIBRARY_PATH': '/usr/local/cuda/lib64/stubs',\n 'NV_CUDNN_VERSION': '8.2.4.15',\n 'NV_CUDNN_PACKAGE': 'libcudnn8=8.2.4.15-1+cuda11.4',\n 'NV_CUDNN_PACKAGE_DEV': 'libcudnn8-dev=8.2.4.15-1+cuda11.4',\n 'NV_CUDNN_PACKAGE_NAME': 'libcudnn8',\n 'DEBIAN_FRONTEND': 'noninteractive',\n 'CONDA_DIR': '/opt/conda',\n 'SHELL': '/bin/bash',\n 'NB_USER': 'jovyan',\n 'NB_UID': '1000',\n 'NB_GID': '100',\n 'LC_ALL': 'en_US.UTF-8',\n 'LANG': 'en_US.UTF-8',\n 'LANGUAGE': 'en_US.UTF-8',\n 'HOME': '/home/jovyan',\n 'XDG_CACHE_HOME': '/home/jovyan/.cache/',\n 'JUPYTERHUB_SINGLEUSER_APP': 'jupyter_server.serverapp.ServerApp',\n 'PYDEVD_USE_FRAME_EVAL': 'NO',\n 'JPY_PARENT_PID': '8',\n 'TERM': 'xterm-color',\n 'CLICOLOR': '1',\n 'PAGER': 'cat',\n 'GIT_PAGER': 'cat',\n 'MPLBACKEND': 'module://matplotlib_inline.backend_inline',\n 'TF_CPP_MIN_LOG_LEVEL': '1',\n 'XLA_PYTHON_CLIENT_PREALLOCATE': 'false'}"
     },
     "execution_count": 189,
     "metadata": {},
     "output_type": "execute_result"
    }
   ],
   "source": [
    "# install JAX using iPython magic command\n",
    "%pip install --upgrade pip && pip install --upgrade \"jax[cuda]\" -f https://storage.googleapis.com/jax-releases/jax_releases.html\n",
    "\n",
    "import numpy as np\n",
    "import numpy.linalg as nl\n",
    "import scipy.linalg as sl\n",
    "import scipy.special as ss\n",
    "import scipy.integrate as si\n",
    "import scipy.optimize as so\n",
    "import matplotlib.pyplot as plt\n",
    "import jax\n",
    "import jax.numpy as jnp\n",
    "import jax.scipy as jsp\n",
    "import jax.numpy.linalg as jnl\n",
    "from jax.config import config\n",
    "config.update(\"jax_enable_x64\", True)\n",
    "\n",
    "%env XLA_PYTHON_CLIENT_PREALLOCATE=false\n",
    "%env\n",
    "\n",
    "# import os\n",
    "# os.environ['XLA_PYTHON_CLIENT_PREALLOCATE']='false'"
   ],
   "metadata": {
    "collapsed": false,
    "pycharm": {
     "name": "#%%\n"
    }
   }
  },
  {
   "cell_type": "markdown",
   "source": [
    "<h1>Forward Problem</h1>"
   ],
   "metadata": {
    "collapsed": false,
    "pycharm": {
     "name": "#%% md\n"
    }
   }
  },
  {
   "cell_type": "code",
   "execution_count": 190,
   "outputs": [
    {
     "name": "stdout",
     "output_type": "stream",
     "text": [
      "Shape fourtox: (65, 1025)\n"
     ]
    }
   ],
   "source": [
    "# size of spatial domain\n",
    "L = 15.0  # originally 10, increased by 50%\n",
    "# number of real space grid points (for plotting)\n",
    "numx = 1025\n",
    "# real space grid points (for plotting)\n",
    "xvec = np.linspace(-L, L, numx)\n",
    "\n",
    "# number of Fourier basis functions\n",
    "# n = -numF to n = numF\n",
    "numfour = 32  # 32\n",
    "\n",
    "# matrix for converting Fourier representation to real space\n",
    "fournvec = np.arange(-numfour, numfour + 1) # fournvec=-nfb,...,0,...,nfb\n",
    "fourtox = np.exp(1j * np.pi * np.outer(fournvec, xvec) / L) / np.sqrt(2 * L)\n",
    "print('Shape fourtox:', fourtox.shape)"
   ],
   "metadata": {
    "collapsed": false,
    "pycharm": {
     "name": "#%%\n"
    }
   }
  },
  {
   "cell_type": "code",
   "execution_count": 191,
   "outputs": [
    {
     "data": {
      "text/plain": "<Figure size 432x288 with 1 Axes>",
      "image/png": "[encoded data removed]"
     },
     "metadata": {
      "needs_background": "light"
     },
     "output_type": "display_data"
    }
   ],
   "source": [
    "def v(z):\n",
    "    # harmonic oscillator potential (should be exact for Chebyshev)\n",
    "    return 0.5 * z**2\n",
    "    # symmetric double well potential\n",
    "    # return 2.5e-3 * (z**2 - 25)**2\n",
    "    # asymmetric double well potential\n",
    "    # c0 = 4.35; c1 = 9.40e-1; c2 = -3.56e-1; c3 = -4.66e-2\n",
    "    # c4 = 1.46e-2; c5 = 6.76e-4; c6 = -1.26e-4; c7 = -5.43e-6\n",
    "    # c8 = 4.12e-7; c9 = 1.65e-8\n",
    "    # x = z + 0.8\n",
    "    # return 0.5 * (c0 + c1*x + c2*x**2 + c3*x**3 + c4*x**4 + c5*x**5 + c6*x**6 + c7*x**7 + c8*x**8 + c9*x**9)\n",
    "    # non-polynomial potentials\n",
    "    # return np.sin(0.4 * z - 1)\n",
    "    # return np.sin((0.5 * z)**2)\n",
    "    # return 15 * (-np.cos(z) + np.sin((0.5 * z)**2 - 0.2 * z))\n",
    "    # soft coulomb potential\n",
    "    # return -1 / np.sqrt(z**2 + 0.25)\n",
    "\n",
    "# compute true potential on real space grid for plotting\n",
    "vxvec = v(xvec)\n",
    "\n",
    "# plot true potential\n",
    "plt.plot(xvec, vxvec)\n",
    "plt.title('Plot of V(x)')\n",
    "plt.xlabel('x')\n",
    "plt.show()"
   ],
   "metadata": {
    "collapsed": false,
    "pycharm": {
     "name": "#%%\n"
    }
   }
  },
  {
   "cell_type": "code",
   "execution_count": 192,
   "outputs": [
    {
     "name": "stdout",
     "output_type": "stream",
     "text": [
      "Shape vtoeptrue (65,)\n",
      "Shape vmattrue: (65, 65)\n"
     ]
    }
   ],
   "source": [
    "# compute the potential operator matrix\n",
    "\n",
    "vtoeptrue = []\n",
    "for thisfourn in range(2 * numfour + 1):\n",
    "    def intgrnd(x):\n",
    "        return v(x) * np.exp(-1j * np.pi * thisfourn * x / L) / (2 * L)\n",
    "    def rintgrnd(x):\n",
    "        return intgrnd(x).real\n",
    "    def iintgrnd(x):\n",
    "        return intgrnd(x).imag\n",
    "    vtoeptrue.append(si.quad(rintgrnd, -L, L, limit=100)[0] + 1j * si.quad(iintgrnd, -L, L, limit=100)[0])\n",
    "\n",
    "vtoeptrue = jnp.array(vtoeptrue)\n",
    "print('Shape vtoeptrue', vtoeptrue.shape)\n",
    "\n",
    "vmattrue = sl.toeplitz(r=vtoeptrue, c=np.conj(vtoeptrue))\n",
    "\n",
    "print('Shape vmattrue:', vmattrue.shape)"
   ],
   "metadata": {
    "collapsed": false,
    "pycharm": {
     "name": "#%%\n"
    }
   }
  },
  {
   "cell_type": "code",
   "execution_count": 193,
   "outputs": [
    {
     "data": {
      "text/plain": "<Figure size 432x288 with 1 Axes>",
      "image/png": "[encoded data removed]"
     },
     "metadata": {
      "needs_background": "light"
     },
     "output_type": "display_data"
    },
    {
     "name": "stdout",
     "output_type": "stream",
     "text": [
      "0.012198398680964392\n"
     ]
    }
   ],
   "source": [
    "# reconstruct the real space potential from the potential\n",
    "# operator matrix\n",
    "\n",
    "# at this point, \"vtoeptrue\" contains Fourier coefficients\n",
    "# for modes 0, ..., 2*N\n",
    "# let us convert this into information on modes -N, ..., N\n",
    "# also we need a slight renormalization to make this a Fourier\n",
    "# coefficient\n",
    "# with respect to our ***orthonormal*** Fourier basis\n",
    "vfourtrue = np.sqrt(2*L) * np.concatenate([np.flipud(vtoeptrue[1:(numfour + 1)]).conj(), vtoeptrue[:(numfour + 1)]])\n",
    "vtruerec = vfourtrue @ fourtox\n",
    "\n",
    "plt.plot(xvec, np.real(vtruerec), label='rec')\n",
    "plt.plot(xvec, vxvec, label='truth')\n",
    "plt.title('Reconstructed Potential vs. Truth')\n",
    "plt.legend()\n",
    "plt.show()\n",
    "\n",
    "print(np.mean(np.square(np.abs(vtruerec - vxvec))))"
   ],
   "metadata": {
    "collapsed": false,
    "pycharm": {
     "name": "#%%\n"
    }
   }
  },
  {
   "cell_type": "code",
   "execution_count": 194,
   "outputs": [],
   "source": [
    "# define initial states and transform to Fourier basis\n",
    "\n",
    "def psi0_0(x):\n",
    "    return 10 * np.exp(-((x + 3) / 4)**2) * (2.0 / np.pi)**0.25\n",
    "    # return 10 * np.exp(-((x + 3) / 2)**2) * (2.0 / np.pi)**0.25\n",
    "\n",
    "def psi0_1(x):\n",
    "    return np.exp(-((x - 3) / 4)**2) * (2.0 / np.pi)**0.25\n",
    "    # return np.exp(-((x - 3) / 2)**2) * (2.0 / np.pi)**0.25\n",
    "\n",
    "def psi0_2(x):\n",
    "    # return np.exp(-x**2) * (2.0 / np.pi)**0.25\n",
    "    return np.exp(-((x - 8) / 4)**2) * (2.0 / np.pi)**0.25\n",
    "    # return np.exp(-((x - 6)/4)**2) * (2.0 / np.pi)**0.25\n",
    "\n",
    "def psi0_3(x):\n",
    "    # a weird non-symmetric wavefunction\n",
    "    # return np.abs(np.sin((0.15*x - 0.5)**2))\n",
    "    return np.exp(-((x + 8) / 4)**2) * (2.0 / np.pi)**0.25\n",
    "    # return np.exp(-((x + 6)/4)**2) * (2.0 / np.pi)**0.25\n",
    "\n",
    "def psi0_4(x):\n",
    "    return np.exp(-((x - 12) / 4)**2) * (2.0 / np.pi)**0.25\n",
    "    # return np.exp(-(x - 11)**2) * (2.0 / np.pi)**0.25\n",
    "\n",
    "def psi0_5(x):\n",
    "    return np.exp(-((x + 12) / 4)**2) * (2.0 / np.pi)**0.25\n",
    "    # return np.exp(-(x + 11)**2) * (2.0 / np.pi)**0.25\n",
    "\n",
    "\n",
    "# function for normalizing initial wave functions and transforming them to the Fourier representation\n",
    "\n",
    "def mka0(psi0fn):\n",
    "    # compute psi0 normalization term\n",
    "    psi0fn_prob_intgrnd = lambda x: np.abs(psi0fn(x)) ** 2\n",
    "    psi0fn_norm = np.sqrt(si.quad(psi0fn_prob_intgrnd, -L, L)[0])\n",
    "\n",
    "    # normalized psi function (for integration)\n",
    "    norm_psi0fn = lambda x: psi0fn(x) / psi0fn_norm\n",
    "\n",
    "    # compute the Fourier representation of psi0fn\n",
    "    a0raw = []\n",
    "    for thisfourn in range (numfour + 1):\n",
    "        def intgrnd(x):\n",
    "            return norm_psi0fn(x) * np.exp(-1j * np.pi * thisfourn * x / L) / np.sqrt(2 * L)\n",
    "        def rintgrnd(x):\n",
    "            return intgrnd(x).real\n",
    "        def iintgrnd(x):\n",
    "            return intgrnd(x).imag\n",
    "        a0raw.append(si.quad(rintgrnd, -L, L, limit=100)[0] + 1j * si.quad(iintgrnd, -L, L, limit=100)[0])\n",
    "\n",
    "    a0 = np.concatenate([np.conjugate(np.flipud(a0raw[1:])), a0raw])\n",
    "\n",
    "    a0 = jnp.array(a0)\n",
    "\n",
    "    normpsi0x = norm_psi0fn(xvec)\n",
    "\n",
    "    return a0, normpsi0x\n"
   ],
   "metadata": {
    "collapsed": false,
    "pycharm": {
     "name": "#%%\n"
    }
   }
  },
  {
   "cell_type": "code",
   "execution_count": 195,
   "outputs": [
    {
     "name": "stdout",
     "output_type": "stream",
     "text": [
      "l2 error psi0_0: 7.476210590807997e-05\n",
      "l-infinity error psi0_0: 3.137317008559103e-05\n",
      "l2 error psi0_1: 7.476210590808388e-05\n",
      "l-infinity error psi0_1: 3.1373170085563275e-05\n",
      "l2 error psi0_2: 0.02843592889688725\n",
      "l-infinity error psi0_2: 0.01129795852635211\n",
      "l2 error psi0_3: 0.028435928896887255\n",
      "l-infinity error psi0_3: 0.01129795852635211\n"
     ]
    },
    {
     "data": {
      "text/plain": "<Figure size 432x288 with 1 Axes>",
      "image/png": "[encoded data removed]"
     },
     "metadata": {
      "needs_background": "light"
     },
     "output_type": "display_data"
    }
   ],
   "source": [
    "# compute vector of initial states\n",
    "\n",
    "# pick initial un-normalized wave functions\n",
    "psi0fnvec = [psi0_0, psi0_1, psi0_2, psi0_3]  # [psi0_0, psi0_1, psi0_2, psi0_3, psi0_4, psi0_5]\n",
    "\n",
    "a0vec = []\n",
    "normpsi0xvec = []\n",
    "normpsi0recxvec = []\n",
    "for thispsi0fn in psi0fnvec:\n",
    "    tempa0, tempnormpsi0x = mka0(thispsi0fn)\n",
    "    a0vec.append(tempa0)\n",
    "    normpsi0xvec.append(tempnormpsi0x)\n",
    "    normpsi0recxvec.append(tempa0 @ fourtox)\n",
    "\n",
    "\n",
    "# check if reconstructed Fourier representation is close to truth\n",
    "for i in range(len(normpsi0xvec)):\n",
    "    print(f'l2 error psi0_{i}:', nl.norm(normpsi0xvec[i] - normpsi0recxvec[i]))\n",
    "    print(f'l-infinity error psi0_{i}:', np.max(np.abs(normpsi0xvec[i] - normpsi0recxvec[i])))\n",
    "    # plot |\\psi(x,0)|^2\n",
    "    plt.plot(xvec, np.abs(normpsi0xvec[i])**2, label=f\"Truth {i}\")\n",
    "    plt.plot(xvec, np.abs(normpsi0recxvec[i])**2, label=f\"Rec {i}\")\n",
    "\n",
    "plt.title('|\\psi(x,0)|^2')\n",
    "plt.xlabel('x')\n",
    "plt.legend()\n",
    "plt.show()"
   ],
   "metadata": {
    "collapsed": false,
    "pycharm": {
     "name": "#%%\n"
    }
   }
  },
  {
   "cell_type": "markdown",
   "source": [
    "---\n",
    "**Forward Propagation**"
   ],
   "metadata": {
    "collapsed": false
   }
  },
  {
   "cell_type": "code",
   "execution_count": 196,
   "outputs": [
    {
     "name": "stdout",
     "output_type": "stream",
     "text": [
      "hmattrue Hermitian check (should be close to zero):\n",
      "0.0\n",
      "hmattrue diagonalized check (should be close to zero):\n",
      "9.764341979709313e-13\n",
      "stttrue unitary check (should be close to zero):\n",
      "1.932735915537718e-14\n"
     ]
    }
   ],
   "source": [
    "# Eigendecomposition of Hamiltonian\n",
    "\n",
    "# kinetic operator in the Fourier representation\n",
    "# (this is constant for a given system)\n",
    "kmat = np.diag(np.arange(-numfour, numfour + 1) ** 2 * np.pi ** 2 / (2 * L ** 2))\n",
    "\n",
    "# Hamiltonian operator in the Fourier representation\n",
    "hmattrue = kmat + vmattrue\n",
    "\n",
    "# check if the Hamiltonian matrix is Hermitian\n",
    "print('hmattrue Hermitian check (should be close to zero):', nl.norm(hmattrue - hmattrue.T.conj()), sep='\\n')\n",
    "\n",
    "# eigen-decomposition of the Hamiltonian matrix\n",
    "spctrue, stttrue = jnl.eigh(hmattrue)\n",
    "\n",
    "# check if the decomposition diagonalizes the\n",
    "# Hamiltonian matrix\n",
    "# if this is close to zero then\n",
    "# hmat = states @ np.diag(spec) @ np.conj(states).T\n",
    "print('hmattrue diagonalized check (should be close to zero):', nl.norm(hmattrue @ stttrue - stttrue @ np.diag(spctrue)), sep='\\n')\n",
    "\n",
    "# check if the eigenstates are unitary\n",
    "print('stttrue unitary check (should be close to zero):', nl.norm(stttrue @ stttrue.T.conj() - np.eye(2 * numfour + 1)), sep='\\n')"
   ],
   "metadata": {
    "collapsed": false,
    "pycharm": {
     "name": "#%%\n"
    }
   }
  },
  {
   "cell_type": "code",
   "execution_count": 197,
   "outputs": [
    {
     "name": "stdout",
     "output_type": "stream",
     "text": [
      "[0.5 1.5 2.5 3.5 4.5 5.5]\n"
     ]
    },
    {
     "data": {
      "text/plain": "<Figure size 432x288 with 1 Axes>",
      "image/png": "[encoded data removed]"
     },
     "metadata": {
      "needs_background": "light"
     },
     "output_type": "display_data"
    },
    {
     "name": "stdout",
     "output_type": "stream",
     "text": [
      "Quick normalization check (should be close to 1):\n",
      "1.000000000000002\n",
      "Accurate normalization check (should be close to 1):\n",
      "1.000000000000002\n"
     ]
    }
   ],
   "source": [
    "# plot ground state of Eigendecomposition\n",
    "\n",
    "# find indices that sort eigenvalues\n",
    "ordering = jnp.argsort(spctrue)\n",
    "\n",
    "# print the first few eigenvalues\n",
    "print(spctrue[ordering[:6]])\n",
    "\n",
    "# pick out and plot real part of the ground state\n",
    "groundstate = ordering[0]\n",
    "wavefn = stttrue[:, groundstate] @ fourtox\n",
    "plt.plot(xvec, np.real(wavefn))\n",
    "plt.title('Real Part of Ground State')\n",
    "plt.xlabel('x')\n",
    "plt.show()\n",
    "\n",
    "# quick and dirty check of normalization\n",
    "print('Quick normalization check (should be close to 1):', np.sum(np.abs(wavefn)**2 * (xvec[1]-xvec[0])), sep='\\n')\n",
    "\n",
    "# this should be a more accurate check of the ground state\n",
    "# wave functions' normalization\n",
    "print('Accurate normalization check (should be close to 1):', si.trapezoid(np.abs(wavefn)**2, xvec), sep='\\n')"
   ],
   "metadata": {
    "collapsed": false,
    "pycharm": {
     "name": "#%%\n"
    }
   }
  },
  {
   "cell_type": "code",
   "execution_count": 198,
   "outputs": [
    {
     "name": "stdout",
     "output_type": "stream",
     "text": [
      "Shape amattrue: (4, 21, 65)\n",
      "Done propagating\n"
     ]
    }
   ],
   "source": [
    "# Propagate\n",
    "\n",
    "# set time-step size\n",
    "dt = 1e-2\n",
    "\n",
    "# set number of time steps\n",
    "# trajectory length is numts + 1 (initial state + numts steps)\n",
    "numts = 20  # 40  # 100\n",
    "\n",
    "# compute propagator matrix\n",
    "propatrue = stttrue @ jnp.diag(jnp.exp(-1j * spctrue * dt)) @ stttrue.conj().T\n",
    "\n",
    "amattruevec = []\n",
    "# propagate system starting from initial \"a\" state\n",
    "for thisa0 in a0vec:\n",
    "    tempamat = [thisa0.copy()]\n",
    "    for i in range(numts):\n",
    "        tempamat.append(propatrue @ tempamat[-1])\n",
    "\n",
    "    amattruevec.append(tempamat)\n",
    "\n",
    "\n",
    "amattruevec = jnp.array(amattruevec)\n",
    "\n",
    "print('Shape amattrue:', amattruevec.shape)\n",
    "\n",
    "print('Done propagating')"
   ],
   "metadata": {
    "collapsed": false,
    "pycharm": {
     "name": "#%%\n"
    }
   }
  },
  {
   "cell_type": "code",
   "execution_count": 199,
   "outputs": [
    {
     "name": "stdout",
     "output_type": "stream",
     "text": [
      "Shape psimattrue: (4, 21, 1025)\n",
      "Shape probmattrue: (4, 21, 1025)\n",
      "Shape normmattrue: (4, 21)\n"
     ]
    },
    {
     "data": {
      "text/plain": "1.0166187391384762e-05"
     },
     "execution_count": 199,
     "metadata": {},
     "output_type": "execute_result"
    }
   ],
   "source": [
    "# check if system's state remains normalized for the propagation\n",
    "\n",
    "psimattruevec = amattruevec @ fourtox\n",
    "print('Shape psimattrue:', psimattruevec.shape)\n",
    "\n",
    "probmattruevec = np.abs(psimattruevec) ** 2\n",
    "print('Shape probmattrue:', probmattruevec.shape)\n",
    "\n",
    "normmattruevec = si.trapezoid(probmattruevec, xvec)\n",
    "print('Shape normmattrue:', normmattruevec.shape)\n",
    "\n",
    "# average deviation from 1\n",
    "np.mean(np.abs(normmattruevec - 1.0))"
   ],
   "metadata": {
    "collapsed": false,
    "pycharm": {
     "name": "#%%\n"
    }
   }
  },
  {
   "cell_type": "markdown",
   "source": [
    "---\n",
    "<h1>Inverse Problem</h1>"
   ],
   "metadata": {
    "collapsed": false,
    "pycharm": {
     "name": "#%% md\n"
    }
   }
  },
  {
   "cell_type": "code",
   "execution_count": 200,
   "outputs": [
    {
     "name": "stdout",
     "output_type": "stream",
     "text": [
      "(65, 65)\n"
     ]
    }
   ],
   "source": [
    "# used for constructing Toeplitz matrix from a vector setup\n",
    "# like jnp.concatenate([jnp.flipud(row.conj()), row[1:]])\n",
    "\n",
    "numtoepelms = 2 * numfour + 1\n",
    "aa = (-1) * np.arange(0, numtoepelms).reshape(numtoepelms, 1)\n",
    "bb = [np.arange(numtoepelms - 1, 2 * numtoepelms - 1)]\n",
    "toepindxmat = np.array(aa + bb)\n",
    "print(toepindxmat.shape)"
   ],
   "metadata": {
    "collapsed": false,
    "pycharm": {
     "name": "#%%\n"
    }
   }
  },
  {
   "cell_type": "code",
   "execution_count": 201,
   "outputs": [
    {
     "name": "stdout",
     "output_type": "stream",
     "text": [
      "0.0\n"
     ]
    }
   ],
   "source": [
    "# check if index method makes same vmat\n",
    "# should be close to 0\n",
    "\n",
    "print(nl.norm(vmattrue - np.concatenate([np.flipud(np.conj(vtoeptrue)), vtoeptrue[1:]])[toepindxmat]))"
   ],
   "metadata": {
    "collapsed": false,
    "pycharm": {
     "name": "#%%\n"
    }
   }
  },
  {
   "cell_type": "code",
   "execution_count": 202,
   "outputs": [
    {
     "name": "stdout",
     "output_type": "stream",
     "text": [
      "Shape betamattruevec: (4, 21, 65)\n",
      "Shape probmattruevec: (4, 21, 1025)\n",
      "Shape probmatrecvec @ fourtox: (4, 21, 1025)\n",
      "l2 error probmatrecvec: [3.65797364e-06 3.65797364e-06 3.45528496e-03 3.45528496e-03]\n",
      "l-inf error probmatrecvec: [1.24992128e-07 1.24992128e-07 9.99758955e-05 9.99758955e-05]\n"
     ]
    }
   ],
   "source": [
    "# make |\\psi(t)|^2 training data in the Fourier representation\n",
    "\n",
    "# compute \"beta\" from \"a\"\n",
    "# correlate only works with 1D vectors\n",
    "betamatvec = []\n",
    "for thisamattrue in amattruevec:\n",
    "    tempbetamat = []\n",
    "    for thisavectrue in thisamattrue:\n",
    "        tempbetamat.append(jnp.correlate(thisavectrue, thisavectrue, 'same'))\n",
    "\n",
    "    betamatvec.append(jnp.array(tempbetamat))\n",
    "\n",
    "betamatvec = jnp.array(betamatvec) / jnp.sqrt(2 * L)\n",
    "\n",
    "\n",
    "print('Shape betamattruevec:', betamatvec.shape)\n",
    "print('Shape probmattruevec:', probmattruevec.shape)\n",
    "\n",
    "probmatrecvec = betamatvec @ fourtox\n",
    "print('Shape probmatrecvec @ fourtox:', probmatrecvec.shape)\n",
    "\n",
    "print('l2 error probmatrecvec:', jnl.norm(probmattruevec - probmatrecvec, axis=(1, 2)))\n",
    "print('l-inf error probmatrecvec:', jnp.max(jnp.abs(probmattruevec - probmatrecvec), axis=(1, 2)))"
   ],
   "metadata": {
    "collapsed": false,
    "pycharm": {
     "name": "#%%\n"
    }
   }
  },
  {
   "cell_type": "code",
   "execution_count": 203,
   "outputs": [],
   "source": [
    "# objective function\n",
    "\n",
    "def probobj(theta, verbose=False):\n",
    "    # theta is a vector containing the concatenation\n",
    "    # of real and imaginary parts of vmat\n",
    "    # its size should be 2 * numtoepelms - 1 = 4 * numfour + 1\n",
    "\n",
    "    # to use theta we need to first recombine the real\n",
    "    # and imaginary parts into a vector of complex values\n",
    "    vtoephatR = theta[:numtoepelms]\n",
    "    vtoephatI = jnp.concatenate((jnp.array([0.0]), theta[numtoepelms:]))\n",
    "    # vtoephatI = theta[numtoepelms:]\n",
    "    vtoephat = vtoephatR + 1j * vtoephatI\n",
    "\n",
    "    if verbose:\n",
    "        print('l2 error vtoephat:', jnl.norm(vtoephat - vtoeptrue))\n",
    "\n",
    "    # construct vmathat from complex toeplitz vector\n",
    "    vmathat = jnp.concatenate([jnp.flipud(jnp.conj(vtoephat)), vtoephat[1:]])[toepindxmat]\n",
    "\n",
    "    # Construct Hamiltonian matrix\n",
    "    hmathat = kmat + vmathat\n",
    "\n",
    "    if verbose:\n",
    "        # check if hmat is Hermitian\n",
    "        print('hmat hermitian? (should be close to 0):', jnl.norm(hmathat - hmathat.T.conj()), sep='\\n')\n",
    "        print('l2 error hmat:', jnl.norm(hmathat - hmattrue))\n",
    "\n",
    "    # eigen-decomposition of the Hamiltonian matrix\n",
    "    spchat, stthat = jnl.eigh(hmathat)\n",
    "\n",
    "    if verbose:\n",
    "        # check if the decomposition diagonalizes hmat\n",
    "        # if this is close to zero then\n",
    "        # hmat = states @ np.diag(spec) @ np.conj(states).T\n",
    "        print('hmathat diagonalized? (should be close to 0):', jnl.norm(hmathat @ stthat - stthat @ jnp.diag(spchat)), sep='\\n')\n",
    "\n",
    "        # check if stt is unitary\n",
    "        print('stthat unitary? (should be close to 0):', jnl.norm(stthat @ stthat.T.conj() - jnp.eye(2 * numfour + 1)), sep='\\n')\n",
    "\n",
    "        print('l2 error spchat:', jnl.norm(spchat - spctrue))\n",
    "        print('l2 error stthat:', jnl.norm(stthat - stttrue))\n",
    "\n",
    "        print('|| vmattrue - vmathat || = ', jnl.norm(vmattrue - vmathat))\n",
    "\n",
    "    # compute propagator matrix\n",
    "    propahat = stthat @ jnp.diag(jnp.exp(-1j * spchat * dt)) @ stthat.conj().T\n",
    "\n",
    "    rtnobj = 0.0\n",
    "    for r in range(len(a0vec)):\n",
    "        thisahat = a0vec[r].copy()\n",
    "        thisrhomat = [jnp.correlate(thisahat, thisahat, 'same') / jnp.sqrt(2 * L)]\n",
    "\n",
    "        if verbose:\n",
    "            print('')\n",
    "            print('l2 error thisavec:', jnl.norm(thisahat - amattruevec[r, 0]))\n",
    "            print('l2 error tempbetamat[-1]:', jnl.norm(thisrhomat[-1] - betamatvec[r, 0]))\n",
    "\n",
    "        # propagate system starting from initial \"a\" state\n",
    "        for i in range(numts):\n",
    "            # propagate the system one time-step\n",
    "            thisahat = (propahat @ thisahat)\n",
    "\n",
    "            # calculate the amp^2\n",
    "            thisrhomat.append(jnp.correlate(thisahat, thisahat, 'same') / jnp.sqrt(2 * L))\n",
    "\n",
    "            if verbose:\n",
    "                # if i % 1 == 0:\n",
    "                if i % 10 == 0:\n",
    "                    print('l2 error thisavec:', jnl.norm(thisahat - amattruevec[r, i+1]))\n",
    "                    print('l2 error tempbetamat[-1]:', jnl.norm(thisrhomat[-1] - betamatvec[r, i+1]))\n",
    "\n",
    "        # compute objective functions\n",
    "        tempresid = jnp.array(thisrhomat) - betamatvec[r]\n",
    "        thisobj = 0.5 * jnp.sum(jnp.abs(tempresid)**2)\n",
    "        rtnobj += thisobj\n",
    "\n",
    "        if verbose:\n",
    "            print('')\n",
    "            print('Shape tempbetamat:', jnp.shape(thisrhomat))\n",
    "            print('l2 error tempbetamat:', jnl.norm(tempresid))\n",
    "            print('thisobj:', thisobj)\n",
    "            print('')\n",
    "\n",
    "    return rtnobj"
   ],
   "metadata": {
    "collapsed": false,
    "pycharm": {
     "name": "#%%\n"
    }
   }
  },
  {
   "cell_type": "code",
   "execution_count": 204,
   "outputs": [
    {
     "name": "stdout",
     "output_type": "stream",
     "text": [
      "Shape vfourcat: (129,)\n",
      "0.0\n"
     ]
    }
   ],
   "source": [
    "# true potential in a form that can be tested in objective\n",
    "\n",
    "vtoeptruecat = jnp.concatenate((jnp.real(vtoeptrue), jnp.imag(vtoeptrue[1:])))\n",
    "\n",
    "print('Shape vfourcat:', vtoeptruecat.shape)\n",
    "\n",
    "print(nl.norm(vtoeptruecat[:numtoepelms] + 1j * jnp.concatenate((jnp.array([0.0]), vtoeptruecat[numtoepelms:])) - vtoeptrue))"
   ],
   "metadata": {
    "collapsed": false,
    "pycharm": {
     "name": "#%%\n"
    }
   }
  },
  {
   "cell_type": "code",
   "execution_count": 205,
   "outputs": [
    {
     "name": "stdout",
     "output_type": "stream",
     "text": [
      "l2 error vtoephat: 0.0\n",
      "hmat hermitian? (should be close to 0):\n",
      "0.0\n",
      "l2 error hmat: 0.0\n",
      "hmathat diagonalized? (should be close to 0):\n",
      "9.764341979709313e-13\n",
      "stthat unitary? (should be close to 0):\n",
      "1.9327359155377162e-14\n",
      "l2 error spchat: 0.0\n",
      "l2 error stthat: 0.0\n",
      "|| vmattrue - vmathat || =  0.0\n",
      "\n",
      "l2 error thisavec: 0.0\n",
      "l2 error tempbetamat[-1]: 0.0\n",
      "l2 error thisavec: 0.0\n",
      "l2 error tempbetamat[-1]: 0.0\n",
      "l2 error thisavec: 0.0\n",
      "l2 error tempbetamat[-1]: 0.0\n",
      "\n",
      "Shape tempbetamat: (21, 65)\n",
      "l2 error tempbetamat: 0.0\n",
      "thisobj: 0.0\n",
      "\n",
      "\n",
      "l2 error thisavec: 0.0\n",
      "l2 error tempbetamat[-1]: 0.0\n",
      "l2 error thisavec: 0.0\n",
      "l2 error tempbetamat[-1]: 0.0\n",
      "l2 error thisavec: 0.0\n",
      "l2 error tempbetamat[-1]: 0.0\n",
      "\n",
      "Shape tempbetamat: (21, 65)\n",
      "l2 error tempbetamat: 0.0\n",
      "thisobj: 0.0\n",
      "\n",
      "\n",
      "l2 error thisavec: 0.0\n",
      "l2 error tempbetamat[-1]: 0.0\n",
      "l2 error thisavec: 0.0\n",
      "l2 error tempbetamat[-1]: 0.0\n",
      "l2 error thisavec: 0.0\n",
      "l2 error tempbetamat[-1]: 0.0\n",
      "\n",
      "Shape tempbetamat: (21, 65)\n",
      "l2 error tempbetamat: 0.0\n",
      "thisobj: 0.0\n",
      "\n",
      "\n",
      "l2 error thisavec: 0.0\n",
      "l2 error tempbetamat[-1]: 0.0\n",
      "l2 error thisavec: 0.0\n",
      "l2 error tempbetamat[-1]: 0.0\n",
      "l2 error thisavec: 0.0\n",
      "l2 error tempbetamat[-1]: 0.0\n",
      "\n",
      "Shape tempbetamat: (21, 65)\n",
      "l2 error tempbetamat: 0.0\n",
      "thisobj: 0.0\n",
      "\n",
      "Objective: 0.0\n"
     ]
    }
   ],
   "source": [
    "# check objective with true potential\n",
    "print('Objective:', probobj(vtoeptruecat, verbose=True))"
   ],
   "metadata": {
    "collapsed": false,
    "pycharm": {
     "name": "#%%\n"
    }
   }
  },
  {
   "cell_type": "code",
   "execution_count": 206,
   "outputs": [],
   "source": [
    "# jit probobj\n",
    "jitprobobj = jax.jit(probobj)"
   ],
   "metadata": {
    "collapsed": false,
    "pycharm": {
     "name": "#%%\n"
    }
   }
  },
  {
   "cell_type": "code",
   "execution_count": 207,
   "outputs": [
    {
     "name": "stdout",
     "output_type": "stream",
     "text": [
      "6.074045688960717e-32\n"
     ]
    }
   ],
   "source": [
    "# complie and test jitprobobj\n",
    "print(jitprobobj(vtoeptruecat))"
   ],
   "metadata": {
    "collapsed": false,
    "pycharm": {
     "name": "#%%\n"
    }
   }
  },
  {
   "cell_type": "code",
   "execution_count": 208,
   "outputs": [],
   "source": [
    "# JAX grad of the objective\n",
    "gradprobobj = jax.jit(jax.grad(jitprobobj))"
   ],
   "metadata": {
    "collapsed": false,
    "pycharm": {
     "name": "#%%\n"
    }
   }
  },
  {
   "cell_type": "code",
   "execution_count": 209,
   "outputs": [
    {
     "name": "stdout",
     "output_type": "stream",
     "text": [
      "2.1233243870139344e-18\n"
     ]
    }
   ],
   "source": [
    "# check grad of objective with true potential\n",
    "print(jnl.norm(gradprobobj(vtoeptruecat)))"
   ],
   "metadata": {
    "collapsed": false,
    "pycharm": {
     "name": "#%%\n"
    }
   }
  },
  {
   "cell_type": "markdown",
   "source": [
    "---\n",
    "---\n",
    "**Initialize with perturbed truth**"
   ],
   "metadata": {
    "collapsed": false,
    "pycharm": {
     "name": "#%% md\n"
    }
   }
  },
  {
   "cell_type": "code",
   "execution_count": 210,
   "outputs": [],
   "source": [
    "seed = 1234  # set to None for random initialization\n",
    "thetatrub = vtoeptruecat.copy()\n",
    "# thetatrub += 0.2 * np.random.default_rng(seed).normal(size=len(thetatrub))\n",
    "thetatrub += 2 * np.random.default_rng(seed).normal(size=len(thetatrub))\n",
    "\n",
    "thetatrub = jnp.array(thetatrub)"
   ],
   "metadata": {
    "collapsed": false,
    "pycharm": {
     "name": "#%%\n"
    }
   }
  },
  {
   "cell_type": "code",
   "execution_count": 211,
   "outputs": [
    {
     "name": "stdout",
     "output_type": "stream",
     "text": [
      "1.5145106690020278\n",
      "0.3846367922784755\n"
     ]
    }
   ],
   "source": [
    "print(jitprobobj(thetatrub))\n",
    "print(nl.norm(gradprobobj(thetatrub)))"
   ],
   "metadata": {
    "collapsed": false,
    "pycharm": {
     "name": "#%%\n"
    }
   }
  },
  {
   "cell_type": "code",
   "execution_count": 212,
   "outputs": [
    {
     "name": "stdout",
     "output_type": "stream",
     "text": [
      "Warning: Maximum number of iterations has been exceeded.\n",
      "         Current function value: 0.004546\n",
      "         Iterations: 1000\n",
      "         Function evaluations: 1009\n",
      "         Gradient evaluations: 1009\n"
     ]
    }
   ],
   "source": [
    "rslttrubjaxgrad = so.minimize(jitprobobj, thetatrub, jac=gradprobobj, tol=1e-12, options={'maxiter': 1000, 'disp': True, 'gtol': 1e-15}).x\n",
    "\n",
    "# rslttrubjaxgrad = so.minimize(jitprobobj, thetatrub, jac=gradprobobj, options={'maxiter': 2000, 'disp': True}).x\n",
    "\n",
    "# rslttrubjaxgrad = so.minimize(jitprobobj, vtoeptruecat, jac=gradprobobj, tol=1e-12, options={'maxiter': 3000, 'disp': True, 'gtol': 1e-15}).x"
   ],
   "metadata": {
    "collapsed": false,
    "pycharm": {
     "name": "#%%\n"
    }
   }
  },
  {
   "cell_type": "code",
   "execution_count": 213,
   "outputs": [
    {
     "name": "stdout",
     "output_type": "stream",
     "text": [
      "0.004546198969882025\n",
      "0.00045932279602758653\n"
     ]
    }
   ],
   "source": [
    "print(jitprobobj(rslttrubjaxgrad))\n",
    "print(nl.norm(gradprobobj(rslttrubjaxgrad)))"
   ],
   "metadata": {
    "collapsed": false,
    "pycharm": {
     "name": "#%%\n"
    }
   }
  },
  {
   "cell_type": "code",
   "execution_count": 214,
   "outputs": [
    {
     "name": "stdout",
     "output_type": "stream",
     "text": [
      "23.295825036904\n",
      "11.618571176975744\n"
     ]
    }
   ],
   "source": [
    "vtoeplearnR = rslttrubjaxgrad[:numtoepelms]\n",
    "vtoeplearnI = jnp.concatenate((jnp.array([0.0]), rslttrubjaxgrad[numtoepelms:]))\n",
    "vtoeplearn = vtoeplearnR + 1j * vtoeplearnI\n",
    "\n",
    "print(nl.norm(vtoeplearn - vtoeptrue))\n",
    "print(np.max(np.abs(vtoeplearn - vtoeptrue)))\n",
    "\n",
    "vlearnfour = np.sqrt(2 * L) * np.concatenate([np.conjugate(np.flipud(vtoeplearn[1:(numfour + 1)])), vtoeplearn[:(numfour + 1)]])\n",
    "vlearnrec = vlearnfour @ fourtox"
   ],
   "metadata": {
    "collapsed": false,
    "pycharm": {
     "name": "#%%\n"
    }
   }
  },
  {
   "cell_type": "code",
   "execution_count": 215,
   "outputs": [
    {
     "data": {
      "text/plain": "<Figure size 432x288 with 1 Axes>",
      "image/png": "[encoded data removed]"
     },
     "metadata": {
      "needs_background": "light"
     },
     "output_type": "display_data"
    }
   ],
   "source": [
    "# plot learned v against true v\n",
    "\n",
    "vtoepinitR = thetatrub[:numtoepelms]\n",
    "vtoepinitI = jnp.concatenate((jnp.array([0.0]), thetatrub[numtoepelms:]))\n",
    "vtoepinit = vtoepinitR + 1j * vtoepinitI\n",
    "\n",
    "vinitfour = np.sqrt(2 * L) * np.concatenate([np.conjugate(np.flipud(vtoepinit[1:(numfour + 1)])), vtoepinit[:(numfour + 1)]])\n",
    "vinitrec = vinitfour @ fourtox\n",
    "\n",
    "plt.plot(xvec, jnp.real(vlearnrec), '.-', label='learned')\n",
    "plt.plot(xvec, vxvec, label='truth')\n",
    "plt.plot(xvec, jnp.real(vinitrec), label='init')\n",
    "plt.xlabel('x')\n",
    "plt.title('V init vs. V learned vs. V true')\n",
    "plt.legend()\n",
    "plt.show()"
   ],
   "metadata": {
    "collapsed": false,
    "pycharm": {
     "name": "#%%\n"
    }
   }
  },
  {
   "cell_type": "markdown",
   "source": [
    "---\n",
    "---\n",
    "**Initialize with random coefficients close to zero**"
   ],
   "metadata": {
    "collapsed": false,
    "pycharm": {
     "name": "#%% md\n"
    }
   }
  },
  {
   "cell_type": "code",
   "execution_count": 216,
   "outputs": [],
   "source": [
    "seed = 1234  # set to None for random initialization\n",
    "# thetarnd = np.random.default_rng(seed).uniform(low=-5.0, high=5.0, size=vtoeptruecat.shape)\n",
    "thetarnd = 0.001 * np.random.default_rng(seed).normal(size=vtoeptruecat.shape)\n",
    "\n",
    "\n",
    "thetarnd = jnp.array(thetarnd)"
   ],
   "metadata": {
    "collapsed": false,
    "pycharm": {
     "name": "#%%\n"
    }
   }
  },
  {
   "cell_type": "code",
   "execution_count": 217,
   "outputs": [],
   "source": [
    "jaxgradlog = []\n",
    "def jax_grad_loger(theta):\n",
    "    thisgrad = gradprobobj(theta)\n",
    "    jaxgradlog.append(gradprobobj(theta))\n",
    "    return thisgrad\n",
    "\n",
    "# print(jax_grad_loger(vtoeptruecat))"
   ],
   "metadata": {
    "collapsed": false,
    "pycharm": {
     "name": "#%%\n"
    }
   }
  },
  {
   "cell_type": "code",
   "execution_count": 218,
   "outputs": [
    {
     "name": "stdout",
     "output_type": "stream",
     "text": [
      "Warning: Maximum number of iterations has been exceeded.\n",
      "         Current function value: 0.000003\n",
      "         Iterations: 1000\n",
      "         Function evaluations: 1010\n",
      "         Gradient evaluations: 1010\n"
     ]
    }
   ],
   "source": [
    "gradlog = []\n",
    "rsltrndjaxgrad = so.minimize(jitprobobj, thetarnd, jac=jax_grad_loger, tol=1e-12, options={'maxiter': 1000, 'disp': True, 'gtol': 1e-15}).x\n",
    "\n",
    "# rsltrndjaxgrad = so.minimize(jitprobobj, thetarnd, jac=gradprobobj, tol=1e-12, options={'maxiter': 1000, 'disp': True, 'gtol': 1e-15}).x\n"
   ],
   "metadata": {
    "collapsed": false,
    "pycharm": {
     "name": "#%%\n"
    }
   }
  },
  {
   "cell_type": "code",
   "execution_count": 219,
   "outputs": [
    {
     "name": "stdout",
     "output_type": "stream",
     "text": [
      "(1010, 129)\n",
      "(1010,)\n",
      "0.0036963383770646516\n",
      "0.0036963383770646516\n"
     ]
    },
    {
     "data": {
      "text/plain": "<Figure size 432x288 with 1 Axes>",
      "image/png": "[encoded data removed]"
     },
     "metadata": {
      "needs_background": "light"
     },
     "output_type": "display_data"
    }
   ],
   "source": [
    "print(np.shape(jaxgradlog))\n",
    "print(nl.norm(jaxgradlog, axis=1).shape)\n",
    "\n",
    "print(nl.norm(gradprobobj(thetarnd)))\n",
    "print(nl.norm(jaxgradlog, axis=1)[0])\n",
    "\n",
    "plt.plot(nl.norm(jaxgradlog, axis=1), '.-')\n",
    "plt.show()"
   ],
   "metadata": {
    "collapsed": false,
    "pycharm": {
     "name": "#%%\n"
    }
   }
  },
  {
   "cell_type": "code",
   "execution_count": 220,
   "outputs": [
    {
     "name": "stdout",
     "output_type": "stream",
     "text": [
      "2.933553673675926e-06\n",
      "1.985926043747292e-06\n"
     ]
    }
   ],
   "source": [
    "print(jitprobobj(rsltrndjaxgrad))\n",
    "print(nl.norm(gradprobobj(rsltrndjaxgrad)))"
   ],
   "metadata": {
    "collapsed": false,
    "pycharm": {
     "name": "#%%\n"
    }
   }
  },
  {
   "cell_type": "code",
   "execution_count": 221,
   "outputs": [
    {
     "name": "stdout",
     "output_type": "stream",
     "text": [
      "40.035965255537526\n",
      "37.50160383676712\n"
     ]
    }
   ],
   "source": [
    "vtoeplearnR = rsltrndjaxgrad[:numtoepelms]\n",
    "vtoeplearnI = jnp.concatenate((jnp.array([0.0]), rsltrndjaxgrad[numtoepelms:]))\n",
    "vtoeplearn = vtoeplearnR + 1j * vtoeplearnI\n",
    "\n",
    "print(nl.norm(vtoeplearn - vtoeptrue))\n",
    "print(np.max(np.abs(vtoeplearn - vtoeptrue)))\n",
    "\n",
    "vlearnfour = np.sqrt(2 * L) * np.concatenate([np.conjugate(np.flipud(vtoeplearn[1:(numfour + 1)])), vtoeplearn[:(numfour + 1)]])\n",
    "vlearnrec = vlearnfour @ fourtox"
   ],
   "metadata": {
    "collapsed": false,
    "pycharm": {
     "name": "#%%\n"
    }
   }
  },
  {
   "cell_type": "code",
   "execution_count": 222,
   "outputs": [
    {
     "data": {
      "text/plain": "<Figure size 432x288 with 1 Axes>",
      "image/png": "[encoded data removed]"
     },
     "metadata": {
      "needs_background": "light"
     },
     "output_type": "display_data"
    }
   ],
   "source": [
    "# plot learned vs true\n",
    "\n",
    "vtoepinitR = thetarnd[:numtoepelms]\n",
    "vtoepinitI = jnp.concatenate((jnp.array([0.0]), thetarnd[numtoepelms:]))\n",
    "vtoepinit = vtoepinitR + 1j * vtoepinitI\n",
    "\n",
    "vinitfour = np.sqrt(2 * L) * np.concatenate([np.conjugate(np.flipud(vtoepinit[1:(numfour + 1)])), vtoepinit[:(numfour + 1)]])\n",
    "vinitrec = vinitfour @ fourtox\n",
    "\n",
    "plt.plot(xvec, jnp.real(vlearnrec), '.-', label='learned')\n",
    "plt.plot(xvec, vxvec, label='truth')\n",
    "plt.plot(xvec, jnp.real(vinitrec), label='init')\n",
    "plt.xlabel('x')\n",
    "plt.title('True Potential vs. Learned Potential')\n",
    "plt.legend()\n",
    "plt.show()"
   ],
   "metadata": {
    "collapsed": false,
    "pycharm": {
     "name": "#%%\n"
    }
   }
  },
  {
   "cell_type": "code",
   "execution_count": 223,
   "outputs": [
    {
     "name": "stdout",
     "output_type": "stream",
     "text": [
      "0.0\n",
      "-11.337890625\n",
      "35.18727330266569\n"
     ]
    },
    {
     "data": {
      "text/plain": "<Figure size 432x288 with 1 Axes>",
      "image/png": "[encoded data removed]"
     },
     "metadata": {
      "needs_background": "light"
     },
     "output_type": "display_data"
    },
    {
     "name": "stdout",
     "output_type": "stream",
     "text": [
      "236.81886004088216\n",
      "l2 error: 14.557739019852242\n",
      "0.42616632680317607\n"
     ]
    }
   ],
   "source": [
    "zeroindex = len(xvec) // 2\n",
    "print(xvec[zeroindex])\n",
    "\n",
    "print(xvec[125])\n",
    "\n",
    "diff = np.abs(vxvec[zeroindex] - jnp.real(vlearnrec)[zeroindex])\n",
    "print(diff)\n",
    "\n",
    "plt.plot(xvec, jnp.real(vlearnrec) + diff, '.-', label='learned')\n",
    "plt.plot(xvec, vxvec, label='truth')\n",
    "plt.plot(xvec, jnp.real(vinitrec), label='init')\n",
    "plt.xlabel('x')\n",
    "plt.title('True Potential vs. Shifted Learned Potential')\n",
    "plt.legend()\n",
    "plt.show()\n",
    "\n",
    "print(nl.norm(jnp.real(vlearnrec) + diff - vxvec))\n",
    "print('l2 error:', nl.norm(jnp.real(vlearnrec)[125:-125] + diff - vxvec[125:-125]))\n",
    "print(np.mean(np.abs(jnp.real(vlearnrec)[125:-125] + diff - vxvec[125:-125])))"
   ],
   "metadata": {
    "collapsed": false,
    "pycharm": {
     "name": "#%%\n"
    }
   }
  },
  {
   "cell_type": "code",
   "execution_count": 223,
   "outputs": [],
   "source": [],
   "metadata": {
    "collapsed": false,
    "pycharm": {
     "name": "#%%\n"
    }
   }
  },
  {
   "cell_type": "markdown",
   "source": [
    "---\n",
    "<h1>Adjoint Method</h1>"
   ],
   "metadata": {
    "collapsed": false,
    "pycharm": {
     "name": "#%% md\n"
    }
   }
  },
  {
   "cell_type": "markdown",
   "source": [
    "\\begin{equation*}\n",
    "%\n",
    "\\rho_j^r\n",
    "& = \\frac{1}{\\sqrt{2 L}} \\sum_{k=-F}^F a_{k + j}^r \\overline{a}_k^r\n",
    "%\n",
    "\\end{equation*}\n",
    "\n",
    "``rho = [jnp.correlate(thisa0, thisa0, 'same') / jnp.sqrt(2 * L)]``\n"
   ],
   "metadata": {
    "collapsed": false
   }
  },
  {
   "cell_type": "markdown",
   "source": [
    "\\begin{equation*}\n",
    "%\n",
    "M_{j, \\ell}^r = \\overline{a_{\\ell - j}^r}\n",
    "%\n",
    "\\end{equation*}\n",
    "\n",
    "\\begin{equation*}\n",
    "%\n",
    "P_{j, \\ell}^r = a_{\\ell + j}^r\n",
    "%\n",
    "\\end{equation*}"
   ],
   "metadata": {
    "collapsed": false
   }
  },
  {
   "cell_type": "code",
   "execution_count": 224,
   "outputs": [],
   "source": [
    "def mk_M_and_P(avec):\n",
    "    halflen = len(avec) // 2\n",
    "    padavec = jnp.concatenate((jnp.zeros(halflen), jnp.array(avec), jnp.zeros(halflen)))\n",
    "\n",
    "    rawmat = []\n",
    "    for j in range(2 * halflen + 1):\n",
    "        rawmat.append(padavec[2 * halflen - j:4 * halflen + 1 - j])\n",
    "\n",
    "    Mmat = jnp.conjugate(jnp.array(rawmat))\n",
    "    Pmat = jnp.flipud(jnp.array(rawmat))\n",
    "\n",
    "    return Mmat, Pmat"
   ],
   "metadata": {
    "collapsed": false,
    "pycharm": {
     "name": "#%%\n"
    }
   }
  },
  {
   "cell_type": "code",
   "execution_count": 225,
   "outputs": [],
   "source": [
    "jit_mk_M_and_P = jax.jit(mk_M_and_P)"
   ],
   "metadata": {
    "collapsed": false,
    "pycharm": {
     "name": "#%%\n"
    }
   }
  },
  {
   "cell_type": "code",
   "execution_count": 226,
   "outputs": [],
   "source": [
    "# direct computation of sum to check if M and P\n",
    "# matrices are correct\n",
    "\n",
    "# testa = [1, 2, 3, 4, 5]  # [1 + 0.5j, 2 + 1.0j, 3 + 1.5j, 4 + 2.0j, 5 + 2.5j]\n",
    "#\n",
    "# testM, testP = jit_mk_M_and_P(testa)\n",
    "# print('M:', testM, 'P:', testP, sep='\\n')\n",
    "#\n",
    "# # print(testM + testP)\n",
    "# print(np.sum(testM + testP, axis=1))\n",
    "\n",
    "# testhalflen = len(testa) // 2\n",
    "# testdeltavec = []\n",
    "# for j in np.arange(-testhalflen, testhalflen+1):\n",
    "#     thissum = 0\n",
    "#     for ell in np.arange(-testhalflen, testhalflen+1):\n",
    "#         # print('j:', j)\n",
    "#         # print('ell:', ell)\n",
    "#         if np.abs(ell-j) > testhalflen:\n",
    "#             am = 0\n",
    "#         else:\n",
    "#             am = testa[testhalflen + ell - j]\n",
    "#         if np.abs(ell+j) > testhalflen:\n",
    "#             ap = 0\n",
    "#         else:\n",
    "#             ap = testa[testhalflen + ell + j]\n",
    "#\n",
    "#         # print('am:', am)\n",
    "#         # print('ap:', ap)\n",
    "#         thissum += np.conjugate(am) + ap\n",
    "#\n",
    "#     testdeltavec.append(thissum)\n",
    "#\n",
    "# print(testdeltavec)\n",
    "#\n",
    "# # print(testM + testP)\n",
    "# print(np.sum(testM + testP, axis=1))"
   ],
   "metadata": {
    "collapsed": false,
    "pycharm": {
     "name": "#%%\n"
    }
   }
  },
  {
   "cell_type": "markdown",
   "source": [
    "---"
   ],
   "metadata": {
    "collapsed": false,
    "pycharm": {
     "name": "#%% md\n"
    }
   }
  },
  {
   "cell_type": "markdown",
   "source": [
    "\\begin{equation*}\n",
    "%\n",
    "\\lambda^T\n",
    "= \\frac{1}{\\sqrt{2 L}} \\left[ \\left( M^T \\right)^\\dagger \\left( \\rho^T - \\beta^T \\right) + \\overline{\\left( P^T \\right)^\\dagger \\left( \\rho^T - \\beta^T \\right)} \\right]\n",
    "%\n",
    "\\end{equation*}\n",
    "\n",
    "\\begin{equation*}\n",
    "%\n",
    "\\lambda^r\n",
    "= \\frac{1}{\\sqrt{2 L}} \\left[ \\left( M^r \\right)^\\dagger \\left( \\rho^r - \\beta^r \\right) + \\overline{\\left( P^r \\right)^\\dagger \\left( \\rho^r - \\beta^r \\right)} \\right] +\n",
    "\\left[ e^{ -i \\hat{H} \\Delta t} \\right]^\\dagger \\lambda^{r+1}\n",
    "%\n",
    "\\end{equation*}\n",
    "\n",
    "\\begin{equation*}\n",
    "%\n",
    "\\frac{\\partial L}{\\partial \\hat{\\theta}}\n",
    "= \\mathfrak{R}\n",
    "\\left< \\lambda^{r+1},\n",
    "\\left. \\frac{\\partial}{\\partial \\Upsilon} e^\\Upsilon \\right|_{\\Upsilon = -i \\hat{H} \\Delta t}\n",
    "\\left( -i \\Delta t \\right) \\hat{a}^r\n",
    "\\right>\n",
    "= \\mathfrak{R} - \\sum_{r=0}^{T-1}\n",
    "\\left( \\lambda^{r+1} \\right)^\\dagger\n",
    "\\left. \\frac{\\partial}{\\partial \\Upsilon} e^\\Upsilon \\right|_{\\Upsilon = -i \\hat{H} \\Delta t}\n",
    "\\left( -i \\Delta t \\right) \\hat{a}^r\n",
    "%\n",
    "\\end{equation*}"
   ],
   "metadata": {
    "collapsed": false
   }
  },
  {
   "cell_type": "code",
   "execution_count": 227,
   "outputs": [],
   "source": [
    "def adjgrads(theta):\n",
    "    # to use theta we need to first recombine the real\n",
    "    # and imaginary parts into a vector of complex values\n",
    "    vtoephatR = theta[:numtoepelms]\n",
    "    vtoephatI = jnp.concatenate((jnp.array([0.0]), theta[numtoepelms:]))\n",
    "    vtoephat = vtoephatR + 1j * vtoephatI\n",
    "    # print('Shape vtoephat:', vtoephat.shape)\n",
    "\n",
    "    # construct vmathat from complex toeplitz vector\n",
    "    vmathat = jnp.concatenate([jnp.flipud(jnp.conj(vtoephat)), vtoephat[1:]])[toepindxmat]\n",
    "\n",
    "    # Construct Hamiltonian matrix\n",
    "    hmathat = kmat + vmathat\n",
    "\n",
    "    # eigen-decomposition of the Hamiltonian matrix\n",
    "    spchat, stthat = jnl.eigh(hmathat)\n",
    "\n",
    "    # compute propagator matrix\n",
    "    propahat = stthat @ jnp.diag(jnp.exp(-1j * spchat * dt)) @ stthat.conj().T\n",
    "    proplam = jnp.transpose(jnp.conjugate(propahat))\n",
    "\n",
    "    # forward propagation\n",
    "    ahatmatvec = []\n",
    "    lammatvec = []\n",
    "    for r in range(len(a0vec)):\n",
    "        # propagate system starting from initial \"a\" state\n",
    "        thisahatmat = [a0vec[r].copy()]\n",
    "        thisrhomat = [jnp.correlate(thisahatmat[0], thisahatmat[0], 'same') / jnp.sqrt(2 * L)]\n",
    "        thispartlammat = [jnp.zeros(numtoepelms, dtype=complex)]\n",
    "\n",
    "        for i in range(numts):\n",
    "            # propagate the system one time-step\n",
    "            thisahatmat.append(propahat @ thisahatmat[-1])\n",
    "\n",
    "            # calculate the amp^2\n",
    "            thisrhomat.append(jnp.correlate(thisahatmat[-1], thisahatmat[-1], 'same') / jnp.sqrt(2 * L))\n",
    "\n",
    "            # compute \\rho^r - \\beta^r\n",
    "            thiserr = thisrhomat[-1] - betamatvec[r, i+1]\n",
    "\n",
    "            # compute M and P matrix for lambda mat\n",
    "            thisMmat, thisPmat = jit_mk_M_and_P(thisahatmat[-1])\n",
    "\n",
    "            # compute part of lambda mat\n",
    "            # ( 1 / \\sqrt{2 L} ) * [ ( M^r )^\\dagger * ( \\rho^r - \\beta^r )\n",
    "            # + \\overline{( P^r )^\\dagger * ( \\rho^r - \\beta^r )} ]\n",
    "            thispartlammat.append((thisMmat.conj().T @ thiserr + (thisPmat.conj().T @ thiserr).conj()) / jnp.sqrt(2 * L))\n",
    "\n",
    "        ahatmatvec.append(jnp.array(thisahatmat))\n",
    "\n",
    "        # build lammat backwards then flip at the end\n",
    "        thislammat = [thispartlammat[-1]]\n",
    "        for i in range(2, numts + 2):\n",
    "            thislammat.append(thispartlammat[-i] + proplam @ thislammat[-1])\n",
    "\n",
    "        lammatvec.append(jnp.flipud(jnp.array(thislammat)))\n",
    "\n",
    "\n",
    "\n",
    "    #######################################\n",
    "    # the remainder of this function is for computing the\n",
    "    # gradient of the exponential matrix\n",
    "    #######################################\n",
    "\n",
    "    offdiagmask = jnp.ones((numtoepelms, numtoepelms)) - jnp.eye(numtoepelms)\n",
    "    expspec = jnp.exp(-1j * dt * spchat)\n",
    "    e1, e2 = jnp.meshgrid(expspec, expspec)\n",
    "    s1, s2 = jnp.meshgrid(spchat, spchat)\n",
    "    denom = offdiagmask * (-1j * dt) * (s1 - s2) + jnp.eye(numtoepelms)\n",
    "    mask = offdiagmask * (e1 - e2)/denom + jnp.diag(expspec)\n",
    "\n",
    "    myeye = jnp.eye(numtoepelms)\n",
    "    wsR = jnp.hstack([jnp.fliplr(myeye), myeye[:,1:]]).T\n",
    "    ctrmatsR = wsR[toepindxmat]\n",
    "    prederivamatR = jnp.einsum('ij,jkm,kl->ilm', stthat.conj().T, ctrmatsR,stthat)\n",
    "    derivamatR = prederivamatR * jnp.expand_dims(mask,2)\n",
    "    alldmatreal = -1j * dt * jnp.einsum('ij,jkm,kl->mil',stthat, derivamatR, stthat.conj().T)\n",
    "\n",
    "    wsI = 1.0j * jnp.hstack([-jnp.fliplr(myeye), myeye[:,1:]])\n",
    "    wsI = wsI[1:,:]\n",
    "    wsI = wsI.T\n",
    "    ctrmatsI = wsI[toepindxmat]\n",
    "    prederivamatI = jnp.einsum('ij,jkm,kl->ilm',stthat.conj().T, ctrmatsI, stthat)\n",
    "    derivamatI = prederivamatI * jnp.expand_dims(mask, 2)\n",
    "    alldmatimag = -1j * dt * jnp.einsum('ij,jkm,kl->mil',stthat, derivamatI, stthat.conj().T)\n",
    "\n",
    "    alldmat = jnp.vstack([alldmatreal, alldmatimag])\n",
    "\n",
    "    # compute all entries of the gradient at once\n",
    "    gradients = jnp.real(jnp.einsum('ij,ajk,ik->a', jnp.conj(lammatvec[0][1:,:]), alldmat, ahatmatvec[0][:-1,:]))\n",
    "    for i in range(1, len(lammatvec)):\n",
    "        gradients += jnp.real(jnp.einsum('ij,ajk,ik->a', jnp.conj(lammatvec[i][1:,:]), alldmat, ahatmatvec[i][:-1,:]))\n",
    "\n",
    "    return gradients"
   ],
   "metadata": {
    "collapsed": false,
    "pycharm": {
     "name": "#%%\n"
    }
   }
  },
  {
   "cell_type": "code",
   "execution_count": 228,
   "outputs": [],
   "source": [
    "jitadjgrads = jax.jit(adjgrads)"
   ],
   "metadata": {
    "collapsed": false,
    "pycharm": {
     "name": "#%%\n"
    }
   }
  },
  {
   "cell_type": "code",
   "execution_count": 229,
   "outputs": [
    {
     "name": "stdout",
     "output_type": "stream",
     "text": [
      "2.1233243870157952e-18\n"
     ]
    }
   ],
   "source": [
    "print(nl.norm(jitadjgrads(vtoeptruecat)))"
   ],
   "metadata": {
    "collapsed": false,
    "pycharm": {
     "name": "#%%\n"
    }
   }
  },
  {
   "cell_type": "markdown",
   "source": [
    "---\n",
    "**Check grads**"
   ],
   "metadata": {
    "collapsed": false,
    "pycharm": {
     "name": "#%% md\n"
    }
   }
  },
  {
   "cell_type": "code",
   "execution_count": 230,
   "outputs": [
    {
     "name": "stdout",
     "output_type": "stream",
     "text": [
      "7.183084516065943e-14\n",
      "3.952662505835097e-14\n",
      "1.6115475705833464e-14\n",
      "1.8429329065380487e-14\n",
      "1.0273393207070503e-13\n",
      "4.4623137274284116e-14\n",
      "2.173426087003137e-14\n",
      "7.13466495182941e-14\n",
      "1.3636549443954155e-13\n",
      "5.217525165938304e-13\n",
      "5.524729541141004e-13\n",
      "5.796858231381483e-14\n",
      "5.176984383976542e-14\n",
      "6.699401463440296e-14\n",
      "2.6737495303748914e-14\n",
      "7.90045167366676e-14\n",
      "3.823009235611581e-13\n",
      "1.2013673768217902e-13\n",
      "7.420419984568915e-14\n",
      "2.8082213472075398e-14\n",
      "7.739266230662583e-14\n",
      "1.46313410549852e-13\n",
      "1.6028769076496252e-14\n",
      "5.2793482627372103e-14\n",
      "4.007801761605951e-14\n",
      "4.599148105473391e-14\n",
      "4.272049650253312e-13\n",
      "6.868677849036286e-14\n",
      "8.804815913339734e-13\n",
      "4.552934545561398e-14\n",
      "3.5773937787071207e-14\n",
      "1.4577183217930146e-13\n",
      "4.6589239314998917e-14\n",
      "1.706431878210597e-14\n",
      "1.668197883996307e-14\n",
      "6.824535252841458e-14\n",
      "8.168260362186927e-14\n",
      "1.9723045543266838e-14\n",
      "1.2614579221227285e-13\n",
      "1.1354864844103537e-13\n",
      "2.6682941833141284e-14\n",
      "4.16893121682719e-14\n",
      "8.079170640321618e-14\n",
      "5.453929867208283e-14\n",
      "3.9125810607382826e-14\n",
      "9.300306215686191e-14\n",
      "9.746317685269021e-14\n",
      "1.545228684512416e-13\n",
      "9.805415208218629e-14\n",
      "3.86301163932711e-14\n",
      "CPU times: user 1.4 s, sys: 49.4 ms, total: 1.45 s\n",
      "Wall time: 1.43 s\n"
     ]
    }
   ],
   "source": [
    "%%time\n",
    "\n",
    "for i in range(50):\n",
    "    thistheta = 0.2 * np.random.default_rng().normal(size=2 * numtoepelms - 1)\n",
    "    thisadjgrads = jitadjgrads(thistheta)\n",
    "    thisjaxgrads = gradprobobj(thistheta)\n",
    "    print(nl.norm(thisadjgrads - thisjaxgrads))"
   ],
   "metadata": {
    "collapsed": false,
    "pycharm": {
     "name": "#%%\n"
    }
   }
  },
  {
   "cell_type": "markdown",
   "source": [
    "---\n",
    "**Initialize with random coefficients close to zero**"
   ],
   "metadata": {
    "collapsed": false
   }
  },
  {
   "cell_type": "code",
   "execution_count": 231,
   "outputs": [],
   "source": [
    "adjgradlog = []\n",
    "def adj_grad_loger(theta):\n",
    "    thisgrad = jitadjgrads(theta)\n",
    "    adjgradlog.append(thisgrad)\n",
    "    return thisgrad\n",
    "\n",
    "# print(jax_grad_loger(vtoeptruecat))"
   ],
   "metadata": {
    "collapsed": false,
    "pycharm": {
     "name": "#%%\n"
    }
   }
  },
  {
   "cell_type": "code",
   "execution_count": 232,
   "outputs": [
    {
     "name": "stdout",
     "output_type": "stream",
     "text": [
      "Warning: Maximum number of iterations has been exceeded.\n",
      "         Current function value: 0.000003\n",
      "         Iterations: 1000\n",
      "         Function evaluations: 1012\n",
      "         Gradient evaluations: 1012\n"
     ]
    }
   ],
   "source": [
    "adjgradlog = []\n",
    "rsltrndadjgrad = so.minimize(jitprobobj, thetarnd, jac=adj_grad_loger, tol=1e-12, options={'maxiter': 1000, 'disp': True, 'gtol': 1e-15}).x\n",
    "\n",
    "# rsltrndadjgrad = so.minimize(jitprobobj, thetarnd, jac=jitadjgrads, tol=1e-12, options={'maxiter': 1000, 'disp': True, 'gtol': 1e-15}).x"
   ],
   "metadata": {
    "collapsed": false,
    "pycharm": {
     "name": "#%%\n"
    }
   }
  },
  {
   "cell_type": "code",
   "execution_count": 239,
   "outputs": [
    {
     "name": "stdout",
     "output_type": "stream",
     "text": [
      "(1012, 129)\n",
      "(1012,)\n",
      "0.0036963383770646516\n",
      "0.0036963383771006285\n",
      "0.0036963383771006285\n"
     ]
    },
    {
     "data": {
      "text/plain": "<Figure size 432x288 with 1 Axes>",
      "image/png": "[encoded data removed]"
     },
     "metadata": {
      "needs_background": "light"
     },
     "output_type": "display_data"
    },
    {
     "data": {
      "text/plain": "<Figure size 432x288 with 1 Axes>",
      "image/png": "[encoded data removed]"
     },
     "metadata": {
      "needs_background": "light"
     },
     "output_type": "display_data"
    }
   ],
   "source": [
    "print(np.shape(adjgradlog))\n",
    "print(nl.norm(adjgradlog, axis=1).shape)\n",
    "\n",
    "print(nl.norm(gradprobobj(thetarnd)))\n",
    "print(nl.norm(jitadjgrads(thetarnd)))\n",
    "print(nl.norm(adjgradlog, axis=1)[0])\n",
    "\n",
    "plt.plot(nl.norm(adjgradlog, axis=1), '.-')\n",
    "plt.show()\n",
    "\n",
    "plt.plot(nl.norm(adjgradlog, axis=1), '.-', label='adj')\n",
    "plt.plot(nl.norm(jaxgradlog, axis=1), '.-', label='JAX')\n",
    "# plt.ylim((0, 1e-2))\n",
    "plt.title('L2 Norm of Grads for Each Evaluation')\n",
    "plt.legend()\n",
    "plt.show()"
   ],
   "metadata": {
    "collapsed": false,
    "pycharm": {
     "name": "#%%\n"
    }
   }
  },
  {
   "cell_type": "code",
   "execution_count": 234,
   "outputs": [
    {
     "name": "stdout",
     "output_type": "stream",
     "text": [
      "3.620713258544442e-06\n"
     ]
    }
   ],
   "source": [
    "print(nl.norm(jitadjgrads(rsltrndadjgrad)))"
   ],
   "metadata": {
    "collapsed": false,
    "pycharm": {
     "name": "#%%\n"
    }
   }
  },
  {
   "cell_type": "code",
   "execution_count": 235,
   "outputs": [
    {
     "name": "stdout",
     "output_type": "stream",
     "text": [
      "39.594638573619555\n",
      "37.501603836805494\n"
     ]
    }
   ],
   "source": [
    "vtoeplearnR = rsltrndadjgrad[:numtoepelms]\n",
    "vtoeplearnI = jnp.concatenate((jnp.array([0.0]), rsltrndadjgrad[numtoepelms:]))\n",
    "vtoeplearn = vtoeplearnR + 1j * vtoeplearnI\n",
    "\n",
    "print(nl.norm(vtoeplearn - vtoeptrue))\n",
    "print(np.max(np.abs(vtoeplearn - vtoeptrue)))\n",
    "\n",
    "vlearnfour = np.sqrt(2 * L) * np.concatenate([np.conjugate(np.flipud(vtoeplearn[1:(numfour + 1)])), vtoeplearn[:(numfour + 1)]])\n",
    "vlearnrec = vlearnfour @ fourtox"
   ],
   "metadata": {
    "collapsed": false,
    "pycharm": {
     "name": "#%%\n"
    }
   }
  },
  {
   "cell_type": "code",
   "execution_count": 236,
   "outputs": [
    {
     "data": {
      "text/plain": "<Figure size 432x288 with 1 Axes>",
      "image/png": "[encoded data removed]"
     },
     "metadata": {
      "needs_background": "light"
     },
     "output_type": "display_data"
    }
   ],
   "source": [
    "# plot learned vs true\n",
    "plt.plot(xvec, jnp.real(vlearnrec), '.-', label='learned')\n",
    "plt.plot(xvec, vxvec, label='truth')\n",
    "plt.plot(xvec, jnp.real(vinitrec), label='init')\n",
    "plt.xlabel('x')\n",
    "plt.title('True Potential vs. Learned Potential')\n",
    "plt.legend()\n",
    "plt.show()"
   ],
   "metadata": {
    "collapsed": false,
    "pycharm": {
     "name": "#%%\n"
    }
   }
  },
  {
   "cell_type": "code",
   "execution_count": 237,
   "outputs": [
    {
     "name": "stdout",
     "output_type": "stream",
     "text": [
      "0.0\n",
      "-11.337890625\n",
      "35.03329329545853\n"
     ]
    },
    {
     "data": {
      "text/plain": "<Figure size 432x288 with 1 Axes>",
      "image/png": "[encoded data removed]"
     },
     "metadata": {
      "needs_background": "light"
     },
     "output_type": "display_data"
    },
    {
     "name": "stdout",
     "output_type": "stream",
     "text": [
      "269.0823243857069\n",
      "l2 error: 12.512923481110974\n",
      "0.35315966173802105\n"
     ]
    }
   ],
   "source": [
    "zeroindex = len(xvec) // 2\n",
    "print(xvec[zeroindex])\n",
    "\n",
    "print(xvec[125])\n",
    "\n",
    "diff = np.abs(vxvec[zeroindex] - jnp.real(vlearnrec)[zeroindex])\n",
    "print(diff)\n",
    "\n",
    "plt.plot(xvec, jnp.real(vlearnrec) + diff, '.-', label='learned')\n",
    "plt.plot(xvec, vxvec, label='truth')\n",
    "plt.plot(xvec, jnp.real(vinitrec), label='init')\n",
    "plt.xlabel('x')\n",
    "plt.title('True Potential vs. Shifted Learned Potential')\n",
    "plt.legend()\n",
    "plt.show()\n",
    "\n",
    "print(nl.norm(jnp.real(vlearnrec) + diff - vxvec))\n",
    "print('l2 error:', nl.norm(jnp.real(vlearnrec)[125:-125] + diff - vxvec[125:-125]))\n",
    "print(np.mean(np.abs(jnp.real(vlearnrec)[125:-125] + diff - vxvec[125:-125])))"
   ],
   "metadata": {
    "collapsed": false,
    "pycharm": {
     "name": "#%%\n"
    }
   }
  },
  {
   "cell_type": "code",
   "execution_count": null,
   "outputs": [],
   "source": [],
   "metadata": {
    "collapsed": false,
    "pycharm": {
     "name": "#%%\n"
    }
   }
  }
 ],
 "metadata": {
  "kernelspec": {
   "display_name": "Python 3",
   "language": "python",
   "name": "python3"
  },
  "language_info": {
   "codemirror_mode": {
    "name": "ipython",
    "version": 2
   },
   "file_extension": ".py",
   "mimetype": "text/x-python",
   "name": "python",
   "nbconvert_exporter": "python",
   "pygments_lexer": "ipython2",
   "version": "2.7.6"
  }
 },
 "nbformat": 4,
 "nbformat_minor": 0
}