{
 "cells": [
  {
   "cell_type": "code",
   "execution_count": 1,
   "outputs": [
    {
     "name": "stdout",
     "output_type": "stream",
     "text": [
      "Requirement already satisfied: pip in /opt/conda/lib/python3.9/site-packages (22.1.1)\r\n",
      "Looking in links: https://storage.googleapis.com/jax-releases/jax_releases.html\r\n",
      "Requirement already satisfied: jax[cuda] in /opt/conda/lib/python3.9/site-packages (0.3.13)\r\n",
      "Requirement already satisfied: opt-einsum in /opt/conda/lib/python3.9/site-packages (from jax[cuda]) (3.3.0)\r\n",
      "Requirement already satisfied: numpy>=1.19 in /opt/conda/lib/python3.9/site-packages (from jax[cuda]) (1.21.6)\r\n",
      "Requirement already satisfied: absl-py in /opt/conda/lib/python3.9/site-packages (from jax[cuda]) (1.0.0)\r\n",
      "Requirement already satisfied: typing-extensions in /opt/conda/lib/python3.9/site-packages (from jax[cuda]) (4.2.0)\r\n",
      "Requirement already satisfied: scipy>=1.2.1 in /opt/conda/lib/python3.9/site-packages (from jax[cuda]) (1.8.0)\r\n",
      "Requirement already satisfied: jaxlib==0.3.10+cuda11.cudnn82 in /opt/conda/lib/python3.9/site-packages (from jax[cuda]) (0.3.10+cuda11.cudnn82)\r\n",
      "Requirement already satisfied: flatbuffers<3.0,>=1.12 in /opt/conda/lib/python3.9/site-packages (from jaxlib==0.3.10+cuda11.cudnn82->jax[cuda]) (2.0)\r\n",
      "Requirement already satisfied: six in /opt/conda/lib/python3.9/site-packages (from absl-py->jax[cuda]) (1.16.0)\r\n",
      "Note: you may need to restart the kernel to use updated packages.\n",
      "env: XLA_PYTHON_CLIENT_PREALLOCATE=false\n"
     ]
    },
    {
     "data": {
      "text/plain": "{'PATH': '/opt/conda/bin:/usr/local/nvidia/bin:/usr/local/cuda/bin:/usr/local/sbin:/usr/local/bin:/usr/sbin:/usr/bin:/sbin:/bin',\n 'HOSTNAME': 'jupyter-kcollins9-40ucmerced-2eedu',\n 'NVIDIA_VISIBLE_DEVICES': 'GPU-5b523376-e638-4909-7b30-6f6000062da4',\n 'JUPYTER_IMAGE_SPEC': 'localhost:30081/prp/jupyter-stack/scipy',\n 'CPU_LIMIT': '8.0',\n 'JUPYTERHUB_API_TOKEN': '<hidden>',\n 'JUPYTERHUB_API_URL': 'http://hub:8081/hub/api',\n 'JUPYTER_IMAGE': 'localhost:30081/prp/jupyter-stack/scipy',\n 'JUPYTERHUB_BASE_URL': '/',\n 'JUPYTERHUB_SERVICE_PREFIX': '/user/kcollins9@ucmerced.edu/',\n 'JUPYTERHUB_USER': 'kcollins9@ucmerced.edu',\n 'JUPYTERHUB_OAUTH_CALLBACK_URL': '/user/kcollins9@ucmerced.edu/oauth_callback',\n 'JUPYTERHUB_ACTIVITY_URL': 'http://hub:8081/hub/api/users/kcollins9@ucmerced.edu/activity',\n 'JUPYTERHUB_CLIENT_ID': 'jupyterhub-user-kcollins9%40ucmerced.edu',\n 'JUPYTERHUB_HOST': '',\n 'JUPYTERHUB_SERVER_NAME': '',\n 'MEM_GUARANTEE': '8589934592',\n 'MEM_LIMIT': '8589934592',\n 'CPU_GUARANTEE': '8.0',\n 'JPY_API_TOKEN': '<hidden>',\n 'JUPYTERHUB_ADMIN_ACCESS': '1',\n 'KUBERNETES_SERVICE_HOST': '10.96.0.1',\n 'KUBERNETES_SERVICE_PORT': '443',\n 'HUB_PORT_8081_TCP_PORT': '8081',\n 'KUBERNETES_PORT': 'tcp://10.96.0.1:443',\n 'HUB_PORT_8081_TCP_PROTO': 'tcp',\n 'PROXY_API_SERVICE_PORT': '8001',\n 'KUBERNETES_SERVICE_PORT_HTTPS': '443',\n 'HUB_SERVICE_HOST': '10.102.46.209',\n 'PROXY_API_SERVICE_HOST': '10.103.20.131',\n 'PROXY_PUBLIC_PORT': 'tcp://10.107.169.223:80',\n 'PROXY_PUBLIC_PORT_80_TCP_ADDR': '10.107.169.223',\n 'HUB_SERVICE_PORT_HUB': '8081',\n 'HUB_PORT_8081_TCP': 'tcp://10.102.46.209:8081',\n 'PROXY_API_PORT': 'tcp://10.103.20.131:8001',\n 'PROXY_API_PORT_8001_TCP': 'tcp://10.103.20.131:8001',\n 'PROXY_PUBLIC_SERVICE_PORT_HTTP': '80',\n 'KUBERNETES_PORT_443_TCP_ADDR': '10.96.0.1',\n 'HUB_SERVICE_PORT': '8081',\n 'HUB_PORT': 'tcp://10.102.46.209:8081',\n 'PROXY_API_PORT_8001_TCP_ADDR': '10.103.20.131',\n 'PROXY_PUBLIC_SERVICE_PORT': '80',\n 'KUBERNETES_PORT_443_TCP': 'tcp://10.96.0.1:443',\n 'KUBERNETES_PORT_443_TCP_PROTO': 'tcp',\n 'PROXY_PUBLIC_SERVICE_HOST': '10.107.169.223',\n 'PROXY_PUBLIC_PORT_80_TCP_PROTO': 'tcp',\n 'PROXY_PUBLIC_PORT_80_TCP_PORT': '80',\n 'KUBERNETES_PORT_443_TCP_PORT': '443',\n 'HUB_PORT_8081_TCP_ADDR': '10.102.46.209',\n 'PROXY_API_PORT_8001_TCP_PROTO': 'tcp',\n 'PROXY_API_PORT_8001_TCP_PORT': '8001',\n 'PROXY_PUBLIC_PORT_80_TCP': 'tcp://10.107.169.223:80',\n 'NVARCH': 'x86_64',\n 'NVIDIA_REQUIRE_CUDA': 'cuda>=11.4 brand=tesla,driver>=418,driver<419 brand=tesla,driver>=440,driver<441 brand=tesla,driver>=450,driver<451 brand=tesla,driver>=460,driver<461',\n 'NV_CUDA_CUDART_VERSION': '11.4.148-1',\n 'NV_CUDA_COMPAT_PACKAGE': 'cuda-compat-11-4',\n 'CUDA_VERSION': '11.4.3',\n 'LD_LIBRARY_PATH': '/usr/local/nvidia/lib:/usr/local/nvidia/lib64',\n 'NVIDIA_DRIVER_CAPABILITIES': 'compute,utility',\n 'NV_CUDA_LIB_VERSION': '11.4.3-1',\n 'NV_NVTX_VERSION': '11.4.120-1',\n 'NV_LIBNPP_VERSION': '11.4.0.110-1',\n 'NV_LIBNPP_PACKAGE': 'libnpp-11-4=11.4.0.110-1',\n 'NV_LIBCUSPARSE_VERSION': '11.6.0.120-1',\n 'NV_LIBCUBLAS_PACKAGE_NAME': 'libcublas-11-4',\n 'NV_LIBCUBLAS_VERSION': '11.6.5.2-1',\n 'NV_LIBCUBLAS_PACKAGE': 'libcublas-11-4=11.6.5.2-1',\n 'NV_LIBNCCL_PACKAGE_NAME': 'libnccl2',\n 'NV_LIBNCCL_PACKAGE_VERSION': '2.11.4-1',\n 'NCCL_VERSION': '2.11.4-1',\n 'NV_LIBNCCL_PACKAGE': 'libnccl2=2.11.4-1+cuda11.4',\n 'NV_CUDA_CUDART_DEV_VERSION': '11.4.148-1',\n 'NV_NVML_DEV_VERSION': '11.4.120-1',\n 'NV_LIBCUSPARSE_DEV_VERSION': '11.6.0.120-1',\n 'NV_LIBNPP_DEV_VERSION': '11.4.0.110-1',\n 'NV_LIBNPP_DEV_PACKAGE': 'libnpp-dev-11-4=11.4.0.110-1',\n 'NV_LIBCUBLAS_DEV_VERSION': '11.6.5.2-1',\n 'NV_LIBCUBLAS_DEV_PACKAGE_NAME': 'libcublas-dev-11-4',\n 'NV_LIBCUBLAS_DEV_PACKAGE': 'libcublas-dev-11-4=11.6.5.2-1',\n 'NV_LIBNCCL_DEV_PACKAGE_NAME': 'libnccl-dev',\n 'NV_LIBNCCL_DEV_PACKAGE_VERSION': '2.11.4-1',\n 'NV_LIBNCCL_DEV_PACKAGE': 'libnccl-dev=2.11.4-1+cuda11.4',\n 'LIBRARY_PATH': '/usr/local/cuda/lib64/stubs',\n 'NV_CUDNN_VERSION': '8.2.4.15',\n 'NV_CUDNN_PACKAGE': 'libcudnn8=8.2.4.15-1+cuda11.4',\n 'NV_CUDNN_PACKAGE_DEV': 'libcudnn8-dev=8.2.4.15-1+cuda11.4',\n 'NV_CUDNN_PACKAGE_NAME': 'libcudnn8',\n 'DEBIAN_FRONTEND': 'noninteractive',\n 'CONDA_DIR': '/opt/conda',\n 'SHELL': '/bin/bash',\n 'NB_USER': 'jovyan',\n 'NB_UID': '1000',\n 'NB_GID': '100',\n 'LC_ALL': 'en_US.UTF-8',\n 'LANG': 'en_US.UTF-8',\n 'LANGUAGE': 'en_US.UTF-8',\n 'HOME': '/home/jovyan',\n 'XDG_CACHE_HOME': '/home/jovyan/.cache/',\n 'JUPYTERHUB_SINGLEUSER_APP': 'jupyter_server.serverapp.ServerApp',\n 'PYDEVD_USE_FRAME_EVAL': 'NO',\n 'JPY_PARENT_PID': '6',\n 'TERM': 'xterm-color',\n 'CLICOLOR': '1',\n 'PAGER': 'cat',\n 'GIT_PAGER': 'cat',\n 'MPLBACKEND': 'module://matplotlib_inline.backend_inline',\n 'TF_CPP_MIN_LOG_LEVEL': '1',\n 'XLA_PYTHON_CLIENT_PREALLOCATE': 'false'}"
     },
     "execution_count": 1,
     "metadata": {},
     "output_type": "execute_result"
    }
   ],
   "source": [
    "# install JAX using iPython magic command\n",
    "%pip install --upgrade pip && pip install --upgrade \"jax[cuda]\" -f https://storage.googleapis.com/jax-releases/jax_releases.html\n",
    "\n",
    "import numpy as np\n",
    "import numpy.linalg as nl\n",
    "import scipy.linalg as sl\n",
    "import scipy.integrate as si\n",
    "import scipy.optimize as so\n",
    "import matplotlib.pyplot as plt\n",
    "import jax\n",
    "import jax.numpy as jnp\n",
    "import jax.numpy.linalg as jnl\n",
    "from jax.config import config\n",
    "config.update(\"jax_enable_x64\", True)\n",
    "\n",
    "# import os\n",
    "# os.environ['XLA_PYTHON_CLIENT_PREALLOCATE']='false'\n",
    "\n",
    "%env XLA_PYTHON_CLIENT_PREALLOCATE=false\n",
    "\n",
    "# make sure NVIDIA_VISIBLE_DEVICES is not 'none'\n",
    "%env"
   ],
   "metadata": {
    "collapsed": false,
    "pycharm": {
     "name": "#%%\n"
    }
   }
  },
  {
   "cell_type": "markdown",
   "source": [
    "<h1>Forward Problem</h1>"
   ],
   "metadata": {
    "collapsed": false,
    "pycharm": {
     "name": "#%% md\n"
    }
   }
  },
  {
   "cell_type": "code",
   "execution_count": 2,
   "outputs": [
    {
     "name": "stdout",
     "output_type": "stream",
     "text": [
      "Shape fourtox: (65, 1025)\n"
     ]
    }
   ],
   "source": [
    "# size of spatial domain\n",
    "L = 15.0  # originally 10, increased by 50%\n",
    "\n",
    "# number of real space grid points (for plotting)\n",
    "numx = 1025\n",
    "\n",
    "# real space grid points (for plotting)\n",
    "xvec = np.linspace(-L, L, numx)\n",
    "\n",
    "# number of Fourier basis functions\n",
    "# n = -numF to n = numF\n",
    "numfour = 32  # 32\n",
    "\n",
    "# vector of fourier mode indices\n",
    "# fournvec = -numfour,...,0,...,numfour\n",
    "fournvec = np.arange(-numfour, numfour + 1)\n",
    "\n",
    "# matrix for converting Fourier representation to real space\n",
    "fourtox = np.exp(1j * np.pi * np.outer(fournvec, xvec) / L) / np.sqrt(2 * L)\n",
    "\n",
    "print('Shape fourtox:', fourtox.shape)"
   ],
   "metadata": {
    "collapsed": false,
    "pycharm": {
     "name": "#%%\n"
    }
   }
  },
  {
   "cell_type": "code",
   "execution_count": 3,
   "outputs": [
    {
     "data": {
      "text/plain": "<Figure size 432x288 with 1 Axes>",
      "image/png": "[encoded data removed]"
     },
     "metadata": {
      "needs_background": "light"
     },
     "output_type": "display_data"
    }
   ],
   "source": [
    "def v(z):\n",
    "    # harmonic oscillator potential (should be exact for Chebyshev)\n",
    "    return 0.5 * z**2\n",
    "    # symmetric double well potential\n",
    "    # return 2.5e-3 * (z**2 - 25)**2\n",
    "    # asymmetric double well potential\n",
    "    # c0 = 4.35; c1 = 9.40e-1; c2 = -3.56e-1; c3 = -4.66e-2\n",
    "    # c4 = 1.46e-2; c5 = 6.76e-4; c6 = -1.26e-4; c7 = -5.43e-6\n",
    "    # c8 = 4.12e-7; c9 = 1.65e-8\n",
    "    # x = z + 0.8\n",
    "    # return 0.5 * (c0 + c1*x + c2*x**2 + c3*x**3 + c4*x**4 + c5*x**5 + c6*x**6 + c7*x**7 + c8*x**8 + c9*x**9)\n",
    "    # non-polynomial potentials\n",
    "    # return np.sin(0.4 * z - 1)\n",
    "    # return np.sin((0.5 * z)**2)\n",
    "    # return 15 * (-np.cos(z) + np.sin((0.5 * z)**2 - 0.2 * z))\n",
    "    # soft coulomb potential\n",
    "    # return -1 / np.sqrt(z**2 + 0.25)\n",
    "\n",
    "# true potential on real space grid (for plotting)\n",
    "vxvec = v(xvec)\n",
    "\n",
    "# plot true potential\n",
    "plt.plot(xvec, vxvec)\n",
    "plt.title('Plot of V(x)')\n",
    "plt.xlabel('x')\n",
    "plt.show()"
   ],
   "metadata": {
    "collapsed": false,
    "pycharm": {
     "name": "#%%\n"
    }
   }
  },
  {
   "cell_type": "code",
   "execution_count": 4,
   "outputs": [
    {
     "name": "stdout",
     "output_type": "stream",
     "text": [
      "Shape vtoeptrue (65,)\n",
      "Shape vmattrue: (65, 65)\n"
     ]
    }
   ],
   "source": [
    "# compute the potential operator matrix, vmat\n",
    "\n",
    "vtoeptrue = []\n",
    "for thisfourn in range(2 * numfour + 1):\n",
    "    def intgrnd(x):\n",
    "        return v(x) * np.exp(-1j * np.pi * thisfourn * x / L) / (2 * L)\n",
    "    def rintgrnd(x):\n",
    "        return intgrnd(x).real\n",
    "    def iintgrnd(x):\n",
    "        return intgrnd(x).imag\n",
    "    vtoeptrue.append(si.quad(rintgrnd, -L, L, limit=100)[0] + 1j * si.quad(iintgrnd, -L, L, limit=100)[0])\n",
    "\n",
    "vtoeptrue = jnp.array(vtoeptrue)\n",
    "print('Shape vtoeptrue', vtoeptrue.shape)\n",
    "\n",
    "vmattrue = sl.toeplitz(r=vtoeptrue, c=np.conj(vtoeptrue))\n",
    "\n",
    "print('Shape vmattrue:', vmattrue.shape)"
   ],
   "metadata": {
    "collapsed": false,
    "pycharm": {
     "name": "#%%\n"
    }
   }
  },
  {
   "cell_type": "code",
   "execution_count": 5,
   "outputs": [
    {
     "data": {
      "text/plain": "<Figure size 432x288 with 1 Axes>",
      "image/png": "[encoded data removed]"
     },
     "metadata": {
      "needs_background": "light"
     },
     "output_type": "display_data"
    },
    {
     "name": "stdout",
     "output_type": "stream",
     "text": [
      "0.012198398680964478\n"
     ]
    }
   ],
   "source": [
    "# reconstruct the real space potential from the potential\n",
    "# operator matrix\n",
    "\n",
    "# at this point, \"vtoeptrue\" contains Fourier coefficients\n",
    "# for modes 0, ..., 2*N\n",
    "# let us convert this into information on modes -N, ..., N\n",
    "# also we need a slight renormalization to make this a Fourier\n",
    "# coefficient\n",
    "# with respect to our ***orthonormal*** Fourier basis\n",
    "vfourtrue = np.sqrt(2*L) * np.concatenate([np.flipud(vtoeptrue[1:(numfour + 1)]).conj(), vtoeptrue[:(numfour + 1)]])\n",
    "vtruerec = vfourtrue @ fourtox\n",
    "\n",
    "plt.plot(xvec, np.real(vtruerec), label='rec')\n",
    "plt.plot(xvec, vxvec, label='truth')\n",
    "plt.title('Reconstructed Potential vs. Truth')\n",
    "plt.legend()\n",
    "plt.show()\n",
    "\n",
    "print(np.mean(np.square(np.abs(vtruerec - vxvec))))"
   ],
   "metadata": {
    "collapsed": false,
    "pycharm": {
     "name": "#%%\n"
    }
   }
  },
  {
   "cell_type": "code",
   "execution_count": 6,
   "outputs": [],
   "source": [
    "# define initial states and transform to Fourier basis\n",
    "\n",
    "def psi0_0(x):\n",
    "    return 10 * np.exp(-((x + 3) / 4)**2) * (2.0 / np.pi)**0.25\n",
    "    # return 10 * np.exp(-((x + 3) / 2)**2) * (2.0 / np.pi)**0.25\n",
    "\n",
    "def psi0_1(x):\n",
    "    return np.exp(-((x - 3) / 4)**2) * (2.0 / np.pi)**0.25\n",
    "    # return np.exp(-((x - 3) / 2)**2) * (2.0 / np.pi)**0.25\n",
    "\n",
    "def psi0_2(x):\n",
    "    # return np.exp(-x**2) * (2.0 / np.pi)**0.25\n",
    "    return np.exp(-((x - 8) / 4)**2) * (2.0 / np.pi)**0.25\n",
    "    # return np.exp(-((x - 6)/4)**2) * (2.0 / np.pi)**0.25\n",
    "\n",
    "def psi0_3(x):\n",
    "    # a weird non-symmetric wavefunction\n",
    "    # return np.abs(np.sin((0.15*x - 0.5)**2))\n",
    "    return np.exp(-((x + 8) / 4)**2) * (2.0 / np.pi)**0.25\n",
    "    # return np.exp(-((x + 6)/4)**2) * (2.0 / np.pi)**0.25\n",
    "\n",
    "def psi0_4(x):\n",
    "    return np.exp(-((x - 12) / 4)**2) * (2.0 / np.pi)**0.25\n",
    "    # return np.exp(-(x - 11)**2) * (2.0 / np.pi)**0.25\n",
    "\n",
    "def psi0_5(x):\n",
    "    return np.exp(-((x + 12) / 4)**2) * (2.0 / np.pi)**0.25\n",
    "    # return np.exp(-(x + 11)**2) * (2.0 / np.pi)**0.25\n",
    "\n",
    "\n",
    "# function for normalizing initial wave functions and transforming them to the Fourier representation\n",
    "\n",
    "def mka0(psi0fn):\n",
    "    # compute psi0 normalization term\n",
    "    psi0fn_prob_intgrnd = lambda x: np.abs(psi0fn(x)) ** 2\n",
    "    psi0fn_norm = np.sqrt(si.quad(psi0fn_prob_intgrnd, -L, L)[0])\n",
    "\n",
    "    # normalized psi function (for integration)\n",
    "    norm_psi0fn = lambda x: psi0fn(x) / psi0fn_norm\n",
    "\n",
    "    # compute the Fourier representation of psi0fn\n",
    "    a0raw = []\n",
    "    for thisfourn in range (numfour + 1):\n",
    "        def intgrnd(x):\n",
    "            return norm_psi0fn(x) * np.exp(-1j * np.pi * thisfourn * x / L) / np.sqrt(2 * L)\n",
    "        def rintgrnd(x):\n",
    "            return intgrnd(x).real\n",
    "        def iintgrnd(x):\n",
    "            return intgrnd(x).imag\n",
    "        a0raw.append(si.quad(rintgrnd, -L, L, limit=100)[0] + 1j * si.quad(iintgrnd, -L, L, limit=100)[0])\n",
    "\n",
    "    a0 = np.concatenate([np.conjugate(np.flipud(a0raw[1:])), a0raw])\n",
    "\n",
    "    a0 = jnp.array(a0)\n",
    "\n",
    "    normpsi0x = norm_psi0fn(xvec)\n",
    "\n",
    "    return a0, normpsi0x\n"
   ],
   "metadata": {
    "collapsed": false,
    "pycharm": {
     "name": "#%%\n"
    }
   }
  },
  {
   "cell_type": "code",
   "execution_count": 7,
   "outputs": [
    {
     "name": "stdout",
     "output_type": "stream",
     "text": [
      "l2 error psi0_0: 7.476210590807997e-05\n",
      "l-infinity error psi0_0: 3.137317008559103e-05\n",
      "l2 error psi0_1: 7.476210590808388e-05\n",
      "l-infinity error psi0_1: 3.1373170085563275e-05\n",
      "l2 error psi0_2: 0.02843592889688725\n",
      "l-infinity error psi0_2: 0.01129795852635211\n",
      "l2 error psi0_3: 0.028435928896887255\n",
      "l-infinity error psi0_3: 0.01129795852635211\n"
     ]
    },
    {
     "data": {
      "text/plain": "<Figure size 432x288 with 1 Axes>",
      "image/png": "[encoded data removed]"
     },
     "metadata": {
      "needs_background": "light"
     },
     "output_type": "display_data"
    }
   ],
   "source": [
    "# compute vector of initial states\n",
    "\n",
    "# pick initial un-normalized wave functions\n",
    "psi0fnvec = [psi0_0, psi0_1, psi0_2, psi0_3]  # [psi0_0, psi0_1, psi0_2, psi0_3, psi0_4, psi0_5]\n",
    "\n",
    "a0vec = []\n",
    "normpsi0xvec = []\n",
    "normpsi0recxvec = []\n",
    "for thispsi0fn in psi0fnvec:\n",
    "    tempa0, tempnormpsi0x = mka0(thispsi0fn)\n",
    "    a0vec.append(tempa0)\n",
    "    normpsi0xvec.append(tempnormpsi0x)\n",
    "    normpsi0recxvec.append(tempa0 @ fourtox)\n",
    "\n",
    "\n",
    "# check if reconstructed Fourier representation is close to truth\n",
    "for i in range(len(normpsi0xvec)):\n",
    "    print(f'l2 error psi0_{i}:', nl.norm(normpsi0xvec[i] - normpsi0recxvec[i]))\n",
    "    print(f'l-infinity error psi0_{i}:', np.max(np.abs(normpsi0xvec[i] - normpsi0recxvec[i])))\n",
    "    # plot |\\psi(x,0)|^2\n",
    "    plt.plot(xvec, np.abs(normpsi0xvec[i])**2, label=f\"Truth {i}\")\n",
    "    plt.plot(xvec, np.abs(normpsi0recxvec[i])**2, label=f\"Rec {i}\")\n",
    "\n",
    "plt.title('|\\psi(x,0)|^2')\n",
    "plt.xlabel('x')\n",
    "plt.legend()\n",
    "plt.show()"
   ],
   "metadata": {
    "collapsed": false,
    "pycharm": {
     "name": "#%%\n"
    }
   }
  },
  {
   "cell_type": "markdown",
   "source": [
    "---\n",
    "**Forward Propagation**"
   ],
   "metadata": {
    "collapsed": false
   }
  },
  {
   "cell_type": "code",
   "execution_count": 8,
   "outputs": [
    {
     "name": "stdout",
     "output_type": "stream",
     "text": [
      "hmattrue Hermitian check (should be close to zero):\n",
      "0.0\n",
      "hmattrue diagonalized check (should be close to zero):\n",
      "9.770256348336455e-13\n",
      "stttrue unitary check (should be close to zero):\n",
      "1.9640078542463594e-14\n"
     ]
    }
   ],
   "source": [
    "# Eigendecomposition of Hamiltonian\n",
    "\n",
    "# kinetic operator in the Fourier representation\n",
    "# (this is constant for a given system)\n",
    "kmat = np.diag(np.arange(-numfour, numfour + 1) ** 2 * np.pi ** 2 / (2 * L ** 2))\n",
    "\n",
    "# Hamiltonian operator in the Fourier representation\n",
    "hmattrue = kmat + vmattrue\n",
    "\n",
    "# check if the Hamiltonian matrix is Hermitian\n",
    "print('hmattrue Hermitian check (should be close to zero):', nl.norm(hmattrue - hmattrue.T.conj()), sep='\\n')\n",
    "\n",
    "# eigen-decomposition of the Hamiltonian matrix\n",
    "spctrue, stttrue = jnl.eigh(hmattrue)\n",
    "\n",
    "# check if the decomposition diagonalizes the\n",
    "# Hamiltonian matrix\n",
    "# if this is close to zero then\n",
    "# hmat = states @ np.diag(spec) @ np.conj(states).T\n",
    "print('hmattrue diagonalized check (should be close to zero):', nl.norm(hmattrue @ stttrue - stttrue @ np.diag(spctrue)), sep='\\n')\n",
    "\n",
    "# check if the eigenstates are unitary\n",
    "print('stttrue unitary check (should be close to zero):', nl.norm(stttrue @ stttrue.T.conj() - np.eye(2 * numfour + 1)), sep='\\n')"
   ],
   "metadata": {
    "collapsed": false,
    "pycharm": {
     "name": "#%%\n"
    }
   }
  },
  {
   "cell_type": "code",
   "execution_count": 9,
   "outputs": [
    {
     "name": "stdout",
     "output_type": "stream",
     "text": [
      "[0.5 1.5 2.5 3.5 4.5 5.5]\n"
     ]
    },
    {
     "data": {
      "text/plain": "<Figure size 432x288 with 1 Axes>",
      "image/png": "[encoded data removed]"
     },
     "metadata": {
      "needs_background": "light"
     },
     "output_type": "display_data"
    },
    {
     "name": "stdout",
     "output_type": "stream",
     "text": [
      "Quick normalization check (should be close to 1):\n",
      "1.0000000000000022\n",
      "Accurate normalization check (should be close to 1):\n",
      "1.0000000000000022\n"
     ]
    }
   ],
   "source": [
    "# plot ground state of Eigendecomposition\n",
    "\n",
    "# find indices that sort eigenvalues\n",
    "ordering = jnp.argsort(spctrue)\n",
    "\n",
    "# print the first few eigenvalues\n",
    "print(spctrue[ordering[:6]])\n",
    "\n",
    "# pick out and plot real part of the ground state\n",
    "groundstate = ordering[0]\n",
    "wavefn = stttrue[:, groundstate] @ fourtox\n",
    "plt.plot(xvec, np.real(wavefn))\n",
    "plt.title('Real Part of Ground State')\n",
    "plt.xlabel('x')\n",
    "plt.show()\n",
    "\n",
    "# quick and dirty check of normalization\n",
    "print('Quick normalization check (should be close to 1):', np.sum(np.abs(wavefn)**2 * (xvec[1]-xvec[0])), sep='\\n')\n",
    "\n",
    "# this should be a more accurate check of the ground state\n",
    "# wave functions' normalization\n",
    "print('Accurate normalization check (should be close to 1):', si.trapezoid(np.abs(wavefn)**2, xvec), sep='\\n')"
   ],
   "metadata": {
    "collapsed": false,
    "pycharm": {
     "name": "#%%\n"
    }
   }
  },
  {
   "cell_type": "code",
   "execution_count": 10,
   "outputs": [
    {
     "name": "stdout",
     "output_type": "stream",
     "text": [
      "Shape amattrue: (4, 21, 65)\n",
      "Done propagating\n"
     ]
    }
   ],
   "source": [
    "# Propagate\n",
    "\n",
    "# set time-step size\n",
    "dt = 1e-2  # 1e-2\n",
    "\n",
    "# set number of time steps\n",
    "# trajectory length is numts + 1 (initial state + numts steps)\n",
    "numts = 20  # 20\n",
    "\n",
    "# compute propagator matrix\n",
    "propatrue = stttrue @ jnp.diag(jnp.exp(-1j * spctrue * dt)) @ stttrue.conj().T\n",
    "\n",
    "amattruevec = []\n",
    "# propagate system starting from initial \"a\" state\n",
    "for thisa0 in a0vec:\n",
    "    tempamat = [thisa0.copy()]\n",
    "    for i in range(numts):\n",
    "        tempamat.append(propatrue @ tempamat[-1])\n",
    "\n",
    "    amattruevec.append(tempamat)\n",
    "\n",
    "\n",
    "amattruevec = jnp.array(amattruevec)\n",
    "\n",
    "print('Shape amattrue:', amattruevec.shape)\n",
    "\n",
    "print('Done propagating')"
   ],
   "metadata": {
    "collapsed": false,
    "pycharm": {
     "name": "#%%\n"
    }
   }
  },
  {
   "cell_type": "code",
   "execution_count": 11,
   "outputs": [
    {
     "name": "stdout",
     "output_type": "stream",
     "text": [
      "Shape psimattrue: (4, 21, 1025)\n",
      "Shape probmattrue: (4, 21, 1025)\n",
      "Shape normmattrue: (4, 21)\n",
      "Average deviation from 1 of propgated wave function:\n",
      "1.0166187388560302e-05\n"
     ]
    }
   ],
   "source": [
    "# check if system's state remains normalized for the propagation\n",
    "\n",
    "psimattruevec = amattruevec @ fourtox\n",
    "print('Shape psimattrue:', psimattruevec.shape)\n",
    "\n",
    "probmattruevec = np.abs(psimattruevec) ** 2\n",
    "print('Shape probmattrue:', probmattruevec.shape)\n",
    "\n",
    "normmattruevec = si.trapezoid(probmattruevec, xvec)\n",
    "print('Shape normmattrue:', normmattruevec.shape)\n",
    "\n",
    "# average deviation from 1\n",
    "print('Average deviation from 1 of propgated wave function:', np.mean(np.abs(normmattruevec - 1.0)), sep='\\n')"
   ],
   "metadata": {
    "collapsed": false,
    "pycharm": {
     "name": "#%%\n"
    }
   }
  },
  {
   "cell_type": "markdown",
   "source": [
    "---\n",
    "<h1>Inverse Problem</h1>"
   ],
   "metadata": {
    "collapsed": false,
    "pycharm": {
     "name": "#%% md\n"
    }
   }
  },
  {
   "cell_type": "code",
   "execution_count": 12,
   "outputs": [
    {
     "name": "stdout",
     "output_type": "stream",
     "text": [
      "(65, 65)\n"
     ]
    }
   ],
   "source": [
    "# used for constructing Toeplitz matrix from a vector setup\n",
    "# like jnp.concatenate([jnp.flipud(row.conj()), row[1:]])\n",
    "\n",
    "numtoepelms = 2 * numfour + 1\n",
    "aa = (-1) * np.arange(0, numtoepelms).reshape(numtoepelms, 1)\n",
    "bb = [np.arange(numtoepelms - 1, 2 * numtoepelms - 1)]\n",
    "toepindxmat = np.array(aa + bb)\n",
    "print(toepindxmat.shape)"
   ],
   "metadata": {
    "collapsed": false,
    "pycharm": {
     "name": "#%%\n"
    }
   }
  },
  {
   "cell_type": "code",
   "execution_count": 13,
   "outputs": [
    {
     "name": "stdout",
     "output_type": "stream",
     "text": [
      "0.0\n"
     ]
    }
   ],
   "source": [
    "# check if index method makes same vmat\n",
    "# should be close to 0\n",
    "\n",
    "print(nl.norm(vmattrue - np.concatenate([np.flipud(np.conj(vtoeptrue)), vtoeptrue[1:]])[toepindxmat]))"
   ],
   "metadata": {
    "collapsed": false,
    "pycharm": {
     "name": "#%%\n"
    }
   }
  },
  {
   "cell_type": "code",
   "execution_count": 14,
   "outputs": [
    {
     "name": "stdout",
     "output_type": "stream",
     "text": [
      "Shape betamattruevec: (4, 21, 65)\n",
      "Shape probmattruevec: (4, 21, 1025)\n",
      "Shape probmatrecvec @ fourtox: (4, 21, 1025)\n",
      "l2 error probmatrecvec: [3.65797364e-06 3.65797364e-06 3.45528496e-03 3.45528496e-03]\n",
      "l-inf error probmatrecvec: [1.24992128e-07 1.24992128e-07 9.99758955e-05 9.99758955e-05]\n"
     ]
    }
   ],
   "source": [
    "# make |\\psi(t)|^2 training data in the Fourier representation\n",
    "\n",
    "# compute \"beta\" from \"a\"\n",
    "# correlate only works with 1D vectors\n",
    "betamatvec = []\n",
    "for thisamattrue in amattruevec:\n",
    "    tempbetamat = []\n",
    "    for thisavectrue in thisamattrue:\n",
    "        tempbetamat.append(jnp.correlate(thisavectrue, thisavectrue, 'same'))\n",
    "\n",
    "    betamatvec.append(jnp.array(tempbetamat))\n",
    "\n",
    "betamatvec = jnp.array(betamatvec) / jnp.sqrt(2 * L)\n",
    "\n",
    "\n",
    "print('Shape betamattruevec:', betamatvec.shape)\n",
    "print('Shape probmattruevec:', probmattruevec.shape)\n",
    "\n",
    "probmatrecvec = betamatvec @ fourtox\n",
    "print('Shape probmatrecvec @ fourtox:', probmatrecvec.shape)\n",
    "\n",
    "print('l2 error probmatrecvec:', jnl.norm(probmattruevec - probmatrecvec, axis=(1, 2)))\n",
    "print('l-inf error probmatrecvec:', jnp.max(jnp.abs(probmattruevec - probmatrecvec), axis=(1, 2)))"
   ],
   "metadata": {
    "collapsed": false,
    "pycharm": {
     "name": "#%%\n"
    }
   }
  },
  {
   "cell_type": "code",
   "execution_count": 15,
   "outputs": [],
   "source": [
    "# objective function\n",
    "\n",
    "def ampsqobject(theta, verbose=False):\n",
    "    # theta is a vector containing the concatenation\n",
    "    # of real and imaginary parts of vmat\n",
    "    # its size should be 2 * numtoepelms - 1 = 4 * numfour + 1\n",
    "\n",
    "    # to use theta we need to first recombine the real\n",
    "    # and imaginary parts into a vector of complex values\n",
    "    vtoephatR = theta[:numtoepelms]\n",
    "    vtoephatI = jnp.concatenate((jnp.array([0.0]), theta[numtoepelms:]))\n",
    "    vtoephat = vtoephatR + 1j * vtoephatI\n",
    "\n",
    "    if verbose:\n",
    "        print('l2 error vtoephat:', jnl.norm(vtoephat - vtoeptrue))\n",
    "\n",
    "    # construct vmathat from complex toeplitz vector\n",
    "    vmathat = jnp.concatenate([jnp.flipud(jnp.conj(vtoephat)), vtoephat[1:]])[toepindxmat]\n",
    "\n",
    "    # Construct Hamiltonian matrix\n",
    "    hmathat = kmat + vmathat\n",
    "\n",
    "    if verbose:\n",
    "        # check if hmat is Hermitian\n",
    "        print('hmat hermitian? (should be close to 0):', jnl.norm(hmathat - hmathat.T.conj()), sep='\\n')\n",
    "        print('l2 error hmat:', jnl.norm(hmathat - hmattrue))\n",
    "\n",
    "    # eigen-decomposition of the Hamiltonian matrix\n",
    "    spchat, stthat = jnl.eigh(hmathat)\n",
    "\n",
    "    if verbose:\n",
    "        # check if the decomposition diagonalizes hmat\n",
    "        # if this is close to zero then\n",
    "        # hmat = states @ np.diag(spec) @ np.conj(states).T\n",
    "        print('hmathat diagonalized? (should be close to 0):', jnl.norm(hmathat @ stthat - stthat @ jnp.diag(spchat)), sep='\\n')\n",
    "\n",
    "        # check if stt is unitary\n",
    "        print('stthat unitary? (should be close to 0):', jnl.norm(stthat @ stthat.T.conj() - jnp.eye(2 * numfour + 1)), sep='\\n')\n",
    "\n",
    "        print('l2 error spchat:', jnl.norm(spchat - spctrue))\n",
    "        print('l2 error stthat:', jnl.norm(stthat - stttrue))\n",
    "\n",
    "        print('|| vmattrue - vmathat || = ', jnl.norm(vmattrue - vmathat))\n",
    "\n",
    "    # compute propagator matrix\n",
    "    propahat = stthat @ jnp.diag(jnp.exp(-1j * spchat * dt)) @ stthat.conj().T\n",
    "\n",
    "    rtnobj = 0.0\n",
    "    for r in range(len(a0vec)):\n",
    "        thisahat = a0vec[r].copy()\n",
    "        thisbetahatmat = [jnp.correlate(thisahat, thisahat, 'same') / jnp.sqrt(2 * L)]\n",
    "\n",
    "        if verbose:\n",
    "            print('')\n",
    "            print('l2 error thisavec:', jnl.norm(thisahat - amattruevec[r, 0]))\n",
    "            print('l2 error tempbetamat[-1]:', jnl.norm(thisbetahatmat[-1] - betamatvec[r, 0]))\n",
    "\n",
    "        # propagate system starting from initial \"a\" state\n",
    "        for i in range(numts):\n",
    "            # propagate the system one time-step\n",
    "            thisahat = (propahat @ thisahat)\n",
    "\n",
    "            # calculate the amp^2\n",
    "            thisbetahatmat.append(jnp.correlate(thisahat, thisahat, 'same') / jnp.sqrt(2 * L))\n",
    "\n",
    "            if verbose:\n",
    "                # if i % 1 == 0:\n",
    "                if i % 10 == 0:\n",
    "                    print('l2 error thisavec:', jnl.norm(thisahat - amattruevec[r, i+1]))\n",
    "                    print('l2 error tempbetamat[-1]:', jnl.norm(thisbetahatmat[-1] - betamatvec[r, i+1]))\n",
    "\n",
    "        # compute objective functions\n",
    "        tempresid = jnp.array(thisbetahatmat) - betamatvec[r]\n",
    "        thisobj = 0.5 * jnp.sum(jnp.abs(tempresid)**2)\n",
    "        rtnobj += thisobj\n",
    "\n",
    "        if verbose:\n",
    "            print('')\n",
    "            print('Shape tempbetamat:', jnp.shape(thisbetahatmat))\n",
    "            print('l2 error tempbetamat:', jnl.norm(tempresid))\n",
    "            print('thisobj:', thisobj)\n",
    "            print('')\n",
    "\n",
    "    return rtnobj"
   ],
   "metadata": {
    "collapsed": false,
    "pycharm": {
     "name": "#%%\n"
    }
   }
  },
  {
   "cell_type": "code",
   "execution_count": 16,
   "outputs": [
    {
     "name": "stdout",
     "output_type": "stream",
     "text": [
      "Shape vfourcat: (129,)\n",
      "0.0\n"
     ]
    }
   ],
   "source": [
    "# true potential in a form that can be tested in objective\n",
    "\n",
    "thetatrue = jnp.concatenate((jnp.real(vtoeptrue), jnp.imag(vtoeptrue[1:])))\n",
    "\n",
    "print('Shape vfourcat:', thetatrue.shape)\n",
    "\n",
    "print(nl.norm(thetatrue[:numtoepelms] + 1j * jnp.concatenate((jnp.array([0.0]), thetatrue[numtoepelms:])) - vtoeptrue))"
   ],
   "metadata": {
    "collapsed": false,
    "pycharm": {
     "name": "#%%\n"
    }
   }
  },
  {
   "cell_type": "code",
   "execution_count": 17,
   "outputs": [
    {
     "name": "stdout",
     "output_type": "stream",
     "text": [
      "l2 error vtoephat: 0.0\n",
      "hmat hermitian? (should be close to 0):\n",
      "0.0\n",
      "l2 error hmat: 0.0\n",
      "hmathat diagonalized? (should be close to 0):\n",
      "9.770256348336455e-13\n",
      "stthat unitary? (should be close to 0):\n",
      "1.9640078542463594e-14\n",
      "l2 error spchat: 0.0\n",
      "l2 error stthat: 0.0\n",
      "|| vmattrue - vmathat || =  0.0\n",
      "\n",
      "l2 error thisavec: 0.0\n",
      "l2 error tempbetamat[-1]: 0.0\n",
      "l2 error thisavec: 0.0\n",
      "l2 error tempbetamat[-1]: 0.0\n",
      "l2 error thisavec: 0.0\n",
      "l2 error tempbetamat[-1]: 0.0\n",
      "\n",
      "Shape tempbetamat: (21, 65)\n",
      "l2 error tempbetamat: 0.0\n",
      "thisobj: 0.0\n",
      "\n",
      "\n",
      "l2 error thisavec: 0.0\n",
      "l2 error tempbetamat[-1]: 0.0\n",
      "l2 error thisavec: 0.0\n",
      "l2 error tempbetamat[-1]: 0.0\n",
      "l2 error thisavec: 0.0\n",
      "l2 error tempbetamat[-1]: 0.0\n",
      "\n",
      "Shape tempbetamat: (21, 65)\n",
      "l2 error tempbetamat: 0.0\n",
      "thisobj: 0.0\n",
      "\n",
      "\n",
      "l2 error thisavec: 0.0\n",
      "l2 error tempbetamat[-1]: 0.0\n",
      "l2 error thisavec: 0.0\n",
      "l2 error tempbetamat[-1]: 0.0\n",
      "l2 error thisavec: 0.0\n",
      "l2 error tempbetamat[-1]: 0.0\n",
      "\n",
      "Shape tempbetamat: (21, 65)\n",
      "l2 error tempbetamat: 0.0\n",
      "thisobj: 0.0\n",
      "\n",
      "\n",
      "l2 error thisavec: 0.0\n",
      "l2 error tempbetamat[-1]: 0.0\n",
      "l2 error thisavec: 0.0\n",
      "l2 error tempbetamat[-1]: 0.0\n",
      "l2 error thisavec: 0.0\n",
      "l2 error tempbetamat[-1]: 0.0\n",
      "\n",
      "Shape tempbetamat: (21, 65)\n",
      "l2 error tempbetamat: 0.0\n",
      "thisobj: 0.0\n",
      "\n",
      "Objective: 0.0\n"
     ]
    }
   ],
   "source": [
    "# check objective with true potential\n",
    "print('Objective:', ampsqobject(thetatrue, verbose=True))"
   ],
   "metadata": {
    "collapsed": false,
    "pycharm": {
     "name": "#%%\n"
    }
   }
  },
  {
   "cell_type": "code",
   "execution_count": 18,
   "outputs": [],
   "source": [
    "# jit ampsqobject\n",
    "jitampsqobject = jax.jit(ampsqobject)"
   ],
   "metadata": {
    "collapsed": false,
    "pycharm": {
     "name": "#%%\n"
    }
   }
  },
  {
   "cell_type": "code",
   "execution_count": 19,
   "outputs": [
    {
     "name": "stdout",
     "output_type": "stream",
     "text": [
      "6.067470301657784e-32\n"
     ]
    }
   ],
   "source": [
    "# complie and test jitampsqobject\n",
    "print(jitampsqobject(thetatrue))"
   ],
   "metadata": {
    "collapsed": false,
    "pycharm": {
     "name": "#%%\n"
    }
   }
  },
  {
   "cell_type": "code",
   "execution_count": 20,
   "outputs": [],
   "source": [
    "# JAX grad of the objective\n",
    "gradprobobj = jax.jit(jax.grad(jitampsqobject))"
   ],
   "metadata": {
    "collapsed": false,
    "pycharm": {
     "name": "#%%\n"
    }
   }
  },
  {
   "cell_type": "code",
   "execution_count": 21,
   "outputs": [
    {
     "name": "stdout",
     "output_type": "stream",
     "text": [
      "2.0877870500487004e-18\n"
     ]
    }
   ],
   "source": [
    "# check grad of objective with true potential\n",
    "print(jnl.norm(gradprobobj(thetatrue)))"
   ],
   "metadata": {
    "collapsed": false,
    "pycharm": {
     "name": "#%%\n"
    }
   }
  },
  {
   "cell_type": "markdown",
   "source": [
    "---\n",
    "---\n",
    "**Initialize with perturbed truth**"
   ],
   "metadata": {
    "collapsed": false,
    "pycharm": {
     "name": "#%% md\n"
    }
   }
  },
  {
   "cell_type": "code",
   "execution_count": 22,
   "outputs": [],
   "source": [
    "# seed = 1234  # set to None for random initialization\n",
    "# thetatrub = thetatrue.copy()\n",
    "# # thetatrub += 0.2 * np.random.default_rng(seed).normal(size=len(thetatrub))\n",
    "# thetatrub += 2 * np.random.default_rng(seed).normal(size=len(thetatrub))\n",
    "#\n",
    "# thetatrub = jnp.array(thetatrub)"
   ],
   "metadata": {
    "collapsed": false,
    "pycharm": {
     "name": "#%%\n"
    }
   }
  },
  {
   "cell_type": "code",
   "execution_count": 23,
   "outputs": [],
   "source": [
    "# print(jitampsqobject(thetatrub))\n",
    "# print(nl.norm(gradprobobj(thetatrub)))"
   ],
   "metadata": {
    "collapsed": false,
    "pycharm": {
     "name": "#%%\n"
    }
   }
  },
  {
   "cell_type": "code",
   "execution_count": 24,
   "outputs": [],
   "source": [
    "# rslttrubjaxgrad = so.minimize(jitampsqobject, thetatrub, jac=gradprobobj, tol=1e-12, options={'maxiter': 1000, 'disp': True, 'gtol': 1e-15}).x\n",
    "#\n",
    "# # rslttrubjaxgrad = so.minimize(jitampsqobject, thetatrub, jac=gradprobobj, options={'maxiter': 2000, 'disp': True}).x\n",
    "#\n",
    "# # rslttrubjaxgrad = so.minimize(jitampsqobject, thetatrue, jac=gradprobobj, tol=1e-12, options={'maxiter': 3000, 'disp': True, 'gtol': 1e-15}).x"
   ],
   "metadata": {
    "collapsed": false,
    "pycharm": {
     "name": "#%%\n"
    }
   }
  },
  {
   "cell_type": "code",
   "execution_count": 25,
   "outputs": [],
   "source": [
    "# print(jitampsqobject(rslttrubjaxgrad))\n",
    "# print(nl.norm(gradprobobj(rslttrubjaxgrad)))"
   ],
   "metadata": {
    "collapsed": false,
    "pycharm": {
     "name": "#%%\n"
    }
   }
  },
  {
   "cell_type": "code",
   "execution_count": 26,
   "outputs": [],
   "source": [
    "# vtoeplearnR = rslttrubjaxgrad[:numtoepelms]\n",
    "# vtoeplearnI = jnp.concatenate((jnp.array([0.0]), rslttrubjaxgrad[numtoepelms:]))\n",
    "# vtoeplearn = vtoeplearnR + 1j * vtoeplearnI\n",
    "#\n",
    "# print(nl.norm(vtoeplearn - vtoeptrue))\n",
    "# print(np.max(np.abs(vtoeplearn - vtoeptrue)))\n",
    "#\n",
    "# vlearnfour = np.sqrt(2 * L) * np.concatenate([np.conjugate(np.flipud(vtoeplearn[1:(numfour + 1)])), vtoeplearn[:(numfour + 1)]])\n",
    "# vlearnrec = vlearnfour @ fourtox"
   ],
   "metadata": {
    "collapsed": false,
    "pycharm": {
     "name": "#%%\n"
    }
   }
  },
  {
   "cell_type": "code",
   "execution_count": 27,
   "outputs": [],
   "source": [
    "# # plot learned v against true v\n",
    "#\n",
    "# vtoepinitR = thetatrub[:numtoepelms]\n",
    "# vtoepinitI = jnp.concatenate((jnp.array([0.0]), thetatrub[numtoepelms:]))\n",
    "# vtoepinit = vtoepinitR + 1j * vtoepinitI\n",
    "#\n",
    "# vinitfour = np.sqrt(2 * L) * np.concatenate([np.conjugate(np.flipud(vtoepinit[1:(numfour + 1)])), vtoepinit[:(numfour + 1)]])\n",
    "# vinitrec = vinitfour @ fourtox\n",
    "#\n",
    "# plt.plot(xvec, jnp.real(vlearnrec), '.-', label='learned')\n",
    "# plt.plot(xvec, vxvec, label='truth')\n",
    "# plt.plot(xvec, jnp.real(vinitrec), label='init')\n",
    "# plt.xlabel('x')\n",
    "# plt.title('V init vs. V learned vs. V true')\n",
    "# plt.legend()\n",
    "# plt.show()"
   ],
   "metadata": {
    "collapsed": false,
    "pycharm": {
     "name": "#%%\n"
    }
   }
  },
  {
   "cell_type": "markdown",
   "source": [
    "---\n",
    "---\n",
    "**Initialize with random coefficients close to zero**"
   ],
   "metadata": {
    "collapsed": false,
    "pycharm": {
     "name": "#%% md\n"
    }
   }
  },
  {
   "cell_type": "code",
   "execution_count": 28,
   "outputs": [],
   "source": [
    "seed = 1234  # set to None for random initialization\n",
    "# thetarnd = np.random.default_rng(seed).uniform(low=-5.0, high=5.0, size=thetatrue.shape)\n",
    "thetarnd = 0.001 * np.random.default_rng(seed).normal(size=thetatrue.shape)\n",
    "\n",
    "\n",
    "thetarnd = jnp.array(thetarnd)"
   ],
   "metadata": {
    "collapsed": false,
    "pycharm": {
     "name": "#%%\n"
    }
   }
  },
  {
   "cell_type": "code",
   "execution_count": 29,
   "outputs": [],
   "source": [
    "jaxgradlog = []\n",
    "def jax_grad_loger(theta):\n",
    "    thisgrad = gradprobobj(theta)\n",
    "    jaxgradlog.append(thisgrad)\n",
    "    return thisgrad\n",
    "\n",
    "# print(jax_grad_loger(thetatrue))\n",
    "\n",
    "jaxobjectlog = []\n",
    "def jax_object_loger(theta):\n",
    "    thisobject = jitampsqobject(theta)\n",
    "    jaxobjectlog.append(thisobject)\n",
    "    return thisobject\n",
    "\n",
    "# print(jax_object_loger(thetatrue))"
   ],
   "metadata": {
    "collapsed": false,
    "pycharm": {
     "name": "#%%\n"
    }
   }
  },
  {
   "cell_type": "code",
   "execution_count": 30,
   "outputs": [
    {
     "name": "stdout",
     "output_type": "stream",
     "text": [
      "Warning: Maximum number of iterations has been exceeded.\n",
      "         Current function value: 0.000003\n",
      "         Iterations: 1000\n",
      "         Function evaluations: 1013\n",
      "         Gradient evaluations: 1013\n"
     ]
    }
   ],
   "source": [
    "jaxgradlog = []\n",
    "jaxobjectlog = []\n",
    "rsltjaxthetarnd = so.minimize(jax_object_loger, thetarnd, jac=jax_grad_loger, tol=1e-12, options={'maxiter': 1000, 'disp': True, 'gtol': 1e-15}).x\n",
    "\n",
    "# rsltjaxthetarnd = so.minimize(jitampsqobject, thetarnd, jac=gradprobobj, tol=1e-12, options={'maxiter': 1000, 'disp': True, 'gtol': 1e-15}).x\n"
   ],
   "metadata": {
    "collapsed": false,
    "pycharm": {
     "name": "#%%\n"
    }
   }
  },
  {
   "cell_type": "code",
   "execution_count": 31,
   "outputs": [
    {
     "name": "stdout",
     "output_type": "stream",
     "text": [
      "(1013, 129)\n",
      "(1013,)\n",
      "0.0036963383770809697\n",
      "0.00369633837708097\n"
     ]
    },
    {
     "data": {
      "text/plain": "<Figure size 432x288 with 1 Axes>",
      "image/png": "[encoded data removed]"
     },
     "metadata": {
      "needs_background": "light"
     },
     "output_type": "display_data"
    }
   ],
   "source": [
    "print(np.shape(jaxgradlog))\n",
    "print(nl.norm(jaxgradlog, axis=1).shape)\n",
    "\n",
    "print(nl.norm(gradprobobj(thetarnd)))\n",
    "print(nl.norm(jaxgradlog, axis=1)[0])\n",
    "\n",
    "plt.plot(nl.norm(jaxgradlog, axis=1), '.-')\n",
    "plt.title('Norm of JAX Gradient During Learning')\n",
    "plt.xlabel('Iterations of Gradient Function')\n",
    "plt.show()\n"
   ],
   "metadata": {
    "collapsed": false,
    "pycharm": {
     "name": "#%%\n"
    }
   }
  },
  {
   "cell_type": "code",
   "execution_count": 32,
   "outputs": [
    {
     "name": "stdout",
     "output_type": "stream",
     "text": [
      "(1013,)\n"
     ]
    },
    {
     "data": {
      "text/plain": "<Figure size 432x288 with 1 Axes>",
      "image/png": "[encoded data removed]"
     },
     "metadata": {
      "needs_background": "light"
     },
     "output_type": "display_data"
    }
   ],
   "source": [
    "print(np.shape(jaxobjectlog))\n",
    "\n",
    "plt.plot(jaxobjectlog, '.-')\n",
    "plt.title('JAX Objective During Learning')\n",
    "plt.xlabel('Iterations of Objective Function')\n",
    "plt.show()"
   ],
   "metadata": {
    "collapsed": false,
    "pycharm": {
     "name": "#%%\n"
    }
   }
  },
  {
   "cell_type": "code",
   "execution_count": 33,
   "outputs": [
    {
     "name": "stdout",
     "output_type": "stream",
     "text": [
      "l2 error of learned vmat:\n",
      "39.595305386766874\n",
      "l-inf error of learned vmat:\n",
      "37.501603836789215\n"
     ]
    }
   ],
   "source": [
    "# learned concatenated vmat to learned complex vmat\n",
    "jaxvtoeplearnR = rsltjaxthetarnd[:numtoepelms]\n",
    "jaxvtoeplearnI = jnp.concatenate((jnp.array([0.0]), rsltjaxthetarnd[numtoepelms:]))\n",
    "jaxvtoeplearn = jaxvtoeplearnR + 1j * jaxvtoeplearnI\n",
    "\n",
    "print('l2 error of learned vmat:', nl.norm(jaxvtoeplearn - vtoeptrue), sep='\\n')\n",
    "print('l-inf error of learned vmat:', np.max(np.abs(jaxvtoeplearn - vtoeptrue)), sep='\\n')"
   ],
   "metadata": {
    "collapsed": false,
    "pycharm": {
     "name": "#%%\n"
    }
   }
  },
  {
   "cell_type": "code",
   "execution_count": 34,
   "outputs": [
    {
     "data": {
      "text/plain": "<Figure size 432x288 with 1 Axes>",
      "image/png": "[encoded data removed]"
     },
     "metadata": {
      "needs_background": "light"
     },
     "output_type": "display_data"
    }
   ],
   "source": [
    "# plot learned vs true\n",
    "\n",
    "# learned complex vmat to learned v\n",
    "jaxvlearnfour = np.sqrt(2 * L) * np.concatenate([np.conjugate(np.flipud(jaxvtoeplearn[1:(numfour + 1)])), jaxvtoeplearn[:(numfour + 1)]])\n",
    "jaxvlearnrec = jaxvlearnfour @ fourtox\n",
    "\n",
    "# init concatenated vmat to init complex vmat\n",
    "vtoepinitR = thetarnd[:numtoepelms]\n",
    "vtoepinitI = jnp.concatenate((jnp.array([0.0]), thetarnd[numtoepelms:]))\n",
    "vtoepinit = vtoepinitR + 1j * vtoepinitI\n",
    "# init complex vmat to init v\n",
    "vinitfour = np.sqrt(2 * L) * np.concatenate([np.conjugate(np.flipud(vtoepinit[1:(numfour + 1)])), vtoepinit[:(numfour + 1)]])\n",
    "vinitrec = vinitfour @ fourtox\n",
    "\n",
    "plt.plot(xvec, jnp.real(jaxvlearnrec), '.-', label='jax')\n",
    "plt.plot(xvec, vxvec, label='truth')\n",
    "plt.plot(xvec, jnp.real(vinitrec), label='init')\n",
    "plt.xlabel('x')\n",
    "plt.title('True Potential vs. Learned Potential')\n",
    "plt.legend()\n",
    "plt.show()"
   ],
   "metadata": {
    "collapsed": false,
    "pycharm": {
     "name": "#%%\n"
    }
   }
  },
  {
   "cell_type": "code",
   "execution_count": 35,
   "outputs": [
    {
     "name": "stdout",
     "output_type": "stream",
     "text": [
      "0.0\n",
      "-11.337890625\n",
      "35.034576546926765\n"
     ]
    },
    {
     "data": {
      "text/plain": "<Figure size 432x288 with 1 Axes>",
      "image/png": "[encoded data removed]"
     },
     "metadata": {
      "needs_background": "light"
     },
     "output_type": "display_data"
    },
    {
     "name": "stdout",
     "output_type": "stream",
     "text": [
      "l2 error of jax potential:\n",
      "268.4899386370853\n",
      "l2 error of trimmed result:\n",
      "12.468666181495212\n",
      "l-inf error of trimmed result:\n",
      "0.3517501295485507\n"
     ]
    }
   ],
   "source": [
    "zeroindex = len(xvec) // 2\n",
    "print(xvec[zeroindex])\n",
    "\n",
    "print(xvec[125])\n",
    "\n",
    "jaxdiff = np.abs(vxvec[zeroindex] - jnp.real(jaxvlearnrec)[zeroindex])\n",
    "print(jaxdiff)\n",
    "\n",
    "plt.plot(xvec, jnp.real(jaxvlearnrec) + jaxdiff, '.-', label='jax')\n",
    "plt.plot(xvec, vxvec, label='truth')\n",
    "plt.plot(xvec, jnp.real(vinitrec), label='init')\n",
    "plt.xlabel('x')\n",
    "plt.title('True Potential vs. Shifted Learned Potential')\n",
    "plt.legend()\n",
    "plt.show()\n",
    "\n",
    "print('l2 error of jax potential:', nl.norm(jnp.real(jaxvlearnrec) + jaxdiff - vxvec), sep='\\n')\n",
    "print('l2 error of trimmed result:', nl.norm(jnp.real(jaxvlearnrec)[125:-125] + jaxdiff - vxvec[125:-125]), sep='\\n')\n",
    "print('l-inf error of trimmed result:', np.mean(np.abs(jnp.real(jaxvlearnrec)[125:-125] + jaxdiff - vxvec[125:-125])), sep='\\n')"
   ],
   "metadata": {
    "collapsed": false,
    "pycharm": {
     "name": "#%%\n"
    }
   }
  },
  {
   "cell_type": "code",
   "execution_count": 35,
   "outputs": [],
   "source": [],
   "metadata": {
    "collapsed": false,
    "pycharm": {
     "name": "#%%\n"
    }
   }
  },
  {
   "cell_type": "markdown",
   "source": [
    "---\n",
    "<h1>Adjoint Method</h1>"
   ],
   "metadata": {
    "collapsed": false,
    "pycharm": {
     "name": "#%% md\n"
    }
   }
  },
  {
   "cell_type": "markdown",
   "source": [
    "\\begin{equation*}\n",
    "%\n",
    "\\rho_j^r\n",
    "& = \\frac{1}{\\sqrt{2 L}} \\sum_{k=-F}^F a_{k + j}^r \\overline{a}_k^r\n",
    "%\n",
    "\\end{equation*}\n",
    "\n",
    "``rho = [jnp.correlate(thisa0, thisa0, 'same') / jnp.sqrt(2 * L)]``\n"
   ],
   "metadata": {
    "collapsed": false
   }
  },
  {
   "cell_type": "markdown",
   "source": [
    "\\begin{equation*}\n",
    "%\n",
    "M_{j, \\ell}^r = \\overline{a_{\\ell - j}^r}\n",
    "%\n",
    "\\end{equation*}\n",
    "\n",
    "\\begin{equation*}\n",
    "%\n",
    "P_{j, \\ell}^r = a_{\\ell + j}^r\n",
    "%\n",
    "\\end{equation*}"
   ],
   "metadata": {
    "collapsed": false
   }
  },
  {
   "cell_type": "code",
   "execution_count": 36,
   "outputs": [],
   "source": [
    "def mk_M_and_P(avec):\n",
    "    halflen = len(avec) // 2\n",
    "    padavec = jnp.concatenate((jnp.zeros(halflen), jnp.array(avec), jnp.zeros(halflen)))\n",
    "\n",
    "    rawmat = []\n",
    "    for j in range(2 * halflen + 1):\n",
    "        rawmat.append(padavec[2 * halflen - j:4 * halflen + 1 - j])\n",
    "\n",
    "    Mmat = jnp.conjugate(jnp.array(rawmat))\n",
    "    Pmat = jnp.flipud(jnp.array(rawmat))\n",
    "\n",
    "    return Mmat, Pmat"
   ],
   "metadata": {
    "collapsed": false,
    "pycharm": {
     "name": "#%%\n"
    }
   }
  },
  {
   "cell_type": "code",
   "execution_count": 37,
   "outputs": [],
   "source": [
    "jit_mk_M_and_P = jax.jit(mk_M_and_P)"
   ],
   "metadata": {
    "collapsed": false,
    "pycharm": {
     "name": "#%%\n"
    }
   }
  },
  {
   "cell_type": "code",
   "execution_count": 38,
   "outputs": [],
   "source": [
    "# direct computation of sum to check if M and P\n",
    "# matrices are correct\n",
    "\n",
    "# testa = [1, 2, 3, 4, 5]  # [1 + 0.5j, 2 + 1.0j, 3 + 1.5j, 4 + 2.0j, 5 + 2.5j]\n",
    "#\n",
    "# testM, testP = jit_mk_M_and_P(testa)\n",
    "# print('M:', testM, 'P:', testP, sep='\\n')\n",
    "#\n",
    "# # print(testM + testP)\n",
    "# print(np.sum(testM + testP, axis=1))\n",
    "\n",
    "# testhalflen = len(testa) // 2\n",
    "# testdeltavec = []\n",
    "# for j in np.arange(-testhalflen, testhalflen+1):\n",
    "#     thissum = 0\n",
    "#     for ell in np.arange(-testhalflen, testhalflen+1):\n",
    "#         # print('j:', j)\n",
    "#         # print('ell:', ell)\n",
    "#         if np.abs(ell-j) > testhalflen:\n",
    "#             am = 0\n",
    "#         else:\n",
    "#             am = testa[testhalflen + ell - j]\n",
    "#         if np.abs(ell+j) > testhalflen:\n",
    "#             ap = 0\n",
    "#         else:\n",
    "#             ap = testa[testhalflen + ell + j]\n",
    "#\n",
    "#         # print('am:', am)\n",
    "#         # print('ap:', ap)\n",
    "#         thissum += np.conjugate(am) + ap\n",
    "#\n",
    "#     testdeltavec.append(thissum)\n",
    "#\n",
    "# print(testdeltavec)\n",
    "#\n",
    "# # print(testM + testP)\n",
    "# print(np.sum(testM + testP, axis=1))"
   ],
   "metadata": {
    "collapsed": false,
    "pycharm": {
     "name": "#%%\n"
    }
   }
  },
  {
   "cell_type": "markdown",
   "source": [
    "---"
   ],
   "metadata": {
    "collapsed": false,
    "pycharm": {
     "name": "#%% md\n"
    }
   }
  },
  {
   "cell_type": "markdown",
   "source": [
    "\\begin{equation*}\n",
    "%\n",
    "\\lambda^T\n",
    "= \\frac{1}{\\sqrt{2 L}} \\left[ \\left( M^T \\right)^\\dagger \\left( \\rho^T - \\beta^T \\right) + \\overline{\\left( P^T \\right)^\\dagger \\left( \\rho^T - \\beta^T \\right)} \\right]\n",
    "%\n",
    "\\end{equation*}\n",
    "\n",
    "\\begin{equation*}\n",
    "%\n",
    "\\lambda^r\n",
    "= \\frac{1}{\\sqrt{2 L}} \\left[ \\left( M^r \\right)^\\dagger \\left( \\rho^r - \\beta^r \\right) + \\overline{\\left( P^r \\right)^\\dagger \\left( \\rho^r - \\beta^r \\right)} \\right] +\n",
    "\\left[ e^{ -i \\hat{H} \\Delta t} \\right]^\\dagger \\lambda^{r+1}\n",
    "%\n",
    "\\end{equation*}\n",
    "\n",
    "\\begin{equation*}\n",
    "%\n",
    "\\frac{\\partial L}{\\partial \\hat{\\theta}}\n",
    "= \\mathfrak{R}\n",
    "\\left< \\lambda^{r+1},\n",
    "\\left. \\frac{\\partial}{\\partial \\Upsilon} e^\\Upsilon \\right|_{\\Upsilon = -i \\hat{H} \\Delta t}\n",
    "\\left( -i \\Delta t \\right) \\hat{a}^r\n",
    "\\right>\n",
    "= \\mathfrak{R} - \\sum_{r=0}^{T-1}\n",
    "\\left( \\lambda^{r+1} \\right)^\\dagger\n",
    "\\left. \\frac{\\partial}{\\partial \\Upsilon} e^\\Upsilon \\right|_{\\Upsilon = -i \\hat{H} \\Delta t}\n",
    "\\left( -i \\Delta t \\right) \\hat{a}^r\n",
    "%\n",
    "\\end{equation*}"
   ],
   "metadata": {
    "collapsed": false
   }
  },
  {
   "cell_type": "code",
   "execution_count": 63,
   "outputs": [],
   "source": [
    "def adjgrads(theta):\n",
    "    # to use theta we need to first recombine the real\n",
    "    # and imaginary parts into a vector of complex values\n",
    "    vtoephatR = theta[:numtoepelms]\n",
    "    vtoephatI = jnp.concatenate((jnp.array([0.0]), theta[numtoepelms:]))\n",
    "    vtoephat = vtoephatR + 1j * vtoephatI\n",
    "    # print('Shape vtoephat:', vtoephat.shape)\n",
    "\n",
    "    # construct vmathat from complex toeplitz vector\n",
    "    vmathat = jnp.concatenate([jnp.flipud(jnp.conj(vtoephat)), vtoephat[1:]])[toepindxmat]\n",
    "\n",
    "    # Construct Hamiltonian matrix\n",
    "    hmathat = kmat + vmathat\n",
    "\n",
    "    # eigen-decomposition of the Hamiltonian matrix\n",
    "    spchat, stthat = jnl.eigh(hmathat)\n",
    "\n",
    "    # compute propagator matrix\n",
    "    propahat = stthat @ jnp.diag(jnp.exp(-1j * spchat * dt)) @ stthat.conj().T\n",
    "    proplam = jnp.transpose(jnp.conjugate(propahat))\n",
    "\n",
    "    # forward propagation\n",
    "    ahatmatvec = []\n",
    "    lammatvec = []\n",
    "    for r in range(len(a0vec)):\n",
    "        # propagate system starting from initial \"a\" state\n",
    "        thisahatmat = [a0vec[r].copy()]\n",
    "        thisrhomat = [jnp.correlate(thisahatmat[0], thisahatmat[0], 'same') / jnp.sqrt(2 * L)]\n",
    "        thispartlammat = [jnp.zeros(numtoepelms, dtype=complex)]\n",
    "\n",
    "        for i in range(numts):\n",
    "            # propagate the system one time-step\n",
    "            thisahatmat.append(propahat @ thisahatmat[-1])\n",
    "\n",
    "            # calculate the amp^2\n",
    "            thisrhomat.append(jnp.correlate(thisahatmat[-1], thisahatmat[-1], 'same') / jnp.sqrt(2 * L))\n",
    "\n",
    "            # compute \\rho^r - \\beta^r\n",
    "            thiserr = thisrhomat[-1] - betamatvec[r, i+1]\n",
    "\n",
    "            # compute M and P matrix for lambda mat\n",
    "            thisMmat, thisPmat = jit_mk_M_and_P(thisahatmat[-1])\n",
    "\n",
    "            # compute part of lambda mat\n",
    "            # ( 1 / \\sqrt{2 L} ) * [ ( M^r )^\\dagger * ( \\rho^r - \\beta^r )\n",
    "            # + \\overline{( P^r )^\\dagger * ( \\rho^r - \\beta^r )} ]\n",
    "            thispartlammat.append((thisMmat.conj().T @ thiserr + (thisPmat.conj().T @ thiserr).conj()) / jnp.sqrt(2 * L))\n",
    "\n",
    "        ahatmatvec.append(jnp.array(thisahatmat))\n",
    "\n",
    "        # build lammat backwards then flip at the end\n",
    "        thislammat = [thispartlammat[-1]]\n",
    "        for i in range(2, numts + 2):\n",
    "            thislammat.append(thispartlammat[-i] + proplam @ thislammat[-1])\n",
    "\n",
    "        lammatvec.append(jnp.flipud(jnp.array(thislammat)))\n",
    "\n",
    "    # make lists into JAX array object\n",
    "    ahatmatvec = jnp.array(ahatmatvec)\n",
    "    lammatvec = jnp.array(lammatvec)\n",
    "\n",
    "\n",
    "    #######################################\n",
    "    # the remainder of this function is for computing the\n",
    "    # gradient of the exponential matrix\n",
    "    #######################################\n",
    "\n",
    "    offdiagmask = jnp.ones((numtoepelms, numtoepelms)) - jnp.eye(numtoepelms)\n",
    "    expspec = jnp.exp(-1j * dt * spchat)\n",
    "    e1, e2 = jnp.meshgrid(expspec, expspec)\n",
    "    s1, s2 = jnp.meshgrid(spchat, spchat)\n",
    "    denom = offdiagmask * (-1j * dt) * (s1 - s2) + jnp.eye(numtoepelms)\n",
    "    mask = offdiagmask * (e1 - e2)/denom + jnp.diag(expspec)\n",
    "\n",
    "    myeye = jnp.eye(numtoepelms)\n",
    "    wsR = jnp.hstack([jnp.fliplr(myeye), myeye[:,1:]]).T\n",
    "    ctrmatsR = wsR[toepindxmat]\n",
    "    prederivamatR = jnp.einsum('ij,jkm,kl->ilm', stthat.conj().T, ctrmatsR,stthat)\n",
    "    derivamatR = prederivamatR * jnp.expand_dims(mask,2)\n",
    "    alldmatreal = -1j * dt * jnp.einsum('ij,jkm,kl->mil',stthat, derivamatR, stthat.conj().T)\n",
    "\n",
    "    wsI = 1.0j * jnp.hstack([-jnp.fliplr(myeye), myeye[:,1:]])\n",
    "    wsI = wsI[1:,:]\n",
    "    wsI = wsI.T\n",
    "    ctrmatsI = wsI[toepindxmat]\n",
    "    prederivamatI = jnp.einsum('ij,jkm,kl->ilm',stthat.conj().T, ctrmatsI, stthat)\n",
    "    derivamatI = prederivamatI * jnp.expand_dims(mask, 2)\n",
    "    alldmatimag = -1j * dt * jnp.einsum('ij,jkm,kl->mil',stthat, derivamatI, stthat.conj().T)\n",
    "\n",
    "    alldmat = jnp.vstack([alldmatreal, alldmatimag])\n",
    "\n",
    "    # compute all entries of the gradient at once\n",
    "    gradients = jnp.real(jnp.einsum('bij,ajk,bik->a', jnp.conj(lammatvec[:, 1:]), alldmat, ahatmatvec[:, :-1]))\n",
    "    # gradients = jnp.real(jnp.einsum('ij,ajk,ik->a', jnp.conj(lammatvec[0, 1:]), alldmat, ahatmatvec[0, :-1]))\n",
    "    # for i in range(1, lammatvec.shape[0]):\n",
    "    #     gradients += jnp.real(jnp.einsum('ij,ajk,ik->a', jnp.conj(lammatvec[i, 1:]), alldmat, ahatmatvec[i, :-1]))\n",
    "\n",
    "    return gradients"
   ],
   "metadata": {
    "collapsed": false,
    "pycharm": {
     "name": "#%%\n"
    }
   }
  },
  {
   "cell_type": "code",
   "execution_count": 64,
   "outputs": [],
   "source": [
    "jitadjgrads = jax.jit(adjgrads)"
   ],
   "metadata": {
    "collapsed": false,
    "pycharm": {
     "name": "#%%\n"
    }
   }
  },
  {
   "cell_type": "code",
   "execution_count": 65,
   "outputs": [
    {
     "name": "stdout",
     "output_type": "stream",
     "text": [
      "2.087787050050073e-18\n"
     ]
    }
   ],
   "source": [
    "print(nl.norm(jitadjgrads(thetatrue)))"
   ],
   "metadata": {
    "collapsed": false,
    "pycharm": {
     "name": "#%%\n"
    }
   }
  },
  {
   "cell_type": "markdown",
   "source": [
    "---\n",
    "**Check grads**"
   ],
   "metadata": {
    "collapsed": false,
    "pycharm": {
     "name": "#%% md\n"
    }
   }
  },
  {
   "cell_type": "code",
   "execution_count": 66,
   "outputs": [
    {
     "name": "stdout",
     "output_type": "stream",
     "text": [
      "2.6508335937988495e-14\n",
      "2.1056109368250205e-14\n",
      "2.98171446581027e-14\n",
      "3.6050448865333135e-14\n",
      "2.122484012864943e-14\n",
      "3.5725952829245963e-14\n",
      "1.0659398147299302e-13\n",
      "4.716571562156165e-14\n",
      "5.5493139588826456e-14\n",
      "6.808373598723619e-14\n",
      "2.85534004488602e-14\n",
      "4.413543353044371e-14\n",
      "8.349418345902778e-14\n",
      "6.326778913986729e-14\n",
      "7.756823335089165e-14\n",
      "1.27554293960416e-14\n",
      "3.0334688305609856e-13\n",
      "5.806895645998408e-14\n",
      "7.33314171555326e-14\n",
      "1.139963139116854e-13\n",
      "3.566137451263813e-14\n",
      "6.278022890149738e-14\n",
      "7.79436820813436e-14\n",
      "7.003875606937632e-14\n",
      "2.6302766468599394e-14\n",
      "5.3594574380319194e-14\n",
      "4.758080111197676e-14\n",
      "1.9055681117978406e-14\n",
      "3.4527992687516394e-14\n",
      "3.3996842537120005e-14\n",
      "1.0664794368821055e-13\n",
      "8.734442471436046e-14\n",
      "2.3748255354153012e-14\n",
      "2.208551686185133e-14\n",
      "1.860984189826485e-13\n",
      "2.3690507534996708e-14\n",
      "2.5370656844233515e-14\n",
      "1.992699370798816e-13\n",
      "4.4391761170346926e-14\n",
      "2.430253551351392e-14\n",
      "2.2902917694565222e-14\n",
      "5.959852378822132e-13\n",
      "4.494261213876161e-14\n",
      "1.6266801781591774e-14\n",
      "7.715168197965625e-14\n",
      "6.698375829949622e-14\n",
      "2.953218796651973e-14\n",
      "7.497309106821273e-14\n",
      "4.121205797783559e-14\n",
      "1.2097119247040538e-13\n",
      "CPU times: user 1.88 s, sys: 0 ns, total: 1.88 s\n",
      "Wall time: 1.85 s\n"
     ]
    }
   ],
   "source": [
    "%%time\n",
    "\n",
    "for i in range(50):\n",
    "    thistheta = 0.2 * np.random.default_rng().normal(size=2 * numtoepelms - 1)\n",
    "    thisadjgrads = jitadjgrads(thistheta)\n",
    "    thisjaxgrads = gradprobobj(thistheta)\n",
    "    print(nl.norm(thisadjgrads - thisjaxgrads))"
   ],
   "metadata": {
    "collapsed": false,
    "pycharm": {
     "name": "#%%\n"
    }
   }
  },
  {
   "cell_type": "markdown",
   "source": [
    "---\n",
    "**Initialize with random coefficients close to zero**"
   ],
   "metadata": {
    "collapsed": false
   }
  },
  {
   "cell_type": "code",
   "execution_count": null,
   "outputs": [],
   "source": [
    "adjgradlog = []\n",
    "def adj_grad_loger(theta):\n",
    "    thisgrad = jitadjgrads(theta)\n",
    "    adjgradlog.append(thisgrad)\n",
    "    return thisgrad\n",
    "\n",
    "# print(jax_grad_loger(thetatrue))\n",
    "\n",
    "adjobjectlog = []\n",
    "def adj_object_loger(theta):\n",
    "    thisobject = jitampsqobject(theta)\n",
    "    adjobjectlog.append(thisobject)\n",
    "    return thisobject\n",
    "\n",
    "# print(jax_grad_loger(thetatrue))"
   ],
   "metadata": {
    "collapsed": false,
    "pycharm": {
     "name": "#%%\n"
    }
   }
  },
  {
   "cell_type": "code",
   "execution_count": null,
   "outputs": [],
   "source": [
    "adjgradlog = []\n",
    "adjobjectlog = []\n",
    "rsltadjthetarnd = so.minimize(adj_object_loger, thetarnd, jac=adj_grad_loger, tol=1e-12, options={'maxiter': 1000, 'disp': True, 'gtol': 1e-15}).x\n",
    "\n",
    "# rsltrndadjgrad = so.minimize(jitampsqobject, thetarnd, jac=jitadjgrads, tol=1e-12, options={'maxiter': 1000, 'disp': True, 'gtol': 1e-15}).x"
   ],
   "metadata": {
    "collapsed": false,
    "pycharm": {
     "name": "#%%\n"
    }
   }
  },
  {
   "cell_type": "code",
   "execution_count": null,
   "outputs": [],
   "source": [
    "print(np.shape(jaxgradlog))\n",
    "print(nl.norm(jaxgradlog, axis=1).shape)\n",
    "\n",
    "print(nl.norm(gradprobobj(thetarnd)))\n",
    "print(nl.norm(jitadjgrads(thetarnd)))\n",
    "print(nl.norm(adjgradlog, axis=1)[0])\n",
    "\n",
    "plt.plot(nl.norm(adjgradlog, axis=1), '.-')\n",
    "plt.title('Norm of Adjoint Gradient During Learning')\n",
    "plt.xlabel('Iterations of Gradient Function')\n",
    "plt.show()\n",
    "\n",
    "plt.plot(nl.norm(adjgradlog, axis=1), '.-', label='adj')\n",
    "plt.plot(nl.norm(jaxgradlog, axis=1), label='JAX')\n",
    "# plt.ylim((0, 1e-2))\n",
    "plt.title('Norm of JAX vs. Adjoint Gradient During Learning')\n",
    "plt.legend()\n",
    "plt.show()"
   ],
   "metadata": {
    "collapsed": false,
    "pycharm": {
     "name": "#%%\n"
    }
   }
  },
  {
   "cell_type": "code",
   "execution_count": null,
   "outputs": [],
   "source": [
    "print(np.shape(adjobjectlog))\n",
    "\n",
    "plt.plot(adjobjectlog, '.-')\n",
    "plt.title('Adjoint Objective During Learning')\n",
    "plt.xlabel('Iterations of Objective Function')\n",
    "plt.show()\n",
    "\n",
    "plt.plot(adjobjectlog, '.-', label='adj')\n",
    "plt.plot(jaxobjectlog, label='jax')\n",
    "plt.title('Adjoint Objective vs. JAX Objective During Learning')\n",
    "plt.xlabel('Iterations of Objective Function')\n",
    "plt.show()"
   ],
   "metadata": {
    "collapsed": false,
    "pycharm": {
     "name": "#%%\n"
    }
   }
  },
  {
   "cell_type": "code",
   "execution_count": null,
   "outputs": [],
   "source": [
    "adjvtoeplearnR = rsltadjthetarnd[:numtoepelms]\n",
    "adjvtoeplearnI = jnp.concatenate((jnp.array([0.0]), rsltadjthetarnd[numtoepelms:]))\n",
    "adjvtoeplearn = adjvtoeplearnR + 1j * adjvtoeplearnI\n",
    "\n",
    "print(nl.norm(adjvtoeplearn - vtoeptrue))\n",
    "print(np.max(np.abs(adjvtoeplearn - vtoeptrue)))\n",
    "\n",
    "adjvlearnfour = np.sqrt(2 * L) * np.concatenate([np.conjugate(np.flipud(adjvtoeplearn[1:(numfour + 1)])), adjvtoeplearn[:(numfour + 1)]])\n",
    "adjvlearnrec = adjvlearnfour @ fourtox"
   ],
   "metadata": {
    "collapsed": false,
    "pycharm": {
     "name": "#%%\n"
    }
   }
  },
  {
   "cell_type": "code",
   "execution_count": null,
   "outputs": [],
   "source": [
    "# plot learned potential vs true potential\n",
    "plt.plot(xvec, jnp.real(adjvlearnrec), '.-', label='adj')\n",
    "plt.plot(xvec, jnp.real(jaxvlearnrec), label='jax')\n",
    "plt.plot(xvec, vxvec, label='truth')\n",
    "plt.plot(xvec, jnp.real(vinitrec), label='init')\n",
    "plt.xlabel('x')\n",
    "plt.title('True Potential vs. Learned Potential')\n",
    "plt.legend()\n",
    "plt.show()"
   ],
   "metadata": {
    "collapsed": false,
    "pycharm": {
     "name": "#%%\n"
    }
   }
  },
  {
   "cell_type": "code",
   "execution_count": null,
   "outputs": [],
   "source": [
    "adjdiff = np.abs(vxvec[zeroindex] - jnp.real(adjvlearnrec)[zeroindex])\n",
    "print('adjdiff:', adjdiff)\n",
    "\n",
    "print('|jaxdiff - adjdiff|:', np.abs(jaxdiff - adjdiff))\n",
    "\n",
    "plt.plot(xvec, jnp.real(adjvlearnrec) + adjdiff, '.-', label='adj')\n",
    "plt.plot(xvec, jnp.real(jaxvlearnrec) + jaxdiff, label='jax')\n",
    "plt.plot(xvec, vxvec, label='truth')\n",
    "plt.plot(xvec, jnp.real(vinitrec), label='init')\n",
    "plt.xlabel('x')\n",
    "plt.title('True Potential vs. Shifted Learned Potential')\n",
    "plt.legend()\n",
    "plt.show()\n",
    "\n",
    "print('l2 error of shifted adj potential:', nl.norm(jnp.real(adjvlearnrec) + adjdiff - vxvec), sep='\\n')\n",
    "print('l2 error of shifted and trimmed adj potential:', nl.norm(jnp.real(adjvlearnrec)[125:-125] + adjdiff - vxvec[125:-125]), sep='\\n')\n",
    "print('l-inf error of trimmed result:', np.mean(np.abs(jnp.real(adjvlearnrec)[125:-125] + adjdiff - vxvec[125:-125])), sep='\\n')"
   ],
   "metadata": {
    "collapsed": false,
    "pycharm": {
     "name": "#%%\n"
    }
   }
  },
  {
   "cell_type": "code",
   "execution_count": null,
   "outputs": [],
   "source": [],
   "metadata": {
    "collapsed": false,
    "pycharm": {
     "name": "#%%\n"
    }
   }
  }
 ],
 "metadata": {
  "kernelspec": {
   "display_name": "Python 3",
   "language": "python",
   "name": "python3"
  },
  "language_info": {
   "codemirror_mode": {
    "name": "ipython",
    "version": 2
   },
   "file_extension": ".py",
   "mimetype": "text/x-python",
   "name": "python",
   "nbconvert_exporter": "python",
   "pygments_lexer": "ipython2",
   "version": "2.7.6"
  }
 },
 "nbformat": 4,
 "nbformat_minor": 0
}