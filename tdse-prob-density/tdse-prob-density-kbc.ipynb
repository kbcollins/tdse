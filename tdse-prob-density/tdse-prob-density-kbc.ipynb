{
 "cells": [
  {
   "cell_type": "code",
   "execution_count": 1,
   "outputs": [],
   "source": [
    "import numpy as np\n",
    "import numpy.linalg as nl\n",
    "import scipy.linalg as sl\n",
    "import scipy.special as ss\n",
    "import scipy.integrate as si\n",
    "import scipy.optimize as so\n",
    "import matplotlib.pyplot as plt\n",
    "import jax\n",
    "import jax.numpy as jnp\n",
    "import jax.numpy.linalg as jnl\n",
    "from jax.config import config\n",
    "config.update(\"jax_enable_x64\", True)"
   ],
   "metadata": {
    "collapsed": false,
    "pycharm": {
     "name": "#%%\n"
    }
   }
  },
  {
   "cell_type": "markdown",
   "source": [
    "<h1>Forward Problem</h1>"
   ],
   "metadata": {
    "collapsed": false,
    "pycharm": {
     "name": "#%% md\n"
    }
   }
  },
  {
   "cell_type": "code",
   "execution_count": 5,
   "outputs": [
    {
     "name": "stdout",
     "output_type": "stream",
     "text": [
      "Shape fourtox: (25, 1025)\n"
     ]
    }
   ],
   "source": [
    "# size of spatial domain\n",
    "L = 10.0\n",
    "# number of real space grid points (for plotting)\n",
    "numx = 1025\n",
    "# real space grid points (for plotting)\n",
    "xvec = np.linspace(-L, L, numx)\n",
    "\n",
    "# number of Fourier basis functions\n",
    "# n = -numF to n = numF\n",
    "numfour = 12  # 32\n",
    "\n",
    "# matrix for converting Fourier representation to real space\n",
    "fournvec = np.arange(-numfour, numfour + 1) # fournvec=-nfb,...,0,...,nfb\n",
    "fourtox = np.exp(1j * np.pi * np.outer(fournvec, xvec) / L) / np.sqrt(2 * L)\n",
    "print('Shape fourtox:', fourtox.shape)"
   ],
   "metadata": {
    "collapsed": false,
    "pycharm": {
     "name": "#%%\n"
    }
   }
  },
  {
   "cell_type": "code",
   "execution_count": 6,
   "outputs": [
    {
     "data": {
      "text/plain": "<Figure size 432x288 with 1 Axes>",
      "image/png": "[encoded data removed]"
     },
     "metadata": {
      "needs_background": "light"
     },
     "output_type": "display_data"
    }
   ],
   "source": [
    "def v(z):\n",
    "    # harmonic oscillator potential (should be exact for Chebyshev)\n",
    "    return 0.5 * z**2\n",
    "    # symmetric double well potential\n",
    "    # return 2.5e-3 * (z**2 - 25)**2\n",
    "    # asymmetric double well potential\n",
    "    # c0 = 4.35; c1 = 9.40e-1; c2 = -3.56e-1; c3 = -4.66e-2\n",
    "    # c4 = 1.46e-2; c5 = 6.76e-4; c6 = -1.26e-4; c7 = -5.43e-6\n",
    "    # c8 = 4.12e-7; c9 = 1.65e-8\n",
    "    # x = z + 0.8\n",
    "    # return 0.5 * (c0 + c1*x + c2*x**2 + c3*x**3 + c4*x**4 + c5*x**5 \\\n",
    "    #        + c6*x**6 + c7*x**7 + c8*x**8 + c9*x**9)\n",
    "    # non-polynomial potentials\n",
    "    # return np.sin(0.4 * z - 1)\n",
    "    # return np.sin((0.5 * z)**2)\n",
    "    # return 15 * (-np.cos(z) + np.sin((0.5 * z)**2 - 0.2 * z))\n",
    "    # soft coulomb potential\n",
    "    # return -1 / np.sqrt(z**2 + 0.25)\n",
    "\n",
    "# compute true potential on real space grid for plotting\n",
    "vxvec = v(xvec)\n",
    "\n",
    "# plot true potential\n",
    "plt.plot(xvec, vxvec)\n",
    "plt.title('Plot of V(x)')\n",
    "plt.xlabel('x')\n",
    "plt.show()"
   ],
   "metadata": {
    "collapsed": false,
    "pycharm": {
     "name": "#%%\n"
    }
   }
  },
  {
   "cell_type": "code",
   "execution_count": 7,
   "outputs": [
    {
     "name": "stdout",
     "output_type": "stream",
     "text": [
      "Shape vmattrue: (25, 25)\n"
     ]
    }
   ],
   "source": [
    "# transform potential to Fourier representation\n",
    "\n",
    "fourvtoep = []\n",
    "for thisfourn in range(2 * numfour + 1):\n",
    "    def intgrnd(x):\n",
    "        return v(x) * np.exp(-1j * np.pi * thisfourn * x / L) / (2 * L)\n",
    "    def rintgrnd(x):\n",
    "        return intgrnd(x).real\n",
    "    def iintgrnd(x):\n",
    "        return intgrnd(x).imag\n",
    "    fourvtoep.append(si.quad(rintgrnd, -L, L, limit=100)[0] + 1j * si.quad(iintgrnd, -L, L, limit=100)[0])\n",
    "vmattrue = sl.toeplitz(r=fourvtoep, c=np.conj(fourvtoep))\n",
    "\n",
    "print('Shape vmattrue:', vmattrue.shape)"
   ],
   "metadata": {
    "collapsed": false,
    "pycharm": {
     "name": "#%%\n"
    }
   }
  },
  {
   "cell_type": "code",
   "execution_count": 41,
   "outputs": [
    {
     "name": "stdout",
     "output_type": "stream",
     "text": [
      "l2 error psi0: 5.861156835595539e-06\n",
      "l-infinity error psi0: 2.2314871751944757e-06\n"
     ]
    },
    {
     "data": {
      "text/plain": "<Figure size 432x288 with 1 Axes>",
      "image/png": "[encoded data removed]"
     },
     "metadata": {
      "needs_background": "light"
     },
     "output_type": "display_data"
    }
   ],
   "source": [
    "# define initial states and transform to Fourier basis\n",
    "\n",
    "def psi0(x):\n",
    "    return np.exp(-(x + 3)**2 / 4) * (2.0 / np.pi)**0.25\n",
    "    # return np.exp(-(x - 3)**2 / 4) * (2.0 / np.pi)**0.25\n",
    "    # return np.exp(-(x - 6)**2) * (2.0 / np.pi)**0.25\n",
    "    # return np.exp(-(x + 6)**2) * (2.0 / np.pi)**0.25\n",
    "    # return np.exp(-x**2) * (2.0 / np.pi)**0.25\n",
    "\n",
    "\n",
    "# compute psi0 normalization term\n",
    "psi0_prob_intgrnd = lambda x: np.abs(psi0(x)) ** 2\n",
    "psi0_norm = np.sqrt(si.quad(psi0_prob_intgrnd, -L, L)[0])\n",
    "\n",
    "# normalized psi function (for integration)\n",
    "norm_psi0_fn = lambda x: psi0(x) / psi0_norm\n",
    "\n",
    "# compute the Fourier representation of psi0fn\n",
    "norm_psi0 = []\n",
    "for thisfourn in range (numfour + 1):\n",
    "    def intgrnd(x):\n",
    "        return norm_psi0_fn(x) * np.exp(-1j * np.pi * thisfourn * x / L) / np.sqrt(2 * L)\n",
    "    def rintgrnd(x):\n",
    "        return intgrnd(x).real\n",
    "    def iintgrnd(x):\n",
    "        return intgrnd(x).imag\n",
    "    norm_psi0.append(si.quad(rintgrnd, -L, L)[0] \\\n",
    "                       + 1j * si.quad(iintgrnd, -L, L)[0])\n",
    "\n",
    "a0 = np.concatenate([np.conjugate(np.flipud(norm_psi0[1:])), norm_psi0])\n",
    "\n",
    "normpsi0x = norm_psi0_fn(xvec)\n",
    "normpsi0xrec = a0 @ fourtox\n",
    "\n",
    "# check if Fourier representation is close to truth\n",
    "print(f'l2 error psi0:', nl.norm(normpsi0x - normpsi0xrec))\n",
    "print(f'l-infinity error psi0:', np.max(np.abs(normpsi0x - normpsi0xrec)))\n",
    "\n",
    "# plot the real part of the normalized psi0\n",
    "plt.plot(xvec, normpsi0xrec.real, label=f\"Truth\")\n",
    "plt.plot(xvec, normpsi0xrec.real, label=f\"Rec\")\n",
    "plt.title('Real Part of Initial Wave Functions')\n",
    "plt.xlabel('x')\n",
    "plt.legend()\n",
    "plt.show()"
   ],
   "metadata": {
    "collapsed": false,
    "pycharm": {
     "name": "#%%\n"
    }
   }
  },
  {
   "cell_type": "markdown",
   "source": [
    "---\n",
    "**Forward Propagation**"
   ],
   "metadata": {
    "collapsed": false
   }
  },
  {
   "cell_type": "code",
   "execution_count": 42,
   "outputs": [
    {
     "name": "stdout",
     "output_type": "stream",
     "text": [
      "hmattrue Hermitian check (should be close to zero):\n",
      "0.0\n",
      "hmattrue diagonalized check (should be close to zero):\n",
      "1.0639794711607527e-13\n",
      "stttrue unitary check (should be close to zero):\n",
      "7.392035012284071e-15\n"
     ]
    }
   ],
   "source": [
    "# Eigendecomposition of Hamiltonian\n",
    "\n",
    "# kinetic operator in the Fourier representation\n",
    "# (this is constant for a given system)\n",
    "kmat = np.diag(np.arange(-numfour, numfour + 1) ** 2 * np.pi ** 2 / (2 * L ** 2))\n",
    "\n",
    "# Hamiltonian operator in the Fourier representation\n",
    "hmattrue = kmat + vmattrue\n",
    "\n",
    "# check if the Hamiltonian matrix is Hermitian\n",
    "print('hmattrue Hermitian check (should be close to zero):', nl.norm(hmattrue - hmattrue.T.conj()), sep='\\n')\n",
    "\n",
    "# eigen-decomposition of the Hamiltonian matrix\n",
    "spctrue, stttrue = nl.eigh(hmattrue)\n",
    "\n",
    "# check if the decomposition diagonalizes the\n",
    "# Hamiltonian matrix\n",
    "# if this is close to zero then\n",
    "# hmat = states @ np.diag(spec) @ np.conj(states).T\n",
    "print('hmattrue diagonalized check (should be close to zero):', nl.norm(hmattrue @ stttrue - stttrue @ np.diag(spctrue)), sep='\\n')\n",
    "\n",
    "# check if the eigenstates are unitary\n",
    "print('stttrue unitary check (should be close to zero):', nl.norm(stttrue @ stttrue.T.conj() - np.eye(2 * numfour + 1)), sep='\\n')"
   ],
   "metadata": {
    "collapsed": false,
    "pycharm": {
     "name": "#%%\n"
    }
   }
  },
  {
   "cell_type": "code",
   "execution_count": 43,
   "outputs": [
    {
     "name": "stdout",
     "output_type": "stream",
     "text": [
      "[0.50000034 1.50001041 2.50014751 3.50127861 4.50753787 5.53192104]\n"
     ]
    },
    {
     "data": {
      "text/plain": "<Figure size 432x288 with 1 Axes>",
      "image/png": "[encoded data removed]"
     },
     "metadata": {
      "needs_background": "light"
     },
     "output_type": "display_data"
    },
    {
     "name": "stdout",
     "output_type": "stream",
     "text": [
      "Quick normalization check (should be close to 1):\n",
      "1.0000000000062457\n",
      "Accurate normalization check (should be close to 1):\n",
      "0.999999999999999\n"
     ]
    }
   ],
   "source": [
    "# plot ground state of Eigendecomposition\n",
    "\n",
    "# find indices that sort eigenvalues\n",
    "ordering = np.argsort(spctrue)\n",
    "\n",
    "# print the first few eigenvalues\n",
    "print(spctrue[ordering[:6]])\n",
    "\n",
    "# pick out and plot real part of the ground state\n",
    "groundstate = ordering[0]\n",
    "wavefn = stttrue[:, groundstate] @ fourtox\n",
    "plt.plot(xvec, np.real(wavefn))\n",
    "plt.title('Real Part of Ground State')\n",
    "plt.xlabel('x')\n",
    "plt.show()\n",
    "\n",
    "# quick and dirty check of normalization\n",
    "print('Quick normalization check (should be close to 1):', np.sum(np.abs(wavefn)**2 * (xvec[1]-xvec[0])), sep='\\n')\n",
    "\n",
    "# this should be a more accurate check of the ground state\n",
    "# wave functions' normalization\n",
    "print('Accurate normalization check (should be close to 1):', si.trapezoid(np.abs(wavefn)**2, xvec), sep='\\n')"
   ],
   "metadata": {
    "collapsed": false,
    "pycharm": {
     "name": "#%%\n"
    }
   }
  },
  {
   "cell_type": "code",
   "execution_count": 44,
   "outputs": [
    {
     "name": "stdout",
     "output_type": "stream",
     "text": [
      "Shape amattrue: (11, 25)\n",
      "Done propagating\n"
     ]
    }
   ],
   "source": [
    "# Propagate\n",
    "\n",
    "# set time-step size\n",
    "dt = 1e-2\n",
    "\n",
    "# set number of time steps\n",
    "# trajectory length is numts + 1 (initial state + numts steps)\n",
    "numts = 10  # 100  # 200\n",
    "\n",
    "\n",
    "# compute propagator matrix\n",
    "propatrue = stttrue @ np.diag(np.exp(-1j * spctrue * dt)) @ stttrue.conj().T\n",
    "\n",
    "# propagate system starting from initial \"a\" state\n",
    "amattrue = [a0.copy()]\n",
    "for i in range(numts):\n",
    "    amattrue.append(propatrue @ amattrue[-1])\n",
    "\n",
    "amattrue = np.array(amattrue)\n",
    "\n",
    "print('Shape amattrue:', amattrue.shape)\n",
    "\n",
    "print('Done propagating')"
   ],
   "metadata": {
    "collapsed": false,
    "pycharm": {
     "name": "#%%\n"
    }
   }
  },
  {
   "cell_type": "code",
   "execution_count": 45,
   "outputs": [
    {
     "name": "stdout",
     "output_type": "stream",
     "text": [
      "Shape psimattrue: (11, 1025)\n",
      "Shape probmattrue: (11, 1025)\n",
      "Shape normmattrue: (11,)\n"
     ]
    },
    {
     "data": {
      "text/plain": "<Figure size 432x288 with 1 Axes>",
      "image/png": "[encoded data removed]"
     },
     "metadata": {
      "needs_background": "light"
     },
     "output_type": "display_data"
    }
   ],
   "source": [
    "# check if system's state remains normalized for the propagation\n",
    "\n",
    "psimattrue = amattrue @ fourtox\n",
    "print('Shape psimattrue:', psimattrue.shape)\n",
    "\n",
    "probmattrue = np.abs(psimattrue) ** 2\n",
    "print('Shape probmattrue:', probmattrue.shape)\n",
    "\n",
    "normmattrue = si.trapezoid(probmattrue, xvec)\n",
    "print('Shape normmattrue:', normmattrue.shape)\n",
    "\n",
    "# plot normalization (should be almost flat line at 1)\n",
    "plt.plot(np.arange(numts + 1) * dt, normmattrue, label=f'Trajectory')\n",
    "\n",
    "plt.hlines(1, 0, numts * dt, linestyles='-.', colors='darkorange', label='_')\n",
    "plt.title('Probability as a Function of Time')\n",
    "plt.xlabel('Time')\n",
    "plt.ylabel('Probability')\n",
    "plt.legend()\n",
    "plt.show()"
   ],
   "metadata": {
    "collapsed": false,
    "pycharm": {
     "name": "#%%\n"
    }
   }
  },
  {
   "cell_type": "markdown",
   "source": [
    "<h1>Inverse Problem</h1>"
   ],
   "metadata": {
    "collapsed": false,
    "pycharm": {
     "name": "#%% md\n"
    }
   }
  },
  {
   "cell_type": "code",
   "execution_count": 46,
   "outputs": [
    {
     "name": "stdout",
     "output_type": "stream",
     "text": [
      "(25, 25)\n"
     ]
    }
   ],
   "source": [
    "# code for constructing a toeplitz matrix from the\n",
    "# Fourier representation\n",
    "# flat_toep_vec = jnp.concatenate([jnp.flipud(cvrow.conj()), cvrow[1:]])\n",
    "\n",
    "numtoepelms = 2 * numfour + 1\n",
    "aa = (-1) * np.arange(0, numtoepelms).reshape(numtoepelms, 1)\n",
    "bb = [np.arange(numtoepelms - 1, 2 * numtoepelms - 1)]\n",
    "toepindxmat = np.array(aa + bb)\n",
    "print(toepindxmat.shape)"
   ],
   "metadata": {
    "collapsed": false,
    "pycharm": {
     "name": "#%%\n"
    }
   }
  },
  {
   "cell_type": "code",
   "execution_count": 47,
   "outputs": [
    {
     "name": "stdout",
     "output_type": "stream",
     "text": [
      "0.0\n"
     ]
    }
   ],
   "source": [
    "# check if index method makes same vmat\n",
    "# should be close to 0\n",
    "\n",
    "print(nl.norm(vmattrue - np.concatenate([np.flipud(np.conj(fourvtoep)), fourvtoep[1:]])[toepindxmat]))"
   ],
   "metadata": {
    "collapsed": false,
    "pycharm": {
     "name": "#%%\n"
    }
   }
  },
  {
   "cell_type": "code",
   "execution_count": 56,
   "outputs": [
    {
     "name": "stdout",
     "output_type": "stream",
     "text": [
      "Shape expmat: (1, 25, 1025)\n",
      "Shape expanded probmattrue: (11, 1, 1025)\n",
      "(11, 25)\n"
     ]
    },
    {
     "data": {
      "text/plain": "<Figure size 432x288 with 1 Axes>",
      "image/png": "[encoded data removed]"
     },
     "metadata": {
      "needs_background": "light"
     },
     "output_type": "display_data"
    }
   ],
   "source": [
    "# probability training data\n",
    "# we need |\\psi(t)|^2 in the Fourier representation\n",
    "\n",
    "# we have amat, which needs to be converted into a the\n",
    "# function \\psi_r(x), where r is the time step\n",
    "# so we can then integrate to get \\beta_{r, n}, where n\n",
    "# identifies which basis the \\beta coefficient is for\n",
    "\n",
    "# it would be best if we used a function, but we can use a\n",
    "# discrete integration method like si.trapezoid and the\n",
    "# values of \\psi_r(x) evaluated on our real space grid\n",
    "\n",
    "meshn, meshx = np.meshgrid(fournvec, xvec)\n",
    "expmat = np.exp(-1j * np.pi * np.transpose(meshn * meshx) / L) / (2 * L)\n",
    "expmat = np.expand_dims(expmat, 0)\n",
    "print('Shape expmat:', expmat.shape)\n",
    "\n",
    "print('Shape expanded probmattrue:', np.expand_dims(probmattrue, 1).shape)\n",
    "\n",
    "betamat = si.trapezoid(np.expand_dims(probmattrue, 1) * expmat, xvec, axis=2)\n",
    "print(betamat.shape)\n",
    "\n",
    "plt.plot(xvec, normpsi0x, label='truth')\n",
    "plt.plot(xvec, probmattrue[0], label='test')\n",
    "plt.legend()\n",
    "plt.show()"
   ],
   "metadata": {
    "collapsed": false,
    "pycharm": {
     "name": "#%%\n"
    }
   }
  },
  {
   "cell_type": "code",
   "execution_count": 54,
   "outputs": [
    {
     "name": "stdout",
     "output_type": "stream",
     "text": [
      "Shape beta0: (25,)\n",
      "0.4123625851092795\n",
      "0.17360679775000964\n"
     ]
    },
    {
     "data": {
      "text/plain": "<Figure size 432x288 with 1 Axes>",
      "image/png": "[encoded data removed]"
     },
     "metadata": {
      "needs_background": "light"
     },
     "output_type": "display_data"
    },
    {
     "data": {
      "text/plain": "<Figure size 432x288 with 1 Axes>",
      "image/png": "[encoded data removed]"
     },
     "metadata": {
      "needs_background": "light"
     },
     "output_type": "display_data"
    }
   ],
   "source": [
    "# check accuracy of discrete integration method\n",
    "\n",
    "prob_psi0 = []\n",
    "for thisfourn in range (numfour + 1):\n",
    "    def intgrnd(x):\n",
    "        return np.abs(norm_psi0_fn(x))**2 * np.exp(-1j * np.pi * thisfourn * x / L) / np.sqrt(2 * L)\n",
    "    def rintgrnd(x):\n",
    "        return intgrnd(x).real\n",
    "    def iintgrnd(x):\n",
    "        return intgrnd(x).imag\n",
    "    prob_psi0.append(si.quad(rintgrnd, -L, L)[0] + 1j * si.quad(iintgrnd, -L, L)[0])\n",
    "\n",
    "beta0 = np.concatenate([np.conjugate(np.flipud(prob_psi0[1:])), prob_psi0])\n",
    "\n",
    "print('Shape beta0:', beta0.shape)\n",
    "print(nl.norm(beta0 - betamat[0]))\n",
    "print(np.max(np.abs(beta0 - betamat[0])))\n",
    "\n",
    "plt.plot(beta0.real, label='truth')\n",
    "plt.plot(betamat[0].real, label='discrete')\n",
    "plt.legend()\n",
    "plt.show()\n",
    "\n",
    "plt.plot(beta0.imag, label='truth')\n",
    "plt.plot(betamat[0].imag, label='discrete')\n",
    "plt.legend()\n",
    "plt.show()"
   ],
   "metadata": {
    "collapsed": false,
    "pycharm": {
     "name": "#%%\n"
    }
   }
  },
  {
   "cell_type": "code",
   "execution_count": null,
   "outputs": [],
   "source": [
    "\n",
    "\n",
    "\n",
    "\n",
    "\n",
    "rtrna0 = np.concatenate([np.conjugate(np.flipud(norm_psi0fn[1:])), norm_psi0fn])\n",
    "\n",
    "rtrnnormpsi0x = norm_psi0fn_fn(xvec)\n",
    "\n",
    "\n",
    "print('Shape probmattrue:', probmattrue.shape)"
   ],
   "metadata": {
    "collapsed": false,
    "pycharm": {
     "name": "#%%\n"
    }
   }
  },
  {
   "cell_type": "code",
   "execution_count": 19,
   "outputs": [
    {
     "name": "stdout",
     "output_type": "stream",
     "text": [
      "(4.9246979380442355e-05+0.00018704220400403171j)\n",
      "err: 3.741005105525908e-08\n",
      "(-0.000375210667600882+0.0004638259723610288j)\n",
      "err: 3.559175778549306e-07\n",
      "(-0.0016667581694325018-7.856468274117698e-05j)\n",
      "err: 2.784255293316061e-06\n",
      "(-0.0023399999014574973-0.00352574893242128j)\n",
      "err: 1.790651162938932e-05\n",
      "(0.0033531337641837244-0.009134080619910228j)\n",
      "err: 9.467458302090783e-05\n",
      "(0.019488844766937845-0.005629426872359972j)\n",
      "err: 0.00041145323178500595\n",
      "(0.03037320922435669+0.023406276141571574j)\n",
      "err: 0.0014689679393454906\n",
      "(-0.0015470697874770266+0.06570226505954269j)\n",
      "err: 0.004320115085689706\n",
      "(-0.0837388086998422+0.058462423951551615j)\n",
      "err: 0.010810357601143543\n",
      "(-0.1362095899198419-0.04639426623532098j)\n",
      "err: 0.024223351962130706\n",
      "(-0.05515556989398161-0.17535309036238503j)\n",
      "err: 0.04106571992802929\n",
      "(0.12596008621987217-0.17166360366436764j)\n",
      "err: 0.029518567550677156\n",
      "(0.2236067977498387+0j)\n",
      "err: 0.0002590675092692213\n",
      "(0.12596008621987217+0.17166360366436764j)\n",
      "err: 0.04409352289601401\n",
      "(-0.05515556989398161+0.17535309036238503j)\n",
      "err: 0.09596489507874292\n",
      "(-0.1362095899198419+0.04639426623532098j)\n",
      "err: 0.06310143042873316\n",
      "(-0.0837388086998422-0.058462423951551615j)\n",
      "err: 0.019151168374716674\n",
      "(-0.0015470697874770266-0.06570226505954269j)\n",
      "err: 0.004466931936359368\n",
      "(0.03037320922435669-0.023406276141571574j)\n",
      "err: 0.001360066596297558\n",
      "(0.019488844766937845+0.005629426872359972j)\n",
      "err: 0.0004028423743173349\n",
      "(0.0033531337641837244+0.009134080619910228j)\n",
      "err: 9.455338271841439e-05\n",
      "(-0.0023399999014574973+0.00352574893242128j)\n",
      "err: 1.7911221598715745e-05\n",
      "(-0.0016667581694325018+7.856468274117698e-05j)\n",
      "err: 2.7843821207509454e-06\n",
      "(-0.000375210667600882-0.0004638259723610288j)\n",
      "err: 3.559183060075796e-07\n",
      "(4.9246979380442355e-05-0.00018704220400403171j)\n",
      "err: 3.741004928883908e-08\n",
      "0.3408498594856169\n"
     ]
    }
   ],
   "source": [
    "# objective\n",
    "\n",
    "slt = 10\n",
    "\n",
    "thisavec = amattrue[0, slt]\n",
    "thisprob = probmattruevec[0, slt]\n",
    "\n",
    "objective = 0\n",
    "for j in range(-numfour, numfour+1):\n",
    "    thissum = 0\n",
    "    for k in range(-numfour, numfour+1):\n",
    "        if np.abs(j + k) <= numfour:\n",
    "            thissum += thisavec[j + k + numfour] * np.conj(thisavec[k + numfour])\n",
    "    fourprob = (thissum / np.sqrt(2 * L))\n",
    "    print(fourprob)\n",
    "    err = np.abs(fourprob - thisprob[j + numfour])**2\n",
    "    print('err:', err)\n",
    "    objective += err\n",
    "\n",
    "print(objective)"
   ],
   "metadata": {
    "collapsed": false,
    "pycharm": {
     "name": "#%%\n"
    }
   }
  },
  {
   "cell_type": "code",
   "execution_count": 39,
   "outputs": [],
   "source": [
    "# objective function\n",
    "\n",
    "def probobj(cff):\n",
    "    # turn Fourier space coefficients of the potential\n",
    "    # into vmat for propagation\n",
    "    vmat = jnp.concatenate([jnp.flipud(jnp.conj(cff)), cff[1:]])[toepindxmat]\n",
    "\n",
    "    # Hamiltonian operator in the Fourier representation\n",
    "    hmat = kmat + vmat\n",
    "\n",
    "    # eigen-decomposition of the Hamiltonian matrix\n",
    "    spc, stt = jnl.eigh(hmat)\n",
    "\n",
    "    # compute propagator matrix\n",
    "    propa = stt @ jnp.diag(np.exp(-1j * spc * dt)) @ stt.conj().T\n",
    "\n",
    "    amatvec = []\n",
    "    # propagate system starting from initial \"a\" state\n",
    "    for thisa0 in a0:\n",
    "        tempahatmat = [thisa0.copy()]\n",
    "        for i in range(numts):\n",
    "            tempahatmat.append(propa @ tempahatmat[-1])\n",
    "        amatvec.append(tempahatmat)\n",
    "\n",
    "    amatvec = jnp.array(amatvec)\n",
    "    print(jnl.norm(amatvec - jnp.array(amattrue)))\n",
    "\n",
    "    # compute objective functions\n",
    "    objective = 0\n",
    "    for i in range(jaxprobmattruevec.shape[0]):\n",
    "        thisamat = amatvec[i]\n",
    "        thisprobmat = jaxprobmattruevec[i]\n",
    "        for r in range(thisamat.shape[0]):\n",
    "            thissum = 0\n",
    "            for j in range(-numfour, numfour+1):\n",
    "                for k in range(-numfour, numfour+1):\n",
    "                    if abs(j+k) <= numfour:\n",
    "                        thissum += thisamat[r, k + j + numfour] * jnp.conj(thisamat[r, k])\n",
    "                objective += jnp.abs(thissum / jnp.sqrt(2 * L) - thisprobmat[r, j + numfour])**2\n",
    "\n",
    "    return objective"
   ],
   "metadata": {
    "collapsed": false,
    "pycharm": {
     "name": "#%%\n"
    }
   }
  },
  {
   "cell_type": "code",
   "execution_count": 40,
   "outputs": [
    {
     "name": "stdout",
     "output_type": "stream",
     "text": [
      "1.0040633196751477e-13\n",
      "()\n",
      "11.736956194549274\n"
     ]
    }
   ],
   "source": [
    "# check objective with true potential\n",
    "print(probobj(jnp.array(fourvtoep)))"
   ],
   "metadata": {
    "collapsed": false,
    "pycharm": {
     "name": "#%%\n"
    }
   }
  },
  {
   "cell_type": "code",
   "execution_count": null,
   "outputs": [],
   "source": [
    "# JAX grad of the objective"
   ],
   "metadata": {
    "collapsed": false,
    "pycharm": {
     "name": "#%%\n"
    }
   }
  },
  {
   "cell_type": "code",
   "execution_count": null,
   "outputs": [],
   "source": [
    "# check grad of objective with true potential"
   ],
   "metadata": {
    "collapsed": false,
    "pycharm": {
     "name": "#%%\n"
    }
   }
  },
  {
   "cell_type": "markdown",
   "source": [
    "---\n",
    "**Initialize with perturbed true coefficients**"
   ],
   "metadata": {
    "collapsed": false,
    "pycharm": {
     "name": "#%% md\n"
    }
   }
  },
  {
   "cell_type": "code",
   "execution_count": null,
   "outputs": [],
   "source": [
    "seed = 1234  # set to None for random initialization\n",
    "cfftrub = cfftrue.copy()\n",
    "cfftrub += 0.25 * np.random.default_rng(seed).normal(size=cfftrue.shape)"
   ],
   "metadata": {
    "collapsed": false,
    "pycharm": {
     "name": "#%%\n"
    }
   }
  },
  {
   "cell_type": "code",
   "execution_count": null,
   "outputs": [],
   "source": [
    "restrubjaxgrad = so.minimize(jitcobjfn, cfftrub, jac=jaxgradcobjfn, tol=1e-12, options={'maxiter': 200, 'disp': True, 'gtol': 1e-15}).x"
   ],
   "metadata": {
    "collapsed": false,
    "pycharm": {
     "name": "#%%\n"
    }
   }
  },
  {
   "cell_type": "code",
   "execution_count": null,
   "outputs": [],
   "source": [
    "def sqrerrorfn(x, cffs):\n",
    "    return (ss.eval_chebyt(chebnvec, x / L) @ cffs - v(x)) ** 2\n",
    "\n",
    "print('Continuous L2 Error of Potential using Quadrature Method:', np.sqrt(si.quad(sqrerrorfn, -L, L, args=(cfftrue)))[0], sep='\\n')"
   ],
   "metadata": {
    "collapsed": false,
    "pycharm": {
     "name": "#%%\n"
    }
   }
  },
  {
   "cell_type": "code",
   "execution_count": null,
   "outputs": [],
   "source": [
    "print('Objective of the Learned Coefficients:', cobjfn(restrubjaxgrad), sep='\\n')\n",
    "print('Vec L2 Norm of Gradient of the Learned Coefficients:', nl.norm(jaxgradcobjfn(restrubjaxgrad)), sep='\\n')\n",
    "\n",
    "print('Continuous L2 Error of Potential using Quadrature Method:', np.sqrt(si.quad(sqrerrorfn, -L, L, args=(restrubjaxgrad)))[0], sep='\\n')\n",
    "\n",
    "# plot learned vs true\n",
    "# plt.plot(xvec, chebtox @ cfftrub, label='initial')\n",
    "plt.plot(xvec, chebtox @ restrubjaxgrad, label='learned')\n",
    "plt.plot(xvec, vxvec, label='Truth')\n",
    "plt.title('Learned Potential vs. Truth')\n",
    "plt.legend()\n",
    "plt.show()"
   ],
   "metadata": {
    "collapsed": false,
    "pycharm": {
     "name": "#%%\n"
    }
   }
  },
  {
   "cell_type": "markdown",
   "source": [
    "---\n",
    "**Initialize with random coefficients**"
   ],
   "metadata": {
    "collapsed": false,
    "pycharm": {
     "name": "#%% md\n"
    }
   }
  },
  {
   "cell_type": "code",
   "execution_count": 32,
   "outputs": [],
   "source": [
    "seed = 1234  # set to None for random initialization\n",
    "cffform = np.random.default_rng(seed).uniform(low=-5.0, high=5.0, size=cfftrue.shape)"
   ],
   "metadata": {
    "collapsed": false,
    "pycharm": {
     "name": "#%%\n"
    }
   }
  },
  {
   "cell_type": "code",
   "execution_count": 33,
   "outputs": [
    {
     "name": "stdout",
     "output_type": "stream",
     "text": [
      "Warning: Desired error not necessarily achieved due to precision loss.\n",
      "         Current function value: 0.000000\n",
      "         Iterations: 134\n",
      "         Function evaluations: 313\n",
      "         Gradient evaluations: 297\n"
     ]
    }
   ],
   "source": [
    "resform = so.minimize(jitcobjfn, cffform, jac=jaxgradcobjfn, tol=1e-15, options={'maxiter': 1000, 'disp': True, 'gtol': 1e-14}).x"
   ],
   "metadata": {
    "collapsed": false,
    "pycharm": {
     "name": "#%%\n"
    }
   }
  },
  {
   "cell_type": "code",
   "execution_count": 34,
   "outputs": [
    {
     "name": "stdout",
     "output_type": "stream",
     "text": [
      "Objective of the Learned Coefficients:\n",
      "3.225981834017433e-24\n",
      "Vec L2 Norm of Gradient of the Learned Coefficients:\n",
      "1.3591848931107718e-12\n",
      "Continuous L2 Error of Potential using Quadrature Method:\n",
      "8.808442253066008e-11\n"
     ]
    },
    {
     "data": {
      "text/plain": "<Figure size 432x288 with 1 Axes>",
      "image/png": "[encoded data removed]"
     },
     "metadata": {
      "needs_background": "light"
     },
     "output_type": "display_data"
    },
    {
     "data": {
      "text/plain": "<Figure size 432x288 with 1 Axes>",
      "image/png": "[encoded data removed]"
     },
     "metadata": {
      "needs_background": "light"
     },
     "output_type": "display_data"
    }
   ],
   "source": [
    "print('Objective of the Learned Coefficients:', cobjfn(resform), sep='\\n')\n",
    "print('Vec L2 Norm of Gradient of the Learned Coefficients:', nl.norm(jaxgradcobjfn(resform)), sep='\\n')\n",
    "\n",
    "print('Continuous L2 Error of Potential using Quadrature Method:', np.sqrt(si.quad(sqrerrorfn, -L, L, args=(resform)))[0], sep='\\n')\n",
    "\n",
    "# plot initial vs learned\n",
    "plt.plot(xvec, chebtox @ cffform, label='initial')\n",
    "plt.plot(xvec, chebtox @ resform, label='learned')\n",
    "plt.title('Initial Potential vs. Truth')\n",
    "plt.legend()\n",
    "plt.show()\n",
    "\n",
    "# plot true vs learned\n",
    "plt.plot(xvec[100:-100], vxvec[100:-100], label='Truth')\n",
    "plt.plot(xvec[100:-100], (chebtox @ resform)[100:-100], label='learned')\n",
    "plt.title('Learned Potential vs. Truth')\n",
    "plt.legend()\n",
    "plt.show()"
   ],
   "metadata": {
    "collapsed": false,
    "pycharm": {
     "name": "#%%\n"
    }
   }
  },
  {
   "cell_type": "markdown",
   "source": [
    "---\n",
    "* Forward Problem\n",
    "    * Computational Variables\n",
    "    * Potential (real space and Fourier basis)\n",
    "    * Initial wave function (real and Fourier)\n",
    "    * Solution to forward problem\n",
    "* Inverse Problem\n",
    "    * Training data (prob density - new)\n",
    "    * Objective (new)\n",
    "    * JAX grad of objective\n",
    "    * Solver (optimizer)"
   ],
   "metadata": {
    "collapsed": false
   }
  },
  {
   "cell_type": "code",
   "execution_count": null,
   "outputs": [],
   "source": [],
   "metadata": {
    "collapsed": false,
    "pycharm": {
     "name": "#%%\n"
    }
   }
  }
 ],
 "metadata": {
  "kernelspec": {
   "display_name": "Python 3",
   "language": "python",
   "name": "python3"
  },
  "language_info": {
   "codemirror_mode": {
    "name": "ipython",
    "version": 2
   },
   "file_extension": ".py",
   "mimetype": "text/x-python",
   "name": "python",
   "nbconvert_exporter": "python",
   "pygments_lexer": "ipython2",
   "version": "2.7.6"
  }
 },
 "nbformat": 4,
 "nbformat_minor": 0
}