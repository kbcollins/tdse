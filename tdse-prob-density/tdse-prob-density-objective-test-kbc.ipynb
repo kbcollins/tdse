{
 "cells": [
  {
   "cell_type": "code",
   "execution_count": 4,
   "metadata": {
    "collapsed": true
   },
   "outputs": [],
   "source": [
    "import numpy as np\n",
    "import numpy.linalg as nl\n",
    "import scipy.linalg as sl\n",
    "import scipy.special as ss\n",
    "import scipy.integrate as si\n",
    "import scipy.optimize as so\n",
    "import matplotlib.pyplot as plt\n",
    "import jax\n",
    "import jax.numpy as jnp\n",
    "import jax.numpy.linalg as jnl\n",
    "from jax.config import config\n",
    "config.update(\"jax_enable_x64\", True)"
   ]
  },
  {
   "cell_type": "code",
   "execution_count": 14,
   "outputs": [
    {
     "name": "stdout",
     "output_type": "stream",
     "text": [
      "Shape fourtox: (65, 1025)\n"
     ]
    }
   ],
   "source": [
    "# size of spatial domain\n",
    "L = 10.0\n",
    "# number of real space grid points (for plotting)\n",
    "numx = 1025\n",
    "# real space grid points (for plotting)\n",
    "xvec = np.linspace(-L, L, numx)\n",
    "\n",
    "# number of Fourier basis functions\n",
    "# n = -numF to n = numF\n",
    "numfour = 32  # 32\n",
    "\n",
    "# matrix for converting Fourier representation to real space\n",
    "fournvec = np.arange(-numfour, numfour + 1) # fournvec=-nfb,...,0,...,nfb\n",
    "fourtox = np.exp(1j * np.pi * np.outer(fournvec, xvec) / L) / np.sqrt(2 * L)\n",
    "print('Shape fourtox:', fourtox.shape)"
   ],
   "metadata": {
    "collapsed": false,
    "pycharm": {
     "name": "#%%\n"
    }
   }
  },
  {
   "cell_type": "code",
   "execution_count": 24,
   "outputs": [
    {
     "name": "stdout",
     "output_type": "stream",
     "text": [
      "L2 error of |avec @ fourtox|^2:\n",
      "3.258307105675155e-07\n",
      "L2 error of betavec:\n",
      "2.3885019620271058e-11\n"
     ]
    },
    {
     "data": {
      "text/plain": "<Figure size 432x288 with 1 Axes>",
      "image/png": "[encoded data removed]"
     },
     "metadata": {
      "needs_background": "light"
     },
     "output_type": "display_data"
    }
   ],
   "source": [
    "# define initial states and transform to Fourier basis\n",
    "\n",
    "def psi(x):\n",
    "    return np.exp(-(x + 3)**2 / 4) * (2.0 / np.pi)**0.25\n",
    "    # return np.exp(-(x - 3)**2 / 4) * (2.0 / np.pi)**0.25\n",
    "    # return np.exp(-(x - 6)**2) * (2.0 / np.pi)**0.25\n",
    "    # return np.exp(-(x + 6)**2) * (2.0 / np.pi)**0.25\n",
    "    # return np.exp(-x**2) * (2.0 / np.pi)**0.25\n",
    "\n",
    "psitoep = []\n",
    "for thisfourn in range (numfour + 1):\n",
    "    def intgrnd(x):\n",
    "        return psi(x) * np.exp(-1j * np.pi * thisfourn * x / L) / np.sqrt(2 * L)\n",
    "    def rintgrnd(x):\n",
    "        return intgrnd(x).real\n",
    "    def iintgrnd(x):\n",
    "        return intgrnd(x).imag\n",
    "    psitoep.append(si.quad(rintgrnd, -L, L)[0] + 1j * si.quad(iintgrnd, -L, L)[0])\n",
    "\n",
    "avec = np.concatenate([np.conjugate(np.flipud(psitoep[1:])), psitoep])\n",
    "\n",
    "prob = lambda x: np.abs(psi(x))**2\n",
    "\n",
    "print('L2 error of |avec @ fourtox|^2:', nl.norm(prob(xvec) - np.abs(avec @ fourtox)**2), sep='\\n')\n",
    "\n",
    "probtoep = []\n",
    "for thisfourn in range (numfour + 1):\n",
    "    def intgrnd(x):\n",
    "        return prob(x) * np.exp(-1j * np.pi * thisfourn * x / L) / np.sqrt(2 * L)\n",
    "    def rintgrnd(x):\n",
    "        return intgrnd(x).real\n",
    "    def iintgrnd(x):\n",
    "        return intgrnd(x).imag\n",
    "    probtoep.append(si.quad(rintgrnd, -L, L)[0] + 1j * si.quad(iintgrnd, -L, L)[0])\n",
    "\n",
    "betavec = np.concatenate([np.conjugate(np.flipud(probtoep[1:])), probtoep])\n",
    "\n",
    "print('L2 error of betavec:', nl.norm(prob(xvec) - np.real(betavec @ fourtox)), sep='\\n')\n",
    "\n",
    "# plot truth vs reconsturction of prob(x)\n",
    "plt.plot(prob(xvec), '.-', label='Truth')\n",
    "plt.plot(np.abs(avec @ fourtox)**2, label='Psi Rec')\n",
    "plt.plot(np.real(betavec @ fourtox), label='Prob Rec')\n",
    "plt.title('Truth vs. Reconstruction of prob(x)')\n",
    "plt.xlabel('x')\n",
    "plt.legend()\n",
    "plt.show()"
   ],
   "metadata": {
    "collapsed": false,
    "pycharm": {
     "name": "#%%\n"
    }
   }
  },
  {
   "cell_type": "code",
   "execution_count": 26,
   "outputs": [
    {
     "name": "stdout",
     "output_type": "stream",
     "text": [
      "1.031532719821401e-15\n"
     ]
    }
   ],
   "source": [
    "objective = 0\n",
    "for j in range(-numfour, numfour+1):\n",
    "    thissum = 0\n",
    "    for k in range(-numfour, numfour+1):\n",
    "        if np.abs(j + k) <= numfour:\n",
    "            thissum += avec[j + k + numfour] * np.conj(avec[k + numfour])\n",
    "    fourprob = (thissum / np.sqrt(2 * L))\n",
    "    err = np.abs(fourprob - betavec[j + numfour])**2\n",
    "    objective += err\n",
    "\n",
    "print(objective)"
   ],
   "metadata": {
    "collapsed": false,
    "pycharm": {
     "name": "#%%\n"
    }
   }
  },
  {
   "cell_type": "code",
   "execution_count": null,
   "outputs": [],
   "source": [],
   "metadata": {
    "collapsed": false,
    "pycharm": {
     "name": "#%%\n"
    }
   }
  }
 ],
 "metadata": {
  "kernelspec": {
   "display_name": "Python 3",
   "language": "python",
   "name": "python3"
  },
  "language_info": {
   "codemirror_mode": {
    "name": "ipython",
    "version": 2
   },
   "file_extension": ".py",
   "mimetype": "text/x-python",
   "name": "python",
   "nbconvert_exporter": "python",
   "pygments_lexer": "ipython2",
   "version": "2.7.6"
  }
 },
 "nbformat": 4,
 "nbformat_minor": 0
}