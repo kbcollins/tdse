{
 "cells": [
  {
   "cell_type": "code",
   "execution_count": 1,
   "metadata": {
    "collapsed": true
   },
   "outputs": [
    {
     "name": "stdout",
     "output_type": "stream",
     "text": [
      "Requirement already satisfied: pip in /opt/conda/lib/python3.9/site-packages (22.1)\r\n",
      "Collecting pip\r\n",
      "  Using cached pip-22.1.1-py3-none-any.whl (2.1 MB)\r\n",
      "Installing collected packages: pip\r\n",
      "  Attempting uninstall: pip\r\n",
      "    Found existing installation: pip 22.1\r\n",
      "    Uninstalling pip-22.1:\r\n",
      "      Successfully uninstalled pip-22.1\r\n",
      "Successfully installed pip-22.1.1\r\n",
      "Looking in links: https://storage.googleapis.com/jax-releases/jax_releases.html\r\n",
      "Collecting jax[cuda]\r\n",
      "  Using cached jax-0.3.13-py3-none-any.whl\r\n",
      "Requirement already satisfied: scipy>=1.2.1 in /opt/conda/lib/python3.9/site-packages (from jax[cuda]) (1.8.0)\r\n",
      "Requirement already satisfied: numpy>=1.19 in /opt/conda/lib/python3.9/site-packages (from jax[cuda]) (1.21.6)\r\n",
      "Requirement already satisfied: typing-extensions in /opt/conda/lib/python3.9/site-packages (from jax[cuda]) (4.2.0)\r\n",
      "Collecting absl-py\r\n",
      "  Using cached absl_py-1.0.0-py3-none-any.whl (126 kB)\r\n",
      "Collecting opt-einsum\r\n",
      "  Using cached opt_einsum-3.3.0-py3-none-any.whl (65 kB)\r\n",
      "Collecting jaxlib==0.3.10+cuda11.cudnn82\r\n",
      "  Using cached https://storage.googleapis.com/jax-releases/cuda11/jaxlib-0.3.10%2Bcuda11.cudnn82-cp39-none-manylinux2014_x86_64.whl (128.0 MB)\r\n",
      "Collecting flatbuffers<3.0,>=1.12\r\n",
      "  Using cached flatbuffers-2.0-py2.py3-none-any.whl (26 kB)\r\n",
      "Requirement already satisfied: six in /opt/conda/lib/python3.9/site-packages (from absl-py->jax[cuda]) (1.16.0)\r\n",
      "Installing collected packages: flatbuffers, opt-einsum, absl-py, jaxlib, jax\r\n",
      "Successfully installed absl-py-1.0.0 flatbuffers-2.0 jax-0.3.13 jaxlib-0.3.10+cuda11.cudnn82 opt-einsum-3.3.0\r\n",
      "Note: you may need to restart the kernel to use updated packages.\n"
     ]
    },
    {
     "data": {
      "text/plain": "{'PATH': '/opt/conda/bin:/usr/local/nvidia/bin:/usr/local/cuda/bin:/usr/local/sbin:/usr/local/bin:/usr/sbin:/usr/bin:/sbin:/bin',\n 'HOSTNAME': 'jupyter-kcollins9-40ucmerced-2eedu',\n 'NVARCH': 'x86_64',\n 'NVIDIA_REQUIRE_CUDA': 'cuda>=11.4 brand=tesla,driver>=418,driver<419 brand=tesla,driver>=440,driver<441 brand=tesla,driver>=450,driver<451 brand=tesla,driver>=460,driver<461',\n 'NV_CUDA_CUDART_VERSION': '11.4.148-1',\n 'NV_CUDA_COMPAT_PACKAGE': 'cuda-compat-11-4',\n 'CUDA_VERSION': '11.4.3',\n 'LD_LIBRARY_PATH': '/usr/local/nvidia/lib:/usr/local/nvidia/lib64',\n 'NVIDIA_VISIBLE_DEVICES': 'GPU-607f71dd-569b-18dc-6f8f-4dbf7148ce43',\n 'NVIDIA_DRIVER_CAPABILITIES': 'compute,utility',\n 'NV_CUDA_LIB_VERSION': '11.4.3-1',\n 'NV_NVTX_VERSION': '11.4.120-1',\n 'NV_LIBNPP_VERSION': '11.4.0.110-1',\n 'NV_LIBNPP_PACKAGE': 'libnpp-11-4=11.4.0.110-1',\n 'NV_LIBCUSPARSE_VERSION': '11.6.0.120-1',\n 'NV_LIBCUBLAS_PACKAGE_NAME': 'libcublas-11-4',\n 'NV_LIBCUBLAS_VERSION': '11.6.5.2-1',\n 'NV_LIBCUBLAS_PACKAGE': 'libcublas-11-4=11.6.5.2-1',\n 'NV_LIBNCCL_PACKAGE_NAME': 'libnccl2',\n 'NV_LIBNCCL_PACKAGE_VERSION': '2.11.4-1',\n 'NCCL_VERSION': '2.11.4-1',\n 'NV_LIBNCCL_PACKAGE': 'libnccl2=2.11.4-1+cuda11.4',\n 'NV_CUDA_CUDART_DEV_VERSION': '11.4.148-1',\n 'NV_NVML_DEV_VERSION': '11.4.120-1',\n 'NV_LIBCUSPARSE_DEV_VERSION': '11.6.0.120-1',\n 'NV_LIBNPP_DEV_VERSION': '11.4.0.110-1',\n 'NV_LIBNPP_DEV_PACKAGE': 'libnpp-dev-11-4=11.4.0.110-1',\n 'NV_LIBCUBLAS_DEV_VERSION': '11.6.5.2-1',\n 'NV_LIBCUBLAS_DEV_PACKAGE_NAME': 'libcublas-dev-11-4',\n 'NV_LIBCUBLAS_DEV_PACKAGE': 'libcublas-dev-11-4=11.6.5.2-1',\n 'NV_LIBNCCL_DEV_PACKAGE_NAME': 'libnccl-dev',\n 'NV_LIBNCCL_DEV_PACKAGE_VERSION': '2.11.4-1',\n 'NV_LIBNCCL_DEV_PACKAGE': 'libnccl-dev=2.11.4-1+cuda11.4',\n 'LIBRARY_PATH': '/usr/local/cuda/lib64/stubs',\n 'NV_CUDNN_VERSION': '8.2.4.15',\n 'NV_CUDNN_PACKAGE': 'libcudnn8=8.2.4.15-1+cuda11.4',\n 'NV_CUDNN_PACKAGE_DEV': 'libcudnn8-dev=8.2.4.15-1+cuda11.4',\n 'NV_CUDNN_PACKAGE_NAME': 'libcudnn8',\n 'DEBIAN_FRONTEND': 'noninteractive',\n 'CONDA_DIR': '/opt/conda',\n 'SHELL': '/bin/bash',\n 'NB_USER': 'jovyan',\n 'NB_UID': '1000',\n 'NB_GID': '100',\n 'LC_ALL': 'en_US.UTF-8',\n 'LANG': 'en_US.UTF-8',\n 'LANGUAGE': 'en_US.UTF-8',\n 'HOME': '/home/jovyan',\n 'XDG_CACHE_HOME': '/home/jovyan/.cache/',\n 'JPY_API_TOKEN': '<hidden>',\n 'JUPYTERHUB_HOST': '',\n 'JUPYTERHUB_SERVICE_PREFIX': '/user/kcollins9@ucmerced.edu/',\n 'JUPYTERHUB_USER': 'kcollins9@ucmerced.edu',\n 'JUPYTER_IMAGE_SPEC': 'localhost:30081/prp/jupyter-stack/scipy',\n 'MEM_LIMIT': '8589934592',\n 'JUPYTERHUB_API_TOKEN': '<hidden>',\n 'JUPYTERHUB_API_URL': 'http://hub:8081/hub/api',\n 'JUPYTERHUB_OAUTH_CALLBACK_URL': '/user/kcollins9@ucmerced.edu/oauth_callback',\n 'JUPYTERHUB_SERVER_NAME': '',\n 'CPU_GUARANTEE': '8.0',\n 'CPU_LIMIT': '8.0',\n 'JUPYTERHUB_ACTIVITY_URL': 'http://hub:8081/hub/api/users/kcollins9@ucmerced.edu/activity',\n 'JUPYTER_IMAGE': 'localhost:30081/prp/jupyter-stack/scipy',\n 'MEM_GUARANTEE': '8589934592',\n 'JUPYTERHUB_ADMIN_ACCESS': '1',\n 'JUPYTERHUB_BASE_URL': '/',\n 'JUPYTERHUB_CLIENT_ID': 'jupyterhub-user-kcollins9%40ucmerced.edu',\n 'HUB_PORT_8081_TCP': 'tcp://10.102.46.209:8081',\n 'PROXY_PUBLIC_PORT_80_TCP': 'tcp://10.107.169.223:80',\n 'PROXY_PUBLIC_PORT_80_TCP_PORT': '80',\n 'KUBERNETES_SERVICE_PORT_HTTPS': '443',\n 'KUBERNETES_PORT_443_TCP_PORT': '443',\n 'PROXY_API_PORT_8001_TCP_PORT': '8001',\n 'HUB_SERVICE_HOST': '10.102.46.209',\n 'HUB_SERVICE_PORT_HUB': '8081',\n 'KUBERNETES_PORT_443_TCP_PROTO': 'tcp',\n 'KUBERNETES_PORT_443_TCP_ADDR': '10.96.0.1',\n 'PROXY_PUBLIC_PORT': 'tcp://10.107.169.223:80',\n 'PROXY_PUBLIC_PORT_80_TCP_PROTO': 'tcp',\n 'HUB_PORT_8081_TCP_PROTO': 'tcp',\n 'HUB_PORT_8081_TCP_PORT': '8081',\n 'KUBERNETES_SERVICE_HOST': '10.96.0.1',\n 'PROXY_PUBLIC_SERVICE_PORT_HTTP': '80',\n 'PROXY_PUBLIC_PORT_80_TCP_ADDR': '10.107.169.223',\n 'HUB_SERVICE_PORT': '8081',\n 'HUB_PORT': 'tcp://10.102.46.209:8081',\n 'KUBERNETES_PORT_443_TCP': 'tcp://10.96.0.1:443',\n 'PROXY_API_SERVICE_PORT': '8001',\n 'PROXY_API_PORT': 'tcp://10.103.20.131:8001',\n 'PROXY_API_PORT_8001_TCP_PROTO': 'tcp',\n 'PROXY_API_PORT_8001_TCP_ADDR': '10.103.20.131',\n 'HUB_PORT_8081_TCP_ADDR': '10.102.46.209',\n 'KUBERNETES_SERVICE_PORT': '443',\n 'KUBERNETES_PORT': 'tcp://10.96.0.1:443',\n 'PROXY_PUBLIC_SERVICE_HOST': '10.107.169.223',\n 'PROXY_PUBLIC_SERVICE_PORT': '80',\n 'PROXY_API_SERVICE_HOST': '10.103.20.131',\n 'PROXY_API_PORT_8001_TCP': 'tcp://10.103.20.131:8001',\n 'JUPYTERHUB_SINGLEUSER_APP': 'jupyter_server.serverapp.ServerApp',\n 'PYDEVD_USE_FRAME_EVAL': 'NO',\n 'JPY_PARENT_PID': '7',\n 'TERM': 'xterm-color',\n 'CLICOLOR': '1',\n 'PAGER': 'cat',\n 'GIT_PAGER': 'cat',\n 'MPLBACKEND': 'module://matplotlib_inline.backend_inline',\n 'TF_CPP_MIN_LOG_LEVEL': '1'}"
     },
     "execution_count": 1,
     "metadata": {},
     "output_type": "execute_result"
    }
   ],
   "source": [
    "# install JAX using iPython magic command\n",
    "%pip install --upgrade pip && pip install --upgrade \"jax[cuda]\" -f https://storage.googleapis.com/jax-releases/jax_releases.html\n",
    "\n",
    "import jax\n",
    "import jax.numpy as jnp\n",
    "\n",
    "# jax.config.update(\"jax_enable_x64\", True)\n",
    "\n",
    "%env"
   ]
  },
  {
   "cell_type": "code",
   "execution_count": 5,
   "outputs": [
    {
     "name": "stdout",
     "output_type": "stream",
     "text": [
      "sqfn: [ 1.  9. 49.]\n",
      "gradsqfn:\n",
      "[[ 2.  0.  0.]\n",
      " [ 0.  6.  0.]\n",
      " [ 0.  0. 14.]]\n"
     ]
    }
   ],
   "source": [
    "def sqfn(x):\n",
    "    return x**2\n",
    "\n",
    "jacosqfn = jax.jacobian(sqfn)\n",
    "\n",
    "vec = jnp.array([1.0, 3.0, 7.0])\n",
    "\n",
    "print('sqfn:', sqfn(vec))\n",
    "\n",
    "print('gradsqfn:', jacosqfn(vec), sep='\\n')"
   ],
   "metadata": {
    "collapsed": false,
    "pycharm": {
     "name": "#%%\n"
    }
   }
  },
  {
   "cell_type": "code",
   "execution_count": null,
   "outputs": [],
   "source": [],
   "metadata": {
    "collapsed": false,
    "pycharm": {
     "name": "#%%\n"
    }
   }
  }
 ],
 "metadata": {
  "kernelspec": {
   "display_name": "Python 3",
   "language": "python",
   "name": "python3"
  },
  "language_info": {
   "codemirror_mode": {
    "name": "ipython",
    "version": 2
   },
   "file_extension": ".py",
   "mimetype": "text/x-python",
   "name": "python",
   "nbconvert_exporter": "python",
   "pygments_lexer": "ipython2",
   "version": "2.7.6"
  }
 },
 "nbformat": 4,
 "nbformat_minor": 0
}