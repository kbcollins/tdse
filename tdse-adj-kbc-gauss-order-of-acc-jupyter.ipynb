{
 "cells": [
  {
   "cell_type": "code",
   "execution_count": 1,
   "metadata": {
    "collapsed": true
   },
   "outputs": [],
   "source": [
    "import numpy as np\n",
    "import numpy.linalg as nl\n",
    "import scipy.optimize as so\n",
    "import scipy.integrate as si\n",
    "import matplotlib.pyplot as plt"
   ]
  },
  {
   "cell_type": "code",
   "execution_count": 2,
   "outputs": [],
   "source": [
    "# define potential for training data\n",
    "def v(x, choice=0):\n",
    "    if choice == 0:\n",
    "        # dimensionless quantum harmonic oscillator potential\n",
    "        return 0.5 * x**2\n",
    "    elif choice == 1:\n",
    "        # symmetric double well potential\n",
    "        return 0.0025 * (x ** 2 - 25) ** 2\n",
    "    elif choice == 2:\n",
    "        # asymmetric double well potential\n",
    "        return 0.0003 * ((x - 3) ** 4 + 10 * (x - 5) ** 3)\n",
    "    elif choice == 3:\n",
    "        # soft coulomb potential\n",
    "        return -1 / np.sqrt(x ** 2 + 0.25)\n",
    "    else:\n",
    "        print('Function v(x, choice=0): Did not recognise your input for choice.')"
   ],
   "metadata": {
    "collapsed": false,
    "pycharm": {
     "name": "#%%\n"
    }
   }
  },
  {
   "cell_type": "code",
   "execution_count": 3,
   "outputs": [],
   "source": [
    "# set L of spatial domain\n",
    "L = 15\n",
    "# create vector of real space points for plotting\n",
    "nx = 1024\n",
    "xvec = np.linspace(-L, L, nx)"
   ],
   "metadata": {
    "collapsed": false,
    "pycharm": {
     "name": "#%%\n"
    }
   }
  },
  {
   "cell_type": "code",
   "execution_count": 4,
   "outputs": [
    {
     "name": "stdout",
     "output_type": "stream",
     "text": [
      "Size xjvec: 201, n: 201\n",
      "L: 15, First val xjvec: -15.0, Last val xjvec: 15.0\n",
      "L / J: 0.15, step size: 0.15\n"
     ]
    }
   ],
   "source": [
    "# set highest value for index of Gaussian basis\n",
    "J = 100\n",
    "# make vector of j values\n",
    "xjvec, testh = np.linspace(-L, L, 2 * J + 1, retstep=True)\n",
    "# check if jvec = n = 2 J + 1\n",
    "print(f'Size xjvec: {len(xjvec)}, n: {2 * J + 1}')\n",
    "# check if first value of xjvec = -L and last value = L\n",
    "print(f'L: {L}, First val xjvec: {xjvec[0]}, Last val xjvec: {xjvec[-1]}')\n",
    "# check if true h and returned step value agree\n",
    "print(f'L / J: {L / J}, step size: {testh}')"
   ],
   "metadata": {
    "collapsed": false,
    "pycharm": {
     "name": "#%%\n"
    }
   }
  },
  {
   "cell_type": "code",
   "execution_count": 5,
   "outputs": [],
   "source": [
    "# define Gaussian basis function\n",
    "def gb(x, jh, alpha):\n",
    "    return np.exp(-alpha * (x - jh) ** 2)\n",
    "\n",
    "# set fixed alpha\n",
    "fixedalpha = 4.0 * np.log(2) / testh ** 2  # 60.0"
   ],
   "metadata": {
    "collapsed": false,
    "pycharm": {
     "name": "#%%\n"
    }
   }
  },
  {
   "cell_type": "code",
   "execution_count": 6,
   "outputs": [
    {
     "data": {
      "text/plain": "<Figure size 432x288 with 1 Axes>",
      "image/png": "[encoded data removed]"
     },
     "metadata": {
      "needs_background": "light"
     },
     "output_type": "display_data"
    }
   ],
   "source": [
    "for thisj in range(-1, 2):\n",
    "    plt.plot(xvec, gb(xvec, thisj*testh, fixedalpha))\n",
    "\n",
    "plt.xlim(-2, 2)\n",
    "plt.show()"
   ],
   "metadata": {
    "collapsed": false,
    "pycharm": {
     "name": "#%%\n"
    }
   }
  },
  {
   "cell_type": "code",
   "execution_count": 7,
   "outputs": [
    {
     "name": "stdout",
     "output_type": "stream",
     "text": [
      "[-15.   -14.85 -14.7  -14.55 -14.4  -14.25 -14.1  -13.95 -13.8  -13.65\n",
      " -13.5  -13.35 -13.2  -13.05 -12.9  -12.75 -12.6  -12.45 -12.3  -12.15\n",
      " -12.   -11.85 -11.7  -11.55 -11.4  -11.25 -11.1  -10.95 -10.8  -10.65\n",
      " -10.5  -10.35 -10.2  -10.05  -9.9   -9.75  -9.6   -9.45  -9.3   -9.15\n",
      "  -9.    -8.85  -8.7   -8.55  -8.4   -8.25  -8.1   -7.95  -7.8   -7.65\n",
      "  -7.5   -7.35  -7.2   -7.05  -6.9   -6.75  -6.6   -6.45  -6.3   -6.15\n",
      "  -6.    -5.85  -5.7   -5.55  -5.4   -5.25  -5.1   -4.95  -4.8   -4.65\n",
      "  -4.5   -4.35  -4.2   -4.05  -3.9   -3.75  -3.6   -3.45  -3.3   -3.15\n",
      "  -3.    -2.85  -2.7   -2.55  -2.4   -2.25  -2.1   -1.95  -1.8   -1.65\n",
      "  -1.5   -1.35  -1.2   -1.05  -0.9   -0.75  -0.6   -0.45  -0.3   -0.15\n",
      "   0.     0.15   0.3    0.45   0.6    0.75   0.9    1.05   1.2    1.35\n",
      "   1.5    1.65   1.8    1.95   2.1    2.25   2.4    2.55   2.7    2.85\n",
      "   3.     3.15   3.3    3.45   3.6    3.75   3.9    4.05   4.2    4.35\n",
      "   4.5    4.65   4.8    4.95   5.1    5.25   5.4    5.55   5.7    5.85\n",
      "   6.     6.15   6.3    6.45   6.6    6.75   6.9    7.05   7.2    7.35\n",
      "   7.5    7.65   7.8    7.95   8.1    8.25   8.4    8.55   8.7    8.85\n",
      "   9.     9.15   9.3    9.45   9.6    9.75   9.9   10.05  10.2   10.35\n",
      "  10.5   10.65  10.8   10.95  11.1   11.25  11.4   11.55  11.7   11.85\n",
      "  12.    12.15  12.3   12.45  12.6   12.75  12.9   13.05  13.2   13.35\n",
      "  13.5   13.65  13.8   13.95  14.1   14.25  14.4   14.55  14.7   14.85\n",
      "  15.  ]\n",
      "[-15. -15. -15. -15. -15. -15. -15. -15. -15. -15. -15. -15. -15. -15.\n",
      " -15. -15. -15. -15. -15. -15. -15. -15. -15. -15. -15. -15. -15. -15.\n",
      " -15. -15. -15. -15. -15. -15. -15. -15. -15. -15. -15. -15. -15. -15.\n",
      " -15. -15. -15. -15. -15. -15. -15. -15. -15. -15. -15. -15. -15. -15.\n",
      " -15. -15. -15. -15. -15. -15. -15. -15. -15. -15. -15. -15. -15. -15.\n",
      " -15. -15. -15. -15. -15. -15. -15. -15. -15. -15. -15. -15. -15. -15.\n",
      " -15. -15. -15. -15. -15. -15. -15. -15. -15. -15. -15. -15. -15. -15.\n",
      " -15. -15. -15. -15. -15. -15. -15. -15. -15. -15. -15. -15. -15. -15.\n",
      " -15. -15. -15. -15. -15. -15. -15. -15. -15. -15. -15. -15. -15. -15.\n",
      " -15. -15. -15. -15. -15. -15. -15. -15. -15. -15. -15. -15. -15. -15.\n",
      " -15. -15. -15. -15. -15. -15. -15. -15. -15. -15. -15. -15. -15. -15.\n",
      " -15. -15. -15. -15. -15. -15. -15. -15. -15. -15. -15. -15. -15. -15.\n",
      " -15. -15. -15. -15. -15. -15. -15. -15. -15. -15. -15. -15. -15. -15.\n",
      " -15. -15. -15. -15. -15. -15. -15. -15. -15. -15. -15. -15. -15. -15.\n",
      " -15. -15. -15. -15. -15.]\n",
      "n: 201, gbmat dim: (201, 201)\n"
     ]
    }
   ],
   "source": [
    "# make matrix of x values on the j grid\n",
    "xjmat = np.broadcast_to(xjvec, (len(xjvec), len(xjvec)))\n",
    "# show what the first element of xjmat looks like\n",
    "print(xjmat[0])\n",
    "# show what the first element of xjmat.T looks like\n",
    "print(xjmat.T[0])\n",
    "# make Gaussian basis matrix.\n",
    "# We want gbmat @ gbcfs = vtrue, so each row in gbmat is\n",
    "# all the Gaussian basis for one value of x\n",
    "gbmat = gb(xjmat.T, xjmat, fixedalpha)\n",
    "# check shape of gbmat, should be (n x n)\n",
    "print(f'n: {2 * J + 1}, gbmat dim: {gbmat.shape}')"
   ],
   "metadata": {
    "collapsed": false,
    "pycharm": {
     "name": "#%%\n"
    }
   }
  },
  {
   "cell_type": "code",
   "execution_count": 8,
   "outputs": [
    {
     "name": "stdout",
     "output_type": "stream",
     "text": [
      "n: 201, vtruexjvec dim: 201\n",
      "Norm diff sol methods: 8.879615701004165e-14\n"
     ]
    }
   ],
   "source": [
    "# compute true potential\n",
    "vchoice = 1\n",
    "vtruexjvec = v(x=xjvec, choice=vchoice)\n",
    "# check that vtruexjvec has the same dim as n\n",
    "print(f'n: {2 * J + 1}, vtruexjvec dim: {len(vtruexjvec)}')\n",
    "# compute the Gaussian basis coefficients using numpy.linalg.solve\n",
    "vgbcoefsol = nl.solve(gbmat, vtruexjvec)\n",
    "# compute the Gaussian basis coefficients using numpy.linalg.inv\n",
    "vgbcoefinv = nl.inv(gbmat) @ vtruexjvec\n",
    "# print norm of difference between solutions\n",
    "print(f'Norm diff sol methods: {nl.norm(vgbcoefsol - vgbcoefinv)}')"
   ],
   "metadata": {
    "collapsed": false,
    "pycharm": {
     "name": "#%%\n"
    }
   }
  },
  {
   "cell_type": "code",
   "execution_count": 9,
   "outputs": [
    {
     "data": {
      "text/plain": "<Figure size 432x288 with 1 Axes>",
      "image/png": "[encoded data removed]"
     },
     "metadata": {
      "needs_background": "light"
     },
     "output_type": "display_data"
    },
    {
     "name": "stdout",
     "output_type": "stream",
     "text": [
      "Norm diff sol: 5.691730805410122e-14\n",
      "Norm diff inv: 8.625944682729244e-14\n"
     ]
    }
   ],
   "source": [
    "# reconstruct potential from Gaussian basis coefficients\n",
    "vsol = gbmat @ vgbcoefsol\n",
    "vinv = gbmat @ vgbcoefinv\n",
    "# plot the true potential vs reconstruction of both solutions\n",
    "plt.plot(xjvec, vsol, label='Solve')\n",
    "plt.plot(xjvec, vinv, label='Inverse')\n",
    "plt.plot(xjvec, vtruexjvec, label='Truth')\n",
    "plt.legend()\n",
    "plt.show()\n",
    "# compute L2 error for both solution methods\n",
    "print(f'Norm diff sol: {nl.norm(vtruexjvec - vsol)}')\n",
    "print(f'Norm diff inv: {nl.norm(vtruexjvec - vinv)}')"
   ],
   "metadata": {
    "collapsed": false,
    "pycharm": {
     "name": "#%%\n"
    }
   }
  },
  {
   "cell_type": "code",
   "execution_count": 13,
   "outputs": [],
   "source": [
    "# function for computing the L2 error given some number of basis\n",
    "def error(thisvchoice = 1, thisfixedalpha = 1, thisJ = 100, thisL = 15):\n",
    "    # make vector of j values\n",
    "    thisxjvec, thish = np.linspace(-thisL, thisL, 2 * thisJ + 1, retstep=True)\n",
    "    # make matrix of x values on the j grid\n",
    "    thisxjmat = np.broadcast_to(thisxjvec, (len(thisxjvec), len(thisxjvec)))\n",
    "    # compute the true potential using thisxjvec values\n",
    "    thisvtruexjvec = v(x=thisxjvec, choice=thisvchoice)\n",
    "    # make Gaussian basis matrix.\n",
    "    # We want gbmat @ gbcfs = vtrue, so each row in gbmat is\n",
    "    # all the Gaussian basis for one value of x\n",
    "    thisgbmat = gb(thisxjmat.T, thisxjmat, thisfixedalpha)\n",
    "    # compute the Gaussian basis coefficients using numpy.linalg.solve\n",
    "    thisvgbcoefsol = nl.solve(thisgbmat, thisvtruexjvec)\n",
    "    # compute the Gaussian basis coefficients using numpy.linalg.inv\n",
    "    thisvgbcoefinv = nl.inv(thisgbmat) @ thisvtruexjvec\n",
    "    # reconstruct potential from Gaussian basis coefficients\n",
    "    thisvsol = thisgbmat @ thisvgbcoefsol\n",
    "    thisvinv = thisgbmat @ thisvgbcoefinv\n",
    "    # return L2 error for both solution methods\n",
    "    return [nl.norm(thisvtruexjvec - thisvsol), nl.norm(thisvtruexjvec - thisvinv), thish]"
   ],
   "metadata": {
    "collapsed": false,
    "pycharm": {
     "name": "#%%\n"
    }
   }
  },
  {
   "cell_type": "code",
   "execution_count": 14,
   "outputs": [
    {
     "name": "stdout",
     "output_type": "stream",
     "text": [
      "[5.691730805410122e-14, 8.625944682729244e-14, 0.15]\n"
     ]
    }
   ],
   "source": [
    "# check that error function produces same results as above\n",
    "print(error(thisvchoice = 1, thisfixedalpha = 4.0 * np.log(2) / testh ** 2, thisJ = 100, thisL = 15))"
   ],
   "metadata": {
    "collapsed": false,
    "pycharm": {
     "name": "#%%\n"
    }
   }
  },
  {
   "cell_type": "code",
   "execution_count": 15,
   "outputs": [
    {
     "name": "stdout",
     "output_type": "stream",
     "text": [
      "Computing Result 1 of 10\n",
      "Computing Result 2 of 10\n",
      "Computing Result 3 of 10\n",
      "Computing Result 4 of 10\n",
      "Computing Result 5 of 10\n",
      "Computing Result 6 of 10\n",
      "Computing Result 7 of 10\n",
      "Computing Result 8 of 10\n",
      "Computing Result 9 of 10\n",
      "Computing Result 10 of 10\n",
      "(10, 3)\n"
     ]
    }
   ],
   "source": [
    "# set number of results\n",
    "numres = 10\n",
    "\n",
    "# initialize array for storing results\n",
    "errorvec = []\n",
    "\n",
    "# loop for investigating order of accuracy\n",
    "# error as a function of h\n",
    "# for loop sets the number of Gaussian basis\n",
    "for i in np.arange(numres):\n",
    "    forJ = 2**(3 + i)\n",
    "    print(f'Computing Result {i+1} of {numres}')\n",
    "    thiserror = error(thisvchoice = 1, thisfixedalpha = 1, thisJ = forJ, thisL = 15)\n",
    "    # print(thiserror)\n",
    "    errorvec.append(thiserror)\n",
    "\n",
    "errorvec = np.array(errorvec)\n",
    "print(errorvec.shape)"
   ],
   "metadata": {
    "collapsed": false,
    "pycharm": {
     "name": "#%%\n"
    }
   }
  },
  {
   "cell_type": "code",
   "execution_count": 16,
   "outputs": [
    {
     "data": {
      "text/plain": "<Figure size 432x288 with 1 Axes>",
      "image/png": "[encoded data removed]"
     },
     "metadata": {
      "needs_background": "light"
     },
     "output_type": "display_data"
    }
   ],
   "source": [
    "plt.loglog(errorvec[:,-1], errorvec[:,0], label='sol error')\n",
    "plt.loglog(errorvec[:,-1], errorvec[:,1], label='inv error')\n",
    "plt.title('Log Error vs. Log h')\n",
    "plt.xlabel('Log(h)')\n",
    "plt.ylabel('Log(error)')\n",
    "plt.legend()\n",
    "plt.show()\n",
    "#plt.savefig('./order-of-accuracy-results/error-vs-h-plot.pdf')"
   ],
   "metadata": {
    "collapsed": false,
    "pycharm": {
     "name": "#%%\n"
    }
   }
  },
  {
   "cell_type": "code",
   "execution_count": null,
   "outputs": [],
   "source": [],
   "metadata": {
    "collapsed": false,
    "pycharm": {
     "name": "#%%\n"
    }
   }
  }
 ],
 "metadata": {
  "kernelspec": {
   "display_name": "Python 3",
   "language": "python",
   "name": "python3"
  },
  "language_info": {
   "codemirror_mode": {
    "name": "ipython",
    "version": 2
   },
   "file_extension": ".py",
   "mimetype": "text/x-python",
   "name": "python",
   "nbconvert_exporter": "python",
   "pygments_lexer": "ipython2",
   "version": "2.7.6"
  }
 },
 "nbformat": 4,
 "nbformat_minor": 0
}