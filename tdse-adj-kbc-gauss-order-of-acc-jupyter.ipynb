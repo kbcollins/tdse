{
 "cells": [
  {
   "cell_type": "code",
   "execution_count": 1,
   "metadata": {
    "collapsed": true
   },
   "outputs": [],
   "source": [
    "import numpy as np\n",
    "import numpy.linalg as nl\n",
    "import scipy.optimize as so\n",
    "import scipy.integrate as si\n",
    "import matplotlib.pyplot as plt"
   ]
  },
  {
   "cell_type": "code",
   "execution_count": 2,
   "outputs": [],
   "source": [
    "# define potential for training data\n",
    "def v(x, choice=0):\n",
    "    if choice == 0:\n",
    "        # dimensionless quantum harmonic oscillator potential\n",
    "        return 0.5 * x**2\n",
    "    elif choice == 1:\n",
    "        # symmetric double well potential\n",
    "        return 0.0025 * (x ** 2 - 25) ** 2\n",
    "    elif choice == 2:\n",
    "        # asymmetric double well potential\n",
    "        return 0.0003 * ((x - 3) ** 4 + 10 * (x - 5) ** 3)\n",
    "    elif choice == 3:\n",
    "        # soft coulomb potential\n",
    "        return -1 / np.sqrt(x ** 2 + 0.25)\n",
    "    else:\n",
    "        print('Function v(x, choice=0): Did not recognise your input for choice.')"
   ],
   "metadata": {
    "collapsed": false,
    "pycharm": {
     "name": "#%%\n"
    }
   }
  },
  {
   "cell_type": "code",
   "execution_count": 3,
   "outputs": [],
   "source": [
    "# set L of spatial domain\n",
    "L = 15\n",
    "# create vector of real space points for plotting\n",
    "nx = 1024\n",
    "xvec = np.linspace(-L, L, nx)"
   ],
   "metadata": {
    "collapsed": false,
    "pycharm": {
     "name": "#%%\n"
    }
   }
  },
  {
   "cell_type": "code",
   "execution_count": 56,
   "outputs": [
    {
     "name": "stdout",
     "output_type": "stream",
     "text": [
      "Size xjvec: 51, n: 51\n",
      "L: 15, First val xjvec: -15.0, Last val xjvec: 15.0\n",
      "L / J: 0.6, step size: 0.6\n"
     ]
    }
   ],
   "source": [
    "# set highest value for index of Gaussian basis\n",
    "J = 25  # 100\n",
    "# make vector of j values\n",
    "xjvec, testh = np.linspace(-L, L, 2 * J + 1, retstep=True)\n",
    "# check if jvec = n = 2 J + 1\n",
    "print(f'Size xjvec: {len(xjvec)}, n: {2 * J + 1}')\n",
    "# check if first value of xjvec = -L and last value = L\n",
    "print(f'L: {L}, First val xjvec: {xjvec[0]}, Last val xjvec: {xjvec[-1]}')\n",
    "# check if true h and returned step value agree\n",
    "print(f'L / J: {L / J}, step size: {testh}')"
   ],
   "metadata": {
    "collapsed": false,
    "pycharm": {
     "name": "#%%\n"
    }
   }
  },
  {
   "cell_type": "code",
   "execution_count": 57,
   "outputs": [],
   "source": [
    "# define Gaussian basis function\n",
    "def gb(x, jh, alpha):\n",
    "    return np.exp(-alpha * (x - jh) ** 2)\n",
    "\n",
    "# set fixed alpha\n",
    "fixedalpha = 1  # 4.0 * np.log(2) / testh ** 2  # 60.0"
   ],
   "metadata": {
    "collapsed": false,
    "pycharm": {
     "name": "#%%\n"
    }
   }
  },
  {
   "cell_type": "code",
   "execution_count": 58,
   "outputs": [
    {
     "data": {
      "text/plain": "<Figure size 432x288 with 1 Axes>",
      "image/png": "[encoded data removed]"
     },
     "metadata": {
      "needs_background": "light"
     },
     "output_type": "display_data"
    }
   ],
   "source": [
    "for thisj in range(-1, 2):\n",
    "    plt.plot(xvec, gb(xvec, thisj*testh, fixedalpha))\n",
    "\n",
    "plt.xlim(-2, 2)\n",
    "plt.show()"
   ],
   "metadata": {
    "collapsed": false,
    "pycharm": {
     "name": "#%%\n"
    }
   }
  },
  {
   "cell_type": "code",
   "execution_count": 59,
   "outputs": [
    {
     "name": "stdout",
     "output_type": "stream",
     "text": [
      "[-15.  -14.4 -13.8 -13.2 -12.6 -12.  -11.4 -10.8 -10.2  -9.6  -9.   -8.4\n",
      "  -7.8  -7.2  -6.6  -6.   -5.4  -4.8  -4.2  -3.6  -3.   -2.4  -1.8  -1.2\n",
      "  -0.6   0.    0.6   1.2   1.8   2.4   3.    3.6   4.2   4.8   5.4   6.\n",
      "   6.6   7.2   7.8   8.4   9.    9.6  10.2  10.8  11.4  12.   12.6  13.2\n",
      "  13.8  14.4  15. ]\n",
      "[-15. -15. -15. -15. -15. -15. -15. -15. -15. -15. -15. -15. -15. -15.\n",
      " -15. -15. -15. -15. -15. -15. -15. -15. -15. -15. -15. -15. -15. -15.\n",
      " -15. -15. -15. -15. -15. -15. -15. -15. -15. -15. -15. -15. -15. -15.\n",
      " -15. -15. -15. -15. -15. -15. -15. -15. -15.]\n",
      "n: 51, gbmat dim: (51, 51)\n"
     ]
    }
   ],
   "source": [
    "# make matrix of x values on the j grid\n",
    "xjmat = np.broadcast_to(xjvec, (len(xjvec), len(xjvec)))\n",
    "# show what the first element of xjmat looks like\n",
    "print(xjmat[0])\n",
    "# show what the first element of xjmat.T looks like\n",
    "print(xjmat.T[0])\n",
    "# make Gaussian basis matrix.\n",
    "# We want gbmat @ gbcfs = vtrue, so each row in gbmat is\n",
    "# all the Gaussian basis for one value of x\n",
    "gbmat = gb(xjmat.T, xjmat, fixedalpha)\n",
    "# check shape of gbmat, should be (n x n)\n",
    "print(f'n: {2 * J + 1}, gbmat dim: {gbmat.shape}')"
   ],
   "metadata": {
    "collapsed": false,
    "pycharm": {
     "name": "#%%\n"
    }
   }
  },
  {
   "cell_type": "code",
   "execution_count": 60,
   "outputs": [
    {
     "name": "stdout",
     "output_type": "stream",
     "text": [
      "n: 51, vtruexjvec dim: 51\n",
      "Norm diff sol methods: 2.1749134664495884e-12\n"
     ]
    }
   ],
   "source": [
    "# compute true potential\n",
    "vchoice = 1\n",
    "vtruexjvec = v(x=xjvec, choice=vchoice)\n",
    "# check that vtruexjvec has the same dim as n\n",
    "print(f'n: {2 * J + 1}, vtruexjvec dim: {len(vtruexjvec)}')\n",
    "# compute the Gaussian basis coefficients using numpy.linalg.solve\n",
    "vgbcoefsol = nl.solve(gbmat, vtruexjvec)\n",
    "# compute the Gaussian basis coefficients using numpy.linalg.inv\n",
    "vgbcoefinv = nl.inv(gbmat) @ vtruexjvec\n",
    "# print norm of difference between solutions\n",
    "print(f'Norm diff sol methods: {nl.norm(vgbcoefsol - vgbcoefinv)}')"
   ],
   "metadata": {
    "collapsed": false,
    "pycharm": {
     "name": "#%%\n"
    }
   }
  },
  {
   "cell_type": "code",
   "execution_count": 61,
   "outputs": [
    {
     "data": {
      "text/plain": "<Figure size 432x288 with 1 Axes>",
      "image/png": "[encoded data removed]"
     },
     "metadata": {
      "needs_background": "light"
     },
     "output_type": "display_data"
    }
   ],
   "source": [
    "# reconstruct potential from Gaussian basis coefficients\n",
    "vsol = gbmat @ vgbcoefsol\n",
    "vinv = gbmat @ vgbcoefinv\n",
    "# plot the true potential vs reconstruction of both solutions\n",
    "plt.plot(xjvec, vsol, label='Solve')\n",
    "# plt.plot(xjvec, vinv, label='Inverse')\n",
    "plt.plot(xjvec, vtruexjvec, label='Truth')\n",
    "plt.legend()\n",
    "plt.show()"
   ],
   "metadata": {
    "collapsed": false,
    "pycharm": {
     "name": "#%%\n"
    }
   }
  },
  {
   "cell_type": "code",
   "execution_count": 62,
   "outputs": [
    {
     "data": {
      "text/plain": "<Figure size 432x288 with 1 Axes>",
      "image/png": "[encoded data removed]"
     },
     "metadata": {
      "needs_background": "light"
     },
     "output_type": "display_data"
    }
   ],
   "source": [
    "# The Gaussian basis function is defined as\n",
    "# def gb(x, jh, alpha):\n",
    "#     return np.exp(-alpha * (x - jh) ** 2)\n",
    "\n",
    "# functional representation in the Gaussian basis\n",
    "def fprx(thisx):\n",
    "    return np.sum(gb(thisx, xjvec, alpha=fixedalpha) @ vgbcoefsol)\n",
    "\n",
    "# function representation of L2 norm\n",
    "def integrand(thisx):\n",
    "    return (v(x=thisx, choice=vchoice) - fprx(thisx))**2\n",
    "\n",
    "# plot functional representation vs truth\n",
    "fnresol = np.zeros_like(xjvec)\n",
    "for j in range(len(xjvec)):\n",
    "    thisxj = xjvec[j]\n",
    "    fnresol[j] = fprx(thisxj)\n",
    "plt.plot(xjvec, fnresol, label='Solve')\n",
    "plt.plot(xjvec, vtruexjvec, label='Truth')\n",
    "plt.legend()\n",
    "plt.show()"
   ],
   "metadata": {
    "collapsed": false,
    "pycharm": {
     "name": "#%%\n"
    }
   }
  },
  {
   "cell_type": "code",
   "execution_count": 63,
   "outputs": [
    {
     "name": "stdout",
     "output_type": "stream",
     "text": [
      "Vec norm (sol): 3.1396522060491424e-14\n",
      "L2 norm (sol): 3.1776437161565096e-14\n"
     ]
    }
   ],
   "source": [
    "# compute vector L2 error for solve solution\n",
    "print(f'Vec norm (sol): {nl.norm(vtruexjvec - vsol)}')\n",
    "# compute real L2 norm\n",
    "L2norm = np.sqrt(si.romberg(integrand, a=-L, b=L, divmax=20))\n",
    "print (f'L2 norm (sol): {L2norm}')\n",
    "# compute vector L2 error for inv solution\n",
    "# print(f'Norm diff inv: {nl.norm(vtruexjvec - vinv)}')"
   ],
   "metadata": {
    "collapsed": false,
    "pycharm": {
     "name": "#%%\n"
    }
   }
  },
  {
   "cell_type": "markdown",
   "source": [
    "---"
   ],
   "metadata": {
    "collapsed": false,
    "pycharm": {
     "name": "#%% md\n"
    }
   }
  },
  {
   "cell_type": "code",
   "execution_count": 48,
   "outputs": [],
   "source": [
    "# function for computing the L2 error given some number of basis\n",
    "def error(thisvchoice = 1, thisfixedalpha = 1, thisJ = 100, thisL = 15):\n",
    "    # make vector of j values\n",
    "    thisxjvec, thish = np.linspace(-thisL, thisL, 2 * thisJ + 1, retstep=True)\n",
    "    # make matrix of x values on the j grid\n",
    "    thisxjmat = np.broadcast_to(thisxjvec, (len(thisxjvec), len(thisxjvec)))\n",
    "    # compute the true potential using thisxjvec values\n",
    "    thisvtruexjvec = v(x=thisxjvec, choice=thisvchoice)\n",
    "    # make Gaussian basis matrix.\n",
    "    # We want gbmat @ gbcfs = vtrue, so each row in gbmat is\n",
    "    # all the Gaussian basis for one value of x\n",
    "    thisgbmat = gb(thisxjmat.T, thisxjmat, thisfixedalpha)\n",
    "    # compute the Gaussian basis coefficients using numpy.linalg.solve\n",
    "    thisvgbcoefsol = nl.solve(thisgbmat, thisvtruexjvec)\n",
    "    # compute the Gaussian basis coefficients using numpy.linalg.inv\n",
    "    thisvgbcoefinv = nl.inv(thisgbmat) @ thisvtruexjvec\n",
    "    # reconstruct potential from Gaussian basis coefficients\n",
    "    thisvsol = thisgbmat @ thisvgbcoefsol\n",
    "    thisvinv = thisgbmat @ thisvgbcoefinv\n",
    "    # return L2 error for both solution methods\n",
    "    return [nl.norm(thisvtruexjvec - thisvsol), nl.norm(thisvtruexjvec - thisvinv), thish]"
   ],
   "metadata": {
    "collapsed": false,
    "pycharm": {
     "name": "#%%\n"
    }
   }
  },
  {
   "cell_type": "code",
   "execution_count": 49,
   "outputs": [
    {
     "name": "stdout",
     "output_type": "stream",
     "text": [
      "[0.0, 0.0, 0.15]\n"
     ]
    }
   ],
   "source": [
    "# check that error function produces same results as above\n",
    "print(error(thisvchoice = 1, thisfixedalpha = 4.0 * np.log(2) / testh ** 2, thisJ = 100, thisL = 15))"
   ],
   "metadata": {
    "collapsed": false,
    "pycharm": {
     "name": "#%%\n"
    }
   }
  },
  {
   "cell_type": "code",
   "execution_count": 50,
   "outputs": [
    {
     "name": "stdout",
     "output_type": "stream",
     "text": [
      "Computing Result 1 of 10\n",
      "Computing Result 2 of 10\n",
      "Computing Result 3 of 10\n",
      "Computing Result 4 of 10\n",
      "Computing Result 5 of 10\n",
      "Computing Result 6 of 10\n",
      "Computing Result 7 of 10\n",
      "Computing Result 8 of 10\n",
      "Computing Result 9 of 10\n",
      "Computing Result 10 of 10\n"
     ]
    },
    {
     "ename": "KeyboardInterrupt",
     "evalue": "",
     "output_type": "error",
     "traceback": [
      "\u001B[0;31m---------------------------------------------------------------------------\u001B[0m",
      "\u001B[0;31mKeyboardInterrupt\u001B[0m                         Traceback (most recent call last)",
      "Input \u001B[0;32mIn [50]\u001B[0m, in \u001B[0;36m<module>\u001B[0;34m\u001B[0m\n\u001B[1;32m     11\u001B[0m forJ \u001B[38;5;241m=\u001B[39m \u001B[38;5;241m2\u001B[39m\u001B[38;5;241m*\u001B[39m\u001B[38;5;241m*\u001B[39m(\u001B[38;5;241m3\u001B[39m \u001B[38;5;241m+\u001B[39m i)\n\u001B[1;32m     12\u001B[0m \u001B[38;5;28mprint\u001B[39m(\u001B[38;5;124mf\u001B[39m\u001B[38;5;124m'\u001B[39m\u001B[38;5;124mComputing Result \u001B[39m\u001B[38;5;132;01m{\u001B[39;00mi\u001B[38;5;241m+\u001B[39m\u001B[38;5;241m1\u001B[39m\u001B[38;5;132;01m}\u001B[39;00m\u001B[38;5;124m of \u001B[39m\u001B[38;5;132;01m{\u001B[39;00mnumres\u001B[38;5;132;01m}\u001B[39;00m\u001B[38;5;124m'\u001B[39m)\n\u001B[0;32m---> 13\u001B[0m thiserror \u001B[38;5;241m=\u001B[39m \u001B[43merror\u001B[49m\u001B[43m(\u001B[49m\u001B[43mthisvchoice\u001B[49m\u001B[43m \u001B[49m\u001B[38;5;241;43m=\u001B[39;49m\u001B[43m \u001B[49m\u001B[38;5;241;43m1\u001B[39;49m\u001B[43m,\u001B[49m\u001B[43m \u001B[49m\u001B[43mthisfixedalpha\u001B[49m\u001B[43m \u001B[49m\u001B[38;5;241;43m=\u001B[39;49m\u001B[43m \u001B[49m\u001B[38;5;241;43m1\u001B[39;49m\u001B[43m,\u001B[49m\u001B[43m \u001B[49m\u001B[43mthisJ\u001B[49m\u001B[43m \u001B[49m\u001B[38;5;241;43m=\u001B[39;49m\u001B[43m \u001B[49m\u001B[43mforJ\u001B[49m\u001B[43m,\u001B[49m\u001B[43m \u001B[49m\u001B[43mthisL\u001B[49m\u001B[43m \u001B[49m\u001B[38;5;241;43m=\u001B[39;49m\u001B[43m \u001B[49m\u001B[38;5;241;43m15\u001B[39;49m\u001B[43m)\u001B[49m\n\u001B[1;32m     14\u001B[0m \u001B[38;5;66;03m# print(thiserror)\u001B[39;00m\n\u001B[1;32m     15\u001B[0m errorvec\u001B[38;5;241m.\u001B[39mappend(thiserror)\n",
      "Input \u001B[0;32mIn [48]\u001B[0m, in \u001B[0;36merror\u001B[0;34m(thisvchoice, thisfixedalpha, thisJ, thisL)\u001B[0m\n\u001B[1;32m      8\u001B[0m thisvtruexjvec \u001B[38;5;241m=\u001B[39m v(x\u001B[38;5;241m=\u001B[39mthisxjvec, choice\u001B[38;5;241m=\u001B[39mthisvchoice)\n\u001B[1;32m      9\u001B[0m \u001B[38;5;66;03m# make Gaussian basis matrix.\u001B[39;00m\n\u001B[1;32m     10\u001B[0m \u001B[38;5;66;03m# We want gbmat @ gbcfs = vtrue, so each row in gbmat is\u001B[39;00m\n\u001B[1;32m     11\u001B[0m \u001B[38;5;66;03m# all the Gaussian basis for one value of x\u001B[39;00m\n\u001B[0;32m---> 12\u001B[0m thisgbmat \u001B[38;5;241m=\u001B[39m \u001B[43mgb\u001B[49m\u001B[43m(\u001B[49m\u001B[43mthisxjmat\u001B[49m\u001B[38;5;241;43m.\u001B[39;49m\u001B[43mT\u001B[49m\u001B[43m,\u001B[49m\u001B[43m \u001B[49m\u001B[43mthisxjmat\u001B[49m\u001B[43m,\u001B[49m\u001B[43m \u001B[49m\u001B[43mthisfixedalpha\u001B[49m\u001B[43m)\u001B[49m\n\u001B[1;32m     13\u001B[0m \u001B[38;5;66;03m# compute the Gaussian basis coefficients using numpy.linalg.solve\u001B[39;00m\n\u001B[1;32m     14\u001B[0m thisvgbcoefsol \u001B[38;5;241m=\u001B[39m nl\u001B[38;5;241m.\u001B[39msolve(thisgbmat, thisvtruexjvec)\n",
      "Input \u001B[0;32mIn [41]\u001B[0m, in \u001B[0;36mgb\u001B[0;34m(x, jh, alpha)\u001B[0m\n\u001B[1;32m      2\u001B[0m \u001B[38;5;28;01mdef\u001B[39;00m \u001B[38;5;21mgb\u001B[39m(x, jh, alpha):\n\u001B[0;32m----> 3\u001B[0m     \u001B[38;5;28;01mreturn\u001B[39;00m \u001B[43mnp\u001B[49m\u001B[38;5;241;43m.\u001B[39;49m\u001B[43mexp\u001B[49m\u001B[43m(\u001B[49m\u001B[38;5;241;43m-\u001B[39;49m\u001B[43malpha\u001B[49m\u001B[43m \u001B[49m\u001B[38;5;241;43m*\u001B[39;49m\u001B[43m \u001B[49m\u001B[43m(\u001B[49m\u001B[43mx\u001B[49m\u001B[43m \u001B[49m\u001B[38;5;241;43m-\u001B[39;49m\u001B[43m \u001B[49m\u001B[43mjh\u001B[49m\u001B[43m)\u001B[49m\u001B[43m \u001B[49m\u001B[38;5;241;43m*\u001B[39;49m\u001B[38;5;241;43m*\u001B[39;49m\u001B[43m \u001B[49m\u001B[38;5;241;43m2\u001B[39;49m\u001B[43m)\u001B[49m\n",
      "\u001B[0;31mKeyboardInterrupt\u001B[0m: "
     ]
    }
   ],
   "source": [
    "# set number of results\n",
    "numres = 10\n",
    "\n",
    "# initialize array for storing results\n",
    "errorvec = []\n",
    "\n",
    "# loop for investigating order of accuracy\n",
    "# error as a function of h\n",
    "# for loop sets the number of Gaussian basis\n",
    "for i in np.arange(numres):\n",
    "    forJ = 2**(3 + i)\n",
    "    print(f'Computing Result {i+1} of {numres}')\n",
    "    thiserror = error(thisvchoice = 1, thisfixedalpha = 1, thisJ = forJ, thisL = 15)\n",
    "    # print(thiserror)\n",
    "    errorvec.append(thiserror)\n",
    "\n",
    "errorvec = np.array(errorvec)\n",
    "print(errorvec.shape)"
   ],
   "metadata": {
    "collapsed": false,
    "pycharm": {
     "name": "#%%\n"
    }
   }
  },
  {
   "cell_type": "code",
   "execution_count": 16,
   "outputs": [
    {
     "data": {
      "text/plain": "<Figure size 432x288 with 1 Axes>",
      "image/png": "[encoded data removed]"
     },
     "metadata": {
      "needs_background": "light"
     },
     "output_type": "display_data"
    }
   ],
   "source": [
    "plt.loglog(errorvec[:,-1], errorvec[:,0], label='sol error')\n",
    "plt.loglog(errorvec[:,-1], errorvec[:,1], label='inv error')\n",
    "plt.title('Log Error vs. Log h')\n",
    "plt.xlabel('Log(h)')\n",
    "plt.ylabel('Log(error)')\n",
    "plt.legend()\n",
    "plt.show()\n",
    "#plt.savefig('./order-of-accuracy-results/error-vs-h-plot.pdf')"
   ],
   "metadata": {
    "collapsed": false,
    "pycharm": {
     "name": "#%%\n"
    }
   }
  },
  {
   "cell_type": "code",
   "execution_count": null,
   "outputs": [],
   "source": [],
   "metadata": {
    "collapsed": false,
    "pycharm": {
     "name": "#%%\n"
    }
   }
  }
 ],
 "metadata": {
  "kernelspec": {
   "display_name": "Python 3",
   "language": "python",
   "name": "python3"
  },
  "language_info": {
   "codemirror_mode": {
    "name": "ipython",
    "version": 2
   },
   "file_extension": ".py",
   "mimetype": "text/x-python",
   "name": "python",
   "nbconvert_exporter": "python",
   "pygments_lexer": "ipython2",
   "version": "2.7.6"
  }
 },
 "nbformat": 4,
 "nbformat_minor": 0
}