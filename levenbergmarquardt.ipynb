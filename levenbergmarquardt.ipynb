{
  "nbformat": 4,
  "nbformat_minor": 0,
  "metadata": {
    "colab": {
      "name": "levenbergmarquardt",
      "provenance": [],
      "collapsed_sections": [],
      "authorship_tag": "ABX9TyOuJ7QIT6Ip2WK/FmC5w14/",
      "include_colab_link": true
    },
    "kernelspec": {
      "name": "python3",
      "display_name": "Python 3"
    },
    "language_info": {
      "name": "python"
    }
  },
  "cells": [
    {
      "cell_type": "markdown",
      "metadata": {
        "id": "view-in-github",
        "colab_type": "text"
      },
      "source": [
        "<a href=\"https://colab.research.google.com/github/kbcollins/mltdse/blob/main/levenbergmarquardt.ipynb\" target=\"_parent\"><img src=\"https://colab.research.google.com/assets/colab-badge.svg\" alt=\"Open In Colab\"/></a>"
      ]
    },
    {
      "cell_type": "code",
      "metadata": {
        "id": "Jn5vgv3zZp9u"
      },
      "source": [
        "import jax.numpy as jnp\n",
        "from jax import grad, jacobian, jit, vmap"
      ],
      "execution_count": 1,
      "outputs": []
    },
    {
      "cell_type": "code",
      "metadata": {
        "id": "y5dz3dlTb6TW"
      },
      "source": [
        "import numpy as np"
      ],
      "execution_count": 2,
      "outputs": []
    },
    {
      "cell_type": "code",
      "metadata": {
        "id": "AxcK_hC6cPCe"
      },
      "source": [
        "import matplotlib\n",
        "%matplotlib inline\n",
        "import matplotlib.pyplot as plt"
      ],
      "execution_count": 3,
      "outputs": []
    },
    {
      "cell_type": "code",
      "metadata": {
        "id": "nzhQLveJdMM3"
      },
      "source": [
        "import scipy.optimize"
      ],
      "execution_count": 4,
      "outputs": []
    },
    {
      "cell_type": "code",
      "metadata": {
        "id": "l_jw8Q94Z50g"
      },
      "source": [
        "# suppose we have a function that we're trying to fit\n",
        "def truef(x):\n",
        "   return jnp.cos(x)"
      ],
      "execution_count": 5,
      "outputs": []
    },
    {
      "cell_type": "code",
      "metadata": {
        "id": "A6REARrXbQi4"
      },
      "source": [
        "# we decide to use a polynomial model\n",
        "# let maxdeg be the maximum degree of the polynomial\n",
        "maxdeg = 10\n",
        "\n",
        "# then we assume that theta is of length (maxdeg+1)\n",
        "# x is a vector of points at which we seek to evaluate the model\n",
        "def model(theta, x):\n",
        "    out = jnp.zeros(x.shape)\n",
        "    for j in range(maxdeg+1):\n",
        "        out += theta[j]*(x**j)\n",
        "    \n",
        "    return out"
      ],
      "execution_count": 6,
      "outputs": []
    },
    {
      "cell_type": "code",
      "metadata": {
        "colab": {
          "base_uri": "https://localhost:8080/",
          "height": 284
        },
        "id": "2HOC1IV_byJG",
        "outputId": "9025c609-f53d-4072-bf8f-698368d97809"
      },
      "source": [
        "randtheta = np.random.uniform(size=maxdeg+1)\n",
        "xvec = jnp.linspace(-np.pi,np.pi,101)\n",
        "test = model(randtheta, xvec)\n",
        "\n",
        "plt.plot(xvec, test)\n",
        "plt.show()"
      ],
      "execution_count": 7,
      "outputs": [
        {
          "output_type": "stream",
          "text": [
            "WARNING:absl:No GPU/TPU found, falling back to CPU. (Set TF_CPP_MIN_LOG_LEVEL=0 and rerun for more info.)\n"
          ],
          "name": "stderr"
        },
        {
          "output_type": "display_data",
          "data": {
            "image/png": "[encoded data removed]",
            "text/plain": [
              "<Figure size 432x288 with 1 Axes>"
            ]
          },
          "metadata": {
            "tags": [],
            "needs_background": "light"
          }
        }
      ]
    },
    {
      "cell_type": "code",
      "metadata": {
        "colab": {
          "base_uri": "https://localhost:8080/"
        },
        "id": "Cz5HLvBLb8gs",
        "outputId": "216c216f-17ad-42d5-a7f6-901e8dbab91d"
      },
      "source": [
        "# let's sample the true function at the points in xvec\n",
        "yvec = truef(xvec)\n",
        "\n",
        "# this is our training data\n",
        "print(xvec.shape)\n",
        "print(yvec.shape)\n",
        "\n",
        "# form our loss function\n",
        "def loss(theta):\n",
        "    ypred = model(theta, xvec)\n",
        "    return 0.5*jnp.sum(jnp.square(ypred - yvec))\n",
        "\n",
        "jloss = jit(loss)\n",
        "\n",
        "# loss function at a random theta\n",
        "print(jloss(randtheta))\n",
        "\n",
        "# gradient of loss\n",
        "gradloss = grad(loss)\n",
        "jgradloss = jit(gradloss)\n",
        "\n",
        "# Hessian of loss\n",
        "hessloss = jacobian(gradloss)\n",
        "jhessloss = jit(hessloss)"
      ],
      "execution_count": 8,
      "outputs": [
        {
          "output_type": "stream",
          "text": [
            "(101,)\n",
            "(101,)\n",
            "18777550000.0\n"
          ],
          "name": "stdout"
        }
      ]
    },
    {
      "cell_type": "code",
      "metadata": {
        "colab": {
          "base_uri": "https://localhost:8080/"
        },
        "id": "hhXaYFywct3B",
        "outputId": "d8901bc4-5117-4ebb-df6b-99347e4bd8c8"
      },
      "source": [
        "res = scipy.optimize.minimize(fun=jloss, jac=jgradloss, method='BFGS', \n",
        "                              x0=randtheta, options={'disp':True})"
      ],
      "execution_count": 9,
      "outputs": [
        {
          "output_type": "stream",
          "text": [
            "Warning: Desired error not necessarily achieved due to precision loss.\n",
            "         Current function value: 0.000000\n",
            "         Iterations: 20\n",
            "         Function evaluations: 124\n",
            "         Gradient evaluations: 112\n"
          ],
          "name": "stdout"
        }
      ]
    },
    {
      "cell_type": "code",
      "metadata": {
        "colab": {
          "base_uri": "https://localhost:8080/",
          "height": 265
        },
        "id": "0Wd8Hu9ZePmf",
        "outputId": "4b02bf8b-172a-4f2f-a5eb-3d841588dd4c"
      },
      "source": [
        "plt.plot(xvec, truef(xvec), color='black')\n",
        "plt.plot(xvec, model(res.x, xvec), color='red')\n",
        "plt.show()"
      ],
      "execution_count": 10,
      "outputs": [
        {
          "output_type": "display_data",
          "data": {
            "image/png": "[encoded data removed]",
            "text/plain": [
              "<Figure size 432x288 with 1 Axes>"
            ]
          },
          "metadata": {
            "tags": [],
            "needs_background": "light"
          }
        }
      ]
    },
    {
      "cell_type": "code",
      "metadata": {
        "id": "75gFxUoOeoQg"
      },
      "source": [
        "# instead of training in this way, we could equall well\n",
        "# *use* the fact that our loss function is 0.5*sum of squares!\n",
        "def resid(theta):\n",
        "    ypred = model(theta, xvec)\n",
        "    return (ypred - yvec)"
      ],
      "execution_count": 11,
      "outputs": []
    },
    {
      "cell_type": "code",
      "metadata": {
        "id": "LhFccvVSgBSt"
      },
      "source": [
        "jacobresid = jacobian(resid)\n",
        "jjacob = jit(jacobresid)"
      ],
      "execution_count": 12,
      "outputs": []
    },
    {
      "cell_type": "code",
      "metadata": {
        "colab": {
          "base_uri": "https://localhost:8080/"
        },
        "id": "LDXV1l-PgCCO",
        "outputId": "c9621138-bd1e-4ec3-aae2-7311b4b2f6c0"
      },
      "source": [
        "# levenberg-marquardt\n",
        "resls = scipy.optimize.least_squares(fun=resid, jac=jjacob, x0=randtheta, \n",
        "                                     method='lm', verbose=2)"
      ],
      "execution_count": 13,
      "outputs": [
        {
          "output_type": "stream",
          "text": [
            "`xtol` termination condition is satisfied.\n",
            "Function evaluations 9, initial cost 1.8778e+10, final cost 1.4672e-11, first-order optimality 6.86e-03.\n"
          ],
          "name": "stdout"
        }
      ]
    },
    {
      "cell_type": "code",
      "metadata": {
        "colab": {
          "base_uri": "https://localhost:8080/"
        },
        "id": "0cBLOE2hgRDo",
        "outputId": "161521bb-7849-4e46-d3c9-96fe357f36ae"
      },
      "source": [
        "# how good is this compared to the previously computed solution?\n",
        "print(jloss(res.x))\n",
        "print(jloss(resls.x))"
      ],
      "execution_count": 14,
      "outputs": [
        {
          "output_type": "stream",
          "text": [
            "2.7150247e-11\n",
            "1.4702404e-11\n"
          ],
          "name": "stdout"
        }
      ]
    },
    {
      "cell_type": "code",
      "metadata": {
        "colab": {
          "base_uri": "https://localhost:8080/",
          "height": 265
        },
        "id": "tgyZxFBNgbZo",
        "outputId": "0122281c-4c45-4fb3-f9b5-5194aa59cac4"
      },
      "source": [
        "plt.plot(xvec, truef(xvec), color='black')\n",
        "plt.plot(xvec, model(resls.x, xvec), color='red')\n",
        "plt.show()"
      ],
      "execution_count": 15,
      "outputs": [
        {
          "output_type": "display_data",
          "data": {
            "image/png": "[encoded data removed]",
            "text/plain": [
              "<Figure size 432x288 with 1 Axes>"
            ]
          },
          "metadata": {
            "tags": [],
            "needs_background": "light"
          }
        }
      ]
    },
    {
      "cell_type": "code",
      "metadata": {
        "colab": {
          "base_uri": "https://localhost:8080/"
        },
        "id": "gF1KmmcWgrJ5",
        "outputId": "d23fd9b1-16b8-488a-bde4-b26e87efcc20"
      },
      "source": [
        "# if you look closely you'll see that we've recovered the Taylor series coeffficients of cosine\n",
        "print(resls.x)\n",
        "\n",
        "# compute the true coefficients\n",
        "truecoeffs = np.zeros(maxdeg+1)\n",
        "for j in range(maxdeg+1):\n",
        "    if (j % 2) == 0:\n",
        "        truecoeffs[j] = (-1)**(j//2) / np.math.factorial(j)\n",
        "\n",
        "# compute L2 error between optimizer's solution and true Taylor series coefficients\n",
        "print(np.linalg.norm(resls.x - truecoeffs))"
      ],
      "execution_count": 16,
      "outputs": [
        {
          "output_type": "stream",
          "text": [
            "[ 9.99999392e-01  2.31436517e-08 -4.99995258e-01 -6.60866351e-09\n",
            "  4.16607099e-02 -3.33495470e-09 -1.38615999e-03  8.68239959e-10\n",
            "  2.42368368e-05 -4.75117479e-11 -2.21143653e-07]\n",
            "8.130845102979335e-06\n"
          ],
          "name": "stdout"
        }
      ]
    },
    {
      "cell_type": "code",
      "metadata": {
        "id": "D3g9HVR1hfbb"
      },
      "source": [
        ""
      ],
      "execution_count": 16,
      "outputs": []
    }
  ]
}