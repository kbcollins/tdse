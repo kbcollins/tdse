{
 "cells": [
  {
   "cell_type": "code",
   "execution_count": 1,
   "id": "b56b4e7b-b7e8-4446-a869-dc16fcad25e4",
   "metadata": {},
   "outputs": [],
   "source": [
    "import time\n",
    "import numpy as np\n",
    "import numpy.linalg as nl\n",
    "import scipy.linalg as sl\n",
    "import scipy.special as ss\n",
    "import scipy.optimize as so\n",
    "import scipy.integrate as si\n",
    "import matplotlib.pyplot as plt\n",
    "from jax.config import config\n",
    "import jax\n",
    "import jax.numpy as jnp\n",
    "import jax.numpy.linalg as jnl\n",
    "config.update(\"jax_enable_x64\", True)"
   ]
  },
  {
   "cell_type": "markdown",
   "id": "ad17bee5-e941-4ef1-9314-9ea62ce43504",
   "metadata": {},
   "source": [
    "<h1>TDSE Forward Problem</h1>"
   ]
  },
  {
   "cell_type": "code",
   "execution_count": 2,
   "outputs": [],
   "source": [
    "class fourier:\n",
    "\n",
    "    def __init__(self, L, numx, numfour, seed=None):\n",
    "        # store model parameters\n",
    "        self._L = L\n",
    "        self._numx = numx\n",
    "        self._numfour = numfour\n",
    "\n",
    "        # vector of Fourier mode indices\n",
    "        # fournvec = -numfour,...,0,...,numfour\n",
    "        fournvec = np.arange(-numfour, numfour + 1)\n",
    "\n",
    "        # real space grid points (for plotting)\n",
    "        xvec = np.linspace(-L, L, numx)\n",
    "\n",
    "        # matrix for converting Fourier representation to real space\n",
    "        # used like realspacevec = fourspacevec @ fourtox\n",
    "        self._fourtoxmat = np.exp(1j * np.pi * np.outer(fournvec, xvec) / L) / np.sqrt(2 * L)\n",
    "\n",
    "        self._numtoepelms = 2 * numfour + 1\n",
    "\n",
    "        # Toeplitz indexing matrix, used for constructing\n",
    "        # Toeplitz matrix from a vector which as been set up like:\n",
    "        # jnp.concatenate([jnp.flipud(row.conj()), row[1:]])\n",
    "        aa = (-1) * np.arange(0, self._numtoepelms).reshape(self._numtoepelms, 1)\n",
    "        bb = [np.arange(self._numtoepelms - 1, 2 * self._numtoepelms - 1)]\n",
    "        self._toepindxmat = np.array(aa + bb)\n",
    "\n",
    "        self.init('uniform', seed)\n",
    "\n",
    "\n",
    "    def init(self, dist='uniform', seed=None):\n",
    "        if dist=='normal':\n",
    "            self.theta = 0.001 * np.random.default_rng(seed).normal(size=numtoepelms * 2 - 1)  # mean=0, std=1, scale=0.001\n",
    "        elif dist=='uniform':\n",
    "            self.theta = 0.02 * np.random.default_rng(seed).random(size=2 * self._numtoepelms - 1) - 0.01  # interval=[-0.01, 0.01)\n",
    "        else:\n",
    "            print('Error fourier.init(): Distribution selection not recognized.')\n",
    "\n",
    "\n",
    "    def tox(self):\n",
    "        ##################################################\n",
    "        # Function for transforming the Fourier model\n",
    "        # into a real space potential\n",
    "        # - The Fourier model is the Toeplitz representation\n",
    "        #   of vmat split into real and imaginary parts\n",
    "        #   and concatenated together,\n",
    "        ##################################################\n",
    "        thetaR = self.theta[:self._numtoepelms]\n",
    "        thetaI = jnp.concatenate((jnp.array([0.0]), self.theta[numtoepelms:]))\n",
    "        thetacomplex = thetaR + 1j * thetaI\n",
    "\n",
    "        potentialfourier = np.sqrt(2 * L) * np.concatenate([np.conjugate(np.flipud(thetacomplex[1:(self._numfour + 1)])), thetacomplex[:(self._numfour + 1)]])\n",
    "\n",
    "        potentialreal = jnp.real(potentialfourier @ self._fourtoxmat)\n",
    "\n",
    "        return potentialreal\n",
    "\n",
    "\n",
    "    def tovmat(self):\n",
    "        #################################################\n",
    "        # theta is a vector containing the concatenation\n",
    "        # of the real and imaginary parts of vmat\n",
    "        # its size should be\n",
    "        # 2 * numtoepelms - 1 = 4 * numfour + 1\n",
    "        #################################################\n",
    "        # to use theta we need to first recombine the real\n",
    "        # and imaginary parts into a vector of complex values\n",
    "        vtoephatR = self.theta[:self._numtoepelms]\n",
    "        vtoephatI = jnp.concatenate((jnp.array([0.0]), self.theta[self._numtoepelms:]))\n",
    "        vtoephat = vtoephatR + 1j * vtoephatI\n",
    "\n",
    "        # construct vmathat from complex toeplitz vector\n",
    "        vmathat = jnp.concatenate([jnp.flipud(jnp.conj(vtoephat)), vtoephat[1:]])[self._toepindxmat]\n",
    "\n",
    "        return vmathat\n",
    "\n",
    "\n",
    "    def thetatovmat(theta, *args):\n",
    "        #################################################\n",
    "        # theta is a vector containing the concatenation\n",
    "        # of the real and imaginary parts of vmat\n",
    "        # its size should be\n",
    "        # 2 * numtoepelms - 1 = 4 * numfour + 1\n",
    "        #################################################\n",
    "        L, numx, numfour = args\n",
    "        numtoepelms = 2 * numfour + 1\n",
    "\n",
    "        # Toeplitz indexing matrix, used for constructing\n",
    "        # Toeplitz matrix from a vector which as been set up like:\n",
    "        # jnp.concatenate([jnp.flipud(row.conj()), row[1:]])\n",
    "        aa = (-1) * np.arange(0, numtoepelms).reshape(numtoepelms, 1)\n",
    "        bb = [np.arange(numtoepelms - 1, 2 * numtoepelms - 1)]\n",
    "        toepindxmat = np.array(aa + bb)\n",
    "\n",
    "        # to use theta we need to first recombine the real\n",
    "        # and imaginary parts into a vector of complex values\n",
    "        vtoephatR = theta[:numtoepelms]\n",
    "        vtoephatI = jnp.concatenate((jnp.array([0.0]), theta[numtoepelms:]))\n",
    "        vtoephat = vtoephatR + 1j * vtoephatI\n",
    "\n",
    "        # construct vmathat from complex toeplitz vector\n",
    "        vmathat = jnp.concatenate([jnp.flipud(jnp.conj(vtoephat)), vtoephat[1:]])[toepindxmat]\n",
    "\n",
    "        return vmathat\n",
    "\n",
    "\n",
    "    def grad(self):\n",
    "        # this code computes the real part of \\nabla_\\theta H(\\theta)\n",
    "        myeye = jnp.eye(self._numtoepelms)\n",
    "        wsR = jnp.hstack([jnp.fliplr(myeye), myeye[:,1:]]).T\n",
    "        ctrmatsR = wsR[self._toepindxmat]\n",
    "\n",
    "        # this code computes the imaginary part of \\nabla_\\theta H(\\theta)\n",
    "        wsI = 1.0j * jnp.hstack([-jnp.fliplr(myeye), myeye[:, 1:]])\n",
    "        wsI = wsI[1:, :]\n",
    "        wsI = wsI.T\n",
    "        ctrmatsI = wsI[self._toepindxmat]\n",
    "\n",
    "        # concatenate the real and imaginary parts of\n",
    "        gradmat = jnp.concatenate([ctrmatsR, ctrmatsI], axis=2)\n",
    "\n",
    "        return gradmat\n",
    "\n",
    "\n",
    "    def thetatograd(_, *args):\n",
    "        L, numx, numfour = args\n",
    "        numtoepelms = 2 * numfour + 1\n",
    "\n",
    "        # Toeplitz indexing matrix, used for constructing\n",
    "        # Toeplitz matrix from a vector which as been set up like:\n",
    "        # jnp.concatenate([jnp.flipud(row.conj()), row[1:]])\n",
    "        aa = (-1) * np.arange(0, numtoepelms).reshape(numtoepelms, 1)\n",
    "        bb = [np.arange(numtoepelms - 1, 2 * numtoepelms - 1)]\n",
    "        toepindxmat = np.array(aa + bb)\n",
    "\n",
    "        # this code computes the real part of \\nabla_\\theta H(\\theta)\n",
    "        myeye = jnp.eye(numtoepelms)\n",
    "        wsR = jnp.hstack([jnp.fliplr(myeye), myeye[:,1:]]).T\n",
    "        ctrmatsR = wsR[toepindxmat]\n",
    "\n",
    "        # this code computes the imaginary part of \\nabla_\\theta H(\\theta)\n",
    "        wsI = 1.0j * jnp.hstack([-jnp.fliplr(myeye), myeye[:, 1:]])\n",
    "        wsI = wsI[1:, :]\n",
    "        wsI = wsI.T\n",
    "        ctrmatsI = wsI[toepindxmat]\n",
    "\n",
    "        # concatenate the real and imaginary parts of\n",
    "        gradmat = jnp.concatenate([ctrmatsR, ctrmatsI], axis=2)\n",
    "\n",
    "        return gradmat"
   ],
   "metadata": {
    "collapsed": false,
    "pycharm": {
     "name": "#%%\n"
    }
   }
  },
  {
   "cell_type": "code",
   "execution_count": 3,
   "id": "c7d9113b-b601-4c1d-85e2-ec227a142132",
   "metadata": {},
   "outputs": [
    {
     "name": "stdout",
     "output_type": "stream",
     "text": [
      "L = 15.0\n",
      "numx = 1025\n",
      "numfour = 32\n",
      "numts = 20\n",
      "dt = 0.01\n"
     ]
    }
   ],
   "source": [
    "# size of spatial domain\n",
    "L = 15.0\n",
    "\n",
    "# number of real space grid points (for plotting)\n",
    "numx = 1025\n",
    "\n",
    "# real space grid points (for plotting)\n",
    "xvec = np.linspace(-L, L, numx)\n",
    "\n",
    "# number of Fourier basis functions\n",
    "numfour = 32  # 64\n",
    "\n",
    "# number of Toeplitz elements in the Fourier representation\n",
    "numtoepelms = 2 * numfour + 1\n",
    "\n",
    "# set number of time steps\n",
    "# trajectory's length = numts + 1\n",
    "numts = 20  # 20\n",
    "\n",
    "# set time-step size\n",
    "dt = 1e-2  # 1e-2\n",
    "\n",
    "# print computational environment variables to stdout\n",
    "print('L =', L)\n",
    "print('numx =', numx)\n",
    "print('numfour =', numfour)\n",
    "print('numts =', numts)\n",
    "print('dt =', dt)"
   ]
  },
  {
   "cell_type": "code",
   "execution_count": 4,
   "outputs": [],
   "source": [
    "###############################################################\n",
    "# utilities\n",
    "###############################################################\n",
    "\n",
    "# vector of Fourier mode indices\n",
    "# fournvec = -numfour,...,0,...,numfour\n",
    "fournvec = np.arange(-numfour, numfour + 1)\n",
    "\n",
    "# matrix for converting Fourier representation to real space\n",
    "# used like realspacevec = fourspacevec @ fourtox\n",
    "fourtox = np.exp(1j * np.pi * np.outer(fournvec, xvec) / L) / np.sqrt(2 * L)"
   ],
   "metadata": {
    "collapsed": false,
    "pycharm": {
     "name": "#%%\n"
    }
   }
  },
  {
   "cell_type": "code",
   "execution_count": 5,
   "outputs": [
    {
     "name": "stdout",
     "output_type": "stream",
     "text": [
      "trim = 171\n",
      "\n"
     ]
    }
   ],
   "source": [
    "###############################################################\n",
    "# Set trim of real space region\n",
    "###############################################################\n",
    "\n",
    "trim = np.where(xvec >= -10)[0][0]  # 125\n",
    "print('trim =', trim)\n",
    "print('')  # blank line"
   ],
   "metadata": {
    "collapsed": false,
    "pycharm": {
     "name": "#%%\n"
    }
   }
  },
  {
   "cell_type": "code",
   "execution_count": 6,
   "outputs": [],
   "source": [
    "# ###############################################################\n",
    "# # Toeplitz indexing matrix\n",
    "# ###############################################################\n",
    "#\n",
    "# # Toeplitz indexing matrix, used for constructing Toeplitz matrix\n",
    "# # from a vector setup like:\n",
    "# # jnp.concatenate([jnp.flipud(row.conj()), row[1:]])\n",
    "# aa = (-1) * np.arange(0, numtoepelms).reshape(numtoepelms, 1)\n",
    "# bb = [np.arange(numtoepelms - 1, 2 * numtoepelms - 1)]\n",
    "# toepindxmat = np.array(aa + bb)\n",
    "# # print(toepindxmat.shape)"
   ],
   "metadata": {
    "collapsed": false,
    "pycharm": {
     "name": "#%%\n"
    }
   }
  },
  {
   "cell_type": "code",
   "execution_count": 7,
   "outputs": [],
   "source": [
    "# ###############################################################\n",
    "# # function for transforming theta to a real space potential\n",
    "# ###############################################################\n",
    "#\n",
    "# def thetatoreal(theta):\n",
    "#     ##################################################\n",
    "#     # this function is used to transform theta, which\n",
    "#     # is the Toeplitz representation of vmat that has\n",
    "#     # also been split into real and imaginary parts\n",
    "#     # and concatenated together, into a real space\n",
    "#     # potential\n",
    "#     ##################################################\n",
    "#     thetaR = theta[:numtoepelms]\n",
    "#     thetaI = jnp.concatenate((jnp.array([0.0]), theta[numtoepelms:]))\n",
    "#     thetacomplex = thetaR + 1j * thetaI\n",
    "#     potentialfourier = np.sqrt(2 * L) * np.concatenate([np.conjugate(np.flipud(thetacomplex[1:(numfour + 1)])), thetacomplex[:(numfour + 1)]])\n",
    "#     potentialreal = potentialfourier @ fourtox\n",
    "#     return potentialreal"
   ],
   "metadata": {
    "collapsed": false,
    "pycharm": {
     "name": "#%%\n"
    }
   }
  },
  {
   "cell_type": "markdown",
   "source": [
    "---\n",
    "**Potential Function**"
   ],
   "metadata": {
    "collapsed": false
   }
  },
  {
   "cell_type": "code",
   "execution_count": 8,
   "outputs": [],
   "source": [
    "# define potential for generating training data\n",
    "\n",
    "def v(z):\n",
    "    # harmonic oscillator potential (should be exact for Chebyshev)\n",
    "    return 0.5 * z**2\n",
    "\n",
    "    # symmetric double well potential\n",
    "    # return 2.5e-3 * (z ** 2 - 25) ** 2\n",
    "\n",
    "    # asymmetric double well potential\n",
    "    # c0 = 4.35\n",
    "    # c1 = 9.40e-1\n",
    "    # c2 = -3.56e-1\n",
    "    # c3 = -4.66e-2\n",
    "    # c4 = 1.46e-2\n",
    "    # c5 = 6.76e-4\n",
    "    # c6 = -1.26e-4\n",
    "    # c7 = -5.43e-6\n",
    "    # c8 = 4.12e-7\n",
    "    # c9 = 1.65e-8\n",
    "    # x = z + 0.8\n",
    "    # return 0.5 * (c0 + c1 * x + c2 * x ** 2 + c3 * x ** 3 + c4 * x ** 4 + c5 * x ** 5 + c6 * x ** 6 + c7 * x ** 7 + c8 * x ** 8 + c9 * x ** 9)\n",
    "\n",
    "    # soft coulomb potential\n",
    "    # return -1 / np.sqrt(x**2 + 0.25)\n",
    "\n",
    "# true potential on real space grid (for plotting)\n",
    "vtruexvec = v(xvec)\n",
    "\n",
    "# compute the potential operator matrix, vmat\n",
    "vtruetoep = []\n",
    "for thisfourn in range(numtoepelms):\n",
    "    def intgrnd(x):\n",
    "        return v(x) * np.exp(-1j * np.pi * thisfourn * x / L) / (2 * L)\n",
    "    def rintgrnd(x):\n",
    "        return intgrnd(x).real\n",
    "    def iintgrnd(x):\n",
    "        return intgrnd(x).imag\n",
    "    vtruetoep.append(si.quad(rintgrnd, -L, L, limit=100)[0] + 1j * si.quad(iintgrnd, -L, L, limit=100)[0])\n",
    "\n",
    "vtruetoep = jnp.array(vtruetoep)\n"
   ],
   "metadata": {
    "collapsed": false,
    "pycharm": {
     "name": "#%%\n"
    }
   }
  },
  {
   "cell_type": "code",
   "execution_count": 9,
   "outputs": [
    {
     "name": "stdout",
     "output_type": "stream",
     "text": [
      "Shape thetatrue: (129,)\n"
     ]
    }
   ],
   "source": [
    "# select the model of the potential\n",
    "model = fourier\n",
    "\n",
    "# create a model class object and save as thetatrue\n",
    "thetatrue = model(L, numx, numfour)\n",
    "\n",
    "# load thetatrue with the true potential represented in\n",
    "# terms of the model being used.\n",
    "# - here we are using the fourier model\n",
    "thetatrue.theta = jnp.concatenate((vtruetoep.real, vtruetoep[1:].imag))\n",
    "# thetatrue = jnp.concatenate((vtruetoep.real, vtruetoep[1:].imag))\n",
    "\n",
    "print('Shape thetatrue:', thetatrue.theta.shape)"
   ],
   "metadata": {
    "collapsed": false,
    "pycharm": {
     "name": "#%%\n"
    }
   }
  },
  {
   "cell_type": "code",
   "execution_count": 10,
   "outputs": [
    {
     "name": "stdout",
     "output_type": "stream",
     "text": [
      "l2 error vtruexvecrec: 0.5079525437523776\n",
      "l-inf error vtruexvecrec: 0.040670882387431107\n"
     ]
    },
    {
     "data": {
      "text/plain": "<Figure size 432x288 with 1 Axes>",
      "image/png": "[encoded data removed]"
     },
     "metadata": {
      "needs_background": "light"
     },
     "output_type": "display_data"
    }
   ],
   "source": [
    "# thetatrue = jnp.concatenate((vtruetoep.real, vtruetoep[1:].imag))\n",
    "# vtruemat = sl.toeplitz(r=vtruetoep, c=np.conj(vtruetoep))\n",
    "# vtruexvecrec = thetatoreal(thetatrue)\n",
    "# print('l2 error vtruexvecrec:', nl.norm(vtruexvecrec[trim:-trim] - vtruexvec[trim:-trim]))\n",
    "# print('l-inf error vtruexvecrec:', np.amax(np.abs(vtruexvecrec[trim:-trim] - vtruexvec[trim:-trim])))\n",
    "\n",
    "print('l2 error vtruexvecrec:', nl.norm(thetatrue.tox()[trim:-trim] - vtruexvec[trim:-trim]))\n",
    "print('l-inf error vtruexvecrec:', np.amax(np.abs(thetatrue.tox()[trim:-trim] - vtruexvec[trim:-trim])))\n",
    "\n",
    "# plot true potential\n",
    "plt.plot(xvec, vtruexvec, label='true')\n",
    "plt.plot(xvec, thetatrue.tox(), label='rec')\n",
    "plt.title('Plot of v(x)')\n",
    "plt.xlabel('x')\n",
    "plt.legend()\n",
    "plt.show()"
   ],
   "metadata": {
    "collapsed": false,
    "pycharm": {
     "name": "#%%\n"
    }
   }
  },
  {
   "cell_type": "markdown",
   "source": [
    "---\n",
    "**Initial States - a0**"
   ],
   "metadata": {
    "collapsed": false
   }
  },
  {
   "cell_type": "code",
   "execution_count": 11,
   "outputs": [
    {
     "name": "stdout",
     "output_type": "stream",
     "text": [
      "Number of a0 states: 1\n"
     ]
    },
    {
     "data": {
      "text/plain": "<Figure size 432x288 with 1 Axes>",
      "image/png": "[encoded data removed]"
     },
     "metadata": {
      "needs_background": "light"
     },
     "output_type": "display_data"
    },
    {
     "name": "stdout",
     "output_type": "stream",
     "text": [
      "L2 Error of reconstructed psi0:\n",
      "7.476210590807997e-05\n",
      "L-infinity Error psi0:\n",
      "3.137317008559103e-05\n"
     ]
    }
   ],
   "source": [
    "# define initial state functions\n",
    "def psi0_0(x):\n",
    "    return 10 * np.exp(-((x + 3) / 4)**2) * (2.0 / np.pi)**0.25\n",
    "    # return 10 * np.exp(-((x + 3) / 2)**2) * (2.0 / np.pi)**0.25\n",
    "\n",
    "def psi0_1(x):\n",
    "    return np.exp(-((x - 3) / 4)**2) * (2.0 / np.pi)**0.25\n",
    "    # return np.exp(-((x - 3) / 2)**2) * (2.0 / np.pi)**0.25\n",
    "\n",
    "def psi0_2(x):\n",
    "    # return np.exp(-x**2) * (2.0 / np.pi)**0.25\n",
    "    return np.exp(-((x - 8) / 4)**2) * (2.0 / np.pi)**0.25\n",
    "    # return np.exp(-((x - 6)/4)**2) * (2.0 / np.pi)**0.25\n",
    "\n",
    "def psi0_3(x):\n",
    "    # a weird non-symmetric wavefunction\n",
    "    # return np.abs(np.sin((0.15*x - 0.5)**2))\n",
    "    return np.exp(-((x + 8) / 4)**2) * (2.0 / np.pi)**0.25\n",
    "    # return np.exp(-((x + 6)/4)**2) * (2.0 / np.pi)**0.25\n",
    "\n",
    "def psi0_4(x):\n",
    "    return np.exp(-((x - 12) / 4)**2) * (2.0 / np.pi)**0.25\n",
    "    # return np.exp(-(x - 11)**2) * (2.0 / np.pi)**0.25\n",
    "\n",
    "def psi0_5(x):\n",
    "    return np.exp(-((x + 12) / 4)**2) * (2.0 / np.pi)**0.25\n",
    "    # return np.exp(-(x + 11)**2) * (2.0 / np.pi)**0.25\n",
    "\n",
    "\n",
    "# function for normalizing initial wave functions\n",
    "# and transforming them to the Fourier representation\n",
    "def mka0(psi0fn):\n",
    "    # compute psi0 normalization term\n",
    "    psi0fn_prob_intgrnd = lambda x: np.abs(psi0fn(x)) ** 2\n",
    "    psi0fn_norm = np.sqrt(si.quad(psi0fn_prob_intgrnd, -L, L)[0])\n",
    "\n",
    "    # normalized psi function (for integration)\n",
    "    norm_psi0fn = lambda x: psi0fn(x) / psi0fn_norm\n",
    "\n",
    "    # compute the Fourier representation of psi0fn\n",
    "    a0raw = []\n",
    "    for thisfourn in range (numfour + 1):\n",
    "        def intgrnd(x):\n",
    "            return norm_psi0fn(x) * np.exp(-1j * np.pi * thisfourn * x / L) / np.sqrt(2 * L)\n",
    "        def rintgrnd(x):\n",
    "            return intgrnd(x).real\n",
    "        def iintgrnd(x):\n",
    "            return intgrnd(x).imag\n",
    "        a0raw.append(si.quad(rintgrnd, -L, L, limit=100)[0] + 1j * si.quad(iintgrnd, -L, L, limit=100)[0])\n",
    "\n",
    "    a0 = np.concatenate([np.conjugate(np.flipud(a0raw[1:])), a0raw])\n",
    "    a0 = jnp.array(a0)\n",
    "    normpsi0x = norm_psi0fn(xvec)\n",
    "\n",
    "    return a0, normpsi0x\n",
    "\n",
    "\n",
    "# generate initial state vector\n",
    "# pick initial un-normalized wave functions\n",
    "psi0fnvec = [psi0_0]  # [psi0_0, psi0_1, psi0_2, psi0_3]\n",
    "\n",
    "# make initial states, a0, with mka0\n",
    "a0vec = []\n",
    "normpsi0xvec = []\n",
    "normpsi0recxvec = []\n",
    "for thispsi0fn in psi0fnvec:\n",
    "    tempa0, tempnormpsi0x = mka0(thispsi0fn)\n",
    "    a0vec.append(tempa0)\n",
    "    normpsi0xvec.append(tempnormpsi0x)\n",
    "    normpsi0recxvec.append(tempa0 @ fourtox)\n",
    "\n",
    "a0vec = jnp.array(a0vec)\n",
    "normpsi0xvec = np.array(normpsi0xvec)\n",
    "normpsi0recxvec = np.array(normpsi0recxvec)\n",
    "\n",
    "print('Number of a0 states:', a0vec.shape[0])\n",
    "\n",
    "# plot the real part of the normalized psi0\n",
    "for i in range(len(a0vec)):\n",
    "    plt.plot(xvec, normpsi0recxvec[i].real, label=f'Rec {i}')\n",
    "    plt.plot(xvec, normpsi0xvec[i].real, label=f'Truth {i}')\n",
    "plt.title('Real Part of Initial Wave Functions')\n",
    "plt.xlabel('x')\n",
    "plt.legend()\n",
    "plt.show()\n",
    "\n",
    "print('L2 Error of reconstructed psi0:', nl.norm(normpsi0recxvec - normpsi0xvec), sep='\\n')\n",
    "print('L-infinity Error psi0:', np.max(np.abs(normpsi0recxvec - normpsi0xvec)), sep='\\n')"
   ],
   "metadata": {
    "collapsed": false,
    "pycharm": {
     "name": "#%%\n"
    }
   }
  },
  {
   "cell_type": "markdown",
   "source": [
    "---\n",
    "<h3>Foward Propagation - Construct the Training Data</h3>"
   ],
   "metadata": {
    "collapsed": false
   }
  },
  {
   "cell_type": "code",
   "execution_count": 12,
   "outputs": [
    {
     "name": "stdout",
     "output_type": "stream",
     "text": [
      "Shape kmat (65, 65)\n",
      "Shape hmattrue (65, 65)\n",
      "Done with eigen-decomposition\n",
      "Shape propatrue (65, 65)\n",
      "Done propagating.\n"
     ]
    }
   ],
   "source": [
    "# make kinetic operator in the Fourier representation\n",
    "# (this is constant for a given system)\n",
    "kmat = np.diag(np.arange(-numfour, numfour + 1) ** 2 * np.pi ** 2 / (2 * L ** 2))\n",
    "print('Shape kmat', kmat.shape)\n",
    "\n",
    "# Hamiltonian operator with true potential\n",
    "# in the Fourier representation\n",
    "hmattrue = kmat + thetatrue.tovmat()\n",
    "# hmattrue = kmat + vtruemat\n",
    "print('Shape hmattrue', hmattrue.shape)\n",
    "\n",
    "# eigen-decomposition of the Hamiltonian matrix\n",
    "spctrue, stttrue = jnl.eigh(hmattrue)\n",
    "print('Done with eigen-decomposition')\n",
    "\n",
    "# compute propagator matrix\n",
    "propatrue = stttrue @ jnp.diag(jnp.exp(-1j * spctrue * dt)) @ stttrue.conj().T\n",
    "print('Shape propatrue', propatrue.shape)\n",
    "\n",
    "# propagate system starting from initial \"a\" state\n",
    "# using the Hamiltonian constructed from the true potential\n",
    "# (used for generating training data)\n",
    "amattruevec = []\n",
    "for thisa0 in a0vec:\n",
    "    tempamat = [thisa0.copy()]\n",
    "    for _ in range(numts):\n",
    "        tempamat.append(propatrue @ tempamat[-1])\n",
    "\n",
    "    amattruevec.append(tempamat)\n",
    "\n",
    "amattruevec = jnp.array(amattruevec)\n",
    "\n",
    "print('Done propagating.')"
   ],
   "metadata": {
    "collapsed": false,
    "pycharm": {
     "name": "#%%\n"
    }
   }
  },
  {
   "cell_type": "markdown",
   "source": [
    "---\n",
    "<h3>Inverse Problem - Adjoint Method</h3>"
   ],
   "metadata": {
    "collapsed": false,
    "pycharm": {
     "name": "#%% md\n"
    }
   }
  },
  {
   "cell_type": "code",
   "execution_count": 13,
   "outputs": [
    {
     "name": "stdout",
     "output_type": "stream",
     "text": [
      "jitchebwaveobject(thetatrue.theta) = 0.0\n"
     ]
    }
   ],
   "source": [
    "def fourwaveobject(theta):\n",
    "    # #################################################\n",
    "    # # theta is a vector containing the concatenation\n",
    "    # # of the real and imaginary parts of vmat\n",
    "    # # its size should be\n",
    "    # # 2 * numtoepelms - 1 = 4 * numfour + 1\n",
    "    # #################################################\n",
    "    #\n",
    "    # # to use theta we need to first recombine the real\n",
    "    # # and imaginary parts into a vector of complex values\n",
    "    # vtoephatR = theta[:numtoepelms]\n",
    "    # vtoephatI = jnp.concatenate((jnp.array([0.0]), theta[numtoepelms:]))\n",
    "    # vtoephat = vtoephatR + 1j * vtoephatI\n",
    "    #\n",
    "    # # construct vmathat from complex toeplitz vector\n",
    "    # vhatmat = jnp.concatenate([jnp.flipud(jnp.conj(vtoephat)), vtoephat[1:]])[toepindxmat]\n",
    "\n",
    "    # construct vmathat using the model class method\n",
    "    # .tovmat(), theta is what ever the model class\n",
    "    # uses as the data structure to store the potential\n",
    "    # any other arguments are what is required to define\n",
    "    # the model\n",
    "    vhatmat = model.thetatovmat(theta, L, numx, numfour)\n",
    "\n",
    "    # **************************************************\n",
    "    # the code enclosed by ' # ****' is the same regardless\n",
    "    # of what model you use\n",
    "    # **************************************************\n",
    "    # Construct Hamiltonian matrix\n",
    "    hhatmat = kmat + vhatmat\n",
    "\n",
    "    # eigen-decomposition of the Hamiltonian matrix\n",
    "    spchat, stthat = jnl.eigh(hhatmat)\n",
    "\n",
    "    # compute propagator matrix\n",
    "    propahat = stthat @ jnp.diag(jnp.exp(-1j * spchat * dt)) @ stthat.conj().T\n",
    "\n",
    "    # forward propagation loop\n",
    "    ahatmatvec = []\n",
    "    for r in range(a0vec.shape[0]):\n",
    "        thisahatmat = [a0vec[r].copy()]\n",
    "\n",
    "        # propagate system starting from initial \"a\" state\n",
    "        for _ in range(numts):\n",
    "            # propagate the system one time-step\n",
    "            thisahatmat.append(propahat @ thisahatmat[-1])\n",
    "\n",
    "        ahatmatvec.append(thisahatmat)\n",
    "\n",
    "    # transform python list to a jax.numpy array\n",
    "    ahatmatvec = jnp.array(ahatmatvec)\n",
    "\n",
    "    # compute objective functions\n",
    "    resid = ahatmatvec - amattruevec\n",
    "\n",
    "    # as per our math, we need to take the real part of\n",
    "    # the objective\n",
    "    rtnobjvec = jnp.real(0.5 * jnp.sum(jnp.conj(resid) * resid, axis=1))\n",
    "    rtnobj = jnp.sum(rtnobjvec)\n",
    "    # **************************************************\n",
    "\n",
    "    return rtnobj\n",
    "\n",
    "\n",
    "# jit wavefnobject()\n",
    "jitfourwaveobject = jax.jit(fourwaveobject)\n",
    "\n",
    "# precompile jitwavefnobject with Chebyshev representation\n",
    "# of the true potential\n",
    "# JAX can only deal with JAX, NumPy, Python or list type objects\n",
    "# so to get around this, we are going to pass the data structure which\n",
    "# stores the model's representation of the potential, i.e, theta\n",
    "# print('jitchebwaveobject(thetatrue) =', fourwaveobject(thetatrue))\n",
    "print('jitchebwaveobject(thetatrue.theta) =', jitfourwaveobject(thetatrue.theta))"
   ],
   "metadata": {
    "collapsed": false,
    "pycharm": {
     "name": "#%%\n"
    }
   }
  },
  {
   "cell_type": "code",
   "execution_count": 14,
   "outputs": [
    {
     "name": "stdout",
     "output_type": "stream",
     "text": [
      "nl.norm(jitchebwavegradsjax(vtruecheb)) = 0.0\n"
     ]
    }
   ],
   "source": [
    "jitfourwaveobjectjax = jax.jit(jax.grad(fourwaveobject))\n",
    "\n",
    "# precompile chebwavegradsjax with Chebyshev representation\n",
    "# of the true potential\n",
    "print('nl.norm(jitchebwavegradsjax(vtruecheb)) =', nl.norm(jitfourwaveobjectjax(thetatrue.theta)))"
   ],
   "metadata": {
    "collapsed": false,
    "pycharm": {
     "name": "#%%\n"
    }
   }
  },
  {
   "cell_type": "markdown",
   "source": [
    "---\n",
    "**Adjoint Method**"
   ],
   "metadata": {
    "collapsed": false,
    "pycharm": {
     "name": "#%% md\n"
    }
   }
  },
  {
   "cell_type": "code",
   "execution_count": 15,
   "outputs": [
    {
     "name": "stdout",
     "output_type": "stream",
     "text": [
      "nl.norm(jitchebwavegradsadj(vtruecheb)) = 4.0690680447589486e-15\n"
     ]
    }
   ],
   "source": [
    "###############################################################\n",
    "# adjoint method for computing gradient\n",
    "###############################################################\n",
    "\n",
    "# function for computing gradients using adjoint method\n",
    "def fourwavegradsadj(theta):\n",
    "    #################################################\n",
    "    # theta is a vector containing the concatenation\n",
    "    # of the real and imaginary parts of vmat\n",
    "    # its size should be\n",
    "    # 2 * numtoepelms - 1 = 4 * numfour + 1\n",
    "    #################################################\n",
    "\n",
    "    # # to use theta we need to first recombine the real\n",
    "    # # and imaginary parts into a vector of complex values\n",
    "    # vtoephatR = theta[:numtoepelms]\n",
    "    # vtoephatI = jnp.concatenate((jnp.array([0.0]), theta[numtoepelms:]))\n",
    "    # vtoephat = vtoephatR + 1j * vtoephatI\n",
    "    #\n",
    "    # # construct vmathat from complex toeplitz vector\n",
    "    # vhatmat = jnp.concatenate([jnp.flipud(jnp.conj(vtoephat)), vtoephat[1:]])[toepindxmat]\n",
    "\n",
    "    # construct vmathat using the model class method\n",
    "    # .tovmat(), theta is what ever the model class\n",
    "    # uses as the data structure to store the potential\n",
    "    # any other arguments are what is required to define\n",
    "    # the model\n",
    "    vhatmat = model.thetatovmat(theta, L, numx, numfour)\n",
    "\n",
    "    # **************************************************\n",
    "    # the code enclosed by ' # ****' is the same regardless\n",
    "    # of what model you use\n",
    "    # **************************************************\n",
    "    # Construct Hamiltonian matrix\n",
    "    hhatmat = kmat + vhatmat\n",
    "\n",
    "    # eigen-decomposition of the Hamiltonian matrix\n",
    "    spchat, stthat = jnl.eigh(hhatmat)\n",
    "\n",
    "    # compute propagator matrices\n",
    "    propahat = stthat @ jnp.diag(jnp.exp(-1j * spchat * dt)) @ stthat.conj().T\n",
    "    proplam = jnp.transpose(jnp.conjugate(propahat))\n",
    "\n",
    "    # forward propagation\n",
    "    ahatmatvec = []\n",
    "    lammatvec = []\n",
    "    for r in range(a0vec.shape[0]):\n",
    "        ####################################################\n",
    "        # build ahatmat, i.e., forward propagate of the\n",
    "        # system with theta starting from a given initial\n",
    "        # state a0\n",
    "        ####################################################\n",
    "\n",
    "        # initialize thisahatmat with given a0 state\n",
    "        thisahatmat = [a0vec[r].copy()]\n",
    "\n",
    "        # forward propagate of the system with theta\n",
    "        for i in range(numts):\n",
    "            # propagate the system one time-step and store the result\n",
    "            thisahatmat.append(propahat @ thisahatmat[-1])\n",
    "\n",
    "        # store compute ahatmat\n",
    "        ahatmatvec.append(jnp.array(thisahatmat))\n",
    "\n",
    "        ####################################################\n",
    "        # build lammat\n",
    "        # \\lambda_N = (\\hat{a}_N - a_N)\n",
    "        # \\lambda_j = (\\hat{a}_j - a_j) + [\\nabla_a \\phi_{\\Delta t} (a_j; \\theta)]^\\dagger \\lambda_{j+1}\n",
    "        # [\\nabla_a \\phi_{\\Delta t} (a_j; \\theta)]^\\dagger = [exp{-i H \\Delta t}]^\\dagger\n",
    "        ####################################################\n",
    "\n",
    "        # compute the error of ahatmatvec[r] WRT amattruevec[r]\n",
    "        thisahatmaterr = ahatmatvec[r] - amattruevec[r]\n",
    "\n",
    "        # initialize thislammat\n",
    "        thislammat = [thisahatmaterr[-1]]\n",
    "\n",
    "        # build lammat backwards then flip\n",
    "        for i in range(2, numts + 2):\n",
    "            thislammat.append(thisahatmaterr[-i] + proplam @ thislammat[-1])\n",
    "\n",
    "        # flip thislammat, make into a jax array, and add to lammatvec\n",
    "        lammatvec.append(jnp.flipud(jnp.array(thislammat)))\n",
    "\n",
    "    # make lists into JAX array object\n",
    "    ahatmatvec = jnp.array(ahatmatvec)\n",
    "    lammatvec = jnp.array(lammatvec)\n",
    "    # **************************************************\n",
    "\n",
    "\n",
    "    ####################################################\n",
    "    # the remainder of this function is for computing\n",
    "    # the gradient of the exponential matrix\n",
    "    # - The blocks of code surrounded by '# ***...'\n",
    "    #   are common to the adjoint method when using\n",
    "    #   the Fourier basis to discretize, regardless\n",
    "    #   of the model\n",
    "    ####################################################\n",
    "\n",
    "    # **************************************************\n",
    "    # the code enclosed by ' # ****' is the same regardless\n",
    "    # of what model you use\n",
    "    # - Given the diagonalization H = U D U^\\dagger\n",
    "    # - The final gradient \\nabla_\\theta \\phi(a;\\theta)\n",
    "    #   is Q = U M U^\\dagger, where M = A (*) mask\n",
    "    #   and A = U^\\dagger [\\nabla_\\theta H = \\nabla_\\theta model of vhatmat or v(x)] U\n",
    "    # **************************************************\n",
    "    offdiagmask = jnp.ones((numtoepelms, numtoepelms)) - jnp.eye(numtoepelms)\n",
    "    expspec = jnp.exp(-1j * dt * spchat)\n",
    "    e1, e2 = jnp.meshgrid(expspec, expspec)\n",
    "    s1, s2 = jnp.meshgrid(spchat, spchat)\n",
    "    denom = offdiagmask * (-1j * dt) * (s1 - s2) + jnp.eye(numtoepelms)\n",
    "    mask = offdiagmask * (e1 - e2)/denom + jnp.diag(expspec)\n",
    "\n",
    "    # get the gradient of the model, function expects\n",
    "    # model.thetatograd(theta, *args), where args is\n",
    "    # what ever elements the model needs to be fully defined\n",
    "    # - here, our model is the Fourier basis\n",
    "    modelgrad = model.thetatograd(theta, L, numx, numfour)\n",
    "    # this line computes U^\\dagger \\nabla_\\theta H(\\theta) U\n",
    "    prederivamat = jnp.einsum('ij,jkm,kl->ilm', stthat.conj().T, modelgrad, stthat)\n",
    "\n",
    "    # this line computes\n",
    "    # M_{i l} = A_{i l} (exp(D_{i i}) or (exp(D_{i i}) - exp(D_{l l}))/(D_{i i} - D_{l l}))\n",
    "    derivamat = prederivamat * jnp.expand_dims(mask, 2)\n",
    "\n",
    "    # this line computes Q = U M U^\\dagger\n",
    "    alldmat = -1j * dt * jnp.einsum('ij,jkm,kl->mil', stthat, derivamat, stthat.conj().T)\n",
    "\n",
    "    # compute all entries of the gradient at once\n",
    "    gradients = jnp.real(jnp.einsum('bij,ajk,bik->a', jnp.conj(lammatvec[:, 1:]), alldmat, ahatmatvec[:, :-1]))\n",
    "    # **************************************************\n",
    "\n",
    "    return gradients\n",
    "\n",
    "\n",
    "# jist adjgrads\n",
    "jitfourwavegradsadj = jax.jit(fourwavegradsadj)\n",
    "\n",
    "# precompile chebwavegradsjax with Chebyshev representation\n",
    "# of the true potential\n",
    "print('nl.norm(jitchebwavegradsadj(vtruecheb)) =', nl.norm(jitfourwavegradsadj(thetatrue.theta)))"
   ],
   "metadata": {
    "collapsed": false,
    "pycharm": {
     "name": "#%%\n"
    }
   }
  },
  {
   "cell_type": "code",
   "execution_count": 16,
   "outputs": [
    {
     "name": "stdout",
     "output_type": "stream",
     "text": [
      "adj time = 0.003297567367553711\n",
      "jax time = 0.011578559875488281\n",
      "error = 5.939891963158114e-14\n",
      "adj time = 0.0036160945892333984\n",
      "jax time = 0.010764360427856445\n",
      "error = 2.3888753165972203e-13\n",
      "adj time = 0.0035009384155273438\n",
      "jax time = 0.010738849639892578\n",
      "error = 8.035488545046966e-14\n",
      "adj time = 0.0034966468811035156\n",
      "jax time = 0.010754108428955078\n",
      "error = 8.69867899704462e-14\n",
      "adj time = 0.0028083324432373047\n",
      "jax time = 0.01148223876953125\n",
      "error = 1.1326621040699334e-13\n",
      "adj time = 0.0028514862060546875\n",
      "jax time = 0.011506795883178711\n",
      "error = 1.132686842217485e-13\n",
      "adj time = 0.0029098987579345703\n",
      "jax time = 0.011582136154174805\n",
      "error = 7.469187832326388e-14\n",
      "adj time = 0.0027985572814941406\n",
      "jax time = 0.011485815048217773\n",
      "error = 2.6175246743239788e-14\n",
      "adj time = 0.0028328895568847656\n",
      "jax time = 0.011531591415405273\n",
      "error = 4.3756706152888054e-14\n",
      "adj time = 0.0027894973754882812\n",
      "jax time = 0.011485576629638672\n",
      "error = 5.976178564315705e-14\n",
      "Mean error: 8.965486382035095e-14\n"
     ]
    }
   ],
   "source": [
    "###############################################################\n",
    "# Evaluate adjoint gradient\n",
    "# - generate a theta of random values\n",
    "# - compute the adjoint and JAX gradients\n",
    "# - compute the error of the adjoint gradient WRT the JAX\n",
    "#   gradient\n",
    "###############################################################\n",
    "\n",
    "# number of iterations\n",
    "numitr = 10\n",
    "\n",
    "# evaluate the gradients\n",
    "totalerr = 0\n",
    "for i in range(numitr):\n",
    "    # generate a theta with random values\n",
    "    # thisthetarnd = np.random.default_rng().normal(size=numcheb + 1) * 10\n",
    "    thisthetarnd = 10.0 * np.random.default_rng().uniform(size=2*numtoepelms - 1) - 5.0\n",
    "\n",
    "    # compute the gradient\n",
    "    t1 = time.time()\n",
    "    adjgrad = jitfourwavegradsadj(thisthetarnd)\n",
    "    t2 = time.time()\n",
    "    jaxgrad = jitfourwaveobjectjax(thisthetarnd)\n",
    "    t3 = time.time()\n",
    "\n",
    "    # results\n",
    "    print(\"adj time =\", t2 - t1)\n",
    "    print(\"jax time =\", t3 - t2)\n",
    "    thiserr = nl.norm(adjgrad - jaxgrad)\n",
    "    totalerr += thiserr\n",
    "    print(\"error =\", thiserr)\n",
    "\n",
    "print('Mean error:', totalerr/numitr)"
   ],
   "metadata": {
    "collapsed": false,
    "pycharm": {
     "name": "#%%\n"
    }
   }
  },
  {
   "cell_type": "code",
   "execution_count": null,
   "outputs": [],
   "source": [],
   "metadata": {
    "collapsed": false,
    "pycharm": {
     "name": "#%%\n"
    }
   }
  },
  {
   "cell_type": "markdown",
   "source": [
    "---"
   ],
   "metadata": {
    "collapsed": false
   }
  },
  {
   "cell_type": "code",
   "execution_count": 32,
   "outputs": [],
   "source": [
    "seed = 1234  # set to None for random initialization\n",
    "thetarnd = 10.0 * np.random.default_rng(seed).uniform(size=2*numtoepelms - 1) - 5.0"
   ],
   "metadata": {
    "collapsed": false,
    "pycharm": {
     "name": "#%%\n"
    }
   }
  },
  {
   "cell_type": "code",
   "execution_count": 33,
   "outputs": [
    {
     "name": "stdout",
     "output_type": "stream",
     "text": [
      "Warning: Desired error not necessarily achieved due to precision loss.\n",
      "         Current function value: 0.000000\n",
      "         Iterations: 1795\n",
      "         Function evaluations: 1980\n",
      "         Gradient evaluations: 1968\n"
     ]
    }
   ],
   "source": [
    "thetahat = so.minimize(fun=jitfourwaveobject, x0=thetarnd, jac=jitfourwavegradsadj, tol=1e-12, options={'maxiter': 4000, 'disp': True, 'gtol': 1e-15}).x"
   ],
   "metadata": {
    "collapsed": false,
    "pycharm": {
     "name": "#%%\n"
    }
   }
  },
  {
   "cell_type": "code",
   "execution_count": 35,
   "outputs": [
    {
     "data": {
      "text/plain": "<Figure size 432x288 with 1 Axes>",
      "image/png": "[encoded data removed]"
     },
     "metadata": {
      "needs_background": "light"
     },
     "output_type": "display_data"
    }
   ],
   "source": [
    "# plot learned vs true\n",
    "plt.plot(xvec, vtruexvec, label='Truth')\n",
    "# plt.plot(xvec, thetatoreal(thetarnd), label='Initial')\n",
    "plt.plot(xvec, thetatoreal(thetahat), label='Learned')\n",
    "plt.title('Learned Potential vs. Truth')\n",
    "plt.legend()\n",
    "plt.show()"
   ],
   "metadata": {
    "collapsed": false,
    "pycharm": {
     "name": "#%%\n"
    }
   }
  },
  {
   "cell_type": "code",
   "execution_count": null,
   "outputs": [],
   "source": [],
   "metadata": {
    "collapsed": false,
    "pycharm": {
     "name": "#%%\n"
    }
   }
  }
 ],
 "metadata": {
  "kernelspec": {
   "display_name": "Python 3 (ipykernel)",
   "language": "python",
   "name": "python3"
  },
  "language_info": {
   "codemirror_mode": {
    "name": "ipython",
    "version": 3
   },
   "file_extension": ".py",
   "mimetype": "text/x-python",
   "name": "python",
   "nbconvert_exporter": "python",
   "pygments_lexer": "ipython3",
   "version": "3.9.9"
  }
 },
 "nbformat": 4,
 "nbformat_minor": 5
}