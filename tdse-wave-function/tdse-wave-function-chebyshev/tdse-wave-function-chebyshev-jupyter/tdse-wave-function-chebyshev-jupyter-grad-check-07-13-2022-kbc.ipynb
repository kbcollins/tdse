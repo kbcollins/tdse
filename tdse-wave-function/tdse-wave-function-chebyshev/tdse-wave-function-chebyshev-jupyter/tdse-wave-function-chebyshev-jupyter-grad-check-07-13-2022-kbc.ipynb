{
 "cells": [
  {
   "cell_type": "code",
   "execution_count": 1,
   "id": "b56b4e7b-b7e8-4446-a869-dc16fcad25e4",
   "metadata": {},
   "outputs": [],
   "source": [
    "import time\n",
    "import numpy as np\n",
    "import numpy.linalg as nl\n",
    "import scipy.linalg as sl\n",
    "import scipy.special as ss\n",
    "import scipy.optimize as so\n",
    "import scipy.integrate as si\n",
    "import matplotlib.pyplot as plt\n",
    "from jax.config import config\n",
    "import jax\n",
    "import jax.numpy as jnp\n",
    "import jax.numpy.linalg as jnl\n",
    "config.update(\"jax_enable_x64\", True)"
   ]
  },
  {
   "cell_type": "markdown",
   "id": "ad17bee5-e941-4ef1-9314-9ea62ce43504",
   "metadata": {},
   "source": [
    "<h1>TDSE Forward Problem</h1>"
   ]
  },
  {
   "cell_type": "code",
   "execution_count": 2,
   "id": "c7d9113b-b601-4c1d-85e2-ec227a142132",
   "metadata": {},
   "outputs": [
    {
     "name": "stdout",
     "output_type": "stream",
     "text": [
      "L = 15.0\n",
      "numx = 1025\n",
      "numfour = 32\n",
      "numts = 20\n",
      "dt = 0.01\n"
     ]
    }
   ],
   "source": [
    "# size of spatial domain\n",
    "L = 15.0\n",
    "\n",
    "# number of real space grid points (for plotting)\n",
    "numx = 1025\n",
    "\n",
    "# real space grid points (for plotting)\n",
    "xvec = np.linspace(-L, L, numx)\n",
    "\n",
    "# number of Fourier basis functions\n",
    "numfour = 32  # 64\n",
    "\n",
    "# number of Toeplitz elements in the Fourier representation\n",
    "numtoepelms = 2 * numfour + 1\n",
    "\n",
    "# set number of time steps\n",
    "# trajectory's length = numts + 1\n",
    "numts = 20  # 20\n",
    "\n",
    "# set time-step size\n",
    "dt = 1e-2  # 1e-2\n",
    "\n",
    "# print computational environment variables to stdout\n",
    "print('L =', L)\n",
    "print('numx =', numx)\n",
    "print('numfour =', numfour)\n",
    "print('numts =', numts)\n",
    "print('dt =', dt)"
   ]
  },
  {
   "cell_type": "code",
   "execution_count": 3,
   "outputs": [],
   "source": [
    "# vector of Fourier mode indices\n",
    "# fournvec = -numfour,...,0,...,numfour\n",
    "fournvec = np.arange(-numfour, numfour + 1)\n",
    "\n",
    "# matrix for converting Fourier representation to real space\n",
    "# used like realspacevec = fourspacevec @ fourtox\n",
    "fourtox = np.exp(1j * np.pi * np.outer(fournvec, xvec) / L) / np.sqrt(2 * L)"
   ],
   "metadata": {
    "collapsed": false,
    "pycharm": {
     "name": "#%%\n"
    }
   }
  },
  {
   "cell_type": "markdown",
   "source": [
    "---\n",
    "**Potential Function**"
   ],
   "metadata": {
    "collapsed": false
   }
  },
  {
   "cell_type": "code",
   "execution_count": 4,
   "outputs": [
    {
     "data": {
      "text/plain": "<Figure size 432x288 with 1 Axes>",
      "image/png": "[encoded data removed]"
     },
     "metadata": {
      "needs_background": "light"
     },
     "output_type": "display_data"
    }
   ],
   "source": [
    "# define potential for generating training data\n",
    "\n",
    "def v(z):\n",
    "    # harmonic oscillator potential (should be exact for Chebyshev)\n",
    "    return 0.5 * z**2\n",
    "\n",
    "    # symmetric double well potential\n",
    "    # return 2.5e-3 * (z ** 2 - 25) ** 2\n",
    "\n",
    "    # asymmetric double well potential\n",
    "    c0 = 4.35\n",
    "    c1 = 9.40e-1\n",
    "    c2 = -3.56e-1\n",
    "    c3 = -4.66e-2\n",
    "    c4 = 1.46e-2\n",
    "    c5 = 6.76e-4\n",
    "    c6 = -1.26e-4\n",
    "    c7 = -5.43e-6\n",
    "    c8 = 4.12e-7\n",
    "    c9 = 1.65e-8\n",
    "    x = z + 0.8\n",
    "    return 0.5 * (c0 + c1 * x + c2 * x ** 2 + c3 * x ** 3 + c4 * x ** 4 + c5 * x ** 5 + c6 * x ** 6 + c7 * x ** 7 + c8 * x ** 8 + c9 * x ** 9)\n",
    "\n",
    "    # soft coulomb potential\n",
    "    # return -1 / np.sqrt(x**2 + 0.25)\n",
    "\n",
    "# true potential on real space grid (for plotting)\n",
    "vtruexvec = v(xvec)\n",
    "\n",
    "# plot true potential\n",
    "plt.plot(xvec, vtruexvec)\n",
    "plt.title('Plot of v(x)')\n",
    "plt.xlabel('x')\n",
    "plt.show()\n",
    "\n",
    "# compute the potential operator matrix, vmat\n",
    "vtruetoep = []\n",
    "for thisfourn in range(numtoepelms):\n",
    "    def intgrnd(x):\n",
    "        return v(x) * np.exp(-1j * np.pi * thisfourn * x / L) / (2 * L)\n",
    "    def rintgrnd(x):\n",
    "        return intgrnd(x).real\n",
    "    def iintgrnd(x):\n",
    "        return intgrnd(x).imag\n",
    "    vtruetoep.append(si.quad(rintgrnd, -L, L, limit=100)[0] + 1j * si.quad(iintgrnd, -L, L, limit=100)[0])\n",
    "\n",
    "vtruetoep = jnp.array(vtruetoep)\n",
    "vtruemat = sl.toeplitz(r=vtruetoep, c=np.conj(vtruetoep))"
   ],
   "metadata": {
    "collapsed": false,
    "pycharm": {
     "name": "#%%\n"
    }
   }
  },
  {
   "cell_type": "markdown",
   "source": [
    "---\n",
    "**Initial States - a0**"
   ],
   "metadata": {
    "collapsed": false
   }
  },
  {
   "cell_type": "code",
   "execution_count": 7,
   "outputs": [
    {
     "name": "stdout",
     "output_type": "stream",
     "text": [
      "Number of a0 states: 1\n"
     ]
    },
    {
     "data": {
      "text/plain": "<Figure size 432x288 with 1 Axes>",
      "image/png": "[encoded data removed]"
     },
     "metadata": {
      "needs_background": "light"
     },
     "output_type": "display_data"
    },
    {
     "name": "stdout",
     "output_type": "stream",
     "text": [
      "L2 Error of reconstructed psi0:\n",
      "7.476210590807997e-05\n",
      "L-infinity Error psi0:\n",
      "3.137317008559103e-05\n"
     ]
    }
   ],
   "source": [
    "# define initial state functions\n",
    "def psi0_0(x):\n",
    "    return 10 * np.exp(-((x + 3) / 4)**2) * (2.0 / np.pi)**0.25\n",
    "    # return 10 * np.exp(-((x + 3) / 2)**2) * (2.0 / np.pi)**0.25\n",
    "\n",
    "def psi0_1(x):\n",
    "    return np.exp(-((x - 3) / 4)**2) * (2.0 / np.pi)**0.25\n",
    "    # return np.exp(-((x - 3) / 2)**2) * (2.0 / np.pi)**0.25\n",
    "\n",
    "def psi0_2(x):\n",
    "    # return np.exp(-x**2) * (2.0 / np.pi)**0.25\n",
    "    return np.exp(-((x - 8) / 4)**2) * (2.0 / np.pi)**0.25\n",
    "    # return np.exp(-((x - 6)/4)**2) * (2.0 / np.pi)**0.25\n",
    "\n",
    "def psi0_3(x):\n",
    "    # a weird non-symmetric wavefunction\n",
    "    # return np.abs(np.sin((0.15*x - 0.5)**2))\n",
    "    return np.exp(-((x + 8) / 4)**2) * (2.0 / np.pi)**0.25\n",
    "    # return np.exp(-((x + 6)/4)**2) * (2.0 / np.pi)**0.25\n",
    "\n",
    "def psi0_4(x):\n",
    "    return np.exp(-((x - 12) / 4)**2) * (2.0 / np.pi)**0.25\n",
    "    # return np.exp(-(x - 11)**2) * (2.0 / np.pi)**0.25\n",
    "\n",
    "def psi0_5(x):\n",
    "    return np.exp(-((x + 12) / 4)**2) * (2.0 / np.pi)**0.25\n",
    "    # return np.exp(-(x + 11)**2) * (2.0 / np.pi)**0.25\n",
    "\n",
    "\n",
    "# function for normalizing initial wave functions\n",
    "# and transforming them to the Fourier representation\n",
    "def mka0(psi0fn):\n",
    "    # compute psi0 normalization term\n",
    "    psi0fn_prob_intgrnd = lambda x: np.abs(psi0fn(x)) ** 2\n",
    "    psi0fn_norm = np.sqrt(si.quad(psi0fn_prob_intgrnd, -L, L)[0])\n",
    "\n",
    "    # normalized psi function (for integration)\n",
    "    norm_psi0fn = lambda x: psi0fn(x) / psi0fn_norm\n",
    "\n",
    "    # compute the Fourier representation of psi0fn\n",
    "    a0raw = []\n",
    "    for thisfourn in range (numfour + 1):\n",
    "        def intgrnd(x):\n",
    "            return norm_psi0fn(x) * np.exp(-1j * np.pi * thisfourn * x / L) / np.sqrt(2 * L)\n",
    "        def rintgrnd(x):\n",
    "            return intgrnd(x).real\n",
    "        def iintgrnd(x):\n",
    "            return intgrnd(x).imag\n",
    "        a0raw.append(si.quad(rintgrnd, -L, L, limit=100)[0] + 1j * si.quad(iintgrnd, -L, L, limit=100)[0])\n",
    "\n",
    "    a0 = np.concatenate([np.conjugate(np.flipud(a0raw[1:])), a0raw])\n",
    "    a0 = jnp.array(a0)\n",
    "    normpsi0x = norm_psi0fn(xvec)\n",
    "\n",
    "    return a0, normpsi0x\n",
    "\n",
    "\n",
    "# generate initial state vector\n",
    "# pick initial un-normalized wave functions\n",
    "psi0fnvec = [psi0_0]  # [psi0_0, psi0_1, psi0_2, psi0_3]\n",
    "\n",
    "# make initial states, a0, with mka0\n",
    "a0vec = []\n",
    "normpsi0xvec = []\n",
    "normpsi0recxvec = []\n",
    "for thispsi0fn in psi0fnvec:\n",
    "    tempa0, tempnormpsi0x = mka0(thispsi0fn)\n",
    "    a0vec.append(tempa0)\n",
    "    normpsi0xvec.append(tempnormpsi0x)\n",
    "    normpsi0recxvec.append(tempa0 @ fourtox)\n",
    "\n",
    "a0vec = jnp.array(a0vec)\n",
    "normpsi0xvec = np.array(normpsi0xvec)\n",
    "normpsi0recxvec = np.array(normpsi0recxvec)\n",
    "\n",
    "print('Number of a0 states:', a0vec.shape[0])\n",
    "\n",
    "# plot the real part of the normalized psi0\n",
    "for i in range(len(a0vec)):\n",
    "    plt.plot(xvec, normpsi0recxvec[i].real, label=f'Rec {i}')\n",
    "    plt.plot(xvec, normpsi0xvec[i].real, label=f'Truth {i}')\n",
    "plt.title('Real Part of Initial Wave Functions')\n",
    "plt.xlabel('x')\n",
    "plt.legend()\n",
    "plt.show()\n",
    "\n",
    "print('L2 Error of reconstructed psi0:', nl.norm(normpsi0recxvec - normpsi0xvec), sep='\\n')\n",
    "print('L-infinity Error psi0:', np.max(np.abs(normpsi0recxvec - normpsi0xvec)), sep='\\n')"
   ],
   "metadata": {
    "collapsed": false,
    "pycharm": {
     "name": "#%%\n"
    }
   }
  },
  {
   "cell_type": "markdown",
   "source": [
    "---\n",
    "<h3>Foward Propagation - Construct the Training Data</h3>"
   ],
   "metadata": {
    "collapsed": false
   }
  },
  {
   "cell_type": "code",
   "execution_count": 9,
   "outputs": [
    {
     "name": "stdout",
     "output_type": "stream",
     "text": [
      "Shape kmat (65, 65)\n",
      "Shape hmattrue (65, 65)\n",
      "Done with eigen-decomposition\n",
      "Shape propatrue (65, 65)\n",
      "Done propagating.\n"
     ]
    }
   ],
   "source": [
    "# make kinetic operator in the Fourier representation\n",
    "# (this is constant for a given system)\n",
    "kmat = np.diag(np.arange(-numfour, numfour + 1) ** 2 * np.pi ** 2 / (2 * L ** 2))\n",
    "print('Shape kmat', kmat.shape)\n",
    "\n",
    "# Hamiltonian operator with true potential\n",
    "# in the Fourier representation\n",
    "hmattrue = kmat + vtruemat\n",
    "print('Shape hmattrue', hmattrue.shape)\n",
    "\n",
    "# eigen-decomposition of the Hamiltonian matrix\n",
    "spctrue, stttrue = jnl.eigh(hmattrue)\n",
    "print('Done with eigen-decomposition')\n",
    "\n",
    "# compute propagator matrix\n",
    "propatrue = stttrue @ jnp.diag(jnp.exp(-1j * spctrue * dt)) @ stttrue.conj().T\n",
    "print('Shape propatrue', propatrue.shape)\n",
    "\n",
    "# propagate system starting from initial \"a\" state\n",
    "# using the Hamiltonian constructed from the true potential\n",
    "# (used for generating training data)\n",
    "amattruevec = []\n",
    "for thisa0 in a0vec:\n",
    "    tempamat = [thisa0.copy()]\n",
    "    for _ in range(numts):\n",
    "        tempamat.append(propatrue @ tempamat[-1])\n",
    "\n",
    "    amattruevec.append(tempamat)\n",
    "\n",
    "amattruevec = jnp.array(amattruevec)\n",
    "\n",
    "print('Done propagating.')"
   ],
   "metadata": {
    "collapsed": false,
    "pycharm": {
     "name": "#%%\n"
    }
   }
  },
  {
   "cell_type": "markdown",
   "source": [
    "---\n",
    "<h3>Inverse Problem - Adjoint Method</h3>"
   ],
   "metadata": {
    "collapsed": false,
    "pycharm": {
     "name": "#%% md\n"
    }
   }
  },
  {
   "cell_type": "code",
   "execution_count": 34,
   "outputs": [
    {
     "name": "stdout",
     "output_type": "stream",
     "text": [
      "Shape chebtofour: (65, 65, 12)\n"
     ]
    }
   ],
   "source": [
    "###############################################################\n",
    "# Chebyshev model\n",
    "# - function to transform the model to real space\n",
    "# - function to transform the model into Toeplitz vmat form\n",
    "###############################################################\n",
    "\n",
    "# set the number of Chebyshev coefficients\n",
    "# the total number of Chebyshev coefficients = numcheb + 1\n",
    "# from experience, odd values work best\n",
    "numcheb = 11  # 41\n",
    "\n",
    "kvec = np.arange(1, numcheb + 2)\n",
    "chebnvec = np.arange(0, numcheb + 1)\n",
    "\n",
    "# matrix for transforming Chebyshev representations to\n",
    "# real space representation\n",
    "# use like chebtox @ chec_coefficients\n",
    "chebtox = ss.eval_chebyt(np.expand_dims(chebnvec, 0), np.expand_dims(xvec / L, 1))\n",
    "\n",
    "# matrix for transforming the Chebyshev representation\n",
    "# to Fourier representation (this is used in the adjoint\n",
    "# method to construct vhatmat)\n",
    "chebtofour = []\n",
    "for thischebn in range(numcheb + 1):\n",
    "    temptoeprow = []\n",
    "    for thisfourn in range(2 * numfour + 1):\n",
    "        def intgrnd(x):\n",
    "            return ss.eval_chebyt(thischebn, x / L) * np.exp(-1j * np.pi * thisfourn * x / L) / (2 * L)\n",
    "        def rintgrnd(x):\n",
    "            return intgrnd(x).real\n",
    "        def iintgrnd(x):\n",
    "            return intgrnd(x).imag\n",
    "        temptoeprow.append(si.quad(rintgrnd, -L, L, limit=100)[0] + 1j * si.quad(iintgrnd, -L, L, limit=100)[0])\n",
    "    chebtofour.append(sl.toeplitz(r=temptoeprow, c=np.conj(temptoeprow)))\n",
    "\n",
    "# used like: chebtofour @ cheb_cff_vec\n",
    "chebtofour = jnp.array(np.transpose(np.array(chebtofour), [1, 2, 0]))\n",
    "print('Shape chebtofour:', chebtofour.shape)"
   ],
   "metadata": {
    "collapsed": false,
    "pycharm": {
     "name": "#%%\n"
    }
   }
  },
  {
   "cell_type": "code",
   "execution_count": 35,
   "outputs": [
    {
     "name": "stdout",
     "output_type": "stream",
     "text": [
      "[ 5.62500000e+01  4.73695157e-15  5.62500000e+01  1.18423789e-14\n",
      " -2.60532336e-14  4.73695157e-14 -1.42108547e-14  3.31586610e-14\n",
      " -2.60532336e-14  3.67113747e-14 -7.75675820e-14  5.06261699e-14]\n"
     ]
    },
    {
     "data": {
      "text/plain": "<Figure size 432x288 with 1 Axes>",
      "image/png": "[encoded data removed]"
     },
     "metadata": {
      "needs_background": "light"
     },
     "output_type": "display_data"
    },
    {
     "name": "stdout",
     "output_type": "stream",
     "text": [
      "l2 error of vtruerec:\n",
      "2.0507092951114852e-12\n",
      "l-infinity error of vtruerec:\n",
      "3.410605131648481e-13\n"
     ]
    }
   ],
   "source": [
    "###############################################################\n",
    "# function for computing Chebyshev coefficients\n",
    "# for a given function\n",
    "###############################################################\n",
    "\n",
    "def fntocheb(fn):\n",
    "    chebweights = np.ones(numcheb + 1)\n",
    "    chebweights[0] = 0.5\n",
    "\n",
    "    def theta(k):\n",
    "        return (k - 0.5) * np.pi / (numcheb + 1)\n",
    "\n",
    "    def g(k):\n",
    "        return fn(L * np.cos(theta(k)))\n",
    "\n",
    "    chebvec = 2 * np.sum(g(kvec) * np.cos(chebnvec[..., np.newaxis] * theta(kvec)), axis=1) / (numcheb + 1)\n",
    "\n",
    "    chebvec = chebweights * chebvec\n",
    "\n",
    "    return chebvec\n",
    "\n",
    "\n",
    "vtruecheb = fntocheb(v)\n",
    "print(vtruecheb)\n",
    "\n",
    "vtruerec = chebtox @ vtruecheb\n",
    "\n",
    "# plot reconstructed potential vs truth\n",
    "plt.plot(xvec, vtruerec, label='Rec')\n",
    "plt.plot(xvec, vtruexvec, label='Truth')\n",
    "plt.title(f'Reconstructed Potential vs. Truth\\nfor n={numcheb} Chebyshev Basis Functions')\n",
    "plt.legend()\n",
    "plt.show()\n",
    "\n",
    "# vec L2 error\n",
    "print('l2 error of vtruerec:', nl.norm(vtruexvec - vtruerec), sep='\\n')\n",
    "# L-infinity error\n",
    "print('l-infinity error of vtruerec:', np.max(np.abs(vtruexvec - vtruerec)), sep='\\n')"
   ],
   "metadata": {
    "collapsed": false,
    "pycharm": {
     "name": "#%%\n"
    }
   }
  },
  {
   "cell_type": "code",
   "execution_count": 36,
   "outputs": [
    {
     "name": "stdout",
     "output_type": "stream",
     "text": [
      "jitchebwaveobject(vtruecheb) = 1.0050021217981043e-26\n"
     ]
    }
   ],
   "source": [
    "def chebwaveobject(theta):\n",
    "    #################################################\n",
    "    # theta is a vector containing the Chebyshev\n",
    "    # coefficients (i.e., the Chebyshev representation\n",
    "    # of the potential)\n",
    "    #################################################\n",
    "\n",
    "    # construct the vmat from theta\n",
    "    vhatmat = chebtofour @ theta\n",
    "\n",
    "    # Construct Hamiltonian matrix\n",
    "    hhatmat = kmat + vhatmat\n",
    "\n",
    "    # eigen-decomposition of the Hamiltonian matrix\n",
    "    spchat, stthat = jnl.eigh(hhatmat)\n",
    "\n",
    "    # compute propagator matrix\n",
    "    propahat = stthat @ jnp.diag(jnp.exp(-1j * spchat * dt)) @ stthat.conj().T\n",
    "\n",
    "    # forward propagation loop\n",
    "    ahatmatvec = []\n",
    "    for r in range(a0vec.shape[0]):\n",
    "        thisahatmat = [a0vec[r].copy()]\n",
    "\n",
    "        # propagate system starting from initial \"a\" state\n",
    "        for _ in range(numts):\n",
    "            # propagate the system one time-step\n",
    "            thisahatmat.append(propahat @ thisahatmat[-1])\n",
    "\n",
    "        ahatmatvec.append(thisahatmat)\n",
    "\n",
    "    # transform python list to a jax.numpy array\n",
    "    ahatmatvec = jnp.array(ahatmatvec)\n",
    "\n",
    "    # compute objective functions\n",
    "    resid = ahatmatvec - amattruevec\n",
    "\n",
    "    # as per our math, we need to take the real part of\n",
    "    # the objective\n",
    "    rtnobjvec = jnp.real(0.5 * jnp.sum(jnp.conj(resid) * resid, axis=1))\n",
    "    rtnobj = jnp.sum(rtnobjvec)\n",
    "\n",
    "    return rtnobj\n",
    "\n",
    "\n",
    "# jit wavefnobject()\n",
    "jitchebwaveobject = jax.jit(chebwaveobject)\n",
    "\n",
    "# precompile jitwavefnobject with Chebyshev representation\n",
    "# of the true potential\n",
    "print('jitchebwaveobject(vtruecheb) =', jitchebwaveobject(vtruecheb))"
   ],
   "metadata": {
    "collapsed": false,
    "pycharm": {
     "name": "#%%\n"
    }
   }
  },
  {
   "cell_type": "code",
   "execution_count": 19,
   "outputs": [
    {
     "name": "stdout",
     "output_type": "stream",
     "text": [
      "nl.norm(jitchebwavegradsjax(vtruecheb)) = 9.867913691728284e-15\n"
     ]
    }
   ],
   "source": [
    "jitchebwavegradsjax = jax.jit(jax.grad(chebwaveobject))\n",
    "\n",
    "# precompile chebwavegradsjax with Chebyshev representation\n",
    "# of the true potential\n",
    "print('nl.norm(jitchebwavegradsjax(vtruecheb)) =', nl.norm(jitchebwavegradsjax(vtruecheb)))"
   ],
   "metadata": {
    "collapsed": false,
    "pycharm": {
     "name": "#%%\n"
    }
   }
  },
  {
   "cell_type": "markdown",
   "source": [
    "---\n",
    "**Adjoint Method**"
   ],
   "metadata": {
    "collapsed": false,
    "pycharm": {
     "name": "#%% md\n"
    }
   }
  },
  {
   "cell_type": "code",
   "execution_count": 23,
   "outputs": [
    {
     "name": "stdout",
     "output_type": "stream",
     "text": [
      "nl.norm(jitchebwavegradsadj(vtruecheb)) = 1.550047724435227e-14\n"
     ]
    }
   ],
   "source": [
    "###############################################################\n",
    "# adjoint method for computing gradient\n",
    "###############################################################\n",
    "\n",
    "# function for computing gradients using adjoint method\n",
    "def chebwavegradsadj(theta):\n",
    "    #################################################\n",
    "    # theta is a vector containing the Chebyshev\n",
    "    # coefficients (i.e., the Chebyshev representation\n",
    "    # of the potential)\n",
    "    #################################################\n",
    "\n",
    "    # construct the vmat from theta\n",
    "    vhatmat = chebtofour @ theta\n",
    "\n",
    "    # Construct Hamiltonian matrix\n",
    "    hhatmat = kmat + vhatmat\n",
    "\n",
    "    # eigen-decomposition of the Hamiltonian matrix\n",
    "    spchat, stthat = jnl.eigh(hhatmat)\n",
    "\n",
    "    # compute propagator matrices\n",
    "    propahat = stthat @ jnp.diag(jnp.exp(-1j * spchat * dt)) @ stthat.conj().T\n",
    "    proplam = jnp.transpose(jnp.conjugate(propahat))\n",
    "\n",
    "    # forward propagation\n",
    "    ahatmatvec = []\n",
    "    lammatvec = []\n",
    "    for r in range(a0vec.shape[0]):\n",
    "        ####################################################\n",
    "        # build ahatmat, i.e., forward propagate of the\n",
    "        # system with theta starting from a given initial\n",
    "        # state a0\n",
    "        ####################################################\n",
    "\n",
    "        # initialize thisahatmat with given a0 state\n",
    "        thisahatmat = [a0vec[r].copy()]\n",
    "\n",
    "        # forward propagate of the system with theta\n",
    "        for i in range(numts):\n",
    "            # propagate the system one time-step and store the result\n",
    "            thisahatmat.append(propahat @ thisahatmat[-1])\n",
    "\n",
    "        # store compute ahatmat\n",
    "        ahatmatvec.append(jnp.array(thisahatmat))\n",
    "\n",
    "        ####################################################\n",
    "        # build lammat\n",
    "        # \\lambda_N = (\\hat{a}_N - a_N)\n",
    "        # \\lambda_j = (\\hat{a}_j - a_j) + [\\nabla_a \\phi_{\\Delta t} (a_j; \\theta)]^\\dagger \\lambda_{j+1}\n",
    "        # [\\nabla_a \\phi_{\\Delta t} (a_j; \\theta)]^\\dagger = [exp{-i H \\Delta t}]^\\dagger\n",
    "        ####################################################\n",
    "\n",
    "        # compute the error of ahatmatvec[r] WRT amattruevec[r]\n",
    "        thisahatmaterr = ahatmatvec[r] - amattruevec[r]\n",
    "\n",
    "        # initialize thislammat\n",
    "        thislammat = [thisahatmaterr[-1]]\n",
    "\n",
    "        # build lammat backwards then flip\n",
    "        for i in range(2, numts + 2):\n",
    "            thislammat.append(thisahatmaterr[-i] + proplam @ thislammat[-1])\n",
    "\n",
    "        # flip thislammat, make into a jax array, and add to lammatvec\n",
    "        lammatvec.append(jnp.flipud(jnp.array(thislammat)))\n",
    "\n",
    "    # make lists into JAX array object\n",
    "    ahatmatvec = jnp.array(ahatmatvec)\n",
    "    lammatvec = jnp.array(lammatvec)\n",
    "\n",
    "\n",
    "    ####################################################\n",
    "    # the remainder of this function is for computing\n",
    "    # the gradient of the exponential matrix\n",
    "    ####################################################\n",
    "\n",
    "    offdiagmask = jnp.ones((numtoepelms, numtoepelms)) - jnp.eye(numtoepelms)\n",
    "    expspec = jnp.exp(-1j * dt * spchat)\n",
    "    e1, e2 = jnp.meshgrid(expspec, expspec)\n",
    "    s1, s2 = jnp.meshgrid(spchat, spchat)\n",
    "    denom = offdiagmask * (-1j * dt) * (s1 - s2) + jnp.eye(numtoepelms)\n",
    "    mask = offdiagmask * (e1 - e2)/denom + jnp.diag(expspec)\n",
    "\n",
    "    derivamat = jnp.einsum('ij,jkm,kl->ilm', jnp.transpose(jnp.conj(stthat)), chebtofour, stthat) * jnp.expand_dims(mask, 2)\n",
    "\n",
    "    # because the Chebyshev coefficients are real valued\n",
    "    # alldmat is half the size it would be if the coefficients\n",
    "    # were complex (like with the Fourier basis)\n",
    "    alldmat = -1j * dt * jnp.einsum('ij,jkm,kl->mil', stthat, derivamat, stthat.conj().T)\n",
    "\n",
    "    # compute all entries of the gradient at once\n",
    "    gradients = jnp.real(jnp.einsum('bij,ajk,bik->a', jnp.conj(lammatvec[:, 1:]), alldmat, ahatmatvec[:, :-1]))\n",
    "\n",
    "    return gradients\n",
    "\n",
    "\n",
    "# jist adjgrads\n",
    "jitchebwavegradsadj = jax.jit(chebwavegradsadj)\n",
    "\n",
    "# precompile chebwavegradsjax with Chebyshev representation\n",
    "# of the true potential\n",
    "print('nl.norm(jitchebwavegradsadj(vtruecheb)) =', nl.norm(jitchebwavegradsadj(vtruecheb)))"
   ],
   "metadata": {
    "collapsed": false,
    "pycharm": {
     "name": "#%%\n"
    }
   }
  },
  {
   "cell_type": "code",
   "execution_count": 37,
   "outputs": [
    {
     "name": "stdout",
     "output_type": "stream",
     "text": [
      "adj time = 0.02460622787475586\n",
      "jax time = 0.005448341369628906\n",
      "error = 1.3676487714281337e-14\n",
      "adj time = 0.004107236862182617\n",
      "jax time = 0.00561976432800293\n",
      "error = 2.4855401755575022e-14\n",
      "adj time = 0.003968000411987305\n",
      "jax time = 0.005547285079956055\n",
      "error = 2.3704659063533806e-14\n",
      "adj time = 0.005702972412109375\n",
      "jax time = 0.0067119598388671875\n",
      "error = 9.368458738146761e-14\n",
      "adj time = 0.005527973175048828\n",
      "jax time = 0.005822658538818359\n",
      "error = 1.7460932027049042e-14\n",
      "adj time = 0.004413127899169922\n",
      "jax time = 0.006213188171386719\n",
      "error = 2.998809804759879e-14\n",
      "adj time = 0.009348869323730469\n",
      "jax time = 0.0051305294036865234\n",
      "error = 2.8241919613718534e-14\n",
      "adj time = 0.005702018737792969\n",
      "jax time = 0.006090641021728516\n",
      "error = 3.2394919366362036e-14\n",
      "adj time = 0.004569530487060547\n",
      "jax time = 0.005963563919067383\n",
      "error = 4.1373577197774325e-14\n",
      "adj time = 0.005418539047241211\n",
      "jax time = 0.00491023063659668\n",
      "error = 3.062798608084815e-14\n",
      "adj time = 0.003998756408691406\n",
      "jax time = 0.005533695220947266\n",
      "error = 1.8364566324349355e-14\n",
      "adj time = 0.004448413848876953\n",
      "jax time = 0.0059359073638916016\n",
      "error = 1.878635397418026e-14\n",
      "adj time = 0.004723787307739258\n",
      "jax time = 0.005364894866943359\n",
      "error = 2.822271220431882e-14\n",
      "adj time = 0.0046885013580322266\n",
      "jax time = 0.005815267562866211\n",
      "error = 2.1201835767928487e-13\n",
      "adj time = 0.0040531158447265625\n",
      "jax time = 0.006018877029418945\n",
      "error = 9.178333774821031e-14\n",
      "adj time = 0.00437474250793457\n",
      "jax time = 0.005543947219848633\n",
      "error = 2.112511235202873e-14\n",
      "adj time = 0.0046079158782958984\n",
      "jax time = 0.0061190128326416016\n",
      "error = 1.0070826268903556e-12\n",
      "adj time = 0.0046656131744384766\n",
      "jax time = 0.005791187286376953\n",
      "error = 1.959052184467943e-14\n",
      "adj time = 0.004168510437011719\n",
      "jax time = 0.005663871765136719\n",
      "error = 3.6786748739898125e-14\n",
      "adj time = 0.007322788238525391\n",
      "jax time = 0.007322788238525391\n",
      "error = 1.5660966713935704e-14\n",
      "adj time = 0.004705667495727539\n",
      "jax time = 0.005028247833251953\n",
      "error = 1.6771007595222599e-12\n",
      "adj time = 0.004179716110229492\n",
      "jax time = 0.005087852478027344\n",
      "error = 7.631465295309598e-14\n",
      "adj time = 0.003956794738769531\n",
      "jax time = 0.005185842514038086\n",
      "error = 1.9382448498124795e-14\n",
      "adj time = 0.003962039947509766\n",
      "jax time = 0.005263566970825195\n",
      "error = 4.2429826432925516e-14\n",
      "adj time = 0.004240989685058594\n",
      "jax time = 0.005288839340209961\n",
      "error = 1.3844238504064414e-13\n",
      "adj time = 0.0040225982666015625\n",
      "jax time = 0.005255460739135742\n",
      "error = 2.203591694008767e-14\n",
      "adj time = 0.003992795944213867\n",
      "jax time = 0.005156755447387695\n",
      "error = 1.5202897892305978e-13\n",
      "adj time = 0.003744840621948242\n",
      "jax time = 0.005137443542480469\n",
      "error = 1.9485864276798476e-13\n",
      "adj time = 0.003750324249267578\n",
      "jax time = 0.0051119327545166016\n",
      "error = 9.604615119216759e-14\n",
      "adj time = 0.003977775573730469\n",
      "jax time = 0.005329608917236328\n",
      "error = 8.914635592212916e-14\n",
      "adj time = 0.004313945770263672\n",
      "jax time = 0.005472660064697266\n",
      "error = 3.391246377949025e-14\n",
      "adj time = 0.0040760040283203125\n",
      "jax time = 0.005446672439575195\n",
      "error = 1.9345314045590664e-13\n",
      "adj time = 0.00415492057800293\n",
      "jax time = 0.005884647369384766\n",
      "error = 2.6512524782389137e-14\n",
      "adj time = 0.004231691360473633\n",
      "jax time = 0.005204677581787109\n",
      "error = 5.218133343022876e-13\n",
      "adj time = 0.0037810802459716797\n",
      "jax time = 0.004641294479370117\n",
      "error = 1.8061033128165402e-14\n",
      "adj time = 0.0036568641662597656\n",
      "jax time = 0.004617214202880859\n",
      "error = 9.302589960312181e-14\n",
      "adj time = 0.003598928451538086\n",
      "jax time = 0.0047566890716552734\n",
      "error = 4.158894931588491e-14\n",
      "adj time = 0.0034911632537841797\n",
      "jax time = 0.004642963409423828\n",
      "error = 4.437575423940206e-14\n",
      "adj time = 0.0035359859466552734\n",
      "jax time = 0.0047228336334228516\n",
      "error = 1.9184805653226385e-14\n",
      "adj time = 0.004786252975463867\n",
      "jax time = 0.0057964324951171875\n",
      "error = 3.3854387629284967e-14\n",
      "adj time = 0.004645824432373047\n",
      "jax time = 0.004601001739501953\n",
      "error = 1.0063540409302806e-14\n",
      "adj time = 0.003938436508178711\n",
      "jax time = 0.008223295211791992\n",
      "error = 1.0260402388652119e-13\n",
      "adj time = 0.0040416717529296875\n",
      "jax time = 0.0048177242279052734\n",
      "error = 2.210381031705072e-14\n",
      "adj time = 0.003874063491821289\n",
      "jax time = 0.004813671112060547\n",
      "error = 3.561889358884009e-14\n",
      "adj time = 0.004005908966064453\n",
      "jax time = 0.004892110824584961\n",
      "error = 3.674753570703293e-14\n",
      "adj time = 0.005299568176269531\n",
      "jax time = 0.004578828811645508\n",
      "error = 2.0935920481157953e-14\n",
      "adj time = 0.004111766815185547\n",
      "jax time = 0.005125522613525391\n",
      "error = 1.7061526677224098e-14\n",
      "adj time = 0.004216670989990234\n",
      "jax time = 0.005294322967529297\n",
      "error = 1.7372799790229982e-13\n",
      "adj time = 0.0040857791900634766\n",
      "jax time = 0.0048105716705322266\n",
      "error = 1.6139550999525503e-14\n",
      "adj time = 0.003891468048095703\n",
      "jax time = 0.00957489013671875\n",
      "error = 5.037290172916901e-14\n",
      "adj time = 0.003740072250366211\n",
      "jax time = 0.004374027252197266\n",
      "error = 3.763209809068347e-14\n",
      "adj time = 0.0035028457641601562\n",
      "jax time = 0.004427671432495117\n",
      "error = 7.245326537958935e-14\n",
      "adj time = 0.0033347606658935547\n",
      "jax time = 0.0044553279876708984\n",
      "error = 8.636311819636502e-14\n",
      "adj time = 0.0033080577850341797\n",
      "jax time = 0.008941173553466797\n",
      "error = 1.7917401107021864e-14\n",
      "adj time = 0.003468036651611328\n",
      "jax time = 0.004392862319946289\n",
      "error = 1.684885752009978e-13\n",
      "adj time = 0.003325223922729492\n",
      "jax time = 0.00442814826965332\n",
      "error = 2.46079789184562e-14\n",
      "adj time = 0.0038805007934570312\n",
      "jax time = 0.004919528961181641\n",
      "error = 2.1229446561117565e-13\n",
      "adj time = 0.004124879837036133\n",
      "jax time = 0.005120277404785156\n",
      "error = 2.1023900420967812e-14\n",
      "adj time = 0.005071878433227539\n",
      "jax time = 0.004739284515380859\n",
      "error = 2.134008960306817e-14\n",
      "adj time = 0.0038890838623046875\n",
      "jax time = 0.00445866584777832\n",
      "error = 4.497147620068318e-14\n",
      "adj time = 0.003796100616455078\n",
      "jax time = 0.004551410675048828\n",
      "error = 4.122924073739603e-13\n",
      "adj time = 0.0038042068481445312\n",
      "jax time = 0.004446983337402344\n",
      "error = 1.1645657413995386e-13\n",
      "adj time = 0.003526449203491211\n",
      "jax time = 0.0044476985931396484\n",
      "error = 1.3672473459046775e-13\n",
      "adj time = 0.0036401748657226562\n",
      "jax time = 0.0045125484466552734\n",
      "error = 5.388019973930466e-14\n",
      "adj time = 0.003428936004638672\n",
      "jax time = 0.004405975341796875\n",
      "error = 3.8137784481684606e-14\n",
      "adj time = 0.003356456756591797\n",
      "jax time = 0.004436969757080078\n",
      "error = 3.2173648013528115e-14\n",
      "adj time = 0.004108428955078125\n",
      "jax time = 0.004956483840942383\n",
      "error = 3.303674356552399e-14\n",
      "adj time = 0.003337383270263672\n",
      "jax time = 0.005731105804443359\n",
      "error = 5.2252906428776723e-14\n",
      "adj time = 0.005944252014160156\n",
      "jax time = 0.00495147705078125\n",
      "error = 1.3773310292409135e-13\n",
      "adj time = 0.003966808319091797\n",
      "jax time = 0.004805088043212891\n",
      "error = 2.1474853149378413e-14\n",
      "adj time = 0.003946065902709961\n",
      "jax time = 0.005057811737060547\n",
      "error = 1.5030560383846133e-14\n",
      "adj time = 0.003535747528076172\n",
      "jax time = 0.005250215530395508\n",
      "error = 1.2981897216569376e-14\n",
      "adj time = 0.004180908203125\n",
      "jax time = 0.0042324066162109375\n",
      "error = 1.8708946284298276e-14\n",
      "adj time = 0.0033845901489257812\n",
      "jax time = 0.004478931427001953\n",
      "error = 2.518775668235516e-14\n",
      "adj time = 0.0033075809478759766\n",
      "jax time = 0.004419803619384766\n",
      "error = 1.214260627689908e-13\n",
      "adj time = 0.003373384475708008\n",
      "jax time = 0.004507541656494141\n",
      "error = 3.4459624587719206e-14\n",
      "adj time = 0.003330230712890625\n",
      "jax time = 0.004701852798461914\n",
      "error = 1.869143738629693e-14\n",
      "adj time = 0.003318309783935547\n",
      "jax time = 0.004431247711181641\n",
      "error = 5.468924699473361e-14\n",
      "adj time = 0.003329038619995117\n",
      "jax time = 0.004788875579833984\n",
      "error = 1.3065684794703694e-14\n",
      "adj time = 0.0039327144622802734\n",
      "jax time = 0.004609346389770508\n",
      "error = 7.23505208507988e-14\n",
      "adj time = 0.003757476806640625\n",
      "jax time = 0.0044209957122802734\n",
      "error = 2.7604270890371547e-14\n",
      "adj time = 0.0038237571716308594\n",
      "jax time = 0.00446772575378418\n",
      "error = 2.697887637642584e-14\n",
      "adj time = 0.0036325454711914062\n",
      "jax time = 0.0045092105865478516\n",
      "error = 5.047912699404003e-14\n",
      "adj time = 0.0035991668701171875\n",
      "jax time = 0.005706071853637695\n",
      "error = 2.1094149053858682e-13\n",
      "adj time = 0.0034291744232177734\n",
      "jax time = 0.0044286251068115234\n",
      "error = 2.2291118637358467e-14\n",
      "adj time = 0.003351449966430664\n",
      "jax time = 0.005228519439697266\n",
      "error = 1.5779380388413493e-14\n",
      "adj time = 0.004069328308105469\n",
      "jax time = 0.004126787185668945\n",
      "error = 1.2861340929607559e-14\n",
      "adj time = 0.0033233165740966797\n",
      "jax time = 0.0044362545013427734\n",
      "error = 4.6955359694509025e-14\n",
      "adj time = 0.004086971282958984\n",
      "jax time = 0.0054819583892822266\n",
      "error = 4.49919674575384e-14\n",
      "adj time = 0.0036649703979492188\n",
      "jax time = 0.005756378173828125\n",
      "error = 2.8681305011021904e-14\n",
      "adj time = 0.00390934944152832\n",
      "jax time = 0.005673885345458984\n",
      "error = 4.252867942737787e-14\n",
      "adj time = 0.003912687301635742\n",
      "jax time = 0.004602909088134766\n",
      "error = 8.923201437971186e-13\n",
      "adj time = 0.004234790802001953\n",
      "jax time = 0.005395412445068359\n",
      "error = 4.515361746349891e-14\n",
      "adj time = 0.0038564205169677734\n",
      "jax time = 0.004499197006225586\n",
      "error = 2.3324713843632574e-14\n",
      "adj time = 0.004290103912353516\n",
      "jax time = 0.004153013229370117\n",
      "error = 5.139679886915914e-14\n",
      "adj time = 0.003352642059326172\n",
      "jax time = 0.004462480545043945\n",
      "error = 2.0382564721198118e-14\n",
      "adj time = 0.0041522979736328125\n",
      "jax time = 0.005112171173095703\n",
      "error = 7.083155465530154e-14\n",
      "adj time = 0.004177093505859375\n",
      "jax time = 0.004138469696044922\n",
      "error = 1.7939527565420964e-14\n",
      "adj time = 0.004120826721191406\n",
      "jax time = 0.004997968673706055\n",
      "error = 3.6028835328247724e-14\n",
      "adj time = 0.003659486770629883\n",
      "jax time = 0.005945682525634766\n",
      "error = 2.1207221461125415e-14\n",
      "Mean error: 9.660898940635153e-14\n"
     ]
    }
   ],
   "source": [
    "###############################################################\n",
    "# Evaluate adjoint gradient\n",
    "# - generate a theta of random values\n",
    "# - compute the adjoint and JAX gradients\n",
    "# - compute the error of the adjoint gradient WRT the JAX\n",
    "#   gradient\n",
    "###############################################################\n",
    "\n",
    "# number of iterations\n",
    "numitr = 100\n",
    "\n",
    "# evaluate the gradients\n",
    "totalerr = 0\n",
    "for i in range(numitr):\n",
    "    # generate a theta with random values\n",
    "    # thisthetarnd = np.random.default_rng().normal(size=numcheb + 1) * 10\n",
    "    thisthetarnd = 10.0 * np.random.default_rng().uniform(size=numcheb + 1) - 5.0\n",
    "\n",
    "    # compute the gradient\n",
    "    t1 = time.time()\n",
    "    adjgrad = jitchebwavegradsadj(thisthetarnd)\n",
    "    t2 = time.time()\n",
    "    jaxgrad = jitchebwavegradsjax(thisthetarnd)\n",
    "    t3 = time.time()\n",
    "\n",
    "    # results\n",
    "    print(\"adj time =\", t2 - t1)\n",
    "    print(\"jax time =\", t3 - t2)\n",
    "    thiserr = nl.norm(adjgrad - jaxgrad)\n",
    "    totalerr += thiserr\n",
    "    print(\"error =\", thiserr)\n",
    "\n",
    "print('Mean error:', totalerr/numitr)"
   ],
   "metadata": {
    "collapsed": false,
    "pycharm": {
     "name": "#%%\n"
    }
   }
  },
  {
   "cell_type": "code",
   "execution_count": null,
   "outputs": [],
   "source": [],
   "metadata": {
    "collapsed": false,
    "pycharm": {
     "name": "#%%\n"
    }
   }
  },
  {
   "cell_type": "markdown",
   "source": [
    "---"
   ],
   "metadata": {
    "collapsed": false
   }
  },
  {
   "cell_type": "code",
   "execution_count": 26,
   "outputs": [],
   "source": [
    "seed = 1234  # set to None for random initialization\n",
    "thetarnd = 10.0 * np.random.default_rng(seed).uniform(size=numcheb + 1) - 5.0"
   ],
   "metadata": {
    "collapsed": false,
    "pycharm": {
     "name": "#%%\n"
    }
   }
  },
  {
   "cell_type": "code",
   "execution_count": 27,
   "outputs": [
    {
     "name": "stdout",
     "output_type": "stream",
     "text": [
      "Warning: Desired error not necessarily achieved due to precision loss.\n",
      "         Current function value: 0.000000\n",
      "         Iterations: 185\n",
      "         Function evaluations: 226\n",
      "         Gradient evaluations: 217\n"
     ]
    }
   ],
   "source": [
    "thetahat = so.minimize(fun=jitchebwaveobject, x0=thetarnd, jac=jitchebwavegradsadj, tol=1e-12, options={'maxiter': 4000, 'disp': True, 'gtol': 1e-15}).x"
   ],
   "metadata": {
    "collapsed": false,
    "pycharm": {
     "name": "#%%\n"
    }
   }
  },
  {
   "cell_type": "code",
   "execution_count": 28,
   "outputs": [
    {
     "data": {
      "text/plain": "<Figure size 432x288 with 1 Axes>",
      "image/png": "[encoded data removed]"
     },
     "metadata": {
      "needs_background": "light"
     },
     "output_type": "display_data"
    }
   ],
   "source": [
    "# plot learned vs true\n",
    "plt.plot(xvec, vtruexvec, label='Truth')\n",
    "plt.plot(xvec, chebtox @ thetarnd, label='Initial')\n",
    "plt.plot(xvec, chebtox @ thetahat, label='Learned')\n",
    "plt.title('Learned Potential vs. Truth')\n",
    "plt.legend()\n",
    "plt.show()"
   ],
   "metadata": {
    "collapsed": false,
    "pycharm": {
     "name": "#%%\n"
    }
   }
  }
 ],
 "metadata": {
  "kernelspec": {
   "display_name": "Python 3 (ipykernel)",
   "language": "python",
   "name": "python3"
  },
  "language_info": {
   "codemirror_mode": {
    "name": "ipython",
    "version": 3
   },
   "file_extension": ".py",
   "mimetype": "text/x-python",
   "name": "python",
   "nbconvert_exporter": "python",
   "pygments_lexer": "ipython3",
   "version": "3.9.9"
  }
 },
 "nbformat": 4,
 "nbformat_minor": 5
}