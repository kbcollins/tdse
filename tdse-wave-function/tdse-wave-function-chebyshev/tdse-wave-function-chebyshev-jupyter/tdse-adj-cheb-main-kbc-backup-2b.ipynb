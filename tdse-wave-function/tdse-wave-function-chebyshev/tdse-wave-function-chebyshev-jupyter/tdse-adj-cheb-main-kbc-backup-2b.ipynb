{
 "cells": [
  {
   "cell_type": "code",
   "execution_count": 1,
   "id": "b56b4e7b-b7e8-4446-a869-dc16fcad25e4",
   "metadata": {},
   "outputs": [],
   "source": [
    "import numpy as np\n",
    "import numpy.linalg as nl\n",
    "import scipy.linalg as sl\n",
    "import scipy.special as sps\n",
    "import scipy.integrate as si\n",
    "import scipy.optimize as spo\n",
    "import matplotlib.pyplot as plt\n",
    "import jax\n",
    "import jax.numpy as jnp\n",
    "import jax.numpy.linalg as jnpl\n",
    "from jax.config import config\n",
    "config.update(\"jax_enable_x64\", True)"
   ]
  },
  {
   "cell_type": "markdown",
   "id": "ad17bee5-e941-4ef1-9314-9ea62ce43504",
   "metadata": {},
   "source": [
    "<h3>TDSE Forward Problem</h3>"
   ]
  },
  {
   "cell_type": "code",
   "execution_count": 2,
   "id": "c7d9113b-b601-4c1d-85e2-ec227a142132",
   "metadata": {},
   "outputs": [],
   "source": [
    "# size of spatial domain\n",
    "L = 10.0\n",
    "\n",
    "# set number of real space grid points for plotting\n",
    "nx = 1025\n",
    "# spatial grid for the purposes of plotting\n",
    "xvec = np.linspace(-L, L, nx)\n",
    "\n",
    "# the basis functions used in our Fourier representation\n",
    "# will be from n = -nF to n = nF\n",
    "nF = 32\n",
    "# matrix for converting Fourier basis coefficients to real space values\n",
    "Fnvec = np.arange(-nF, nF + 1) # Fnvec=-nfb,...,0,...,nfb\n",
    "Fcnvrtmat = np.exp(1j * np.pi * np.outer(Fnvec, xvec) / L) / np.sqrt(2 * L)"
   ]
  },
  {
   "cell_type": "markdown",
   "source": [
    "---\n",
    "**Potential Function**"
   ],
   "metadata": {
    "collapsed": false,
    "pycharm": {
     "name": "#%% md\n"
    }
   }
  },
  {
   "cell_type": "code",
   "execution_count": 3,
   "outputs": [
    {
     "data": {
      "text/plain": "<Figure size 432x288 with 1 Axes>",
      "image/png": "[encoded data removed]"
     },
     "metadata": {
      "needs_background": "light"
     },
     "output_type": "display_data"
    }
   ],
   "source": [
    "# define potential for generating training data\n",
    "\n",
    "def v(x):\n",
    "    # dimensionless quantum harmonic oscillator potential\n",
    "    # this is a polynomial so it should be exact for Chebyshev\n",
    "    # return 0.5 * x**2\n",
    "    # rescaled symmetric double well potential\n",
    "    return 2.5e-3 * (x**2 - 25)**2\n",
    "    # scaled asymmetric double well potential\n",
    "    # return 0.0003*((x-3)**4 + 10*(x-5)**3)\n",
    "    # soft coulomb potential\n",
    "    # return -1 / np.sqrt(x**2 + 0.25)\n",
    "\n",
    "    # non-polynomial potentials\n",
    "    # return np.sin(0.4 * x - 1)\n",
    "    # return np.sin((0.5 * x)**2)\n",
    "\n",
    "# compute true potential on real space grid for plotting\n",
    "vxvec = v(xvec)\n",
    "\n",
    "# plot true potential\n",
    "plt.plot(xvec, vxvec)\n",
    "plt.title('Plot of V(x)')\n",
    "plt.xlabel('x')\n",
    "plt.show()"
   ],
   "metadata": {
    "collapsed": false,
    "pycharm": {
     "name": "#%%\n"
    }
   }
  },
  {
   "cell_type": "code",
   "execution_count": 4,
   "outputs": [
    {
     "name": "stdout",
     "output_type": "stream",
     "text": [
      "(65, 65)\n"
     ]
    }
   ],
   "source": [
    "# transform potential function to Fourier representation\n",
    "# using quadrature method\n",
    "# (in tdse-adj-cheb-fft-vs-quad-kbc.ipynb we show that the\n",
    "# using a quadrature method produces much more accurate results)\n",
    "Fvtoeprow = []\n",
    "for thisn in range(2 * nF +1):\n",
    "    def intgrnd(x):\n",
    "        return v(x) * np.exp(-1j * np.pi * thisn * x / L) / (2 * L)\n",
    "    def rintgrnd(x):\n",
    "        return intgrnd(x).real\n",
    "    def iintgrnd(x):\n",
    "        return intgrnd(x).imag\n",
    "    Fvtoeprow.append(si.quad(rintgrnd, -L, L)[0] + 1j * si.quad(iintgrnd, -L, L)[0])\n",
    "Fvtoeprow = np.array(Fvtoeprow)\n",
    "Fvmat = sl.toeplitz(r=Fvtoeprow, c=Fvtoeprow.conj())\n",
    "\n",
    "print(Fvmat.shape)"
   ],
   "metadata": {
    "collapsed": false,
    "pycharm": {
     "name": "#%%\n"
    }
   }
  },
  {
   "cell_type": "markdown",
   "source": [
    "---\n",
    "**Eigendecomposition of a Fourier Represented Potential**"
   ],
   "metadata": {
    "collapsed": false,
    "pycharm": {
     "name": "#%% md\n"
    }
   }
  },
  {
   "cell_type": "code",
   "execution_count": 5,
   "id": "7b241039-f314-4730-9423-644b4d59fac0",
   "metadata": {
    "pycharm": {
     "name": "#%%\n"
    }
   },
   "outputs": [
    {
     "name": "stdout",
     "output_type": "stream",
     "text": [
      "hmat Hermitian check (should be close to zero):\n",
      "0.0\n",
      "Check if hmat is diagonalized (should be close to zero):\n",
      "2.2482948016146895e-13\n",
      "Unitary stts check (should be close to zero):\n",
      "1.3062679398863217e-14\n"
     ]
    }
   ],
   "source": [
    "# construct the kinetic matrix representation of the\n",
    "# kinetic operator in the Fourier basis\n",
    "# (this is constant for a given system)\n",
    "kmat = np.diag(np.arange(-nF, nF + 1)**2 * np.pi**2 / (2 * L**2))\n",
    "\n",
    "# construct the Hamiltonian matrix representation of the\n",
    "# Hamiltonian operator in the Fourier basis\n",
    "Fhmat = kmat + Fvmat\n",
    "\n",
    "# check if the Hamiltonian matrix is Hermitian\n",
    "print('hmat Hermitian check (should be close to zero):', nl.norm(Fhmat - Fhmat.T.conj()), sep='\\n')\n",
    "\n",
    "# eigen-decomposition of the Hamiltonian matrix\n",
    "Fspc, Fstts = nl.eigh(Fhmat)\n",
    "\n",
    "# check if the eigendecomposition diagonalizes the\n",
    "# Hamiltonian matrix\n",
    "# if this is close to zero then\n",
    "# hmat = states @ np.diag(spec) @ np.conj(states).T\n",
    "print('Check if hmat is diagonalized (should be close to zero):', nl.norm(Fhmat @ Fstts - Fstts @ np.diag(Fspc)), sep='\\n')\n",
    "\n",
    "# check if the eigenstates are unitary\n",
    "print('Unitary stts check (should be close to zero):', nl.norm(Fstts @ Fstts.T.conj() - np.eye(2 * nF + 1)), sep='\\n')"
   ]
  },
  {
   "cell_type": "code",
   "execution_count": 6,
   "outputs": [
    {
     "name": "stdout",
     "output_type": "stream",
     "text": [
      "[0.34278056 0.34282712 0.97533999 0.97956584 1.45972777 1.54597656]\n"
     ]
    },
    {
     "data": {
      "text/plain": "<Figure size 432x288 with 1 Axes>",
      "image/png": "[encoded data removed]"
     },
     "metadata": {
      "needs_background": "light"
     },
     "output_type": "display_data"
    },
    {
     "name": "stdout",
     "output_type": "stream",
     "text": [
      "Quick check of normalization (should be close to 1):\n",
      "1.0000000000004734\n",
      "Check of normalization (should be close to 1):\n",
      "1.0\n"
     ]
    }
   ],
   "source": [
    "# find indices that sort eigenvalues\n",
    "ordering = np.argsort(Fspc)\n",
    "\n",
    "# print the first few eigenvalues\n",
    "print(Fspc[ordering[:6]])\n",
    "\n",
    "# pick out and plot ground state\n",
    "groundstate = ordering[0]\n",
    "wavefn = Fstts[:,groundstate] @ Fcnvrtmat\n",
    "plt.plot(xvec, np.real(wavefn))\n",
    "plt.title('Ground state')\n",
    "plt.xlabel('x')\n",
    "plt.show()\n",
    "\n",
    "# quick and dirty check of normalization\n",
    "print('Quick check of normalization (should be close to 1):', np.sum(np.abs(wavefn)**2 * (xvec[1]-xvec[0])), sep='\\n')\n",
    "\n",
    "# this should be a more accurate check of the ground state\n",
    "# wave functions' normalization\n",
    "print('Check of normalization (should be close to 1):', si.trapezoid(np.abs(wavefn)**2, xvec), sep='\\n')"
   ],
   "metadata": {
    "collapsed": false,
    "pycharm": {
     "name": "#%%\n"
    }
   }
  },
  {
   "cell_type": "markdown",
   "source": [
    "---\n",
    "<h3>Foward Propagation</h3>"
   ],
   "metadata": {
    "collapsed": false,
    "pycharm": {
     "name": "#%% md\n"
    }
   }
  },
  {
   "cell_type": "code",
   "execution_count": 7,
   "outputs": [],
   "source": [
    "# solve the forward problem in the Fourier\n",
    "# representation and store the trajectory\n",
    "# in Famat\n",
    "\n",
    "# set the size of a time step\n",
    "dt = 1e-2\n",
    "\n",
    "# set the number of time steps to take starting from\n",
    "# the initial state (a single trajectory should be\n",
    "# nts + 1 states, this includes the initial state)\n",
    "ntsteps = 100  # 600  # 400  # 200\n"
   ],
   "metadata": {
    "collapsed": false,
    "pycharm": {
     "name": "#%%\n"
    }
   }
  },
  {
   "cell_type": "markdown",
   "source": [
    "---\n",
    "**Initial Wave Function and its Fourier Representation**"
   ],
   "metadata": {
    "collapsed": false
   }
  },
  {
   "cell_type": "code",
   "execution_count": 8,
   "outputs": [
    {
     "data": {
      "text/plain": "<Figure size 432x288 with 1 Axes>",
      "image/png": "[encoded data removed]"
     },
     "metadata": {
      "needs_background": "light"
     },
     "output_type": "display_data"
    },
    {
     "name": "stdout",
     "output_type": "stream",
     "text": [
      "L2 Error psi0_1: 0.0016527977617119677\n",
      "L-infinity Error psi0_1: 0.0007032581692589898\n",
      "L2 Error psi0_2: 0.0016527977617119673\n",
      "L-infinity Error psi0_2: 0.0007032581692589886\n"
     ]
    }
   ],
   "source": [
    "# define initial state(s) and transform to Fourier basis\n",
    "\n",
    "ainitvec = []\n",
    "\n",
    "def psi0_1(x):\n",
    "    # return 1.0 + np.tanh((1 - x**2)/0.5)  # rounded box function\n",
    "    # return np.piecewise(x, [x < -1, (x >= -1) & (x <= 1), x > 1], [0, lambda x: (1 - np.abs(x)), 0])  # triangular pulse\n",
    "    # return np.piecewise(x, [x < -1, (x >= -1) & (x <= 1), x > 1], [0, lambda x: (1 - x**2), 0])  # parabolic pulse\n",
    "    # return (np.cosh(x))**(-2)  # hyperbolic secant squared\n",
    "    # return np.exp(-np.abs(x))  # Laplace\n",
    "    # HSB's \"super simple initial condition\"\n",
    "    # return np.exp(-x**2) * (2.0 / np.pi)**0.25  # Gaussian with L^2 norm = 1\n",
    "\n",
    "    # this psi0 works well for harmonic potential\n",
    "    # return np.exp(-(x + 3)**2 / 4) * (2.0 / np.pi)**0.25\n",
    "\n",
    "    return np.exp(-(x + 5)**2 / 4) * (2.0 / np.pi)**0.25\n",
    "\n",
    "    # return np.exp(-(x + 7)**2 / 0.2) * (2.0 / np.pi)**0.25\n",
    "\n",
    "# WHEN USING HSB'S GAUSSIAN WITH L^2 NORM = 1\n",
    "# normpsi0_1_fn = psi0_1\n",
    "# WHEN NOT USING HSB'S GAUSSIAN WITH L^2 NORM = 1\n",
    "# compute psi0 normalization term\n",
    "psi0_1_probintgrnd = lambda x: np.abs(psi0_1(x))**2\n",
    "psi0_1_normtrm = np.sqrt(si.quad(psi0_1_probintgrnd, -L, L)[0])\n",
    "# define normalized psi function to be used by\n",
    "# a scipy.integrate methods\n",
    "def normpsi0_1_fn(x):\n",
    "    return psi0_1(x)/psi0_1_normtrm\n",
    "\n",
    "# compute the Fourier basis representation of the\n",
    "# normalized psi0 function using quadrature method\n",
    "normpsi0_1_quad = np.zeros(nF + 1, dtype=np.complex128)\n",
    "for thisn in range (nF + 1):\n",
    "    def intgrnd(x):\n",
    "        return normpsi0_1_fn(x) * np.exp(-1j * np.pi * thisn * x / L) / np.sqrt(2 * L)\n",
    "    def rintgrnd(x):\n",
    "        return intgrnd(x).real\n",
    "    def iintgrnd(x):\n",
    "        return intgrnd(x).imag\n",
    "    normpsi0_1_quad[thisn] = si.quad(rintgrnd, -L, L)[0] + 1j*si.quad(iintgrnd, -L, L)[0]\n",
    "\n",
    "ainit_1 = np.concatenate([np.conjugate(np.flipud(normpsi0_1_quad[1:])), normpsi0_1_quad])\n",
    "\n",
    "ainitvec.append(ainit_1)\n",
    "\n",
    "def psi0_2(x):\n",
    "    # return 1.0 + np.tanh((1 - x**2)/0.5)  # rounded box function\n",
    "    # return np.piecewise(x, [x < -1, (x >= -1) & (x <= 1), x > 1], [0, lambda x: (1 - np.abs(x)), 0])  # triangular pulse\n",
    "    # return np.piecewise(x, [x < -1, (x >= -1) & (x <= 1), x > 1], [0, lambda x: (1 - x**2), 0])  # parabolic pulse\n",
    "    # return (np.cosh(x))**(-2)  # hyperbolic secant squared\n",
    "    # return np.exp(-np.abs(x))  # Laplace\n",
    "    # HSB's \"super simple initial condition\"\n",
    "    # return np.exp(-x**2) * (2.0 / np.pi)**0.25  # Gaussian with L^2 norm = 1\n",
    "    #\n",
    "    # return np.exp(-(x - 7)**2 / 0.2) * (2.0 / np.pi)**0.25\n",
    "\n",
    "    # this psi0 works well for harmonic potential\n",
    "    # return np.exp(-(x - 3)**2 / 4) * (2.0 / np.pi)**0.25\n",
    "\n",
    "    return np.exp(-(x - 5)**2 / 4) * (2.0 / np.pi)**0.25\n",
    "\n",
    "# WHEN USING HSB'S GAUSSIAN WITH L^2 NORM = 1\n",
    "# normpsi0_2_fn = psi0_2\n",
    "# WHEN NOT USING HSB'S GAUSSIAN WITH L^2 NORM = 1\n",
    "# compute psi0 normalization term\n",
    "psi0_2_probintgrnd = lambda x: np.abs(psi0_2(x))**2\n",
    "psi0_2_normtrm = np.sqrt(si.quad(psi0_2_probintgrnd, -L, L)[0])\n",
    "# define normalized psi function to be used by\n",
    "# a scipy.integrate methods\n",
    "def normpsi0_2_fn(x):\n",
    "    return psi0_2(x)/psi0_2_normtrm\n",
    "\n",
    "# compute the Fourier basis representation of the\n",
    "# normalized psi0 function using quadrature method\n",
    "normpsi0_2_quad = np.zeros(nF + 1, dtype=np.complex128)\n",
    "for thisn in range (nF + 1):\n",
    "    def intgrnd(x):\n",
    "        return normpsi0_2_fn(x) * np.exp(-1j * np.pi * thisn * x / L) / np.sqrt(2 * L)\n",
    "    def rintgrnd(x):\n",
    "        return intgrnd(x).real\n",
    "    def iintgrnd(x):\n",
    "        return intgrnd(x).imag\n",
    "    normpsi0_2_quad[thisn] = si.quad(rintgrnd, -L, L)[0] + 1j*si.quad(iintgrnd, -L, L)[0]\n",
    "\n",
    "ainit_2 = np.concatenate([np.conjugate(np.flipud(normpsi0_2_quad[1:])), normpsi0_2_quad])\n",
    "\n",
    "ainitvec.append(ainit_2)\n",
    "\n",
    "normpsi0_1_vecrec = ainitvec[0] @ Fcnvrtmat\n",
    "normpsi0_1_vec = normpsi0_1_fn(xvec)\n",
    "\n",
    "normpsi0_2_vecrec = ainitvec[1] @ Fcnvrtmat\n",
    "normpsi0_2_vec = normpsi0_2_fn(xvec)\n",
    "\n",
    "# plot the real part of the normalized psi0\n",
    "plt.plot(xvec, normpsi0_1_vecrec.real, label=\"Rec 1\")\n",
    "plt.plot(xvec, normpsi0_1_vec.real, label=\"Truth 1\")\n",
    "plt.plot(xvec, normpsi0_2_vecrec.real, label=\"Rec 2\")\n",
    "plt.plot(xvec, normpsi0_2_vec.real, label=\"Truth 2\")\n",
    "plt.title('Real Part of Initial Wave Function')\n",
    "plt.xlabel('x')\n",
    "plt.legend()\n",
    "plt.show()\n",
    "\n",
    "print('L2 Error psi0_1:', nl.norm(normpsi0_1_vecrec - normpsi0_1_vec))\n",
    "print('L-infinity Error psi0_1:', np.max(np.abs(normpsi0_1_vecrec - normpsi0_1_vec)))\n",
    "\n",
    "print('L2 Error psi0_2:', nl.norm(normpsi0_2_vecrec - normpsi0_2_vec))\n",
    "print('L-infinity Error psi0_2:', np.max(np.abs(normpsi0_2_vecrec - normpsi0_2_vec)))"
   ],
   "metadata": {
    "collapsed": false,
    "pycharm": {
     "name": "#%%\n"
    }
   }
  },
  {
   "cell_type": "markdown",
   "source": [
    "---\n",
    "**Forward Propagation of ainit using the Potential in Fourier Representation**"
   ],
   "metadata": {
    "collapsed": false
   }
  },
  {
   "cell_type": "code",
   "execution_count": 9,
   "outputs": [
    {
     "name": "stdout",
     "output_type": "stream",
     "text": [
      "Done propagating.\n"
     ]
    }
   ],
   "source": [
    "# compute the propagator matrix reusing the\n",
    "# spectrum and states from the eigendecomposition\n",
    "# of Hamiltonian matrix computed above\n",
    "Fpropa = Fstts @ np.diag(np.exp(-1j * Fspc * dt)) @ Fstts.conj().T\n",
    "\n",
    "Famatvec = []\n",
    "# propagate the system starting from the initial \"a\" state\n",
    "for thisainit in ainitvec:\n",
    "    tempFamat = np.zeros((ntsteps + 1, 2 * nF + 1), dtype=np.complex128)\n",
    "    tempFamat[0] = thisainit.copy()\n",
    "    for i in range(ntsteps):\n",
    "        tempFamat[i + 1] = Fpropa @ tempFamat[i]\n",
    "    Famatvec.append(tempFamat)\n",
    "\n",
    "# compute the wave function in space from each \"a\" vector\n",
    "# do it all at once using matrix multiplication!\n",
    "Fpsimat_1 = Famatvec[0] @ Fcnvrtmat\n",
    "Fpsimat_2 = Famatvec[1] @ Fcnvrtmat\n",
    "\n",
    "print('Done propagating.')"
   ],
   "metadata": {
    "collapsed": false,
    "pycharm": {
     "name": "#%%\n"
    }
   }
  },
  {
   "cell_type": "code",
   "execution_count": 10,
   "outputs": [
    {
     "data": {
      "text/plain": "<Figure size 432x288 with 24 Axes>",
      "image/png": "[encoded data removed]"
     },
     "metadata": {
      "needs_background": "light"
     },
     "output_type": "display_data"
    }
   ],
   "source": [
    "numsnapshots = 12\n",
    "\n",
    "fig, axs = plt.subplots(nrows=2, ncols=numsnapshots, sharex='all', sharey='all')\n",
    "\n",
    "plottstep = ntsteps // numsnapshots\n",
    "\n",
    "for i in range(2):\n",
    "    for j in range(numsnapshots):\n",
    "        axs[i, j].plot(xvec, np.abs((Famatvec[i] @ Fcnvrtmat)[plottstep * j])**2)\n",
    "\n",
    "plt.show()"
   ],
   "metadata": {
    "collapsed": false,
    "pycharm": {
     "name": "#%%\n"
    }
   }
  },
  {
   "cell_type": "code",
   "execution_count": 11,
   "outputs": [
    {
     "data": {
      "text/plain": "<Figure size 432x288 with 1 Axes>",
      "image/png": "[encoded data removed]"
     },
     "metadata": {
      "needs_background": "light"
     },
     "output_type": "display_data"
    },
    {
     "name": "stdout",
     "output_type": "stream",
     "text": [
      "Average Norm of Trajectory Fpsimatnormvec_1 (should be close to 1):\n",
      "0.9999999544182862\n",
      "Average Norm of Trajectory Fpsimatnormvec_2 (should be close to 1):\n",
      "0.9999999544182847\n"
     ]
    }
   ],
   "source": [
    "# check if the wave function of each time step\n",
    "# is normalized to 1\n",
    "# this should produce a graph with a line that is almost\n",
    "# completely horizontal at 1\n",
    "Fpsimatnormvec_1 = si.trapezoid(np.abs(Fpsimat_1)**2, xvec, axis=1)\n",
    "plt.plot(np.arange(ntsteps + 1) * dt, Fpsimatnormvec_1, label='1')\n",
    "Fpsimatnormvec_2 = si.trapezoid(np.abs(Fpsimat_2)**2, xvec, axis=1)\n",
    "plt.plot(np.arange(ntsteps + 1) * dt, Fpsimatnormvec_2, label='2')\n",
    "plt.hlines(1 , 0, ntsteps * dt, linestyles='-.', colors='darkorange', label='_')\n",
    "plt.title('Normalization of the Wave Function\\nas a Function of Time\\n')\n",
    "plt.xlabel('Time')\n",
    "plt.ylabel('Norm')\n",
    "plt.legend()\n",
    "plt.show()\n",
    "\n",
    "# norm difference of wave function normalization check,\n",
    "# this should be close to 1\n",
    "print('Average Norm of Trajectory Fpsimatnormvec_1 (should be close to 1):', Fpsimatnormvec_1.sum() / (ntsteps + 1), sep='\\n')\n",
    "print('Average Norm of Trajectory Fpsimatnormvec_2 (should be close to 1):', Fpsimatnormvec_2.sum() / (ntsteps + 1), sep='\\n')"
   ],
   "metadata": {
    "collapsed": false,
    "pycharm": {
     "name": "#%%\n"
    }
   }
  },
  {
   "cell_type": "markdown",
   "source": [
    "---\n",
    "<h3>Chebyshev Representation</h3>"
   ],
   "metadata": {
    "collapsed": false
   }
  },
  {
   "cell_type": "code",
   "execution_count": 12,
   "outputs": [],
   "source": [
    "# set the number of Chebyshev coefficients\n",
    "# for the soft columb potential odd values work best\n",
    "nc = 11  # 31"
   ],
   "metadata": {
    "collapsed": false,
    "pycharm": {
     "name": "#%%\n"
    }
   }
  },
  {
   "cell_type": "code",
   "execution_count": 13,
   "outputs": [
    {
     "name": "stdout",
     "output_type": "stream",
     "text": [
      "[ 4.68750000e+00  5.92118946e-16  6.25000000e+00  1.48029737e-15\n",
      "  3.12500000e+00  4.73695157e-15 -2.96059473e-16  5.03301104e-15\n",
      " -5.92118946e-15  8.28966525e-15 -9.69594775e-15  4.58892184e-15]\n"
     ]
    },
    {
     "data": {
      "text/plain": "<Figure size 432x288 with 1 Axes>",
      "image/png": "[encoded data removed]"
     },
     "metadata": {
      "needs_background": "light"
     },
     "output_type": "display_data"
    },
    {
     "name": "stdout",
     "output_type": "stream",
     "text": [
      "L2 Error (should be close to zero):\n",
      "2.6645421050498713e-13\n",
      "L-infinity Error (should be close to zero):\n",
      "4.440892098500626e-14\n"
     ]
    }
   ],
   "source": [
    "# to test our Chebyshev representation let's represent\n",
    "# the potential function, v(x), using Chebyshev polynomials\n",
    "# then reconstruct it in real space and compare the sampled\n",
    "# function to the reconstruction\n",
    "# for the simple harmonic potential this should be\n",
    "# exact because v(x) **is** a polynomial\n",
    "\n",
    "def theta(k):\n",
    "    return (k - 0.5) * np.pi / (nc + 1)\n",
    "\n",
    "def g(k):\n",
    "    # cos(\\theta) ranges from [-1, 1] which is the domain\n",
    "    # of the Chebyshev interpolation function so we need to\n",
    "    # modify v()'s so when it is given x \\in [-1, 1], it\n",
    "    # actually spans the domain [-L, L]\n",
    "    # to do that, we multiply by np.cos(theta(k)) by L\n",
    "    return v(L * np.cos(theta(k)))\n",
    "\n",
    "kvec = np.arange(1, nc + 2)\n",
    "cnvec = np.arange(0, nc + 1)\n",
    "\n",
    "cweights = np.ones(nc + 1)\n",
    "cweights[0] = 0.5\n",
    "\n",
    "# compute Chebyshev coefficients\n",
    "cvec = 2 / (nc + 1) * np.sum(g(kvec) * np.cos(cnvec[..., np.newaxis] * theta(kvec)), axis=1)\n",
    "cvec = cweights * cvec\n",
    "print(cvec)\n",
    "\n",
    "ctoxmat = sps.eval_chebyt(np.expand_dims(cnvec, 0), np.expand_dims(xvec / L, 1))\n",
    "vrec = ctoxmat @ cvec\n",
    "\n",
    "# plot reconstruction vs truth\n",
    "plt.plot(xvec, vrec, label='cheb')\n",
    "plt.plot(xvec, vxvec, label='True')\n",
    "plt.title(f'Approx vs. True for n={nc}')\n",
    "plt.legend()\n",
    "plt.show()\n",
    "\n",
    "# vec L2 error\n",
    "print('L2 Error (should be close to zero):', nl.norm(v(xvec) - vrec), sep='\\n')\n",
    "# L-infinity error\n",
    "print('L-infinity Error (should be close to zero):', np.max(np.abs(v(xvec) - vrec)), sep='\\n')"
   ],
   "metadata": {
    "collapsed": false,
    "pycharm": {
     "name": "#%%\n"
    }
   }
  },
  {
   "cell_type": "markdown",
   "source": [
    "---\n",
    "**Form the Potential Matrix from the Chebyshev Representation**"
   ],
   "metadata": {
    "collapsed": false
   }
  },
  {
   "cell_type": "code",
   "execution_count": 14,
   "outputs": [
    {
     "name": "stdout",
     "output_type": "stream",
     "text": [
      "Shape chebtoF: (65, 65, 12)\n",
      "(65, 65)\n",
      "(65, 65)\n",
      "L2 Norm Error (should be close to 0): 2.7228797368957747e-13\n",
      "L-infinity Error (should be close to 0): 3.123656990544926e-14\n"
     ]
    }
   ],
   "source": [
    "# to test our Chebyshev representation let's construct\n",
    "# the potential matrix, vmat, using Chebyshev polynomials\n",
    "# via quadrature method then check the result against\n",
    "# the potential matrix formed directly in the Fourier\n",
    "# representation\n",
    "\n",
    "# this function returns the chebyshev approximation of\n",
    "# the potential at some spatial point x, this is needed\n",
    "# for transforming the Chebyshev coefficients to the\n",
    "# Fourier representation by quadrature method\n",
    "# def vchebaprx(x):\n",
    "    # don't forget the interval of the argument x is [-L, L]\n",
    "    # but for the chebyshev representation it needs to be\n",
    "    # [-1, 1] so we need to divide x by L\n",
    "    # return sps.eval_chebyt(np.expand_dims(cnvec, 0), x / L) @ cvec\n",
    "\n",
    "# compute the Fourier representation of the Chebyshev\n",
    "# coefficients of the true potential\n",
    "# cvrowquad = np.zeros(2 * nF + 1, dtype=np.complex128)\n",
    "# for thisn in range(2 * nF + 1):\n",
    "#     def intgrnd(x):\n",
    "#         return vchebaprx(x) * np.exp(-1j * np.pi * thisn * x / L) / (2 * L)\n",
    "#     def rintgrnd(x):\n",
    "#         return intgrnd(x).real\n",
    "#     def iintgrnd(x):\n",
    "#         return intgrnd(x).imag\n",
    "#     cvrowquad[thisn] = si.quad(rintgrnd, -L, L)[0] + 1j * si.quad(iintgrnd, -L, L)[0]\n",
    "\n",
    "# creates matrix that can be used to transform\n",
    "# the Chebyshev coefficients to the Fourier representation\n",
    "# chebtoF = np.zeros((2 * nF + 1, nc + 1), dtype=np.complex128)\n",
    "chebtoF = []\n",
    "for thiscn in range(nc + 1):\n",
    "    temptoeprow = []\n",
    "    for thisn in range(2 * nF + 1):\n",
    "        def intgrnd(x):\n",
    "            # tvec = lambda x: sps.eval_chebyt(np.expand_dims(thiscn, 0), x / L)\n",
    "            # return tvec(x) * np.exp(-1j * np.pi * thisn * x / L) / (2 * L)\n",
    "            return sps.eval_chebyt(thiscn, x / L) * np.exp(-1j * np.pi * thisn * x / L) / (2 * L)\n",
    "        def rintgrnd(x):\n",
    "            return intgrnd(x).real\n",
    "        def iintgrnd(x):\n",
    "            return intgrnd(x).imag\n",
    "\n",
    "        # chebtoF[thisn, thiscn] = si.quad(rintgrnd, -L, L)[0] + 1j * si.quad(iintgrnd, -L, L)[0]\n",
    "        temptoeprow.append(si.quad(rintgrnd, -L, L)[0] + 1j * si.quad(iintgrnd, -L, L)[0])\n",
    "    chebtoF.append(sl.toeplitz(r=temptoeprow, c=np.conj(temptoeprow)))\n",
    "    # chebtoF.append(temptoeprow)\n",
    "\n",
    "chebtoF = np.array(chebtoF).T\n",
    "print('Shape chebtoF:', chebtoF.shape)\n",
    "\n",
    "# check how much the Fourier representation coefficients\n",
    "# constructed from the Chebyshev representation differ from\n",
    "# the true Fourier coefficients\n",
    "# (i.e., compare the potential in the Fourier representation\n",
    "# to the potential reconstructed from the Chebyshev representation)\n",
    "# print('L2 Norm Error (should be close to 0):', nl.norm(Fvtoeprow - chebtoF @ cvec))  # 2.319575846403117e-13\n",
    "print(sl.toeplitz(r=Fvtoeprow, c=np.conj(Fvtoeprow)).shape)\n",
    "print((chebtoF @ cvec).shape)\n",
    "print('L2 Norm Error (should be close to 0):', nl.norm(sl.toeplitz(r=Fvtoeprow, c=np.conj(Fvtoeprow)) - chebtoF @ cvec))  # 1.2698568848776662e-12\n",
    "# print('L-infinity Error (should be close to 0):', np.max(np.abs(Fvtoeprow - chebtoF @ cvec)))  # 1.4527419384605627e-13\n",
    "print('L-infinity Error (should be close to 0):', np.max(np.abs(sl.toeplitz(r=Fvtoeprow, c=np.conj(Fvtoeprow)) - chebtoF @ cvec)))  # 1.452737601671089e-13"
   ],
   "metadata": {
    "collapsed": false,
    "pycharm": {
     "name": "#%%\n"
    }
   }
  },
  {
   "cell_type": "markdown",
   "source": [
    "---\n",
    "**Eigendecomposition of a Chebyshev Represented Potential**"
   ],
   "metadata": {
    "collapsed": false
   }
  },
  {
   "cell_type": "code",
   "execution_count": 15,
   "outputs": [
    {
     "name": "stdout",
     "output_type": "stream",
     "text": [
      "hmat Hermitian check (should be close to zero):\n",
      "0.0\n",
      "Check if hmat is diagonalized (should be close to zero):\n",
      "1.850455758629414e-13\n",
      "Unitary stts check (should be close to zero):\n",
      "1.2242341493403846e-14\n"
     ]
    }
   ],
   "source": [
    "# to test our Chebyshev representation let's compare\n",
    "# the Hamiltonian matrix and its eigendecomposition\n",
    "# constructed from the potential matrix reconstructed\n",
    "# from the Chebyshev coefficients of the potential\n",
    "# to the same features constructed directly in the\n",
    "# Fourier representation\n",
    "\n",
    "# make the potential matrix from the Chebyshev coefficents\n",
    "# cvmat = sl.toeplitz(r=chebtoF @ cvec, c=np.conj(chebtoF @ cvec))\n",
    "cvmat = chebtoF @ cvec\n",
    "\n",
    "# construct the Hamiltonian matrix representation of the\n",
    "# Hamiltonian operator in the Fourier basis\n",
    "chmat = kmat + cvmat\n",
    "\n",
    "# check if the Hamiltonian matrix is Hermitian\n",
    "print('hmat Hermitian check (should be close to zero):', nl.norm(chmat - chmat.T.conj()), sep='\\n')\n",
    "\n",
    "# eigendecomposition of the Hamiltonian matrix\n",
    "cspc, cstts = nl.eigh(chmat)\n",
    "\n",
    "# check if the eigendecomposition diagonalizes the\n",
    "# Hamiltonian matrix\n",
    "# if this is close to zero then\n",
    "# hmat = states @ np.diag(spec) @ np.conj(states).T\n",
    "print('Check if hmat is diagonalized (should be close to zero):', nl.norm(chmat @ cstts - cstts @ np.diag(cspc)), sep='\\n')\n",
    "\n",
    "# check if the eigenstates are unitary\n",
    "print('Unitary stts check (should be close to zero):', nl.norm(cstts @ cstts.T.conj() - np.eye(2 * nF + 1)), sep='\\n')\n",
    "\n",
    "# results for the original way\n",
    "# hmat Hermitian check (should be close to zero):\n",
    "# 0.0\n",
    "# Check if hmat is diagonalized (should be close to zero):\n",
    "# 3.264297626570781e-13\n",
    "# Unitary stts check (should be close to zero):\n",
    "# 1.1878611598105484e-14"
   ],
   "metadata": {
    "collapsed": false,
    "pycharm": {
     "name": "#%%\n"
    }
   }
  },
  {
   "cell_type": "code",
   "execution_count": 16,
   "outputs": [
    {
     "name": "stdout",
     "output_type": "stream",
     "text": [
      "L2 Error of the Hamiltonian matrix (should be close to 0):\n",
      "2.7228797368957747e-13\n",
      "L2 Error of spectrum (should be close to 0):\n",
      "7.907183050175504e-14\n",
      "L2 Error of states (should be close to 0):\n",
      "4.733689012278738e-11\n"
     ]
    }
   ],
   "source": [
    "print('L2 Error of the Hamiltonian matrix (should be close to 0):', nl.norm(cvmat - Fvmat), sep='\\n')\n",
    "print('L2 Error of spectrum (should be close to 0):', nl.norm(cspc - Fspc), sep='\\n')\n",
    "print('L2 Error of states (should be close to 0):', nl.norm(cstts - Fstts), sep='\\n')\n",
    "\n",
    "# results for the original way\n",
    "# L2 Error of the Hamiltonian matrix (should be close to 0):\n",
    "# 1.44838302671362e-12\n",
    "# L2 Error of spectrum (should be close to 0):\n",
    "# 5.43553446497394e-13\n",
    "# L2 Error of states (should be close to 0):\n",
    "# 7.48331477354788"
   ],
   "metadata": {
    "collapsed": false,
    "pycharm": {
     "name": "#%%\n"
    }
   }
  },
  {
   "cell_type": "markdown",
   "source": [
    "---\n",
    "**Forward Propagation of ainit using the Potential in the Cheybshev Representation**"
   ],
   "metadata": {
    "collapsed": false
   }
  },
  {
   "cell_type": "code",
   "execution_count": 17,
   "outputs": [
    {
     "name": "stdout",
     "output_type": "stream",
     "text": [
      "Done propagating.\n"
     ]
    }
   ],
   "source": [
    "# propagate the system using the Chebyshev\n",
    "# representation of the true potential and compare\n",
    "# if chebyshev propagation agrees with Fourier\n",
    "# propagation\n",
    "\n",
    "# compute the propagator matrix reusing the\n",
    "# spectrum and states from the eigendecomposition\n",
    "# of Hamiltonian matrix computed above\n",
    "# cspc, cstts\n",
    "cpropa = cstts @ np.diag(np.exp(-1j * cspc * dt)) @ cstts.conj().T\n",
    "\n",
    "camatvec = []\n",
    "# propagate the system starting from the initial \"a\" state\n",
    "for thisainit in ainitvec:\n",
    "    tempcamat = np.zeros((ntsteps + 1, 2 * nF + 1), dtype=np.complex128)\n",
    "    tempcamat[0] = thisainit.copy()\n",
    "    for i in range(ntsteps):\n",
    "        tempcamat[i + 1] = cpropa @ tempcamat[i]\n",
    "    camatvec.append(tempcamat)\n",
    "\n",
    "# compute the wave function in space from each \"a\" vector\n",
    "# do it all at once using matrix multiplication!\n",
    "cpsimat_1 = camatvec[0] @ Fcnvrtmat\n",
    "cpsimat_2 = camatvec[1] @ Fcnvrtmat\n",
    "\n",
    "print('Done propagating.')"
   ],
   "metadata": {
    "collapsed": false,
    "pycharm": {
     "name": "#%%\n"
    }
   }
  },
  {
   "cell_type": "code",
   "execution_count": 18,
   "outputs": [
    {
     "data": {
      "text/plain": "<Figure size 432x288 with 24 Axes>",
      "image/png": "[encoded data removed]"
     },
     "metadata": {
      "needs_background": "light"
     },
     "output_type": "display_data"
    }
   ],
   "source": [
    "fig, axs = plt.subplots(nrows=2, ncols=numsnapshots, sharex='all', sharey='all')\n",
    "\n",
    "plottstep = ntsteps // numsnapshots\n",
    "\n",
    "for i in range(2):\n",
    "    for j in range(numsnapshots):\n",
    "        axs[i, j].plot(xvec, np.abs((camatvec[i] @ Fcnvrtmat)[plottstep * j])**2)\n",
    "\n",
    "plt.show()"
   ],
   "metadata": {
    "collapsed": false,
    "pycharm": {
     "name": "#%%\n"
    }
   }
  },
  {
   "cell_type": "code",
   "execution_count": 19,
   "outputs": [
    {
     "data": {
      "text/plain": "<Figure size 432x288 with 1 Axes>",
      "image/png": "[encoded data removed]"
     },
     "metadata": {
      "needs_background": "light"
     },
     "output_type": "display_data"
    },
    {
     "name": "stdout",
     "output_type": "stream",
     "text": [
      "Average Norm of Trajectory 1 (should be close to 1):\n",
      "0.9999999544182953\n",
      "Average Norm of Trajectory 2 (should be close to 1):\n",
      "0.9999999544182991\n"
     ]
    }
   ],
   "source": [
    "# check if the wave function of each time step\n",
    "# is normalized to 1\n",
    "# this should produce a graph with a line that is almost\n",
    "# completely horizontal at 1\n",
    "cpsimatnormvec_1 = si.trapezoid(np.abs(cpsimat_1) ** 2, xvec, axis=1)\n",
    "plt.plot(np.arange(ntsteps + 1) * dt, cpsimatnormvec_1, label='1')\n",
    "cpsimatnormvec_2 = si.trapezoid(np.abs(cpsimat_2) ** 2, xvec, axis=1)\n",
    "plt.plot(np.arange(ntsteps + 1) * dt, cpsimatnormvec_2, label='2')\n",
    "plt.hlines(1 , 0, ntsteps * dt, linestyles='-.', colors='darkorange', label='_')\n",
    "plt.title('Normalization of the Wave Function\\nas a Function of Time\\n')\n",
    "plt.xlabel('Time')\n",
    "plt.ylabel('Norm')\n",
    "plt.legend()\n",
    "plt.show()\n",
    "\n",
    "# norm difference of wave function normalization check,\n",
    "# this should be close to 1\n",
    "print('Average Norm of Trajectory 1 (should be close to 1):', cpsimatnormvec_1.sum() / (ntsteps + 1), sep='\\n')\n",
    "print('Average Norm of Trajectory 2 (should be close to 1):', cpsimatnormvec_2.sum() / (ntsteps + 1), sep='\\n')"
   ],
   "metadata": {
    "collapsed": false,
    "pycharm": {
     "name": "#%%\n"
    }
   }
  },
  {
   "cell_type": "code",
   "execution_count": 20,
   "outputs": [
    {
     "name": "stdout",
     "output_type": "stream",
     "text": [
      "L2 Error Trajectory 1 (should be close to 0):\n",
      "4.031782407760581e-12\n",
      "L-infinity Error Trajectory 1 (should be close to 0):\n",
      "3.786996816244004e-14\n",
      "L2 Error Trajectory 2 (should be close to 0):\n",
      "4.071660644143536e-12\n",
      "L-infinity Error Trajectory 2 (should be close to 0):\n",
      "4.172851183341525e-14\n"
     ]
    },
    {
     "data": {
      "text/plain": "<Figure size 432x288 with 1 Axes>",
      "image/png": "[encoded data removed]"
     },
     "metadata": {
      "needs_background": "light"
     },
     "output_type": "display_data"
    }
   ],
   "source": [
    "print('L2 Error Trajectory 1 (should be close to 0):', nl.norm(cpsimat_1 - Fpsimat_1), sep='\\n')\n",
    "print('L-infinity Error Trajectory 1 (should be close to 0):', np.max(np.abs(cpsimat_1 - Fpsimat_1)), sep='\\n')\n",
    "print('L2 Error Trajectory 2 (should be close to 0):', nl.norm(cpsimat_2 - Fpsimat_2), sep='\\n')\n",
    "print('L-infinity Error Trajectory 2 (should be close to 0):', np.max(np.abs(cpsimat_2 - Fpsimat_2)), sep='\\n')\n",
    "\n",
    "plt.plot(nl.norm(cpsimat_1 - Fpsimat_1, axis=1), label='1')\n",
    "plt.plot(nl.norm(cpsimat_2 - Fpsimat_2, axis=1), label='2')\n",
    "plt.title('L2 Error of the Wave Function \\nfor Each Time Step')\n",
    "plt.xlabel('x')\n",
    "plt.legend()\n",
    "plt.show()"
   ],
   "metadata": {
    "collapsed": false,
    "pycharm": {
     "name": "#%%\n"
    }
   }
  },
  {
   "cell_type": "markdown",
   "source": [
    "---\n",
    "<h3>Inverse Problem - Adjoint Method</h3>"
   ],
   "metadata": {
    "collapsed": false,
    "pycharm": {
     "name": "#%% md\n"
    }
   }
  },
  {
   "cell_type": "code",
   "execution_count": 21,
   "outputs": [
    {
     "name": "stdout",
     "output_type": "stream",
     "text": [
      "(65, 65)\n"
     ]
    }
   ],
   "source": [
    "# this code is used to make a toeplitz matrix from the\n",
    "# Fourier representation\n",
    "# flattoepvec = jnp.concatenate([jnp.flipud(cvrow.conj()), cvrow[1:]])\n",
    "\n",
    "numtoepelms = 2 * nF + 1\n",
    "a = (-1) * np.arange(0, numtoepelms).reshape(numtoepelms, 1)\n",
    "b = [np.arange(numtoepelms - 1, 2 * numtoepelms -1)]\n",
    "toepindxmat = jnp.array(a + b)\n",
    "print(toepindxmat.shape)"
   ],
   "metadata": {
    "collapsed": false,
    "pycharm": {
     "name": "#%%\n"
    }
   }
  },
  {
   "cell_type": "code",
   "execution_count": 22,
   "outputs": [
    {
     "name": "stdout",
     "output_type": "stream",
     "text": [
      "(2, 101, 65)\n",
      "(65, 65, 12)\n"
     ]
    }
   ],
   "source": [
    "# convert python list to JAX object\n",
    "jaxFamatvec = jnp.stack(Famatvec)\n",
    "print(jaxFamatvec.shape)\n",
    "\n",
    "# convert the NumPy chebtoF matrix to a JAX object\n",
    "jaxchebtoF = jnp.array(chebtoF)\n",
    "print(jaxchebtoF.shape)"
   ],
   "metadata": {
    "collapsed": false,
    "pycharm": {
     "name": "#%%\n"
    }
   }
  },
  {
   "cell_type": "code",
   "execution_count": 23,
   "outputs": [],
   "source": [
    "def cobjfn(cffs):\n",
    "    # construct the vmat from Chebyshev coefficients\n",
    "    # vmat = ctovmat(cffs)\n",
    "    # cvrow = jaxchebtoF @ cffs\n",
    "    # flattoepvec = jnp.concatenate([jnp.flipud(cvrow.conj()), cvrow[1:]])\n",
    "    # vhatmat = jnp.array(flattoepvec[toepindxmat])\n",
    "    vhatmat = jaxchebtoF @ cffs\n",
    "    # print('L2 Error vmat (should be close to 0):', jnpl.norm(vmat - cvmat), sep='\\n')\n",
    "\n",
    "    # construct the Hamiltonian matrix\n",
    "    hhatmat = kmat + vhatmat\n",
    "    # print('L2 Error hmat (should be close to 0):', jnpl.norm(hmat - chmat), sep='\\n')\n",
    "\n",
    "    # eigendecomposition of the Hamiltonian matrix\n",
    "    spchat, sttshat = jnpl.eigh(hhatmat)\n",
    "    # print('L2 Error spc (should be close to 0):', jnpl.norm(spc - cspc), sep='\\n')\n",
    "    # print('L2 Error stts (should be close to 0):', jnpl.norm(stts - cstts), sep='\\n')\n",
    "\n",
    "    # compute the propagator matrix using the\n",
    "    # result of the eigendecomposition\n",
    "    propahatmat = sttshat @ jnp.diag(jnp.exp(-1j * spchat * dt)) @ sttshat.conj().T\n",
    "    # print('L2 Error propamat (should be close to 0):', jnpl.norm(propamat - cpropa), sep='\\n')\n",
    "\n",
    "    ahatmatvec = []\n",
    "    # propagate the system starting from the initial \"a\" state\n",
    "    for thisainit in ainitvec:\n",
    "        tempamat = [thisainit.copy()]\n",
    "        for i in range(ntsteps):\n",
    "            tempamat.append(propahatmat @ tempamat[i])\n",
    "        # make python list a jax object\n",
    "        ahatmatvec.append(jnp.stack(tempamat))\n",
    "    # make python list a jax object\n",
    "    ahatmatvec = jnp.stack(ahatmatvec)\n",
    "\n",
    "    # compute the sum of objective functions in one line\n",
    "    residue = ahatmatvec - jaxFamatvec\n",
    "    objective = jnp.sum(0.5 * jnp.real(jnp.sum(jnp.conj(residue) * residue, axis=1)))\n",
    "\n",
    "    return objective"
   ],
   "metadata": {
    "collapsed": false,
    "pycharm": {
     "name": "#%%\n"
    }
   }
  },
  {
   "cell_type": "code",
   "execution_count": 24,
   "outputs": [
    {
     "ename": "RuntimeError",
     "evalue": "jaxlib/cusolver_kernels.cc:44: operation cusolverDnCreate(&handle) failed: cuSolver internal error",
     "output_type": "error",
     "traceback": [
      "\u001B[0;31m---------------------------------------------------------------------------\u001B[0m",
      "\u001B[0;31mJaxStackTraceBeforeTransformation\u001B[0m         Traceback (most recent call last)",
      "File \u001B[0;32m/opt/conda/lib/python3.9/runpy.py:197\u001B[0m, in \u001B[0;36m_run_module_as_main\u001B[0;34m(***failed resolving arguments***)\u001B[0m\n\u001B[1;32m    196\u001B[0m     sys\u001B[38;5;241m.\u001B[39margv[\u001B[38;5;241m0\u001B[39m] \u001B[38;5;241m=\u001B[39m mod_spec\u001B[38;5;241m.\u001B[39morigin\n\u001B[0;32m--> 197\u001B[0m \u001B[38;5;28;01mreturn\u001B[39;00m _run_code(code, main_globals, \u001B[38;5;28;01mNone\u001B[39;00m,\n\u001B[1;32m    198\u001B[0m                  \u001B[38;5;124m\"\u001B[39m\u001B[38;5;124m__main__\u001B[39m\u001B[38;5;124m\"\u001B[39m, mod_spec)\n",
      "File \u001B[0;32m/opt/conda/lib/python3.9/runpy.py:87\u001B[0m, in \u001B[0;36m_run_code\u001B[0;34m(***failed resolving arguments***)\u001B[0m\n\u001B[1;32m     80\u001B[0m run_globals\u001B[38;5;241m.\u001B[39mupdate(\u001B[38;5;18m__name__\u001B[39m \u001B[38;5;241m=\u001B[39m mod_name,\n\u001B[1;32m     81\u001B[0m                    \u001B[38;5;18m__file__\u001B[39m \u001B[38;5;241m=\u001B[39m fname,\n\u001B[1;32m     82\u001B[0m                    __cached__ \u001B[38;5;241m=\u001B[39m cached,\n\u001B[0;32m   (...)\u001B[0m\n\u001B[1;32m     85\u001B[0m                    __package__ \u001B[38;5;241m=\u001B[39m pkg_name,\n\u001B[1;32m     86\u001B[0m                    __spec__ \u001B[38;5;241m=\u001B[39m mod_spec)\n\u001B[0;32m---> 87\u001B[0m exec(code, run_globals)\n\u001B[1;32m     88\u001B[0m \u001B[38;5;28;01mreturn\u001B[39;00m run_globals\n",
      "File \u001B[0;32m/opt/conda/lib/python3.9/site-packages/ipykernel_launcher.py:16\u001B[0m, in \u001B[0;36m<module>\u001B[0;34m\u001B[0m\n\u001B[1;32m     15\u001B[0m \u001B[38;5;28;01mfrom\u001B[39;00m \u001B[38;5;21;01mipykernel\u001B[39;00m \u001B[38;5;28;01mimport\u001B[39;00m kernelapp \u001B[38;5;28;01mas\u001B[39;00m app\n\u001B[0;32m---> 16\u001B[0m app\u001B[38;5;241m.\u001B[39mlaunch_new_instance()\n",
      "File \u001B[0;32m/opt/conda/lib/python3.9/site-packages/traitlets/config/application.py:846\u001B[0m, in \u001B[0;36mApplication.launch_instance\u001B[0;34m(***failed resolving arguments***)\u001B[0m\n\u001B[1;32m    845\u001B[0m app\u001B[38;5;241m.\u001B[39minitialize(argv)\n\u001B[0;32m--> 846\u001B[0m app\u001B[38;5;241m.\u001B[39mstart()\n",
      "File \u001B[0;32m/opt/conda/lib/python3.9/site-packages/ipykernel/kernelapp.py:677\u001B[0m, in \u001B[0;36mIPKernelApp.start\u001B[0;34m(***failed resolving arguments***)\u001B[0m\n\u001B[1;32m    676\u001B[0m \u001B[38;5;28;01mtry\u001B[39;00m:\n\u001B[0;32m--> 677\u001B[0m     \u001B[38;5;28mself\u001B[39m\u001B[38;5;241m.\u001B[39mio_loop\u001B[38;5;241m.\u001B[39mstart()\n\u001B[1;32m    678\u001B[0m \u001B[38;5;28;01mexcept\u001B[39;00m \u001B[38;5;167;01mKeyboardInterrupt\u001B[39;00m:\n",
      "File \u001B[0;32m/opt/conda/lib/python3.9/site-packages/tornado/platform/asyncio.py:199\u001B[0m, in \u001B[0;36mBaseAsyncIOLoop.start\u001B[0;34m(***failed resolving arguments***)\u001B[0m\n\u001B[1;32m    198\u001B[0m     asyncio\u001B[38;5;241m.\u001B[39mset_event_loop(\u001B[38;5;28mself\u001B[39m\u001B[38;5;241m.\u001B[39masyncio_loop)\n\u001B[0;32m--> 199\u001B[0m     \u001B[38;5;28mself\u001B[39m\u001B[38;5;241m.\u001B[39masyncio_loop\u001B[38;5;241m.\u001B[39mrun_forever()\n\u001B[1;32m    200\u001B[0m \u001B[38;5;28;01mfinally\u001B[39;00m:\n",
      "File \u001B[0;32m/opt/conda/lib/python3.9/asyncio/base_events.py:596\u001B[0m, in \u001B[0;36mBaseEventLoop.run_forever\u001B[0;34m(***failed resolving arguments***)\u001B[0m\n\u001B[1;32m    595\u001B[0m \u001B[38;5;28;01mwhile\u001B[39;00m \u001B[38;5;28;01mTrue\u001B[39;00m:\n\u001B[0;32m--> 596\u001B[0m     \u001B[38;5;28mself\u001B[39m\u001B[38;5;241m.\u001B[39m_run_once()\n\u001B[1;32m    597\u001B[0m     \u001B[38;5;28;01mif\u001B[39;00m \u001B[38;5;28mself\u001B[39m\u001B[38;5;241m.\u001B[39m_stopping:\n",
      "File \u001B[0;32m/opt/conda/lib/python3.9/asyncio/base_events.py:1890\u001B[0m, in \u001B[0;36mBaseEventLoop._run_once\u001B[0;34m(***failed resolving arguments***)\u001B[0m\n\u001B[1;32m   1889\u001B[0m     \u001B[38;5;28;01melse\u001B[39;00m:\n\u001B[0;32m-> 1890\u001B[0m         handle\u001B[38;5;241m.\u001B[39m_run()\n\u001B[1;32m   1891\u001B[0m handle \u001B[38;5;241m=\u001B[39m \u001B[38;5;28;01mNone\u001B[39;00m\n",
      "File \u001B[0;32m/opt/conda/lib/python3.9/asyncio/events.py:80\u001B[0m, in \u001B[0;36mHandle._run\u001B[0;34m(***failed resolving arguments***)\u001B[0m\n\u001B[1;32m     79\u001B[0m \u001B[38;5;28;01mtry\u001B[39;00m:\n\u001B[0;32m---> 80\u001B[0m     \u001B[38;5;28mself\u001B[39m\u001B[38;5;241m.\u001B[39m_context\u001B[38;5;241m.\u001B[39mrun(\u001B[38;5;28mself\u001B[39m\u001B[38;5;241m.\u001B[39m_callback, \u001B[38;5;241m*\u001B[39m\u001B[38;5;28mself\u001B[39m\u001B[38;5;241m.\u001B[39m_args)\n\u001B[1;32m     81\u001B[0m \u001B[38;5;28;01mexcept\u001B[39;00m (\u001B[38;5;167;01mSystemExit\u001B[39;00m, \u001B[38;5;167;01mKeyboardInterrupt\u001B[39;00m):\n",
      "File \u001B[0;32m/opt/conda/lib/python3.9/site-packages/ipykernel/kernelbase.py:471\u001B[0m, in \u001B[0;36mKernel.dispatch_queue\u001B[0;34m(***failed resolving arguments***)\u001B[0m\n\u001B[1;32m    470\u001B[0m \u001B[38;5;28;01mtry\u001B[39;00m:\n\u001B[0;32m--> 471\u001B[0m     \u001B[38;5;28;01mawait\u001B[39;00m \u001B[38;5;28mself\u001B[39m\u001B[38;5;241m.\u001B[39mprocess_one()\n\u001B[1;32m    472\u001B[0m \u001B[38;5;28;01mexcept\u001B[39;00m \u001B[38;5;167;01mException\u001B[39;00m:\n",
      "File \u001B[0;32m/opt/conda/lib/python3.9/site-packages/ipykernel/kernelbase.py:460\u001B[0m, in \u001B[0;36mKernel.process_one\u001B[0;34m(***failed resolving arguments***)\u001B[0m\n\u001B[1;32m    459\u001B[0m         \u001B[38;5;28;01mreturn\u001B[39;00m \u001B[38;5;28;01mNone\u001B[39;00m\n\u001B[0;32m--> 460\u001B[0m \u001B[38;5;28;01mawait\u001B[39;00m dispatch(\u001B[38;5;241m*\u001B[39margs)\n",
      "File \u001B[0;32m/opt/conda/lib/python3.9/site-packages/ipykernel/kernelbase.py:367\u001B[0m, in \u001B[0;36mKernel.dispatch_shell\u001B[0;34m(***failed resolving arguments***)\u001B[0m\n\u001B[1;32m    366\u001B[0m     \u001B[38;5;28;01mif\u001B[39;00m inspect\u001B[38;5;241m.\u001B[39misawaitable(result):\n\u001B[0;32m--> 367\u001B[0m         \u001B[38;5;28;01mawait\u001B[39;00m result\n\u001B[1;32m    368\u001B[0m \u001B[38;5;28;01mexcept\u001B[39;00m \u001B[38;5;167;01mException\u001B[39;00m:\n",
      "File \u001B[0;32m/opt/conda/lib/python3.9/site-packages/ipykernel/kernelbase.py:662\u001B[0m, in \u001B[0;36mKernel.execute_request\u001B[0;34m(***failed resolving arguments***)\u001B[0m\n\u001B[1;32m    661\u001B[0m \u001B[38;5;28;01mif\u001B[39;00m inspect\u001B[38;5;241m.\u001B[39misawaitable(reply_content):\n\u001B[0;32m--> 662\u001B[0m     reply_content \u001B[38;5;241m=\u001B[39m \u001B[38;5;28;01mawait\u001B[39;00m reply_content\n\u001B[1;32m    664\u001B[0m \u001B[38;5;66;03m# Flush output before sending the reply.\u001B[39;00m\n",
      "File \u001B[0;32m/opt/conda/lib/python3.9/site-packages/ipykernel/ipkernel.py:360\u001B[0m, in \u001B[0;36mIPythonKernel.do_execute\u001B[0;34m(***failed resolving arguments***)\u001B[0m\n\u001B[1;32m    356\u001B[0m     \u001B[38;5;28;01melse\u001B[39;00m:\n\u001B[1;32m    357\u001B[0m         \u001B[38;5;66;03m# runner isn't already running,\u001B[39;00m\n\u001B[1;32m    358\u001B[0m         \u001B[38;5;66;03m# make synchronous call,\u001B[39;00m\n\u001B[1;32m    359\u001B[0m         \u001B[38;5;66;03m# letting shell dispatch to loop runners\u001B[39;00m\n\u001B[0;32m--> 360\u001B[0m         res \u001B[38;5;241m=\u001B[39m shell\u001B[38;5;241m.\u001B[39mrun_cell(code, store_history\u001B[38;5;241m=\u001B[39mstore_history, silent\u001B[38;5;241m=\u001B[39msilent)\n\u001B[1;32m    361\u001B[0m \u001B[38;5;28;01mfinally\u001B[39;00m:\n",
      "File \u001B[0;32m/opt/conda/lib/python3.9/site-packages/ipykernel/zmqshell.py:532\u001B[0m, in \u001B[0;36mZMQInteractiveShell.run_cell\u001B[0;34m(***failed resolving arguments***)\u001B[0m\n\u001B[1;32m    531\u001B[0m \u001B[38;5;28mself\u001B[39m\u001B[38;5;241m.\u001B[39m_last_traceback \u001B[38;5;241m=\u001B[39m \u001B[38;5;28;01mNone\u001B[39;00m\n\u001B[0;32m--> 532\u001B[0m \u001B[38;5;28;01mreturn\u001B[39;00m \u001B[38;5;28msuper\u001B[39m()\u001B[38;5;241m.\u001B[39mrun_cell(\u001B[38;5;241m*\u001B[39margs, \u001B[38;5;241m*\u001B[39m\u001B[38;5;241m*\u001B[39mkwargs)\n",
      "File \u001B[0;32m/opt/conda/lib/python3.9/site-packages/IPython/core/interactiveshell.py:2768\u001B[0m, in \u001B[0;36mInteractiveShell.run_cell\u001B[0;34m(***failed resolving arguments***)\u001B[0m\n\u001B[1;32m   2767\u001B[0m \u001B[38;5;28;01mtry\u001B[39;00m:\n\u001B[0;32m-> 2768\u001B[0m     result \u001B[38;5;241m=\u001B[39m \u001B[38;5;28mself\u001B[39m\u001B[38;5;241m.\u001B[39m_run_cell(\n\u001B[1;32m   2769\u001B[0m         raw_cell, store_history, silent, shell_futures)\n\u001B[1;32m   2770\u001B[0m \u001B[38;5;28;01mfinally\u001B[39;00m:\n",
      "File \u001B[0;32m/opt/conda/lib/python3.9/site-packages/IPython/core/interactiveshell.py:2814\u001B[0m, in \u001B[0;36mInteractiveShell._run_cell\u001B[0;34m(***failed resolving arguments***)\u001B[0m\n\u001B[1;32m   2813\u001B[0m \u001B[38;5;28;01mtry\u001B[39;00m:\n\u001B[0;32m-> 2814\u001B[0m     \u001B[38;5;28;01mreturn\u001B[39;00m runner(coro)\n\u001B[1;32m   2815\u001B[0m \u001B[38;5;28;01mexcept\u001B[39;00m \u001B[38;5;167;01mBaseException\u001B[39;00m \u001B[38;5;28;01mas\u001B[39;00m e:\n",
      "File \u001B[0;32m/opt/conda/lib/python3.9/site-packages/IPython/core/async_helpers.py:129\u001B[0m, in \u001B[0;36m_pseudo_sync_runner\u001B[0;34m(***failed resolving arguments***)\u001B[0m\n\u001B[1;32m    128\u001B[0m \u001B[38;5;28;01mtry\u001B[39;00m:\n\u001B[0;32m--> 129\u001B[0m     coro\u001B[38;5;241m.\u001B[39msend(\u001B[38;5;28;01mNone\u001B[39;00m)\n\u001B[1;32m    130\u001B[0m \u001B[38;5;28;01mexcept\u001B[39;00m \u001B[38;5;167;01mStopIteration\u001B[39;00m \u001B[38;5;28;01mas\u001B[39;00m exc:\n",
      "File \u001B[0;32m/opt/conda/lib/python3.9/site-packages/IPython/core/interactiveshell.py:3012\u001B[0m, in \u001B[0;36mInteractiveShell.run_cell_async\u001B[0;34m(***failed resolving arguments***)\u001B[0m\n\u001B[1;32m   3010\u001B[0m interactivity \u001B[38;5;241m=\u001B[39m \u001B[38;5;124m\"\u001B[39m\u001B[38;5;124mnone\u001B[39m\u001B[38;5;124m\"\u001B[39m \u001B[38;5;28;01mif\u001B[39;00m silent \u001B[38;5;28;01melse\u001B[39;00m \u001B[38;5;28mself\u001B[39m\u001B[38;5;241m.\u001B[39mast_node_interactivity\n\u001B[0;32m-> 3012\u001B[0m has_raised \u001B[38;5;241m=\u001B[39m \u001B[38;5;28;01mawait\u001B[39;00m \u001B[38;5;28mself\u001B[39m\u001B[38;5;241m.\u001B[39mrun_ast_nodes(code_ast\u001B[38;5;241m.\u001B[39mbody, cell_name,\n\u001B[1;32m   3013\u001B[0m        interactivity\u001B[38;5;241m=\u001B[39minteractivity, compiler\u001B[38;5;241m=\u001B[39mcompiler, result\u001B[38;5;241m=\u001B[39mresult)\n\u001B[1;32m   3015\u001B[0m \u001B[38;5;28mself\u001B[39m\u001B[38;5;241m.\u001B[39mlast_execution_succeeded \u001B[38;5;241m=\u001B[39m \u001B[38;5;129;01mnot\u001B[39;00m has_raised\n",
      "File \u001B[0;32m/opt/conda/lib/python3.9/site-packages/IPython/core/interactiveshell.py:3191\u001B[0m, in \u001B[0;36mInteractiveShell.run_ast_nodes\u001B[0;34m(***failed resolving arguments***)\u001B[0m\n\u001B[1;32m   3190\u001B[0m     asy \u001B[38;5;241m=\u001B[39m compare(code)\n\u001B[0;32m-> 3191\u001B[0m \u001B[38;5;28;01mif\u001B[39;00m \u001B[38;5;28;01mawait\u001B[39;00m \u001B[38;5;28mself\u001B[39m\u001B[38;5;241m.\u001B[39mrun_code(code, result, async_\u001B[38;5;241m=\u001B[39masy):\n\u001B[1;32m   3192\u001B[0m     \u001B[38;5;28;01mreturn\u001B[39;00m \u001B[38;5;28;01mTrue\u001B[39;00m\n",
      "File \u001B[0;32m/opt/conda/lib/python3.9/site-packages/IPython/core/interactiveshell.py:3251\u001B[0m, in \u001B[0;36mInteractiveShell.run_code\u001B[0;34m(***failed resolving arguments***)\u001B[0m\n\u001B[1;32m   3250\u001B[0m     \u001B[38;5;28;01melse\u001B[39;00m:\n\u001B[0;32m-> 3251\u001B[0m         exec(code_obj, \u001B[38;5;28mself\u001B[39m\u001B[38;5;241m.\u001B[39muser_global_ns, \u001B[38;5;28mself\u001B[39m\u001B[38;5;241m.\u001B[39muser_ns)\n\u001B[1;32m   3252\u001B[0m \u001B[38;5;28;01mfinally\u001B[39;00m:\n\u001B[1;32m   3253\u001B[0m     \u001B[38;5;66;03m# Reset our crash handler in place\u001B[39;00m\n",
      "Input \u001B[0;32mIn [24]\u001B[0m, in \u001B[0;36m<module>\u001B[0;34m\u001B[0m\n\u001B[1;32m      1\u001B[0m \u001B[38;5;66;03m# check if the objective function gives zero when the\u001B[39;00m\n\u001B[1;32m      2\u001B[0m \u001B[38;5;66;03m# chebyshev coefficients of the true potential are fed in\u001B[39;00m\n\u001B[1;32m      3\u001B[0m \u001B[38;5;66;03m# this should produce a result which is very close to zero\u001B[39;00m\n\u001B[0;32m----> 4\u001B[0m \u001B[38;5;28mprint\u001B[39m(\u001B[38;5;124m'\u001B[39m\u001B[38;5;124mObjective for True Chebyshev Coefficients (should be close to 0):\u001B[39m\u001B[38;5;124m'\u001B[39m, cobjfn(cvec), sep\u001B[38;5;241m=\u001B[39m\u001B[38;5;124m'\u001B[39m\u001B[38;5;130;01m\\n\u001B[39;00m\u001B[38;5;124m'\u001B[39m)\n",
      "Input \u001B[0;32mIn [23]\u001B[0m, in \u001B[0;36mcobjfn\u001B[0;34m(***failed resolving arguments***)\u001B[0m\n\u001B[1;32m     12\u001B[0m \u001B[38;5;66;03m# print('L2 Error hmat (should be close to 0):', jnpl.norm(hmat - chmat), sep='\\n')\u001B[39;00m\n\u001B[1;32m     13\u001B[0m \n\u001B[1;32m     14\u001B[0m \u001B[38;5;66;03m# eigendecomposition of the Hamiltonian matrix\u001B[39;00m\n\u001B[0;32m---> 15\u001B[0m spchat, sttshat \u001B[38;5;241m=\u001B[39m jnpl\u001B[38;5;241m.\u001B[39meigh(hhatmat)\n\u001B[1;32m     16\u001B[0m \u001B[38;5;66;03m# print('L2 Error spc (should be close to 0):', jnpl.norm(spc - cspc), sep='\\n')\u001B[39;00m\n\u001B[1;32m     17\u001B[0m \u001B[38;5;66;03m# print('L2 Error stts (should be close to 0):', jnpl.norm(stts - cstts), sep='\\n')\u001B[39;00m\n\u001B[1;32m     18\u001B[0m \n\u001B[1;32m     19\u001B[0m \u001B[38;5;66;03m# compute the propagator matrix using the\u001B[39;00m\n\u001B[1;32m     20\u001B[0m \u001B[38;5;66;03m# result of the eigendecomposition\u001B[39;00m\n",
      "File \u001B[0;32m/opt/conda/lib/python3.9/site-packages/jax/_src/numpy/linalg.py:339\u001B[0m, in \u001B[0;36meigh\u001B[0;34m(***failed resolving arguments***)\u001B[0m\n\u001B[1;32m    338\u001B[0m a \u001B[38;5;241m=\u001B[39m _promote_arg_dtypes(jnp\u001B[38;5;241m.\u001B[39masarray(a))\n\u001B[0;32m--> 339\u001B[0m v, w \u001B[38;5;241m=\u001B[39m lax_linalg\u001B[38;5;241m.\u001B[39meigh(a, lower\u001B[38;5;241m=\u001B[39mlower, symmetrize_input\u001B[38;5;241m=\u001B[39msymmetrize_input)\n\u001B[1;32m    340\u001B[0m \u001B[38;5;28;01mreturn\u001B[39;00m w, v\n",
      "\u001B[0;31mJaxStackTraceBeforeTransformation\u001B[0m: RuntimeError: jaxlib/cusolver_kernels.cc:44: operation cusolverDnCreate(&handle) failed: cuSolver internal error\n\nThe preceding stack trace is the source of the JAX operation that, once transformed by JAX, triggered the following exception.\n\n--------------------",
      "\nThe above exception was the direct cause of the following exception:\n",
      "\u001B[0;31mRuntimeError\u001B[0m                              Traceback (most recent call last)",
      "Input \u001B[0;32mIn [24]\u001B[0m, in \u001B[0;36m<module>\u001B[0;34m\u001B[0m\n\u001B[1;32m      1\u001B[0m \u001B[38;5;66;03m# check if the objective function gives zero when the\u001B[39;00m\n\u001B[1;32m      2\u001B[0m \u001B[38;5;66;03m# chebyshev coefficients of the true potential are fed in\u001B[39;00m\n\u001B[1;32m      3\u001B[0m \u001B[38;5;66;03m# this should produce a result which is very close to zero\u001B[39;00m\n\u001B[0;32m----> 4\u001B[0m \u001B[38;5;28mprint\u001B[39m(\u001B[38;5;124m'\u001B[39m\u001B[38;5;124mObjective for True Chebyshev Coefficients (should be close to 0):\u001B[39m\u001B[38;5;124m'\u001B[39m, \u001B[43mcobjfn\u001B[49m\u001B[43m(\u001B[49m\u001B[43mcvec\u001B[49m\u001B[43m)\u001B[49m, sep\u001B[38;5;241m=\u001B[39m\u001B[38;5;124m'\u001B[39m\u001B[38;5;130;01m\\n\u001B[39;00m\u001B[38;5;124m'\u001B[39m)\n",
      "Input \u001B[0;32mIn [23]\u001B[0m, in \u001B[0;36mcobjfn\u001B[0;34m(cffs)\u001B[0m\n\u001B[1;32m     11\u001B[0m hhatmat \u001B[38;5;241m=\u001B[39m kmat \u001B[38;5;241m+\u001B[39m vhatmat\n\u001B[1;32m     12\u001B[0m \u001B[38;5;66;03m# print('L2 Error hmat (should be close to 0):', jnpl.norm(hmat - chmat), sep='\\n')\u001B[39;00m\n\u001B[1;32m     13\u001B[0m \n\u001B[1;32m     14\u001B[0m \u001B[38;5;66;03m# eigendecomposition of the Hamiltonian matrix\u001B[39;00m\n\u001B[0;32m---> 15\u001B[0m spchat, sttshat \u001B[38;5;241m=\u001B[39m \u001B[43mjnpl\u001B[49m\u001B[38;5;241;43m.\u001B[39;49m\u001B[43meigh\u001B[49m\u001B[43m(\u001B[49m\u001B[43mhhatmat\u001B[49m\u001B[43m)\u001B[49m\n\u001B[1;32m     16\u001B[0m \u001B[38;5;66;03m# print('L2 Error spc (should be close to 0):', jnpl.norm(spc - cspc), sep='\\n')\u001B[39;00m\n\u001B[1;32m     17\u001B[0m \u001B[38;5;66;03m# print('L2 Error stts (should be close to 0):', jnpl.norm(stts - cstts), sep='\\n')\u001B[39;00m\n\u001B[1;32m     18\u001B[0m \n\u001B[1;32m     19\u001B[0m \u001B[38;5;66;03m# compute the propagator matrix using the\u001B[39;00m\n\u001B[1;32m     20\u001B[0m \u001B[38;5;66;03m# result of the eigendecomposition\u001B[39;00m\n\u001B[1;32m     21\u001B[0m propahatmat \u001B[38;5;241m=\u001B[39m sttshat \u001B[38;5;241m@\u001B[39m jnp\u001B[38;5;241m.\u001B[39mdiag(jnp\u001B[38;5;241m.\u001B[39mexp(\u001B[38;5;241m-\u001B[39m\u001B[38;5;241m1\u001B[39mj \u001B[38;5;241m*\u001B[39m spchat \u001B[38;5;241m*\u001B[39m dt)) \u001B[38;5;241m@\u001B[39m sttshat\u001B[38;5;241m.\u001B[39mconj()\u001B[38;5;241m.\u001B[39mT\n",
      "    \u001B[0;31m[... skipping hidden 14 frame]\u001B[0m\n",
      "File \u001B[0;32m/opt/conda/lib/python3.9/site-packages/jaxlib/cusolver.py:557\u001B[0m, in \u001B[0;36msyevd_mhlo\u001B[0;34m(dtype, a, lower)\u001B[0m\n\u001B[1;32m    555\u001B[0m \u001B[38;5;28;01melse\u001B[39;00m:\n\u001B[1;32m    556\u001B[0m   kernel \u001B[38;5;241m=\u001B[39m \u001B[38;5;124mb\u001B[39m\u001B[38;5;124m\"\u001B[39m\u001B[38;5;124mcusolver_syevd\u001B[39m\u001B[38;5;124m\"\u001B[39m\n\u001B[0;32m--> 557\u001B[0m   lwork, opaque \u001B[38;5;241m=\u001B[39m \u001B[43m_cusolver\u001B[49m\u001B[38;5;241;43m.\u001B[39;49m\u001B[43mbuild_syevd_descriptor\u001B[49m\u001B[43m(\u001B[49m\n\u001B[1;32m    558\u001B[0m \u001B[43m      \u001B[49m\u001B[43mnp\u001B[49m\u001B[38;5;241;43m.\u001B[39;49m\u001B[43mdtype\u001B[49m\u001B[43m(\u001B[49m\u001B[43mdtype\u001B[49m\u001B[43m)\u001B[49m\u001B[43m,\u001B[49m\u001B[43m \u001B[49m\u001B[43mlower\u001B[49m\u001B[43m,\u001B[49m\u001B[43m \u001B[49m\u001B[43mbatch\u001B[49m\u001B[43m,\u001B[49m\u001B[43m \u001B[49m\u001B[43mn\u001B[49m\u001B[43m)\u001B[49m\n\u001B[1;32m    560\u001B[0m \u001B[38;5;28;01mif\u001B[39;00m ir\u001B[38;5;241m.\u001B[39mComplexType\u001B[38;5;241m.\u001B[39misinstance(a_type\u001B[38;5;241m.\u001B[39melement_type):\n\u001B[1;32m    561\u001B[0m   eigvals_type \u001B[38;5;241m=\u001B[39m ir\u001B[38;5;241m.\u001B[39mComplexType(a_type\u001B[38;5;241m.\u001B[39melement_type)\u001B[38;5;241m.\u001B[39melement_type\n",
      "\u001B[0;31mRuntimeError\u001B[0m: jaxlib/cusolver_kernels.cc:44: operation cusolverDnCreate(&handle) failed: cuSolver internal error"
     ]
    }
   ],
   "source": [
    "# check if the objective function gives zero when the\n",
    "# chebyshev coefficients of the true potential are fed in\n",
    "# this should produce a result which is very close to zero\n",
    "print('Objective for True Chebyshev Coefficients (should be close to 0):', cobjfn(cvec), sep='\\n')"
   ],
   "metadata": {
    "collapsed": false,
    "pycharm": {
     "name": "#%%\n"
    }
   }
  },
  {
   "cell_type": "code",
   "execution_count": null,
   "outputs": [],
   "source": [
    "jitcobjfn = jax.jit(cobjfn)"
   ],
   "metadata": {
    "collapsed": false,
    "pycharm": {
     "name": "#%%\n"
    }
   }
  },
  {
   "cell_type": "code",
   "execution_count": null,
   "outputs": [],
   "source": [
    "jitcobjfn(cvec)"
   ],
   "metadata": {
    "collapsed": false,
    "pycharm": {
     "name": "#%%\n"
    }
   }
  },
  {
   "cell_type": "code",
   "execution_count": null,
   "outputs": [],
   "source": [
    "jaxgradcobjfn = jax.jit(jax.grad(cobjfn))"
   ],
   "metadata": {
    "collapsed": false,
    "pycharm": {
     "name": "#%%\n"
    }
   }
  },
  {
   "cell_type": "code",
   "execution_count": null,
   "outputs": [],
   "source": [
    "# check if the JAX grad of the objective function works\n",
    "# this should give all zeros (or close to that)\n",
    "print('jaxgradcobjfn(cvec) (should be close to 0):', jaxgradcobjfn(cvec), sep='\\n')"
   ],
   "metadata": {
    "collapsed": false,
    "pycharm": {
     "name": "#%%\n"
    }
   }
  },
  {
   "cell_type": "markdown",
   "source": [
    "---\n",
    "**Initialize with true coefficients perturbed by random normally distributed noise**"
   ],
   "metadata": {
    "collapsed": false
   }
  },
  {
   "cell_type": "code",
   "execution_count": null,
   "outputs": [],
   "source": [
    "# easy test case: initialize theta with true theta perturbed with\n",
    "# random normally distributed noise with a small variance.\n",
    "# This should be easy for the optimizer to converge to a good minimum\n",
    "\n",
    "seed = 1234  # set to None for random initialization\n",
    "cfftrub = cvec.copy()\n",
    "cfftrub += 0.25 * np.random.default_rng(seed).normal(size=cvec.shape)\n",
    "# cfftrub += 5.0 * np.random.default_rng(seed).normal(size=cvec.shape)"
   ],
   "metadata": {
    "collapsed": false,
    "pycharm": {
     "name": "#%%\n"
    }
   }
  },
  {
   "cell_type": "code",
   "execution_count": null,
   "outputs": [],
   "source": [
    "# print(cobjfn(cfftrub))\n",
    "# print(gradcobjfn(cfftrub))"
   ],
   "metadata": {
    "collapsed": false,
    "pycharm": {
     "name": "#%%\n"
    }
   }
  },
  {
   "cell_type": "code",
   "execution_count": null,
   "outputs": [],
   "source": [
    "restrubjaxgrad = spo.minimize(jitcobjfn, cfftrub, jac=jaxgradcobjfn, tol=1e-12, options={'maxiter': 200, 'disp': True, 'gtol': 1e-15}).x"
   ],
   "metadata": {
    "collapsed": false,
    "pycharm": {
     "name": "#%%\n"
    }
   }
  },
  {
   "cell_type": "code",
   "execution_count": null,
   "outputs": [],
   "source": [
    "def sqrerrorfn(x, cffs):\n",
    "    return (sps.eval_chebyt(cnvec, x / L) @ cffs - v(x))**2\n",
    "\n",
    "print('Continuous L2 Error of Potential using Quadrature Method:', np.sqrt(si.quad(sqrerrorfn, -L, L, args=(cvec)))[0], sep='\\n')"
   ],
   "metadata": {
    "collapsed": false,
    "pycharm": {
     "name": "#%%\n"
    }
   }
  },
  {
   "cell_type": "code",
   "execution_count": null,
   "outputs": [],
   "source": [
    "# print('Chebyshev Coefficients of the True Potential:', cvec, sep='\\n')\n",
    "# print('', 'Chebyshev Coefficients of the Learned Potential:', restrub, sep='\\n')\n",
    "\n",
    "print('Objective of the Learned Coefficients:', cobjfn(restrubjaxgrad), sep='\\n')\n",
    "print('Vec L2 Norm of Gradient of the Learned Coefficients:', nl.norm(jaxgradcobjfn(restrubjaxgrad)), sep='\\n')\n",
    "\n",
    "print('Continuous L2 Error of Potential using Quadrature Method:', np.sqrt(si.quad(sqrerrorfn, -L, L, args=(restrubjaxgrad)))[0], sep='\\n')\n",
    "\n",
    "# print('', 'Gradient of the Learned Coefficients:', gradcobjfn(restrub), sep='\\n')\n",
    "\n",
    "# print('', 'L2 Error of the Initialized Chebyshev Coefficients:', nl.norm(cvec - cfftrub), sep='\\n')\n",
    "# print('', 'L2 Error of the Learned Chebyshev Coefficients:', nl.norm(cvec - restrub), sep='\\n')\n",
    "# print('', 'L-infinity Error of the Initialized Chebyshev Coefficients:', np.max(np.abs(cvec - cfftrub)), sep='\\n')\n",
    "# print('', 'L-infinity Error of the Learned Chebyshev Coefficients:', np.max(np.abs(cvec - restrub)), sep='\\n')\n",
    "\n",
    "# plot learned vs true\n",
    "# plt.plot(xvec, ctoxmat @ cfftrub, label='initial')\n",
    "plt.plot(xvec, ctoxmat @ restrubjaxgrad, label='learned')\n",
    "plt.plot(xvec, vxvec, label='Truth')\n",
    "plt.title('Learned Potential vs. Truth')\n",
    "plt.legend()\n",
    "plt.show()"
   ],
   "metadata": {
    "collapsed": false,
    "pycharm": {
     "name": "#%%\n"
    }
   }
  },
  {
   "cell_type": "markdown",
   "source": [
    "---"
   ],
   "metadata": {
    "collapsed": false,
    "pycharm": {
     "name": "#%% md\n"
    }
   }
  },
  {
   "cell_type": "code",
   "execution_count": null,
   "outputs": [],
   "source": [
    "seed = 1234  # set to None for random initialization\n",
    "cffform = np.random.default_rng(seed).uniform(low=-5.0, high=5.0, size=cvec.shape)"
   ],
   "metadata": {
    "collapsed": false,
    "pycharm": {
     "name": "#%%\n"
    }
   }
  },
  {
   "cell_type": "code",
   "execution_count": null,
   "outputs": [],
   "source": [
    "resform = spo.minimize(jitcobjfn, cffform, jac=jaxgradcobjfn, tol=1e-15, options={'maxiter': 1000, 'disp': True, 'gtol': 1e-14}).x\n",
    "# used 'maxiter': 200 and nc = 1 for harmonic potential and sin(x)"
   ],
   "metadata": {
    "collapsed": false,
    "pycharm": {
     "name": "#%%\n"
    }
   }
  },
  {
   "cell_type": "code",
   "execution_count": null,
   "outputs": [],
   "source": [
    "# print('Chebyshev Coefficients of the True Potential:', cvec, sep='\\n')\n",
    "# print('', 'Chebyshev Coefficients of the Learned Potential:', resform, sep='\\n')\n",
    "\n",
    "print('Objective of the Learned Coefficients:', cobjfn(resform), sep='\\n')\n",
    "print('Vec L2 Norm of Gradient of the Learned Coefficients:', nl.norm(jaxgradcobjfn(resform)), sep='\\n')\n",
    "\n",
    "print('Continuous L2 Error of Potential using Quadrature Method:', np.sqrt(si.quad(sqrerrorfn, -L, L, args=(resform)))[0], sep='\\n')\n",
    "\n",
    "# print('', 'Gradient of the Learned Coefficients:', gradcobjfn(resform), sep='\\n')\n",
    "\n",
    "# print('', 'L2 Error of the Initialized Chebyshev Coefficients:', nl.norm(cvec - cffform), sep='\\n')\n",
    "# print('', 'L2 Error of the Learned Chebyshev Coefficients:', nl.norm(cvec - resform), sep='\\n')\n",
    "# print('', 'L-infinity Error of the Initialized Chebyshev Coefficients:', np.max(np.abs(cvec - cffform)), sep='\\n')\n",
    "# print('', 'L-infinity Error of the Learned Chebyshev Coefficients:', np.max(np.abs(cvec - resform)), sep='\\n')\n",
    "\n",
    "# plot learned vs true\n",
    "# plt.plot(xvec, ctoxmat @ cffform, label='initial')\n",
    "plt.plot(xvec, ctoxmat @ resform, label='learned')\n",
    "plt.plot(xvec, vxvec, label='Truth')\n",
    "# plt.xlim((-5, 5))\n",
    "# plt.ylim((0, 10))\n",
    "plt.title('Learned Potential vs. Truth')\n",
    "plt.legend()\n",
    "plt.show()\n",
    "\n",
    "# plot learned vs true\n",
    "plt.plot(xvec[100:-100], (ctoxmat @ resform)[100:-100], label='learned')\n",
    "plt.plot(xvec[100:-100], vxvec[100:-100], label='Truth')\n",
    "# plt.xlim((-5, 5))\n",
    "# plt.ylim((0, 10))\n",
    "plt.title('Learned Potential vs. Truth')\n",
    "plt.legend()\n",
    "plt.show()"
   ],
   "metadata": {
    "collapsed": false,
    "pycharm": {
     "name": "#%%\n"
    }
   }
  },
  {
   "cell_type": "markdown",
   "source": [
    "---"
   ],
   "metadata": {
    "collapsed": false,
    "pycharm": {
     "name": "#%% md\n"
    }
   }
  },
  {
   "cell_type": "code",
   "execution_count": 266,
   "outputs": [],
   "source": [
    "def adjhelper(cffs):\n",
    "    # construct the vmat from Chebyshev coefficients\n",
    "    # vmat = ctovmat(cffs)\n",
    "    # cvrow = jaxchebtoF @ cffs\n",
    "    # flattoepvec = jnp.concatenate([jnp.flipud(cvrow.conj()), cvrow[1:]])\n",
    "    # vhatmat = jnp.array(flattoepvec[toepindxmat])\n",
    "    vhatmat = jaxchebtoF @ cffs\n",
    "    # print('L2 Error vmat (should be close to 0):', jnpl.norm(vmat - cvmat), sep='\\n')\n",
    "\n",
    "    # construct the Hamiltonian matrix\n",
    "    hhatmat = kmat + vhatmat\n",
    "    # print('L2 Error hmat (should be close to 0):', jnpl.norm(hmat - chmat), sep='\\n')\n",
    "\n",
    "    # eigendecomposition of the Hamiltonian matrix\n",
    "    spchat, sttshat = jnpl.eigh(hhatmat)\n",
    "    # print('L2 Error spc (should be close to 0):', jnpl.norm(spc - cspc), sep='\\n')\n",
    "    # print('L2 Error stts (should be close to 0):', jnpl.norm(stts - cstts), sep='\\n')\n",
    "\n",
    "    # compute the propagator matrix using the\n",
    "    # result of the eigendecomposition\n",
    "    propahatmat = sttshat @ jnp.diag(jnp.exp(-1j * spchat * dt)) @ sttshat.conj().T\n",
    "    # print('L2 Error propamat (should be close to 0):', jnpl.norm(propamat - cpropa), sep='\\n')\n",
    "\n",
    "    # compute backwards in time propagator of lmat\n",
    "    # using the result of the eigendecomposition\n",
    "    proplmat = sttshat @ jnp.diag(jnp.exp(1j * spchat * dt)) @ sttshat.conj().T\n",
    "\n",
    "    ahatmatvec = []\n",
    "    lmatvec = []\n",
    "\n",
    "    # propagate the system starting from the initial \"a\" state\n",
    "    for i in range(len(Famatvec)):\n",
    "        tempamat = [ainitvec[i].copy()]\n",
    "        for j in range(ntsteps):\n",
    "            tempamat.append(propahatmat @ tempamat[j])\n",
    "        # make python list a jax object\n",
    "        ahatmatvec.append(jnp.stack(tempamat))\n",
    "\n",
    "        # propagate the \"lambda\" vector of coefficients backward\n",
    "        # in time, i.e., solve the adjoint problem\n",
    "        templmat = [ahatmatvec[-1][ntsteps,:] - Famatvec[i][ntsteps,:]]\n",
    "        # itr = 0 # forward evaluation of lmat\n",
    "        for j in range(ntsteps - 1, 0 - 1, -1):\n",
    "            templmat.append(ahatmatvec[-1][j,:] - Famatvec[i][j] + proplmat @ templmat[ntsteps - 1 - j] )\n",
    "            # templmat.append(thisahatmat[j,:] - Famatvec[i][j] + proplmat @ templmat[itr] )\n",
    "            # itr += 1\n",
    "        # make python list a jax object\n",
    "        lmatvec.append(jnp.flipud(jnp.stack(templmat)))\n",
    "\n",
    "    # make python list a jax object\n",
    "    ahatmatvec = jnp.stack(ahatmatvec)\n",
    "    # make python list a jax object\n",
    "    lmatvec = jnp.stack(lmatvec)\n",
    "\n",
    "    offdiagmask = jnp.ones((numtoepelms, numtoepelms)) - jnp.eye(numtoepelms)\n",
    "    expspec = jnp.exp(-1j * dt * spchat)\n",
    "    e1, e2 = jnp.meshgrid(expspec, expspec)\n",
    "    s1, s2 = jnp.meshgrid(spchat, spchat)\n",
    "    denom = offdiagmask * (-1j * dt) * (s1 - s2) + jnp.eye(numtoepelms)\n",
    "    mask = offdiagmask * (e1 - e2)/denom + jnp.diag(expspec)\n",
    "\n",
    "    derivamats = jnp.einsum('ij,jkm,kl->ilm', sttshat.conj().T, jaxchebtoF, sttshat) * jnp.expand_dims(mask, 2)\n",
    "    # print('sttshat.conj().T.shape', sttshat.conj().T.shape)\n",
    "    alldmatreal = -1j * dt * jnp.einsum('ij,jkm,kl->mil', sttshat, derivamats, sttshat.conj().T)\n",
    "\n",
    "    # ws = 1.0j * jnp.hstack([-jnp.fliplr(myeye), myeye[:, 1:]])\n",
    "    # ws = ws[1:, :]\n",
    "    # ws = ws.T\n",
    "    # ctrmats = ws[toepindxmat]\n",
    "    # derivamats = jnp.einsum('ij,jkm,kl->ilm', sttshat.conj().T, ctrmats, sttshat) * jnp.expand_dims(mask, 2)\n",
    "    # derivamats = jnp.einsum('ij,jkm,kl->ilm', sttshat.conj().T, ctrmats, sttshat) * jnp.expand_dims(mask, 2)\n",
    "    derivamats = jnp.einsum('ij,jkm,kl->ilm', sttshat.conj().T, jaxchebtoF, sttshat) * jnp.expand_dims(mask, 2)\n",
    "    alldmatimag = -1j * dt * jnp.einsum('ij,jkm,kl->mil', sttshat, derivamats, sttshat.conj().T)\n",
    "\n",
    "    alldmat = jnp.vstack([alldmatreal, alldmatimag])\n",
    "    # alldmat = (jnp.einsum('ij,jkm,kl->ilm', sttshat.conj().T, chebtoF, sttshat) * jnp.expand_dims(mask, 2)).T\n",
    "    # print('Shape alldmat', alldmat.shape)\n",
    "\n",
    "    return ahatmatvec, lmatvec, alldmat\n",
    "\n",
    "def cgradfn(cffs):\n",
    "    ahatmatvec, lmatvec, alldmat = adjhelper(cffs)\n",
    "    # compute all entries of the gradient at once\n",
    "    gradients = jnp.einsum('bij,ajk,bik->a', jnp.conj(lmatvec[:, 1:, :]), alldmat, ahatmatvec[:, :-1, :]).real[:nc+1]\n",
    "    return gradients"
   ],
   "metadata": {
    "collapsed": false,
    "pycharm": {
     "name": "#%%\n"
    }
   }
  },
  {
   "cell_type": "code",
   "execution_count": 267,
   "outputs": [
    {
     "name": "stdout",
     "output_type": "stream",
     "text": [
      "Shape cgradfn(cvec): (12,)\n",
      "Gradients for True Chebyshev Coefficients (should be close to 0):\n",
      "[-2.20051169e-04  1.76827206e+01 -3.19512404e-02 -4.43192293e+01\n",
      "  1.21376966e-01  5.02030801e+01 -2.33844896e-01 -3.55802369e+01\n",
      "  2.98585345e-01  1.11530358e+01 -2.43945375e-01  9.97337219e+00]\n",
      "Norm difference of JAX grads and adjoint grads (should be close to 0):\n",
      "2.424748179101003e-12\n"
     ]
    }
   ],
   "source": [
    "print('Shape cgradfn(cvec):', cgradfn(cvec).shape)\n",
    "\n",
    "print('Gradients for True Chebyshev Coefficients (should be close to 0):', cgradfn(cvec), sep='\\n')\n",
    "\n",
    "print('Norm difference of JAX grads and adjoint grads (should be close to 0):', nl.norm(jaxgradcobjfn(cvec) - cgradfn(cvec)), sep='\\n')"
   ],
   "metadata": {
    "collapsed": false,
    "pycharm": {
     "name": "#%%\n"
    }
   }
  },
  {
   "cell_type": "code",
   "execution_count": 268,
   "outputs": [],
   "source": [
    "jitcgradfn = jax.jit(cgradfn)"
   ],
   "metadata": {
    "collapsed": false,
    "pycharm": {
     "name": "#%%\n"
    }
   }
  },
  {
   "cell_type": "code",
   "execution_count": 269,
   "outputs": [
    {
     "name": "stdout",
     "output_type": "stream",
     "text": [
      "jitcgradfn(cvec):\n",
      "[-2.20051169e-04  1.76827206e+01 -3.19512404e-02 -4.43192293e+01\n",
      "  1.21376966e-01  5.02030801e+01 -2.33844896e-01 -3.55802369e+01\n",
      "  2.98585345e-01  1.11530358e+01 -2.43945375e-01  9.97337219e+00]\n",
      "jaxgradcobjfn(cvec):\n",
      "[-2.20051169e-04  1.76827206e+01 -3.19512404e-02 -4.43192293e+01\n",
      "  1.21376966e-01  5.02030801e+01 -2.33844896e-01 -3.55802369e+01\n",
      "  2.98585345e-01  1.11530358e+01 -2.43945375e-01  9.97337219e+00]\n"
     ]
    }
   ],
   "source": [
    "print('jitcgradfn(cvec):', jitcgradfn(cvec), sep='\\n')\n",
    "print('jaxgradcobjfn(cvec):', jaxgradcobjfn(cvec), sep='\\n')"
   ],
   "metadata": {
    "collapsed": false,
    "pycharm": {
     "name": "#%%\n"
    }
   }
  },
  {
   "cell_type": "code",
   "execution_count": 270,
   "outputs": [
    {
     "name": "stdout",
     "output_type": "stream",
     "text": [
      "L2 Error of Grads (should be close to 0):\n",
      "2.4517456577153453e-12\n",
      "L-infinity Error of Grads (should be close to 0):\n",
      "1.5418777365994174e-12\n"
     ]
    }
   ],
   "source": [
    "# check if the JAX grads and adjoint grads are close\n",
    "\n",
    "print('L2 Error of Grads (should be close to 0):', jnpl.norm(jaxgradcobjfn(cvec) - jitcgradfn(cvec)), sep='\\n')\n",
    "print('L-infinity Error of Grads (should be close to 0):', jnp.max(jnp.abs(jaxgradcobjfn(cvec) - jitcgradfn(cvec))), sep='\\n')"
   ],
   "metadata": {
    "collapsed": false,
    "pycharm": {
     "name": "#%%\n"
    }
   }
  },
  {
   "cell_type": "markdown",
   "source": [
    "---"
   ],
   "metadata": {
    "collapsed": false,
    "pycharm": {
     "name": "#%% md\n"
    }
   }
  },
  {
   "cell_type": "code",
   "execution_count": 271,
   "outputs": [
    {
     "name": "stdout",
     "output_type": "stream",
     "text": [
      "Warning: Desired error not necessarily achieved due to precision loss.\n",
      "         Current function value: 0.000000\n",
      "         Iterations: 103\n",
      "         Function evaluations: 114\n",
      "         Gradient evaluations: 112\n"
     ]
    }
   ],
   "source": [
    "restrubadjgrad = spo.minimize(jitcobjfn, cfftrub, jac=jitcgradfn, tol=1e-12, options={'maxiter': 400, 'disp': True, 'gtol': 1e-15}).x"
   ],
   "metadata": {
    "collapsed": false,
    "pycharm": {
     "name": "#%%\n"
    }
   }
  },
  {
   "cell_type": "code",
   "execution_count": 272,
   "outputs": [
    {
     "name": "stdout",
     "output_type": "stream",
     "text": [
      "Objective of the Learned Coefficients:\n",
      "2.2011849934007433e-13\n",
      "Vec L2 Norm of Gradient of the Learned Coefficients:\n",
      "1.2390754685702033e-12\n",
      "Continuous L2 Error of Potential using Quadrature Method:\n",
      "3.1990468072928127\n"
     ]
    },
    {
     "data": {
      "text/plain": "<Figure size 432x288 with 1 Axes>",
      "image/png": "[encoded data removed]"
     },
     "metadata": {
      "needs_background": "light"
     },
     "output_type": "display_data"
    }
   ],
   "source": [
    "# print('Chebyshev Coefficients of the True Potential:', cvec, sep='\\n')\n",
    "# print('', 'Chebyshev Coefficients of the Learned Potential:', restrub, sep='\\n')\n",
    "\n",
    "print('Objective of the Learned Coefficients:', cobjfn(restrubadjgrad), sep='\\n')\n",
    "print('Vec L2 Norm of Gradient of the Learned Coefficients:', nl.norm(jaxgradcobjfn(restrubadjgrad)), sep='\\n')\n",
    "\n",
    "print('Continuous L2 Error of Potential using Quadrature Method:', np.sqrt(si.quad(sqrerrorfn, -L, L, args=(restrubadjgrad)))[0], sep='\\n')\n",
    "\n",
    "# plot learned vs true\n",
    "plt.plot(xvec, ctoxmat @ restrubadjgrad, label='learned')\n",
    "plt.plot(xvec, vxvec, label='Truth')\n",
    "plt.title('Learned Potential vs. Truth')\n",
    "plt.legend()\n",
    "plt.show()"
   ],
   "metadata": {
    "collapsed": false,
    "pycharm": {
     "name": "#%%\n"
    }
   }
  },
  {
   "cell_type": "markdown",
   "source": [
    "---"
   ],
   "metadata": {
    "collapsed": false,
    "pycharm": {
     "name": "#%% md\n"
    }
   }
  },
  {
   "cell_type": "code",
   "execution_count": 273,
   "outputs": [
    {
     "name": "stdout",
     "output_type": "stream",
     "text": [
      "Warning: Desired error not necessarily achieved due to precision loss.\n",
      "         Current function value: 0.000000\n",
      "         Iterations: 122\n",
      "         Function evaluations: 148\n",
      "         Gradient evaluations: 142\n"
     ]
    }
   ],
   "source": [
    "resformadjgrad = spo.minimize(jitcobjfn, cffform, jac=jitcgradfn, tol=1e-15, options={'maxiter': 1000, 'disp': True, 'gtol': 1e-14}).x"
   ],
   "metadata": {
    "collapsed": false,
    "pycharm": {
     "name": "#%%\n"
    }
   }
  },
  {
   "cell_type": "code",
   "execution_count": 274,
   "outputs": [
    {
     "name": "stdout",
     "output_type": "stream",
     "text": [
      "Objective of the Learned Coefficients:\n",
      "2.2011848584977247e-13\n",
      "Vec L2 Norm of Gradient of the Learned Coefficients:\n",
      "1.446328771776061e-12\n",
      "Continuous L2 Error of Potential using Quadrature Method:\n",
      "3.1990468073306637\n"
     ]
    },
    {
     "data": {
      "text/plain": "<Figure size 432x288 with 1 Axes>",
      "image/png": "[encoded data removed]"
     },
     "metadata": {
      "needs_background": "light"
     },
     "output_type": "display_data"
    },
    {
     "data": {
      "text/plain": "<Figure size 432x288 with 1 Axes>",
      "image/png": "[encoded data removed]"
     },
     "metadata": {
      "needs_background": "light"
     },
     "output_type": "display_data"
    }
   ],
   "source": [
    "# print('Chebyshev Coefficients of the True Potential:', cvec, sep='\\n')\n",
    "# print('', 'Chebyshev Coefficients of the Learned Potential:', resform, sep='\\n')\n",
    "\n",
    "print('Objective of the Learned Coefficients:', cobjfn(resformadjgrad), sep='\\n')\n",
    "print('Vec L2 Norm of Gradient of the Learned Coefficients:', nl.norm(jaxgradcobjfn(resformadjgrad)), sep='\\n')\n",
    "\n",
    "print('Continuous L2 Error of Potential using Quadrature Method:', np.sqrt(si.quad(sqrerrorfn, -L, L, args=(resformadjgrad)))[0], sep='\\n')\n",
    "\n",
    "# plot learned vs true\n",
    "# plt.plot(xvec, ctoxmat @ cfftrub, label='initial')\n",
    "plt.plot(xvec, ctoxmat @ resformadjgrad, label='learned')\n",
    "plt.plot(xvec, vxvec, label='Truth')\n",
    "# plt.xlim((-5, 5))\n",
    "# plt.ylim((0, 10))\n",
    "plt.title('Learned Potential vs. Truth')\n",
    "plt.legend()\n",
    "plt.show()\n",
    "\n",
    "# plot learned vs true\n",
    "plt.plot(xvec[100:-100], (ctoxmat @ cfftrub)[100:-100], label='initial')\n",
    "plt.plot(xvec[100:-100], (ctoxmat @ resformadjgrad)[100:-100], label='learned')\n",
    "plt.plot(xvec[100:-100], vxvec[100:-100], label='Truth')\n",
    "# plt.xlim((-5, 5))\n",
    "# plt.ylim((0, 10))\n",
    "plt.title('Learned Potential vs. Truth')\n",
    "plt.legend()\n",
    "plt.show()"
   ],
   "metadata": {
    "collapsed": false,
    "pycharm": {
     "name": "#%%\n"
    }
   }
  },
  {
   "cell_type": "code",
   "execution_count": null,
   "outputs": [],
   "source": [],
   "metadata": {
    "collapsed": false,
    "pycharm": {
     "name": "#%%\n"
    }
   }
  }
 ],
 "metadata": {
  "kernelspec": {
   "display_name": "Python 3 (ipykernel)",
   "language": "python",
   "name": "python3"
  },
  "language_info": {
   "codemirror_mode": {
    "name": "ipython",
    "version": 3
   },
   "file_extension": ".py",
   "mimetype": "text/x-python",
   "name": "python",
   "nbconvert_exporter": "python",
   "pygments_lexer": "ipython3",
   "version": "3.9.9"
  }
 },
 "nbformat": 4,
 "nbformat_minor": 5
}