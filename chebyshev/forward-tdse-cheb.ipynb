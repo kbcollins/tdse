{
 "cells": [
  {
   "cell_type": "code",
   "execution_count": 24,
   "id": "b56b4e7b-b7e8-4446-a869-dc16fcad25e4",
   "metadata": {},
   "outputs": [],
   "source": [
    "import numpy as np\n",
    "import numpy.linalg as nl\n",
    "import scipy.special as sps\n",
    "import scipy.integrate as si\n",
    "import matplotlib.pyplot as plt"
   ]
  },
  {
   "cell_type": "markdown",
   "id": "ad17bee5-e941-4ef1-9314-9ea62ce43504",
   "metadata": {},
   "source": [
    "<h3>TDSE Forward Problem</h3>"
   ]
  },
  {
   "cell_type": "code",
   "execution_count": 26,
   "id": "c7d9113b-b601-4c1d-85e2-ec227a142132",
   "metadata": {},
   "outputs": [],
   "source": [
    "# set radius of spatial domain\n",
    "L = 16\n",
    "\n",
    "# set real space grid, used for plotting\n",
    "nx = 1025\n",
    "# dx is needed to perform norm check of training data\n",
    "xvec, dx = np.linspace(-L, L, nx, retstep=True)\n",
    "\n",
    "# set number of Fourier basis\n",
    "nF = 128\n",
    "# matrix for converting Fourier basis coefficients to real space values\n",
    "Fnvec = np.arange(-nF, nF + 1) # Fnvec=-nfb,...,0,...,nfb\n",
    "FtoRmat = (1 / np.sqrt(2 * L)) * np.exp(1j * np.pi * np.outer(Fnvec, xvec) / L)"
   ]
  },
  {
   "cell_type": "code",
   "execution_count": 27,
   "outputs": [
    {
     "data": {
      "text/plain": "<Figure size 432x288 with 1 Axes>",
      "image/png": "[encoded data removed]"
     },
     "metadata": {
      "needs_background": "light"
     },
     "output_type": "display_data"
    }
   ],
   "source": [
    "# define potential for generating training data\n",
    "\n",
    "def v(x):\n",
    "    # dimensionless quantum harmonic oscillator potential\n",
    "    return 0.5 * x**2\n",
    "    # rescaled symmetric double well potential\n",
    "    # return 0.0025*(x**2 - 25)**2\n",
    "    # scaled asymmetric double well potential\n",
    "    # return 0.0003*((x-3)**4 + 10*(x-5)**3)\n",
    "    # soft coulomb potential\n",
    "    # return -1 / np.sqrt(x**2 + 0.25)\n",
    "\n",
    "# compute true potential\n",
    "vxvec = v(xvec)\n",
    "\n",
    "# plot true potential\n",
    "plt.plot(xvec, vxvec)\n",
    "plt.title('Plot of V(x)')\n",
    "plt.xlabel('x')\n",
    "plt.show()"
   ],
   "metadata": {
    "collapsed": false,
    "pycharm": {
     "name": "#%%\n"
    }
   }
  },
  {
   "cell_type": "code",
   "execution_count": 28,
   "outputs": [],
   "source": [
    "# this code transforms the true potential to the\n",
    "# Fourier basis\n",
    "\n",
    "# Fres is used to adjust the Fourier basis resolution\n",
    "# if Fres = 1, then Fsample = 2*nfb, which is the\n",
    "# Nyquist frequency (most course resolution?)\n",
    "Fres = 100\n",
    "Fsample = Fres * 2 * nF\n",
    "Fxvec = np.linspace(-L, L, Fsample + 2, endpoint=False)\n",
    "Fvvec = (np.fft.rfft(v(Fxvec)) / Fxvec.size)[:(2 * nF + 1)]"
   ],
   "metadata": {
    "collapsed": false,
    "pycharm": {
     "name": "#%%\n"
    }
   }
  },
  {
   "cell_type": "code",
   "execution_count": 29,
   "outputs": [
    {
     "name": "stdout",
     "output_type": "stream",
     "text": [
      "(257,)\n",
      "(257, 1025)\n"
     ]
    },
    {
     "data": {
      "text/plain": "<Figure size 432x288 with 1 Axes>",
      "image/png": "[encoded data removed]"
     },
     "metadata": {
      "needs_background": "light"
     },
     "output_type": "display_data"
    },
    {
     "name": "stdout",
     "output_type": "stream",
     "text": [
      "Rel Norm Diff: 5.020489938219892e-05\n"
     ]
    }
   ],
   "source": [
    "# define initial state and transform to Fourier basis\n",
    "\n",
    "# I GET BETTER RESULTS WHEN I USE MY METHOD WHICH NORMALIZES\n",
    "# THE INITIAL WAVE FUNCTION RATHER THAN USING THE WAVE FUNCTION\n",
    "# NORMALIZED MANUALLY\n",
    "\n",
    "def psi0(x):\n",
    "    # rounded box function\n",
    "    # return 1.0 + np.tanh((1 - x**2)/0.5)\n",
    "    # HSB's manually normalized rounded box function\n",
    "    return (1.0 + np.tanh((1 - x**2)/0.5)) / 2.58046\n",
    "    # triangular pulse\n",
    "    # return np.piecewise(x, [x < -1, (x >= -1) & (x <= 1), x > 1], [0, lambda x: (1 - np.abs(x)), 0])\n",
    "    # parabolic pulse\n",
    "    # return np.piecewise(x, [x < -1, (x >= -1) & (x <= 1), x > 1], [0, lambda x: (1 - x**2), 0])\n",
    "    # hyperbolic secant squared\n",
    "    # return (np.cosh(x))**(-2)\n",
    "    # Laplace\n",
    "    # return np.exp(-np.abs(x))\n",
    "\n",
    "# function for normalizing psi0\n",
    "# uncomment when not using Harish's psi0\n",
    "# def mknormpsifn(psifn):\n",
    "    # compute psi normalization term,\n",
    "    # this is a constant given some psi\n",
    "    # psiprobintegrand = lambda x: np.abs(psifn(x))**2\n",
    "    # normterm = np.sqrt(si.quad(psiprobintegrand, a=-l, b=l)[0])\n",
    "\n",
    "    # define function for computing normalized psi\n",
    "    # via scipy.integrate methods\n",
    "    # def normpsifn(x):\n",
    "    #     return psifn(x)/normterm\n",
    "\n",
    "    # return normpsifn\n",
    "\n",
    "# normpsi0fn = mknormpsifn(psi0)  # when not using Harish's psi0\n",
    "normpsi0fn = psi0  # when using Harish's psi0\n",
    "# vector of the normalized psi0 function sampled on the\n",
    "# real space grid for plotting\n",
    "normpsi0vec = normpsi0fn(xvec)\n",
    "\n",
    "# compute the Fourier basis representation of the\n",
    "# normalized psi0 function using a scipy.integrate method\n",
    "normpsi0integrand = lambda x: np.exp(-1j * np.pi * nvec * x / l) / np.sqrt(2 * l) * normpsi0fn(x)\n",
    "normpsi0quadrtn = si.quad_vec(normpsi0integrand, -l, l)[0]\n",
    "print(normpsi0quadrtn.shape)\n",
    "print(FtoRmat.shape)\n",
    "# Fnormpsi0vecrec2 = normpsi0quadrtn @ Fmat\n",
    "Fnormpsi0vecrec = normpsi0quadrtn @ FtoRmat\n",
    "\n",
    "# plot the real part of the normalized psi0\n",
    "plt.plot(xvec, Fnormpsi0vecrec.real, label=\"Rec\")\n",
    "plt.plot(xvec, normpsi0vec.real, label=\"Truth\")\n",
    "plt.title('Real Part of Initial Wave Function')\n",
    "plt.xlabel('x')\n",
    "plt.legend()\n",
    "plt.show()\n",
    "\n",
    "print('Rel Norm Diff:', nl.norm(normpsi0vec - Fnormpsi0vecrec) / nl.norm(normpsi0vec))"
   ],
   "metadata": {
    "collapsed": false,
    "pycharm": {
     "name": "#%%\n"
    }
   }
  },
  {
   "cell_type": "code",
   "execution_count": 30,
   "outputs": [],
   "source": [
    "# to make a toeplitz matrix by hand (which is also\n",
    "# JAX grad/jacobian compliant) we use NumPy/JAX's\n",
    "# advance indexing functionality\n",
    "# first make a vector indexing matrix which is used\n",
    "# to construct the toeplitz matrix:\n",
    "# toepindx = ((-1) * np.arange(0, ntoepelm)).reshape(ntoepelm, 1) + [np.arange(ntoepelm  -1, 2 * ntoepelm - 1)]\n",
    "# then make a vector which is used to form the\n",
    "# toeplitz matrix like:\n",
    "# toepvec = np.concatenate([np.flipud(toeprow.conj()), toeprow[1:]])\n",
    "# finally make the toeplitz matrix:\n",
    "# toepmat = toeprepvec[toepindx]\n",
    "ntoeelms = 2 * nF + 1\n",
    "toeindx = ((-1) * np.arange(0, ntoeelms)).reshape(ntoeelms, 1) + [np.arange(ntoeelms  -1, 2 * ntoeelms - 1)]"
   ],
   "metadata": {
    "collapsed": false,
    "pycharm": {
     "name": "#%%\n"
    }
   }
  },
  {
   "cell_type": "code",
   "execution_count": 31,
   "id": "7b241039-f314-4730-9423-644b4d59fac0",
   "metadata": {
    "pycharm": {
     "name": "#%%\n"
    }
   },
   "outputs": [
    {
     "name": "stdout",
     "output_type": "stream",
     "text": [
      "hmat Hermitian check (should be close to zero):\n",
      "0.0\n",
      "Check if hmat is diagonalized (should be close to zero):\n",
      "5.72003711317733e-12\n",
      "Unitary stts check (should be close to zero):\n",
      "4.07668687362199e-14\n"
     ]
    }
   ],
   "source": [
    "# construct the kinetic matrix representation of the\n",
    "# kinetic operator in the Fourier basis\n",
    "# (this is constant for a given system)\n",
    "kmat = np.diag(np.arange(-nF, nF + 1)**2 * np.pi**2 / (2 * L**2))\n",
    "\n",
    "# store the Fourier series coefficients for n-m=0 to n-m=2*nmax\n",
    "# as a vector can can be used to construct a toeplitz matrix\n",
    "Fvtoerow = Fvvec * (-1)**np.arange(ntoeelms)\n",
    "Fvtoevec = np.concatenate([np.flipud(Fvtoerow.conj()), Fvtoerow[1:]])\n",
    "# make potential matrix from Fvtoevec\n",
    "Fvmat = Fvtoevec[toeindx]\n",
    "\n",
    "# construct the Hamiltonian matrix representation of the\n",
    "# Hamiltonian operator in the Fourier basis\n",
    "Fhmat = kmat + Fvmat\n",
    "\n",
    "# check if the Hamiltonian matrix is Hermitian\n",
    "print('hmat Hermitian check (should be close to zero):', nl.norm(Fhmat - Fhmat.T.conj()), sep='\\n')\n",
    "\n",
    "# eigen-decomposition of the Hamiltonian matrix\n",
    "Fspc, Fstts = nl.eigh(Fhmat)\n",
    "\n",
    "# check if the eigendecomposition diagonalizes the\n",
    "# Hamiltonian matrix\n",
    "# if this is close to zero then\n",
    "# hmat = states @ np.diag(spec) @ np.conj(states).T\n",
    "print('Check if hmat is diagonalized (should be close to zero):', nl.norm(Fhmat @ Fstts - Fstts @ np.diag(Fspc)), sep='\\n')\n",
    "\n",
    "# check if the eigenstates are unitary\n",
    "print('Unitary stts check (should be close to zero):', nl.norm(Fstts @ Fstts.conj().T - np.eye(2 * nF + 1)), sep='\\n')"
   ]
  },
  {
   "cell_type": "code",
   "execution_count": 32,
   "outputs": [],
   "source": [
    "# find indices that sort eigenvalues\n",
    "ordering = np.argsort(Fspc)"
   ],
   "metadata": {
    "collapsed": false,
    "pycharm": {
     "name": "#%%\n"
    }
   }
  },
  {
   "cell_type": "code",
   "execution_count": 33,
   "outputs": [
    {
     "data": {
      "text/plain": "<Figure size 432x288 with 1 Axes>",
      "image/png": "[encoded data removed]"
     },
     "metadata": {
      "needs_background": "light"
     },
     "output_type": "display_data"
    },
    {
     "name": "stdout",
     "output_type": "stream",
     "text": [
      "Quick check of Ground state' normalization (should be close to 1):\n",
      "1.0000000000000018\n",
      "Check of Ground state' normalization (should be close to 1):\n",
      "1.0000000000000018\n"
     ]
    }
   ],
   "source": [
    "# pick out and plot ground state\n",
    "groundstate = ordering[0]\n",
    "wavefn = Fstts[:,groundstate] @ FtoRmat\n",
    "plt.plot(xvec, -np.real(wavefn))\n",
    "plt.show()\n",
    "\n",
    "# quick and dirty check if the ground state wave function\n",
    "# is normalized\n",
    "print('Quick check of Ground state\\' normalization (should be close to 1):', np.sum(np.abs(wavefn)**2 * (xvec[1]-xvec[0])), sep='\\n')\n",
    "\n",
    "# this should be a more accurate check of the ground state\n",
    "# wave functions' normalization\n",
    "print('Check of Ground state\\' normalization (should be close to 1):', si.trapezoid(np.abs(wavefn)**2, xvec), sep='\\n')"
   ],
   "metadata": {
    "collapsed": false,
    "pycharm": {
     "name": "#%%\n"
    }
   }
  },
  {
   "cell_type": "code",
   "execution_count": 34,
   "outputs": [
    {
     "data": {
      "text/plain": "<Figure size 432x288 with 1 Axes>",
      "image/png": "[encoded data removed]"
     },
     "metadata": {
      "needs_background": "light"
     },
     "output_type": "display_data"
    },
    {
     "name": "stdout",
     "output_type": "stream",
     "text": [
      "Quick check of Ground state' normalization (should be close to 1):\n",
      "0.9999999999999993\n",
      "Check of Ground state' normalization (should be close to 1):\n",
      "0.9999999999999992\n"
     ]
    }
   ],
   "source": [
    "# pick out and plot the j-th state with j starting at 0\n",
    "wavefn = Fstts[:,ordering[1]] @ FtoRmat\n",
    "plt.plot(xvec, np.imag(wavefn))\n",
    "plt.show()\n",
    "\n",
    "# quick and dirty check if the ground state wave function\n",
    "# is normalized\n",
    "print('Quick check of Ground state\\' normalization (should be close to 1):', np.sum(np.abs(wavefn)**2 * (xvec[1]-xvec[0])), sep='\\n')\n",
    "\n",
    "# this should be a more accurate check of the ground state\n",
    "# wave functions' normalization\n",
    "print('Check of Ground state\\' normalization (should be close to 1):', si.trapezoid(np.abs(wavefn)**2, xvec), sep='\\n')"
   ],
   "metadata": {
    "collapsed": false,
    "pycharm": {
     "name": "#%%\n"
    }
   }
  },
  {
   "cell_type": "code",
   "execution_count": 35,
   "outputs": [
    {
     "data": {
      "text/plain": "<Figure size 432x288 with 1 Axes>",
      "image/png": "[encoded data removed]"
     },
     "metadata": {
      "needs_background": "light"
     },
     "output_type": "display_data"
    },
    {
     "name": "stdout",
     "output_type": "stream",
     "text": [
      "Average Norm of Trajectory (should be close to 1):\n",
      "0.9999966470068131\n"
     ]
    }
   ],
   "source": [
    "# solve the forward problem and generate amat\n",
    "# set the time step and compute the propagator matrix\n",
    "# note that we are reusing the spectrum and states from\n",
    "# the eigendecomposition of Hamiltonian matrix computed above\n",
    "\n",
    "# set the size of a time step\n",
    "dt = 0.01\n",
    "\n",
    "# make the propagator matrix\n",
    "Fpropa = Fstts @ np.diag(np.exp(-1j * Fspc * dt)) @ Fstts.conj().T\n",
    "\n",
    "# set the number of time steps to take starting from\n",
    "# the initial state (a single trajectory should be\n",
    "# nts + 1 states, this includes the initial state)\n",
    "nts = 2000\n",
    "\n",
    "# propagate the system starting from the initial \"a\" state\n",
    "Famat = np.zeros((nts + 1, 2 * nF + 1), dtype=np.complex128)\n",
    "Famat[0,:] = Fnormpsi0vec.copy()\n",
    "for i in range(nts):\n",
    "    Famat[i + 1,:] = Fpropa @ Famat[i,:]\n",
    "\n",
    "# check if the wave function of each time step\n",
    "# is normalized to 1\n",
    "# this should produce a graph with a line that is almost\n",
    "# completely horizontal at 1\n",
    "psimatnormvec = si.trapezoid(np.abs(Famat @ FtoRmat) ** 2, xvec, axis=1)\n",
    "plt.plot(np.arange(nts + 1) * dt, psimatnormvec)\n",
    "plt.hlines(1 , 0, nts * dt, linestyles='-.', colors='darkorange')\n",
    "plt.title('Normalization of the Wave Function\\nas a Function of Time\\n')\n",
    "plt.xlabel('Time')\n",
    "plt.ylabel('Norm')\n",
    "plt.show()\n",
    "\n",
    "# norm difference of wave function normalization check,\n",
    "# this should be close to 1\n",
    "print('Average Norm of Trajectory (should be close to 1):', psimatnormvec.sum() / (nts + 1), sep='\\n')"
   ],
   "metadata": {
    "collapsed": false,
    "pycharm": {
     "name": "#%%\n"
    }
   }
  },
  {
   "cell_type": "code",
   "execution_count": 37,
   "outputs": [
    {
     "name": "stdout",
     "output_type": "stream",
     "text": [
      "[ 1  2  3  4  5  6  7  8  9 10 11]\n",
      "[ 0  1  2  3  4  5  6  7  8  9 10]\n",
      "[ 5.00000000e-01  1.41301112e-16  2.50000000e-01 -4.03717464e-17\n",
      " -4.03717464e-17  1.21115239e-16  1.00929366e-16  2.01858732e-17\n",
      " -3.02788098e-17  4.54182146e-17  0.00000000e+00]\n"
     ]
    },
    {
     "data": {
      "text/plain": "<Figure size 432x288 with 1 Axes>",
      "image/png": "[encoded data removed]"
     },
     "metadata": {
      "needs_background": "light"
     },
     "output_type": "display_data"
    },
    {
     "name": "stdout",
     "output_type": "stream",
     "text": [
      "Error:  2.4129838906984093e-16\n"
     ]
    }
   ],
   "source": [
    "nC = 10\n",
    "\n",
    "def theta(k):\n",
    "    return (k - 0.5) * np.pi / (nC + 1)\n",
    "\n",
    "def g(k):\n",
    "    return v(np.cos(theta(k)))\n",
    "\n",
    "kvec = np.arange(1, nC + 2)\n",
    "print(kvec)\n",
    "Cnvec = np.arange(0, nC + 1)\n",
    "print(Cnvec)\n",
    "\n",
    "# compute Chebyshev coefficients\n",
    "Cvec = 2 / (nC + 1) * np.sum(g(kvec) * np.cos(Cnvec[..., np.newaxis] * theta(kvec)), axis=1)\n",
    "print(Cvec)\n",
    "\n",
    "# reconstruct function from Chebyshev coefficients\n",
    "def cheb2x(x):\n",
    "    rtn = np.zeros_like(x)\n",
    "    for i in range(len(x)):\n",
    "        chebvec = sps.eval_chebyt(Cnvec, x[i])\n",
    "        chebvec[0] = chebvec[0] * 0.5\n",
    "        chebvec[-1] = chebvec[-1] * 0.5\n",
    "        rtn[i] = Cvec @ chebvec\n",
    "    return rtn\n",
    "\n",
    "# plot reconstruction vs truth\n",
    "plt.plot(xvec, cheb2x(xvec), label='cheb')\n",
    "plt.plot(xvec, vxvec, label='True')\n",
    "plt.title('Approx vs. True for n=10')\n",
    "plt.legend()\n",
    "plt.show()\n",
    "\n",
    "# compute norm error between reconstruction and truth\n",
    "def errintgrd(x):\n",
    "    chebvec = sps.eval_chebyt(Cnvec, x)\n",
    "    chebvec[0] = chebvec[0] * 0.5\n",
    "    chebvec[-1] = chebvec[-1] * 0.5\n",
    "    vhat = Cvec @ chebvec\n",
    "    return (vhat - v(x))**2\n",
    "\n",
    "print('Error: ', np.sqrt(si.quad(errintgrd, -1, 1, )[0]))"
   ],
   "metadata": {
    "collapsed": false,
    "pycharm": {
     "name": "#%%\n"
    }
   }
  },
  {
   "cell_type": "code",
   "execution_count": 38,
   "outputs": [
    {
     "ename": "TypeError",
     "evalue": "quad_vec() got an unexpected keyword argument 'args'",
     "output_type": "error",
     "traceback": [
      "\u001B[0;31m---------------------------------------------------------------------------\u001B[0m",
      "\u001B[0;31mTypeError\u001B[0m                                 Traceback (most recent call last)",
      "Input \u001B[0;32mIn [38]\u001B[0m, in \u001B[0;36m<module>\u001B[0;34m\u001B[0m\n\u001B[1;32m      1\u001B[0m \u001B[38;5;28;01mdef\u001B[39;00m \u001B[38;5;21mFintgrnd\u001B[39m(x, fn):\n\u001B[1;32m      2\u001B[0m     \u001B[38;5;28;01mreturn\u001B[39;00m np\u001B[38;5;241m.\u001B[39mexp(\u001B[38;5;241m-\u001B[39m\u001B[38;5;241m1\u001B[39mj \u001B[38;5;241m*\u001B[39m np\u001B[38;5;241m.\u001B[39mpi \u001B[38;5;241m*\u001B[39m Fnvec \u001B[38;5;241m*\u001B[39m x \u001B[38;5;241m/\u001B[39m L) \u001B[38;5;241m/\u001B[39m np\u001B[38;5;241m.\u001B[39msqrt(\u001B[38;5;241m2\u001B[39m \u001B[38;5;241m*\u001B[39m L) \u001B[38;5;241m*\u001B[39m fn(x)\n\u001B[0;32m----> 4\u001B[0m FCvec \u001B[38;5;241m=\u001B[39m \u001B[43msi\u001B[49m\u001B[38;5;241;43m.\u001B[39;49m\u001B[43mquad_vec\u001B[49m\u001B[43m(\u001B[49m\u001B[43mFintgrnd\u001B[49m\u001B[43m,\u001B[49m\u001B[43m \u001B[49m\u001B[38;5;241;43m-\u001B[39;49m\u001B[43mL\u001B[49m\u001B[43m,\u001B[49m\u001B[43m \u001B[49m\u001B[43mL\u001B[49m\u001B[43m,\u001B[49m\u001B[43m \u001B[49m\u001B[43margs\u001B[49m\u001B[38;5;241;43m=\u001B[39;49m\u001B[43m(\u001B[49m\u001B[43mcheb2x\u001B[49m\u001B[43m)\u001B[49m\u001B[43m)\u001B[49m[\u001B[38;5;241m0\u001B[39m]\n\u001B[1;32m      5\u001B[0m \u001B[38;5;28mprint\u001B[39m(FCvec\u001B[38;5;241m.\u001B[39mshape)\n",
      "\u001B[0;31mTypeError\u001B[0m: quad_vec() got an unexpected keyword argument 'args'"
     ]
    }
   ],
   "source": [
    "def Fintgrnd(x, fn):\n",
    "    return np.exp(-1j * np.pi * Fnvec * x / L) / np.sqrt(2 * L) * fn(x)\n",
    "\n",
    "FCvec = si.quad_vec(Fintgrnd, -L, L, args=(cheb2x))[0]\n",
    "print(FCvec.shape)"
   ],
   "metadata": {
    "collapsed": false,
    "pycharm": {
     "name": "#%%\n"
    }
   }
  },
  {
   "cell_type": "code",
   "execution_count": null,
   "outputs": [],
   "source": [
    "# store the Fourier series coefficients for n-m=0 to n-m=2*nmax\n",
    "# as a vector can can be used to construct a toeplitz matrix\n",
    "Fvtoerow = Fvvec * (-1)**np.arange(ntoeelms)\n",
    "Fvtoevec = np.concatenate([np.flipud(Fvtoerow.conj()), Fvtoerow[1:]])\n",
    "# make potential matrix from Fvtoevec\n",
    "Fvmat = Fvtoevec[toeindx]\n",
    "\n",
    "# construct the Hamiltonian matrix representation of the\n",
    "# Hamiltonian operator in the Fourier basis\n",
    "Fhmat = kmat + Fvmat\n",
    "\n",
    "# check if the Hamiltonian matrix is Hermitian\n",
    "print('hmat Hermitian check (should be close to zero):', nl.norm(Fhmat - Fhmat.T.conj()), sep='\\n')\n",
    "\n",
    "# eigen-decomposition of the Hamiltonian matrix\n",
    "Fspc, Fstts = nl.eigh(Fhmat)\n",
    "\n",
    "# check if the eigendecomposition diagonalizes the\n",
    "# Hamiltonian matrix\n",
    "# if this is close to zero then\n",
    "# hmat = states @ np.diag(spec) @ np.conj(states).T\n",
    "print('Check if hmat is diagonalized (should be close to zero):', nl.norm(Fhmat @ Fstts - Fstts @ np.diag(Fspc)), sep='\\n')\n",
    "\n",
    "# check if the eigenstates are unitary\n",
    "print('Unitary stts check (should be close to zero):', nl.norm(Fstts @ Fstts.conj().T - np.eye(2 * nF + 1)), sep='\\n')\n",
    "\n",
    "# make the propagator matrix\n",
    "Cpropa = Fstts @ np.diag(np.exp(-1j * Fspc * dt)) @ Fstts.conj().T\n",
    "\n",
    "# propagate the system starting from the initial \"a\" state\n",
    "Famat = np.zeros((nts + 1, 2 * nF + 1), dtype=np.complex128)\n",
    "Famat[0,:] = Fnormpsi0vec.copy()\n",
    "for i in range(nts):\n",
    "    Famat[i + 1,:] = Fpropa @ Famat[i,:]\n",
    "\n",
    "# check if the wave function of each time step\n",
    "# is normalized to 1\n",
    "# this should produce a graph with a line that is almost\n",
    "# completely horizontal at 1\n",
    "psimatnormvec = si.trapezoid(np.abs(Famat @ FtoRmat) ** 2, xvec, axis=1)\n",
    "plt.plot(np.arange(nts + 1) * dt, psimatnormvec)\n",
    "plt.hlines(1 , 0, nts * dt, linestyles='-.', colors='darkorange')\n",
    "plt.title('Normalization of the Wave Function\\nas a Function of Time\\n')\n",
    "plt.xlabel('Time')\n",
    "plt.ylabel('Norm')\n",
    "plt.show()\n",
    "\n",
    "# norm difference of wave function normalization check,\n",
    "# this should be close to 1\n",
    "print('Average Norm of Trajectory (should be close to 1):', psimatnormvec.sum() / (nts + 1), sep='\\n')"
   ],
   "metadata": {
    "collapsed": false,
    "pycharm": {
     "name": "#%%\n"
    }
   }
  }
 ],
 "metadata": {
  "kernelspec": {
   "display_name": "Python 3 (ipykernel)",
   "language": "python",
   "name": "python3"
  },
  "language_info": {
   "codemirror_mode": {
    "name": "ipython",
    "version": 3
   },
   "file_extension": ".py",
   "mimetype": "text/x-python",
   "name": "python",
   "nbconvert_exporter": "python",
   "pygments_lexer": "ipython3",
   "version": "3.9.9"
  }
 },
 "nbformat": 4,
 "nbformat_minor": 5
}