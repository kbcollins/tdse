{
 "cells": [
  {
   "cell_type": "code",
   "execution_count": 1,
   "id": "b56b4e7b-b7e8-4446-a869-dc16fcad25e4",
   "metadata": {},
   "outputs": [],
   "source": [
    "import time\n",
    "import numpy as np\n",
    "import numpy.linalg as nl\n",
    "import scipy.linalg as sl\n",
    "import scipy.special as sps\n",
    "import scipy.integrate as si\n",
    "import scipy.optimize as spo\n",
    "import matplotlib.pyplot as plt\n",
    "from jax.config import config\n",
    "import jax\n",
    "import jax.numpy as jnp\n",
    "import jax.numpy.linalg as jnl\n",
    "config.update(\"jax_enable_x64\", True)"
   ]
  },
  {
   "cell_type": "markdown",
   "id": "ad17bee5-e941-4ef1-9314-9ea62ce43504",
   "metadata": {},
   "source": [
    "<h1>TDSE Forward Problem</h1>"
   ]
  },
  {
   "cell_type": "code",
   "execution_count": 2,
   "id": "c7d9113b-b601-4c1d-85e2-ec227a142132",
   "metadata": {},
   "outputs": [],
   "source": [
    "# size of spatial domain\n",
    "a = 10.0\n",
    "\n",
    "# set number of real space grid points for plotting\n",
    "nx = 1025\n",
    "# spatial grid for the purposes of plotting\n",
    "xvec = np.linspace(-a, a, nx)\n",
    "\n",
    "# the basis functions used in our Fourier representation\n",
    "# will be from n = -numF to n = numF\n",
    "numF = 32\n",
    "# matrix for converting Fourier basis coefficients to real space values\n",
    "Fnvec = np.arange(-numF, numF + 1) # Fnvec=-nfb,...,0,...,nfb\n",
    "Fcnvrtmat = np.exp(1j * np.pi * np.outer(Fnvec, xvec) / a) / np.sqrt(2 * a)"
   ]
  },
  {
   "cell_type": "markdown",
   "source": [
    "---\n",
    "**Potential Function**"
   ],
   "metadata": {
    "collapsed": false
   }
  },
  {
   "cell_type": "code",
   "execution_count": 3,
   "outputs": [
    {
     "data": {
      "text/plain": "<Figure size 432x288 with 1 Axes>",
      "image/png": "[encoded data removed]"
     },
     "metadata": {
      "needs_background": "light"
     },
     "output_type": "display_data"
    }
   ],
   "source": [
    "# define potential for generating training data\n",
    "\n",
    "def v(x):\n",
    "    # dimensionless quantum harmonic oscillator potential\n",
    "    return 0.5 * x**2\n",
    "    # rescaled symmetric double well potential\n",
    "    # return 0.0025*(x**2 - 25)**2\n",
    "    # scaled asymmetric double well potential\n",
    "    # return 0.0003*((x-3)**4 + 10*(x-5)**3)\n",
    "    # soft coulomb potential\n",
    "    # return -1 / np.sqrt(x**2 + 0.25)\n",
    "\n",
    "# compute true potential for plotting\n",
    "vxvec = v(xvec)\n",
    "\n",
    "# plot true potential\n",
    "plt.plot(xvec, vxvec)\n",
    "plt.title('Plot of V(x)')\n",
    "plt.xlabel('x')\n",
    "plt.show()"
   ],
   "metadata": {
    "collapsed": false,
    "pycharm": {
     "name": "#%%\n"
    }
   }
  },
  {
   "cell_type": "markdown",
   "source": [
    "---\n",
    "**Eigendecomposition of a Fourier Represented Potential**"
   ],
   "metadata": {
    "collapsed": false
   }
  },
  {
   "cell_type": "code",
   "execution_count": 4,
   "outputs": [
    {
     "name": "stdout",
     "output_type": "stream",
     "text": [
      "(65, 65)\n",
      "hmat Hermitian check (should be close to zero):\n",
      "0.0\n",
      "Check if hmat is diagonalized (should be close to zero):\n",
      "3.392077258042753e-13\n",
      "Unitary stts check (should be close to zero):\n",
      "1.2469110651416776e-14\n"
     ]
    }
   ],
   "source": [
    "# transform potential function to Fourier representation\n",
    "# using quadrature method\n",
    "# (in tdse-adj-cheb-fft-vs-quad-kbc.ipynb we show that the\n",
    "# using a quadrature method produces much more accurate results)\n",
    "Fvtoep = []\n",
    "for thisn in range(2 * numF + 1):\n",
    "    def intgrnd(x):\n",
    "        return v(x) * np.exp(-1j * np.pi * thisn * x / a) / (2 * a)\n",
    "    def rintgrnd(x):\n",
    "        return intgrnd(x).real\n",
    "    def iintgrnd(x):\n",
    "        return intgrnd(x).imag\n",
    "    Fvtoep.append(si.quad(rintgrnd, -a, a)[0] + 1j * si.quad(iintgrnd, -a, a)[0])\n",
    "Fvtoep = np.array(Fvtoep)\n",
    "Fvmat = sl.toeplitz(r=Fvtoep, c=Fvtoep.conj())\n",
    "\n",
    "print(Fvmat.shape)\n",
    "\n",
    "# kinetic matrix = kinetic operator in the Fourier basis\n",
    "# this is a constant\n",
    "kmat = np.diag(np.arange(-numF, numF + 1) ** 2 * np.pi ** 2 / (2 * a ** 2))\n",
    "\n",
    "# Hamiltonian matrix = Hamiltonian operator in the Fourier basis\n",
    "Fhmat = kmat + Fvmat\n",
    "\n",
    "# check if the Hamiltonian matrix is Hermitian\n",
    "print('hmat Hermitian check (should be close to zero):', nl.norm(Fhmat - Fhmat.T.conj()), sep='\\n')\n",
    "\n",
    "# eigen-decomposition of the Hamiltonian matrix\n",
    "Fspc, Fstts = nl.eigh(Fhmat)\n",
    "\n",
    "# check if the eigendecomposition diagonalizes the\n",
    "# Hamiltonian matrix\n",
    "# if this is close to zero then\n",
    "# hmat = states @ np.diag(spec) @ np.conj(states).T\n",
    "print('Check if hmat is diagonalized (should be close to zero):', nl.norm(Fhmat @ Fstts - Fstts @ np.diag(Fspc)), sep='\\n')\n",
    "\n",
    "# check if the eigenstates are unitary\n",
    "print('Unitary stts check (should be close to zero):', nl.norm(Fstts @ Fstts.T.conj() - np.eye(2 * numF + 1)), sep='\\n')"
   ],
   "metadata": {
    "collapsed": false,
    "pycharm": {
     "name": "#%%\n"
    }
   }
  },
  {
   "cell_type": "code",
   "execution_count": 5,
   "outputs": [
    {
     "name": "stdout",
     "output_type": "stream",
     "text": [
      "[0.5 1.5 2.5 3.5 4.5 5.5]\n"
     ]
    },
    {
     "data": {
      "text/plain": "<Figure size 432x288 with 1 Axes>",
      "image/png": "[encoded data removed]"
     },
     "metadata": {
      "needs_background": "light"
     },
     "output_type": "display_data"
    },
    {
     "name": "stdout",
     "output_type": "stream",
     "text": [
      "Quick check of normalization (should be close to 1):\n",
      "0.9999999999999993\n",
      "Check of normalization (should be close to 1):\n",
      "0.9999999999999993\n"
     ]
    }
   ],
   "source": [
    "# find indices that sort eigenvalues\n",
    "ordering = np.argsort(Fspc)\n",
    "\n",
    "# print the first few eigenvalues\n",
    "print(Fspc[ordering[:6]])\n",
    "\n",
    "# pick out and plot ground state\n",
    "groundstate = ordering[0]\n",
    "wavefn = Fstts[:,groundstate] @ Fcnvrtmat\n",
    "plt.plot(xvec, np.real(wavefn))\n",
    "plt.title('Ground state')\n",
    "plt.xlabel('x')\n",
    "plt.show()\n",
    "\n",
    "# quick and dirty check of normalization\n",
    "print('Quick check of normalization (should be close to 1):', np.sum(np.abs(wavefn)**2 * (xvec[1]-xvec[0])), sep='\\n')\n",
    "\n",
    "# this should be a more accurate check of the ground state\n",
    "# wave functions' normalization\n",
    "print('Check of normalization (should be close to 1):', si.trapezoid(np.abs(wavefn)**2, xvec), sep='\\n')"
   ],
   "metadata": {
    "collapsed": false,
    "pycharm": {
     "name": "#%%\n"
    }
   }
  },
  {
   "cell_type": "markdown",
   "source": [
    "---\n",
    "**Initial Wave Function and its Fourier Representation**"
   ],
   "metadata": {
    "collapsed": false
   }
  },
  {
   "cell_type": "code",
   "execution_count": 6,
   "outputs": [
    {
     "data": {
      "text/plain": "<Figure size 432x288 with 1 Axes>",
      "image/png": "[encoded data removed]"
     },
     "metadata": {
      "needs_background": "light"
     },
     "output_type": "display_data"
    },
    {
     "name": "stdout",
     "output_type": "stream",
     "text": [
      "L2 Error psi0: 4.072507283500472e-06\n",
      "a-infinity Error psi0: 1.8301527573114097e-06\n"
     ]
    }
   ],
   "source": [
    "# define initial state(s) and transform to Fourier basis\n",
    "\n",
    "def psi0(x):\n",
    "    # return 1.0 + np.tanh((1 - x**2)/0.5)  # rounded box function\n",
    "    # return np.piecewise(x, [x < -1, (x >= -1) & (x <= 1), x > 1], [0, lambda x: (1 - np.abs(x)), 0])  # triangular pulse\n",
    "    # return np.piecewise(x, [x < -1, (x >= -1) & (x <= 1), x > 1], [0, lambda x: (1 - x**2), 0])  # parabolic pulse\n",
    "    # return (np.cosh(x))**(-2)  # hyperbolic secant squared\n",
    "    # return np.exp(-np.abs(x))  # Laplace\n",
    "    # HSB's \"super simple initial condition\"\n",
    "    # return np.exp(-x**2) * (2.0 / np.pi)**0.25  # Gaussian with a^2 norm = 1\n",
    "    #\n",
    "    return np.exp(-(x + 3)**2 / 4) * (2.0 / np.pi)**0.25\n",
    "    # return np.exp(-(x + 7)**2 / 0.2) * (2.0 / np.pi)**0.25\n",
    "\n",
    "# WHEN USING HSB'S GAUSSIAN WITH a^2 NORM = 1\n",
    "# norm_psi0_fn = psi0\n",
    "# WHEN NOT USING HSB'S GAUSSIAN WITH a^2 NORM = 1\n",
    "# compute psi0 normalization term\n",
    "psi0_prob_intgrnd = lambda x: np.abs(psi0(x)) ** 2\n",
    "psi0_norm = np.sqrt(si.quad(psi0_prob_intgrnd, -a, a)[0])\n",
    "# define normalized psi function to be used by\n",
    "# a scipy.integrate methods\n",
    "def norm_psi0_fn(x):\n",
    "    return psi0(x) / psi0_norm\n",
    "\n",
    "# compute the Fourier basis representation of the\n",
    "# normalized psi0 function using quadrature method\n",
    "normpsi0quad = np.zeros(numF + 1, dtype=np.complex128)\n",
    "for thisn in range (numF + 1):\n",
    "    def intgrnd(x):\n",
    "        return norm_psi0_fn(x) * np.exp(-1j * np.pi * thisn * x / a) / np.sqrt(2 * a)\n",
    "    def rintgrnd(x):\n",
    "        return intgrnd(x).real\n",
    "    def iintgrnd(x):\n",
    "        return intgrnd(x).imag\n",
    "    normpsi0quad[thisn] = si.quad(rintgrnd, -a, a)[0] + 1j * si.quad(iintgrnd, -a, a)[0]\n",
    "\n",
    "ainit = np.concatenate([np.conjugate(np.flipud(normpsi0quad[1:])), normpsi0quad])\n",
    "\n",
    "normpsi0vecrec = ainit @ Fcnvrtmat\n",
    "normpsi0vec = norm_psi0_fn(xvec)\n",
    "\n",
    "# plot the real part of the normalized psi0\n",
    "plt.plot(xvec, normpsi0vecrec.real, label=\"Rec 1\")\n",
    "plt.plot(xvec, normpsi0vec.real, label=\"Truth 1\")\n",
    "plt.title('Real Part of Initial Wave Function')\n",
    "plt.xlabel('x')\n",
    "plt.legend()\n",
    "plt.show()\n",
    "\n",
    "print('L2 Error psi0:', nl.norm(normpsi0vecrec - normpsi0vec))\n",
    "print('a-infinity Error psi0:', np.max(np.abs(normpsi0vecrec - normpsi0vec)))"
   ],
   "metadata": {
    "collapsed": false,
    "pycharm": {
     "name": "#%%\n"
    }
   }
  },
  {
   "cell_type": "markdown",
   "source": [
    "---\n",
    "<h3>Foward Propagation</h3>\n",
    "\n",
    "**of ainit using the Potential in the Fourier Representation**"
   ],
   "metadata": {
    "collapsed": false
   }
  },
  {
   "cell_type": "code",
   "execution_count": 42,
   "outputs": [
    {
     "name": "stdout",
     "output_type": "stream",
     "text": [
      "Done propagating.\n"
     ]
    }
   ],
   "source": [
    "# solve the forward problem in the Fourier\n",
    "# representation and store the trajectory\n",
    "# in Famat\n",
    "\n",
    "# set the size of a time step\n",
    "dt = 1e-2\n",
    "\n",
    "# set the number of time steps to take starting from\n",
    "# the initial state (a single trajectory should be\n",
    "# nts + 1 states, this includes the initial state)\n",
    "ntsteps = 600  # 400  # 200  # 100\n",
    "\n",
    "# compute the propagator matrix reusing the\n",
    "# spectrum and states from the eigendecomposition\n",
    "# of Hamiltonian matrix computed above\n",
    "Fpropa = Fstts @ np.diag(np.exp(-1j * Fspc * dt)) @ Fstts.conj().T\n",
    "\n",
    "# propagate the system starting from the initial \"a\" state\n",
    "Famat = np.zeros((ntsteps + 1, 2 * numF + 1), dtype=np.complex128)\n",
    "Famat[0] = ainit.copy()\n",
    "for i in range(ntsteps):\n",
    "    Famat[i + 1] = Fpropa @ Famat[i]\n",
    "\n",
    "# compute the wave function in space from each \"a\" vector\n",
    "# do it all at once using matrix multiplication!\n",
    "Fpsimat = Famat @ Fcnvrtmat\n",
    "\n",
    "print('Done propagating.')"
   ],
   "metadata": {
    "collapsed": false,
    "pycharm": {
     "name": "#%%\n"
    }
   }
  },
  {
   "cell_type": "code",
   "execution_count": 43,
   "outputs": [
    {
     "data": {
      "text/plain": "<Figure size 432x288 with 12 Axes>",
      "image/png": "[encoded data removed]"
     },
     "metadata": {
      "needs_background": "light"
     },
     "output_type": "display_data"
    }
   ],
   "source": [
    "numsnapshots = 12\n",
    "\n",
    "fig, axs = plt.subplots(nrows=1, ncols=numsnapshots, sharex='all', sharey='all')\n",
    "\n",
    "plottstep = ntsteps // numsnapshots\n",
    "\n",
    "\n",
    "for j in range(numsnapshots):\n",
    "    axs[j].plot(xvec, np.abs((Famat @ Fcnvrtmat)[plottstep * j])**2)\n",
    "\n",
    "plt.show()"
   ],
   "metadata": {
    "collapsed": false,
    "pycharm": {
     "name": "#%%\n"
    }
   }
  },
  {
   "cell_type": "code",
   "execution_count": 36,
   "outputs": [
    {
     "data": {
      "text/plain": "<Figure size 432x288 with 1 Axes>",
      "image/png": "[encoded data removed]"
     },
     "metadata": {
      "needs_background": "light"
     },
     "output_type": "display_data"
    },
    {
     "name": "stdout",
     "output_type": "stream",
     "text": [
      "Average Norm of Trajectory Fpsimatnormvec (should be close to 1):\n",
      "0.9999999999996388\n"
     ]
    }
   ],
   "source": [
    "# check if the wave function of each time step\n",
    "# is normalized to 1\n",
    "# this should produce a graph with a line that is almost\n",
    "# completely horizontal at 1\n",
    "Fpsimatnormvec = si.trapezoid(np.abs(Fpsimat) ** 2, xvec, axis=1)\n",
    "plt.plot(np.arange(ntsteps + 1) * dt, Fpsimatnormvec, label='1')\n",
    "plt.hlines(1 , 0, ntsteps * dt, linestyles='-.', colors='darkorange', label='_')\n",
    "plt.title('Normalization of the Wave Function\\nas a Function of Time\\n')\n",
    "plt.xlabel('Time')\n",
    "plt.ylabel('Norm')\n",
    "plt.legend()\n",
    "plt.show()\n",
    "\n",
    "# norm difference of wave function normalization check,\n",
    "# this should be close to 1\n",
    "print('Average Norm of Trajectory Fpsimatnormvec (should be close to 1):', Fpsimatnormvec.sum() / (ntsteps + 1), sep='\\n')"
   ],
   "metadata": {
    "collapsed": false,
    "pycharm": {
     "name": "#%%\n"
    }
   }
  },
  {
   "cell_type": "markdown",
   "source": [
    "---\n",
    "<h1>Inverse Problem - Adjoint Method</h1>"
   ],
   "metadata": {
    "collapsed": false,
    "pycharm": {
     "name": "#%% md\n"
    }
   }
  },
  {
   "cell_type": "code",
   "execution_count": 10,
   "outputs": [
    {
     "name": "stdout",
     "output_type": "stream",
     "text": [
      "[ 2.50000000e+01  4.73695157e-15  2.50000000e+01  3.55271368e-15\n",
      " -9.47390314e-15  2.13162821e-14 -5.92118946e-15  1.42108547e-14\n",
      " -1.06581410e-14  1.65793305e-14 -3.43428989e-14  2.13162821e-14]\n"
     ]
    },
    {
     "data": {
      "text/plain": "<Figure size 432x288 with 1 Axes>",
      "image/png": "[encoded data removed]"
     },
     "metadata": {
      "needs_background": "light"
     },
     "output_type": "display_data"
    },
    {
     "name": "stdout",
     "output_type": "stream",
     "text": [
      "L2 Error (should be close to zero):\n",
      "9.054280613274888e-13\n",
      "a-infinity Error (should be close to zero):\n",
      "1.5631940186722204e-13\n"
     ]
    }
   ],
   "source": [
    "# set up Chebyshev representation\n",
    "\n",
    "# set the number of Chebyshev coefficients\n",
    "nc = 11\n",
    "\n",
    "def theta(k):\n",
    "    return (k - 0.5) * np.pi / (nc + 1)\n",
    "\n",
    "def g(k):\n",
    "    return v(a * np.cos(theta(k)))\n",
    "\n",
    "kvec = np.arange(1, nc + 2)\n",
    "cnvec = np.arange(0, nc + 1)\n",
    "\n",
    "cweights = np.ones(nc + 1)\n",
    "cweights[0] = 0.5\n",
    "\n",
    "# compute Chebyshev coefficients\n",
    "cvec = 2 / (nc + 1) * np.sum(g(kvec) * np.cos(cnvec[..., np.newaxis] * theta(kvec)), axis=1)\n",
    "cvec = cweights * cvec\n",
    "print(cvec)\n",
    "\n",
    "ctoxmat = sps.eval_chebyt(np.expand_dims(cnvec, 0), np.expand_dims(xvec / a, 1))\n",
    "vrec = ctoxmat @ cvec\n",
    "\n",
    "# plot reconstruction vs truth\n",
    "plt.plot(xvec, vrec, label='cheb')\n",
    "plt.plot(xvec, vxvec, label='True')\n",
    "plt.title(f'Approx vs. True for n={nc}')\n",
    "plt.legend()\n",
    "plt.show()\n",
    "\n",
    "# vec L2 error\n",
    "print('L2 Error (should be close to zero):', nl.norm(v(xvec) - vrec), sep='\\n')\n",
    "# a-infinity error\n",
    "print('a-infinity Error (should be close to zero):', np.max(np.abs(v(xvec) - vrec)), sep='\\n')"
   ],
   "metadata": {
    "collapsed": false,
    "pycharm": {
     "name": "#%%\n"
    }
   }
  },
  {
   "cell_type": "code",
   "execution_count": 11,
   "outputs": [
    {
     "name": "stdout",
     "output_type": "stream",
     "text": [
      "Shape CtoFmat: (65, 65, 12)\n"
     ]
    }
   ],
   "source": [
    "# creates matrix that can be used to transform\n",
    "# the Chebyshev coefficients to the Fourier representation\n",
    "CtoFmat = []\n",
    "for thiscn in range(nc + 1):\n",
    "    temptoeprow = []\n",
    "    for thisn in range(2 * numF + 1):\n",
    "        def intgrnd(x):\n",
    "            return sps.eval_chebyt(thiscn, x / a) * np.exp(-1j * np.pi * thisn * x / a) / (2 * a)\n",
    "        def rintgrnd(x):\n",
    "            return intgrnd(x).real\n",
    "        def iintgrnd(x):\n",
    "            return intgrnd(x).imag\n",
    "        temptoeprow.append(si.quad(rintgrnd, -a, a)[0] + 1j * si.quad(iintgrnd, -a, a)[0])\n",
    "    CtoFmat.append(sl.toeplitz(r=temptoeprow, c=np.conj(temptoeprow)))\n",
    "\n",
    "CtoFmat = np.array(CtoFmat).T\n",
    "print('Shape CtoFmat:', CtoFmat.shape)"
   ],
   "metadata": {
    "collapsed": false,
    "pycharm": {
     "name": "#%%\n"
    }
   }
  },
  {
   "cell_type": "code",
   "execution_count": 12,
   "outputs": [
    {
     "name": "stderr",
     "output_type": "stream",
     "text": [
      "2022-03-31 20:06:01.397362: W external/org_tensorflow/tensorflow/stream_executor/platform/default/dso_loader.cc:64] Could not load dynamic library 'libcuda.so.1'; dlerror: libcuda.so.1: cannot open shared object file: No such file or directory; LD_LIBRARY_PATH: /usr/local/nvidia/lib:/usr/local/nvidia/lib64\n",
      "2022-03-31 20:06:01.397409: W external/org_tensorflow/tensorflow/stream_executor/cuda/cuda_driver.cc:269] failed call to cuInit: UNKNOWN ERROR (303)\n",
      "WARNING:absl:No GPU/TPU found, falling back to CPU. (Set TF_CPP_MIN_LOG_LEVEL=0 and rerun for more info.)\n"
     ]
    },
    {
     "name": "stdout",
     "output_type": "stream",
     "text": [
      "(201, 65)\n",
      "(65, 65, 12)\n"
     ]
    }
   ],
   "source": [
    "# convert python list to JAX object\n",
    "jaxFamat = jnp.stack(Famat)\n",
    "print(jaxFamat.shape)\n",
    "\n",
    "# convert the NumPy CtoFmat matrix to a JAX object\n",
    "jaxCtoFmat = jnp.array(CtoFmat)\n",
    "print(jaxCtoFmat.shape)"
   ],
   "metadata": {
    "collapsed": false,
    "pycharm": {
     "name": "#%%\n"
    }
   }
  },
  {
   "cell_type": "code",
   "execution_count": 13,
   "outputs": [],
   "source": [
    "def cobjfn(cffs):\n",
    "    vhatmat = jaxCtoFmat @ cffs\n",
    "    # print('L2 Error vmat (should be close to 0):', jnl.norm(vmat - cvmat), sep='\\n')\n",
    "\n",
    "    # construct the Hamiltonian matrix\n",
    "    hhatmat = kmat + vhatmat\n",
    "    # print('L2 Error hmat (should be close to 0):', jnl.norm(hmat - chmat), sep='\\n')\n",
    "\n",
    "    # eigendecomposition of the Hamiltonian matrix\n",
    "    spchat, sttshat = jnl.eigh(hhatmat)\n",
    "    # print('L2 Error spc (should be close to 0):', jnl.norm(spc - cspc), sep='\\n')\n",
    "    # print('L2 Error stts (should be close to 0):', jnl.norm(stts - cstts), sep='\\n')\n",
    "\n",
    "    # compute the propagator matrix using the\n",
    "    # result of the eigendecomposition\n",
    "    propahatmat = sttshat @ jnp.diag(jnp.exp(-1j * spchat * dt)) @ sttshat.conj().T\n",
    "    # print('L2 Error propamat (should be close to 0):', jnl.norm(propamat - cpropa), sep='\\n')\n",
    "\n",
    "    # propagate the system starting from the initial \"a\" state\n",
    "    ahatmat = [ainit.copy()]\n",
    "    for i in range(ntsteps):\n",
    "        ahatmat.append(propahatmat @ ahatmat[i])\n",
    "    # make python list a jax object\n",
    "    ahatmat = jnp.stack(ahatmat)\n",
    "\n",
    "    # compute the sum of objective functions in one line\n",
    "    residue = ahatmat - jaxFamat\n",
    "    objective = jnp.sum(0.5 * jnp.real(jnp.sum(jnp.conj(residue) * residue, axis=1)))\n",
    "\n",
    "    return objective"
   ],
   "metadata": {
    "collapsed": false,
    "pycharm": {
     "name": "#%%\n"
    }
   }
  },
  {
   "cell_type": "code",
   "execution_count": 14,
   "outputs": [
    {
     "name": "stdout",
     "output_type": "stream",
     "text": [
      "Objective for True Chebyshev Coefficients (should be close to 0):\n",
      "3.4875522371822186e-24\n"
     ]
    }
   ],
   "source": [
    "# check if the objective function gives zero when the\n",
    "# chebyshev coefficients of the true potential are fed in\n",
    "# this should produce a result which is very close to zero\n",
    "print('Objective for True Chebyshev Coefficients (should be close to 0):', cobjfn(cvec), sep='\\n')"
   ],
   "metadata": {
    "collapsed": false,
    "pycharm": {
     "name": "#%%\n"
    }
   }
  },
  {
   "cell_type": "code",
   "execution_count": 15,
   "outputs": [],
   "source": [
    "jitcobjfn = jax.jit(cobjfn)"
   ],
   "metadata": {
    "collapsed": false,
    "pycharm": {
     "name": "#%%\n"
    }
   }
  },
  {
   "cell_type": "code",
   "execution_count": 16,
   "outputs": [
    {
     "data": {
      "text/plain": "DeviceArray(3.48755224e-24, dtype=float64)"
     },
     "execution_count": 16,
     "metadata": {},
     "output_type": "execute_result"
    }
   ],
   "source": [
    "jitcobjfn(cvec)"
   ],
   "metadata": {
    "collapsed": false,
    "pycharm": {
     "name": "#%%\n"
    }
   }
  },
  {
   "cell_type": "code",
   "execution_count": 17,
   "outputs": [],
   "source": [
    "jaxgradcobjfn = jax.jit(jax.grad(cobjfn))"
   ],
   "metadata": {
    "collapsed": false,
    "pycharm": {
     "name": "#%%\n"
    }
   }
  },
  {
   "cell_type": "code",
   "execution_count": 18,
   "outputs": [
    {
     "name": "stdout",
     "output_type": "stream",
     "text": [
      "Shape jaxgradcobjfn(cvec): (12,)\n",
      "jaxgradcobjfn(cvec) (should be close to 0):\n",
      "[-2.57426533e-12  1.24697617e-12  1.80244603e-12 -3.22312797e-12\n",
      "  1.78714839e-13  3.85783991e-12 -2.48741352e-12 -2.91178557e-12\n",
      "  4.06290802e-12  8.92807262e-13 -4.19652243e-12  1.16553883e-12]\n"
     ]
    }
   ],
   "source": [
    "# check if the JAX grad of the objective function works\n",
    "# this should give all zeros (or close to that)\n",
    "print('Shape jaxgradcobjfn(cvec):', jaxgradcobjfn(cvec).shape)\n",
    "print('jaxgradcobjfn(cvec) (should be close to 0):', jaxgradcobjfn(cvec), sep='\\n')"
   ],
   "metadata": {
    "collapsed": false,
    "pycharm": {
     "name": "#%%\n"
    }
   }
  },
  {
   "cell_type": "markdown",
   "source": [
    "---\n",
    "**Adjoint Method for Calculating Grads of the Objective Function**"
   ],
   "metadata": {
    "collapsed": false,
    "pycharm": {
     "name": "#%% md\n"
    }
   }
  },
  {
   "cell_type": "code",
   "execution_count": 19,
   "outputs": [],
   "source": [
    "# this code is used to make a toeplitz matrix from the\n",
    "# Fourier representation\n",
    "# flattoepvec = jnp.concatenate([jnp.flipud(cvrow.conj()), cvrow[1:]])\n",
    "\n",
    "numtoepelms = 2 * numF + 1\n",
    "# aa = (-1) * np.arange(0, numtoepelms).reshape(numtoepelms, 1)\n",
    "# bb = [np.arange(numtoepelms - 1, 2 * numtoepelms -1)]\n",
    "# toepindxmat = jnp.array(aa + bb)\n",
    "# print(toepindxmat.shape)"
   ],
   "metadata": {
    "collapsed": false,
    "pycharm": {
     "name": "#%%\n"
    }
   }
  },
  {
   "cell_type": "code",
   "execution_count": 24,
   "outputs": [],
   "source": [
    "def adjhelper(cffs):\n",
    "    vhatmat = jaxCtoFmat @ cffs\n",
    "    # print('L2 Error vmat (should be close to 0):', jnl.norm(vmat - cvmat), sep='\\n')\n",
    "\n",
    "    # construct the Hamiltonian matrix\n",
    "    hhatmat = kmat + vhatmat\n",
    "    # print('L2 Error hmat (should be close to 0):', jnl.norm(hmat - chmat), sep='\\n')\n",
    "\n",
    "    # eigendecomposition of the Hamiltonian matrix\n",
    "    spchat, sttshat = jnl.eigh(hhatmat)\n",
    "    # print('L2 Error spc (should be close to 0):', jnl.norm(spc - cspc), sep='\\n')\n",
    "    # print('L2 Error stts (should be close to 0):', jnl.norm(stts - cstts), sep='\\n')\n",
    "\n",
    "    # compute the propagator matrix using the\n",
    "    # result of the eigendecomposition\n",
    "    propahatmat = sttshat @ jnp.diag(jnp.exp(-1j * spchat * dt)) @ sttshat.conj().T\n",
    "    # print('L2 Error propamat (should be close to 0):', jnl.norm(propamat - cpropa), sep='\\n')\n",
    "\n",
    "    # propagate the system starting from the initial \"a\" state\n",
    "    ahatmat = [ainit.copy()]\n",
    "    for i in range(ntsteps):\n",
    "        ahatmat.append(propahatmat @ ahatmat[i])\n",
    "    # make python list a jax object\n",
    "    ahatmat = jnp.stack(ahatmat)\n",
    "\n",
    "    # compute the propagator matrix using the\n",
    "    # result of the eigendecomposition\n",
    "    proplmat = sttshat @ jnp.diag(jnp.exp(1j * spchat * dt)) @ sttshat.conj().T\n",
    "    # print('L2 Error propamat (should be close to 0):', jnl.norm(propamat - cpropa), sep='\\n')\n",
    "\n",
    "    # propagate the \"lambda\" vector of coefficients backward\n",
    "    # in time, i.e., solve the adjoint problem\n",
    "    lmat = [ahatmat[ntsteps,:] - Famat[ntsteps,:]]\n",
    "    # itr = 0 # forward evaluation of lmat\n",
    "    for j in range(ntsteps - 1, 0 - 1, -1):\n",
    "        lmat.append(ahatmat[j,:] - Famat[j] + proplmat @ lmat[ntsteps - 1 - j] )\n",
    "        # templmat.append(thisahatmat[j,:] - Famatvec[i][j] + proplmat @ templmat[itr] )\n",
    "        # itr += 1\n",
    "    # make python list a jax object\n",
    "    lmat = jnp.flipud(jnp.stack(lmat))\n",
    "\n",
    "    offdiagmask = jnp.ones((numtoepelms, numtoepelms)) - jnp.eye(numtoepelms)\n",
    "    expspec = jnp.exp(-1j * dt * spchat)\n",
    "    e1, e2 = jnp.meshgrid(expspec, expspec)\n",
    "    s1, s2 = jnp.meshgrid(spchat, spchat)\n",
    "    denom = offdiagmask * (-1j * dt) * (s1 - s2) + jnp.eye(numtoepelms)\n",
    "    mask = offdiagmask * (e1 - e2)/denom + jnp.diag(expspec)\n",
    "\n",
    "    # myeye = jnp.eye(numtoepelms)\n",
    "    # ws = jnp.hstack([jnp.fliplr(myeye), myeye[:,1:]]).T\n",
    "    # ctrmats = ws[toepindxmat]\n",
    "    # print('Shape ctrmats:', ctrmats.shape)\n",
    "    # derivamats = jnp.einsum('ij,jkm,kl->ilm', sttshat.conj().T, ctrmats, sttshat) * jnp.expand_dims(mask, 2)\n",
    "    derivamats = jnp.einsum('ij,jkm,kl->ilm', sttshat.conj().T, jaxCtoFmat, sttshat) * jnp.expand_dims(mask, 2)\n",
    "    alldmatreal = -1j * dt * jnp.einsum('ij,jkm,kl->mil', sttshat, derivamats, sttshat.conj().T)\n",
    "\n",
    "    # ws = 1.0j * jnp.hstack([-jnp.fliplr(myeye), myeye[:, 1:]])\n",
    "    # ws = ws[1:, :]\n",
    "    # ws = ws.T\n",
    "    # ctrmats = ws[toepindxmat]\n",
    "    # derivamats = jnp.einsum('ij,jkm,kl->ilm', sttshat.conj().T, ctrmats, sttshat) * jnp.expand_dims(mask, 2)\n",
    "    # derivamats = jnp.einsum('ij,jkm,kl->ilm', sttshat.conj().T, ctrmats, sttshat) * jnp.expand_dims(mask, 2)\n",
    "    derivamats = jnp.einsum('ij,jkm,kl->ilm', sttshat.conj().T, jaxCtoFmat, sttshat) * jnp.expand_dims(mask, 2)\n",
    "    alldmatimag = -1j*dt*jnp.einsum('ij,jkm,kl->mil', sttshat, derivamats, sttshat.conj().T)\n",
    "\n",
    "    alldmat = jnp.vstack([alldmatreal, alldmatimag])\n",
    "    # alldmat = (jnp.einsum('ij,jkm,kl->ilm', sttshat.conj().T, CtoFmat, sttshat) * jnp.expand_dims(mask, 2)).T\n",
    "    # print('Shape alldmat', alldmat.shape)\n",
    "\n",
    "    return ahatmat, lmat, alldmat\n",
    "\n",
    "def cgradfn(cffs):\n",
    "    ahatmat, lmat, alldmat = adjhelper(cffs)\n",
    "    # compute all entries of the gradient at once\n",
    "    gradients = jnp.real(jnp.einsum('ij,ajk,ik->a', jnp.conj(lmat[1:, :]), alldmat, ahatmat[:-1, :]))[:12]\n",
    "    return gradients"
   ],
   "metadata": {
    "collapsed": false,
    "pycharm": {
     "name": "#%%\n"
    }
   }
  },
  {
   "cell_type": "code",
   "execution_count": 25,
   "outputs": [
    {
     "name": "stdout",
     "output_type": "stream",
     "text": [
      "Shape cgradfn(cvec): (12,)\n",
      "Gradients for True Chebyshev Coefficients (should be close to 0):\n",
      "[-2.57426533e-12  1.24697617e-12  1.80244603e-12 -3.22312797e-12\n",
      "  1.78714839e-13  3.85783991e-12 -2.48741352e-12 -2.91178557e-12\n",
      "  4.06290802e-12  8.92807262e-13 -4.19652243e-12  1.16553883e-12]\n"
     ]
    },
    {
     "data": {
      "text/plain": "<Figure size 432x288 with 1 Axes>",
      "image/png": "[encoded data removed]"
     },
     "metadata": {
      "needs_background": "light"
     },
     "output_type": "display_data"
    }
   ],
   "source": [
    "print('Shape cgradfn(cvec):', cgradfn(cvec).shape)\n",
    "\n",
    "print('Gradients for True Chebyshev Coefficients (should be close to 0):', cgradfn(cvec), sep='\\n')\n",
    "\n",
    "plt.plot(cgradfn(cvec), '.-')\n",
    "plt.title('Gradients for True Chebyshev Coefficients\\n(should be close to 0):')\n",
    "plt.show()"
   ],
   "metadata": {
    "collapsed": false,
    "pycharm": {
     "name": "#%%\n"
    }
   }
  },
  {
   "cell_type": "code",
   "execution_count": 26,
   "outputs": [],
   "source": [
    "jitcgradfn = jax.jit(cgradfn)"
   ],
   "metadata": {
    "collapsed": false,
    "pycharm": {
     "name": "#%%\n"
    }
   }
  },
  {
   "cell_type": "code",
   "execution_count": 27,
   "outputs": [
    {
     "name": "stdout",
     "output_type": "stream",
     "text": [
      "jitcgradfn(cvec):\n",
      "[-2.57426533e-12  1.24697617e-12  1.80244603e-12 -3.22312797e-12\n",
      "  1.78714839e-13  3.85783991e-12 -2.48741352e-12 -2.91178557e-12\n",
      "  4.06290802e-12  8.92807262e-13 -4.19652243e-12  1.16553883e-12]\n",
      "jaxgradcobjfn(cvec):\n",
      "[-2.57426533e-12  1.24697617e-12  1.80244603e-12 -3.22312797e-12\n",
      "  1.78714839e-13  3.85783991e-12 -2.48741352e-12 -2.91178557e-12\n",
      "  4.06290802e-12  8.92807262e-13 -4.19652243e-12  1.16553883e-12]\n"
     ]
    }
   ],
   "source": [
    "print('jitcgradfn(cvec):', jitcgradfn(cvec), sep='\\n')\n",
    "print('jaxgradcobjfn(cvec):', jaxgradcobjfn(cvec), sep='\\n')"
   ],
   "metadata": {
    "collapsed": false,
    "pycharm": {
     "name": "#%%\n"
    }
   }
  },
  {
   "cell_type": "code",
   "execution_count": 38,
   "outputs": [
    {
     "name": "stdout",
     "output_type": "stream",
     "text": [
      "adj time = 0.007110595703125\n",
      "jax time = 0.007654905319213867\n",
      "error = 1.846867250488349e-12\n",
      "adj time = 0.0067670345306396484\n",
      "jax time = 0.006547212600708008\n",
      "error = 1.2859982843948135e-12\n",
      "adj time = 0.006680965423583984\n",
      "jax time = 0.006475210189819336\n",
      "error = 8.769271398882329e-13\n",
      "adj time = 0.00664067268371582\n",
      "jax time = 0.0064165592193603516\n",
      "error = 5.574117166986308e-13\n",
      "adj time = 0.00667119026184082\n",
      "jax time = 0.0074312686920166016\n",
      "error = 1.2566420193861384e-12\n",
      "adj time = 0.006735086441040039\n",
      "jax time = 0.00648188591003418\n",
      "error = 4.507706804348308e-13\n",
      "adj time = 0.006781339645385742\n",
      "jax time = 0.007344722747802734\n",
      "error = 1.1792681326685233e-12\n",
      "adj time = 0.0066967010498046875\n",
      "jax time = 0.007889032363891602\n",
      "error = 6.208863112182176e-13\n",
      "adj time = 0.008840322494506836\n",
      "jax time = 0.010105133056640625\n",
      "error = 8.536642552738038e-13\n",
      "adj time = 0.009039878845214844\n",
      "jax time = 0.0065860748291015625\n",
      "error = 4.560028858076131e-13\n",
      "adj time = 0.006680488586425781\n",
      "jax time = 0.0064449310302734375\n",
      "error = 4.293262419757531e-13\n",
      "adj time = 0.006613492965698242\n",
      "jax time = 0.007530689239501953\n",
      "error = 8.074003968091662e-12\n",
      "adj time = 0.00673675537109375\n",
      "jax time = 0.006667375564575195\n",
      "error = 4.328235289760665e-12\n",
      "adj time = 0.006551504135131836\n",
      "jax time = 0.007603883743286133\n",
      "error = 1.4298891110200933e-12\n",
      "adj time = 0.006680011749267578\n",
      "jax time = 0.0075664520263671875\n",
      "error = 1.3165791715758412e-12\n",
      "adj time = 0.0067806243896484375\n",
      "jax time = 0.007756233215332031\n",
      "error = 1.9132834914973536e-12\n",
      "adj time = 0.0071828365325927734\n",
      "jax time = 0.007680416107177734\n",
      "error = 4.196219031662317e-12\n",
      "adj time = 0.007215976715087891\n",
      "jax time = 0.007593393325805664\n",
      "error = 8.299511735698327e-13\n",
      "adj time = 0.0067899227142333984\n",
      "jax time = 0.007531881332397461\n",
      "error = 7.382362824930476e-13\n",
      "adj time = 0.0067059993743896484\n",
      "jax time = 0.007938861846923828\n",
      "error = 1.1365135281161822e-12\n",
      "adj time = 0.0068264007568359375\n",
      "jax time = 0.007479667663574219\n",
      "error = 4.047452545299573e-12\n",
      "adj time = 0.015128850936889648\n",
      "jax time = 0.007761716842651367\n",
      "error = 2.1893223277473414e-12\n",
      "adj time = 0.006898641586303711\n",
      "jax time = 0.007466554641723633\n",
      "error = 1.559453450542866e-11\n",
      "adj time = 0.006717681884765625\n",
      "jax time = 0.006458282470703125\n",
      "error = 4.665433536787481e-12\n",
      "adj time = 0.0066754817962646484\n",
      "jax time = 0.007543802261352539\n",
      "error = 2.4581762539007663e-12\n",
      "adj time = 0.006744384765625\n",
      "jax time = 0.00652313232421875\n",
      "error = 2.2982716287494496e-12\n",
      "adj time = 0.006656646728515625\n",
      "jax time = 0.007439851760864258\n",
      "error = 9.806086066193462e-13\n",
      "adj time = 0.006886959075927734\n",
      "jax time = 0.01302337646484375\n",
      "error = 8.857446210095141e-13\n",
      "adj time = 0.011799097061157227\n",
      "jax time = 0.013064384460449219\n",
      "error = 7.239082994684061e-12\n",
      "adj time = 0.011684894561767578\n",
      "jax time = 0.011949539184570312\n",
      "error = 7.798566348711466e-13\n",
      "adj time = 0.011688232421875\n",
      "jax time = 0.012937545776367188\n",
      "error = 2.3982133147809833e-12\n",
      "adj time = 0.011765003204345703\n",
      "jax time = 0.01299142837524414\n",
      "error = 1.0359418410446935e-12\n",
      "adj time = 0.011769533157348633\n",
      "jax time = 0.011967182159423828\n",
      "error = 2.1095286231339914e-12\n",
      "adj time = 0.011525154113769531\n",
      "jax time = 0.007565736770629883\n",
      "error = 1.937518311562971e-12\n",
      "adj time = 0.0067021846771240234\n",
      "jax time = 0.006608247756958008\n",
      "error = 1.3923213042457862e-12\n",
      "adj time = 0.0066335201263427734\n",
      "jax time = 0.0064165592193603516\n",
      "error = 5.189076143340636e-12\n",
      "adj time = 0.006694793701171875\n",
      "jax time = 0.007532596588134766\n",
      "error = 9.319578111107758e-13\n",
      "adj time = 0.006788015365600586\n",
      "jax time = 0.007575511932373047\n",
      "error = 1.655131499777344e-12\n",
      "adj time = 0.006796121597290039\n",
      "jax time = 0.007630348205566406\n",
      "error = 3.7286541243124544e-13\n",
      "adj time = 0.006819248199462891\n",
      "jax time = 0.00646519660949707\n",
      "error = 8.212685308188584e-13\n",
      "adj time = 0.0067441463470458984\n",
      "jax time = 0.0074002742767333984\n",
      "error = 2.9149871291505434e-12\n",
      "adj time = 0.006711483001708984\n",
      "jax time = 0.007598400115966797\n",
      "error = 2.5292794694812923e-11\n",
      "adj time = 0.006689548492431641\n",
      "jax time = 0.0075495243072509766\n",
      "error = 2.1531265215282694e-12\n",
      "adj time = 0.0067293643951416016\n",
      "jax time = 0.007516384124755859\n",
      "error = 1.3594721354958636e-12\n",
      "adj time = 0.006678104400634766\n",
      "jax time = 0.007626056671142578\n",
      "error = 2.1790950856344127e-12\n",
      "adj time = 0.006997585296630859\n",
      "jax time = 0.012926340103149414\n",
      "error = 9.684476548106288e-12\n",
      "adj time = 0.011679649353027344\n",
      "jax time = 0.011915445327758789\n",
      "error = 9.060383449472778e-13\n",
      "adj time = 0.011815071105957031\n",
      "jax time = 0.013028144836425781\n",
      "error = 1.0076525300575401e-11\n",
      "adj time = 0.011867284774780273\n",
      "jax time = 0.013083934783935547\n",
      "error = 8.476047063325586e-13\n",
      "adj time = 0.011824607849121094\n",
      "jax time = 0.00751805305480957\n",
      "error = 3.080876897596394e-12\n",
      "adj time = 0.006857395172119141\n",
      "jax time = 0.007525444030761719\n",
      "error = 1.8115470279698116e-12\n",
      "adj time = 0.006737947463989258\n",
      "jax time = 0.007422924041748047\n",
      "error = 4.469711946349736e-12\n",
      "adj time = 0.006911277770996094\n",
      "jax time = 0.007428407669067383\n",
      "error = 1.6501041817377968e-12\n",
      "adj time = 0.008292436599731445\n",
      "jax time = 0.010646581649780273\n",
      "error = 6.4399858964680405e-12\n",
      "adj time = 0.010124921798706055\n",
      "jax time = 0.011388063430786133\n",
      "error = 1.9481615684276734e-12\n",
      "adj time = 0.009850025177001953\n",
      "jax time = 0.009757280349731445\n",
      "error = 2.965151850940268e-12\n",
      "adj time = 0.00966644287109375\n",
      "jax time = 0.009676218032836914\n",
      "error = 3.5494774185037066e-13\n",
      "adj time = 0.00954437255859375\n",
      "jax time = 0.01111459732055664\n",
      "error = 1.1645525068455956e-12\n",
      "adj time = 0.011858224868774414\n",
      "jax time = 0.012887954711914062\n",
      "error = 3.852266968784124e-12\n",
      "adj time = 0.01186680793762207\n",
      "jax time = 0.013083219528198242\n",
      "error = 5.504900510598439e-12\n",
      "adj time = 0.011968851089477539\n",
      "jax time = 0.013040304183959961\n",
      "error = 1.5472572121127949e-12\n",
      "adj time = 0.012149810791015625\n",
      "jax time = 0.01291513442993164\n",
      "error = 8.538340616953753e-13\n",
      "adj time = 0.01177072525024414\n",
      "jax time = 0.007413625717163086\n",
      "error = 2.5301598684568314e-12\n",
      "adj time = 0.0069429874420166016\n",
      "jax time = 0.007580280303955078\n",
      "error = 7.128572786723999e-13\n",
      "adj time = 0.007207155227661133\n",
      "jax time = 0.013030290603637695\n",
      "error = 1.1219962004479293e-12\n",
      "adj time = 0.011958122253417969\n",
      "jax time = 0.011971235275268555\n",
      "error = 1.2714539573360587e-12\n",
      "adj time = 0.011944770812988281\n",
      "jax time = 0.012907743453979492\n",
      "error = 6.907320433872222e-12\n",
      "adj time = 0.011956453323364258\n",
      "jax time = 0.012956380844116211\n",
      "error = 1.3008508632581368e-12\n",
      "adj time = 0.011981487274169922\n",
      "jax time = 0.01293325424194336\n",
      "error = 3.713472520100991e-12\n",
      "adj time = 0.013384103775024414\n",
      "jax time = 0.01305079460144043\n",
      "error = 2.19108691433612e-12\n",
      "adj time = 0.011891841888427734\n",
      "jax time = 0.011915922164916992\n",
      "error = 1.872816046197889e-12\n",
      "adj time = 0.011562347412109375\n",
      "jax time = 0.01275014877319336\n",
      "error = 2.2647819339470948e-11\n",
      "adj time = 0.011650562286376953\n",
      "jax time = 0.012857913970947266\n",
      "error = 5.587125569096858e-13\n",
      "adj time = 0.011536121368408203\n",
      "jax time = 0.007664918899536133\n",
      "error = 3.522995026682466e-12\n",
      "adj time = 0.0070972442626953125\n",
      "jax time = 0.012802362442016602\n",
      "error = 1.3590141425722699e-11\n",
      "adj time = 0.011771440505981445\n",
      "jax time = 0.01293325424194336\n",
      "error = 5.7095542517607824e-12\n",
      "adj time = 0.011751651763916016\n",
      "jax time = 0.012858867645263672\n",
      "error = 4.0524161567758965e-13\n",
      "adj time = 0.011872529983520508\n",
      "jax time = 0.011925697326660156\n",
      "error = 1.5823684204134155e-12\n",
      "adj time = 0.01175546646118164\n",
      "jax time = 0.011820554733276367\n",
      "error = 1.62009184860782e-12\n",
      "adj time = 0.01171255111694336\n",
      "jax time = 0.011697769165039062\n",
      "error = 4.740915972400057e-13\n",
      "adj time = 0.011717557907104492\n",
      "jax time = 0.012778997421264648\n",
      "error = 9.43605588133967e-13\n",
      "adj time = 0.011777400970458984\n",
      "jax time = 0.01285696029663086\n",
      "error = 1.0907253570289447e-12\n",
      "adj time = 0.011662721633911133\n",
      "jax time = 0.012872695922851562\n",
      "error = 8.311131385544236e-13\n",
      "adj time = 0.011905431747436523\n",
      "jax time = 0.012732505798339844\n",
      "error = 1.2067661951448318e-12\n",
      "adj time = 0.011635065078735352\n",
      "jax time = 0.012959718704223633\n",
      "error = 1.6468124927884754e-12\n",
      "adj time = 0.011744499206542969\n",
      "jax time = 0.012935638427734375\n",
      "error = 1.0215595538367019e-12\n",
      "adj time = 0.0118255615234375\n",
      "jax time = 0.012866735458374023\n",
      "error = 6.565356684095076e-12\n",
      "adj time = 0.01171112060546875\n",
      "jax time = 0.012861490249633789\n",
      "error = 7.633676689765908e-12\n",
      "adj time = 0.011639833450317383\n",
      "jax time = 0.012911319732666016\n",
      "error = 7.920164483340326e-13\n",
      "adj time = 0.011618614196777344\n",
      "jax time = 0.007571220397949219\n",
      "error = 1.6945920295101028e-12\n",
      "adj time = 0.006708860397338867\n",
      "jax time = 0.00758814811706543\n",
      "error = 7.968511049247178e-12\n",
      "adj time = 0.006792306900024414\n",
      "jax time = 0.0074462890625\n",
      "error = 1.5822492702635838e-12\n",
      "adj time = 0.006738185882568359\n",
      "jax time = 0.007871150970458984\n",
      "error = 1.7100662913613056e-12\n",
      "adj time = 0.006863594055175781\n",
      "jax time = 0.01283574104309082\n",
      "error = 1.1318562590293711e-12\n",
      "adj time = 0.011633157730102539\n",
      "jax time = 0.012782573699951172\n",
      "error = 2.0722005864763388e-13\n",
      "adj time = 0.011748313903808594\n",
      "jax time = 0.013121843338012695\n",
      "error = 3.3343549345111184e-12\n",
      "adj time = 0.011702299118041992\n",
      "jax time = 0.012913227081298828\n",
      "error = 2.050139668485121e-12\n",
      "adj time = 0.011946916580200195\n",
      "jax time = 0.012950420379638672\n",
      "error = 1.0740162401653304e-12\n",
      "adj time = 0.011878013610839844\n",
      "jax time = 0.01063990592956543\n",
      "error = 3.608513524861424e-12\n",
      "adj time = 0.011897563934326172\n",
      "jax time = 0.012143135070800781\n",
      "error = 4.417024672326259e-12\n",
      "Mean error: 3.0605960756258137e-12\n"
     ]
    }
   ],
   "source": [
    "sumerror = 0\n",
    "for i in range(100):\n",
    "    randcvec = np.random.default_rng().normal(size=nc + 1) * 10\n",
    "    t1 = time.time()\n",
    "    mygrad = jitcgradfn(randcvec)\n",
    "    t2 = time.time()\n",
    "    jgrad = jaxgradcobjfn(randcvec)\n",
    "    t3 = time.time()\n",
    "    print( \"adj time = \" + str(t2-t1) )\n",
    "    print( \"jax time = \" + str(t3-t2) )\n",
    "    temperror = np.linalg.norm(mygrad - jgrad)\n",
    "    sumerror += temperror\n",
    "    print( \"error = \" + str(temperror) )\n",
    "\n",
    "print('Mean error:', sumerror/100)"
   ],
   "metadata": {
    "collapsed": false,
    "pycharm": {
     "name": "#%%\n"
    }
   }
  },
  {
   "cell_type": "markdown",
   "source": [
    "---"
   ],
   "metadata": {
    "collapsed": false
   }
  },
  {
   "cell_type": "code",
   "execution_count": 39,
   "outputs": [],
   "source": [
    "seed = 1234  # set to None for random initialization\n",
    "# cffform = np.random.default_rng(seed).uniform(low=-0.5, high=0.5, size=cvec.shape)\n",
    "cffform = np.random.default_rng(seed).uniform(low=-5.0, high=5.0, size=cvec.shape)"
   ],
   "metadata": {
    "collapsed": false,
    "pycharm": {
     "name": "#%%\n"
    }
   }
  },
  {
   "cell_type": "code",
   "execution_count": 40,
   "outputs": [
    {
     "name": "stdout",
     "output_type": "stream",
     "text": [
      "Warning: Desired error not necessarily achieved due to precision loss.\n",
      "         Current function value: 0.000000\n",
      "         Iterations: 162\n",
      "         Function evaluations: 242\n",
      "         Gradient evaluations: 229\n"
     ]
    }
   ],
   "source": [
    "resform = spo.minimize(jitcobjfn, cffform, jac=jitcgradfn, tol=1e-15, options={'maxiter': 200, 'disp': True, 'gtol': 1e-14}).x"
   ],
   "metadata": {
    "collapsed": false,
    "pycharm": {
     "name": "#%%\n"
    }
   }
  },
  {
   "cell_type": "code",
   "execution_count": 41,
   "outputs": [
    {
     "data": {
      "text/plain": "<Figure size 432x288 with 1 Axes>",
      "image/png": "[encoded data removed]"
     },
     "metadata": {
      "needs_background": "light"
     },
     "output_type": "display_data"
    }
   ],
   "source": [
    "# print('Chebyshev Coefficients of the True Potential:', cvec, sep='\\n')\n",
    "# print('', 'Chebyshev Coefficients of the Learned Potential:', resform, sep='\\n')\n",
    "\n",
    "# print('Objective of the Learned Coefficients:', cobjfn(resform), sep='\\n')\n",
    "# print('Vec L2 Norm of Gradient of the Learned Coefficients:', nl.norm(jaxgradcobjfn(resform)), sep='\\n')\n",
    "\n",
    "# print('Continuous L2 Error of Potential using Quadrature Method:', np.sqrt(si.quad(sqrerrorfn, -L, L, args=(resform)))[0], sep='\\n')\n",
    "\n",
    "# print('', 'Gradient of the Learned Coefficients:', gradcobjfn(resform), sep='\\n')\n",
    "\n",
    "# print('', 'L2 Error of the Initialized Chebyshev Coefficients:', nl.norm(cvec - cffform), sep='\\n')\n",
    "# print('', 'L2 Error of the Learned Chebyshev Coefficients:', nl.norm(cvec - resform), sep='\\n')\n",
    "# print('', 'L-infinity Error of the Initialized Chebyshev Coefficients:', np.max(np.abs(cvec - cffform)), sep='\\n')\n",
    "# print('', 'L-infinity Error of the Learned Chebyshev Coefficients:', np.max(np.abs(cvec - resform)), sep='\\n')\n",
    "\n",
    "# plot learned vs true\n",
    "plt.plot(xvec, vxvec, label='Truth')\n",
    "plt.plot(xvec, ctoxmat @ cffform, label='Initial')\n",
    "plt.plot(xvec, ctoxmat @ resform, label='Learned')\n",
    "# plt.xlim((-5, 5))\n",
    "# plt.ylim((0, 10))\n",
    "plt.title('Learned Potential vs. Truth')\n",
    "plt.legend()\n",
    "plt.show()"
   ],
   "metadata": {
    "collapsed": false,
    "pycharm": {
     "name": "#%%\n"
    }
   }
  },
  {
   "cell_type": "markdown",
   "source": [
    "---\n",
    "<h3>Chebyshev Representation</h3>"
   ],
   "metadata": {
    "collapsed": false
   }
  },
  {
   "cell_type": "markdown",
   "source": [
    "---\n",
    "**Form the Potential Matrix from the Chebyshev Representation**"
   ],
   "metadata": {
    "collapsed": false
   }
  },
  {
   "cell_type": "code",
   "execution_count": null,
   "outputs": [],
   "source": [
    "# check how much the Fourier representation coefficients\n",
    "# constructed from the Chebyshev representation differ from\n",
    "# the true Fourier coefficients\n",
    "# (i.e., compare the potential in the Fourier representation\n",
    "# to the potential reconstructed from the Chebyshev representation)\n",
    "# print('L2 Norm Error (should be close to 0):', nl.norm(Fvtoep - CtoFmat @ cvec))  # 2.319575846403117e-13\n",
    "print(sl.toeplitz(r=Fvtoep, c=np.conj(Fvtoep)).shape)\n",
    "print((CtoFmat @ cvec).shape)\n",
    "print('L2 Norm Error (should be close to 0):', nl.norm(sl.toeplitz(r=Fvtoep, c=np.conj(Fvtoep)) - CtoFmat @ cvec))  # 1.2698568848776662e-12\n",
    "# print('a-infinity Error (should be close to 0):', np.max(np.abs(Fvtoep - CtoFmat @ cvec)))  # 1.4527419384605627e-13\n",
    "print('a-infinity Error (should be close to 0):', np.max(np.abs(sl.toeplitz(r=Fvtoep, c=np.conj(Fvtoep)) - CtoFmat @ cvec)))  # 1.452737601671089e-13"
   ],
   "metadata": {
    "collapsed": false,
    "pycharm": {
     "name": "#%%\n"
    }
   }
  },
  {
   "cell_type": "markdown",
   "source": [
    "---\n",
    "**Eigendecomposition of a Chebyshev Represented Potential**"
   ],
   "metadata": {
    "collapsed": false
   }
  },
  {
   "cell_type": "code",
   "execution_count": null,
   "outputs": [],
   "source": [
    "# to test our Chebyshev representation let's compare\n",
    "# the Hamiltonian matrix and its eigendecomposition\n",
    "# constructed from the potential matrix reconstructed\n",
    "# from the Chebyshev coefficients of the potential\n",
    "# to the same features constructed directly in the\n",
    "# Fourier representation\n",
    "\n",
    "# make the potential matrix from the Chebyshev coefficents\n",
    "# cvmat = sl.toeplitz(r=CtoFmat @ cvec, c=np.conj(CtoFmat @ cvec))\n",
    "cvmat = CtoFmat @ cvec\n",
    "\n",
    "# construct the Hamiltonian matrix representation of the\n",
    "# Hamiltonian operator in the Fourier basis\n",
    "chmat = kmat + cvmat\n",
    "\n",
    "# check if the Hamiltonian matrix is Hermitian\n",
    "print('hmat Hermitian check (should be close to zero):', nl.norm(chmat - chmat.T.conj()), sep='\\n')\n",
    "\n",
    "# eigendecomposition of the Hamiltonian matrix\n",
    "cspc, cstts = nl.eigh(chmat)\n",
    "\n",
    "# check if the eigendecomposition diagonalizes the\n",
    "# Hamiltonian matrix\n",
    "# if this is close to zero then\n",
    "# hmat = states @ np.diag(spec) @ np.conj(states).T\n",
    "print('Check if hmat is diagonalized (should be close to zero):', nl.norm(chmat @ cstts - cstts @ np.diag(cspc)), sep='\\n')\n",
    "\n",
    "# check if the eigenstates are unitary\n",
    "print('Unitary stts check (should be close to zero):', nl.norm(cstts @ cstts.T.conj() - np.eye(2 * numF + 1)), sep='\\n')\n",
    "\n",
    "# results for the original way\n",
    "# hmat Hermitian check (should be close to zero):\n",
    "# 0.0\n",
    "# Check if hmat is diagonalized (should be close to zero):\n",
    "# 3.264297626570781e-13\n",
    "# Unitary stts check (should be close to zero):\n",
    "# 1.1878611598105484e-14"
   ],
   "metadata": {
    "collapsed": false,
    "pycharm": {
     "name": "#%%\n"
    }
   }
  },
  {
   "cell_type": "code",
   "execution_count": null,
   "outputs": [],
   "source": [
    "print('L2 Error of the Hamiltonian matrix (should be close to 0):', nl.norm(cvmat - Fvmat), sep='\\n')\n",
    "print('L2 Error of spectrum (should be close to 0):', nl.norm(cspc - Fspc), sep='\\n')\n",
    "print('L2 Error of states (should be close to 0):', nl.norm(cstts - Fstts), sep='\\n')\n",
    "\n",
    "# results for the original way\n",
    "# L2 Error of the Hamiltonian matrix (should be close to 0):\n",
    "# 1.44838302671362e-12\n",
    "# L2 Error of spectrum (should be close to 0):\n",
    "# 5.43553446497394e-13\n",
    "# L2 Error of states (should be close to 0):\n",
    "# 7.48331477354788"
   ],
   "metadata": {
    "collapsed": false,
    "pycharm": {
     "name": "#%%\n"
    }
   }
  },
  {
   "cell_type": "markdown",
   "source": [
    "---\n",
    "**Forward Propagation of ainit using the Potential in the Cheybshev Representation**"
   ],
   "metadata": {
    "collapsed": false
   }
  },
  {
   "cell_type": "code",
   "execution_count": null,
   "outputs": [],
   "source": [
    "# propagate the system using the Chebyshev\n",
    "# representation of the true potential and compare\n",
    "# if chebyshev propagation agrees with Fourier\n",
    "# propagation\n",
    "\n",
    "# compute the propagator matrix reusing the\n",
    "# spectrum and states from the eigendecomposition\n",
    "# of Hamiltonian matrix computed above\n",
    "# cspc, cstts\n",
    "cpropa = cstts @ np.diag(np.exp(-1j * cspc * dt)) @ cstts.conj().T\n",
    "\n",
    "# propagate the system starting from the initial \"a\" state\n",
    "camat = np.zeros((ntsteps + 1, 2 * numF + 1), dtype=np.complex128)\n",
    "camat[0] = ainit.copy()\n",
    "for i in range(ntsteps):\n",
    "    camat[i + 1] = cpropa @ camat[i]\n",
    "\n",
    "# compute the wave function in space from each \"a\" vector\n",
    "# do it all at once using matrix multiplication!\n",
    "cpsimat = camat @ Fcnvrtmat\n",
    "\n",
    "print('Done propagating.')"
   ],
   "metadata": {
    "collapsed": false,
    "pycharm": {
     "name": "#%%\n"
    }
   }
  },
  {
   "cell_type": "code",
   "execution_count": null,
   "outputs": [],
   "source": [
    "fig, axs = plt.subplots(nrows=1, ncols=numsnapshots, sharex='all', sharey='all')\n",
    "\n",
    "plottstep = ntsteps // numsnapshots\n",
    "\n",
    "for j in range(numsnapshots):\n",
    "    axs[1, j].plot(xvec, np.abs((camat @ Fcnvrtmat)[plottstep * j])**2)\n",
    "\n",
    "plt.show()"
   ],
   "metadata": {
    "collapsed": false,
    "pycharm": {
     "name": "#%%\n"
    }
   }
  },
  {
   "cell_type": "code",
   "execution_count": null,
   "outputs": [],
   "source": [
    "# check if the wave function of each time step\n",
    "# is normalized to 1\n",
    "# this should produce a graph with a line that is almost\n",
    "# completely horizontal at 1\n",
    "cpsimatnorm = si.trapezoid(np.abs(cpsimat) ** 2, xvec, axis=1)\n",
    "plt.plot(np.arange(ntsteps + 1) * dt, cpsimatnorm, label='1')\n",
    "plt.hlines(1 , 0, ntsteps * dt, linestyles='-.', colors='darkorange', label='_')\n",
    "plt.title('Normalization of the Wave Function\\nas a Function of Time\\n')\n",
    "plt.xlabel('Time')\n",
    "plt.ylabel('Norm')\n",
    "plt.legend()\n",
    "plt.show()\n",
    "\n",
    "# norm difference of wave function normalization check,\n",
    "# this should be close to 1\n",
    "print('Average Norm of Trajectory 1 (should be close to 1):', cpsimatnorm.sum() / (ntsteps + 1), sep='\\n')"
   ],
   "metadata": {
    "collapsed": false,
    "pycharm": {
     "name": "#%%\n"
    }
   }
  }
 ],
 "metadata": {
  "kernelspec": {
   "display_name": "Python 3 (ipykernel)",
   "language": "python",
   "name": "python3"
  },
  "language_info": {
   "codemirror_mode": {
    "name": "ipython",
    "version": 3
   },
   "file_extension": ".py",
   "mimetype": "text/x-python",
   "name": "python",
   "nbconvert_exporter": "python",
   "pygments_lexer": "ipython3",
   "version": "3.9.9"
  }
 },
 "nbformat": 4,
 "nbformat_minor": 5
}