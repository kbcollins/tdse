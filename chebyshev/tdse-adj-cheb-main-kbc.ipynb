{
 "cells": [
  {
   "cell_type": "code",
   "execution_count": 1,
   "id": "b56b4e7b-b7e8-4446-a869-dc16fcad25e4",
   "metadata": {},
   "outputs": [],
   "source": [
    "import numpy as np\n",
    "import numpy.linalg as nl\n",
    "import scipy.linalg as sl\n",
    "import scipy.special as sps\n",
    "import scipy.integrate as si\n",
    "import scipy.optimize as spo\n",
    "import matplotlib.pyplot as plt\n",
    "from jax.config import config\n",
    "config.update(\"jax_enable_x64\", True)\n",
    "import jax\n",
    "import jax.numpy as jnp\n",
    "import jax.numpy.linalg as jnpl"
   ]
  },
  {
   "cell_type": "markdown",
   "id": "ad17bee5-e941-4ef1-9314-9ea62ce43504",
   "metadata": {},
   "source": [
    "<h3>TDSE Forward Problem</h3>"
   ]
  },
  {
   "cell_type": "code",
   "execution_count": 2,
   "id": "c7d9113b-b601-4c1d-85e2-ec227a142132",
   "metadata": {},
   "outputs": [],
   "source": [
    "# size of spatial domain\n",
    "L = 10.0\n",
    "\n",
    "# set number of real space grid points for plotting\n",
    "nx = 1025\n",
    "# spatial grid for the purposes of plotting\n",
    "xvec = np.linspace(-L, L, nx)\n",
    "\n",
    "# the basis functions used in our Fourier representation\n",
    "# will be from n = -nF to n = nF\n",
    "nF = 32\n",
    "# matrix for converting Fourier basis coefficients to real space values\n",
    "Fnvec = np.arange(-nF, nF + 1) # Fnvec=-nfb,...,0,...,nfb\n",
    "Fcnvrtmat = np.exp(1j * np.pi * np.outer(Fnvec, xvec) / L) / np.sqrt(2 * L)"
   ]
  },
  {
   "cell_type": "markdown",
   "source": [
    "---\n",
    "**Potential Function**"
   ],
   "metadata": {
    "collapsed": false,
    "pycharm": {
     "name": "#%% md\n"
    }
   }
  },
  {
   "cell_type": "code",
   "execution_count": 3,
   "outputs": [
    {
     "data": {
      "text/plain": "<Figure size 432x288 with 1 Axes>",
      "image/png": "[encoded data removed]"
     },
     "metadata": {
      "needs_background": "light"
     },
     "output_type": "display_data"
    }
   ],
   "source": [
    "# define potential for generating training data\n",
    "\n",
    "def v(x):\n",
    "    # dimensionless quantum harmonic oscillator potential\n",
    "    return 0.5 * x**2\n",
    "    # rescaled symmetric double well potential\n",
    "    # return 0.0025*(x**2 - 25)**2\n",
    "    # scaled asymmetric double well potential\n",
    "    # return 0.0003*((x-3)**4 + 10*(x-5)**3)\n",
    "    # soft coulomb potential\n",
    "    # return -1 / np.sqrt(x**2 + 0.25)\n",
    "\n",
    "# compute true potential for plotting\n",
    "vxvec = v(xvec)\n",
    "\n",
    "# plot true potential\n",
    "plt.plot(xvec, vxvec)\n",
    "plt.title('Plot of V(x)')\n",
    "plt.xlabel('x')\n",
    "plt.show()"
   ],
   "metadata": {
    "collapsed": false,
    "pycharm": {
     "name": "#%%\n"
    }
   }
  },
  {
   "cell_type": "code",
   "execution_count": 4,
   "outputs": [
    {
     "name": "stdout",
     "output_type": "stream",
     "text": [
      "(65, 65)\n"
     ]
    }
   ],
   "source": [
    "# transform potential function to Fourier representation\n",
    "# using quadrature method\n",
    "# (in tdse-adj-cheb-fft-vs-quad-kbc.ipynb we show that the\n",
    "# using a quadrature method produces much more accurate results)\n",
    "Fvtoeprow = []\n",
    "for thisn in range(2 * nF +1):\n",
    "    def intgrnd(x):\n",
    "        return v(x) * np.exp(-1j * np.pi * thisn * x / L) / (2 * L)\n",
    "    def rintgrnd(x):\n",
    "        return intgrnd(x).real\n",
    "    def iintgrnd(x):\n",
    "        return intgrnd(x).imag\n",
    "    Fvtoeprow.append(si.quad(rintgrnd, -L, L)[0] + 1j * si.quad(iintgrnd, -L, L)[0])\n",
    "Fvtoeprow = np.array(Fvtoeprow)\n",
    "Fvmat = sl.toeplitz(r=Fvtoeprow, c=Fvtoeprow.conj())\n",
    "\n",
    "print(Fvmat.shape)"
   ],
   "metadata": {
    "collapsed": false,
    "pycharm": {
     "name": "#%%\n"
    }
   }
  },
  {
   "cell_type": "markdown",
   "source": [
    "---\n",
    "**Eigendecomposition of a Fourier Represented Potential**"
   ],
   "metadata": {
    "collapsed": false,
    "pycharm": {
     "name": "#%% md\n"
    }
   }
  },
  {
   "cell_type": "code",
   "execution_count": 5,
   "id": "7b241039-f314-4730-9423-644b4d59fac0",
   "metadata": {
    "pycharm": {
     "name": "#%%\n"
    }
   },
   "outputs": [
    {
     "name": "stdout",
     "output_type": "stream",
     "text": [
      "hmat Hermitian check (should be close to zero):\n",
      "0.0\n",
      "Check if hmat is diagonalized (should be close to zero):\n",
      "3.392077258042753e-13\n",
      "Unitary stts check (should be close to zero):\n",
      "1.2469110651416776e-14\n"
     ]
    }
   ],
   "source": [
    "# construct the kinetic matrix representation of the\n",
    "# kinetic operator in the Fourier basis\n",
    "# (this is constant for a given system)\n",
    "kmat = np.diag(np.arange(-nF, nF + 1)**2 * np.pi**2 / (2 * L**2))\n",
    "\n",
    "# construct the Hamiltonian matrix representation of the\n",
    "# Hamiltonian operator in the Fourier basis\n",
    "Fhmat = kmat + Fvmat\n",
    "\n",
    "# check if the Hamiltonian matrix is Hermitian\n",
    "print('hmat Hermitian check (should be close to zero):', nl.norm(Fhmat - Fhmat.T.conj()), sep='\\n')\n",
    "\n",
    "# eigen-decomposition of the Hamiltonian matrix\n",
    "Fspc, Fstts = nl.eigh(Fhmat)\n",
    "\n",
    "# check if the eigendecomposition diagonalizes the\n",
    "# Hamiltonian matrix\n",
    "# if this is close to zero then\n",
    "# hmat = states @ np.diag(spec) @ np.conj(states).T\n",
    "print('Check if hmat is diagonalized (should be close to zero):', nl.norm(Fhmat @ Fstts - Fstts @ np.diag(Fspc)), sep='\\n')\n",
    "\n",
    "# check if the eigenstates are unitary\n",
    "print('Unitary stts check (should be close to zero):', nl.norm(Fstts @ Fstts.T.conj() - np.eye(2 * nF + 1)), sep='\\n')"
   ]
  },
  {
   "cell_type": "code",
   "execution_count": 6,
   "outputs": [
    {
     "name": "stdout",
     "output_type": "stream",
     "text": [
      "[0.5 1.5 2.5 3.5 4.5 5.5]\n"
     ]
    },
    {
     "data": {
      "text/plain": "<Figure size 432x288 with 1 Axes>",
      "image/png": "[encoded data removed]"
     },
     "metadata": {
      "needs_background": "light"
     },
     "output_type": "display_data"
    },
    {
     "name": "stdout",
     "output_type": "stream",
     "text": [
      "Quick check of normalization (should be close to 1):\n",
      "0.9999999999999993\n",
      "Check of normalization (should be close to 1):\n",
      "0.9999999999999993\n"
     ]
    }
   ],
   "source": [
    "# find indices that sort eigenvalues\n",
    "ordering = np.argsort(Fspc)\n",
    "\n",
    "# print the first few eigenvalues\n",
    "print(Fspc[ordering[:6]])\n",
    "\n",
    "# pick out and plot ground state\n",
    "groundstate = ordering[0]\n",
    "wavefn = Fstts[:,groundstate] @ Fcnvrtmat\n",
    "plt.plot(xvec, np.real(wavefn))\n",
    "plt.title('Ground state')\n",
    "plt.xlabel('x')\n",
    "plt.show()\n",
    "\n",
    "# quick and dirty check of normalization\n",
    "print('Quick check of normalization (should be close to 1):', np.sum(np.abs(wavefn)**2 * (xvec[1]-xvec[0])), sep='\\n')\n",
    "\n",
    "# this should be a more accurate check of the ground state\n",
    "# wave functions' normalization\n",
    "print('Check of normalization (should be close to 1):', si.trapezoid(np.abs(wavefn)**2, xvec), sep='\\n')"
   ],
   "metadata": {
    "collapsed": false,
    "pycharm": {
     "name": "#%%\n"
    }
   }
  },
  {
   "cell_type": "markdown",
   "source": [
    "---\n",
    "<h3>Foward Propagation</h3>"
   ],
   "metadata": {
    "collapsed": false,
    "pycharm": {
     "name": "#%% md\n"
    }
   }
  },
  {
   "cell_type": "code",
   "execution_count": 35,
   "outputs": [],
   "source": [
    "# solve the forward problem in the Fourier\n",
    "# representation and store the trajectory\n",
    "# in Famat\n",
    "\n",
    "# set the size of a time step\n",
    "dt = 1e-2\n",
    "\n",
    "# set the number of time steps to take starting from\n",
    "# the initial state (a single trajectory should be\n",
    "# nts + 1 states, this includes the initial state)\n",
    "ntsteps = 100  # 600  # 400  # 200\n"
   ],
   "metadata": {
    "collapsed": false,
    "pycharm": {
     "name": "#%%\n"
    }
   }
  },
  {
   "cell_type": "markdown",
   "source": [
    "---\n",
    "**Initial Wave Function and its Fourier Representation**"
   ],
   "metadata": {
    "collapsed": false
   }
  },
  {
   "cell_type": "code",
   "execution_count": 55,
   "outputs": [
    {
     "data": {
      "text/plain": "<Figure size 432x288 with 1 Axes>",
      "image/png": "[encoded data removed]"
     },
     "metadata": {
      "needs_background": "light"
     },
     "output_type": "display_data"
    },
    {
     "name": "stdout",
     "output_type": "stream",
     "text": [
      "L2 Error psi0_1: 4.072507283500596e-06\n",
      "L-infinity Error psi0_1: 1.8301527573114097e-06\n",
      "L2 Error psi0_2: 4.072507283501627e-06\n",
      "L-infinity Error psi0_2: 1.8301527573114097e-06\n"
     ]
    }
   ],
   "source": [
    "# define initial state(s) and transform to Fourier basis\n",
    "\n",
    "ainitvec = []\n",
    "\n",
    "def psi0_1(x):\n",
    "    # return 1.0 + np.tanh((1 - x**2)/0.5)  # rounded box function\n",
    "    # return np.piecewise(x, [x < -1, (x >= -1) & (x <= 1), x > 1], [0, lambda x: (1 - np.abs(x)), 0])  # triangular pulse\n",
    "    # return np.piecewise(x, [x < -1, (x >= -1) & (x <= 1), x > 1], [0, lambda x: (1 - x**2), 0])  # parabolic pulse\n",
    "    # return (np.cosh(x))**(-2)  # hyperbolic secant squared\n",
    "    # return np.exp(-np.abs(x))  # Laplace\n",
    "    # HSB's \"super simple initial condition\"\n",
    "    # return np.exp(-x**2) * (2.0 / np.pi)**0.25  # Gaussian with L^2 norm = 1\n",
    "    #\n",
    "    return np.exp(-(x + 3)**2 / 4) * (2.0 / np.pi)**0.25\n",
    "    # return np.exp(-(x + 7)**2 / 0.2) * (2.0 / np.pi)**0.25\n",
    "\n",
    "# WHEN USING HSB'S GAUSSIAN WITH L^2 NORM = 1\n",
    "# normpsi0_1_fn = psi0_1\n",
    "# WHEN NOT USING HSB'S GAUSSIAN WITH L^2 NORM = 1\n",
    "# compute psi0 normalization term\n",
    "psi0_1_probintgrnd = lambda x: np.abs(psi0_1(x))**2\n",
    "psi0_1_normtrm = np.sqrt(si.quad(psi0_1_probintgrnd, -L, L)[0])\n",
    "# define normalized psi function to be used by\n",
    "# a scipy.integrate methods\n",
    "def normpsi0_1_fn(x):\n",
    "    return psi0_1(x)/psi0_1_normtrm\n",
    "\n",
    "# compute the Fourier basis representation of the\n",
    "# normalized psi0 function using quadrature method\n",
    "normpsi0_1_quad = np.zeros(nF + 1, dtype=np.complex128)\n",
    "for thisn in range (nF + 1):\n",
    "    def intgrnd(x):\n",
    "        return normpsi0_1_fn(x) * np.exp(-1j * np.pi * thisn * x / L) / np.sqrt(2 * L)\n",
    "    def rintgrnd(x):\n",
    "        return intgrnd(x).real\n",
    "    def iintgrnd(x):\n",
    "        return intgrnd(x).imag\n",
    "    normpsi0_1_quad[thisn] = si.quad(rintgrnd, -L, L)[0] + 1j*si.quad(iintgrnd, -L, L)[0]\n",
    "\n",
    "ainit_1 = np.concatenate([np.conjugate(np.flipud(normpsi0_1_quad[1:])), normpsi0_1_quad])\n",
    "\n",
    "ainitvec.append(ainit_1)\n",
    "\n",
    "def psi0_2(x):\n",
    "    # return 1.0 + np.tanh((1 - x**2)/0.5)  # rounded box function\n",
    "    # return np.piecewise(x, [x < -1, (x >= -1) & (x <= 1), x > 1], [0, lambda x: (1 - np.abs(x)), 0])  # triangular pulse\n",
    "    # return np.piecewise(x, [x < -1, (x >= -1) & (x <= 1), x > 1], [0, lambda x: (1 - x**2), 0])  # parabolic pulse\n",
    "    # return (np.cosh(x))**(-2)  # hyperbolic secant squared\n",
    "    # return np.exp(-np.abs(x))  # Laplace\n",
    "    # HSB's \"super simple initial condition\"\n",
    "    # return np.exp(-x**2) * (2.0 / np.pi)**0.25  # Gaussian with L^2 norm = 1\n",
    "    #\n",
    "    # return np.exp(-(x - 7)**2 / 0.2) * (2.0 / np.pi)**0.25\n",
    "    return np.exp(-(x - 3)**2 / 4) * (2.0 / np.pi)**0.25\n",
    "\n",
    "# WHEN USING HSB'S GAUSSIAN WITH L^2 NORM = 1\n",
    "# normpsi0_2_fn = psi0_2\n",
    "# WHEN NOT USING HSB'S GAUSSIAN WITH L^2 NORM = 1\n",
    "# compute psi0 normalization term\n",
    "psi0_2_probintgrnd = lambda x: np.abs(psi0_2(x))**2\n",
    "psi0_2_normtrm = np.sqrt(si.quad(psi0_2_probintgrnd, -L, L)[0])\n",
    "# define normalized psi function to be used by\n",
    "# a scipy.integrate methods\n",
    "def normpsi0_2_fn(x):\n",
    "    return psi0_2(x)/psi0_2_normtrm\n",
    "\n",
    "# compute the Fourier basis representation of the\n",
    "# normalized psi0 function using quadrature method\n",
    "normpsi0_2_quad = np.zeros(nF + 1, dtype=np.complex128)\n",
    "for thisn in range (nF + 1):\n",
    "    def intgrnd(x):\n",
    "        return normpsi0_2_fn(x) * np.exp(-1j * np.pi * thisn * x / L) / np.sqrt(2 * L)\n",
    "    def rintgrnd(x):\n",
    "        return intgrnd(x).real\n",
    "    def iintgrnd(x):\n",
    "        return intgrnd(x).imag\n",
    "    normpsi0_2_quad[thisn] = si.quad(rintgrnd, -L, L)[0] + 1j*si.quad(iintgrnd, -L, L)[0]\n",
    "\n",
    "ainit_2 = np.concatenate([np.conjugate(np.flipud(normpsi0_2_quad[1:])), normpsi0_2_quad])\n",
    "\n",
    "ainitvec.append(ainit_2)\n",
    "\n",
    "normpsi0_1_vecrec = ainitvec[0] @ Fcnvrtmat\n",
    "normpsi0_1_vec = normpsi0_1_fn(xvec)\n",
    "\n",
    "normpsi0_2_vecrec = ainitvec[1] @ Fcnvrtmat\n",
    "normpsi0_2_vec = normpsi0_2_fn(xvec)\n",
    "\n",
    "# plot the real part of the normalized psi0\n",
    "plt.plot(xvec, normpsi0_1_vecrec.real, label=\"Rec 1\")\n",
    "plt.plot(xvec, normpsi0_1_vec.real, label=\"Truth 1\")\n",
    "plt.plot(xvec, normpsi0_2_vecrec.real, label=\"Rec 2\")\n",
    "plt.plot(xvec, normpsi0_2_vec.real, label=\"Truth 2\")\n",
    "plt.title('Real Part of Initial Wave Function')\n",
    "plt.xlabel('x')\n",
    "plt.legend()\n",
    "plt.show()\n",
    "\n",
    "print('L2 Error psi0_1:', nl.norm(normpsi0_1_vecrec - normpsi0_1_vec))\n",
    "print('L-infinity Error psi0_1:', np.max(np.abs(normpsi0_1_vecrec - normpsi0_1_vec)))\n",
    "\n",
    "print('L2 Error psi0_2:', nl.norm(normpsi0_2_vecrec - normpsi0_2_vec))\n",
    "print('L-infinity Error psi0_2:', np.max(np.abs(normpsi0_2_vecrec - normpsi0_2_vec)))"
   ],
   "metadata": {
    "collapsed": false,
    "pycharm": {
     "name": "#%%\n"
    }
   }
  },
  {
   "cell_type": "markdown",
   "source": [
    "---\n",
    "**Forward Propagation of ainit using the Potential in Fourier Representation**"
   ],
   "metadata": {
    "collapsed": false
   }
  },
  {
   "cell_type": "code",
   "execution_count": 56,
   "outputs": [
    {
     "name": "stdout",
     "output_type": "stream",
     "text": [
      "Done propagating.\n"
     ]
    }
   ],
   "source": [
    "# compute the propagator matrix reusing the\n",
    "# spectrum and states from the eigendecomposition\n",
    "# of Hamiltonian matrix computed above\n",
    "Fpropa = Fstts @ np.diag(np.exp(-1j * Fspc * dt)) @ Fstts.conj().T\n",
    "\n",
    "Famatvec = []\n",
    "# propagate the system starting from the initial \"a\" state\n",
    "for thisainit in ainitvec:\n",
    "    tempFamat = np.zeros((ntsteps + 1, 2 * nF + 1), dtype=np.complex128)\n",
    "    tempFamat[0] = thisainit.copy()\n",
    "    for i in range(ntsteps):\n",
    "        tempFamat[i + 1] = Fpropa @ tempFamat[i]\n",
    "    Famatvec.append(tempFamat)\n",
    "\n",
    "# compute the wave function in space from each \"a\" vector\n",
    "# do it all at once using matrix multiplication!\n",
    "Fpsimat_1 = Famatvec[0] @ Fcnvrtmat\n",
    "Fpsimat_2 = Famatvec[1] @ Fcnvrtmat\n",
    "\n",
    "print('Done propagating.')"
   ],
   "metadata": {
    "collapsed": false,
    "pycharm": {
     "name": "#%%\n"
    }
   }
  },
  {
   "cell_type": "code",
   "execution_count": 57,
   "outputs": [
    {
     "data": {
      "text/plain": "<Figure size 432x288 with 24 Axes>",
      "image/png": "[encoded data removed]"
     },
     "metadata": {
      "needs_background": "light"
     },
     "output_type": "display_data"
    }
   ],
   "source": [
    "numsnapshots = 12\n",
    "\n",
    "fig, axs = plt.subplots(nrows=2, ncols=numsnapshots, sharex='all', sharey='all')\n",
    "\n",
    "plottstep = ntsteps // numsnapshots\n",
    "\n",
    "for i in range(2):\n",
    "    for j in range(numsnapshots):\n",
    "        axs[i, j].plot(xvec, np.abs((Famatvec[i] @ Fcnvrtmat)[plottstep * j])**2)\n",
    "\n",
    "plt.show()"
   ],
   "metadata": {
    "collapsed": false,
    "pycharm": {
     "name": "#%%\n"
    }
   }
  },
  {
   "cell_type": "code",
   "execution_count": 58,
   "outputs": [
    {
     "data": {
      "text/plain": "<Figure size 432x288 with 1 Axes>",
      "image/png": "[encoded data removed]"
     },
     "metadata": {
      "needs_background": "light"
     },
     "output_type": "display_data"
    },
    {
     "name": "stdout",
     "output_type": "stream",
     "text": [
      "Average Norm of Trajectory Fpsimatnormvec_1 (should be close to 1):\n",
      "0.9999999999996986\n",
      "Average Norm of Trajectory Fpsimatnormvec_2 (should be close to 1):\n",
      "0.999999999999717\n"
     ]
    }
   ],
   "source": [
    "# check if the wave function of each time step\n",
    "# is normalized to 1\n",
    "# this should produce a graph with a line that is almost\n",
    "# completely horizontal at 1\n",
    "Fpsimatnormvec_1 = si.trapezoid(np.abs(Fpsimat_1)**2, xvec, axis=1)\n",
    "plt.plot(np.arange(ntsteps + 1) * dt, Fpsimatnormvec_1, label='1')\n",
    "Fpsimatnormvec_2 = si.trapezoid(np.abs(Fpsimat_2)**2, xvec, axis=1)\n",
    "plt.plot(np.arange(ntsteps + 1) * dt, Fpsimatnormvec_2, label='2')\n",
    "plt.hlines(1 , 0, ntsteps * dt, linestyles='-.', colors='darkorange', label='_')\n",
    "plt.title('Normalization of the Wave Function\\nas a Function of Time\\n')\n",
    "plt.xlabel('Time')\n",
    "plt.ylabel('Norm')\n",
    "plt.legend()\n",
    "plt.show()\n",
    "\n",
    "# norm difference of wave function normalization check,\n",
    "# this should be close to 1\n",
    "print('Average Norm of Trajectory Fpsimatnormvec_1 (should be close to 1):', Fpsimatnormvec_1.sum() / (ntsteps + 1), sep='\\n')\n",
    "print('Average Norm of Trajectory Fpsimatnormvec_2 (should be close to 1):', Fpsimatnormvec_2.sum() / (ntsteps + 1), sep='\\n')"
   ],
   "metadata": {
    "collapsed": false,
    "pycharm": {
     "name": "#%%\n"
    }
   }
  },
  {
   "cell_type": "markdown",
   "source": [
    "---\n",
    "<h3>Chebyshev Representation</h3>"
   ],
   "metadata": {
    "collapsed": false
   }
  },
  {
   "cell_type": "code",
   "execution_count": 12,
   "outputs": [],
   "source": [
    "# set the number of Chebyshev coefficients\n",
    "nc = 11"
   ],
   "metadata": {
    "collapsed": false,
    "pycharm": {
     "name": "#%%\n"
    }
   }
  },
  {
   "cell_type": "code",
   "execution_count": 13,
   "outputs": [
    {
     "name": "stdout",
     "output_type": "stream",
     "text": [
      "[ 2.50000000e+01  4.73695157e-15  2.50000000e+01  3.55271368e-15\n",
      " -9.47390314e-15  2.13162821e-14 -5.92118946e-15  1.42108547e-14\n",
      " -1.06581410e-14  1.65793305e-14 -3.43428989e-14  2.13162821e-14]\n"
     ]
    },
    {
     "data": {
      "text/plain": "<Figure size 432x288 with 1 Axes>",
      "image/png": "[encoded data removed]"
     },
     "metadata": {
      "needs_background": "light"
     },
     "output_type": "display_data"
    },
    {
     "name": "stdout",
     "output_type": "stream",
     "text": [
      "L2 Error (should be close to zero):\n",
      "9.054280613274888e-13\n",
      "L-infinity Error (should be close to zero):\n",
      "1.5631940186722204e-13\n"
     ]
    }
   ],
   "source": [
    "# to test our Chebyshev representation let's represent\n",
    "# the potential function, v(x), using Chebyshev polynomials\n",
    "# then reconstruct it in real space and compare the sampled\n",
    "# function to the reconstruction\n",
    "# for the simple harmonic potential this should be\n",
    "# exact because v(x) **is** a polynomial\n",
    "\n",
    "def theta(k):\n",
    "    return (k - 0.5) * np.pi / (nc + 1)\n",
    "\n",
    "def g(k):\n",
    "    # cos(\\theta) ranges from [-1, 1] which is the domain\n",
    "    # of the Chebyshev interpolation function so we need to\n",
    "    # modify v()'s so when it is given x \\in [-1, 1], it\n",
    "    # actually spans the domain [-L, L]\n",
    "    # to do that, we multiply by np.cos(theta(k)) by L\n",
    "    return v(L * np.cos(theta(k)))\n",
    "\n",
    "kvec = np.arange(1, nc + 2)\n",
    "cnvec = np.arange(0, nc + 1)\n",
    "\n",
    "cweights = np.ones(nc + 1)\n",
    "cweights[0] = 0.5\n",
    "\n",
    "# compute Chebyshev coefficients\n",
    "cvec = 2 / (nc + 1) * np.sum(g(kvec) * np.cos(cnvec[..., np.newaxis] * theta(kvec)), axis=1)\n",
    "cvec = cweights * cvec\n",
    "print(cvec)\n",
    "\n",
    "ctoxmat = sps.eval_chebyt(np.expand_dims(cnvec, 0), np.expand_dims(xvec / L, 1))\n",
    "vrec = ctoxmat @ cvec\n",
    "\n",
    "# plot reconstruction vs truth\n",
    "plt.plot(xvec, vrec, label='cheb')\n",
    "plt.plot(xvec, vxvec, label='True')\n",
    "plt.title(f'Approx vs. True for n={nc}')\n",
    "plt.legend()\n",
    "plt.show()\n",
    "\n",
    "# vec L2 error\n",
    "print('L2 Error (should be close to zero):', nl.norm(v(xvec) - vrec), sep='\\n')\n",
    "# L-infinity error\n",
    "print('L-infinity Error (should be close to zero):', np.max(np.abs(v(xvec) - vrec)), sep='\\n')"
   ],
   "metadata": {
    "collapsed": false,
    "pycharm": {
     "name": "#%%\n"
    }
   }
  },
  {
   "cell_type": "markdown",
   "source": [
    "---\n",
    "**Form the Potential Matrix from the Chebyshev Representation**"
   ],
   "metadata": {
    "collapsed": false
   }
  },
  {
   "cell_type": "code",
   "execution_count": 14,
   "outputs": [
    {
     "name": "stdout",
     "output_type": "stream",
     "text": [
      "L2 Norm Error (should be close to 0): 2.610274033911567e-13\n",
      "L-infinity Error (should be close to 0): 1.6643382799970866e-13\n"
     ]
    }
   ],
   "source": [
    "# to test our Chebyshev representation let's construct\n",
    "# the potential matrix, vmat, using Chebyshev polynomials\n",
    "# via quadrature method then check the result against\n",
    "# the potential matrix formed directly in the Fourier\n",
    "# representation\n",
    "\n",
    "# this function returns the chebyshev approximation of\n",
    "# the potential at some spatial point x, this is needed\n",
    "# for transforming the Chebyshev coefficients to the\n",
    "# Fourier representation by quadrature method\n",
    "# def vchebaprx(x):\n",
    "    # don't forget the interval of the argument x is [-L, L]\n",
    "    # but for the chebyshev representation it needs to be\n",
    "    # [-1, 1] so we need to divide x by L\n",
    "    # return sps.eval_chebyt(np.expand_dims(cnvec, 0), x / L) @ cvec\n",
    "\n",
    "# compute the Fourier representation of the Chebyshev\n",
    "# coefficients of the true potential\n",
    "# cvrowquad = np.zeros(2 * nF + 1, dtype=np.complex128)\n",
    "# for thisn in range(2 * nF + 1):\n",
    "#     def intgrnd(x):\n",
    "#         return vchebaprx(x) * np.exp(-1j * np.pi * thisn * x / L) / (2 * L)\n",
    "#     def rintgrnd(x):\n",
    "#         return intgrnd(x).real\n",
    "#     def iintgrnd(x):\n",
    "#         return intgrnd(x).imag\n",
    "#     cvrowquad[thisn] = si.quad(rintgrnd, -L, L)[0] + 1j * si.quad(iintgrnd, -L, L)[0]\n",
    "\n",
    "# creates matrix that can be used to transform\n",
    "# the Chebyshev coefficients to the Fourier representation\n",
    "chebtoF = np.zeros((2 * nF + 1, nc + 1), dtype=np.complex128)\n",
    "for thiscn in range(nc + 1):\n",
    "    for thisn in range(2 * nF + 1):\n",
    "        def intgrnd(x):\n",
    "            tvec = lambda x: sps.eval_chebyt(np.expand_dims(thiscn, 0), x / L)\n",
    "            return tvec(x) * np.exp(-1j * np.pi * thisn * x / L) / (2 * L)\n",
    "        def rintgrnd(x):\n",
    "            return intgrnd(x).real\n",
    "        def iintgrnd(x):\n",
    "            return intgrnd(x).imag\n",
    "\n",
    "        chebtoF[thisn, thiscn] = si.quad(rintgrnd, -L, L)[0] + 1j * si.quad(iintgrnd, -L, L)[0]\n",
    "\n",
    "# check how much the Fourier representation coefficients\n",
    "# constructed from the Chebyshev representation differ from\n",
    "# the true Fourier coefficients\n",
    "# (i.e., compare the potential in the Fourier representation\n",
    "# to the potential reconstructed from the Chebyshev representation)\n",
    "print('L2 Norm Error (should be close to 0):', nl.norm(Fvtoeprow - chebtoF @ cvec))\n",
    "print('L-infinity Error (should be close to 0):', np.max(np.abs(Fvtoeprow - chebtoF @ cvec)))"
   ],
   "metadata": {
    "collapsed": false,
    "pycharm": {
     "name": "#%%\n"
    }
   }
  },
  {
   "cell_type": "markdown",
   "source": [
    "---\n",
    "**Eigendecomposition of a Chebyshev Represented Potential**"
   ],
   "metadata": {
    "collapsed": false
   }
  },
  {
   "cell_type": "code",
   "execution_count": 15,
   "outputs": [
    {
     "name": "stdout",
     "output_type": "stream",
     "text": [
      "hmat Hermitian check (should be close to zero):\n",
      "0.0\n",
      "Check if hmat is diagonalized (should be close to zero):\n",
      "3.3579866970635153e-13\n",
      "Unitary stts check (should be close to zero):\n",
      "1.1902270981501877e-14\n"
     ]
    }
   ],
   "source": [
    "# to test our Chebyshev representation let's compare\n",
    "# the Hamiltonian matrix and its eigendecomposition\n",
    "# constructed from the potential matrix reconstructed\n",
    "# from the Chebyshev coefficients of the potential\n",
    "# to the same features constructed directly in the\n",
    "# Fourier representation\n",
    "\n",
    "# make the potential matrix from the Chebyshev coefficents\n",
    "cvmat = sl.toeplitz(r=chebtoF @ cvec, c=np.conj(chebtoF @ cvec))\n",
    "\n",
    "# construct the Hamiltonian matrix representation of the\n",
    "# Hamiltonian operator in the Fourier basis\n",
    "chmat = kmat + cvmat\n",
    "\n",
    "# check if the Hamiltonian matrix is Hermitian\n",
    "print('hmat Hermitian check (should be close to zero):', nl.norm(chmat - chmat.T.conj()), sep='\\n')\n",
    "\n",
    "# eigendecomposition of the Hamiltonian matrix\n",
    "cspc, cstts = nl.eigh(chmat)\n",
    "\n",
    "# check if the eigendecomposition diagonalizes the\n",
    "# Hamiltonian matrix\n",
    "# if this is close to zero then\n",
    "# hmat = states @ np.diag(spec) @ np.conj(states).T\n",
    "print('Check if hmat is diagonalized (should be close to zero):', nl.norm(chmat @ cstts - cstts @ np.diag(cspc)), sep='\\n')\n",
    "\n",
    "# check if the eigenstates are unitary\n",
    "print('Unitary stts check (should be close to zero):', nl.norm(cstts @ cstts.T.conj() - np.eye(2 * nF + 1)), sep='\\n')"
   ],
   "metadata": {
    "collapsed": false,
    "pycharm": {
     "name": "#%%\n"
    }
   }
  },
  {
   "cell_type": "code",
   "execution_count": 16,
   "outputs": [
    {
     "name": "stdout",
     "output_type": "stream",
     "text": [
      "L2 Error of the Hamiltonian matrix (should be close to 0):\n",
      "1.44838302671362e-12\n",
      "L2 Error of spectrum (should be close to 0):\n",
      "5.408886710665555e-13\n",
      "L2 Error of states (should be close to 0):\n",
      "7.483314773547882\n"
     ]
    }
   ],
   "source": [
    "print('L2 Error of the Hamiltonian matrix (should be close to 0):', nl.norm(cvmat - Fvmat), sep='\\n')\n",
    "print('L2 Error of spectrum (should be close to 0):', nl.norm(cspc - Fspc), sep='\\n')\n",
    "print('L2 Error of states (should be close to 0):', nl.norm(cstts - Fstts), sep='\\n')"
   ],
   "metadata": {
    "collapsed": false,
    "pycharm": {
     "name": "#%%\n"
    }
   }
  },
  {
   "cell_type": "markdown",
   "source": [
    "---\n",
    "**Forward Propagation of ainit using the Potential in the Cheybshev Representation**"
   ],
   "metadata": {
    "collapsed": false
   }
  },
  {
   "cell_type": "code",
   "execution_count": 17,
   "outputs": [
    {
     "name": "stdout",
     "output_type": "stream",
     "text": [
      "Done propagating.\n"
     ]
    }
   ],
   "source": [
    "# propagate the system using the Chebyshev\n",
    "# representation of the true potential and compare\n",
    "# if chebyshev propagation agrees with Fourier\n",
    "# propagation\n",
    "\n",
    "# compute the propagator matrix reusing the\n",
    "# spectrum and states from the eigendecomposition\n",
    "# of Hamiltonian matrix computed above\n",
    "# cspc, cstts\n",
    "cpropa = cstts @ np.diag(np.exp(-1j * cspc * dt)) @ cstts.conj().T\n",
    "\n",
    "camatvec = []\n",
    "# propagate the system starting from the initial \"a\" state\n",
    "for thisainit in ainitvec:\n",
    "    tempcamat = np.zeros((ntsteps + 1, 2 * nF + 1), dtype=np.complex128)\n",
    "    tempcamat[0] = thisainit.copy()\n",
    "    for i in range(ntsteps):\n",
    "        tempcamat[i + 1] = cpropa @ tempcamat[i]\n",
    "    camatvec.append(tempcamat)\n",
    "\n",
    "# compute the wave function in space from each \"a\" vector\n",
    "# do it all at once using matrix multiplication!\n",
    "cpsimat_1 = camatvec[0] @ Fcnvrtmat\n",
    "cpsimat_2 = camatvec[1] @ Fcnvrtmat\n",
    "\n",
    "print('Done propagating.')"
   ],
   "metadata": {
    "collapsed": false,
    "pycharm": {
     "name": "#%%\n"
    }
   }
  },
  {
   "cell_type": "code",
   "execution_count": 18,
   "outputs": [
    {
     "data": {
      "text/plain": "<Figure size 432x288 with 12 Axes>",
      "image/png": "[encoded data removed]"
     },
     "metadata": {
      "needs_background": "light"
     },
     "output_type": "display_data"
    }
   ],
   "source": [
    "fig, axs = plt.subplots(nrows=2, ncols=6, sharex='all', sharey='all')\n",
    "\n",
    "plottstep = ntsteps // 6\n",
    "\n",
    "for i in range(2):\n",
    "    for j in range(6):\n",
    "        axs[i, j].plot(xvec, np.abs((camatvec[i] @ Fcnvrtmat)[plottstep * j])**2)\n",
    "\n",
    "plt.show()"
   ],
   "metadata": {
    "collapsed": false,
    "pycharm": {
     "name": "#%%\n"
    }
   }
  },
  {
   "cell_type": "code",
   "execution_count": 19,
   "outputs": [
    {
     "data": {
      "text/plain": "<Figure size 432x288 with 1 Axes>",
      "image/png": "[encoded data removed]"
     },
     "metadata": {
      "needs_background": "light"
     },
     "output_type": "display_data"
    },
    {
     "name": "stdout",
     "output_type": "stream",
     "text": [
      "Average Norm of Trajectory 1 (should be close to 1):\n",
      "0.9999999999997723\n",
      "Average Norm of Trajectory 2 (should be close to 1):\n",
      "0.9999951199333462\n"
     ]
    }
   ],
   "source": [
    "# check if the wave function of each time step\n",
    "# is normalized to 1\n",
    "# this should produce a graph with a line that is almost\n",
    "# completely horizontal at 1\n",
    "cpsimatnormvec_1 = si.trapezoid(np.abs(cpsimat_1) ** 2, xvec, axis=1)\n",
    "plt.plot(np.arange(ntsteps + 1) * dt, cpsimatnormvec_1, label='1')\n",
    "cpsimatnormvec_2 = si.trapezoid(np.abs(cpsimat_2) ** 2, xvec, axis=1)\n",
    "plt.plot(np.arange(ntsteps + 1) * dt, cpsimatnormvec_2, label='2')\n",
    "plt.hlines(1 , 0, ntsteps * dt, linestyles='-.', colors='darkorange', label='_')\n",
    "plt.title('Normalization of the Wave Function\\nas a Function of Time\\n')\n",
    "plt.xlabel('Time')\n",
    "plt.ylabel('Norm')\n",
    "plt.legend()\n",
    "plt.show()\n",
    "\n",
    "# norm difference of wave function normalization check,\n",
    "# this should be close to 1\n",
    "print('Average Norm of Trajectory 1 (should be close to 1):', cpsimatnormvec_1.sum() / (ntsteps + 1), sep='\\n')\n",
    "print('Average Norm of Trajectory 2 (should be close to 1):', cpsimatnormvec_2.sum() / (ntsteps + 1), sep='\\n')"
   ],
   "metadata": {
    "collapsed": false,
    "pycharm": {
     "name": "#%%\n"
    }
   }
  },
  {
   "cell_type": "code",
   "execution_count": 20,
   "outputs": [
    {
     "name": "stdout",
     "output_type": "stream",
     "text": [
      "L2 Error Trajectory 1 (should be close to 0):\n",
      "3.640619618541062e-11\n",
      "L-infinity Error Trajectory 1 (should be close to 0):\n",
      "2.4468386691163833e-13\n",
      "L2 Error Trajectory 2 (should be close to 0):\n",
      "4.9278949391492975e-11\n",
      "L-infinity Error Trajectory 2 (should be close to 0):\n",
      "3.0025107431244e-13\n"
     ]
    },
    {
     "data": {
      "text/plain": "<Figure size 432x288 with 1 Axes>",
      "image/png": "[encoded data removed]"
     },
     "metadata": {
      "needs_background": "light"
     },
     "output_type": "display_data"
    }
   ],
   "source": [
    "print('L2 Error Trajectory 1 (should be close to 0):', nl.norm(cpsimat_1 - Fpsimat_1), sep='\\n')\n",
    "print('L-infinity Error Trajectory 1 (should be close to 0):', np.max(np.abs(cpsimat_1 - Fpsimat_1)), sep='\\n')\n",
    "print('L2 Error Trajectory 2 (should be close to 0):', nl.norm(cpsimat_2 - Fpsimat_2), sep='\\n')\n",
    "print('L-infinity Error Trajectory 2 (should be close to 0):', np.max(np.abs(cpsimat_2 - Fpsimat_2)), sep='\\n')\n",
    "\n",
    "plt.plot(nl.norm(cpsimat_1 - Fpsimat_1, axis=1), label='1')\n",
    "plt.plot(nl.norm(cpsimat_2 - Fpsimat_2, axis=1), label='2')\n",
    "plt.title('L2 Error of the Wave Function \\nfor Each Time Step')\n",
    "plt.xlabel('x')\n",
    "plt.legend()\n",
    "plt.show()"
   ],
   "metadata": {
    "collapsed": false,
    "pycharm": {
     "name": "#%%\n"
    }
   }
  },
  {
   "cell_type": "markdown",
   "source": [
    "---\n",
    "<h3>Inverse Problem - Adjoint Method</h3>"
   ],
   "metadata": {
    "collapsed": false,
    "pycharm": {
     "name": "#%% md\n"
    }
   }
  },
  {
   "cell_type": "code",
   "execution_count": 59,
   "outputs": [
    {
     "name": "stdout",
     "output_type": "stream",
     "text": [
      "(65, 65)\n"
     ]
    }
   ],
   "source": [
    "# this code is used to make a toeplitz matrix from the\n",
    "# Fourier representation\n",
    "# flattoepvec = jnp.concatenate([jnp.flipud(cvrow.conj()), cvrow[1:]])\n",
    "\n",
    "numtoepelms = 2 * nF + 1\n",
    "a = (-1) * np.arange(0, numtoepelms).reshape(numtoepelms, 1)\n",
    "b = [np.arange(numtoepelms - 1, 2 * numtoepelms -1)]\n",
    "toepindxmat = jnp.array(a + b)\n",
    "print(toepindxmat.shape)"
   ],
   "metadata": {
    "collapsed": false,
    "pycharm": {
     "name": "#%%\n"
    }
   }
  },
  {
   "cell_type": "code",
   "execution_count": 60,
   "outputs": [
    {
     "name": "stdout",
     "output_type": "stream",
     "text": [
      "(2, 101, 65)\n",
      "(65, 12)\n"
     ]
    }
   ],
   "source": [
    "# convert python list to JAX object\n",
    "jaxFamatvec = jnp.stack(Famatvec)\n",
    "print(jaxFamatvec.shape)\n",
    "\n",
    "# convert the NumPy chebtoF matrix to a JAX object\n",
    "jaxchebtoF = jnp.array(chebtoF)\n",
    "print(jaxchebtoF.shape)"
   ],
   "metadata": {
    "collapsed": false,
    "pycharm": {
     "name": "#%%\n"
    }
   }
  },
  {
   "cell_type": "code",
   "execution_count": 61,
   "outputs": [],
   "source": [
    "def cobjfn(cffs):\n",
    "    # construct the vmat from Chebyshev coefficients\n",
    "    # vmat = ctovmat(cffs)\n",
    "    cvrow = jaxchebtoF @ cffs\n",
    "    flattoepvec = jnp.concatenate([jnp.flipud(cvrow.conj()), cvrow[1:]])\n",
    "    vmat = jnp.array(flattoepvec[toepindxmat])\n",
    "    # print('L2 Error vmat (should be close to 0):', jnpl.norm(vmat - cvmat), sep='\\n')\n",
    "\n",
    "    # construct the Hamiltonian matrix\n",
    "    hmat = kmat + vmat\n",
    "    # print('L2 Error hmat (should be close to 0):', jnpl.norm(hmat - chmat), sep='\\n')\n",
    "\n",
    "    # eigendecomposition of the Hamiltonian matrix\n",
    "    spc, stts = jnpl.eigh(hmat)\n",
    "    # print('L2 Error spc (should be close to 0):', jnpl.norm(spc - cspc), sep='\\n')\n",
    "    # print('L2 Error stts (should be close to 0):', jnpl.norm(stts - cstts), sep='\\n')\n",
    "\n",
    "    # compute the propagator matrix using the\n",
    "    # result of the eigendecomposition\n",
    "    propamat = stts @ jnp.diag(jnp.exp(-1j * spc * dt)) @ stts.conj().T\n",
    "    # print('L2 Error propamat (should be close to 0):', jnpl.norm(propamat - cpropa), sep='\\n')\n",
    "\n",
    "    amatvec = []\n",
    "    # propagate the system starting from the initial \"a\" state\n",
    "    for thisainit in ainitvec:\n",
    "        tempamat = [thisainit.copy()]\n",
    "        for i in range(ntsteps):\n",
    "            tempamat.append(propamat @ tempamat[i])\n",
    "        # make python list a jax object\n",
    "        amatvec.append(jnp.stack(tempamat))\n",
    "    # make python list a jax object\n",
    "    amatvec = jnp.stack(amatvec)\n",
    "\n",
    "    # compute the sum of objective functions in one line\n",
    "    residue = amatvec - jaxFamatvec\n",
    "    objective = jnp.sum(0.5 * jnp.real(jnp.sum(jnp.conj(residue) * residue, axis=1)))\n",
    "\n",
    "    return objective"
   ],
   "metadata": {
    "collapsed": false,
    "pycharm": {
     "name": "#%%\n"
    }
   }
  },
  {
   "cell_type": "code",
   "execution_count": 62,
   "outputs": [
    {
     "name": "stdout",
     "output_type": "stream",
     "text": [
      "Objective for True Chebyshev Coefficients (should be close to 0):\n",
      "1.7768785754163373e-24\n"
     ]
    }
   ],
   "source": [
    "# check if the objective function gives zero when the\n",
    "# chebyshev coefficients of the true potential are fed in\n",
    "# this should produce a result which is very close to zero\n",
    "print('Objective for True Chebyshev Coefficients (should be close to 0):', cobjfn(cvec), sep='\\n')"
   ],
   "metadata": {
    "collapsed": false,
    "pycharm": {
     "name": "#%%\n"
    }
   }
  },
  {
   "cell_type": "code",
   "execution_count": 63,
   "outputs": [],
   "source": [
    "jitcobjfn = jax.jit(cobjfn)"
   ],
   "metadata": {
    "collapsed": false,
    "pycharm": {
     "name": "#%%\n"
    }
   }
  },
  {
   "cell_type": "code",
   "execution_count": 64,
   "outputs": [
    {
     "data": {
      "text/plain": "DeviceArray(1.77687858e-24, dtype=float64)"
     },
     "execution_count": 64,
     "metadata": {},
     "output_type": "execute_result"
    }
   ],
   "source": [
    "jitcobjfn(cvec)"
   ],
   "metadata": {
    "collapsed": false,
    "pycharm": {
     "name": "#%%\n"
    }
   }
  },
  {
   "cell_type": "code",
   "execution_count": 65,
   "outputs": [],
   "source": [
    "gradcobjfn = jax.jit(jax.grad(cobjfn))"
   ],
   "metadata": {
    "collapsed": false,
    "pycharm": {
     "name": "#%%\n"
    }
   }
  },
  {
   "cell_type": "code",
   "execution_count": 66,
   "outputs": [
    {
     "data": {
      "text/plain": "DeviceArray([ 2.59956151e-14,  2.31451828e-13,  9.11782937e-15,\n             -5.79599597e-13, -1.05865210e-13,  6.58028461e-13,\n              2.52112990e-13, -4.77249468e-13, -4.39265547e-13,\n              1.82564649e-13,  6.22866159e-13,  5.87852446e-14],            dtype=float64)"
     },
     "execution_count": 66,
     "metadata": {},
     "output_type": "execute_result"
    }
   ],
   "source": [
    "# check if the JAX grad of the objective function works\n",
    "# this should give all zeros (or close to that)\n",
    "gradcobjfn(cvec)"
   ],
   "metadata": {
    "collapsed": false,
    "pycharm": {
     "name": "#%%\n"
    }
   }
  },
  {
   "cell_type": "markdown",
   "source": [
    "---\n",
    "**Initialize with true coefficients perturbed by random normally distributed noise**"
   ],
   "metadata": {
    "collapsed": false
   }
  },
  {
   "cell_type": "code",
   "execution_count": 47,
   "outputs": [],
   "source": [
    "# easy test case: initialize theta with true theta perturbed with\n",
    "# random normally distributed noise with a small variance.\n",
    "# This should be easy for the optimizer to converge to a good minimum\n",
    "\n",
    "seed = 1234  # set to None for random initialization\n",
    "cfftrub = cvec.copy()\n",
    "cfftrub += 0.25 * np.random.default_rng(seed).normal(size=cvec.shape)\n",
    "# cfftrub += 5.0 * np.random.default_rng(seed).normal(size=cvec.shape)"
   ],
   "metadata": {
    "collapsed": false,
    "pycharm": {
     "name": "#%%\n"
    }
   }
  },
  {
   "cell_type": "code",
   "execution_count": 30,
   "outputs": [],
   "source": [
    "# print(cobjfn(cfftrub))\n",
    "# print(gradcobjfn(cfftrub))"
   ],
   "metadata": {
    "collapsed": false,
    "pycharm": {
     "name": "#%%\n"
    }
   }
  },
  {
   "cell_type": "code",
   "execution_count": 48,
   "outputs": [
    {
     "name": "stdout",
     "output_type": "stream",
     "text": [
      "Warning: Desired error not necessarily achieved due to precision loss.\n",
      "         Current function value: 0.000000\n",
      "         Iterations: 55\n",
      "         Function evaluations: 115\n",
      "         Gradient evaluations: 104\n"
     ]
    }
   ],
   "source": [
    "restrub = spo.minimize(cobjfn, cfftrub, jac=gradcobjfn, tol=1e-12, options={'maxiter': 200, 'disp': True, 'gtol': 1e-15}).x"
   ],
   "metadata": {
    "collapsed": false,
    "pycharm": {
     "name": "#%%\n"
    }
   }
  },
  {
   "cell_type": "code",
   "execution_count": 49,
   "outputs": [
    {
     "name": "stdout",
     "output_type": "stream",
     "text": [
      "Continuous L2 Error of Potential using Quadrature Method:\n",
      "1.3250091530525755e-13\n"
     ]
    }
   ],
   "source": [
    "def sqrerrorfn(x, cffs):\n",
    "    return (sps.eval_chebyt(cnvec, x / L) @ cffs - v(x))**2\n",
    "\n",
    "print('Continuous L2 Error of Potential using Quadrature Method:', np.sqrt(si.quad(sqrerrorfn, -L, L, args=(cvec)))[0], sep='\\n')"
   ],
   "metadata": {
    "collapsed": false,
    "pycharm": {
     "name": "#%%\n"
    }
   }
  },
  {
   "cell_type": "code",
   "execution_count": 50,
   "outputs": [
    {
     "name": "stdout",
     "output_type": "stream",
     "text": [
      "Objective of the Learned Coefficients:\n",
      "1.0846077769258887e-24\n",
      "Vec L2 Norm of Gradient of the Learned Coefficients:\n",
      "2.0119304517398582e-12\n",
      "Continuous L2 Error of Potential using Quadrature Method:\n",
      "2.2228619586377697e-12\n"
     ]
    },
    {
     "data": {
      "text/plain": "<Figure size 432x288 with 1 Axes>",
      "image/png": "[encoded data removed]"
     },
     "metadata": {
      "needs_background": "light"
     },
     "output_type": "display_data"
    }
   ],
   "source": [
    "# print('Chebyshev Coefficients of the True Potential:', cvec, sep='\\n')\n",
    "# print('', 'Chebyshev Coefficients of the Learned Potential:', restrub, sep='\\n')\n",
    "\n",
    "print('Objective of the Learned Coefficients:', cobjfn(restrub), sep='\\n')\n",
    "print('Vec L2 Norm of Gradient of the Learned Coefficients:', nl.norm(gradcobjfn(restrub)), sep='\\n')\n",
    "\n",
    "print('Continuous L2 Error of Potential using Quadrature Method:', np.sqrt(si.quad(sqrerrorfn, -L, L, args=(restrub)))[0], sep='\\n')\n",
    "\n",
    "# print('', 'Gradient of the Learned Coefficients:', gradcobjfn(restrub), sep='\\n')\n",
    "\n",
    "# print('', 'L2 Error of the Initialized Chebyshev Coefficients:', nl.norm(cvec - cfftrub), sep='\\n')\n",
    "# print('', 'L2 Error of the Learned Chebyshev Coefficients:', nl.norm(cvec - restrub), sep='\\n')\n",
    "# print('', 'L-infinity Error of the Initialized Chebyshev Coefficients:', np.max(np.abs(cvec - cfftrub)), sep='\\n')\n",
    "# print('', 'L-infinity Error of the Learned Chebyshev Coefficients:', np.max(np.abs(cvec - restrub)), sep='\\n')\n",
    "\n",
    "# plot learned vs true\n",
    "# plt.plot(xvec, ctoxmat @ cfftrub, label='initial')\n",
    "plt.plot(xvec, ctoxmat @ restrub, label='learned')\n",
    "plt.plot(xvec, vxvec, label='Truth')\n",
    "plt.title('Learned Potential vs. Truth')\n",
    "plt.legend()\n",
    "plt.show()"
   ],
   "metadata": {
    "collapsed": false,
    "pycharm": {
     "name": "#%%\n"
    }
   }
  },
  {
   "cell_type": "markdown",
   "source": [
    "---"
   ],
   "metadata": {
    "collapsed": false,
    "pycharm": {
     "name": "#%% md\n"
    }
   }
  },
  {
   "cell_type": "code",
   "execution_count": 67,
   "outputs": [],
   "source": [
    "seed = 1234  # set to None for random initialization\n",
    "# cffform = np.random.default_rng(seed).uniform(low=-0.5, high=0.5, size=cvec.shape)\n",
    "cffform = np.random.default_rng(seed).uniform(low=-5.0, high=5.0, size=cvec.shape)"
   ],
   "metadata": {
    "collapsed": false,
    "pycharm": {
     "name": "#%%\n"
    }
   }
  },
  {
   "cell_type": "code",
   "execution_count": 68,
   "outputs": [
    {
     "name": "stdout",
     "output_type": "stream",
     "text": [
      "Warning: Desired error not necessarily achieved due to precision loss.\n",
      "         Current function value: 0.000000\n",
      "         Iterations: 127\n",
      "         Function evaluations: 167\n",
      "         Gradient evaluations: 156\n"
     ]
    }
   ],
   "source": [
    "resform = spo.minimize(cobjfn, cffform, jac=gradcobjfn, tol=1e-15, options={'maxiter': 200, 'disp': True, 'gtol': 1e-14}).x"
   ],
   "metadata": {
    "collapsed": false,
    "pycharm": {
     "name": "#%%\n"
    }
   }
  },
  {
   "cell_type": "code",
   "execution_count": 69,
   "outputs": [
    {
     "name": "stdout",
     "output_type": "stream",
     "text": [
      "Objective of the Learned Coefficients:\n",
      "1.4693473181680407e-24\n",
      "Vec L2 Norm of Gradient of the Learned Coefficients:\n",
      "1.5233967210979391e-12\n",
      "Continuous L2 Error of Potential using Quadrature Method:\n",
      "1.631384611221782e-10\n"
     ]
    },
    {
     "data": {
      "text/plain": "<Figure size 432x288 with 1 Axes>",
      "image/png": "[encoded data removed]"
     },
     "metadata": {
      "needs_background": "light"
     },
     "output_type": "display_data"
    }
   ],
   "source": [
    "# print('Chebyshev Coefficients of the True Potential:', cvec, sep='\\n')\n",
    "# print('', 'Chebyshev Coefficients of the Learned Potential:', resform, sep='\\n')\n",
    "\n",
    "print('Objective of the Learned Coefficients:', cobjfn(resform), sep='\\n')\n",
    "print('Vec L2 Norm of Gradient of the Learned Coefficients:', nl.norm(gradcobjfn(resform)), sep='\\n')\n",
    "\n",
    "print('Continuous L2 Error of Potential using Quadrature Method:', np.sqrt(si.quad(sqrerrorfn, -L, L, args=(resform)))[0], sep='\\n')\n",
    "\n",
    "# print('', 'Gradient of the Learned Coefficients:', gradcobjfn(resform), sep='\\n')\n",
    "\n",
    "# print('', 'L2 Error of the Initialized Chebyshev Coefficients:', nl.norm(cvec - cffform), sep='\\n')\n",
    "# print('', 'L2 Error of the Learned Chebyshev Coefficients:', nl.norm(cvec - resform), sep='\\n')\n",
    "# print('', 'L-infinity Error of the Initialized Chebyshev Coefficients:', np.max(np.abs(cvec - cffform)), sep='\\n')\n",
    "# print('', 'L-infinity Error of the Learned Chebyshev Coefficients:', np.max(np.abs(cvec - resform)), sep='\\n')\n",
    "\n",
    "# plot learned vs true\n",
    "plt.plot(xvec, ctoxmat @ resform, label='initial')\n",
    "plt.plot(xvec, ctoxmat @ resform, label='learned')\n",
    "plt.plot(xvec, vxvec, label='Truth')\n",
    "# plt.xlim((-5, 5))\n",
    "# plt.ylim((0, 10))\n",
    "plt.title('Learned Potential vs. Truth')\n",
    "plt.legend()\n",
    "plt.show()"
   ],
   "metadata": {
    "collapsed": false,
    "pycharm": {
     "name": "#%%\n"
    }
   }
  },
  {
   "cell_type": "markdown",
   "source": [
    "---"
   ],
   "metadata": {
    "collapsed": false,
    "pycharm": {
     "name": "#%% md\n"
    }
   }
  },
  {
   "cell_type": "code",
   "execution_count": 46,
   "outputs": [],
   "source": [
    "def adjhelper(cffs):\n",
    "    # construct the vmat from Chebyshev coefficients\n",
    "    # vmat = ctovmat(cffs)\n",
    "    cvrow = jaxchebtoF @ cffs\n",
    "    flattoepvec = jnp.concatenate([jnp.flipud(cvrow.conj()), cvrow[1:]])\n",
    "    vmat = jnp.array(flattoepvec[toepindxmat])\n",
    "    # print('L2 Error vmat (should be close to 0):', jnpl.norm(vmat - cvmat), sep='\\n')\n",
    "\n",
    "    # construct the Hamiltonian matrix\n",
    "    hmat = kmat + vmat\n",
    "    # print('L2 Error hmat (should be close to 0):', jnpl.norm(hmat - chmat), sep='\\n')\n",
    "\n",
    "    # eigendecomposition of the Hamiltonian matrix\n",
    "    spc, stts = jnpl.eigh(hmat)\n",
    "    # print('L2 Error spc (should be close to 0):', jnpl.norm(spc - cspc), sep='\\n')\n",
    "    # print('L2 Error stts (should be close to 0):', jnpl.norm(stts - cstts), sep='\\n')\n",
    "\n",
    "    # compute the propagator matrix using the\n",
    "    # result of the eigendecomposition\n",
    "    propamat = stts @ jnp.diag(jnp.exp(-1j * spc * dt)) @ stts.conj().T\n",
    "    # print('L2 Error propamat (should be close to 0):', jnpl.norm(propamat - cpropa), sep='\\n')\n",
    "\n",
    "    amatvec = []\n",
    "    # propagate the system starting from the initial \"a\" state\n",
    "    for thisainit in ainitvec:\n",
    "        tempamat = [thisainit.copy()]\n",
    "        for i in range(ntsteps):\n",
    "            tempamat.append(propamat @ tempamat[i])\n",
    "        # make python list a jax object\n",
    "        amatvec.append(jnp.stack(tempamat))\n",
    "    # make python list a jax object\n",
    "    amatvec = jnp.stack(amatvec)\n",
    "\n",
    "    # compute backwards in time propagator of lmat\n",
    "    # using the result of the eigendecomposition\n",
    "    proplmat = stts @ np.diag(np.exp(1j * spc * dt)) @ stts.conj().T\n",
    "\n",
    "    # propagate the \"lambda\" vector of coefficients backward\n",
    "    # in time, i.e., solve the adjoint problem\n",
    "    lmat = [amat[ntsteps,:] - amat[ntsteps,:]]\n",
    "\n",
    "    itr = 0 # forward evaluation of lmat\n",
    "    for i in range(ntsteps - 1, -1, -1):\n",
    "        lmat.append(amat[i,:] - Famat[i,:] + propHmat @ lmat[itr] )\n",
    "        itr += 1\n",
    "\n",
    "    lmat = jnp.flipud(jnp.stack(lmat))\n",
    "\n",
    "    offdiagmask = jnp.ones((ntoepelm, ntoepelm)) - jnp.eye(ntoepelm)\n",
    "    expspec = jnp.exp(-1j * dt * spc)\n",
    "    e1, e2 = jnp.meshgrid(expspec, expspec)\n",
    "    s1, s2 = jnp.meshgrid(spc, spc)\n",
    "    denom = offdiagmask * (-1j * dt) * (s1 - s2) + jnp.eye(ntoepelm)\n",
    "    mask = offdiagmask * (e1 - e2)/denom + jnp.diag(expspec)\n",
    "    myeye = jnp.eye(ntoepelm)\n",
    "    ws = jnp.hstack([jnp.fliplr(myeye), myeye[:,1:]]).T\n",
    "    ctrmats = ws[toepindxmat]\n",
    "    derivamats = jnp.einsum('ij,jkm,kl->ilm', stts.conj().T, ctrmats, stts) * jnp.expand_dims(mask, 2)\n",
    "    alldmatreal = -1j * dt * jnp.einsum('ij,jkm,kl->mil', stts, derivamats, stts.conj().T)\n",
    "\n",
    "    ws = 1.0j * jnp.hstack([-jnp.fliplr(myeye), myeye[:, 1:]])\n",
    "    ws = ws[1:, :]\n",
    "    ws = ws.T\n",
    "    ctrmats = ws[toepindxmat]\n",
    "    derivamats = jnp.einsum('ij,jkm,kl->ilm', stts.conj().T, ctrmats, stts) * jnp.expand_dims(mask, 2)\n",
    "    alldmatimag = -1j*dt*jnp.einsum('ij,jkm,kl->mil', stts, derivamats, stts.conj().T)\n",
    "\n",
    "    alldmat = jnp.vstack([alldmatreal, alldmatimag])\n",
    "\n",
    "    return lmat, alldmat, amat\n",
    "\n",
    "def cgradfn(cffs):\n",
    "    lmat, alldmat, amat = adjhelper(cffs)\n",
    "    # compute all entries of the gradient at once\n",
    "    gradients = jnp.einsum('ij,ajk,ik->a', jnp.conj(lmat[1:, :]), alldmat, amat[:-1, :]).real\n",
    "    return gradients"
   ],
   "metadata": {
    "collapsed": false,
    "pycharm": {
     "name": "#%%\n"
    }
   }
  },
  {
   "cell_type": "code",
   "execution_count": null,
   "outputs": [],
   "source": [],
   "metadata": {
    "collapsed": false,
    "pycharm": {
     "name": "#%%\n"
    }
   }
  }
 ],
 "metadata": {
  "kernelspec": {
   "display_name": "Python 3 (ipykernel)",
   "language": "python",
   "name": "python3"
  },
  "language_info": {
   "codemirror_mode": {
    "name": "ipython",
    "version": 3
   },
   "file_extension": ".py",
   "mimetype": "text/x-python",
   "name": "python",
   "nbconvert_exporter": "python",
   "pygments_lexer": "ipython3",
   "version": "3.9.9"
  }
 },
 "nbformat": 4,
 "nbformat_minor": 5
}