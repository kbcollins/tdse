{
 "cells": [
  {
   "cell_type": "code",
   "execution_count": 1,
   "id": "b56b4e7b-b7e8-4446-a869-dc16fcad25e4",
   "metadata": {},
   "outputs": [],
   "source": [
    "import numpy as np\n",
    "import numpy.linalg as nl\n",
    "import scipy.linalg as sl\n",
    "import scipy.special as sps\n",
    "import scipy.integrate as si\n",
    "import scipy.optimize as spo\n",
    "import matplotlib.pyplot as plt\n",
    "from jax.config import config\n",
    "config.update(\"jax_enable_x64\", True)\n",
    "import jax\n",
    "import jax.numpy as jnp\n",
    "import jax.numpy.linalg as jnpl"
   ]
  },
  {
   "cell_type": "markdown",
   "id": "ad17bee5-e941-4ef1-9314-9ea62ce43504",
   "metadata": {},
   "source": [
    "<h3>TDSE Forward Problem</h3>"
   ]
  },
  {
   "cell_type": "code",
   "execution_count": 2,
   "id": "c7d9113b-b601-4c1d-85e2-ec227a142132",
   "metadata": {},
   "outputs": [],
   "source": [
    "# size of spatial domain\n",
    "L = 10.0\n",
    "\n",
    "# set number of real space grid points for plotting\n",
    "nx = 1025\n",
    "# spatial grid for the purposes of plotting\n",
    "xvec = np.linspace(-L, L, nx)\n",
    "\n",
    "# the basis functions used in our Fourier representation\n",
    "# will be from n = -nF to n = nF\n",
    "nF = 32\n",
    "# matrix for converting Fourier basis coefficients to real space values\n",
    "Fnvec = np.arange(-nF, nF + 1) # Fnvec=-nfb,...,0,...,nfb\n",
    "Fcnvrtmat = np.exp(1j * np.pi * np.outer(Fnvec, xvec) / L) / np.sqrt(2 * L)"
   ]
  },
  {
   "cell_type": "code",
   "execution_count": 3,
   "outputs": [
    {
     "data": {
      "text/plain": "<Figure size 432x288 with 1 Axes>",
      "image/png": "[encoded data removed]"
     },
     "metadata": {
      "needs_background": "light"
     },
     "output_type": "display_data"
    }
   ],
   "source": [
    "# define potential for generating training data\n",
    "\n",
    "def v(x):\n",
    "    # dimensionless quantum harmonic oscillator potential\n",
    "    return 0.5 * x**2\n",
    "    # rescaled symmetric double well potential\n",
    "    # return 0.0025*(x**2 - 25)**2\n",
    "    # scaled asymmetric double well potential\n",
    "    # return 0.0003*((x-3)**4 + 10*(x-5)**3)\n",
    "    # soft coulomb potential\n",
    "    # return -1 / np.sqrt(x**2 + 0.25)\n",
    "\n",
    "# compute true potential\n",
    "vxvec = v(xvec)\n",
    "\n",
    "# plot true potential\n",
    "plt.plot(xvec, vxvec)\n",
    "plt.title('Plot of V(x)')\n",
    "plt.xlabel('x')\n",
    "plt.show()"
   ],
   "metadata": {
    "collapsed": false,
    "pycharm": {
     "name": "#%%\n"
    }
   }
  },
  {
   "cell_type": "code",
   "execution_count": 4,
   "outputs": [],
   "source": [
    "def mkvtoeprowfft(vfn):\n",
    "    # res adjusts the Fourier transform resolution\n",
    "    # if res = 1, then nsamples = 2 * nF, which is the\n",
    "    # Nyquist frequency (most course resolution?)\n",
    "    res = 100\n",
    "    nsamples = res * 2 * nF\n",
    "    x = np.linspace(-L, L, nsamples + 2, endpoint=False)\n",
    "    Fvvecfft = (np.fft.rfft(vfn(x)) / x.size)[:2 * nF +1]\n",
    "    vtoeprow = Fvvecfft * (-1)**np.arange(2 * nF +1)\n",
    "    return vtoeprow"
   ],
   "metadata": {
    "collapsed": false,
    "pycharm": {
     "name": "#%%\n"
    }
   }
  },
  {
   "cell_type": "code",
   "execution_count": 5,
   "outputs": [],
   "source": [
    "def mkvtoeprowquad(vfn):\n",
    "    vtoeprow = []\n",
    "    for thisn in range(2 * nF +1):\n",
    "        def intgrnd(x):\n",
    "            return vfn(x) * np.exp(-1j * np.pi * thisn * x / L) / (2 * L)\n",
    "        def rintgrnd(x):\n",
    "            return intgrnd(x).real\n",
    "        def iintgrnd(x):\n",
    "            return intgrnd(x).imag\n",
    "        vtoeprow.append(si.quad(rintgrnd, -L, L)[0] + 1j * si.quad(iintgrnd, -L, L)[0])\n",
    "    return np.array(vtoeprow)"
   ],
   "metadata": {
    "collapsed": false,
    "pycharm": {
     "name": "#%%\n"
    }
   }
  },
  {
   "cell_type": "code",
   "execution_count": 6,
   "outputs": [
    {
     "name": "stdout",
     "output_type": "stream",
     "text": [
      "FFT vtoeprow vs. exact:\n",
      "6.557417998345006e-06\n",
      "Quad vtoeprow vs. exact:\n",
      "7.393192790593471e-14\n"
     ]
    }
   ],
   "source": [
    "# THIS CELL IS ONLY MEANINGFUL IF v(x) is the SIMPLE HARMONIC OSCILLATOR\n",
    "# this function computes the Fourier representation of harmonic oscillator\n",
    "# exactly (thanks, Mathematica!)\n",
    "\n",
    "def mkvtoeprowharm():\n",
    "    # here is the exact result of the integral\n",
    "    ecfun = lambda i: (L**2 * (2 * i * np.pi * np.cos(i * np.pi) + (-2 + i**2 * np.pi**2) * np.sin(i * np.pi))) / (2.0 * i**3 * np.pi**3)\n",
    "    exactvrow = np.array(list(map(ecfun, np.arange(1, 2 * nF +1))))\n",
    "    exactvrow = np.concatenate([np.array([L**2 / 6.0]), exactvrow])\n",
    "    return exactvrow\n",
    "\n",
    "# let us check which one is more accurate, FFT or quadrature\n",
    "print('FFT vtoeprow vs. exact:', nl.norm(mkvtoeprowfft(v) - mkvtoeprowharm()), sep='\\n')\n",
    "print('Quad vtoeprow vs. exact:', nl.norm(mkvtoeprowquad(v) - mkvtoeprowharm()), sep='\\n')\n",
    "# we see that Fvmat is more accurate so we use that!"
   ],
   "metadata": {
    "collapsed": false,
    "pycharm": {
     "name": "#%%\n"
    }
   }
  },
  {
   "cell_type": "markdown",
   "source": [
    "---\n",
    "**Eigendecomposition of a Fourier Represented Potential**"
   ],
   "metadata": {
    "collapsed": false,
    "pycharm": {
     "name": "#%% md\n"
    }
   }
  },
  {
   "cell_type": "code",
   "execution_count": 7,
   "id": "7b241039-f314-4730-9423-644b4d59fac0",
   "metadata": {
    "pycharm": {
     "name": "#%%\n"
    }
   },
   "outputs": [
    {
     "name": "stdout",
     "output_type": "stream",
     "text": [
      "hmat Hermitian check (should be close to zero):\n",
      "0.0\n",
      "Check if hmat is diagonalized (should be close to zero):\n",
      "3.4573612129362984e-13\n",
      "Unitary stts check (should be close to zero):\n",
      "1.2311137659355504e-14\n"
     ]
    }
   ],
   "source": [
    "# construct the kinetic matrix representation of the\n",
    "# kinetic operator in the Fourier basis\n",
    "# (this is constant for a given system)\n",
    "kmat = np.diag(np.arange(-nF, nF + 1)**2 * np.pi**2 / (2 * L**2))\n",
    "\n",
    "# use mkvtoeprowquad() to create Toeplitz matrix\n",
    "vrowquad = mkvtoeprowquad(v)\n",
    "Fvmat = sl.toeplitz(r=vrowquad, c=vrowquad.conj())\n",
    "\n",
    "# construct the Hamiltonian matrix representation of the\n",
    "# Hamiltonian operator in the Fourier basis\n",
    "Fhmat = kmat + Fvmat\n",
    "\n",
    "# check if the Hamiltonian matrix is Hermitian\n",
    "print('hmat Hermitian check (should be close to zero):', nl.norm(Fhmat - Fhmat.T.conj()), sep='\\n')\n",
    "\n",
    "# eigen-decomposition of the Hamiltonian matrix\n",
    "Fspc, Fstts = nl.eigh(Fhmat)\n",
    "\n",
    "# check if the eigendecomposition diagonalizes the\n",
    "# Hamiltonian matrix\n",
    "# if this is close to zero then\n",
    "# hmat = states @ np.diag(spec) @ np.conj(states).T\n",
    "print('Check if hmat is diagonalized (should be close to zero):', nl.norm(Fhmat @ Fstts - Fstts @ np.diag(Fspc)), sep='\\n')\n",
    "\n",
    "# check if the eigenstates are unitary\n",
    "print('Unitary stts check (should be close to zero):', nl.norm(Fstts @ Fstts.T.conj() - np.eye(2 * nF + 1)), sep='\\n')"
   ]
  },
  {
   "cell_type": "code",
   "execution_count": 8,
   "outputs": [
    {
     "name": "stdout",
     "output_type": "stream",
     "text": [
      "[0.5 1.5 2.5 3.5 4.5 5.5]\n"
     ]
    },
    {
     "data": {
      "text/plain": "<Figure size 432x288 with 1 Axes>",
      "image/png": "[encoded data removed]"
     },
     "metadata": {
      "needs_background": "light"
     },
     "output_type": "display_data"
    },
    {
     "name": "stdout",
     "output_type": "stream",
     "text": [
      "Quick check of normalization (should be close to 1):\n",
      "0.9999999999999996\n",
      "Check of normalization (should be close to 1):\n",
      "0.9999999999999994\n"
     ]
    }
   ],
   "source": [
    "# find indices that sort eigenvalues\n",
    "ordering = np.argsort(Fspc)\n",
    "\n",
    "# print the first few eigenvalues\n",
    "print(Fspc[ordering[:6]])\n",
    "\n",
    "# pick out and plot ground state\n",
    "groundstate = ordering[0]\n",
    "wavefn = Fstts[:,groundstate] @ Fcnvrtmat\n",
    "plt.plot(xvec, np.real(wavefn))\n",
    "plt.title('Ground state')\n",
    "plt.xlabel('x')\n",
    "plt.show()\n",
    "\n",
    "# quick and dirty check of normalization\n",
    "print('Quick check of normalization (should be close to 1):', np.sum(np.abs(wavefn)**2 * (xvec[1]-xvec[0])), sep='\\n')\n",
    "\n",
    "# this should be a more accurate check of the ground state\n",
    "# wave functions' normalization\n",
    "print('Check of normalization (should be close to 1):', si.trapezoid(np.abs(wavefn)**2, xvec), sep='\\n')"
   ],
   "metadata": {
    "collapsed": false,
    "pycharm": {
     "name": "#%%\n"
    }
   }
  },
  {
   "cell_type": "markdown",
   "source": [
    "---\n",
    "**Set up of the Chebyshev Representation**"
   ],
   "metadata": {
    "collapsed": false,
    "pycharm": {
     "name": "#%% md\n"
    }
   }
  },
  {
   "cell_type": "code",
   "execution_count": 9,
   "outputs": [
    {
     "name": "stdout",
     "output_type": "stream",
     "text": [
      "[ 2.50000000e+01  4.73695157e-15  2.50000000e+01  3.55271368e-15\n",
      " -9.47390314e-15  2.13162821e-14 -5.92118946e-15  1.42108547e-14\n",
      " -1.06581410e-14  1.65793305e-14 -3.43428989e-14  2.13162821e-14]\n"
     ]
    },
    {
     "data": {
      "text/plain": "<Figure size 432x288 with 1 Axes>",
      "image/png": "[encoded data removed]"
     },
     "metadata": {
      "needs_background": "light"
     },
     "output_type": "display_data"
    },
    {
     "name": "stdout",
     "output_type": "stream",
     "text": [
      "L-infinity Norm:\n",
      "1.5631940186722204e-13\n"
     ]
    }
   ],
   "source": [
    "# let represents the potential function, v(x), using\n",
    "# Chebyshev polynomials\n",
    "# for the simple harmonic potential this should be\n",
    "# exact because v(x) IS a polynomial\n",
    "\n",
    "nc = 11\n",
    "\n",
    "def theta(k):\n",
    "    return (k - 0.5) * np.pi / (nc + 1)\n",
    "\n",
    "def g(k):\n",
    "    # cos(\\theta) ranges from [-1, 1] which is the domain\n",
    "    # of the Chebyshev interpolation function so we need to\n",
    "    # modify v()'s so when it is given x \\in [-1, 1], it\n",
    "    # actually spans the domain [-L, L]\n",
    "    # to do that, we multiply by np.cos(theta(k)) by L\n",
    "    return v(L * np.cos(theta(k)))\n",
    "\n",
    "kvec = np.arange(1, nc + 2)\n",
    "cnvec = np.arange(0, nc + 1)\n",
    "\n",
    "cweights = np.ones(nc + 1)\n",
    "cweights[0] = 0.5\n",
    "\n",
    "# compute Chebyshev coefficients\n",
    "cvec = 2 / (nc + 1) * np.sum(g(kvec) * np.cos(cnvec[..., np.newaxis] * theta(kvec)), axis=1)\n",
    "cvec = cweights * cvec\n",
    "print(cvec)\n",
    "\n",
    "ctoxmat = sps.eval_chebyt(np.expand_dims(cnvec, 0), np.expand_dims(xvec / L, 1))\n",
    "vrec = ctoxmat @ cvec\n",
    "\n",
    "# plot reconstruction vs truth\n",
    "plt.plot(xvec, vrec, label='cheb')\n",
    "plt.plot(xvec, vxvec, label='True')\n",
    "plt.title(f'Approx vs. True for n={nc}')\n",
    "plt.legend()\n",
    "plt.show()\n",
    "\n",
    "# Linfty norm error\n",
    "print('L-infinity Norm:', np.max(np.abs(v(xvec) - vrec)), sep='\\n')"
   ],
   "metadata": {
    "collapsed": false,
    "pycharm": {
     "name": "#%%\n"
    }
   }
  },
  {
   "cell_type": "markdown",
   "source": [
    "---\n",
    "**Form the Potential Matrix from the Chebyshev Representation**"
   ],
   "metadata": {
    "collapsed": false,
    "pycharm": {
     "name": "#%% md\n"
    }
   }
  },
  {
   "cell_type": "code",
   "execution_count": 10,
   "outputs": [
    {
     "name": "stdout",
     "output_type": "stream",
     "text": [
      "(65, 12)\n"
     ]
    }
   ],
   "source": [
    "# now form the entries of vmat from the Chebyshev\n",
    "# representation by quadrature method\n",
    "\n",
    "# this function returns the chebyshev approximation of\n",
    "# the potential at some spatial point x, this is needed\n",
    "# for transforming the Chebyshev coefficients to the\n",
    "# Fourier representation by quadrature method\n",
    "# def vchebaprx(x):\n",
    "    # don't forget the interval of the argument x is [-L, L]\n",
    "    # but for the chebyshev representation it needs to be\n",
    "    # [-1, 1] so we need to divide x by L\n",
    "    # return sps.eval_chebyt(np.expand_dims(cnvec, 0), x / L) @ cvec\n",
    "\n",
    "# compute the Fourier representation of the Chebyshev\n",
    "# coefficients of the true potential\n",
    "# cvrowquad = np.zeros(2 * nF + 1, dtype=np.complex128)\n",
    "# for thisn in range(2 * nF + 1):\n",
    "#     def intgrnd(x):\n",
    "#         return vchebaprx(x) * np.exp(-1j * np.pi * thisn * x / L) / (2 * L)\n",
    "#     def rintgrnd(x):\n",
    "#         return intgrnd(x).real\n",
    "#     def iintgrnd(x):\n",
    "#         return intgrnd(x).imag\n",
    "#     cvrowquad[thisn] = si.quad(rintgrnd, -L, L)[0] + 1j * si.quad(iintgrnd, -L, L)[0]\n",
    "\n",
    "cmat = np.zeros((2 * nF + 1, nc + 1), dtype=np.complex128)\n",
    "for thiscn in range(nc + 1):\n",
    "    for thisn in range(2 * nF + 1):\n",
    "        def intgrnd(x):\n",
    "            tvec = lambda x: sps.eval_chebyt(np.expand_dims(thiscn, 0), x / L)\n",
    "            return tvec(x) * np.exp(-1j * np.pi * thisn * x / L) / (2 * L)\n",
    "        def rintgrnd(x):\n",
    "            return intgrnd(x).real\n",
    "        def iintgrnd(x):\n",
    "            return intgrnd(x).imag\n",
    "\n",
    "        cmat[thisn, thiscn] = si.quad(rintgrnd, -L, L)[0] + 1j * si.quad(iintgrnd, -L, L)[0]\n",
    "\n",
    "print(cmat.shape)"
   ],
   "metadata": {
    "collapsed": false,
    "pycharm": {
     "name": "#%%\n"
    }
   }
  },
  {
   "cell_type": "code",
   "execution_count": 11,
   "outputs": [
    {
     "name": "stdout",
     "output_type": "stream",
     "text": [
      "L2 Norm Error: 2.610274033911567e-13\n",
      "L-infinity Error: 1.6643382799970866e-13\n"
     ]
    }
   ],
   "source": [
    "cvrowquad = cmat @ cvec\n",
    "\n",
    "# check how much cvrowquad differ from vrowquad\n",
    "# (i.e., compare the potential in the Fourier representation\n",
    "# to the potential in the Chebyshev representation which has\n",
    "# been transformed to the Fourier representation)\n",
    "print('L2 Norm Error:', nl.norm(vrowquad - cvrowquad))\n",
    "print('L-infinity Error:', np.max(np.abs(vrowquad - cvrowquad)))\n"
   ],
   "metadata": {
    "collapsed": false,
    "pycharm": {
     "name": "#%%\n"
    }
   }
  },
  {
   "cell_type": "markdown",
   "source": [
    "---\n",
    "**Eigendecomposition of a Chebyshev Represented Potential**"
   ],
   "metadata": {
    "collapsed": false
   }
  },
  {
   "cell_type": "code",
   "execution_count": 12,
   "outputs": [
    {
     "name": "stdout",
     "output_type": "stream",
     "text": [
      "hmat Hermitian check (should be close to zero):\n",
      "0.0\n",
      "Check if hmat is diagonalized (should be close to zero):\n",
      "3.264297626570781e-13\n",
      "Unitary stts check (should be close to zero):\n",
      "1.1878611598105484e-14\n"
     ]
    }
   ],
   "source": [
    "# Let's compare the Hamiltonian matrix and its\n",
    "# eigendecomposition for the Chebyshev representation\n",
    "# of the potential to the Fourier representation of\n",
    "# of the potential\n",
    "cvmat = sl.toeplitz(r=cvrowquad, c=cvrowquad.conj())\n",
    "\n",
    "# construct the Hamiltonian matrix representation of the\n",
    "# Hamiltonian operator in the Fourier basis\n",
    "chmat = kmat + cvmat\n",
    "\n",
    "# check if the Hamiltonian matrix is Hermitian\n",
    "print('hmat Hermitian check (should be close to zero):', nl.norm(chmat - chmat.T.conj()), sep='\\n')\n",
    "\n",
    "# eigendecomposition of the Hamiltonian matrix\n",
    "cspc, cstts = nl.eigh(chmat)\n",
    "\n",
    "# check if the eigendecomposition diagonalizes the\n",
    "# Hamiltonian matrix\n",
    "# if this is close to zero then\n",
    "# hmat = states @ np.diag(spec) @ np.conj(states).T\n",
    "print('Check if hmat is diagonalized (should be close to zero):', nl.norm(chmat @ cstts - cstts @ np.diag(cspc)), sep='\\n')\n",
    "\n",
    "# check if the eigenstates are unitary\n",
    "print('Unitary stts check (should be close to zero):', nl.norm(cstts @ cstts.T.conj() - np.eye(2 * nF + 1)), sep='\\n')"
   ],
   "metadata": {
    "collapsed": false,
    "pycharm": {
     "name": "#%%\n"
    }
   }
  },
  {
   "cell_type": "markdown",
   "source": [
    "---\n",
    "**Define the Initial Wave Function and Transform it to the Fourier Representation**"
   ],
   "metadata": {
    "collapsed": false,
    "pycharm": {
     "name": "#%% md\n"
    }
   }
  },
  {
   "cell_type": "code",
   "execution_count": 13,
   "outputs": [
    {
     "data": {
      "text/plain": "<Figure size 432x288 with 1 Axes>",
      "image/png": "[encoded data removed]"
     },
     "metadata": {
      "needs_background": "light"
     },
     "output_type": "display_data"
    },
    {
     "name": "stdout",
     "output_type": "stream",
     "text": [
      "L2 Error: 7.817141183566903e-12\n",
      "L-infinity Error: 4.1810999107383395e-13\n"
     ]
    }
   ],
   "source": [
    "# define initial state and transform to Fourier basis\n",
    "\n",
    "def psi0(x):\n",
    "    # rounded box function\n",
    "    # return 1.0 + np.tanh((1 - x**2)/0.5)\n",
    "    # triangular pulse\n",
    "    # return np.piecewise(x, [x < -1, (x >= -1) & (x <= 1), x > 1], [0, lambda x: (1 - np.abs(x)), 0])\n",
    "    # parabolic pulse\n",
    "    # return np.piecewise(x, [x < -1, (x >= -1) & (x <= 1), x > 1], [0, lambda x: (1 - x**2), 0])\n",
    "    # hyperbolic secant squared\n",
    "    # return (np.cosh(x))**(-2)\n",
    "    # Laplace\n",
    "    # return np.exp(-np.abs(x))\n",
    "    # a Gaussian with L^2 norm = 1\n",
    "    # HSB's \"super simple initial condition\"\n",
    "    return np.exp(-x**2) * (2.0 / np.pi)**0.25\n",
    "\n",
    "# WHEN NOT USING GAUSSIAN WITH L^2 NORM = 1\n",
    "# compute psi0 normalization term\n",
    "# psi0probintgrnd = lambda x: np.abs(psi0(x))**2\n",
    "# psi0normtrm = np.sqrt(si.quad(psi0probintgrnd, -L, L)[0])\n",
    "# define function for computing normalized psi\n",
    "# via scipy.integrate methods\n",
    "# def normpsi0fn(x):\n",
    "#     return psi0(x)/psi0normtrm\n",
    "\n",
    "# WHEN USING GAUSSIAN WITH L^2 NORM = 1\n",
    "normpsi0fn = psi0\n",
    "\n",
    "# compute the Fourier basis representation of the\n",
    "# normalized psi0 function using quadrature method\n",
    "normpsi0quad = np.zeros(nF + 1, dtype=np.complex128)\n",
    "for thisn in range (nF + 1):\n",
    "    def intgrnd(x):\n",
    "        return normpsi0fn(x) * np.exp(-1j * np.pi * thisn * x / L) / np.sqrt(2 * L)\n",
    "    def rintgrnd(x):\n",
    "        return intgrnd(x).real\n",
    "    def iintgrnd(x):\n",
    "        return intgrnd(x).imag\n",
    "    normpsi0quad[thisn] = si.quad(rintgrnd, -L, L)[0] + 1j*si.quad(iintgrnd, -L, L)[0]\n",
    "\n",
    "ainit = np.concatenate([np.conjugate(np.flipud(normpsi0quad[1:])), normpsi0quad])\n",
    "\n",
    "normpsi0vecrec = ainit @ Fcnvrtmat\n",
    "normpsi0vec = normpsi0fn(xvec)\n",
    "\n",
    "# plot the real part of the normalized psi0\n",
    "plt.plot(xvec, normpsi0vecrec.real, label=\"Rec\")\n",
    "plt.plot(xvec, normpsi0vec.real, label=\"Truth\")\n",
    "plt.title('Real Part of Initial Wave Function')\n",
    "plt.xlabel('x')\n",
    "plt.legend()\n",
    "plt.show()\n",
    "\n",
    "print('L2 Error:', nl.norm(normpsi0vecrec - normpsi0vec))\n",
    "print('L-infinity Error:', np.max(np.abs(normpsi0vecrec - normpsi0vec)))"
   ],
   "metadata": {
    "collapsed": false,
    "pycharm": {
     "name": "#%%\n"
    }
   }
  },
  {
   "cell_type": "markdown",
   "source": [
    "---\n",
    "<h3>Foward Propagation</h3>"
   ],
   "metadata": {
    "collapsed": false,
    "pycharm": {
     "name": "#%% md\n"
    }
   }
  },
  {
   "cell_type": "code",
   "execution_count": 14,
   "outputs": [],
   "source": [
    "# solve the forward problem in the Fourier\n",
    "# representation and store the trajectory\n",
    "# in Famat\n",
    "\n",
    "# set the size of a time step\n",
    "dt = 1e-2\n",
    "\n",
    "# set the number of time steps to take starting from\n",
    "# the initial state (a single trajectory should be\n",
    "# nts + 1 states, this includes the initial state)\n",
    "ntsteps = 100\n"
   ],
   "metadata": {
    "collapsed": false,
    "pycharm": {
     "name": "#%%\n"
    }
   }
  },
  {
   "cell_type": "markdown",
   "source": [
    "---\n",
    "**Forward Propagation of ainit using the Potential in Fourier Representation**"
   ],
   "metadata": {
    "collapsed": false
   }
  },
  {
   "cell_type": "code",
   "execution_count": 15,
   "outputs": [
    {
     "data": {
      "text/plain": "<Figure size 432x288 with 1 Axes>",
      "image/png": "[encoded data removed]"
     },
     "metadata": {
      "needs_background": "light"
     },
     "output_type": "display_data"
    },
    {
     "name": "stdout",
     "output_type": "stream",
     "text": [
      "Average Norm of Trajectory (should be close to 1):\n",
      "0.9999999999999498\n"
     ]
    }
   ],
   "source": [
    "# compute the propagator matrix reusing the\n",
    "# spectrum and states from the eigendecomposition\n",
    "# of Hamiltonian matrix computed above\n",
    "Fpropa = Fstts @ np.diag(np.exp(-1j * Fspc * dt)) @ Fstts.conj().T\n",
    "\n",
    "# propagate the system starting from the initial \"a\" state\n",
    "Famat = np.zeros((ntsteps + 1, 2 * nF + 1), dtype=np.complex128)\n",
    "Famat[0] = ainit.copy()\n",
    "for i in range(ntsteps):\n",
    "    Famat[i + 1] = Fpropa @ Famat[i]\n",
    "\n",
    "# compute the wave function in space from each \"a\" vector\n",
    "# do it all at once using matrix multiplication!\n",
    "Fpsimat = Famat @ Fcnvrtmat\n",
    "\n",
    "# check if the wave function of each time step\n",
    "# is normalized to 1\n",
    "# this should produce a graph with a line that is almost\n",
    "# completely horizontal at 1\n",
    "Fpsimatnormvec = si.trapezoid(np.abs(Fpsimat) ** 2, xvec, axis=1)\n",
    "plt.plot(np.arange(ntsteps + 1) * dt, Fpsimatnormvec)\n",
    "plt.hlines(1 , 0, ntsteps * dt, linestyles='-.', colors='darkorange')\n",
    "plt.title('Normalization of the Wave Function\\nas a Function of Time\\n')\n",
    "plt.xlabel('Time')\n",
    "plt.ylabel('Norm')\n",
    "plt.show()\n",
    "\n",
    "# norm difference of wave function normalization check,\n",
    "# this should be close to 1\n",
    "print('Average Norm of Trajectory (should be close to 1):', Fpsimatnormvec.sum() / (ntsteps + 1), sep='\\n')"
   ],
   "metadata": {
    "collapsed": false,
    "pycharm": {
     "name": "#%%\n"
    }
   }
  },
  {
   "cell_type": "markdown",
   "source": [
    "---\n",
    "**Forward Propagation of ainit using the Potential in the Cheybshev Representation**"
   ],
   "metadata": {
    "collapsed": false
   }
  },
  {
   "cell_type": "code",
   "execution_count": 16,
   "outputs": [
    {
     "data": {
      "text/plain": "<Figure size 432x288 with 1 Axes>",
      "image/png": "[encoded data removed]"
     },
     "metadata": {
      "needs_background": "light"
     },
     "output_type": "display_data"
    },
    {
     "name": "stdout",
     "output_type": "stream",
     "text": [
      "Average Norm of Trajectory (should be close to 1):\n",
      "0.9999999999999516\n"
     ]
    }
   ],
   "source": [
    "# solve the forward problem in the Chebyshev\n",
    "# representation and store the trajectory\n",
    "# in camat\n",
    "\n",
    "# compute the propagator matrix reusing the\n",
    "# spectrum and states from the eigendecomposition\n",
    "# of Hamiltonian matrix computed above\n",
    "# cspc, cstts\n",
    "cpropa = cstts @ np.diag(np.exp(-1j * cspc * dt)) @ cstts.conj().T\n",
    "\n",
    "# propagate the system starting from the initial \"a\" state\n",
    "camat = np.zeros((ntsteps + 1, 2 * nF + 1), dtype=np.complex128)\n",
    "camat[0] = ainit.copy()\n",
    "for i in range(ntsteps):\n",
    "    camat[i + 1,:] = cpropa @ camat[i,:]\n",
    "\n",
    "# compute the wave function in space from each \"a\" vector\n",
    "# do it all at once using matrix multiplication!\n",
    "cpsimat = camat @ Fcnvrtmat\n",
    "\n",
    "# check if the wave function of each time step\n",
    "# is normalized to 1\n",
    "# this should produce a graph with a line that is almost\n",
    "# completely horizontal at 1\n",
    "cpsimatnormvec = si.trapezoid(np.abs(cpsimat) ** 2, xvec, axis=1)\n",
    "plt.plot(np.arange(ntsteps + 1) * dt, cpsimatnormvec)\n",
    "plt.hlines(1 , 0, ntsteps * dt, linestyles='-.', colors='darkorange')\n",
    "plt.title('Normalization of the Wave Function\\nas a Function of Time\\n')\n",
    "plt.xlabel('Time')\n",
    "plt.ylabel('Norm')\n",
    "plt.show()\n",
    "\n",
    "# norm difference of wave function normalization check,\n",
    "# this should be close to 1\n",
    "print('Average Norm of Trajectory (should be close to 1):', cpsimatnormvec.sum() / (ntsteps + 1), sep='\\n')"
   ],
   "metadata": {
    "collapsed": false,
    "pycharm": {
     "name": "#%%\n"
    }
   }
  },
  {
   "cell_type": "markdown",
   "source": [
    "---"
   ],
   "metadata": {
    "collapsed": false,
    "pycharm": {
     "name": "#%% md\n"
    }
   }
  },
  {
   "cell_type": "code",
   "execution_count": 17,
   "outputs": [
    {
     "name": "stdout",
     "output_type": "stream",
     "text": [
      "L2 Error of cpsimat to Fpsimat (should be close to 0):\n",
      "2.847343220844176e-12\n"
     ]
    },
    {
     "data": {
      "text/plain": "<Figure size 432x288 with 1 Axes>",
      "image/png": "[encoded data removed]"
     },
     "metadata": {
      "needs_background": "light"
     },
     "output_type": "display_data"
    },
    {
     "name": "stdout",
     "output_type": "stream",
     "text": [
      "L2 Error of camat to Famat (should be close to 0):\n",
      "3.9792013400828794e-13\n"
     ]
    }
   ],
   "source": [
    "# evaluate the difference of the forward propagation of\n",
    "# the potential in the Fourier representation to the\n",
    "# potential in the Chebyshev representation\n",
    "\n",
    "print('L2 Error of cpsimat to Fpsimat (should be close to 0):', nl.norm(Fpsimat - cpsimat), sep='\\n')\n",
    "\n",
    "plt.plot(nl.norm(Fpsimat - cpsimat, axis=1), '.')\n",
    "plt.title('L2 Error of cpsimat to Fpsimat\\nfor Each Time Step')\n",
    "plt.show()\n",
    "\n",
    "print('L2 Error of camat to Famat (should be close to 0):', nl.norm(Famat - camat), sep='\\n')\n",
    "\n",
    "# plt.plot(nl.norm(camat - Famat, axis=1), '.')\n",
    "# plt.title('L2 Error of camat to Famat\\nfor Each Time Step')\n",
    "# plt.show()\n"
   ],
   "metadata": {
    "collapsed": false,
    "pycharm": {
     "name": "#%%\n"
    }
   }
  },
  {
   "cell_type": "markdown",
   "source": [
    "---\n",
    "<h3>Inverse Problem - Adjoint Method</h3>"
   ],
   "metadata": {
    "collapsed": false,
    "pycharm": {
     "name": "#%% md\n"
    }
   }
  },
  {
   "cell_type": "code",
   "execution_count": 18,
   "outputs": [],
   "source": [
    "# form the entries of vmat from the Chebyshev\n",
    "# representation by quadrature method\n",
    "\n",
    "# def ctoF(cffs):\n",
    "    # this function returns the chebyshev approximation give\n",
    "    # a set of chebyshev coefficients at some point x\n",
    "    # this is needed for transforming the Chebyshev coefficients\n",
    "    # to the Fourier representation by quadrature method\n",
    "    # def caprx(x):\n",
    "        # interval of the argument x is [-L, L] but the\n",
    "        # chebyshev representation needs to be [-1, 1]\n",
    "        # so we divide x by L\n",
    "        # return sps.eval_chebyt(np.expand_dims(cnvec, 0), x / L) @ cffs\n",
    "\n",
    "    # compute the Fourier representation of the Chebyshev\n",
    "    # coefficients by quadrature method\n",
    "    # Fcaprx = []\n",
    "    # for thisn in range(2 * nF + 1):\n",
    "    #     def intgrnd(x):\n",
    "    #         return caprx(x) * np.exp(-1j * np.pi * thisn * x / L) / (2 * L)\n",
    "    #     def rintgrnd(x):\n",
    "    #         return intgrnd(x).real\n",
    "    #     def iintgrnd(x):\n",
    "    #         return intgrnd(x).imag\n",
    "    #     Fcaprx.append(si.quad(rintgrnd, -L, L)[0] + 1j * si.quad(iintgrnd, -L, L)[0])\n",
    "\n",
    "    # return jnp.array(Fcaprx, dtype=jnp.complex128)\n",
    "\n",
    "# both these results were constructed the same way and with the same\n",
    "# chebyshev coefficients so this should be zero (or super close to it)\n",
    "# print('L2 Error:', jnpl.norm(cvrowquad - ctoF(cvec)))"
   ],
   "metadata": {
    "collapsed": false,
    "pycharm": {
     "name": "#%%\n"
    }
   }
  },
  {
   "cell_type": "code",
   "execution_count": 19,
   "outputs": [
    {
     "name": "stdout",
     "output_type": "stream",
     "text": [
      "(65, 65)\n",
      "(65, 12)\n"
     ]
    }
   ],
   "source": [
    "# make the potential matrix from a set of chebyshev\n",
    "# coefficients\n",
    "\n",
    "# code need to make toeplitz matrix from the Fourier\n",
    "# representation with JAX\n",
    "# def Ftoeplitz(row):\n",
    "#     numtoepelms = 2 * nF + 1\n",
    "#     a = (-1) * np.arange(0, numtoepelms).reshape(numtoepelms, 1)\n",
    "#     b = [np.arange(numtoepelms - 1, 2 * numtoepelms -1)]\n",
    "#     toepindxmat = jnp.array(a + b)\n",
    "#     flattoepvec = jnp.concatenate([jnp.flipud(row.conj()), row[1:]])\n",
    "#     return flattoepvec[toepindxmat]\n",
    "\n",
    "numtoepelms = 2 * nF + 1\n",
    "a = (-1) * np.arange(0, numtoepelms).reshape(numtoepelms, 1)\n",
    "b = [np.arange(numtoepelms - 1, 2 * numtoepelms -1)]\n",
    "toepindxmat = jnp.array(a + b)\n",
    "print(toepindxmat.shape)\n",
    "\n",
    "jaxcmat = jnp.array(cmat)\n",
    "print(jaxcmat.shape)\n",
    "# print(jaxcmat)\n",
    "\n",
    "# def ctovmat(cffs):\n",
    "#     cvrow = jaxcmat @ cffs\n",
    "#     return Ftoeplitz(cvrow)\n",
    "\n",
    "# both these results were constructed the same way and with the same\n",
    "# chebyshev coefficients so this should be zero (or super close to it)\n",
    "# print('L2 Error:', jnpl.norm(cvmat - ctovmat(cvec)))"
   ],
   "metadata": {
    "collapsed": false,
    "pycharm": {
     "name": "#%%\n"
    }
   }
  },
  {
   "cell_type": "code",
   "execution_count": 20,
   "outputs": [],
   "source": [
    "def cobjfn(cffs):\n",
    "    # construct the vmat from Chebyshev coefficients\n",
    "    # vmat = ctovmat(cffs)\n",
    "    cvrow = jaxcmat @ cffs\n",
    "    flattoepvec = jnp.concatenate([jnp.flipud(cvrow.conj()), cvrow[1:]])\n",
    "    vmat = jnp.array(flattoepvec[toepindxmat])\n",
    "\n",
    "    # construct the Hamiltonian matrix\n",
    "    hmat = kmat + vmat\n",
    "\n",
    "    # eigendecomposition of the Hamiltonian matrix\n",
    "    spc, stts = jnpl.eigh(hmat)\n",
    "\n",
    "    # compute the propagator matrix using the\n",
    "    # result of the eigendecomposition\n",
    "    propamat = stts @ jnp.diag(jnp.exp(-1j * spc * dt)) @ stts.conj().T\n",
    "\n",
    "    # propagate the system starting from ainit\n",
    "    # using propamat, i.e., solve the forward problem\n",
    "    amat = [ainit]\n",
    "    for i in range(ntsteps):\n",
    "        amat.append(propamat @ amat[i])\n",
    "\n",
    "    # make python list of Fourier basis wave functions\n",
    "    # a jax object\n",
    "    amat = jnp.stack(amat)\n",
    "\n",
    "    # compute the objective\n",
    "    residue = amat - Famat\n",
    "    objective = 0.5 * jnp.real(jnp.sum(residue.conj() * residue))\n",
    "\n",
    "    return objective"
   ],
   "metadata": {
    "collapsed": false,
    "pycharm": {
     "name": "#%%\n"
    }
   }
  },
  {
   "cell_type": "code",
   "execution_count": 21,
   "outputs": [
    {
     "data": {
      "text/plain": "DeviceArray(2.81563628e-25, dtype=float64)"
     },
     "execution_count": 21,
     "metadata": {},
     "output_type": "execute_result"
    }
   ],
   "source": [
    "# check if the objective function gives zero when the\n",
    "# chebyshev coefficients of the true potential are fed in\n",
    "# this should produce a result which is very close to zero\n",
    "cobjfn(cvec)"
   ],
   "metadata": {
    "collapsed": false,
    "pycharm": {
     "name": "#%%\n"
    }
   }
  },
  {
   "cell_type": "code",
   "execution_count": 22,
   "outputs": [],
   "source": [
    "jitcobjfn = jax.jit(cobjfn)"
   ],
   "metadata": {
    "collapsed": false,
    "pycharm": {
     "name": "#%%\n"
    }
   }
  },
  {
   "cell_type": "code",
   "execution_count": 23,
   "outputs": [
    {
     "data": {
      "text/plain": "DeviceArray(2.81563628e-25, dtype=float64)"
     },
     "execution_count": 23,
     "metadata": {},
     "output_type": "execute_result"
    }
   ],
   "source": [
    "jitcobjfn(cvec)"
   ],
   "metadata": {
    "collapsed": false,
    "pycharm": {
     "name": "#%%\n"
    }
   }
  },
  {
   "cell_type": "code",
   "execution_count": 24,
   "outputs": [],
   "source": [
    "jaccobjfn = jax.jit(jax.jacrev(cobjfn))"
   ],
   "metadata": {
    "collapsed": false,
    "pycharm": {
     "name": "#%%\n"
    }
   }
  },
  {
   "cell_type": "code",
   "execution_count": 25,
   "outputs": [
    {
     "data": {
      "text/plain": "DeviceArray([ 1.52347416e-12, -7.36678952e-14, -1.52327866e-12,\n              2.17363546e-13,  1.52175557e-12, -3.50377373e-13,\n             -1.51626876e-12,  4.66363876e-13,  1.50296974e-12,\n             -5.60075451e-13, -1.47750536e-12,  6.27679524e-13],            dtype=float64)"
     },
     "execution_count": 25,
     "metadata": {},
     "output_type": "execute_result"
    }
   ],
   "source": [
    "# check if the JAX grad of the objective function works\n",
    "# this should give all zeros (or close to that)\n",
    "jaccobjfn(cvec)"
   ],
   "metadata": {
    "collapsed": false,
    "pycharm": {
     "name": "#%%\n"
    }
   }
  },
  {
   "cell_type": "markdown",
   "source": [
    "---\n",
    "**Initialize with true coefficients perturbed by random normally distributed noise**"
   ],
   "metadata": {
    "collapsed": false
   }
  },
  {
   "cell_type": "code",
   "execution_count": 26,
   "outputs": [],
   "source": [
    "# easy test case: initialize theta with true theta perturbed with\n",
    "# random normally distributed noise with a small variance.\n",
    "# This should be easy for the optimizer to converge to a good minimum\n",
    "\n",
    "seed = 1234  # set to None for random initialization\n",
    "cfftrub = cvec.copy()\n",
    "cfftrub += 0.25 * np.random.default_rng(seed).normal(size=cvec.shape)\n",
    "# cfftrub += 5.0 * np.random.default_rng(seed).normal(size=cvec.shape)"
   ],
   "metadata": {
    "collapsed": false,
    "pycharm": {
     "name": "#%%\n"
    }
   }
  },
  {
   "cell_type": "code",
   "execution_count": 27,
   "outputs": [
    {
     "name": "stdout",
     "output_type": "stream",
     "text": [
      "1.4610407983946736\n",
      "[-9.8319456  -0.03972502  9.75521934  0.11870942 -9.52906297 -0.19620117\n",
      "  9.16515042  0.27091713 -8.68168677 -0.34124206  8.10172642  0.40526617]\n"
     ]
    }
   ],
   "source": [
    "print(cobjfn(cfftrub))\n",
    "print(jaccobjfn(cfftrub))"
   ],
   "metadata": {
    "collapsed": false,
    "pycharm": {
     "name": "#%%\n"
    }
   }
  },
  {
   "cell_type": "code",
   "execution_count": 35,
   "outputs": [
    {
     "name": "stdout",
     "output_type": "stream",
     "text": [
      "Warning: Desired error not necessarily achieved due to precision loss.\n",
      "         Current function value: 0.000000\n",
      "         Iterations: 108\n",
      "         Function evaluations: 160\n",
      "         Gradient evaluations: 149\n"
     ]
    }
   ],
   "source": [
    "restrub = spo.minimize(cobjfn, cfftrub, jac=jaccobjfn, tol=1e-12, options={'maxiter': 200, 'disp': True, 'gtol': 1e-15}).x"
   ],
   "metadata": {
    "collapsed": false,
    "pycharm": {
     "name": "#%%\n"
    }
   }
  },
  {
   "cell_type": "code",
   "execution_count": 37,
   "outputs": [
    {
     "name": "stdout",
     "output_type": "stream",
     "text": [
      "truth:\n",
      "[ 2.50000000e+01  4.73695157e-15  2.50000000e+01  3.55271368e-15\n",
      " -9.47390314e-15  2.13162821e-14 -5.92118946e-15  1.42108547e-14\n",
      " -1.06581410e-14  1.65793305e-14 -3.43428989e-14  2.13162821e-14]\n",
      "learned:\n",
      "[ 2.50479878e+01 -8.08239602e-02  2.50204067e+01  2.71431986e-01\n",
      " -9.53780541e-02  4.89541266e-01 -1.09129166e-01  3.62131141e-01\n",
      " -5.03545805e-02  1.34603707e-01 -9.02271061e-03  2.08288468e-02]\n",
      "Initial cffs L2 error: 1.128349350978641\n",
      "Learned cffs L2 error: 0.7041958870019621\n",
      "Initial cffs L-infinity error: 0.7282748056259928\n",
      "Learned cffs L-infinity error: 0.4895412656958722\n",
      "objective for results: 3.1572739777493438e-12\n",
      "grad norm for results: 3.851960576194751e-11\n",
      "grads for results:\n",
      "[ 2.07284317e-11 -1.58123827e-12 -8.62655050e-12 -1.56506205e-12\n",
      "  3.63801094e-12  7.25672601e-12 -2.58338889e-11 -1.44822878e-12\n",
      "  7.06110383e-12  4.23591917e-12 -1.29586502e-11 -1.90101307e-12]\n"
     ]
    },
    {
     "data": {
      "text/plain": "<Figure size 432x288 with 1 Axes>",
      "image/png": "[encoded data removed]"
     },
     "metadata": {
      "needs_background": "light"
     },
     "output_type": "display_data"
    }
   ],
   "source": [
    "print('truth:', cvec, sep='\\n')\n",
    "print('learned:', restrub, sep='\\n')\n",
    "\n",
    "print('Initial cffs L2 error:', nl.norm(cvec - cfftrub))\n",
    "print('Learned cffs L2 error:', nl.norm(cvec - restrub))\n",
    "print('Initial cffs L-infinity error:', np.max(np.abs(cvec - cfftrub)))\n",
    "print('Learned cffs L-infinity error:', np.max(np.abs(cvec - restrub)))\n",
    "\n",
    "print('objective for results:', cobjfn(restrub))\n",
    "print('grad norm for results:', nl.norm(jaccobjfn(restrub)))\n",
    "print('grads for results:', jaccobjfn(restrub), sep='\\n')\n",
    "\n",
    "# plot learned vs true\n",
    "# plt.plot(xvec, ctoxmat @ cfftrub, label='initial')\n",
    "plt.plot(xvec, ctoxmat @ restrub, label='learned')\n",
    "plt.plot(xvec, vxvec, label='Truth')\n",
    "plt.title('Learned Potential vs. Truth')\n",
    "plt.legend()\n",
    "plt.show()"
   ],
   "metadata": {
    "collapsed": false,
    "pycharm": {
     "name": "#%%\n"
    }
   }
  },
  {
   "cell_type": "markdown",
   "source": [
    "---"
   ],
   "metadata": {
    "collapsed": false,
    "pycharm": {
     "name": "#%% md\n"
    }
   }
  },
  {
   "cell_type": "code",
   "execution_count": 41,
   "outputs": [],
   "source": [
    "seed = 1234  # set to None for random initialization\n",
    "# cffform = np.random.default_rng(seed).uniform(low=-0.5, high=0.5, size=cvec.shape)\n",
    "cffform = np.random.default_rng(seed).uniform(low=-30.0, high=30.0, size=cvec.shape)"
   ],
   "metadata": {
    "collapsed": false,
    "pycharm": {
     "name": "#%%\n"
    }
   }
  },
  {
   "cell_type": "code",
   "execution_count": 44,
   "outputs": [
    {
     "name": "stdout",
     "output_type": "stream",
     "text": [
      "Warning: Desired error not necessarily achieved due to precision loss.\n",
      "         Current function value: 0.000000\n",
      "         Iterations: 195\n",
      "         Function evaluations: 289\n",
      "         Gradient evaluations: 278\n"
     ]
    }
   ],
   "source": [
    "resform = spo.minimize(cobjfn, cffform, jac=jaccobjfn, tol=1e-15, options={'maxiter': 400, 'disp': True, 'gtol': 1e-14}).x"
   ],
   "metadata": {
    "collapsed": false,
    "pycharm": {
     "name": "#%%\n"
    }
   }
  },
  {
   "cell_type": "code",
   "execution_count": 45,
   "outputs": [
    {
     "name": "stdout",
     "output_type": "stream",
     "text": [
      "truth:\n",
      "[ 2.50000000e+01  4.73695157e-15  2.50000000e+01  3.55271368e-15\n",
      " -9.47390314e-15  2.13162821e-14 -5.92118946e-15  1.42108547e-14\n",
      " -1.06581410e-14  1.65793305e-14 -3.43428989e-14  2.13162821e-14]\n",
      "learned:\n",
      "[ -7.56988186  -5.60258482  -6.8915393  -15.84710454  22.03116861\n",
      " -20.68004788  35.88033643 -14.08720811  17.81454474  -5.07426284\n",
      "   3.28715907  -0.77454787]\n",
      "Initial cffs L2 error: 47.99131506523736\n",
      "Learned cffs L2 error: 71.5107222377515\n",
      "Initial cffs L-infinity error: 27.844754710702585\n",
      "Learned cffs L-infinity error: 35.88033643129158\n",
      "objective for results: 2.3000031234510503e-07\n",
      "grad norm for results: 1.7821460447544597e-08\n",
      "grads for results:\n",
      "[-1.08879959e-08 -2.62069159e-09  5.53976111e-09  6.23912217e-09\n",
      " -1.27349170e-09 -5.95206726e-09  5.35253424e-09  2.57288665e-09\n",
      "  6.92458168e-09 -4.75359481e-10 -1.31220325e-09  5.97030618e-10]\n"
     ]
    },
    {
     "data": {
      "text/plain": "<Figure size 432x288 with 1 Axes>",
      "image/png": "[encoded data removed]"
     },
     "metadata": {
      "needs_background": "light"
     },
     "output_type": "display_data"
    }
   ],
   "source": [
    "print('truth:', cvec, sep='\\n')\n",
    "print('learned:', resform, sep='\\n')\n",
    "\n",
    "print('Initial cffs L2 error:', nl.norm(cvec - cffform))\n",
    "print('Learned cffs L2 error:', nl.norm(cvec - resform))\n",
    "print('Initial cffs L-infinity error:', np.max(np.abs(cvec - cffform)))\n",
    "print('Learned cffs L-infinity error:', np.max(np.abs(cvec - resform)))\n",
    "\n",
    "print('objective for results:', cobjfn(resform))\n",
    "print('grad norm for results:', nl.norm(jaccobjfn(resform)))\n",
    "print('grads for results:', jaccobjfn(resform), sep='\\n')\n",
    "\n",
    "# plot learned vs true\n",
    "plt.plot(xvec, ctoxmat @ cffform, label='initial')\n",
    "plt.plot(xvec, ctoxmat @ resform, label='learned')\n",
    "plt.plot(xvec, vxvec, label='Truth')\n",
    "plt.title('Learned Potential vs. Truth')\n",
    "plt.legend()\n",
    "plt.show()"
   ],
   "metadata": {
    "collapsed": false,
    "pycharm": {
     "name": "#%%\n"
    }
   }
  },
  {
   "cell_type": "markdown",
   "source": [
    "---"
   ],
   "metadata": {
    "collapsed": false,
    "pycharm": {
     "name": "#%% md\n"
    }
   }
  },
  {
   "cell_type": "code",
   "execution_count": 46,
   "outputs": [],
   "source": [
    "def adjhelper(cffs):\n",
    "    # construct the vmat from Chebyshev coefficients\n",
    "    # function which returns the chebyshev approximation\n",
    "    # given a set of coefficients\n",
    "    def vcaprx(x):\n",
    "        # don't forget that the chebyshev representation's\n",
    "        # interval is x \\in [-1, 1]\n",
    "        return sps.eval_chebyt(np.expand_dims(cnvec, 0), x / L) @ cffs\n",
    "\n",
    "    cvrow = []\n",
    "    for thisn in range(2 * nF + 1):\n",
    "        def intgrnd(x):\n",
    "            return vcaprx(x) * np.exp(-1j * np.pi * thisn * x / L) / (2 * L)\n",
    "        def rintgrnd(x):\n",
    "            return jnp.real(intgrnd(x))\n",
    "        def iintgrnd(x):\n",
    "            return jnp.imag(intgrnd(x))\n",
    "        cvrow.append(si.quad(rintgrnd, -L, L)[0] + 1j * si.quad(iintgrnd, -L, L)[0])\n",
    "\n",
    "    # make the python list cvrow a jax object\n",
    "    cvrow = jnp.stack(cvrow)\n",
    "\n",
    "    # make toeplitz matrix by hand, so it's JAX grad/jacobian\n",
    "    # compliant\n",
    "    flattoepvec = jnp.concatenate([jnp.flipud(cvrow.conj()), cvrow[1:]])\n",
    "    # make potential matrix vmat from the Chebyshev coefficients\n",
    "    vmat = flattoepvec[toepindxmat]\n",
    "\n",
    "    # construct the Hamiltonian matrix in the\n",
    "    # Fourier representation\n",
    "    hmat = kmat + vmat\n",
    "\n",
    "    # eigendecomposition of the Hamiltonian matrix\n",
    "    spc, stts = jnpl.eigh(hmat)\n",
    "\n",
    "    # compute the propagator matrix using the\n",
    "    # result of the eigendecomposition\n",
    "    propamat = stts @ np.diag(np.exp(-1j * spc * dt)) @ stts.conj().T\n",
    "    propHmat = stts @ np.diag(np.exp(1j * spc * dt)) @ stts.conj().T\n",
    "\n",
    "    # propagate the system starting from ainit\n",
    "    # using propamat, i.e., solve the forward problem\n",
    "    amat = [ainit]\n",
    "    for i in range(ntsteps):\n",
    "        amat.append(propamat @ amat[i])\n",
    "\n",
    "    # make python list of Fourier basis wave functions\n",
    "    # a jax object\n",
    "    amat = jnp.stack(amat)\n",
    "\n",
    "    # propagate the \"lambda\" vector of coefficients backward\n",
    "    # in time, i.e., solve the adjoint problem\n",
    "    lmat = [amat[ntsteps,:] - amat[ntsteps,:]]\n",
    "\n",
    "    itr = 0 # forward evaluation of lmat\n",
    "    for i in range(ntsteps - 1, -1, -1):\n",
    "        lmat.append(amat[i,:] - Famat[i,:] + propHmat @ lmat[itr] )\n",
    "        itr += 1\n",
    "\n",
    "    lmat = jnp.flipud(jnp.stack(lmat))\n",
    "\n",
    "    offdiagmask = jnp.ones((ntoepelm, ntoepelm)) - jnp.eye(ntoepelm)\n",
    "    expspec = jnp.exp(-1j * dt * spc)\n",
    "    e1, e2 = jnp.meshgrid(expspec, expspec)\n",
    "    s1, s2 = jnp.meshgrid(spc, spc)\n",
    "    denom = offdiagmask * (-1j * dt) * (s1 - s2) + jnp.eye(ntoepelm)\n",
    "    mask = offdiagmask * (e1 - e2)/denom + jnp.diag(expspec)\n",
    "    myeye = jnp.eye(ntoepelm)\n",
    "    ws = jnp.hstack([jnp.fliplr(myeye), myeye[:,1:]]).T\n",
    "    ctrmats = ws[toepindxmat]\n",
    "    derivamats = jnp.einsum('ij,jkm,kl->ilm', stts.conj().T, ctrmats, stts) * jnp.expand_dims(mask, 2)\n",
    "    alldmatreal = -1j * dt * jnp.einsum('ij,jkm,kl->mil', stts, derivamats, stts.conj().T)\n",
    "\n",
    "    ws = 1.0j * jnp.hstack([-jnp.fliplr(myeye), myeye[:, 1:]])\n",
    "    ws = ws[1:, :]\n",
    "    ws = ws.T\n",
    "    ctrmats = ws[toepindxmat]\n",
    "    derivamats = jnp.einsum('ij,jkm,kl->ilm', stts.conj().T, ctrmats, stts) * jnp.expand_dims(mask, 2)\n",
    "    alldmatimag = -1j*dt*jnp.einsum('ij,jkm,kl->mil', stts, derivamats, stts.conj().T)\n",
    "\n",
    "    alldmat = jnp.vstack([alldmatreal, alldmatimag])\n",
    "\n",
    "    return lmat, alldmat, amat\n",
    "\n",
    "def cgradfn(cffs):\n",
    "    lmat, alldmat, amat = adjhelper(cffs)\n",
    "    # compute all entries of the gradient at once\n",
    "    gradients = jnp.einsum('ij,ajk,ik->a', jnp.conj(lmat[1:, :]), alldmat, amat[:-1, :]).real\n",
    "    return gradients"
   ],
   "metadata": {
    "collapsed": false,
    "pycharm": {
     "name": "#%%\n"
    }
   }
  },
  {
   "cell_type": "code",
   "execution_count": null,
   "outputs": [],
   "source": [],
   "metadata": {
    "collapsed": false,
    "pycharm": {
     "name": "#%%\n"
    }
   }
  }
 ],
 "metadata": {
  "kernelspec": {
   "display_name": "Python 3 (ipykernel)",
   "language": "python",
   "name": "python3"
  },
  "language_info": {
   "codemirror_mode": {
    "name": "ipython",
    "version": 3
   },
   "file_extension": ".py",
   "mimetype": "text/x-python",
   "name": "python",
   "nbconvert_exporter": "python",
   "pygments_lexer": "ipython3",
   "version": "3.9.9"
  }
 },
 "nbformat": 4,
 "nbformat_minor": 5
}