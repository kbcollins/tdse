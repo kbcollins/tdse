{
 "cells": [
  {
   "cell_type": "code",
   "execution_count": 1,
   "id": "b56b4e7b-b7e8-4446-a869-dc16fcad25e4",
   "metadata": {},
   "outputs": [],
   "source": [
    "import numpy as np\n",
    "import numpy.linalg as nl\n",
    "import scipy.linalg as sl\n",
    "import scipy.special as sps\n",
    "import scipy.integrate as si\n",
    "import scipy.optimize as spo\n",
    "import matplotlib.pyplot as plt\n",
    "from jax.config import config\n",
    "config.update(\"jax_enable_x64\", True)\n",
    "import jax\n",
    "import jax.numpy as jnp\n",
    "import jax.numpy.linalg as jnpl"
   ]
  },
  {
   "cell_type": "markdown",
   "id": "ad17bee5-e941-4ef1-9314-9ea62ce43504",
   "metadata": {},
   "source": [
    "<h3>TDSE Forward Problem</h3>"
   ]
  },
  {
   "cell_type": "code",
   "execution_count": 2,
   "id": "c7d9113b-b601-4c1d-85e2-ec227a142132",
   "metadata": {},
   "outputs": [],
   "source": [
    "# size of spatial domain\n",
    "L = 10.0\n",
    "\n",
    "# set number of real space grid points for plotting\n",
    "nx = 1025\n",
    "# spatial grid for the purposes of plotting\n",
    "xvec = np.linspace(-L, L, nx)\n",
    "\n",
    "# the basis functions used in our Fourier representation\n",
    "# will be from n = -nF to n = nF\n",
    "nF = 32\n",
    "# matrix for converting Fourier basis coefficients to real space values\n",
    "Fnvec = np.arange(-nF, nF + 1) # Fnvec=-nfb,...,0,...,nfb\n",
    "Fcnvrtmat = np.exp(1j * np.pi * np.outer(Fnvec, xvec) / L) / np.sqrt(2 * L)"
   ]
  },
  {
   "cell_type": "markdown",
   "source": [
    "---\n",
    "**Potential Function**"
   ],
   "metadata": {
    "collapsed": false,
    "pycharm": {
     "name": "#%% md\n"
    }
   }
  },
  {
   "cell_type": "code",
   "execution_count": 3,
   "outputs": [
    {
     "data": {
      "text/plain": "<Figure size 432x288 with 1 Axes>",
      "image/png": "[encoded data removed]"
     },
     "metadata": {
      "needs_background": "light"
     },
     "output_type": "display_data"
    }
   ],
   "source": [
    "# define potential for generating training data\n",
    "\n",
    "def v(x):\n",
    "    # dimensionless quantum harmonic oscillator potential\n",
    "    # return 0.5 * x**2\n",
    "    # rescaled symmetric double well potential\n",
    "    return 0.0025*(x**2 - 25)**2\n",
    "    # scaled asymmetric double well potential\n",
    "    # return 0.0003*((x-3)**4 + 10*(x-5)**3)\n",
    "    # soft coulomb potential\n",
    "    # return -1 / np.sqrt(x**2 + 0.25)\n",
    "\n",
    "# compute true potential\n",
    "vxvec = v(xvec)\n",
    "\n",
    "# plot true potential\n",
    "plt.plot(xvec, vxvec)\n",
    "plt.title('Plot of V(x)')\n",
    "plt.xlabel('x')\n",
    "plt.show()"
   ],
   "metadata": {
    "collapsed": false,
    "pycharm": {
     "name": "#%%\n"
    }
   }
  },
  {
   "cell_type": "code",
   "execution_count": 4,
   "outputs": [],
   "source": [
    "def mkvtoeprowfft(vfn):\n",
    "    # res adjusts the Fourier transform resolution\n",
    "    # if res = 1, then nsamples = 2 * nF, which is the\n",
    "    # Nyquist frequency (most course resolution?)\n",
    "    res = 100\n",
    "    nsamples = res * 2 * nF\n",
    "    x = np.linspace(-L, L, nsamples + 2, endpoint=False)\n",
    "    Fvvecfft = (np.fft.rfft(vfn(x)) / x.size)[:2 * nF +1]\n",
    "    vtoeprow = Fvvecfft * (-1)**np.arange(2 * nF +1)\n",
    "    return vtoeprow"
   ],
   "metadata": {
    "collapsed": false,
    "pycharm": {
     "name": "#%%\n"
    }
   }
  },
  {
   "cell_type": "code",
   "execution_count": 5,
   "outputs": [],
   "source": [
    "def mkvtoeprowquad(vfn):\n",
    "    vtoeprow = []\n",
    "    for thisn in range(2 * nF +1):\n",
    "        def intgrnd(x):\n",
    "            return vfn(x) * np.exp(-1j * np.pi * thisn * x / L) / (2 * L)\n",
    "        def rintgrnd(x):\n",
    "            return intgrnd(x).real\n",
    "        def iintgrnd(x):\n",
    "            return intgrnd(x).imag\n",
    "        vtoeprow.append(si.quad(rintgrnd, -L, L)[0] + 1j * si.quad(iintgrnd, -L, L)[0])\n",
    "    return np.array(vtoeprow)"
   ],
   "metadata": {
    "collapsed": false,
    "pycharm": {
     "name": "#%%\n"
    }
   }
  },
  {
   "cell_type": "code",
   "execution_count": 6,
   "outputs": [
    {
     "name": "stdout",
     "output_type": "stream",
     "text": [
      "FFT vtoeprow vs. exact:\n",
      "16.746413340199176\n",
      "Quad vtoeprow vs. exact:\n",
      "16.74641425316057\n"
     ]
    }
   ],
   "source": [
    "# THIS CELL IS ONLY MEANINGFUL IF v(x) is the SIMPLE HARMONIC OSCILLATOR\n",
    "# this function computes the Fourier representation of harmonic oscillator\n",
    "# exactly (thanks, Mathematica!)\n",
    "\n",
    "def mkvtoeprowharm():\n",
    "    # here is the exact result of the integral\n",
    "    ecfun = lambda i: (L**2 * (2 * i * np.pi * np.cos(i * np.pi) + (-2 + i**2 * np.pi**2) * np.sin(i * np.pi))) / (2.0 * i**3 * np.pi**3)\n",
    "    exactvrow = np.array(list(map(ecfun, np.arange(1, 2 * nF +1))))\n",
    "    exactvrow = np.concatenate([np.array([L**2 / 6.0]), exactvrow])\n",
    "    return exactvrow\n",
    "\n",
    "# let us check which one is more accurate, FFT or quadrature\n",
    "print('FFT vtoeprow vs. exact:', nl.norm(mkvtoeprowfft(v) - mkvtoeprowharm()), sep='\\n')\n",
    "print('Quad vtoeprow vs. exact:', nl.norm(mkvtoeprowquad(v) - mkvtoeprowharm()), sep='\\n')\n",
    "# we see that Fvmat is more accurate so we use that!"
   ],
   "metadata": {
    "collapsed": false,
    "pycharm": {
     "name": "#%%\n"
    }
   }
  },
  {
   "cell_type": "markdown",
   "source": [
    "---\n",
    "**Eigendecomposition of a Fourier Represented Potential**"
   ],
   "metadata": {
    "collapsed": false,
    "pycharm": {
     "name": "#%% md\n"
    }
   }
  },
  {
   "cell_type": "code",
   "execution_count": 7,
   "id": "7b241039-f314-4730-9423-644b4d59fac0",
   "metadata": {
    "pycharm": {
     "name": "#%%\n"
    }
   },
   "outputs": [
    {
     "name": "stdout",
     "output_type": "stream",
     "text": [
      "hmat Hermitian check (should be close to zero):\n",
      "0.0\n",
      "Check if hmat is diagonalized (should be close to zero):\n",
      "2.2221465652715352e-13\n",
      "Unitary stts check (should be close to zero):\n",
      "1.2221142468774257e-14\n"
     ]
    }
   ],
   "source": [
    "# construct the kinetic matrix representation of the\n",
    "# kinetic operator in the Fourier basis\n",
    "# (this is constant for a given system)\n",
    "kmat = np.diag(np.arange(-nF, nF + 1)**2 * np.pi**2 / (2 * L**2))\n",
    "\n",
    "# use mkvtoeprowquad() to create Toeplitz matrix\n",
    "vrowquad = mkvtoeprowquad(v)\n",
    "Fvmat = sl.toeplitz(r=vrowquad, c=vrowquad.conj())\n",
    "\n",
    "# construct the Hamiltonian matrix representation of the\n",
    "# Hamiltonian operator in the Fourier basis\n",
    "Fhmat = kmat + Fvmat\n",
    "\n",
    "# check if the Hamiltonian matrix is Hermitian\n",
    "print('hmat Hermitian check (should be close to zero):', nl.norm(Fhmat - Fhmat.T.conj()), sep='\\n')\n",
    "\n",
    "# eigen-decomposition of the Hamiltonian matrix\n",
    "Fspc, Fstts = nl.eigh(Fhmat)\n",
    "\n",
    "# check if the eigendecomposition diagonalizes the\n",
    "# Hamiltonian matrix\n",
    "# if this is close to zero then\n",
    "# hmat = states @ np.diag(spec) @ np.conj(states).T\n",
    "print('Check if hmat is diagonalized (should be close to zero):', nl.norm(Fhmat @ Fstts - Fstts @ np.diag(Fspc)), sep='\\n')\n",
    "\n",
    "# check if the eigenstates are unitary\n",
    "print('Unitary stts check (should be close to zero):', nl.norm(Fstts @ Fstts.T.conj() - np.eye(2 * nF + 1)), sep='\\n')"
   ]
  },
  {
   "cell_type": "code",
   "execution_count": 8,
   "outputs": [
    {
     "name": "stdout",
     "output_type": "stream",
     "text": [
      "[0.34278056 0.34282712 0.97533999 0.97956584 1.45972777 1.54597656]\n"
     ]
    },
    {
     "data": {
      "text/plain": "<Figure size 432x288 with 1 Axes>",
      "image/png": "[encoded data removed]"
     },
     "metadata": {
      "needs_background": "light"
     },
     "output_type": "display_data"
    },
    {
     "name": "stdout",
     "output_type": "stream",
     "text": [
      "Quick check of normalization (should be close to 1):\n",
      "1.0000000000004738\n",
      "Check of normalization (should be close to 1):\n",
      "1.0000000000000004\n"
     ]
    }
   ],
   "source": [
    "# find indices that sort eigenvalues\n",
    "ordering = np.argsort(Fspc)\n",
    "\n",
    "# print the first few eigenvalues\n",
    "print(Fspc[ordering[:6]])\n",
    "\n",
    "# pick out and plot ground state\n",
    "groundstate = ordering[0]\n",
    "wavefn = Fstts[:,groundstate] @ Fcnvrtmat\n",
    "plt.plot(xvec, np.real(wavefn))\n",
    "plt.title('Ground state')\n",
    "plt.xlabel('x')\n",
    "plt.show()\n",
    "\n",
    "# quick and dirty check of normalization\n",
    "print('Quick check of normalization (should be close to 1):', np.sum(np.abs(wavefn)**2 * (xvec[1]-xvec[0])), sep='\\n')\n",
    "\n",
    "# this should be a more accurate check of the ground state\n",
    "# wave functions' normalization\n",
    "print('Check of normalization (should be close to 1):', si.trapezoid(np.abs(wavefn)**2, xvec), sep='\\n')"
   ],
   "metadata": {
    "collapsed": false,
    "pycharm": {
     "name": "#%%\n"
    }
   }
  },
  {
   "cell_type": "markdown",
   "source": [
    "---\n",
    "<h3>Chebyshev Representation</h3>"
   ],
   "metadata": {
    "collapsed": false,
    "pycharm": {
     "name": "#%% md\n"
    }
   }
  },
  {
   "cell_type": "code",
   "execution_count": 9,
   "outputs": [
    {
     "name": "stdout",
     "output_type": "stream",
     "text": [
      "[ 4.68750000e+00  5.92118946e-16  6.25000000e+00  1.48029737e-15\n",
      "  3.12500000e+00  4.73695157e-15 -2.96059473e-16  5.03301104e-15\n",
      " -5.92118946e-15  8.28966525e-15 -9.69594775e-15  4.58892184e-15]\n"
     ]
    },
    {
     "data": {
      "text/plain": "<Figure size 432x288 with 1 Axes>",
      "image/png": "[encoded data removed]"
     },
     "metadata": {
      "needs_background": "light"
     },
     "output_type": "display_data"
    },
    {
     "name": "stdout",
     "output_type": "stream",
     "text": [
      "L-infinity Norm:\n",
      "4.440892098500626e-14\n"
     ]
    }
   ],
   "source": [
    "# let represents the potential function, v(x), using\n",
    "# Chebyshev polynomials\n",
    "# for the simple harmonic potential this should be\n",
    "# exact because v(x) IS a polynomial\n",
    "\n",
    "nc = 11\n",
    "\n",
    "def theta(k):\n",
    "    return (k - 0.5) * np.pi / (nc + 1)\n",
    "\n",
    "def g(k):\n",
    "    # cos(\\theta) ranges from [-1, 1] which is the domain\n",
    "    # of the Chebyshev interpolation function so we need to\n",
    "    # modify v()'s so when it is given x \\in [-1, 1], it\n",
    "    # actually spans the domain [-L, L]\n",
    "    # to do that, we multiply by np.cos(theta(k)) by L\n",
    "    return v(L * np.cos(theta(k)))\n",
    "\n",
    "kvec = np.arange(1, nc + 2)\n",
    "cnvec = np.arange(0, nc + 1)\n",
    "\n",
    "cweights = np.ones(nc + 1)\n",
    "cweights[0] = 0.5\n",
    "\n",
    "# compute Chebyshev coefficients\n",
    "cvec = 2 / (nc + 1) * np.sum(g(kvec) * np.cos(cnvec[..., np.newaxis] * theta(kvec)), axis=1)\n",
    "cvec = cweights * cvec\n",
    "print(cvec)\n",
    "\n",
    "ctoxmat = sps.eval_chebyt(np.expand_dims(cnvec, 0), np.expand_dims(xvec / L, 1))\n",
    "vrec = ctoxmat @ cvec\n",
    "\n",
    "# plot reconstruction vs truth\n",
    "plt.plot(xvec, vrec, label='cheb')\n",
    "plt.plot(xvec, vxvec, label='True')\n",
    "plt.title(f'Approx vs. True for n={nc}')\n",
    "plt.legend()\n",
    "plt.show()\n",
    "\n",
    "# Linfty norm error\n",
    "print('L-infinity Norm:', np.max(np.abs(v(xvec) - vrec)), sep='\\n')"
   ],
   "metadata": {
    "collapsed": false,
    "pycharm": {
     "name": "#%%\n"
    }
   }
  },
  {
   "cell_type": "markdown",
   "source": [
    "---\n",
    "**Form the Potential Matrix from the Chebyshev Representation**"
   ],
   "metadata": {
    "collapsed": false,
    "pycharm": {
     "name": "#%% md\n"
    }
   }
  },
  {
   "cell_type": "code",
   "execution_count": 10,
   "outputs": [
    {
     "name": "stdout",
     "output_type": "stream",
     "text": [
      "(65, 12)\n"
     ]
    }
   ],
   "source": [
    "# now form the entries of vmat from the Chebyshev\n",
    "# representation by quadrature method\n",
    "\n",
    "# this function returns the chebyshev approximation of\n",
    "# the potential at some spatial point x, this is needed\n",
    "# for transforming the Chebyshev coefficients to the\n",
    "# Fourier representation by quadrature method\n",
    "# def vchebaprx(x):\n",
    "    # don't forget the interval of the argument x is [-L, L]\n",
    "    # but for the chebyshev representation it needs to be\n",
    "    # [-1, 1] so we need to divide x by L\n",
    "    # return sps.eval_chebyt(np.expand_dims(cnvec, 0), x / L) @ cvec\n",
    "\n",
    "# compute the Fourier representation of the Chebyshev\n",
    "# coefficients of the true potential\n",
    "# cvrowquad = np.zeros(2 * nF + 1, dtype=np.complex128)\n",
    "# for thisn in range(2 * nF + 1):\n",
    "#     def intgrnd(x):\n",
    "#         return vchebaprx(x) * np.exp(-1j * np.pi * thisn * x / L) / (2 * L)\n",
    "#     def rintgrnd(x):\n",
    "#         return intgrnd(x).real\n",
    "#     def iintgrnd(x):\n",
    "#         return intgrnd(x).imag\n",
    "#     cvrowquad[thisn] = si.quad(rintgrnd, -L, L)[0] + 1j * si.quad(iintgrnd, -L, L)[0]\n",
    "\n",
    "# creates matrix can transforms the Chebyshev coefficients\n",
    "# to the Fourier representation\n",
    "ctoFmat = np.zeros((2 * nF + 1, nc + 1), dtype=np.complex128)\n",
    "for thiscn in range(nc + 1):\n",
    "    for thisn in range(2 * nF + 1):\n",
    "        def intgrnd(x):\n",
    "            tvec = lambda x: sps.eval_chebyt(np.expand_dims(thiscn, 0), x / L)\n",
    "            return tvec(x) * np.exp(-1j * np.pi * thisn * x / L) / (2 * L)\n",
    "        def rintgrnd(x):\n",
    "            return intgrnd(x).real\n",
    "        def iintgrnd(x):\n",
    "            return intgrnd(x).imag\n",
    "\n",
    "        ctoFmat[thisn, thiscn] = si.quad(rintgrnd, -L, L)[0] + 1j * si.quad(iintgrnd, -L, L)[0]\n",
    "\n",
    "print(ctoFmat.shape)"
   ],
   "metadata": {
    "collapsed": false,
    "pycharm": {
     "name": "#%%\n"
    }
   }
  },
  {
   "cell_type": "code",
   "execution_count": 11,
   "outputs": [
    {
     "name": "stdout",
     "output_type": "stream",
     "text": [
      "L2 Norm Error: 4.8802255596720366e-14\n",
      "L-infinity Error: 3.1236569905449265e-14\n"
     ]
    }
   ],
   "source": [
    "cvrowquad = ctoFmat @ cvec\n",
    "\n",
    "# check how much cvrowquad differ from vrowquad\n",
    "# (i.e., compare the potential in the Fourier representation\n",
    "# to the potential in the Chebyshev representation which has\n",
    "# been transformed to the Fourier representation)\n",
    "print('L2 Norm Error:', nl.norm(vrowquad - cvrowquad))\n",
    "print('L-infinity Error:', np.max(np.abs(vrowquad - cvrowquad)))\n"
   ],
   "metadata": {
    "collapsed": false,
    "pycharm": {
     "name": "#%%\n"
    }
   }
  },
  {
   "cell_type": "markdown",
   "source": [
    "---\n",
    "**Eigendecomposition of a Chebyshev Represented Potential**"
   ],
   "metadata": {
    "collapsed": false
   }
  },
  {
   "cell_type": "code",
   "execution_count": 12,
   "outputs": [
    {
     "name": "stdout",
     "output_type": "stream",
     "text": [
      "hmat Hermitian check (should be close to zero):\n",
      "0.0\n",
      "Check if hmat is diagonalized (should be close to zero):\n",
      "2.1602191408653485e-13\n",
      "Unitary stts check (should be close to zero):\n",
      "1.1553902348520693e-14\n"
     ]
    }
   ],
   "source": [
    "# Let's compare the Hamiltonian matrix and its\n",
    "# eigendecomposition for the Chebyshev representation\n",
    "# of the potential to the Fourier representation of\n",
    "# of the potential\n",
    "cvmat = sl.toeplitz(r=cvrowquad, c=cvrowquad.conj())\n",
    "\n",
    "# construct the Hamiltonian matrix representation of the\n",
    "# Hamiltonian operator in the Fourier basis\n",
    "chmat = kmat + cvmat\n",
    "\n",
    "# check if the Hamiltonian matrix is Hermitian\n",
    "print('hmat Hermitian check (should be close to zero):', nl.norm(chmat - chmat.T.conj()), sep='\\n')\n",
    "\n",
    "# eigendecomposition of the Hamiltonian matrix\n",
    "cspc, cstts = nl.eigh(chmat)\n",
    "\n",
    "# check if the eigendecomposition diagonalizes the\n",
    "# Hamiltonian matrix\n",
    "# if this is close to zero then\n",
    "# hmat = states @ np.diag(spec) @ np.conj(states).T\n",
    "print('Check if hmat is diagonalized (should be close to zero):', nl.norm(chmat @ cstts - cstts @ np.diag(cspc)), sep='\\n')\n",
    "\n",
    "# check if the eigenstates are unitary\n",
    "print('Unitary stts check (should be close to zero):', nl.norm(cstts @ cstts.T.conj() - np.eye(2 * nF + 1)), sep='\\n')"
   ],
   "metadata": {
    "collapsed": false,
    "pycharm": {
     "name": "#%%\n"
    }
   }
  },
  {
   "cell_type": "markdown",
   "source": [
    "---\n",
    "**Initial Wave Function and its Fourier Representation**"
   ],
   "metadata": {
    "collapsed": false,
    "pycharm": {
     "name": "#%% md\n"
    }
   }
  },
  {
   "cell_type": "code",
   "execution_count": 13,
   "outputs": [
    {
     "data": {
      "text/plain": "<Figure size 432x288 with 1 Axes>",
      "image/png": "[encoded data removed]"
     },
     "metadata": {
      "needs_background": "light"
     },
     "output_type": "display_data"
    },
    {
     "name": "stdout",
     "output_type": "stream",
     "text": [
      "L2 Error psi0_1: 7.817152898488495e-12\n",
      "L-infinity Error psi0_1: 4.1810999107383395e-13\n",
      "L2 Error psi0_2: 1.3017083612110972e-07\n",
      "L-infinity Error psi0_2: 7.17120304080911e-08\n"
     ]
    }
   ],
   "source": [
    "# define initial state and transform to Fourier basis\n",
    "\n",
    "def psi0_1(x):\n",
    "    # rounded box function\n",
    "    # return 1.0 + np.tanh((1 - x**2)/0.5)\n",
    "    # triangular pulse\n",
    "    # return np.piecewise(x, [x < -1, (x >= -1) & (x <= 1), x > 1], [0, lambda x: (1 - np.abs(x)), 0])\n",
    "    # parabolic pulse\n",
    "    # return np.piecewise(x, [x < -1, (x >= -1) & (x <= 1), x > 1], [0, lambda x: (1 - x**2), 0])\n",
    "    # hyperbolic secant squared\n",
    "    # return (np.cosh(x))**(-2)\n",
    "    # Laplace\n",
    "    # return np.exp(-np.abs(x))\n",
    "    # a Gaussian with L^2 norm = 1\n",
    "    # HSB's \"super simple initial condition\"\n",
    "    return np.exp(-x**2) * (2.0 / np.pi)**0.25\n",
    "\n",
    "def psi0_2(x):\n",
    "    # rounded box function\n",
    "    # return 1.0 + np.tanh((1 - x**2)/0.5)\n",
    "    # triangular pulse\n",
    "    # return np.piecewise(x, [x < -1, (x >= -1) & (x <= 1), x > 1], [0, lambda x: (1 - np.abs(x)), 0])\n",
    "    # parabolic pulse\n",
    "    # return np.piecewise(x, [x < -1, (x >= -1) & (x <= 1), x > 1], [0, lambda x: (1 - x**2), 0])\n",
    "    # hyperbolic secant squared\n",
    "    # return (np.cosh(x))**(-2)\n",
    "    # Laplace\n",
    "    # return np.exp(-np.abs(x))\n",
    "    # a Gaussian with L^2 norm = 1\n",
    "    # HSB's \"super simple initial condition\"\n",
    "    return np.exp(-(x - 6)**2) * (2.0 / np.pi)**0.25\n",
    "\n",
    "# WHEN USING GAUSSIAN WITH L^2 NORM = 1\n",
    "normpsi0_1_fn = psi0_1\n",
    "\n",
    "# compute the Fourier basis representation of the\n",
    "# normalized psi0 function using quadrature method\n",
    "normpsi0_1_quad = np.zeros(nF + 1, dtype=np.complex128)\n",
    "for thisn in range (nF + 1):\n",
    "    def intgrnd(x):\n",
    "        return normpsi0_1_fn(x) * np.exp(-1j * np.pi * thisn * x / L) / np.sqrt(2 * L)\n",
    "    def rintgrnd(x):\n",
    "        return intgrnd(x).real\n",
    "    def iintgrnd(x):\n",
    "        return intgrnd(x).imag\n",
    "    normpsi0_1_quad[thisn] = si.quad(rintgrnd, -L, L)[0] + 1j*si.quad(iintgrnd, -L, L)[0]\n",
    "\n",
    "ainit_1 = np.concatenate([np.conjugate(np.flipud(normpsi0_1_quad[1:])), normpsi0_1_quad])\n",
    "\n",
    "\n",
    "# WHEN USING GAUSSIAN WITH L^2 NORM = 1\n",
    "normpsi0_2_fn = psi0_2\n",
    "# WHEN NOT USING GAUSSIAN WITH L^2 NORM = 1\n",
    "# compute psi0 normalization term\n",
    "# psi0probintgrnd = lambda x: np.abs(psi0_2(x))**2\n",
    "# psi0normtrm = np.sqrt(si.quad(psi0probintgrnd, -L, L)[0])\n",
    "# define normalized psi function to be used by\n",
    "# a scipy.integrate methods\n",
    "# def normpsi0_2_fn(x):\n",
    "#     return psi0_2(x)/psi0normtrm\n",
    "\n",
    "# compute the Fourier basis representation of the\n",
    "# normalized psi0 function using quadrature method\n",
    "normpsi0_2_quad = np.zeros(nF + 1, dtype=np.complex128)\n",
    "for thisn in range (nF + 1):\n",
    "    def intgrnd(x):\n",
    "        return normpsi0_2_fn(x) * np.exp(-1j * np.pi * thisn * x / L) / np.sqrt(2 * L)\n",
    "    def rintgrnd(x):\n",
    "        return intgrnd(x).real\n",
    "    def iintgrnd(x):\n",
    "        return intgrnd(x).imag\n",
    "    normpsi0_2_quad[thisn] = si.quad(rintgrnd, -L, L)[0] + 1j*si.quad(iintgrnd, -L, L)[0]\n",
    "\n",
    "ainit_2 = np.concatenate([np.conjugate(np.flipud(normpsi0_2_quad[1:])), normpsi0_2_quad])\n",
    "\n",
    "normpsi0_1_vecrec = ainit_1 @ Fcnvrtmat\n",
    "normpsi0_1_vec = normpsi0_1_fn(xvec)\n",
    "\n",
    "normpsi0_2_vecrec = ainit_2 @ Fcnvrtmat\n",
    "normpsi0_2_vec = normpsi0_2_fn(xvec)\n",
    "\n",
    "# plot the real part of the normalized psi0\n",
    "plt.plot(xvec, normpsi0_1_vecrec.real, label=\"Rec 1\")\n",
    "plt.plot(xvec, normpsi0_1_vec.real, label=\"Truth 1\")\n",
    "plt.plot(xvec, normpsi0_2_vecrec.real, label=\"Rec 2\")\n",
    "plt.plot(xvec, normpsi0_2_vec.real, label=\"Truth 2\")\n",
    "plt.title('Real Part of Initial Wave Function')\n",
    "plt.xlabel('x')\n",
    "plt.legend()\n",
    "plt.show()\n",
    "\n",
    "print('L2 Error psi0_1:', nl.norm(normpsi0_1_vecrec - normpsi0_1_vec))\n",
    "print('L-infinity Error psi0_1:', np.max(np.abs(normpsi0_1_vecrec - normpsi0_1_vec)))\n",
    "\n",
    "print('L2 Error psi0_2:', nl.norm(normpsi0_2_vecrec - normpsi0_2_vec))\n",
    "print('L-infinity Error psi0_2:', np.max(np.abs(normpsi0_2_vecrec - normpsi0_2_vec)))"
   ],
   "metadata": {
    "collapsed": false,
    "pycharm": {
     "name": "#%%\n"
    }
   }
  },
  {
   "cell_type": "markdown",
   "source": [
    "---\n",
    "<h3>Foward Propagation</h3>"
   ],
   "metadata": {
    "collapsed": false,
    "pycharm": {
     "name": "#%% md\n"
    }
   }
  },
  {
   "cell_type": "code",
   "execution_count": 14,
   "outputs": [],
   "source": [
    "# solve the forward problem in the Fourier\n",
    "# representation and store the trajectory\n",
    "# in Famat\n",
    "\n",
    "# set the size of a time step\n",
    "dt = 1e-2\n",
    "\n",
    "# set the number of time steps to take starting from\n",
    "# the initial state (a single trajectory should be\n",
    "# nts + 1 states, this includes the initial state)\n",
    "ntsteps = 200  # 100\n"
   ],
   "metadata": {
    "collapsed": false,
    "pycharm": {
     "name": "#%%\n"
    }
   }
  },
  {
   "cell_type": "markdown",
   "source": [
    "---\n",
    "**Forward Propagation of ainit using the Potential in Fourier Representation**"
   ],
   "metadata": {
    "collapsed": false
   }
  },
  {
   "cell_type": "code",
   "execution_count": 15,
   "outputs": [
    {
     "data": {
      "text/plain": "<Figure size 432x288 with 1 Axes>",
      "image/png": "[encoded data removed]"
     },
     "metadata": {
      "needs_background": "light"
     },
     "output_type": "display_data"
    },
    {
     "name": "stdout",
     "output_type": "stream",
     "text": [
      "Average Norm of Trajectory (should be close to 1):\n",
      "1.0000000000001061\n",
      "Average Norm of Trajectory (should be close to 1):\n",
      "1.0000000000001594\n"
     ]
    }
   ],
   "source": [
    "# compute the propagator matrix reusing the\n",
    "# spectrum and states from the eigendecomposition\n",
    "# of Hamiltonian matrix computed above\n",
    "Fpropa = Fstts @ np.diag(np.exp(-1j * Fspc * dt)) @ Fstts.conj().T\n",
    "\n",
    "# propagate the system starting from the initial \"a\" state\n",
    "Famat_1 = np.zeros((ntsteps + 1, 2 * nF + 1), dtype=np.complex128)\n",
    "Famat_1[0] = ainit_1.copy()\n",
    "for i in range(ntsteps):\n",
    "    Famat_1[i + 1] = Fpropa @ Famat_1[i]\n",
    "\n",
    "Famat_2 = np.zeros((ntsteps + 1, 2 * nF + 1), dtype=np.complex128)\n",
    "Famat_2[0] = ainit_2.copy()\n",
    "for i in range(ntsteps):\n",
    "    Famat_2[i + 1] = Fpropa @ Famat_2[i]\n",
    "\n",
    "# compute the wave function in space from each \"a\" vector\n",
    "# do it all at once using matrix multiplication!\n",
    "Fpsimat_1 = Famat_1 @ Fcnvrtmat\n",
    "Fpsimat_2 = Famat_2 @ Fcnvrtmat\n",
    "\n",
    "# check if the wave function of each time step\n",
    "# is normalized to 1\n",
    "# this should produce a graph with a line that is almost\n",
    "# completely horizontal at 1\n",
    "Fpsimatnormvec_1 = si.trapezoid(np.abs(Fpsimat_1) ** 2, xvec, axis=1)\n",
    "plt.plot(np.arange(ntsteps + 1) * dt, Fpsimatnormvec_1)\n",
    "Fpsimatnormvec_2 = si.trapezoid(np.abs(Fpsimat_2) ** 2, xvec, axis=1)\n",
    "plt.plot(np.arange(ntsteps + 1) * dt, Fpsimatnormvec_2)\n",
    "plt.hlines(1 , 0, ntsteps * dt, linestyles='-.', colors='darkorange')\n",
    "plt.title('Normalization of the Wave Function\\nas a Function of Time\\n')\n",
    "plt.xlabel('Time')\n",
    "plt.ylabel('Norm')\n",
    "plt.show()\n",
    "\n",
    "# norm difference of wave function normalization check,\n",
    "# this should be close to 1\n",
    "print('Average Norm of Trajectory (should be close to 1):', Fpsimatnormvec_1.sum() / (ntsteps + 1), sep='\\n')\n",
    "print('Average Norm of Trajectory (should be close to 1):', Fpsimatnormvec_2.sum() / (ntsteps + 1), sep='\\n')"
   ],
   "metadata": {
    "collapsed": false,
    "pycharm": {
     "name": "#%%\n"
    }
   }
  },
  {
   "cell_type": "markdown",
   "source": [
    "---\n",
    "**Forward Propagation of ainit using the Potential in the Cheybshev Representation**"
   ],
   "metadata": {
    "collapsed": false
   }
  },
  {
   "cell_type": "code",
   "execution_count": 16,
   "outputs": [
    {
     "data": {
      "text/plain": "<Figure size 432x288 with 1 Axes>",
      "image/png": "[encoded data removed]"
     },
     "metadata": {
      "needs_background": "light"
     },
     "output_type": "display_data"
    },
    {
     "name": "stdout",
     "output_type": "stream",
     "text": [
      "Average Norm of Trajectory (should be close to 1):\n",
      "0.9999999999998801\n"
     ]
    }
   ],
   "source": [
    "# solve the forward problem in the Chebyshev\n",
    "# representation and store the trajectory\n",
    "# in camat\n",
    "\n",
    "# compute the propagator matrix reusing the\n",
    "# spectrum and states from the eigendecomposition\n",
    "# of Hamiltonian matrix computed above\n",
    "# cspc, cstts\n",
    "cpropa = cstts @ np.diag(np.exp(-1j * cspc * dt)) @ cstts.conj().T\n",
    "\n",
    "# propagate the system starting from the initial \"a\" state\n",
    "camat_1 = np.zeros((ntsteps + 1, 2 * nF + 1), dtype=np.complex128)\n",
    "camat_1[0] = ainit_1.copy()\n",
    "for i in range(ntsteps):\n",
    "    camat_1[i + 1,:] = cpropa @ camat_1[i,:]\n",
    "\n",
    "# compute the wave function in space from each \"a\" vector\n",
    "# do it all at once using matrix multiplication!\n",
    "cpsimat_1 = camat_1 @ Fcnvrtmat\n",
    "\n",
    "# check if the wave function of each time step\n",
    "# is normalized to 1\n",
    "# this should produce a graph with a line that is almost\n",
    "# completely horizontal at 1\n",
    "cpsimatnormvec_1 = si.trapezoid(np.abs(cpsimat_1) ** 2, xvec, axis=1)\n",
    "plt.plot(np.arange(ntsteps + 1) * dt, cpsimatnormvec_1)\n",
    "plt.hlines(1 , 0, ntsteps * dt, linestyles='-.', colors='darkorange')\n",
    "plt.title('Normalization of the Wave Function\\nas a Function of Time\\n')\n",
    "plt.xlabel('Time')\n",
    "plt.ylabel('Norm')\n",
    "plt.show()\n",
    "\n",
    "# norm difference of wave function normalization check,\n",
    "# this should be close to 1\n",
    "print('Average Norm of Trajectory (should be close to 1):', cpsimatnormvec_1.sum() / (ntsteps + 1), sep='\\n')"
   ],
   "metadata": {
    "collapsed": false,
    "pycharm": {
     "name": "#%%\n"
    }
   }
  },
  {
   "cell_type": "markdown",
   "source": [
    "---"
   ],
   "metadata": {
    "collapsed": false,
    "pycharm": {
     "name": "#%% md\n"
    }
   }
  },
  {
   "cell_type": "code",
   "execution_count": 17,
   "outputs": [
    {
     "name": "stdout",
     "output_type": "stream",
     "text": [
      "L2 Error of cpsimat to Fpsimat (should be close to 0):\n",
      "1.897465907452443e-11\n"
     ]
    },
    {
     "data": {
      "text/plain": "<Figure size 432x288 with 1 Axes>",
      "image/png": "[encoded data removed]"
     },
     "metadata": {
      "needs_background": "light"
     },
     "output_type": "display_data"
    },
    {
     "name": "stdout",
     "output_type": "stream",
     "text": [
      "L2 Error of camat to Famat (should be close to 0):\n",
      "2.65177806547042e-12\n"
     ]
    }
   ],
   "source": [
    "# evaluate the difference of the forward propagation of\n",
    "# the potential in the Fourier representation to the\n",
    "# potential in the Chebyshev representation\n",
    "\n",
    "print('L2 Error of cpsimat to Fpsimat (should be close to 0):', nl.norm(Fpsimat_1 - cpsimat_1), sep='\\n')\n",
    "\n",
    "plt.plot(nl.norm(Fpsimat_1 - cpsimat_1, axis=1), '.')\n",
    "plt.title('L2 Error of cpsimat to Fpsimat\\nfor Each Time Step')\n",
    "plt.show()\n",
    "\n",
    "print('L2 Error of camat to Famat (should be close to 0):', nl.norm(Famat_1 - camat_1), sep='\\n')\n"
   ],
   "metadata": {
    "collapsed": false,
    "pycharm": {
     "name": "#%%\n"
    }
   }
  },
  {
   "cell_type": "markdown",
   "source": [
    "---\n",
    "<h1>Inverse Problem - Adjoint Method</h1>"
   ],
   "metadata": {
    "collapsed": false,
    "pycharm": {
     "name": "#%% md\n"
    }
   }
  },
  {
   "cell_type": "code",
   "execution_count": 18,
   "outputs": [],
   "source": [
    "# form the entries of vmat from the Chebyshev\n",
    "# representation by quadrature method\n",
    "\n",
    "# def ctoF(cffs):\n",
    "    # this function returns the chebyshev approximation give\n",
    "    # a set of chebyshev coefficients at some point x\n",
    "    # this is needed for transforming the Chebyshev coefficients\n",
    "    # to the Fourier representation by quadrature method\n",
    "    # def caprx(x):\n",
    "        # interval of the argument x is [-L, L] but the\n",
    "        # chebyshev representation needs to be [-1, 1]\n",
    "        # so we divide x by L\n",
    "        # return sps.eval_chebyt(np.expand_dims(cnvec, 0), x / L) @ cffs\n",
    "\n",
    "    # compute the Fourier representation of the Chebyshev\n",
    "    # coefficients by quadrature method\n",
    "    # Fcaprx = []\n",
    "    # for thisn in range(2 * nF + 1):\n",
    "    #     def intgrnd(x):\n",
    "    #         return caprx(x) * np.exp(-1j * np.pi * thisn * x / L) / (2 * L)\n",
    "    #     def rintgrnd(x):\n",
    "    #         return intgrnd(x).real\n",
    "    #     def iintgrnd(x):\n",
    "    #         return intgrnd(x).imag\n",
    "    #     Fcaprx.append(si.quad(rintgrnd, -L, L)[0] + 1j * si.quad(iintgrnd, -L, L)[0])\n",
    "\n",
    "    # return jnp.array(Fcaprx, dtype=jnp.complex128)\n",
    "\n",
    "# both these results were constructed the same way and with the same\n",
    "# chebyshev coefficients so this should be zero (or super close to it)\n",
    "# print('L2 Error:', jnpl.norm(cvrowquad - ctoF(cvec)))"
   ],
   "metadata": {
    "collapsed": false,
    "pycharm": {
     "name": "#%%\n"
    }
   }
  },
  {
   "cell_type": "code",
   "execution_count": 19,
   "outputs": [
    {
     "name": "stdout",
     "output_type": "stream",
     "text": [
      "(65, 65)\n",
      "(65, 12)\n"
     ]
    }
   ],
   "source": [
    "# make the potential matrix from a set of chebyshev\n",
    "# coefficients\n",
    "\n",
    "# code need to make toeplitz matrix from the Fourier\n",
    "# representation with JAX\n",
    "# def Ftoeplitz(row):\n",
    "#     numtoepelms = 2 * nF + 1\n",
    "#     a = (-1) * np.arange(0, numtoepelms).reshape(numtoepelms, 1)\n",
    "#     b = [np.arange(numtoepelms - 1, 2 * numtoepelms -1)]\n",
    "#     toepindxmat = jnp.array(a + b)\n",
    "#     flattoepvec = jnp.concatenate([jnp.flipud(row.conj()), row[1:]])\n",
    "#     return flattoepvec[toepindxmat]\n",
    "\n",
    "numtoepelms = 2 * nF + 1\n",
    "a = (-1) * np.arange(0, numtoepelms).reshape(numtoepelms, 1)\n",
    "b = [np.arange(numtoepelms - 1, 2 * numtoepelms -1)]\n",
    "toepindxmat = jnp.array(a + b)\n",
    "print(toepindxmat.shape)\n",
    "\n",
    "jaxctoFmat = jnp.array(ctoFmat)\n",
    "print(jaxctoFmat.shape)\n",
    "# print(jaxctoFmat)\n",
    "\n",
    "# def ctovmat(cffs):\n",
    "#     cvrow = jaxctoFmat @ cffs\n",
    "#     return Ftoeplitz(cvrow)\n",
    "\n",
    "# both these results were constructed the same way and with the same\n",
    "# chebyshev coefficients so this should be zero (or super close to it)\n",
    "# print('L2 Error:', jnpl.norm(cvmat - ctovmat(cvec)))"
   ],
   "metadata": {
    "collapsed": false,
    "pycharm": {
     "name": "#%%\n"
    }
   }
  },
  {
   "cell_type": "code",
   "execution_count": 20,
   "outputs": [],
   "source": [
    "def cobjfn(cffs):\n",
    "    # construct the vmat from Chebyshev coefficients\n",
    "    # vmat = ctovmat(cffs)\n",
    "    cvrow = jaxctoFmat @ cffs\n",
    "    flattoepvec = jnp.concatenate([jnp.flipud(cvrow.conj()), cvrow[1:]])\n",
    "    vmat = jnp.array(flattoepvec[toepindxmat])\n",
    "\n",
    "    # construct the Hamiltonian matrix\n",
    "    hmat = kmat + vmat\n",
    "\n",
    "    # eigendecomposition of the Hamiltonian matrix\n",
    "    spc, stts = jnpl.eigh(hmat)\n",
    "\n",
    "    # compute the propagator matrix using the\n",
    "    # result of the eigendecomposition\n",
    "    propamat = stts @ jnp.diag(jnp.exp(-1j * spc * dt)) @ stts.conj().T\n",
    "\n",
    "    # propagate the system starting from ainit_1\n",
    "    # using propamat, i.e., solve the forward problem\n",
    "    amat_1 = [ainit_1]\n",
    "    for i in range(ntsteps):\n",
    "        amat_1.append(propamat @ amat_1[i])\n",
    "\n",
    "    # make python list of Fourier basis wave functions\n",
    "    # a jax object\n",
    "    amat_1 = jnp.stack(amat_1)\n",
    "\n",
    "    # compute the objective\n",
    "    residue_1 = amat_1 - Famat_1\n",
    "    objective = 0.5 * jnp.real(jnp.sum(residue_1.conj() * residue_1))\n",
    "\n",
    "    # propagate the system starting from ainit_2\n",
    "    amat_2 = [ainit_2]\n",
    "    for i in range(ntsteps):\n",
    "        amat_2.append(propamat @ amat_2[i])\n",
    "    amat_2 = jnp.stack(amat_2)\n",
    "    residue_2 = amat_2 - Famat_2\n",
    "    objective += 0.5 * jnp.real(jnp.sum(residue_2.conj() * residue_2))\n",
    "\n",
    "    return objective"
   ],
   "metadata": {
    "collapsed": false,
    "pycharm": {
     "name": "#%%\n"
    }
   }
  },
  {
   "cell_type": "code",
   "execution_count": 21,
   "outputs": [
    {
     "data": {
      "text/plain": "DeviceArray(9.78508902e-24, dtype=float64)"
     },
     "execution_count": 21,
     "metadata": {},
     "output_type": "execute_result"
    }
   ],
   "source": [
    "# check if the objective function gives zero when the\n",
    "# chebyshev coefficients of the true potential are fed in\n",
    "# this should produce a result which is very close to zero\n",
    "cobjfn(cvec)"
   ],
   "metadata": {
    "collapsed": false,
    "pycharm": {
     "name": "#%%\n"
    }
   }
  },
  {
   "cell_type": "code",
   "execution_count": 22,
   "outputs": [],
   "source": [
    "jitcobjfn = jax.jit(cobjfn)"
   ],
   "metadata": {
    "collapsed": false,
    "pycharm": {
     "name": "#%%\n"
    }
   }
  },
  {
   "cell_type": "code",
   "execution_count": 23,
   "outputs": [
    {
     "data": {
      "text/plain": "DeviceArray(9.78508902e-24, dtype=float64)"
     },
     "execution_count": 23,
     "metadata": {},
     "output_type": "execute_result"
    }
   ],
   "source": [
    "jitcobjfn(cvec)"
   ],
   "metadata": {
    "collapsed": false,
    "pycharm": {
     "name": "#%%\n"
    }
   }
  },
  {
   "cell_type": "code",
   "execution_count": 24,
   "outputs": [],
   "source": [
    "gradcobjfn = jax.jit(jax.grad(cobjfn))"
   ],
   "metadata": {
    "collapsed": false,
    "pycharm": {
     "name": "#%%\n"
    }
   }
  },
  {
   "cell_type": "code",
   "execution_count": 25,
   "outputs": [
    {
     "data": {
      "text/plain": "DeviceArray([ 1.48453042e-12,  5.87085241e-14, -2.25287781e-12,\n              1.46538180e-12,  2.04807485e-12, -4.43867484e-12,\n              2.07693100e-12,  4.17222411e-12, -7.33936606e-12,\n              1.48516430e-12,  7.70727483e-12, -7.80714022e-12],            dtype=float64)"
     },
     "execution_count": 25,
     "metadata": {},
     "output_type": "execute_result"
    }
   ],
   "source": [
    "# check if the JAX grad of the objective function works\n",
    "# this should give all zeros (or close to that)\n",
    "gradcobjfn(cvec)"
   ],
   "metadata": {
    "collapsed": false,
    "pycharm": {
     "name": "#%%\n"
    }
   }
  },
  {
   "cell_type": "markdown",
   "source": [
    "---\n",
    "**Initialize with true coefficients perturbed by random normally distributed noise**"
   ],
   "metadata": {
    "collapsed": false
   }
  },
  {
   "cell_type": "code",
   "execution_count": 26,
   "outputs": [],
   "source": [
    "# easy test case: initialize theta with true theta perturbed with\n",
    "# random normally distributed noise with a small variance.\n",
    "# This should be easy for the optimizer to converge to a good minimum\n",
    "\n",
    "seed = 1234  # set to None for random initialization\n",
    "cfftrub = cvec.copy()\n",
    "cfftrub += 0.25 * np.random.default_rng(seed).normal(size=cvec.shape)\n",
    "# cfftrub += 5.0 * np.random.default_rng(seed).normal(size=cvec.shape)"
   ],
   "metadata": {
    "collapsed": false,
    "pycharm": {
     "name": "#%%\n"
    }
   }
  },
  {
   "cell_type": "code",
   "execution_count": 27,
   "outputs": [],
   "source": [
    "# print(cobjfn(cfftrub))\n",
    "# print(gradcobjfn(cfftrub))"
   ],
   "metadata": {
    "collapsed": false,
    "pycharm": {
     "name": "#%%\n"
    }
   }
  },
  {
   "cell_type": "code",
   "execution_count": 28,
   "outputs": [
    {
     "name": "stdout",
     "output_type": "stream",
     "text": [
      "Warning: Desired error not necessarily achieved due to precision loss.\n",
      "         Current function value: 0.000000\n",
      "         Iterations: 75\n",
      "         Function evaluations: 120\n",
      "         Gradient evaluations: 108\n"
     ]
    }
   ],
   "source": [
    "restrub = spo.minimize(cobjfn, cfftrub, jac=gradcobjfn, tol=1e-12, options={'maxiter': 200, 'disp': True, 'gtol': 1e-15}).x"
   ],
   "metadata": {
    "collapsed": false,
    "pycharm": {
     "name": "#%%\n"
    }
   }
  },
  {
   "cell_type": "code",
   "execution_count": 29,
   "outputs": [
    {
     "name": "stdout",
     "output_type": "stream",
     "text": [
      "Continuous L2 Error of Potential using Quadrature Method:\n",
      "3.8775838396127026e-14\n"
     ]
    }
   ],
   "source": [
    "def sqrerrorfn(x, cffs):\n",
    "    return (sps.eval_chebyt(cnvec, x / L) @ cffs - v(x))**2\n",
    "\n",
    "print('Continuous L2 Error of Potential using Quadrature Method:', np.sqrt(si.quad(sqrerrorfn, -L, L, args=(cvec)))[0], sep='\\n')"
   ],
   "metadata": {
    "collapsed": false,
    "pycharm": {
     "name": "#%%\n"
    }
   }
  },
  {
   "cell_type": "code",
   "execution_count": 30,
   "outputs": [
    {
     "name": "stdout",
     "output_type": "stream",
     "text": [
      "Objective of the Learned Coefficients:\n",
      "5.631833405608595e-24\n",
      "Vec L2 Norm of Gradient of the Learned Coefficients:\n",
      "2.418518959266134e-11\n",
      "Continuous L2 Error of Potential using Quadrature Method:\n",
      "5.4880719308054613e-11\n"
     ]
    },
    {
     "data": {
      "text/plain": "<Figure size 432x288 with 1 Axes>",
      "image/png": "[encoded data removed]"
     },
     "metadata": {
      "needs_background": "light"
     },
     "output_type": "display_data"
    }
   ],
   "source": [
    "# print('Chebyshev Coefficients of the True Potential:', cvec, sep='\\n')\n",
    "# print('', 'Chebyshev Coefficients of the Learned Potential:', restrub, sep='\\n')\n",
    "\n",
    "print('Objective of the Learned Coefficients:', cobjfn(restrub), sep='\\n')\n",
    "print('Vec L2 Norm of Gradient of the Learned Coefficients:', nl.norm(gradcobjfn(restrub)), sep='\\n')\n",
    "\n",
    "print('Continuous L2 Error of Potential using Quadrature Method:', np.sqrt(si.quad(sqrerrorfn, -L, L, args=(restrub)))[0], sep='\\n')\n",
    "\n",
    "# print('', 'Gradient of the Learned Coefficients:', gradcobjfn(restrub), sep='\\n')\n",
    "\n",
    "# print('', 'L2 Error of the Initialized Chebyshev Coefficients:', nl.norm(cvec - cfftrub), sep='\\n')\n",
    "# print('', 'L2 Error of the Learned Chebyshev Coefficients:', nl.norm(cvec - restrub), sep='\\n')\n",
    "# print('', 'L-infinity Error of the Initialized Chebyshev Coefficients:', np.max(np.abs(cvec - cfftrub)), sep='\\n')\n",
    "# print('', 'L-infinity Error of the Learned Chebyshev Coefficients:', np.max(np.abs(cvec - restrub)), sep='\\n')\n",
    "\n",
    "# plot learned vs true\n",
    "# plt.plot(xvec, ctoxmat @ cfftrub, label='initial')\n",
    "plt.plot(xvec, ctoxmat @ restrub, label='learned')\n",
    "plt.plot(xvec, vxvec, label='Truth')\n",
    "plt.title('Learned Potential vs. Truth')\n",
    "plt.legend()\n",
    "plt.show()"
   ],
   "metadata": {
    "collapsed": false,
    "pycharm": {
     "name": "#%%\n"
    }
   }
  },
  {
   "cell_type": "markdown",
   "source": [
    "---"
   ],
   "metadata": {
    "collapsed": false,
    "pycharm": {
     "name": "#%% md\n"
    }
   }
  },
  {
   "cell_type": "code",
   "execution_count": 31,
   "outputs": [],
   "source": [
    "seed = 1234  # set to None for random initialization\n",
    "# cffform = np.random.default_rng(seed).uniform(low=-0.5, high=0.5, size=cvec.shape)\n",
    "cffform = np.random.default_rng(seed).uniform(low=-5.0, high=5.0, size=cvec.shape)"
   ],
   "metadata": {
    "collapsed": false,
    "pycharm": {
     "name": "#%%\n"
    }
   }
  },
  {
   "cell_type": "code",
   "execution_count": 32,
   "outputs": [
    {
     "name": "stdout",
     "output_type": "stream",
     "text": [
      "Warning: Desired error not necessarily achieved due to precision loss.\n",
      "         Current function value: 0.000000\n",
      "         Iterations: 128\n",
      "         Function evaluations: 310\n",
      "         Gradient evaluations: 296\n"
     ]
    }
   ],
   "source": [
    "resform = spo.minimize(cobjfn, cffform, jac=gradcobjfn, tol=1e-15, options={'maxiter': 200, 'disp': True, 'gtol': 1e-14}).x"
   ],
   "metadata": {
    "collapsed": false,
    "pycharm": {
     "name": "#%%\n"
    }
   }
  },
  {
   "cell_type": "code",
   "execution_count": 33,
   "outputs": [
    {
     "name": "stdout",
     "output_type": "stream",
     "text": [
      "Objective of the Learned Coefficients:\n",
      "4.267224846632407e-24\n",
      "Vec L2 Norm of Gradient of the Learned Coefficients:\n",
      "1.9707080368340376e-11\n",
      "Continuous L2 Error of Potential using Quadrature Method:\n",
      "2.4257630525164238e-11\n"
     ]
    },
    {
     "data": {
      "text/plain": "<Figure size 432x288 with 1 Axes>",
      "image/png": "[encoded data removed]"
     },
     "metadata": {
      "needs_background": "light"
     },
     "output_type": "display_data"
    }
   ],
   "source": [
    "# print('Chebyshev Coefficients of the True Potential:', cvec, sep='\\n')\n",
    "# print('', 'Chebyshev Coefficients of the Learned Potential:', resform, sep='\\n')\n",
    "\n",
    "print('Objective of the Learned Coefficients:', cobjfn(resform), sep='\\n')\n",
    "print('Vec L2 Norm of Gradient of the Learned Coefficients:', nl.norm(gradcobjfn(resform)), sep='\\n')\n",
    "\n",
    "print('Continuous L2 Error of Potential using Quadrature Method:', np.sqrt(si.quad(sqrerrorfn, -L, L, args=(resform)))[0], sep='\\n')\n",
    "\n",
    "# print('', 'Gradient of the Learned Coefficients:', gradcobjfn(resform), sep='\\n')\n",
    "\n",
    "# print('', 'L2 Error of the Initialized Chebyshev Coefficients:', nl.norm(cvec - cffform), sep='\\n')\n",
    "# print('', 'L2 Error of the Learned Chebyshev Coefficients:', nl.norm(cvec - resform), sep='\\n')\n",
    "# print('', 'L-infinity Error of the Initialized Chebyshev Coefficients:', np.max(np.abs(cvec - cffform)), sep='\\n')\n",
    "# print('', 'L-infinity Error of the Learned Chebyshev Coefficients:', np.max(np.abs(cvec - resform)), sep='\\n')\n",
    "\n",
    "# plot learned vs true\n",
    "plt.plot(xvec, ctoxmat @ resform, label='initial')\n",
    "plt.plot(xvec, ctoxmat @ resform, label='learned')\n",
    "plt.plot(xvec, vxvec, label='Truth')\n",
    "# plt.xlim((-5, 5))\n",
    "# plt.ylim((0, 10))\n",
    "plt.title('Learned Potential vs. Truth')\n",
    "plt.legend()\n",
    "plt.show()"
   ],
   "metadata": {
    "collapsed": false,
    "pycharm": {
     "name": "#%%\n"
    }
   }
  },
  {
   "cell_type": "markdown",
   "source": [
    "---"
   ],
   "metadata": {
    "collapsed": false,
    "pycharm": {
     "name": "#%% md\n"
    }
   }
  },
  {
   "cell_type": "code",
   "execution_count": 46,
   "outputs": [],
   "source": [
    "def adjhelper(cffs):\n",
    "    # construct the vmat from Chebyshev coefficients\n",
    "    # function which returns the chebyshev approximation\n",
    "    # given a set of coefficients\n",
    "    def vcaprx(x):\n",
    "        # don't forget that the chebyshev representation's\n",
    "        # interval is x \\in [-1, 1]\n",
    "        return sps.eval_chebyt(np.expand_dims(cnvec, 0), x / L) @ cffs\n",
    "\n",
    "    cvrow = []\n",
    "    for thisn in range(2 * nF + 1):\n",
    "        def intgrnd(x):\n",
    "            return vcaprx(x) * np.exp(-1j * np.pi * thisn * x / L) / (2 * L)\n",
    "        def rintgrnd(x):\n",
    "            return jnp.real(intgrnd(x))\n",
    "        def iintgrnd(x):\n",
    "            return jnp.imag(intgrnd(x))\n",
    "        cvrow.append(si.quad(rintgrnd, -L, L)[0] + 1j * si.quad(iintgrnd, -L, L)[0])\n",
    "\n",
    "    # make the python list cvrow a jax object\n",
    "    cvrow = jnp.stack(cvrow)\n",
    "\n",
    "    # make toeplitz matrix by hand, so it's JAX grad/jacobian\n",
    "    # compliant\n",
    "    flattoepvec = jnp.concatenate([jnp.flipud(cvrow.conj()), cvrow[1:]])\n",
    "    # make potential matrix vmat from the Chebyshev coefficients\n",
    "    vmat = flattoepvec[toepindxmat]\n",
    "\n",
    "    # construct the Hamiltonian matrix in the\n",
    "    # Fourier representation\n",
    "    hmat = kmat + vmat\n",
    "\n",
    "    # eigendecomposition of the Hamiltonian matrix\n",
    "    spc, stts = jnpl.eigh(hmat)\n",
    "\n",
    "    # compute the propagator matrix using the\n",
    "    # result of the eigendecomposition\n",
    "    propamat = stts @ np.diag(np.exp(-1j * spc * dt)) @ stts.conj().T\n",
    "    propHmat = stts @ np.diag(np.exp(1j * spc * dt)) @ stts.conj().T\n",
    "\n",
    "    # propagate the system starting from ainit\n",
    "    # using propamat, i.e., solve the forward problem\n",
    "    amat = [ainit]\n",
    "    for i in range(ntsteps):\n",
    "        amat.append(propamat @ amat[i])\n",
    "\n",
    "    # make python list of Fourier basis wave functions\n",
    "    # a jax object\n",
    "    amat = jnp.stack(amat)\n",
    "\n",
    "    # propagate the \"lambda\" vector of coefficients backward\n",
    "    # in time, i.e., solve the adjoint problem\n",
    "    lmat = [amat[ntsteps,:] - amat[ntsteps,:]]\n",
    "\n",
    "    itr = 0 # forward evaluation of lmat\n",
    "    for i in range(ntsteps - 1, -1, -1):\n",
    "        lmat.append(amat[i,:] - Famat[i,:] + propHmat @ lmat[itr] )\n",
    "        itr += 1\n",
    "\n",
    "    lmat = jnp.flipud(jnp.stack(lmat))\n",
    "\n",
    "    offdiagmask = jnp.ones((ntoepelm, ntoepelm)) - jnp.eye(ntoepelm)\n",
    "    expspec = jnp.exp(-1j * dt * spc)\n",
    "    e1, e2 = jnp.meshgrid(expspec, expspec)\n",
    "    s1, s2 = jnp.meshgrid(spc, spc)\n",
    "    denom = offdiagmask * (-1j * dt) * (s1 - s2) + jnp.eye(ntoepelm)\n",
    "    mask = offdiagmask * (e1 - e2)/denom + jnp.diag(expspec)\n",
    "    myeye = jnp.eye(ntoepelm)\n",
    "    ws = jnp.hstack([jnp.fliplr(myeye), myeye[:,1:]]).T\n",
    "    ctrmats = ws[toepindxmat]\n",
    "    derivamats = jnp.einsum('ij,jkm,kl->ilm', stts.conj().T, ctrmats, stts) * jnp.expand_dims(mask, 2)\n",
    "    alldmatreal = -1j * dt * jnp.einsum('ij,jkm,kl->mil', stts, derivamats, stts.conj().T)\n",
    "\n",
    "    ws = 1.0j * jnp.hstack([-jnp.fliplr(myeye), myeye[:, 1:]])\n",
    "    ws = ws[1:, :]\n",
    "    ws = ws.T\n",
    "    ctrmats = ws[toepindxmat]\n",
    "    derivamats = jnp.einsum('ij,jkm,kl->ilm', stts.conj().T, ctrmats, stts) * jnp.expand_dims(mask, 2)\n",
    "    alldmatimag = -1j*dt*jnp.einsum('ij,jkm,kl->mil', stts, derivamats, stts.conj().T)\n",
    "\n",
    "    alldmat = jnp.vstack([alldmatreal, alldmatimag])\n",
    "\n",
    "    return lmat, alldmat, amat\n",
    "\n",
    "def cgradfn(cffs):\n",
    "    lmat, alldmat, amat = adjhelper(cffs)\n",
    "    # compute all entries of the gradient at once\n",
    "    gradients = jnp.einsum('ij,ajk,ik->a', jnp.conj(lmat[1:, :]), alldmat, amat[:-1, :]).real\n",
    "    return gradients"
   ],
   "metadata": {
    "collapsed": false,
    "pycharm": {
     "name": "#%%\n"
    }
   }
  },
  {
   "cell_type": "code",
   "execution_count": null,
   "outputs": [],
   "source": [],
   "metadata": {
    "collapsed": false,
    "pycharm": {
     "name": "#%%\n"
    }
   }
  }
 ],
 "metadata": {
  "kernelspec": {
   "display_name": "Python 3 (ipykernel)",
   "language": "python",
   "name": "python3"
  },
  "language_info": {
   "codemirror_mode": {
    "name": "ipython",
    "version": 3
   },
   "file_extension": ".py",
   "mimetype": "text/x-python",
   "name": "python",
   "nbconvert_exporter": "python",
   "pygments_lexer": "ipython3",
   "version": "3.9.9"
  }
 },
 "nbformat": 4,
 "nbformat_minor": 5
}