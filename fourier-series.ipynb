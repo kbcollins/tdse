{
 "cells": [
  {
   "cell_type": "markdown",
   "metadata": {},
   "source": [
    "<h3>Introduction</h3>\n",
    "\n",
    "This note explores the relationship between the Fourier series and continuous Fourier transform and the possibility of approximating the solution to the Fourier series integral as a Fourier transform."
   ]
  },
  {
   "cell_type": "markdown",
   "metadata": {},
   "source": [
    "<h3>Gaussian Function</h3>\n",
    "A shifted Gaussian function has the following definition\n",
    "$$\n",
    "f(x) = e^{- \\alpha (x - \\beta)^2}\n",
    "$$"
   ]
  },
  {
   "cell_type": "code",
   "execution_count": 26,
   "metadata": {},
   "outputs": [],
   "source": [
    "import scipy.integrate as si\n",
    "import numpy as np\n",
    "import matplotlib.pyplot as plt"
   ]
  },
  {
   "cell_type": "code",
   "execution_count": 73,
   "metadata": {},
   "outputs": [
    {
     "name": "stdout",
     "output_type": "stream",
     "text": [
      "70.0 -30.0 100\n"
     ]
    },
    {
     "data": {
      "image/png": "[encoded data removed]",
      "text/plain": [
       "<Figure size 432x288 with 1 Axes>"
      ]
     },
     "metadata": {
      "needs_background": "light"
     },
     "output_type": "display_data"
    }
   ],
   "source": [
    "alpha = 1/4\n",
    "beta = 20\n",
    "\n",
    "L = 100\n",
    "b = L/2 + beta\n",
    "a = -b + 2*beta\n",
    "\n",
    "#b = 15 + beta\n",
    "#a = -b + 2*beta\n",
    "#L = b - a\n",
    "print(b, a, L)\n",
    "\n",
    "Nx = 5000\n",
    "x = np.linspace(-b, b, Nx)\n",
    "\n",
    "def gauss(x):\n",
    "    return np.exp(-alpha * (x - beta)**2)\n",
    "\n",
    "plt.plot(x, gauss(x), '.')\n",
    "plt.show()"
   ]
  },
  {
   "cell_type": "markdown",
   "metadata": {},
   "source": [
    "<h3>Fourier Series</h3>\n",
    "\n",
    "Let $f(x)$ be a **periodic function** of x, with period $L$. The *fundamental interval* is taken to be $(a , b)$, so $L = (b - a)$ and $f(x) = f(x+n L)$ for any integer $n$\n",
    "\n",
    "The Fourier series coefficients, $f_n$, can be computed with\n",
    "$$\n",
    "f_n = \\int_a^b dx f(x) e^{-2 \\pi n i x / L}\n",
    "$$\n",
    "where $-\\infty < n < \\infty$. However, if $f(x)$ is real valued, then $\\overline{f_n} = f_{-n}$, so only $0 \\leq n < \\infty$ must be computed ($-\\infty < n < 0$ can be found by taking the complex conjugate).\n",
    "\n",
    "In the real basis the above equation becomes\n",
    "$$\n",
    "f_m = \\frac{L}{2} \\left( a_m - i b_m \\right) \\quad \\text{for}\\ m \\geq 0, \\qquad f_{-m} = \\frac{L}{2} \\left( a_m + i b_m \\right) \\quad \\text{for}\\ m \\geq 1\n",
    "$$\n",
    "where\n",
    "$$\n",
    "a_m = \\frac{2}{L} \\int_a^b dx f(x) \\cos (2 \\pi m x / L)\n",
    "$$\n",
    "$$\n",
    "b_m = \\frac{2}{L} \\int_a^b dx f(x) \\sin (2 \\pi m x / L)\n",
    "$$\n"
   ]
  },
  {
   "cell_type": "code",
   "execution_count": 74,
   "metadata": {},
   "outputs": [
    {
     "name": "stdout",
     "output_type": "stream",
     "text": [
      "(5000,)\n"
     ]
    },
    {
     "data": {
      "image/png": "[encoded data removed]",
      "text/plain": [
       "<Figure size 432x288 with 1 Axes>"
      ]
     },
     "metadata": {
      "needs_background": "light"
     },
     "output_type": "display_data"
    }
   ],
   "source": [
    "# determins how many harmonics are used\n",
    "Nf = 600\n",
    "\n",
    "fn = np.zeros(Nf, dtype=np.complex128)\n",
    "for m in range(Nf):\n",
    "    def amfn(x):\n",
    "        return (2 / L) * gauss(x) * np.cos(2 * np.pi * m * x / L)\n",
    "    def bmfn(x):\n",
    "        return (2 / L) * gauss(x) * np.sin(2 * np.pi * m * x / L)\n",
    "\n",
    "    am = si.quad(amfn, a, b)[0]\n",
    "    bm = si.quad(bmfn, a, b)[0]\n",
    "    \n",
    "    fn[m] = (L / 2) * (am - 1j*bm)\n",
    "    \n",
    "recfn = np.zeros_like(x, dtype=np.complex128)\n",
    "for n in range(-Nf+1, Nf):\n",
    "    if n < 0:\n",
    "        recfn += np.exp(2 * np.pi * 1j * n * x / L) * np.conj(fn[n])\n",
    "    else:\n",
    "        recfn += np.exp(2 * np.pi * 1j * n * x / L) * fn[n]\n",
    "else:\n",
    "    recfn *= (1/L)\n",
    "                  \n",
    "print(recfn.shape)\n",
    "\n",
    "plt.plot(x, np.abs(recfn))\n",
    "plt.show()\n"
   ]
  },
  {
   "cell_type": "markdown",
   "metadata": {},
   "source": [
    "<h3>Fourier Transfrom</h3>\n",
    "\n",
    "To transfrom from the Fourier seeries to the (continuous) Fourier\n",
    "$$\n",
    "a \\rightarrow -\\infty, \\quad b \\rightarrow \\infty\n",
    "$$\n",
    "thus $L \\rightarrow \\infty$. Also, $2 \\pi m / L \\rightarrow k$, that is, we transfrom from discrete steps in $m$ to the continuous variable $k$. The result of this is the Fourier transfrom\n",
    "$$\n",
    "\\widetilde{f}(k) = \\int_{-\\infty}^\\infty dx e^{-i k x} f(x)\n",
    "$$\n",
    "\n",
    "**Fourier Transform of a Gaussian.**\n",
    "Given a Gaussian function centerned at the origin, that is, $f(x) = e^{- \\alpha x^2}$ the Fourier transform has the following result\n",
    "$$\n",
    "\\widetilde{f}(k) = \\sqrt{\\frac{\\pi}{\\alpha}} e^{-k^2 / 4 \\alpha}\n",
    "$$\n",
    "\n",
    "To find this result for a shifted Gaussian we start with\n",
    "$$\n",
    "\\widetilde{f}(k) = \\int_{-\\infty}^\\infty dz e^{-i k z} e^{- \\alpha (z - \\beta)^2}\n",
    "$$\n",
    "then we make the variable change $ x = z - \\beta $, thus\n",
    "$$\n",
    "\\widetilde{f}(k) = \\int_{-\\infty}^\\infty dx e^{-i k (x + \\beta)} e^{- \\alpha x^2}\n",
    "$$\n",
    "which we rearrange as\n",
    "$$\n",
    "\\widetilde{f}(k) = e^{-i k \\beta} \\int_{-\\infty}^\\infty dx e^{-i k x} e^{- \\alpha x^2}\n",
    "$$\n",
    "So our final result is\n",
    "$$\n",
    "\\widetilde{f}(k) = e^{-i k \\beta} \\sqrt{\\frac{\\pi}{\\alpha}} e^{-k^2 / 4 \\alpha}\n",
    "$$"
   ]
  },
  {
   "cell_type": "code",
   "execution_count": 71,
   "metadata": {},
   "outputs": [],
   "source": [
    "k = 2 * np.pi * np.arange(Nf) / L\n",
    "\n",
    "fnapx = np.exp(-1j * k * beta) * np.sqrt(np.pi / alpha) * np.exp(-k**2 / (4*alpha))\n",
    "\n",
    "#print(fnapx)"
   ]
  },
  {
   "cell_type": "code",
   "execution_count": 72,
   "metadata": {},
   "outputs": [
    {
     "name": "stdout",
     "output_type": "stream",
     "text": [
      "7.641286782748377e-06\n"
     ]
    }
   ],
   "source": [
    "print(np.linalg.norm(fn - fnapx))\n",
    "#print(fn - fnapx)\n",
    "big = np.where((fn - fnapx) > 1e-15)\n",
    "#print(fn[big] - fnapx[big])"
   ]
  },
  {
   "cell_type": "code",
   "execution_count": null,
   "metadata": {},
   "outputs": [],
   "source": []
  },
  {
   "cell_type": "code",
   "execution_count": null,
   "metadata": {},
   "outputs": [],
   "source": []
  }
 ],
 "metadata": {
  "kernelspec": {
   "display_name": "Python 3",
   "language": "python",
   "name": "python3"
  },
  "language_info": {
   "codemirror_mode": {
    "name": "ipython",
    "version": 3
   },
   "file_extension": ".py",
   "mimetype": "text/x-python",
   "name": "python",
   "nbconvert_exporter": "python",
   "pygments_lexer": "ipython3",
   "version": "3.8.10"
  }
 },
 "nbformat": 4,
 "nbformat_minor": 4
}
