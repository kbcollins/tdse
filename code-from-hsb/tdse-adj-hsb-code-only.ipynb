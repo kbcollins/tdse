{
 "cells": [
  {
   "cell_type": "code",
   "execution_count": 1,
   "metadata": {},
   "outputs": [],
   "source": [
    "import numpy as np\n",
    "import scipy.linalg as sl\n",
    "import scipy.integrate as si\n",
    "import scipy.optimize\n",
    "import matplotlib.pyplot as plt\n",
    "from numba import njit\n"
   ]
  },
  {
   "cell_type": "code",
   "execution_count": 2,
   "metadata": {},
   "outputs": [],
   "source": [
    "# our Fourier representation will use basis functions from n = -nmax to n = nmax\n",
    "nmax = 128\n",
    "\n",
    "# size of spatial domain\n",
    "a = 16"
   ]
  },
  {
   "cell_type": "code",
   "execution_count": 3,
   "metadata": {},
   "outputs": [],
   "source": [
    "# symmetric double well potential just for fun\n",
    "#def v(x):\n",
    "#    return 0.25*(x**2 - 25)**2\n",
    "\n",
    "# dimensionless quantum harmonic oscillator potential\n",
    "def v(x):\n",
    "    return 0.5*x**2"
   ]
  },
  {
   "cell_type": "code",
   "execution_count": 4,
   "metadata": {},
   "outputs": [
    {
     "name": "stdout",
     "output_type": "stream",
     "text": [
      "0.0\n",
      "5.72003711317733e-12\n",
      "4.07668687362199e-14\n"
     ]
    }
   ],
   "source": [
    "# some sampling and FFT tricks\n",
    "# this integer '100' can be adjusted to improve resolution\n",
    "# if we set f_sample = 2*nmax, then we are sampling at the Nyquist frequency\n",
    "f_sample = 100 * 2 * nmax\n",
    "t, dt = np.linspace(-a, a, f_sample+2, endpoint=False, retstep=True)\n",
    "y = (np.fft.rfft(v(t)) / t.size)[:(2*nmax+1)]\n",
    "\n",
    "# this stores the Fourier series coefficients for n-m=0 to n-m=2*nmax\n",
    "vrow = y * (-1)**np.arange(2*nmax+1)\n",
    "\n",
    "# # if you want to use quadrature instead of the FFT:\n",
    "# vraw = np.zeros(2*nmax+1, dtype=np.complex128)\n",
    "# for thisn in range(2*nmax+1):\n",
    "#     def integ(x):\n",
    "#         return (2*a)**(-1)*np.exp(-1j*np.pi*thisn*x/a)*v(x)\n",
    "#     def rinteg(x):\n",
    "#         return np.real(integ(x))\n",
    "#     def iinteg(x):\n",
    "#         return np.imag(integ(x))\n",
    "#     vraw[thisn] = si.quad(rinteg, a=-a, b=a)[0] + 1j*si.quad(iinteg, a=-a, b=a)[0]\n",
    "\n",
    "# vrow = np.copy(vraw)\n",
    "\n",
    "# create Toeplitz matrix\n",
    "vmat = sl.toeplitz(r=vrow,c=np.conj(vrow))\n",
    "\n",
    "# kinetic matrix\n",
    "kmat = np.diag( np.arange(-nmax,nmax+1)**2 * np.pi**2 / (2*a**2) )\n",
    "\n",
    "# Hamiltonian matrix \n",
    "hmat = kmat + vmat\n",
    "\n",
    "# check whether Hamiltonian is Hermitian\n",
    "print(np.linalg.norm( hmat - np.conj(hmat.T) ))\n",
    "\n",
    "# eigendecomposition\n",
    "spec, states = np.linalg.eigh(hmat)\n",
    "\n",
    "# check whether this diagonalizes hmat\n",
    "# note that if this is close to zero it means that\n",
    "# hmat = states @ np.diag(spec) @ np.conj(states).T\n",
    "print(np.linalg.norm( hmat @ states - states @ np.diag(spec) ))\n",
    "\n",
    "# check whether we have a unitary matrix\n",
    "print(np.linalg.norm( states @ np.conj(states).T - np.eye(2*nmax+1) ))"
   ]
  },
  {
   "cell_type": "code",
   "execution_count": 5,
   "metadata": {},
   "outputs": [],
   "source": [
    "# find indices that sort eigenvalues\n",
    "ordering = np.argsort(spec)\n",
    "\n",
    "# spatial grid for the purposes of plotting\n",
    "xvec = np.linspace(-a, a, 1025)\n",
    "\n",
    "# convert basis coefficients into wavefunction on grid by matrix multiplication\n",
    "nvec = np.arange(-nmax,nmax+1)\n",
    "convmat = np.exp(1j*np.pi*np.outer(nvec, xvec)/a)/np.sqrt(2*a)"
   ]
  },
  {
   "cell_type": "code",
   "execution_count": 6,
   "metadata": {},
   "outputs": [
    {
     "data": {
      "image/png": "[encoded data removed]",
      "text/plain": [
       "<Figure size 432x288 with 1 Axes>"
      ]
     },
     "metadata": {
      "needs_background": "light"
     },
     "output_type": "display_data"
    },
    {
     "name": "stdout",
     "output_type": "stream",
     "text": [
      "1.0000000000000018\n"
     ]
    }
   ],
   "source": [
    "# pick out and plot ground state\n",
    "groundstate = ordering[0]\n",
    "wavefn = states[:,groundstate] @ convmat\n",
    "plt.plot(xvec, -np.real(wavefn))\n",
    "plt.show()\n",
    "\n",
    "# check normalization\n",
    "print(np.sum(np.abs(wavefn)**2 * (xvec[1]-xvec[0])))"
   ]
  },
  {
   "cell_type": "code",
   "execution_count": 7,
   "metadata": {},
   "outputs": [
    {
     "data": {
      "image/png": "[encoded data removed]",
      "text/plain": [
       "<Figure size 432x288 with 1 Axes>"
      ]
     },
     "metadata": {
      "needs_background": "light"
     },
     "output_type": "display_data"
    },
    {
     "name": "stdout",
     "output_type": "stream",
     "text": [
      "0.9999999999999993\n"
     ]
    }
   ],
   "source": [
    "# pick out and plot j-th state with j starting at 0\n",
    "wavefn = states[:,ordering[1]] @ convmat\n",
    "plt.plot(xvec, np.imag(wavefn))\n",
    "plt.show()\n",
    "\n",
    "# check normalization\n",
    "print(np.sum(np.abs(wavefn)**2 * (xvec[1]-xvec[0])))"
   ]
  },
  {
   "cell_type": "code",
   "execution_count": 8,
   "metadata": {},
   "outputs": [
    {
     "data": {
      "image/png": "[encoded data removed]",
      "text/plain": [
       "<Figure size 432x288 with 1 Axes>"
      ]
     },
     "metadata": {
      "needs_background": "light"
     },
     "output_type": "display_data"
    }
   ],
   "source": [
    "# triangular pulse\n",
    "# def psi0(x):\n",
    "#     return np.piecewise(x, [x < -1, (x >= -1) & (x <= 1), x > 1], [0, lambda x: (1 - np.abs(x)), 0])\n",
    "\n",
    "# parabolic pulse\n",
    "# def psi0(x):\n",
    "#     return np.piecewise(x, [x < -1, (x >= -1) & (x <= 1), x > 1], [0, lambda x: (1 - x**2), 0])\n",
    "\n",
    "# hyperbolic secant squared\n",
    "# def psi0(x):\n",
    "#     return (np.cosh(x))**(-2)\n",
    "\n",
    "# Laplace\n",
    "# def psi0(x):\n",
    "#     return np.exp(-np.abs(x))\n",
    "\n",
    "# rounded box function\n",
    "def psi0(x):\n",
    "    return 1.0 + np.tanh((1 - x**2)/0.5)\n",
    "\n",
    "# normalize psi0\n",
    "norm = np.sqrt(si.quad(lambda x: np.abs(psi0(x))**2, a=-1, b=a)[0])\n",
    "def normpsi0(x):\n",
    "    return psi0(x)/norm\n",
    "\n",
    "# transform initialize wave function to a0\n",
    "vraw = np.zeros(nmax+1, dtype=np.complex128)\n",
    "for thisn in range(nmax+1):\n",
    "    def integ(x):\n",
    "        return (2*a)**(-0.5)*np.exp(-1j*np.pi*thisn*x/a)*normpsi0(x)\n",
    "    def rinteg(x):\n",
    "        return np.real(integ(x))\n",
    "    def iinteg(x):\n",
    "        return np.imag(integ(x))\n",
    "    vraw[thisn] = si.quad(rinteg, a=-a, b=a)[0] + 1j*si.quad(iinteg, a=-a, b=a)[0]\n",
    "# ainit = a0\n",
    "ainit = np.concatenate([np.conjugate(np.flipud(vraw[1:])), vraw])\n",
    "\n",
    "# # some sampling and FFT tricks\n",
    "# # this integer '100' can be adjusted to improve resolution\n",
    "# # if we set f_sample = 2*nmax, then we are sampling at the Nyquist frequency\n",
    "# f_sample = 100 * 2 * nmax\n",
    "# t, dt = np.linspace(-a, a, f_sample+2, endpoint=False, retstep=True)\n",
    "# y = (np.fft.rfft(psi0(t)) / t.size)[:(2*nmax+1)]\n",
    "\n",
    "# # this stores the Fourier series coefficients for n-m=0 to n-m=2*nmax\n",
    "# vraw = y * (-1)**np.arange(2*nmax+1) * np.sqrt(2*a)\n",
    "# vrow2 = np.concatenate([np.flipud(vraw[nmax+1:]), vraw[:nmax+1]])\n",
    "\n",
    "# check whether psi0 is represented OK\n",
    "plt.plot(xvec, normpsi0(xvec), color='black', label=r\"True $\\psi_0$\")\n",
    "psi0recon = np.real(ainit @ convmat)\n",
    "plt.plot(xvec, psi0recon, color='red', label=r\"Reconstructed $\\psi_0$\")\n",
    "plt.legend()\n",
    "plt.show()"
   ]
  },
  {
   "cell_type": "code",
   "execution_count": 9,
   "metadata": {},
   "outputs": [],
   "source": [
    "# set the time step and compute the propagator matrix\n",
    "# note that we are reusing the spec, states eigendecomposition of hmat computed above\n",
    "dt = 0.01\n",
    "prop = states @ np.diag(np.exp(-1j*spec*dt)) @ np.conj(states.T)"
   ]
  },
  {
   "cell_type": "code",
   "execution_count": 10,
   "metadata": {},
   "outputs": [
    {
     "name": "stdout",
     "output_type": "stream",
     "text": [
      "[1.00681842 1.00681842 1.00681842 1.00681842 1.00681842 1.00681842\n",
      " 1.00681842 1.00681842 1.00681842 1.00681842 1.00681842 1.00681842\n",
      " 1.00681842 1.00681842 1.00681842 1.00681842 1.00681842 1.00681842\n",
      " 1.00681842 1.00681842 1.00681842 1.00681842 1.00681842 1.00681842\n",
      " 1.00681842 1.00681842 1.00681842 1.00681842 1.00681842 1.00681842\n",
      " 1.00681842 1.00681842 1.00681842 1.00681842 1.00681842 1.00681842\n",
      " 1.00681842 1.00681842 1.00681842 1.00681842 1.00681842 1.00681842\n",
      " 1.00681842 1.00681842 1.00681842 1.00681842 1.00681842 1.00681842\n",
      " 1.00681842 1.00681842 1.00681842 1.00681842 1.00681842 1.00681842\n",
      " 1.00681842 1.00681842 1.00681842 1.00681842 1.00681842 1.00681842\n",
      " 1.00681842 1.00681842 1.00681842 1.00681842 1.00681842 1.00681842\n",
      " 1.00681842 1.00681842 1.00681842 1.00681842 1.00681842 1.00681842\n",
      " 1.00681842 1.00681842 1.00681842 1.00681842 1.00681842 1.00681842\n",
      " 1.00681842 1.00681842 1.00681842 1.00681842 1.00681842 1.00681842\n",
      " 1.00681842 1.00681842 1.00681842 1.00681842 1.00681842 1.00681842\n",
      " 1.00681842 1.00681842 1.00681842 1.00681842 1.00681842 1.00681842\n",
      " 1.00681842 1.00681842 1.00681842 1.00681842 1.00681842 1.00681842\n",
      " 1.00681842 1.00681842 1.00681842 1.00681842 1.00681842 1.00681842\n",
      " 1.00681842 1.00681842 1.00681842 1.00681842 1.00681842 1.00681842\n",
      " 1.00681842 1.00681842 1.00681842 1.00681842 1.00681842 1.00681842\n",
      " 1.00681842 1.00681842 1.00681842 1.00681842 1.00681842 1.00681842\n",
      " 1.00681842 1.00681842 1.00681842 1.00681842 1.00681842 1.00681842\n",
      " 1.00681842 1.00681842 1.00681842 1.00681842 1.00681842 1.00681842\n",
      " 1.00681842 1.00681842 1.00681842 1.00681842 1.00681842 1.00681842\n",
      " 1.00681842 1.00681842 1.00681842 1.00681842 1.00681842 1.00681842\n",
      " 1.00681842 1.00681842 1.00681842 1.00681842 1.00681842 1.00681842\n",
      " 1.00681842 1.00681842 1.00681842 1.00681842 1.00681842 1.00681842\n",
      " 1.00681842 1.00681842 1.00681842 1.00681842 1.00681842 1.00681842\n",
      " 1.00681842 1.00681842 1.00681842 1.00681842 1.00681842 1.00681842\n",
      " 1.00681842 1.00681842 1.00681842 1.00681842 1.00681842 1.00681842\n",
      " 1.00681842 1.00681842 1.00681842 1.00681842 1.00681842 1.00681842\n",
      " 1.00681842 1.00681842 1.00681842 1.00681842 1.00681842 1.00681842\n",
      " 1.00681842 1.00681842 1.00681842 1.00681842 1.00681842 1.00681842\n",
      " 1.00681842 1.00681842 1.00681842]\n"
     ]
    }
   ],
   "source": [
    "# propagate the \"a\" vector of coefficients as defined above\n",
    "nsteps = 200\n",
    "amat = np.zeros((nsteps+1, 2*nmax+1), dtype=np.complex128)\n",
    "amat[0,:] = np.copy(ainit)\n",
    "for j in range(nsteps):\n",
    "    amat[j+1,:] = prop @ amat[j,:]\n",
    "\n",
    "# compute the wave function in space from each \"a\" vector\n",
    "# do it all at once using matrix multiplication!\n",
    "psi2 = (np.abs(amat @ convmat))**2\n",
    "\n",
    "# compute norm of wave function?\n",
    "psinorm = np.sqrt(np.sum(np.abs(amat)**2, axis=1))\n",
    "print(psinorm)"
   ]
  },
  {
   "cell_type": "code",
   "execution_count": 11,
   "metadata": {},
   "outputs": [
    {
     "name": "stdout",
     "output_type": "stream",
     "text": [
      "(263169, 2)\n"
     ]
    }
   ],
   "source": [
    "Xind, Yind = np.meshgrid(np.arange(2*(2*nmax+1)-1),np.arange(2*(2*nmax+1)-1))\n",
    "indices = np.stack([Xind.flatten(), Yind.flatten()]).T\n",
    "print(indices.shape)\n",
    "\n",
    "# # from itertools import product\n",
    "# # indices2 = np.flip(np.array(list(product(np.arange(2*(2*nmax+1)-1), np.arange(2*(2*nmax+1)-1)))),1)\n",
    "\n",
    "# pools = [list(np.arange(2*(2*nmax+1)-1)) for i in range(2)]\n",
    "# result = [[]]\n",
    "# for pool in pools:\n",
    "#     result = [x+[y] for x in result for y in pool]\n",
    "# indices3 = np.flip(np.array(result),1)\n",
    "\n",
    "# print(np.linalg.norm(indices-indices3))\n"
   ]
  },
  {
   "cell_type": "code",
   "execution_count": 12,
   "metadata": {},
   "outputs": [],
   "source": [
    "# this function implements the adjoint method described mathematically above\n",
    "# it takes as input x, which is a concatenation of the real and imaginary parts of thetahat\n",
    "# as you can see from the first 5 lines of the function, \n",
    "# the real and imaginary part of thetahat *parameterize* the potential matrix \"vhatmat\"\n",
    "# @jit(nopython=True)\n",
    "@njit\n",
    "def toeplitz(r, c):\n",
    "    c = np.asarray(c).ravel()\n",
    "    r = np.asarray(r).ravel()\n",
    "    # Form a 1-D array containing a reversed c followed by r[1:] that could be\n",
    "    # strided to give us toeplitz matrix.\n",
    "    vals = np.concatenate((c[::-1], r[1:]))\n",
    "    out_shp = len(c), len(r)\n",
    "    n = vals.strides[0]\n",
    "    return np.lib.stride_tricks.as_strided(vals[len(c)-1:], shape=out_shp, strides=(-n, n)).copy()\n",
    "\n",
    "# @jit(nopython=True)\n",
    "@njit\n",
    "def fone(di, dk, dn, aik, akn):\n",
    "    return -aik*akn*((dn-dk)*np.exp(di) + (di-dn)*np.exp(dk) + (dk-di)*np.exp(dn))/((di-dk)*(di-dn)*(dk-dn))\n",
    "\n",
    "# @jit(nopython=True)\n",
    "@njit\n",
    "def fik(di, dn, aik, akn):\n",
    "    return aik*akn*((-1.0 + di - dn)*np.exp(di) + np.exp(dn))/((di-dn)**2)\n",
    "\n",
    "# @jit(nopython=True)\n",
    "@njit\n",
    "def fin(di, dk, aik, akn):\n",
    "    return aik*akn*((-1.0 + di - dk)*np.exp(di) + np.exp(dk))/((di-dk)**2)\n",
    "\n",
    "# @jit(nopython=True)\n",
    "@njit\n",
    "def fkn(di, dk, aik, akn):\n",
    "    return -aik*akn*(-np.exp(di) + (1.0 + di - dk)*np.exp(dk))/((di-dk)**2)\n",
    "\n",
    "# @jit(nopython=True)\n",
    "@njit\n",
    "def fikn(di, aik, akn):\n",
    "    return 0.5*aik*akn*np.exp(di)\n",
    "\n",
    "# @jit(nopython=True)\n",
    "@njit\n",
    "def adjhesshelper(x):\n",
    "    m = 2*nmax + 1\n",
    "    thetahatR = x[:m]\n",
    "    thetahatI = np.copy(x[(m-1):])\n",
    "    thetahatI[0] = 0.0\n",
    "    thetahat = thetahatR + 1j*thetahatI\n",
    "    vhatmat = toeplitz(r=thetahat,c=np.conj(thetahat))\n",
    "    \n",
    "    # Hamiltonian matrix \n",
    "    hhatmat = kmat + vhatmat\n",
    "    \n",
    "    # eigendecomposition and compute propagator\n",
    "    hatspec, hatstates = np.linalg.eigh(hhatmat)\n",
    "    hatprop = hatstates @ np.diag(np.exp(-1j*hatspec*dt)) @ np.conj(hatstates.T)\n",
    "    hatpropH = hatstates @ np.diag(np.exp(1j*hatspec*dt)) @ np.conj(hatstates.T)\n",
    "    \n",
    "    # propagate the \"a\" vector of coefficients forward in time\n",
    "    # in other words, solve the *forward* problem\n",
    "    ahatmat = np.zeros((nsteps+1, 2*nmax+1), dtype=np.complex128)\n",
    "    ahatmat[0,:] = np.copy(ainit)\n",
    "    for j in range(nsteps):\n",
    "        ahatmat[j+1,:] = hatprop @ ahatmat[j,:]\n",
    "    \n",
    "    # propagate the \"lambda\" vector of coefficients backward in time\n",
    "    # in other words, solve the *adjoint* problem\n",
    "    lambmat = np.zeros((nsteps+1, 2*nmax+1), dtype=np.complex128)\n",
    "    lambmat[nsteps,:] = ahatmat[nsteps,:] - amat[nsteps,:] \n",
    "    for j in range(nsteps-1,0,-1):\n",
    "        lambmat[j,:] = ahatmat[j,:] - amat[j,:] + hatpropH @ lambmat[j+1,:] \n",
    "    \n",
    "    # Compute the gradients\n",
    "    # Most of this stuff is math that computes the directional derivative of the matrix exponential,\n",
    "    # the part of the derivation above where we see \"\\partial \\exp(Z) / \\partial Z \\cdot A\"\n",
    "    # for some matrix A.\n",
    "    # All of this code has been checked against JAX autograd to make sure it is computing gradients correctly.\n",
    "    # Note that it is much faster than JAX autograd.\n",
    "    alldmat = np.zeros((2*m-1, m, m), dtype=np.complex128)\n",
    "    expspec = np.exp(-1j*dt*hatspec)\n",
    "    mask = np.zeros((m,m), dtype=np.complex128)\n",
    "    for ii in range(m):\n",
    "        for jj in range(m):\n",
    "            if np.abs(hatspec[ii] - hatspec[jj]) < 1e-8:\n",
    "                mask[ii,ii] = expspec[ii]\n",
    "            else:\n",
    "                mask[ii,jj] = (expspec[ii] - expspec[jj])/(-1j*dt*(hatspec[ii]-hatspec[jj]))\n",
    "    \n",
    "    derivamat = np.zeros((2*m-1, m, m), dtype=np.complex128)\n",
    "    for iii in range(m):\n",
    "        ctrvec = np.zeros(m, dtype=np.complex128)\n",
    "        ctrvec[iii] = 1.0\n",
    "        ctrmat = toeplitz(r=ctrvec, c=np.conj(ctrvec))\n",
    "        derivamat[iii, :, :] = hatstates.conj().T @ ctrmat @ hatstates\n",
    "        qmat = derivamat[iii, :, :] * mask\n",
    "        alldmat[iii,:,:] = -1j*dt* hatstates @ qmat @ hatstates.conj().T\n",
    "    \n",
    "    for iii in range(m-1):\n",
    "        ctrvec = np.zeros(m, dtype=np.complex128)\n",
    "        ctrvec[iii + 1] = 1.0j\n",
    "        ctrmat = toeplitz(r=ctrvec, c=np.conj(ctrvec))\n",
    "        derivamat[m + iii, :, :] = hatstates.conj().T @ ctrmat @ hatstates\n",
    "        qmat = derivamat[m + iii, :, :] * mask\n",
    "        alldmat[m + iii,:,:] = -1j*dt* hatstates @ qmat @ hatstates.conj().T\n",
    "    \n",
    "    #ddmat = np.zeros((2*m-1,2*m-1,m,m), dtype=np.complex128)\n",
    "    hsp = -1j*dt*hatspec\n",
    "    thishess = np.zeros((2*m-1,2*m-1,m,m), dtype=np.complex128)\n",
    "    for ii in range(m):\n",
    "        for nn in range(m):\n",
    "            result = np.zeros((2*m-1)**2, dtype=np.complex128)\n",
    "            for kk in range(m):\n",
    "                if ii==nn:\n",
    "                    if kk==nn:\n",
    "                        result += fikn(hsp[ii], derivamat[indices[:,0],ii,kk], derivamat[indices[:,1],kk,nn])\n",
    "                        result += fikn(hsp[ii], derivamat[indices[:,1],ii,kk], derivamat[indices[:,0],kk,nn])\n",
    "                    else:\n",
    "                        result += fin(hsp[ii], hsp[kk], derivamat[indices[:,0],ii,kk], derivamat[indices[:,1],kk,nn])\n",
    "                        result += fin(hsp[ii], hsp[kk], derivamat[indices[:,1],ii,kk], derivamat[indices[:,0],kk,nn])\n",
    "                elif kk==nn:\n",
    "                    result += fkn(hsp[ii], hsp[kk], derivamat[indices[:,0],ii,kk], derivamat[indices[:,1],kk,nn])\n",
    "                    result += fkn(hsp[ii], hsp[kk], derivamat[indices[:,1],ii,kk], derivamat[indices[:,0],kk,nn])\n",
    "                elif ii==kk:\n",
    "                    result += fik(hsp[ii], hsp[nn], derivamat[indices[:,0],ii,kk], derivamat[indices[:,1],kk,nn])\n",
    "                    result += fik(hsp[ii], hsp[nn], derivamat[indices[:,1],ii,kk], derivamat[indices[:,0],kk,nn])\n",
    "                else:\n",
    "                    result += fone(hsp[ii], hsp[kk], hsp[nn], derivamat[indices[:,0],ii,kk], derivamat[indices[:,1],kk,nn])\n",
    "                    result += fone(hsp[ii], hsp[kk], hsp[nn], derivamat[indices[:,1],ii,kk], derivamat[indices[:,0],kk,nn])\n",
    "                thishess[:,:,ii,nn] += result #.reshape((2*m-1,2*m-1))\n",
    "    \n",
    "    return lambmat, alldmat, ahatmat, hatspec, hatstates, thishess"
   ]
  },
  {
   "cell_type": "code",
   "execution_count": 13,
   "metadata": {},
   "outputs": [],
   "source": [
    "def adjhess(x):\n",
    "    ddmat = np.zeros((2*m-1,2*m-1,m,m), dtype=np.complex128)\n",
    "    \n",
    "    lambmat, alldmat, ahatmat, hatspec, hatstates, thishess = adjhesshelper(x)\n",
    "    \n",
    "    # compute lagrangian\n",
    "    resid = ahatmat - amat\n",
    "    lag = 0.5*np.real(np.sum(np.conj(resid)*resid))\n",
    "    \n",
    "    # compute all entries of the gradient at once\n",
    "    gradients = np.real(np.einsum('ij,ajk,ik->a', np.conj(lambmat[1:,:]), alldmat, ahatmat[:-1,:]))\n",
    "    \n",
    "    # propagate \\nabla_{\\theta} a\n",
    "    hatprop = hatstates @ np.diag(np.exp(-1j*hatspec*dt)) @ np.conj(hatstates.T)\n",
    "    hatpropH = hatstates @ np.diag(np.exp(1j*hatspec*dt)) @ np.conj(hatstates.T)\n",
    "    gradamat = np.zeros((nsteps+1, 2*nmax+1, 4*nmax+1), dtype=np.complex128)\n",
    "    for j in range(nsteps):\n",
    "        gradamat[j+1,:,:] = hatprop @ gradamat[j,:,:] + (alldmat @ ahatmat[j,:]).T\n",
    "    \n",
    "    # propagate \\nabla_{\\theta} \\lambda\n",
    "    gradlamb = np.zeros((nsteps+1, 2*nmax+1, 4*nmax+1), dtype=np.complex128)\n",
    "    gradlamb[nsteps] = np.copy(gradamat[nsteps])\n",
    "    alldmatH = np.transpose(alldmat.conj(),axes=(2,1,0))\n",
    "    for j in range(nsteps-1,-1,-1):\n",
    "        term1 = hatpropH @ gradlamb[j+1,:,:]\n",
    "        term2 = np.einsum('ijk,j->ik', alldmatH, lambmat[j+1,:])\n",
    "        gradlamb[j,:,:] = gradamat[j,:,:] + term1 + term2\n",
    "    \n",
    "    # compute all entries of the Hessian at once\n",
    "    ddmat = (-dt**2)*np.einsum('ij,abjk,kl->abil',hatstates,thishess,hatstates.conj().T)\n",
    "    hesspt1 = np.real(np.einsum('ijl,ajk,ik->al', np.conj(gradlamb[1:,:,:]), alldmat, ahatmat[:-1,:]))\n",
    "    hesspt2 = np.real(np.einsum('ij,ajk,ikl->al', np.conj(lambmat[1:,:]), alldmat, gradamat[:-1,:,:]))\n",
    "    hesspt3 = np.real(np.einsum('ij,aljk,ik->al', np.conj(lambmat[1:,:]), ddmat, ahatmat[:-1,:]))\n",
    "    hess = hesspt1 + hesspt2 + hesspt3\n",
    "    \n",
    "    return lag, gradients, hess"
   ]
  },
  {
   "cell_type": "code",
   "execution_count": 14,
   "metadata": {},
   "outputs": [
    {
     "name": "stdout",
     "output_type": "stream",
     "text": [
      "(513,)\n"
     ]
    }
   ],
   "source": [
    "# grab true theta used to generate training data\n",
    "truethetaR = np.real(vrow)\n",
    "truethetaI = np.imag(vrow[1:])\n",
    "x0 = np.concatenate([truethetaR, truethetaI])\n",
    "print(x0.shape)"
   ]
  },
  {
   "cell_type": "code",
   "execution_count": null,
   "metadata": {},
   "outputs": [],
   "source": [
    "# compute Lagrangian and gradient for true theta\n",
    "truelag, trueag, truehess = adjhess(x0)\n",
    "\n",
    "# think of this as a sanity check: when we plug in the true theta,\n",
    "# - the Lagrangian should be zero, because the objective function should be 0 and the constraint is satisfied, and\n",
    "# - the gradient of the Lagrangian should be zero\n",
    "print(truelag)\n",
    "print(np.linalg.norm(trueag))"
   ]
  },
  {
   "cell_type": "code",
   "execution_count": 16,
   "metadata": {},
   "outputs": [],
   "source": [
    "# for the purposes of calling scipy.optimize, we split our adjgrad function into two parts\n",
    "\n",
    "# this function computes the Lagrangian; it *does not compute* the gradient\n",
    "@jit(nopython=True)\n",
    "def justlag(x):\n",
    "    m = 2*nmax + 1\n",
    "    thetahatR = x[:m]\n",
    "    thetahatI = np.copy(x[(m-1):])\n",
    "    thetahatI[0] = 0.0\n",
    "    thetahat = thetahatR + 1j*thetahatI\n",
    "    vhatmat = toeplitz(r=thetahat,c=np.conj(thetahat))\n",
    "    \n",
    "    # Hamiltonian matrix \n",
    "    hhatmat = kmat + vhatmat\n",
    "    \n",
    "    # eigendecomposition and compute propagator\n",
    "    hatspec, hatstates = np.linalg.eigh(hhatmat)\n",
    "    hatprop = hatstates @ np.diag(np.exp(-1j*hatspec*dt)) @ np.conj(hatstates.T)\n",
    "    hatpropH = hatstates @ np.diag(np.exp(1j*hatspec*dt)) @ np.conj(hatstates.T)\n",
    "    \n",
    "    # propagate the \"a\" vector of coefficients as defined above\n",
    "    ahatmat = np.zeros((nsteps+1, 2*nmax+1), dtype=np.complex128)\n",
    "    ahatmat[0,:] = np.copy(ainit)\n",
    "    for j in range(nsteps):\n",
    "        ahatmat[j+1,:] = hatprop @ ahatmat[j,:]\n",
    "    \n",
    "    # compute lagrangian\n",
    "    resid = ahatmat - amat\n",
    "    lag = 0.5*np.real(np.sum(np.conj(resid)*resid))\n",
    "    \n",
    "    return lag\n",
    "\n",
    "def justgrad(x):\n",
    "    lambmat, alldmat, ahatmat, _, _, _ = adjhesshelper(x)\n",
    "    \n",
    "    # compute all entries of the gradient at once\n",
    "    gradients = np.real(np.einsum('ij,ajk,ik->a', np.conj(lambmat[1:,:]), alldmat, ahatmat[:-1,:]))\n",
    "    return gradients\n",
    "\n",
    "def justhess(x):\n",
    "    lambmat, alldmat, ahatmat, hatspec, hatstates, thishess = adjhesshelper(x)\n",
    "    \n",
    "    # propagate \\nabla_{\\theta} a\n",
    "    hatprop = hatstates @ np.diag(np.exp(-1j*hatspec*dt)) @ np.conj(hatstates.T)\n",
    "    hatpropH = hatstates @ np.diag(np.exp(1j*hatspec*dt)) @ np.conj(hatstates.T)\n",
    "    gradamat = np.zeros((nsteps+1, 2*nmax+1, 4*nmax+1), dtype=np.complex128)\n",
    "    for j in range(nsteps):\n",
    "        gradamat[j+1,:,:] = hatprop @ gradamat[j,:,:] + (alldmat @ ahatmat[j,:]).T\n",
    "    \n",
    "    # propagate \\nabla_{\\theta} \\lambda\n",
    "    gradlamb = np.zeros((nsteps+1, 2*nmax+1, 4*nmax+1), dtype=np.complex128)\n",
    "    gradlamb[nsteps] = np.copy(gradamat[nsteps])\n",
    "    alldmatH = np.transpose(alldmat.conj(),axes=(2,1,0))\n",
    "    for j in range(nsteps-1,-1,-1):\n",
    "        term1 = hatpropH @ gradlamb[j+1,:,:]\n",
    "        term2 = np.einsum('ijk,j->ik', alldmatH, lambmat[j+1,:])\n",
    "        gradlamb[j,:,:] = gradamat[j,:,:] + term1 + term2\n",
    "    \n",
    "    # compute all entries of the Hessian at once\n",
    "    ddmat = (-dt**2)*np.einsum('ij,abjk,kl->abil',hatstates,thishess,hatstates.conj().T)\n",
    "    hesspt1 = np.real(np.einsum('ijl,ajk,ik->al', np.conj(gradlamb[1:,:,:]), alldmat, ahatmat[:-1,:]))\n",
    "    hesspt2 = np.real(np.einsum('ij,ajk,ikl->al', np.conj(lambmat[1:,:]), alldmat, gradamat[:-1,:,:]))\n",
    "    hesspt3 = np.real(np.einsum('ij,aljk,ik->al', np.conj(lambmat[1:,:]), ddmat, ahatmat[:-1,:]))\n",
    "    hess = hesspt1 + hesspt2 + hesspt3\n",
    "    return hess"
   ]
  },
  {
   "cell_type": "code",
   "execution_count": 20,
   "metadata": {},
   "outputs": [
    {
     "data": {
      "image/png": "[encoded data removed]",
      "text/plain": [
       "<Figure size 432x288 with 1 Axes>"
      ]
     },
     "metadata": {
      "needs_background": "light"
     },
     "output_type": "display_data"
    }
   ],
   "source": [
    "plt.plot(np.arange(2*nmax+1),np.log(np.abs(truethetaR)))\n",
    "plt.show()"
   ]
  },
  {
   "cell_type": "code",
   "execution_count": 21,
   "metadata": {
    "collapsed": true,
    "jupyter": {
     "outputs_hidden": true
    },
    "tags": []
   },
   "outputs": [
    {
     "data": {
      "text/plain": [
       "array([ 2.36600000e+03, -1.58597723e+03,  1.06311233e+03, -7.12625505e+02,\n",
       "        4.77687162e+02, -3.20203280e+02,  2.14638677e+02, -1.43876608e+02,\n",
       "        9.64433746e+01, -6.46479273e+01,  4.33348016e+01, -2.90481862e+01,\n",
       "        1.94715815e+01, -1.30521914e+01,  8.74914555e+00, -5.86472765e+00,\n",
       "        3.93124451e+00, -2.63519200e+00,  1.76642202e+00, -1.18406809e+00,\n",
       "        7.93704578e-01, -5.32036089e-01,  3.56634456e-01, -2.39059225e-01,\n",
       "        1.60246191e-01, -1.07416234e-01,  7.20032548e-02, -4.82652251e-02,\n",
       "        3.23531479e-02, -2.16869636e-02,  1.45372064e-02, -9.74458088e-03,\n",
       "        6.53198791e-03, -4.37852243e-03,  2.93501136e-03, -1.96739695e-03,\n",
       "        1.31878561e-03, -8.84008433e-04,  5.92568574e-04, -3.97210594e-04,\n",
       "        2.66258223e-04, -1.78478225e-04,  1.19637532e-04, -8.01954358e-05,\n",
       "        5.37566082e-05, -3.60341321e-05,  2.41544011e-05, -1.61911792e-05,\n",
       "        1.08532720e-05, -7.27516580e-06,  4.87668947e-06, -3.26894271e-06,\n",
       "        2.19123783e-06, -1.46883064e-06,  9.84586623e-07, -6.59988151e-07,\n",
       "        4.42403288e-07, -2.96551792e-07,  1.98784611e-07, -1.33249310e-07,\n",
       "        8.93196833e-08, -5.98727742e-08,  4.01339208e-08, -2.69025716e-08,\n",
       "        1.80333331e-08, -1.20881046e-08,  8.10289886e-09, -5.43153554e-09,\n",
       "        3.64086715e-09, -2.44054624e-09,  1.63594707e-09, -1.09660811e-09,\n",
       "        7.35078400e-10, -4.92737787e-10,  3.30292016e-10, -2.21401359e-10,\n",
       "        1.48409769e-10, -9.94820435e-11,  6.66848080e-11, -4.47001636e-11,\n",
       "        2.99634157e-11, -2.00850782e-11,  1.34634305e-11, -9.02480737e-12,\n",
       "        6.04950929e-12, -4.05510735e-12,  2.71821974e-12, -1.82207718e-12,\n",
       "        1.22137486e-12, -8.18712054e-13,  5.48799102e-13, -3.67871039e-13,\n",
       "        2.46591332e-13, -1.65295113e-13,  1.10800628e-13, -7.42718819e-14,\n",
       "        4.97859313e-14, -3.33725077e-14,  2.23702609e-14, -1.49952343e-14,\n",
       "        1.00516062e-14, -6.73779311e-15,  4.51647779e-15, -3.02748560e-15,\n",
       "        2.02938429e-15, -1.36033697e-15,  9.11861139e-16, -6.11238801e-16,\n",
       "        4.09725621e-16, -2.74647297e-16,  1.84101589e-16, -1.23406985e-16,\n",
       "        8.27221762e-17, -5.54503330e-17,  3.71694697e-17, -2.49154407e-17,\n",
       "        1.67013193e-17, -1.11952291e-17,  7.50438652e-18, -5.03034072e-18,\n",
       "        3.37193822e-18, -2.26027778e-18,  1.51510951e-18, -1.01560827e-18,\n",
       "        6.80782585e-19, -4.56342214e-19,  3.05895334e-19, -2.05047774e-19,\n",
       "        1.37447634e-19, -9.21339040e-20,  6.17592028e-20, -4.13984317e-20,\n",
       "        2.77501986e-20, -1.86015144e-20,  1.24689680e-20, -8.35819920e-21,\n",
       "        5.60266847e-21, -3.75558099e-21,  2.51744122e-21, -1.68749132e-21,\n",
       "        1.13115926e-21, -7.58238725e-22,  5.08262617e-22, -3.40698621e-22,\n",
       "        2.28377115e-22, -1.53085758e-22,  1.02616453e-22, -6.87858652e-23,\n",
       "        4.61085443e-23, -3.09074816e-23,  2.07179045e-23, -1.38876267e-23,\n",
       "        9.30915455e-24, -6.24011291e-24,  4.18287277e-24, -2.80386347e-24,\n",
       "        1.87948589e-24, -1.25985707e-24,  8.44507448e-25, -5.66090271e-25,\n",
       "        3.79461657e-25, -2.54360755e-25,  1.70503113e-25, -1.14291655e-25,\n",
       "        7.66119872e-26, -5.13545508e-26,  3.44239848e-26, -2.30750871e-26,\n",
       "        1.54676935e-26, -1.03683050e-26,  6.95008268e-27, -4.65877974e-27,\n",
       "        3.12287345e-27, -2.09332467e-27,  1.40319749e-27, -9.40591408e-28,\n",
       "        6.30497276e-28, -4.22634963e-28,  2.83300688e-28, -1.89902130e-28,\n",
       "        1.27295205e-28, -8.53285274e-29,  5.71974224e-29, -3.83405788e-29,\n",
       "        2.57004586e-29, -1.72275326e-29,  1.15479604e-29, -7.74082936e-30,\n",
       "        5.18883309e-30, -3.47817884e-30,  2.33149300e-30, -1.56284649e-30,\n",
       "        1.04760733e-30, -7.02232196e-31,  4.70720318e-31, -3.15533265e-31,\n",
       "        2.11508273e-31, -1.41778235e-31,  9.50367932e-32, -6.37050676e-32,\n",
       "        4.27027838e-32, -2.86245320e-32,  1.91875976e-32, -1.28618313e-32,\n",
       "        8.62154337e-33, -5.77919335e-33,  3.87390915e-33, -2.59675896e-33,\n",
       "        1.74065959e-33, -1.16679901e-33,  7.82128768e-34, -5.24276592e-34,\n",
       "        3.51433109e-34, -2.35572658e-34,  1.57909075e-34, -1.05849618e-34,\n",
       "        7.09531211e-35, -4.75612994e-35,  3.18812924e-35, -2.13706694e-35,\n",
       "        1.43251881e-35, -9.60246074e-36,  6.43672192e-36, -4.31466374e-36,\n",
       "        2.89220559e-36, -1.93870339e-36,  1.29955174e-36, -8.71115585e-37,\n",
       "        5.83926239e-37, -3.91417463e-37,  2.62374972e-37, -1.75875203e-37,\n",
       "        1.17892674e-37, -7.90258229e-38,  5.29725932e-38, -3.55085911e-38,\n",
       "        2.38021205e-38, -1.59550385e-38,  1.06949821e-38, -7.16906091e-39,\n",
       "        4.80556524e-39, -3.22126671e-39,  2.15927965e-39, -1.44740844e-39,\n",
       "        9.70226889e-40, -6.50362533e-40,  4.35951043e-40, -2.92226723e-40,\n",
       "        1.95885431e-40, -1.31305931e-40,  8.80169976e-41, -5.89995579e-41,\n",
       "        3.95485864e-41, -2.65102102e-41,  1.77703253e-41, -1.19118053e-41,\n",
       "        7.98472188e-42])"
      ]
     },
     "execution_count": 21,
     "metadata": {},
     "output_type": "execute_result"
    }
   ],
   "source": [
    "2366*np.exp(-0.4*np.arange(2*nmax+1))*((-1)**np.arange(2*nmax+1))"
   ]
  },
  {
   "cell_type": "code",
   "execution_count": 22,
   "metadata": {
    "collapsed": true,
    "jupyter": {
     "outputs_hidden": true
    },
    "tags": []
   },
   "outputs": [
    {
     "data": {
      "text/plain": [
       "array([ 4.26666668e+01, -2.59382231e+01,  6.48455588e+00, -2.88202491e+00,\n",
       "        1.62113907e+00, -1.03752905e+00,  7.20506325e-01, -5.29351620e-01,\n",
       "        4.05284865e-01, -3.20225106e-01,  2.59382360e-01, -2.14365610e-01,\n",
       "        1.80126679e-01, -1.53480740e-01,  1.32338003e-01, -1.15281121e-01,\n",
       "        1.01321314e-01, -8.97517669e-02,  8.00563741e-02, -7.18511635e-02,\n",
       "        6.48456877e-02, -5.88169624e-02,  5.35915000e-02, -4.90326879e-02,\n",
       "        4.50317674e-02, -4.15012870e-02,  3.83702826e-02, -3.55806830e-02,\n",
       "        3.30845983e-02, -3.08422503e-02,  2.88203780e-02, -2.69909970e-02,\n",
       "        2.53304261e-02, -2.38185168e-02,  2.24380394e-02, -2.11741898e-02,\n",
       "        2.00141912e-02, -1.89469695e-02,  1.79628885e-02, -1.70535312e-02,\n",
       "        1.62115196e-02, -1.54303640e-02,  1.47043382e-02, -1.40283741e-02,\n",
       "        1.33979727e-02, -1.28091292e-02,  1.22582696e-02, -1.17421958e-02,\n",
       "        1.12580395e-02, -1.08032218e-02,  1.03754194e-02, -9.97253427e-03,\n",
       "        9.59266829e-03, -9.23410065e-03,  8.89526840e-03, -8.57474937e-03,\n",
       "        8.27124722e-03, -7.98357833e-03,  7.71066022e-03, -7.45150135e-03,\n",
       "        7.20519214e-03, -6.97089692e-03,  6.74784689e-03, -6.53533377e-03,\n",
       "        6.33270417e-03, -6.13935457e-03,  5.95472684e-03, -5.77830417e-03,\n",
       "        5.60960748e-03, -5.44819215e-03,  5.29364509e-03, -5.14558209e-03,\n",
       "        5.00364543e-03, -4.86750174e-03,  4.73684002e-03, -4.61136984e-03,\n",
       "        4.49081977e-03, -4.37493589e-03,  4.26348046e-03, -4.15623066e-03,\n",
       "        4.05297754e-03, -3.95352495e-03,  3.85768864e-03, -3.76529538e-03,\n",
       "        3.67618220e-03, -3.59019566e-03,  3.50719117e-03, -3.42703243e-03,\n",
       "        3.34959081e-03, -3.27474489e-03,  3.20237995e-03, -3.13238753e-03,\n",
       "        3.06466505e-03, -2.99911539e-03,  2.93564660e-03, -2.87417152e-03,\n",
       "        2.81460752e-03, -2.75687618e-03,  2.70090310e-03, -2.64661759e-03,\n",
       "        2.59395249e-03, -2.54284395e-03,  2.49323121e-03, -2.44505648e-03,\n",
       "        2.39826472e-03, -2.35280348e-03,  2.30862281e-03, -2.26567504e-03,\n",
       "        2.22391474e-03, -2.18329853e-03,  2.14378499e-03, -2.10533456e-03,\n",
       "        2.06790945e-03, -2.03147353e-03,  1.99599223e-03, -1.96143250e-03,\n",
       "        1.92776270e-03, -1.89495253e-03,  1.86297298e-03, -1.83179625e-03,\n",
       "        1.80139568e-03, -1.77174573e-03,  1.74282188e-03, -1.71460062e-03,\n",
       "        1.68705937e-03, -1.66017647e-03,  1.63393109e-03, -1.60830324e-03,\n",
       "        1.58327369e-03, -1.55882396e-03,  1.53493629e-03, -1.51159357e-03,\n",
       "        1.48877936e-03, -1.46647781e-03,  1.44467369e-03, -1.42335231e-03,\n",
       "        1.40249952e-03, -1.38210169e-03,  1.36214569e-03, -1.34261884e-03,\n",
       "        1.32350892e-03, -1.30480416e-03,  1.28649317e-03, -1.26856499e-03,\n",
       "        1.25100901e-03, -1.23381500e-03,  1.21697308e-03, -1.20047371e-03,\n",
       "        1.18430765e-03, -1.16846599e-03,  1.15294011e-03, -1.13772166e-03,\n",
       "        1.12280259e-03, -1.10817509e-03,  1.09383162e-03, -1.07976487e-03,\n",
       "        1.06596776e-03, -1.05243346e-03,  1.03915531e-03, -1.02612692e-03,\n",
       "        1.01334203e-03, -1.00079464e-03,  9.88478888e-04, -9.76389110e-04,\n",
       "        9.64519811e-04, -9.52865663e-04,  9.41421497e-04, -9.30182299e-04,\n",
       "        9.19143203e-04, -9.08299486e-04,  8.97646567e-04, -8.87179993e-04,\n",
       "        8.76895445e-04, -8.66788725e-04,  8.56855758e-04, -8.47092584e-04,\n",
       "        8.37495354e-04, -8.28060329e-04,  8.18783875e-04, -8.09662456e-04,\n",
       "        8.00692639e-04, -7.91871082e-04,  7.83194535e-04, -7.74659838e-04,\n",
       "        7.66263915e-04, -7.58003774e-04,  7.49876502e-04, -7.41879266e-04,\n",
       "        7.34009305e-04, -7.26263933e-04,  7.18640535e-04, -7.11136562e-04,\n",
       "        7.03749533e-04, -6.96477031e-04,  6.89316700e-04, -6.82266245e-04,\n",
       "        6.75323430e-04, -6.68486075e-04,  6.61752053e-04, -6.55119295e-04,\n",
       "        6.48585779e-04, -6.42149535e-04,  6.35808643e-04, -6.29561227e-04,\n",
       "        6.23405459e-04, -6.17339556e-04,  6.11361777e-04, -6.05470423e-04,\n",
       "        5.99663836e-04, -5.93940397e-04,  5.88298528e-04, -5.82736684e-04,\n",
       "        5.77253359e-04, -5.71847083e-04,  5.66516419e-04, -5.61259963e-04,\n",
       "        5.56076344e-04, -5.50964223e-04,  5.45922291e-04, -5.40949268e-04,\n",
       "        5.36043906e-04, -5.31204981e-04,  5.26431299e-04, -5.21721694e-04,\n",
       "        5.17075022e-04, -5.12490169e-04,  5.07966041e-04, -5.03501572e-04,\n",
       "        4.99095717e-04, -4.94747455e-04,  4.90455786e-04, -4.86219731e-04,\n",
       "        4.82038336e-04, -4.77910662e-04,  4.73835794e-04, -4.69812835e-04,\n",
       "        4.65840907e-04, -4.61919151e-04,  4.58046724e-04, -4.54222804e-04,\n",
       "        4.50446582e-04, -4.46717270e-04,  4.43034094e-04, -4.39396295e-04,\n",
       "        4.35803132e-04, -4.32253877e-04,  4.28747817e-04, -4.25284255e-04,\n",
       "        4.21862506e-04, -4.18481900e-04,  4.15141781e-04, -4.11841503e-04,\n",
       "        4.08580437e-04, -4.05357963e-04,  4.02173474e-04, -3.99026377e-04,\n",
       "        3.95916087e-04])"
      ]
     },
     "execution_count": 22,
     "metadata": {},
     "output_type": "execute_result"
    }
   ],
   "source": [
    "truethetaR"
   ]
  },
  {
   "cell_type": "code",
   "execution_count": 23,
   "metadata": {},
   "outputs": [],
   "source": [
    "# as an easy test case, let us take the true theta and perturb it\n",
    "# with random normally distributed noise (with small variance)\n",
    "# the optimizer should not have great difficulty converging to a good minimum\n",
    "# starting from here\n",
    "\n",
    "x0 = np.concatenate([truethetaR, truethetaI])\n",
    "x0 += 0.25*np.random.normal(size=x0.shape)\n",
    "\n",
    "# minlag = np.Inf\n",
    "# for j in range(5000):\n",
    "#     x0 = np.zeros((4*nmax+1))\n",
    "#     amp = np.random.normal()*2000\n",
    "#     decay = np.random.uniform()\n",
    "#     x0[:(2*nmax+1)] = amp*np.exp(-decay*np.arange(2*nmax+1)**(0.5))*((-1)**np.arange(2*nmax+1))\n",
    "#     thislag = justlag(x0)\n",
    "#     if thislag < minlag:\n",
    "#         minlag = thislag\n",
    "#         goodx0 = np.copy(x0)\n",
    "        \n",
    "# print(minlag)\n",
    "# print(np.linalg.norm(x0[:(2*nmax+1)] - truethetaR))"
   ]
  },
  {
   "cell_type": "code",
   "execution_count": null,
   "metadata": {},
   "outputs": [],
   "source": [
    "# itx = np.copy(goodx0)\n",
    "# ind = 0\n",
    "# lr = 1e-3\n",
    "# for i in range(100):\n",
    "#     nab = justgrad(itx)\n",
    "#     itx[ind] -= lr*nab[ind]\n",
    "#     print(justlag(itx))\n",
    "#     ind += 1\n",
    "#     if ind==itx.shape[0]:\n",
    "#         ind = 0"
   ]
  },
  {
   "cell_type": "code",
   "execution_count": null,
   "metadata": {
    "scrolled": true
   },
   "outputs": [],
   "source": [
    "res = scipy.optimize.minimize(justlag, x0, method='trust-constr', hess=justhess, jac=justgrad, \n",
    "                              options={'verbose': 3, 'maxiter': 1000}) "
   ]
  },
  {
   "cell_type": "code",
   "execution_count": null,
   "metadata": {},
   "outputs": [],
   "source": [
    "import pickle"
   ]
  },
  {
   "cell_type": "code",
   "execution_count": null,
   "metadata": {},
   "outputs": [],
   "source": [
    "with open('result.pickle', 'wb') as handle:\n",
    "    pickle.dump(res, handle)"
   ]
  },
  {
   "cell_type": "code",
   "execution_count": null,
   "metadata": {},
   "outputs": [],
   "source": [
    "np.savez('resx.npz',res.x)"
   ]
  },
  {
   "cell_type": "code",
   "execution_count": null,
   "metadata": {},
   "outputs": [],
   "source": [
    "# print out the value of the Lagrangian at the thetahat found by the optimizer\n",
    "print(justlag(res.x))\n",
    "\n",
    "# has the optimizer found a thetahat that is close to the true theta?\n",
    "print(np.linalg.norm(res.x - np.concatenate([truethetaR, truethetaI])))"
   ]
  },
  {
   "cell_type": "code",
   "execution_count": null,
   "metadata": {},
   "outputs": [],
   "source": [
    "# plot the estimated potential\n",
    "mm = 2*nmax+1\n",
    "thetahat = np.zeros(mm, dtype=np.complex128)\n",
    "thetahat += res.x[:mm]\n",
    "thetahat[1:] += 1j*res.x[mm:]\n",
    "nvec2 = np.arange(-2*nmax,2*nmax+1)\n",
    "convmat2 = np.exp(1j*np.pi*np.outer(nvec2, xvec)/a)\n",
    "fullthetahat = np.concatenate([np.flipud(thetahat[1:].conj()), thetahat])\n",
    "vx = fullthetahat @ convmat2\n",
    "\n",
    "# real part\n",
    "# red = learned potential\n",
    "# black = true potential\n",
    "trim = 250\n",
    "plt.plot(xvec[trim:-trim], np.real(vx)[trim:-trim], color='red')\n",
    "plt.plot(xvec[trim:-trim], np.real(v(xvec))[trim:-trim], color='black')\n",
    "plt.xlabel('x')\n",
    "plt.ylabel('Re(v(x))')\n",
    "plt.savefig('adjrecon.pdf')\n",
    "plt.show()"
   ]
  },
  {
   "cell_type": "code",
   "execution_count": null,
   "metadata": {},
   "outputs": [],
   "source": [
    "# real part\n",
    "# red = learned potential\n",
    "# black = true potential\n",
    "trim = 250\n",
    "plt.plot(xvec[trim:-trim], np.real(vx)[trim:-trim] - np.real(v(xvec))[trim:-trim], color='black')\n",
    "plt.xlabel('x')\n",
    "plt.ylabel('difference in real parts')\n",
    "plt.show()"
   ]
  },
  {
   "cell_type": "code",
   "execution_count": null,
   "metadata": {},
   "outputs": [],
   "source": [
    "truethetavec = np.concatenate([truethetaR, truethetaI])\n",
    "plt.plot( (truethetavec - res.x) / np.linalg.norm( truethetavec ) )\n",
    "plt.show()"
   ]
  },
  {
   "cell_type": "code",
   "execution_count": null,
   "metadata": {},
   "outputs": [],
   "source": [
    "# imaginary part\n",
    "# red = learned potential\n",
    "# black = true potential\n",
    "plt.plot(xvec, np.imag(vx), color='red')\n",
    "plt.plot(xvec, np.imag(v(xvec)), color='black')\n",
    "plt.xlabel('x')\n",
    "plt.ylabel('Im(v(x))')\n",
    "plt.show()"
   ]
  },
  {
   "cell_type": "code",
   "execution_count": null,
   "metadata": {},
   "outputs": [],
   "source": [
    "# start from uniform random initial condition (uniform on [-0.5, 0.5])\n",
    "# should be difficult for optimizer to find a good minimum starting from here,\n",
    "# so this is a great test case to prove the method works well\n",
    "thetahatR = np.random.uniform(size=2*nmax+1) - 0.5\n",
    "thetahatI = np.random.uniform(size=2*nmax) - 0.5\n",
    "x0 = np.concatenate([thetahatR, thetahatI])\n",
    "res = scipy.optimize.minimize(justlag, x0, method='bfgs', jac=justgrad, \n",
    "                              options={'gtol':1e-10, 'iprint':99, 'disp': True})"
   ]
  },
  {
   "cell_type": "code",
   "execution_count": null,
   "metadata": {},
   "outputs": [],
   "source": [
    "# plot the estimated potential\n",
    "# so far, this does not look so great\n",
    "\n",
    "mm = 2*nmax+1\n",
    "thetahat = np.zeros(mm, dtype=np.complex128)\n",
    "thetahat += res.x[:mm]\n",
    "thetahat[1:] += 1j*res.x[mm:]\n",
    "nvec2 = np.arange(-2*nmax,2*nmax+1)\n",
    "convmat2 = np.exp(1j*np.pi*np.outer(nvec2, xvec)/a)\n",
    "fullthetahat = np.concatenate([np.flipud(thetahat[1:].conj()), thetahat])\n",
    "vx = fullthetahat @ convmat2\n",
    "\n",
    "# real part\n",
    "# red = learned potential\n",
    "# black = true potential\n",
    "plt.plot(xvec, np.real(vx), color='red')\n",
    "plt.plot(xvec, np.real(v(xvec)), color='black')\n",
    "plt.xlabel('x')\n",
    "plt.ylabel('Re(v(x))')\n",
    "plt.show()"
   ]
  },
  {
   "cell_type": "code",
   "execution_count": null,
   "metadata": {},
   "outputs": [],
   "source": []
  }
 ],
 "metadata": {
  "kernelspec": {
   "display_name": "Python 3 (ipykernel)",
   "language": "python",
   "name": "python3"
  },
  "language_info": {
   "codemirror_mode": {
    "name": "ipython",
    "version": 3
   },
   "file_extension": ".py",
   "mimetype": "text/x-python",
   "name": "python",
   "nbconvert_exporter": "python",
   "pygments_lexer": "ipython3",
   "version": "3.9.9"
  }
 },
 "nbformat": 4,
 "nbformat_minor": 4
}