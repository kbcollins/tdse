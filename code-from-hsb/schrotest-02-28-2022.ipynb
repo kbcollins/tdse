{
 "cells": [
  {
   "cell_type": "code",
   "execution_count": 1,
   "id": "33ad1d4c",
   "metadata": {},
   "outputs": [],
   "source": [
    "import numpy as np\n",
    "import scipy.linalg as sl\n",
    "import scipy.integrate as si\n",
    "import scipy.optimize\n",
    "import matplotlib\n",
    "%matplotlib inline\n",
    "import matplotlib.pyplot as plt\n",
    "import time\n",
    "import scipy.special as ss"
   ]
  },
  {
   "cell_type": "code",
   "execution_count": 2,
   "id": "359f4abe",
   "metadata": {},
   "outputs": [],
   "source": [
    "# size of spatial domain\n",
    "a = 10.0\n",
    "\n",
    "# spatial grid for the purposes of plotting\n",
    "xvec = np.linspace(-a, a, 1025)\n",
    "\n",
    "# our Fourier representation will use basis functions from n = -nmax to n = nmax\n",
    "nmax = 32\n",
    "# convert basis coefficients into wavefunction on grid by matrix multiplication\n",
    "nvec = np.arange(-nmax,nmax+1)\n",
    "convmat = np.exp(1j * np.pi * np.outer(nvec, xvec) / a) / np.sqrt(2 * a)"
   ]
  },
  {
   "cell_type": "code",
   "execution_count": 3,
   "id": "07156296",
   "metadata": {},
   "outputs": [
    {
     "data": {
      "text/plain": "<Figure size 432x288 with 1 Axes>",
      "image/png": "[encoded data removed]"
     },
     "metadata": {
      "needs_background": "light"
     },
     "output_type": "display_data"
    }
   ],
   "source": [
    "# harmonic oscillator\n",
    "def v(x):\n",
    "    # return 0.25*(x**2-25)**2\n",
    "    return 0.5*x**2\n",
    "\n",
    "\n",
    "plt.plot(xvec,v(xvec))\n",
    "plt.show()\n"
   ]
  },
  {
   "cell_type": "code",
   "execution_count": 4,
   "id": "ed9a9d91",
   "metadata": {},
   "outputs": [],
   "source": [
    "# some sampling and FFT tricks\n",
    "# this integer '100' can be adjusted to improve resolution\n",
    "# if we set f_sample = 2*nmax, then we are sampling at the Nyquist frequency\n",
    "f_sample = 100 * 2 * nmax\n",
    "t, dt = np.linspace(-a, a, f_sample+2, endpoint=False, retstep=True)\n",
    "y = (np.fft.rfft(v(t)) / t.size)[:(2*nmax+1)]\n",
    "\n",
    "# this stores the Fourier series coefficients for n-m=0 to n-m=2*nmax\n",
    "vrow = y * (-1)**np.arange(2*nmax+1)\n",
    "\n",
    "# if you want to use quadrature instead of the FFT:\n",
    "vraw = np.zeros(2*nmax+1, dtype=np.complex128)\n",
    "for thisn in range(2*nmax+1):\n",
    "    def integ(x):\n",
    "        return v(x) * np.exp(-1j * np.pi * thisn * x / a) / (2 * a)\n",
    "    def rinteg(x):\n",
    "        return np.real(integ(x))\n",
    "    def iinteg(x):\n",
    "        return np.imag(integ(x))\n",
    "    vraw[thisn] = si.quad(rinteg, a=-a, b=a)[0] + 1j*si.quad(iinteg, a=-a, b=a)[0]\n",
    "\n",
    "vrowquad = np.copy(vraw)\n"
   ]
  },
  {
   "cell_type": "code",
   "execution_count": 5,
   "id": "512e1aaf",
   "metadata": {},
   "outputs": [
    {
     "name": "stdout",
     "output_type": "stream",
     "text": [
      "6.557417998345006e-06\n",
      "6.477425597786634e-14\n"
     ]
    }
   ],
   "source": [
    "# THIS CELL IS ONLY MEANINGFUL IF v(x) is the SIMPLE HARMONIC OSCILLATOR\n",
    "\n",
    "# for the harmonic oscillator, we can do the integral exactly (thanks, Mathematica!)\n",
    "# here is the exact result\n",
    "atr = a\n",
    "ecfun = lambda j : (atr**2 * (2 * j * np.pi * np.cos(j * np.pi) + (-2 + j**2 * np.pi**2) * np.sin(j*np.pi))) / (2.0 * j**3 * np.pi**3)\n",
    "exactvrow = np.array(list(map(ecfun, np.arange(1,2*nmax+1))))\n",
    "exactvrow = np.concatenate([np.array([atr**2 / 6.0]), exactvrow])\n",
    "\n",
    "# let us check which one is more accurate, FFT or quadrature\n",
    "print(np.linalg.norm(vrow - exactvrow))\n",
    "print(np.linalg.norm(vrowquad - exactvrow))\n",
    "\n",
    "# we see that vrowquad is more accurate so we use that!"
   ]
  },
  {
   "cell_type": "code",
   "execution_count": 6,
   "id": "db775506",
   "metadata": {},
   "outputs": [
    {
     "name": "stdout",
     "output_type": "stream",
     "text": [
      "0.0\n",
      "3.160930230331545e-13\n",
      "1.182673699250653e-14\n"
     ]
    }
   ],
   "source": [
    "# kinetic matrix\n",
    "kmat = np.diag(np.arange(-nmax, nmax + 1)**2 * np.pi**2 / (2 * a**2) )\n",
    "\n",
    "# use vrowquad to create Toeplitz matrix\n",
    "vmat = sl.toeplitz(r=vrowquad,c=np.conj(vrowquad))\n",
    "\n",
    "# Hamiltonian matrix \n",
    "hmat = kmat + vmat\n",
    "\n",
    "# check whether Hamiltonian is Hermitian\n",
    "print(np.linalg.norm(hmat - np.conj(hmat.T)))\n",
    "\n",
    "# eigendecomposition\n",
    "spec, states = np.linalg.eigh(hmat)\n",
    "\n",
    "# check whether this diagonalizes hmat\n",
    "# note that if this is close to zero it means that\n",
    "# hmat = states @ np.diag(spec) @ np.conj(states).T\n",
    "print(np.linalg.norm(hmat @ states - states @ np.diag(spec)))\n",
    "\n",
    "# check whether we have a unitary matrix\n",
    "print(np.linalg.norm(states @ np.conj(states).T - np.eye(2 * nmax + 1)))"
   ]
  },
  {
   "cell_type": "code",
   "execution_count": 8,
   "id": "1b3ff63c",
   "metadata": {},
   "outputs": [
    {
     "name": "stdout",
     "output_type": "stream",
     "text": [
      "[0.5 1.5 2.5 3.5 4.5 5.5]\n"
     ]
    },
    {
     "data": {
      "text/plain": "<Figure size 432x288 with 1 Axes>",
      "image/png": "[encoded data removed]"
     },
     "metadata": {
      "needs_background": "light"
     },
     "output_type": "display_data"
    },
    {
     "name": "stdout",
     "output_type": "stream",
     "text": [
      "1.0000000000000002\n",
      "Check of Ground state' normalization (should be close to 1):\n",
      "1.0000000000000002\n"
     ]
    }
   ],
   "source": [
    "# find indices that sort eigenvalues\n",
    "ordering = np.argsort(spec)\n",
    "\n",
    "# print first few eigenvalues\n",
    "print(spec[ordering[:6]])\n",
    "\n",
    "# pick out and plot ground state\n",
    "groundstate = ordering[0]\n",
    "wavefn = states[:,groundstate] @ convmat\n",
    "plt.plot(xvec, np.real(wavefn))\n",
    "plt.show()\n",
    "\n",
    "# check normalization\n",
    "print(np.sum(np.abs(wavefn)**2 * (xvec[1]-xvec[0])))\n",
    "\n",
    "# this should be a more accurate check of the ground state\n",
    "# wave functions' normalization\n",
    "print('Check Ground state\\' normalization (should be close to 1):', si.trapezoid(np.abs(wavefn)**2, xvec), sep='\\n')"
   ]
  },
  {
   "cell_type": "code",
   "execution_count": 9,
   "id": "a1313d00",
   "metadata": {},
   "outputs": [],
   "source": [
    "# let us now represent V(x) using Chebyshev polynomial\n",
    "# this should be exact because V(x) **is** a polynomial"
   ]
  },
  {
   "cell_type": "code",
   "execution_count": 16,
   "id": "2135ea9b",
   "metadata": {},
   "outputs": [
    {
     "name": "stdout",
     "output_type": "stream",
     "text": [
      "[ 2.50000000e+01  4.73695157e-15  2.50000000e+01  3.55271368e-15\n",
      " -9.47390314e-15  2.13162821e-14 -4.73695157e-15  1.42108547e-14\n",
      " -1.06581410e-14  1.65793305e-14 -3.43428989e-14  2.19084010e-14]\n"
     ]
    },
    {
     "data": {
      "text/plain": "<Figure size 432x288 with 1 Axes>",
      "image/png": "[encoded data removed]"
     },
     "metadata": {
      "needs_background": "light"
     },
     "output_type": "display_data"
    },
    {
     "name": "stdout",
     "output_type": "stream",
     "text": [
      "1.4921397450962104e-13\n"
     ]
    }
   ],
   "source": [
    "n = 11\n",
    "\n",
    "def theta(k):\n",
    "    return (k - 0.5) * np.pi / (n + 1)\n",
    "\n",
    "def g(k):\n",
    "    return v(a * np.cos(theta(k)))\n",
    "\n",
    "kvec = np.arange(1, n + 2)\n",
    "cnvec = np.arange(0, n + 1)\n",
    "\n",
    "weights = np.ones(n+1)\n",
    "weights[0] = 0.5\n",
    "\n",
    "# compute Chebyshev coefficients\n",
    "cvec = 2 / (n + 1) * np.sum(g(kvec) * np.cos(cnvec[..., np.newaxis] * theta(kvec)), axis=1)\n",
    "cvec = weights * cvec\n",
    "print(cvec)\n",
    "\n",
    "# reconstruct on plotting grid\n",
    "vrecon = ss.eval_chebyt(np.expand_dims(cnvec,0), np.expand_dims(xvec/a,1)) @ cvec\n",
    "    \n",
    "# plot both\n",
    "plt.plot(xvec, v(xvec), color='black')\n",
    "plt.plot(xvec, vrecon, color='red')\n",
    "plt.show()\n",
    "\n",
    "# Linfty norm error\n",
    "print(np.max(np.abs(v(xvec) - vrecon)))"
   ]
  },
  {
   "cell_type": "code",
   "execution_count": 21,
   "id": "8c5396de",
   "metadata": {},
   "outputs": [],
   "source": [
    "# we now want to take our Chebyshev-represented potential,\n",
    "# and use it to form the entries of vmat\n",
    "# let us do this with quadrature\n",
    "\n",
    "# first let's define a function that returns the chebyshev approximant\n",
    "def vcheb(x):\n",
    "    return ss.eval_chebyt(np.expand_dims(cnvec, 0), x / a) @ cvec\n",
    "\n",
    "vchebraw = np.zeros(2*nmax+1, dtype=np.complex128)\n",
    "for thisn in range(2*nmax+1):\n",
    "    def integ(x):\n",
    "        return vcheb(x) * np.exp(-1j * np.pi * thisn * x / a) / (2 * a)\n",
    "    def rinteg(x):\n",
    "        return np.real(integ(x))\n",
    "    def iinteg(x):\n",
    "        return np.imag(integ(x))\n",
    "    vchebraw[thisn] = si.quad(rinteg, a=-a, b=a)[0] + 1j*si.quad(iinteg, a=-a, b=a)[0]\n",
    "\n",
    "vchebrowquad = np.copy(vchebraw)"
   ]
  },
  {
   "cell_type": "code",
   "execution_count": 22,
   "id": "3ab2afd3",
   "metadata": {},
   "outputs": [
    {
     "name": "stdout",
     "output_type": "stream",
     "text": [
      "3.323854363582271e-14\n",
      "L-infinity Error: 1.2101348630776924e-14\n"
     ]
    }
   ],
   "source": [
    "# how much does this differ from our old vrowquad?\n",
    "print(np.linalg.norm(vrowquad - vchebrowquad))\n",
    "print('L-infinity Error:', np.max(np.abs(vrowquad - vchebrowquad)))"
   ]
  },
  {
   "cell_type": "code",
   "execution_count": 23,
   "id": "d7978a68",
   "metadata": {},
   "outputs": [
    {
     "name": "stdout",
     "output_type": "stream",
     "text": [
      "0.0\n",
      "4.2231608591843004e-13\n",
      "1.2631304321995936e-14\n"
     ]
    }
   ],
   "source": [
    "# use vchebrowquad to create Toeplitz matrix\n",
    "vchebmat = sl.toeplitz(r=vchebrowquad, c=np.conj(vchebrowquad))\n",
    "\n",
    "# Hamiltonian matrix \n",
    "hchebmat = kmat + vchebmat\n",
    "\n",
    "# check whether Hamiltonian is Hermitian\n",
    "print(np.linalg.norm(hchebmat - np.conj(hchebmat.T)))\n",
    "\n",
    "# eigendecomposition\n",
    "chebspec, chebstates = np.linalg.eigh(hchebmat)\n",
    "\n",
    "# check whether this diagonalizes hmat\n",
    "# note that if this is close to zero it means that\n",
    "# hmat = states @ np.diag(spec) @ np.conj(states).T\n",
    "print(np.linalg.norm(hchebmat @ chebstates - chebstates @ np.diag(chebspec)))\n",
    "\n",
    "# check whether we have a unitary matrix\n",
    "print(np.linalg.norm(chebstates @ np.conj(chebstates).T - np.eye(2*nmax+1) ))"
   ]
  },
  {
   "cell_type": "code",
   "execution_count": 25,
   "id": "2b82665c",
   "metadata": {},
   "outputs": [
    {
     "name": "stdout",
     "output_type": "stream",
     "text": [
      "1.0\n"
     ]
    },
    {
     "data": {
      "text/plain": "<Figure size 432x288 with 1 Axes>",
      "image/png": "[encoded data removed]"
     },
     "metadata": {
      "needs_background": "light"
     },
     "output_type": "display_data"
    },
    {
     "name": "stdout",
     "output_type": "stream",
     "text": [
      "7.817074419108515e-12\n",
      "L-infinity Error: 4.177769241664464e-13\n"
     ]
    }
   ],
   "source": [
    "# a super simple initial condition, a Gaussian with L^2 norm = 1\n",
    "def psi0(x):\n",
    "    return np.exp(-x**2) * (2.0/np.pi)**0.25\n",
    "\n",
    "def psi0squared(x):\n",
    "    return psi0(x)**2\n",
    "\n",
    "print(si.quad(psi0squared, a=-a, b=a)[0])\n",
    "\n",
    "vraw = np.zeros(nmax+1, dtype=np.complex128)\n",
    "for thisn in range(nmax+1):\n",
    "    def integ(x):\n",
    "        return np.exp(-1j * np.pi * thisn * x / a) * psi0(x) / np.sqrt(2 * a)\n",
    "    def rinteg(x):\n",
    "        return np.real(integ(x))\n",
    "    def iinteg(x):\n",
    "        return np.imag(integ(x))\n",
    "    vraw[thisn] = si.quad(rinteg, a=-a, b=a)[0] + 1j*si.quad(iinteg, a=-a, b=a)[0]\n",
    "\n",
    "ainit = np.concatenate([np.conjugate(np.flipud(vraw[1:])), vraw])\n",
    "\n",
    "# just check whether psi0 is represented OK\n",
    "plt.plot(xvec, psi0(xvec), color='black')\n",
    "psi0recon = np.real(ainit @ convmat)\n",
    "plt.plot(xvec, psi0recon, color='red')\n",
    "plt.show()\n",
    "\n",
    "print(np.linalg.norm(psi0(xvec) - psi0recon))\n",
    "print('L-infinity Error:', np.max(np.abs(psi0(xvec) - psi0recon)))"
   ]
  },
  {
   "cell_type": "code",
   "execution_count": 27,
   "id": "28f4437b",
   "metadata": {},
   "outputs": [
    {
     "data": {
      "text/plain": "<Figure size 432x288 with 1 Axes>",
      "image/png": "[encoded data removed]"
     },
     "metadata": {
      "needs_background": "light"
     },
     "output_type": "display_data"
    },
    {
     "name": "stdout",
     "output_type": "stream",
     "text": [
      "Average Norm of Trajectory (should be close to 1):\n",
      "1.0000000000000056\n"
     ]
    }
   ],
   "source": [
    "# PROPAGATE WITH ACTUAL v(x)\n",
    "\n",
    "# set the time step and compute the propagator matrix\n",
    "# note that we are reusing the spec, states eigendecomposition of hmat computed above\n",
    "dt = 1e-2\n",
    "\n",
    "# propagate the \"a\" vector of coefficients as defined above\n",
    "nsteps = 100\n",
    "\n",
    "prop = states @ np.diag(np.exp(-1j*spec*dt)) @ np.conj(states.T)\n",
    "\n",
    "amat = np.zeros((nsteps+1, 2*nmax+1), dtype=np.complex128)\n",
    "amat[0,:] = np.copy(ainit)\n",
    "for j in range(nsteps):\n",
    "    amat[j+1,:] = prop @ amat[j,:]\n",
    "\n",
    "# compute the wave function in space from each \"a\" vector\n",
    "# do it all at once using matrix multiplication!\n",
    "psi = amat @ convmat\n",
    "\n",
    "# check if the wave function of each time step\n",
    "# is normalized to 1\n",
    "# this should produce a graph with a line that is almost\n",
    "# completely horizontal at 1\n",
    "psinormvec = si.trapezoid(np.abs(psi) ** 2, xvec, axis=1)\n",
    "plt.plot(np.arange(nsteps + 1) * dt, psinormvec)\n",
    "plt.hlines(1 , 0, nsteps * dt, linestyles='-.', colors='darkorange')\n",
    "plt.title('Normalization of the Wave Function\\nas a Function of Time\\n')\n",
    "plt.xlabel('Time')\n",
    "plt.ylabel('Norm')\n",
    "plt.show()\n",
    "\n",
    "# norm difference of wave function normalization check,\n",
    "# this should be close to 1\n",
    "print('Average Norm of Trajectory (should be close to 1):', psinormvec.sum() / (nsteps + 1), sep='\\n')"
   ]
  },
  {
   "cell_type": "code",
   "execution_count": 28,
   "id": "38a9dc12",
   "metadata": {},
   "outputs": [
    {
     "data": {
      "text/plain": "<Figure size 432x288 with 1 Axes>",
      "image/png": "[encoded data removed]"
     },
     "metadata": {
      "needs_background": "light"
     },
     "output_type": "display_data"
    },
    {
     "name": "stdout",
     "output_type": "stream",
     "text": [
      "Average Norm of Trajectory (should be close to 1):\n",
      "1.0000000000000313\n"
     ]
    }
   ],
   "source": [
    "# PROPAGATE WITH CHEB v(x)\n",
    "\n",
    "# set the time step and compute the propagator matrix\n",
    "# note that we are reusing the spec, states eigendecomposition of hmat computed above\n",
    "dt = 1e-2\n",
    "chebprop = chebstates @ np.diag(np.exp(-1j*chebspec*dt)) @ np.conj(chebstates.T)\n",
    "\n",
    "# propagate the \"a\" vector of coefficients as defined above\n",
    "nsteps = 100\n",
    "cmat = np.zeros((nsteps+1, 2*nmax+1), dtype=np.complex128)\n",
    "cmat[0,:] = np.copy(ainit)\n",
    "for j in range(nsteps):\n",
    "    cmat[j+1,:] = chebprop @ cmat[j,:]\n",
    "\n",
    "# compute the wave function in space from each \"a\" vector\n",
    "# do it all at once using matrix multiplication!\n",
    "chebpsi = cmat @ convmat\n",
    "\n",
    "# check if the wave function of each time step\n",
    "# is normalized to 1\n",
    "# this should produce a graph with a line that is almost\n",
    "# completely horizontal at 1\n",
    "chebpsinormvec = si.trapezoid(np.abs(chebpsi) ** 2, xvec, axis=1)\n",
    "plt.plot(np.arange(nsteps + 1) * dt, chebpsinormvec)\n",
    "plt.hlines(1 , 0, nsteps * dt, linestyles='-.', colors='darkorange')\n",
    "plt.title('Normalization of the Wave Function\\nas a Function of Time\\n')\n",
    "plt.xlabel('Time')\n",
    "plt.ylabel('Norm')\n",
    "plt.show()\n",
    "\n",
    "# norm difference of wave function normalization check,\n",
    "# this should be close to 1\n",
    "print('Average Norm of Trajectory (should be close to 1):', chebpsinormvec.sum() / (nsteps + 1), sep='\\n')"
   ]
  },
  {
   "cell_type": "code",
   "execution_count": 33,
   "id": "936838f9",
   "metadata": {},
   "outputs": [
    {
     "name": "stdout",
     "output_type": "stream",
     "text": [
      "3.4195526931642435e-12\n"
     ]
    },
    {
     "data": {
      "text/plain": "<Figure size 432x288 with 1 Axes>",
      "image/png": "[encoded data removed]"
     },
     "metadata": {
      "needs_background": "light"
     },
     "output_type": "display_data"
    }
   ],
   "source": [
    "print(np.linalg.norm(psi - chebpsi))\n",
    "\n",
    "plt.plot(np.linalg.norm(psi - chebpsi, axis=1), '.')\n",
    "plt.title('L2 Error of psi to chebpsi\\nfor Each Time Step')\n",
    "plt.show()\n"
   ]
  },
  {
   "cell_type": "code",
   "execution_count": null,
   "id": "f0f8e327",
   "metadata": {},
   "outputs": [],
   "source": []
  }
 ],
 "metadata": {
  "kernelspec": {
   "display_name": "Python 3",
   "language": "python",
   "name": "python3"
  },
  "language_info": {
   "codemirror_mode": {
    "name": "ipython",
    "version": 3
   },
   "file_extension": ".py",
   "mimetype": "text/x-python",
   "name": "python",
   "nbconvert_exporter": "python",
   "pygments_lexer": "ipython3",
   "version": "3.8.3"
  }
 },
 "nbformat": 4,
 "nbformat_minor": 5
}