{
 "cells": [
  {
   "cell_type": "markdown",
   "metadata": {},
   "source": [
    "**Introduction**\n",
    "\n",
    "Consider the non-dimensionalized time-dependent Schrodinger equation (TDSE):\n",
    "\n",
    "$\\displaystyle i \\partial_t \\psi = \\mathcal{H} \\psi$.\n",
    "\n",
    "In this notebook, we work in one spatial dimension, so the kinetic operator is\n",
    "\n",
    "$\\displaystyle \\mathcal{K} = -\\frac{1}{2} \\partial_{xx}$.\n",
    "\n",
    "In real space, the potential operator $\\mathcal{V}$ works like this:\n",
    "\n",
    "$\\displaystyle (\\mathcal{V} \\psi)(x,t) = v(x) \\psi(x,t)$,\n",
    "\n",
    "where $v(x)$ is a real potential energy function.\n",
    "\n",
    "The Hamiltonian is $\\mathcal{H} = \\mathcal{K} + \\mathcal{V}$.  Clearly $\\mathcal{H}$ is self-adjoint or Hermitian."
   ]
  },
  {
   "cell_type": "markdown",
   "metadata": {},
   "source": [
    "**Forward problem**\n",
    "\n",
    "In the forward problem, $V$ and $\\psi(x,0)$ are specified and the task is to solve for $\\psi(x,t)$ for $t > 0$.\n",
    "\n",
    "We will do this numerically through a basis function method.  Our spatial domain is the closed interval $[-a,a]$.\n",
    "\n",
    "Let $\\{ \\phi_n(x) \\}_{n=-\\infty}^\\infty$ be a collection of basis functions.  We take these functions to be elements of the Hilbert space $L^2([-a,a]; \\mathbb{C})$.  This Hilbert space consists of complex-valued, square-integrable functions with domain $[-a,a]$.  The inner product in this space is\n",
    "\n",
    "$\\displaystyle (f, g) = \\int_{x=-a}^a \\overline{f(x)} g(x) \\, dx$,\n",
    "\n",
    "and therefore the norm is\n",
    "\n",
    "$\\displaystyle \\| f \\| = (f, f)^{1/2} = \\left( \\int_{x=-a}^a |f(x)|^2 \\, dx \\right)^{1/2}$.\n",
    "\n",
    "We assume the basis is $orthonormal$ and $complete$ in $L^2([-a,a]; \\mathbb{C})$.  Orthonormality means that\n",
    "\n",
    "$\\displaystyle (\\phi_m, \\phi_n) = \\delta_{mn} = \\begin{cases} 1 & m = n \\\\ 0 & m \\neq n. \\end{cases}$\n",
    "\n",
    "Completeness means that for any function $f \\in L^2([-a,a]; \\mathbb{C})$, there exists an infinite sequence of coefficients $\\{ \\alpha_n \\}_{n=-\\infty}^\\infty$ such that when we form the expansion\n",
    "\n",
    "$\\displaystyle g_N(x) = \\sum_{n=-N}^N \\alpha_n \\phi_n(x)$,\n",
    "\n",
    "the expansion $converges$ to $f$ as $N \\to \\infty$, i.e., $\\lim_{N \\to \\infty} \\| f - g_N \\| = 0$.  Or, to put it another way, we can represent any $f$ (in our Hilbert space) arbitrarily well by expanding $f$ as a linear combination of basis functions.\n",
    "\n",
    "Using this complete, orthonormal basis, we can represent the kinetic and potential operators as matrices:\n",
    "\n",
    "$\\displaystyle K_{mn} = (\\phi_m, \\mathcal{K} \\phi_n) = \\int_{x=-a}^a \\overline{\\phi_m(x)} (\\mathcal{K} \\phi_n)(x) \\, dx = -\\frac{1}{2} \\int_{x=-a}^a \\overline{\\phi_m(x)} \\partial_{xx} \\phi_n(x) \\, dx$\n",
    "\n",
    "$\\displaystyle V_{mn} = (\\phi_m, \\mathcal{V} \\phi_n) = \\int_{x=-a}^a \\overline{\\phi_m(x)} (\\mathcal{V} \\phi_n)(x) \\, dx = \\int_{x=-a}^a \\overline{\\phi_m(x)} v(x) \\phi_n(x) \\, dx$\n",
    "\n",
    "In this notebook, we will consider an orthonormal basis that *diagonalizes* the kinetic operator.  This basis is the Fourier basis in complex exponential form:\n",
    "\n",
    "$\\phi_n(x) = (2 a)^{-1/2} e^{i \\pi n x/a}$.\n",
    "\n",
    "We can check that, for integers $n$ and $m$ such that $n \\neq m$,\n",
    "\n",
    "$\\displaystyle (\\phi_m, \\phi_n) = \\frac{1}{2a} \\int_{x=-a}^a e^{i \\pi (n-m) x/a} \\, dx = \\frac{1}{2a} \\frac{a}{i \\pi (n-m)} \\left( e^{i \\pi (n-m)} - e^{-i \\pi (n-m)} \\right) = 0$.\n",
    "\n",
    "For integer $n$, it is clear that $(\\phi_n, \\phi_n) = 1$, completing our check of orthonormality.\n",
    "\n",
    "Completeness follows from the Riesz-Fischer theorem.\n",
    "\n",
    "Now we see that for the kinetic operator,\n",
    "\n",
    "$\\displaystyle (\\mathcal{K} \\phi_n)(x) = \\frac{ \\pi^2 n^2 }{ 2 a^2 } \\phi_n(x) $.\n",
    "\n",
    "Hence by orthonormality,\n",
    "\n",
    "$\\displaystyle K_{mn} = (\\phi_m, \\mathcal{K} \\phi_m) = \\frac{ \\pi^2 n^2 }{ 2 a^2 } \\delta_{mn} $,\n",
    "\n",
    "implying that $K$ is a diagonal matrix.  As for the potential operator $\\mathcal{V}$, we see that\n",
    "\n",
    "$\\displaystyle V_{mn} = \\frac{1}{2a} \\int_{x=-a}^a e^{i \\pi (n-m) x/a} v(x) \\, dx$.\n",
    "\n",
    "Clearly $V_{mn}$ is constant for all $(m,n)$ such that $n-m$ is constant.  This means that the matrix $V$ is Toeplitz, i.e., constant along diagonals.  Additionally, we see that $V_{mn}$ is equivalent to a *Fourier series coefficient* of the function $v(x)$.  We can compute this coefficient using the FFT.\n",
    "\n",
    "**Quick points on potentials, symmetry, and periodicity**\n",
    "\n",
    "What happens for an *even* or *symmetric* potential $v(x)$?  We start with\n",
    "\n",
    "$\\displaystyle \\theta_{-j} = (2a)^{-1/2} \\int_{x=-a}^a e^{i \\pi j x/a} v(x) \\, dx$,\n",
    "\n",
    "and make the substitution $x = -z$ in this integral.  Chasing down all the minus signs, we obtain\n",
    "\n",
    "$\\displaystyle \\theta_{-j} = (2a)^{-1/2} \\int_{z=a}^{-a} e^{-i \\pi j z/a} v(-z) \\, (-dz)$.\n",
    "\n",
    "We use the minus sign from $-dz$ to flip the limits of integration, and we use $v(-z) = v(z)$.  Then we obtain\n",
    "\n",
    "$\\displaystyle \\theta_{-j} = (2a)^{-1/2} \\int_{z=-a}^{a} e^{-i \\pi j z/a} v(z) \\, dz$ = \\theta_j$.\n",
    "\n",
    "Hence $\\theta_j = \\overline{\\theta_j}$.  We have shown that for an *even* potential $v(x)$, the Fourier coefficients will be real.\n",
    "\n",
    "Something we have not yet discussed is periodicity.  We write our potential function as\n",
    "\n",
    "$\\displaystyle v(x) = \\sum_{j=-2N}^{j=2N} \\theta_j \\phi_j(x)$.\n",
    "\n",
    "By virtue of the Fourier basis we have chosen, this potential function will be periodic with period $2a$ on the interval $[-a,a]$.  This is because, for all $j$, we have\n",
    "\n",
    "$\\displaystyle \\phi_n(x + 2a) = (2 a)^{-1/2} e^{i \\pi n (x+2a)/a} =  (2 a)^{-1/2} e^{i \\pi n x/a} e^{2 \\pi i n} = \\phi_n(x)$.\n",
    "\n",
    "The same is true for $\\psi(x,t)$; it will also be $2a$-periodic on $[-a,a]$.\n",
    "\n",
    "We justify this based on the principle that if we choose $a$ sufficiently large, and if our initial wave function is localized in space near $x=0$, then the wave function's magnitude will decay (as a function of spatial coordinate x) to be close to zero near the boundaries $x= \\pm a$.  Hence the behavior of the potential beyond the boundaries $x = \\pm a$ is of no practical concern to us.\n",
    "\n",
    "When we generate data using our forward method, we must monitor our wave function and check that during the time interval of interest, its magnitude stays close to zero near the boundaries.  If this isn't true, we need to rerun the simulation with larger $a$.\n"
   ]
  },
  {
   "cell_type": "code",
   "execution_count": 1,
   "metadata": {},
   "outputs": [],
   "source": [
    "import numpy as np\n",
    "import scipy.linalg as sl\n",
    "import scipy.integrate as si\n",
    "import scipy.optimize\n",
    "import matplotlib\n",
    "%matplotlib inline\n",
    "import matplotlib.pyplot as plt\n",
    "import time"
   ]
  },
  {
   "cell_type": "code",
   "execution_count": 22,
   "metadata": {},
   "outputs": [],
   "source": [
    "# our Fourier representation will use basis functions from n = -nmax to n = nmax\n",
    "nmax = 128\n",
    "\n",
    "# size of spatial domain\n",
    "a = 16"
   ]
  },
  {
   "cell_type": "code",
   "execution_count": 23,
   "metadata": {},
   "outputs": [],
   "source": [
    "# symmetric double well potential just for fun\n",
    "def v(x):\n",
    "    return 0.25*(x**2 - 25)**2"
   ]
  },
  {
   "cell_type": "code",
   "execution_count": 24,
   "metadata": {},
   "outputs": [
    {
     "name": "stdout",
     "output_type": "stream",
     "text": [
      "0.0\n",
      "3.745275191057683e-14\n"
     ]
    }
   ],
   "source": [
    "# some sampling and FFT tricks\n",
    "# this integer '100' can be adjusted to improve resolution\n",
    "# if we set f_sample = 2*nmax, then we are sampling at the Nyquist frequency\n",
    "f_sample = 100 * 2 * nmax\n",
    "t, dt = np.linspace(-a, a, f_sample+2, endpoint=False, retstep=True)\n",
    "y = (np.fft.rfft(v(t)) / t.size)[:(2*nmax+1)]\n",
    "\n",
    "# this stores the Fourier series coefficients for n-m=0 to n-m=2*nmax\n",
    "vrow = y * (-1)**np.arange(2*nmax+1)\n",
    "\n",
    "# # if you want to use quadrature instead of the FFT:\n",
    "# vraw = np.zeros(2*nmax+1, dtype=np.complex128)\n",
    "# for thisn in range(2*nmax+1):\n",
    "#     def integ(x):\n",
    "#         return (2*a)**(-1)*np.exp(-1j*np.pi*thisn*x/a)*v(x)\n",
    "#     def rinteg(x):\n",
    "#         return np.real(integ(x))\n",
    "#     def iinteg(x):\n",
    "#         return np.imag(integ(x))\n",
    "#     vraw[thisn] = si.quad(rinteg, a=-a, b=a)[0] + 1j*si.quad(iinteg, a=-a, b=a)[0]\n",
    "\n",
    "# vrow = np.copy(vraw)\n",
    "\n",
    "# create Toeplitz matrix\n",
    "vmat = sl.toeplitz(r=vrow,c=np.conj(vrow))\n",
    "\n",
    "# kinetic matrix\n",
    "kmat = np.diag( np.arange(-nmax,nmax+1)**2 * np.pi**2 / (2*a**2) )\n",
    "\n",
    "# Hamiltonian matrix \n",
    "hmat = kmat + vmat\n",
    "\n",
    "# check whether Hamiltonian is Hermitian\n",
    "print(np.linalg.norm( hmat - np.conj(hmat.T) ))\n",
    "\n",
    "# eigendecomposition\n",
    "spec, states = np.linalg.eigh(hmat)\n",
    "\n",
    "# check whether this diagonalizes hmat\n",
    "# note that if this is close to zero it means that\n",
    "# hmat = states @ np.diag(spec) @ np.conj(states).T\n",
    "np.linalg.norm( hmat @ states - states @ np.diag(spec) )\n",
    "\n",
    "# check whether we have a unitary matrix\n",
    "print(np.linalg.norm( states @ np.conj(states).T - np.eye(2*nmax+1) ))"
   ]
  },
  {
   "cell_type": "code",
   "execution_count": 25,
   "metadata": {},
   "outputs": [],
   "source": [
    "# find indices that sort eigenvalues\n",
    "ordering = np.argsort(spec)\n",
    "\n",
    "# spatial grid for the purposes of plotting\n",
    "xvec = np.linspace(-a, a, 1025)\n",
    "\n",
    "# convert basis coefficients into wavefunction on grid by matrix multiplication\n",
    "nvec = np.arange(-nmax,nmax+1)\n",
    "convmat = np.exp(1j*np.pi*np.outer(nvec, xvec)/a)/np.sqrt(2*a)"
   ]
  },
  {
   "cell_type": "code",
   "execution_count": 26,
   "metadata": {},
   "outputs": [
    {
     "data": {
      "image/png": "[encoded data removed]",
      "text/plain": [
       "<Figure size 432x288 with 1 Axes>"
      ]
     },
     "metadata": {
      "needs_background": "light"
     },
     "output_type": "display_data"
    },
    {
     "name": "stdout",
     "output_type": "stream",
     "text": [
      "1.0\n"
     ]
    }
   ],
   "source": [
    "# pick out and plot ground state\n",
    "groundstate = ordering[0]\n",
    "wavefn = states[:,groundstate] @ convmat\n",
    "plt.plot(xvec, -np.real(wavefn))\n",
    "plt.show()\n",
    "\n",
    "# check normalization\n",
    "print(np.sum(np.abs(wavefn)**2 * (xvec[1]-xvec[0])))"
   ]
  },
  {
   "cell_type": "code",
   "execution_count": 27,
   "metadata": {},
   "outputs": [
    {
     "data": {
      "image/png": "[encoded data removed]",
      "text/plain": [
       "<Figure size 432x288 with 1 Axes>"
      ]
     },
     "metadata": {
      "needs_background": "light"
     },
     "output_type": "display_data"
    },
    {
     "name": "stdout",
     "output_type": "stream",
     "text": [
      "1.0000000000000002\n"
     ]
    }
   ],
   "source": [
    "# pick out and plot j-th state with j starting at 0\n",
    "wavefn = states[:,ordering[1]] @ convmat\n",
    "plt.plot(xvec, np.imag(wavefn))\n",
    "plt.show()\n",
    "\n",
    "# check normalization\n",
    "print(np.sum(np.abs(wavefn)**2 * (xvec[1]-xvec[0])))"
   ]
  },
  {
   "cell_type": "markdown",
   "metadata": {},
   "source": [
    "**Dynamics**\n",
    "\n",
    "We've solved the spatial part of the forward problem.  To solve the forward problem in both space and time, we must think about dynamics.  To start, we represent the TDSE and the wave function in the orthonormal basis given above:\n",
    "\n",
    "$\\displaystyle \\psi(x,t) = \\sum_{n=-N}^N a_n(t) \\phi_n(x)$.\n",
    "\n",
    "By orthonormality,\n",
    "\n",
    "$(\\phi_m, \\psi) = a_m(t)$.\n",
    "\n",
    "Multiplying by $i$ and taking a time-derivative on both sides, we obtain\n",
    "\n",
    "$\\displaystyle (\\phi_m, i \\partial_t \\psi) = i \\frac{d}{dt} a_m(t)$.\n",
    "\n",
    "Now we substitute the TDSE and our representation of the wave function into the left-hand side and obtain\n",
    "\n",
    "$\\displaystyle \\sum_{n=-N}^N (\\phi_m, \\mathcal{H} \\phi_n) a_n(t) = i \\frac{d}{dt} a_m(t)$.\n",
    "\n",
    "Rearranging, we see that\n",
    "\n",
    "$\\displaystyle \\frac{d}{dt} \\vec{a}(t) = -i H \\vec{a}(t)$,\n",
    "\n",
    "where $\\vec{a}(t)$ is the vector of all coefficients $\\{a_n(t)\\}_{n=-N}^N$, and $H$ is the matrix representation of the Hamiltonian operator $\\mathcal{H}$.  The latter statement is equivalent to saying that $H_{mn} = (\\phi_m, \\mathcal{H} \\phi_n)$.\n",
    "\n",
    "We have an ordinary differential equation (ODE) for the coefficients $\\vec{a}(t)$.  I think of this ODE as the representation of the TDSE in the orthonormal basis we chose.  Solving this ODE will give us the dynamics of the coefficient vector $\\vec{a}(t)$.  If we know the coefficient vector $\\vec{a}(t)$ at some $t > 0$, then using the first equation above, we can compute $\\psi(x,t)$ at each $x \\in [-a,a]$.\n",
    "\n",
    "Let $\\{t_n\\}$ denote a temporal grid with $t_n = n \\Delta t$.  Using the ODE and properties of the matrix exponential, we derive\n",
    "\n",
    "$\\vec{a}(t_{n+1}) = \\exp(-i H \\Delta t) \\vec{a}(t_n)$.\n",
    "\n",
    "If we have already diagonalized the Hamiltonian $H$ via $H = V D V^\\dagger$, then we can rewrite the previous equation as\n",
    "\n",
    "$\\vec{a}(t_{n+1}) = V \\exp(-i D \\Delta t) V^\\dagger \\vec{a}(t_n)$.\n",
    "\n",
    "So, operationally speaking, here is what we do.  Given an initial condition $\\psi(x,0)$, we find the initial coefficient vector via\n",
    "\n",
    "$\\displaystyle a_m(0) = (\\phi_m, \\psi(\\cdot, 0)) = (2a)^{-1/2} \\int_{x=-a}^a e^{-i \\pi m x/a} \\psi(x,0) \\, dx$.\n",
    "\n",
    "We can do this via the FFT again; however, this doesn't lead to accurate reconstructions.  Below we use quadrature instead."
   ]
  },
  {
   "cell_type": "code",
   "execution_count": 28,
   "metadata": {},
   "outputs": [
    {
     "data": {
      "image/png": "[encoded data removed]",
      "text/plain": [
       "<Figure size 432x288 with 1 Axes>"
      ]
     },
     "metadata": {
      "needs_background": "light"
     },
     "output_type": "display_data"
    }
   ],
   "source": [
    "# triangular pulse\n",
    "# def psi0(x):\n",
    "#     return np.piecewise(x, [x < -1, (x >= -1) & (x <= 1), x > 1], [0, lambda x: (1 - np.abs(x)), 0])\n",
    "\n",
    "# parabolic pulse\n",
    "# def psi0(x):\n",
    "#     return np.piecewise(x, [x < -1, (x >= -1) & (x <= 1), x > 1], [0, lambda x: (1 - x**2), 0])\n",
    "\n",
    "# hyperbolic secant squared\n",
    "# def psi0(x):\n",
    "#     return (np.cosh(x))**(-2)\n",
    "\n",
    "# Laplace\n",
    "# def psi0(x):\n",
    "#     return np.exp(-np.abs(x))\n",
    "\n",
    "# rounded box function\n",
    "def psi0(x):\n",
    "    return 1.0 + np.tanh((1 - x**2)/0.5)\n",
    "\n",
    "vraw = np.zeros(nmax+1, dtype=np.complex128)\n",
    "for thisn in range(nmax+1):\n",
    "    def integ(x):\n",
    "        return (2*a)**(-0.5)*np.exp(-1j*np.pi*thisn*x/a)*psi0(x)\n",
    "    def rinteg(x):\n",
    "        return np.real(integ(x))\n",
    "    def iinteg(x):\n",
    "        return np.imag(integ(x))\n",
    "    vraw[thisn] = si.quad(rinteg, a=-a, b=a)[0] + 1j*si.quad(iinteg, a=-a, b=a)[0]\n",
    "\n",
    "ainit = np.concatenate([np.conjugate(np.flipud(vraw[1:])), vraw])\n",
    "\n",
    "# # some sampling and FFT tricks\n",
    "# # this integer '100' can be adjusted to improve resolution\n",
    "# # if we set f_sample = 2*nmax, then we are sampling at the Nyquist frequency\n",
    "# f_sample = 100 * 2 * nmax\n",
    "# t, dt = np.linspace(-a, a, f_sample+2, endpoint=False, retstep=True)\n",
    "# y = (np.fft.rfft(psi0(t)) / t.size)[:(2*nmax+1)]\n",
    "\n",
    "# # this stores the Fourier series coefficients for n-m=0 to n-m=2*nmax\n",
    "# vraw = y * (-1)**np.arange(2*nmax+1) * np.sqrt(2*a)\n",
    "# vrow2 = np.concatenate([np.flipud(vraw[nmax+1:]), vraw[:nmax+1]])\n",
    "\n",
    "# just check whether psi0 is represented OK\n",
    "plt.plot(xvec, psi0(xvec), color='black')\n",
    "psi0recon = np.real(ainit @ convmat)\n",
    "plt.plot(xvec, psi0recon, color='red')\n",
    "plt.show()"
   ]
  },
  {
   "cell_type": "code",
   "execution_count": 29,
   "metadata": {},
   "outputs": [],
   "source": [
    "# set the time step and compute the propagator matrix\n",
    "# note that we are reusing the spec, states eigendecomposition of hmat computed above\n",
    "dt = 0.01\n",
    "prop = states @ np.diag(np.exp(-1j*spec*dt)) @ np.conj(states.T)"
   ]
  },
  {
   "cell_type": "code",
   "execution_count": 30,
   "metadata": {},
   "outputs": [],
   "source": [
    "# propagate the \"a\" vector of coefficients as defined above\n",
    "nsteps = 100\n",
    "amat = np.zeros((nsteps+1, 2*nmax+1), dtype=np.complex128)\n",
    "amat[0,:] = np.copy(ainit)\n",
    "for j in range(nsteps):\n",
    "    amat[j+1,:] = prop @ amat[j,:]\n",
    "\n",
    "# compute the wave function in space from each \"a\" vector\n",
    "# do it all at once using matrix multiplication!\n",
    "psi2 = (np.abs(amat @ convmat))**2"
   ]
  },
  {
   "cell_type": "code",
   "execution_count": 31,
   "metadata": {},
   "outputs": [],
   "source": [
    "from matplotlib.animation import FuncAnimation\n",
    "from IPython.display import HTML"
   ]
  },
  {
   "cell_type": "code",
   "execution_count": 12,
   "metadata": {},
   "outputs": [
    {
     "data": {
      "image/png": "[encoded data removed]",
      "text/plain": [
       "<Figure size 576x360 with 1 Axes>"
      ]
     },
     "metadata": {
      "needs_background": "light"
     },
     "output_type": "display_data"
    }
   ],
   "source": [
    "# set up figure and axis for animation\n",
    "fig, ax = plt.subplots(figsize=(8, 5))\n",
    "ax.set(xlim=(-a, a), ylim=(0, np.amax(psi2)))\n",
    "\n",
    "# plot the potential in red, but multiply it by 0.01 so it fits on the same vertical axis scale!\n",
    "line0 = ax.plot(xvec, 0.01*v(xvec), color='r', lw=1)\n",
    "\n",
    "# plot the initial |\\psi|^2 in black\n",
    "line = ax.plot(xvec, psi2[0,:], color='k', lw=2)[0]\n",
    "\n",
    "# plot |\\psi(x,t_i)|^2 for each i\n",
    "def animate(i):\n",
    "    line.set_ydata(psi2[i,:])\n",
    "\n",
    "# create the animation\n",
    "anim = FuncAnimation(fig, animate, interval=100, frames=(nsteps-1))\n"
   ]
  },
  {
   "cell_type": "code",
   "execution_count": 13,
   "metadata": {},
   "outputs": [
    {
     "ename": "RuntimeError",
     "evalue": "Requested MovieWriter (ffmpeg) not available",
     "output_type": "error",
     "traceback": [
      "\u001b[0;31m---------------------------------------------------------------------------\u001b[0m",
      "\u001b[0;31mRuntimeError\u001b[0m                              Traceback (most recent call last)",
      "\u001b[0;32m/var/folders/pz/wy3lg_ps0fg986p2nzxcqlf00000gp/T/ipykernel_11358/3652625320.py\u001b[0m in \u001b[0;36m<module>\u001b[0;34m\u001b[0m\n\u001b[1;32m      1\u001b[0m \u001b[0;31m# show the animation in a Jupyter notebook (requires rendering to HTML5)\u001b[0m\u001b[0;34m\u001b[0m\u001b[0;34m\u001b[0m\u001b[0m\n\u001b[0;32m----> 2\u001b[0;31m \u001b[0mHTML\u001b[0m\u001b[0;34m(\u001b[0m\u001b[0manim\u001b[0m\u001b[0;34m.\u001b[0m\u001b[0mto_html5_video\u001b[0m\u001b[0;34m(\u001b[0m\u001b[0;34m)\u001b[0m\u001b[0;34m)\u001b[0m\u001b[0;34m\u001b[0m\u001b[0;34m\u001b[0m\u001b[0m\n\u001b[0m",
      "\u001b[0;32m~/miniforge3/envs/work1221/lib/python3.9/site-packages/matplotlib/animation.py\u001b[0m in \u001b[0;36mto_html5_video\u001b[0;34m(self, embed_limit)\u001b[0m\n\u001b[1;32m   1264\u001b[0m                 \u001b[0;31m# We create a writer manually so that we can get the\u001b[0m\u001b[0;34m\u001b[0m\u001b[0;34m\u001b[0m\u001b[0m\n\u001b[1;32m   1265\u001b[0m                 \u001b[0;31m# appropriate size for the tag\u001b[0m\u001b[0;34m\u001b[0m\u001b[0;34m\u001b[0m\u001b[0m\n\u001b[0;32m-> 1266\u001b[0;31m                 \u001b[0mWriter\u001b[0m \u001b[0;34m=\u001b[0m \u001b[0mwriters\u001b[0m\u001b[0;34m[\u001b[0m\u001b[0mmpl\u001b[0m\u001b[0;34m.\u001b[0m\u001b[0mrcParams\u001b[0m\u001b[0;34m[\u001b[0m\u001b[0;34m'animation.writer'\u001b[0m\u001b[0;34m]\u001b[0m\u001b[0;34m]\u001b[0m\u001b[0;34m\u001b[0m\u001b[0;34m\u001b[0m\u001b[0m\n\u001b[0m\u001b[1;32m   1267\u001b[0m                 writer = Writer(codec='h264',\n\u001b[1;32m   1268\u001b[0m                                 \u001b[0mbitrate\u001b[0m\u001b[0;34m=\u001b[0m\u001b[0mmpl\u001b[0m\u001b[0;34m.\u001b[0m\u001b[0mrcParams\u001b[0m\u001b[0;34m[\u001b[0m\u001b[0;34m'animation.bitrate'\u001b[0m\u001b[0;34m]\u001b[0m\u001b[0;34m,\u001b[0m\u001b[0;34m\u001b[0m\u001b[0;34m\u001b[0m\u001b[0m\n",
      "\u001b[0;32m~/miniforge3/envs/work1221/lib/python3.9/site-packages/matplotlib/animation.py\u001b[0m in \u001b[0;36m__getitem__\u001b[0;34m(self, name)\u001b[0m\n\u001b[1;32m    149\u001b[0m         \u001b[0;32mif\u001b[0m \u001b[0mself\u001b[0m\u001b[0;34m.\u001b[0m\u001b[0mis_available\u001b[0m\u001b[0;34m(\u001b[0m\u001b[0mname\u001b[0m\u001b[0;34m)\u001b[0m\u001b[0;34m:\u001b[0m\u001b[0;34m\u001b[0m\u001b[0;34m\u001b[0m\u001b[0m\n\u001b[1;32m    150\u001b[0m             \u001b[0;32mreturn\u001b[0m \u001b[0mself\u001b[0m\u001b[0;34m.\u001b[0m\u001b[0m_registered\u001b[0m\u001b[0;34m[\u001b[0m\u001b[0mname\u001b[0m\u001b[0;34m]\u001b[0m\u001b[0;34m\u001b[0m\u001b[0;34m\u001b[0m\u001b[0m\n\u001b[0;32m--> 151\u001b[0;31m         \u001b[0;32mraise\u001b[0m \u001b[0mRuntimeError\u001b[0m\u001b[0;34m(\u001b[0m\u001b[0;34mf\"Requested MovieWriter ({name}) not available\"\u001b[0m\u001b[0;34m)\u001b[0m\u001b[0;34m\u001b[0m\u001b[0;34m\u001b[0m\u001b[0m\n\u001b[0m\u001b[1;32m    152\u001b[0m \u001b[0;34m\u001b[0m\u001b[0m\n\u001b[1;32m    153\u001b[0m \u001b[0;34m\u001b[0m\u001b[0m\n",
      "\u001b[0;31mRuntimeError\u001b[0m: Requested MovieWriter (ffmpeg) not available"
     ]
    }
   ],
   "source": [
    "# show the animation in a Jupyter notebook (requires rendering to HTML5)\n",
    "HTML(anim.to_html5_video())"
   ]
  },
  {
   "cell_type": "markdown",
   "metadata": {},
   "source": [
    "**Adjoint Method**\n",
    "\n",
    "Now we address the inverse problem: given $\\psi(x,t)$ for $t > 0$, how can we determine $\\psi(x,0)$ and $v(x)$?\n",
    "\n",
    "Within the context of our basis function method, knowledge of $\\psi(x,t)$ for $t > 0$ is, up to sampling and resolution  requirements, equivalent to knowledge of $\\vec{a}(t)$.  To repeat an equation already written above:\n",
    "\n",
    "$a_m(t) = ( \\phi_m, \\psi(\\cdot, t) )$.\n",
    "\n",
    "In words, to find $a_m(t)$, we simply take the $L^2$ inner product of the basis function $\\phi_m$ with the wave function at time $t$.\n",
    "\n",
    "Hence we will proceed under the assumption that we have observations $\\vec{a}(t)$ on a temporal grid $\\{ t_k \\}_{k=0}^{F}$ with $t_k = k \\Delta t$.  Note that the initial time is zero: $t_0 = 0$.  If the final time is $T$, i.e., $t_F = T$, we have $\\Delta t = T/F$. \n",
    "\n",
    "As our goal is to find $v(x)$, we revisit this equation: for $-N \\leq m, n \\leq N$,\n",
    "\n",
    "$\\displaystyle V_{mn} = \\frac{1}{2a} \\int_{x=-a}^a e^{i \\pi (n-m) x/a} v(x) \\, dx$.\n",
    "\n",
    "We define our parameter vector $\\theta$ such that\n",
    "\n",
    "$\\displaystyle \\theta_j = (\\phi_j, v) = (2a)^{-1/2} \\int_{x=-a}^a e^{-i \\pi j x/a} v(x) \\, dx$.\n",
    "\n",
    "We see that\n",
    "\n",
    "$(2a)^{-1/2} \\theta_{m-n} = V_{mn}$.\n",
    "\n",
    "Now suppose that $n = -N$.  Then our equation is\n",
    "\n",
    "$(2a)^{-1/2} \\theta_{m + N} = V_{m,-N}$.\n",
    "\n",
    "We need to evaluate this for $-N \\leq m \\leq N$, which is equivalent to evaluating $\\theta_j$ for $j = 0, \\ldots, 2N$.  Suppose that we have access to these values of $\\theta_j$.  Then we note that\n",
    "\n",
    "$\\theta_{-j} = \\overline{\\theta_j}$,\n",
    "\n",
    "so we also have access to $\\theta_j$ for $j = -2N, \\ldots, -1$.  The entries $\\theta_j$ for $-2N \\leq j \\leq 2N$ are clearly sufficient to determine all entries $V_{mn}$ of the $V$ matrix.\n",
    "\n",
    "Hence we will take our parameter vector to be $\\theta \\in \\mathbb{R}^p$ with $p = 2N+1$.\n",
    "\n",
    "**Notation**\n",
    "\n",
    "In what follows, we use $\\theta$ to denote the *true parameter vector* that one obtains by computing the above Fourier integral for the *true potential energy function* $v(x)$.\n",
    "\n",
    "We will put a hat on top of a variable to denote a *statistical estimate* of that variable.  This is standard notation in statistics.  So, $\\hat{\\theta}$ denotes the *estimated parameter vector*, which will in general be different from $\\theta$.\n",
    "\n",
    "Similarly, $\\hat{a}(t)$ will denote the *estimated* solution we obtain when we solve the ODE\n",
    "\n",
    "$\\displaystyle \\frac{d}{dt} \\hat{a}(t) = -i \\hat{H} \\hat{a}(t)$\n",
    "\n",
    "using the *estimated* potential matrix $\\hat{V}$ in the *estimated* Hamiltonian $\\hat{H} = K + \\hat{V}$.  Here $\\hat{V}$ is determined from $\\hat{\\theta}$ using $\\hat{V}_{mn} = (2a)^{-1/2} \\hat{\\theta}_{m-n}$, as we discussed above.  Note that I did not put a hat on $K$ because we are not estimating the kinetic energy matrix; we will use the true matrix $K$.\n",
    "\n",
    "**Objective Function: Direct Method**\n",
    "\n",
    "In a direct method, we regard $\\hat{a}$ as a function of $\\hat{\\theta}$.  That is, $\\hat{\\theta}$ determines $\\hat{H}$, which influences the solution $\\hat{a}$.  Then we define\n",
    "\n",
    "$\\displaystyle J(\\hat{\\theta}) = \\frac{1}{2} \\sum_{k=0}^F \\| \\vec{a}(t_k) - \\hat{a}(t_k; \\hat{\\theta}) \\|^2$.\n",
    "\n",
    "In the direct method, this objective function is *only defined* for $\\hat{a}(t)$ that solves the above ODE.  To optimize this objective, we must compute the gradient of $J$ with respect to $\\hat{\\theta}$.  This will end up depending on $\\nabla_{\\hat{\\theta}} \\hat{a}(t; \\hat{\\theta})$.  We can compute this by differentiating the ODE for $\\hat{a}$ with respect to $\\hat{\\theta}$ on both sides, resulting in:\n",
    "\n",
    "$\\displaystyle \\frac{d}{dt} (\\nabla_{\\hat{\\theta}} \\hat{a}(t)) = -i (\\nabla_{\\hat{\\theta}} \\hat{H}) \\hat{a}(t) - i \\hat{H} (\\nabla_{\\hat{\\theta}} \\hat{a}(t))$.\n",
    "\n",
    "It is possible but annoying to solve this equation.  We will not pursue this approach.\n",
    "\n",
    "Another way to compute $\\nabla_{\\hat{\\theta}} \\hat{a}(t; \\hat{\\theta})$ is to differentiate both sides of the exact solution of the ODE,\n",
    "\n",
    "$\\hat{a}(t; \\hat{\\theta}) = \\exp (-i \\hat{H} t) \\hat{a}(0)$.\n",
    "\n",
    "This will require understanding $\\nabla_{Z} \\exp(Z)$, the gradient of the matrix exponential with respect to a matrix input.  We will address this below.\n",
    "\n",
    "**Objective Function: Adjoint Method**\n",
    "\n",
    "For notational convenience, in what follows, we will write $\\hat{a}_k = \\hat{a}(t_k)$ and $\\vec{a}_k = \\vec{a}(t_k)$.\n",
    "\n",
    "In the adjoint method, we introduce a Lagrange multiplier $\\lambda_k$, of the same dimension as each corresponding state variable $\\hat{a}(t_k)$, and write down the Lagrangian\n",
    "\n",
    "$\\displaystyle L(\\hat{a}, \\lambda, \\hat{\\theta}) = \\frac{1}{2} \\sum_{k=0}^F \\| \\vec{a}_k - \\hat{a}_k \\|^2 - \\Re \\sum_{k=0}^{F-1} \\lambda_{k+1}^\\dagger \\biggl( \\hat{a}_{k+1} - \\exp(-i \\hat{H} \\Delta t) \\hat{a}_k \\biggr)$.\n",
    "\n",
    "The Lagrangian is defined for any $\\hat{a}$, $\\lambda$, and $\\hat{\\theta}$ that are of the right dimensions.\n",
    "\n",
    "We now take gradients.  The gradient with respect to $\\lambda$ will reproduce the equality constraint; we omit the details but simply record that\n",
    "\n",
    "$\\displaystyle \\nabla_{\\lambda_{j+1}} L = \\hat{a}_{j+1} - \\exp(-i \\hat{H} \\Delta t) \\hat{a}_j$.\n",
    "\n",
    "Setting this gradient equal to zero will constrain $\\hat{a}$ to evolve according to the ODE given above.\n",
    "\n",
    "We focus our attention on the gradient with respect to $\\hat{a}$.  We compute this as follows:\n",
    "\n",
    "$\\displaystyle \\delta L = \\frac{d}{d \\epsilon} \\biggr|_{\\epsilon=0} L(\\hat{a} + \\epsilon \\delta \\hat{a}, \\lambda, \\hat{\\theta})$.\n",
    "\n",
    "$\\displaystyle \\delta L = \\frac{d}{d \\epsilon} \\biggr|_{\\epsilon=0} \\frac{1}{2} \\sum_{k=0}^F \\| \\vec{a}_k - \\hat{a}_k - \\epsilon \\delta \\hat{a}_k \\|^2 - \\Re \\sum_{k=0}^{F-1} \\lambda_{k+1}^\\dagger \\biggl( \\hat{a}_{k+1} + \\epsilon \\delta \\hat{a}_{k+1} - \\exp(-i \\hat{H} \\Delta t) (\\hat{a}_k + \\epsilon  \\delta \\hat{a}_{k}) \\biggr)$.\n",
    "\n",
    "$\\displaystyle \\delta L = -\\frac{1}{2} \\sum_{k=0}^F \\delta \\hat{a}_k^\\dagger ( \\vec{a}_k - \\hat{a}_k ) - \\frac{1}{2} \\sum_{k=0}^F ( \\vec{a}_k - \\hat{a}_k )^\\dagger (\\delta \\hat{a}_k) - \\Re \\sum_{k=0}^{F-1} \\lambda_{k+1}^\\dagger \\biggl( \\delta \\hat{a}_{k+1} - \\exp(-i \\hat{H} \\Delta t)  \\delta \\hat{a}_{k} \\biggr)$.\n",
    "\n",
    "The second term is the complex conjugate of the first term, and so we have a combination of the form $(z + \\overline{z})/2 = \\Re(z)$, the real part of $z$.  Hence\n",
    "\n",
    "$\\displaystyle \\delta L = - \\Re \\left\\{ \\sum_{k=0}^F ( \\vec{a}_k - \\hat{a}_k )^\\dagger (\\delta \\hat{a}_k) \\right\\} - \\Re \\sum_{k=0}^{F-1} \\lambda_{k+1}^\\dagger \\biggl( \\delta \\hat{a}_{k+1} - \\exp(-i \\hat{H} \\Delta t)  \\delta \\hat{a}_{k} \\biggr)$.\n",
    "\n",
    "We separate the terms in the second summation and relabel indices to obtain\n",
    "\n",
    "$\\displaystyle \\delta L = - \\Re \\left\\{ \\sum_{k=0}^F ( \\vec{a}_k - \\hat{a}_k )^\\dagger (\\delta \\hat{a}_k) \\right\\} - \\Re \\sum_{k=1}^{F} \\lambda_{k}^\\dagger \\delta \\hat{a}_{k} + \\Re \\sum_{k=0}^{F-1} \\lambda_{k+1}^\\dagger \\exp(-i \\hat{H} \\Delta t)  \\delta \\hat{a}_{k}$.\n"
   ]
  },
  {
   "cell_type": "markdown",
   "metadata": {},
   "source": [
    "Note that there are only two terms with $\\delta \\hat{a}_F$.  Hence\n",
    "\n",
    "$\\displaystyle \\frac{\\delta L}{\\delta \\hat{a}_F} = - ( \\vec{a}_F - \\hat{a}_F )^\\dagger - \\lambda_F^\\dagger$.\n",
    "\n",
    "When $k = 1, \\ldots, F-1$, we have\n",
    "\n",
    "$\\displaystyle \\frac{\\delta L}{\\delta \\hat{a}_k} = - ( \\vec{a}_k - \\hat{a}_k )^\\dagger - \\lambda_k^\\dagger + \\lambda_{k+1}^\\dagger \\exp(-i \\hat{H} \\Delta t)$.\n",
    "\n",
    "Finally, for $k=0$, we have\n",
    "\n",
    "$\\displaystyle \\frac{\\delta L}{\\delta \\hat{a}_0} = - ( \\vec{a}_0 - \\hat{a}_0 )^\\dagger + \\lambda_1^\\dagger \\exp(-i \\hat{H} \\Delta t)$.\n",
    "\n",
    "Setting these gradients to zero gives us a numerical method to solve for $\\lambda_j$.  Setting ${\\delta L}/{\\delta \\hat{a}_F} = 0$, we obtain a *final condition*\n",
    "\n",
    "$\\lambda_F^\\dagger = ( \\hat{a}_F - \\vec{a}_F )^\\dagger$.\n",
    "\n",
    "Then for $k = F-1, \\ldots, 1$, we set ${\\delta L}/{\\delta \\hat{a}_k} = 0$ and step *backward in time* to obtain\n",
    "\n",
    "$\\lambda_k^\\dagger = ( \\hat{a}_k - \\vec{a}_k )^\\dagger  + \\lambda_{k+1}^\\dagger \\exp(-i \\hat{H} \\Delta t)$.\n",
    "\n",
    "At the end of these iterations, we have $\\lambda_1$, which enables us to compute ${\\delta L}/{\\delta \\hat{a}_0}$.  We then use this gradient to optimize $\\hat{a}_0$.  Note that $\\hat{a}_0$ determines the rest of $\\hat{a}_k$ (for $k > 0$) thanks to the evolution equation\n",
    "\n",
    "$\\hat{a}_{k+1} = \\exp(-i \\hat{H} \\Delta t) \\hat{a}_k$.\n",
    "\n",
    "We have one final gradient to compute, $\\nabla_{\\hat{\\theta}} L$.  The iterations above yield all the $\\lambda_k$'s that we need to evaluate the Lagrangian $L$, so we will obtain this derivative directly.  The only reason to proceed cautiously is that $\\hat{\\theta}$ is complex.  To avoid any issues with complex differentiation, we will first write\n",
    "\n",
    "$\\hat{\\theta} = \\hat{\\theta}^R + i \\hat{\\theta}^I$.\n",
    "\n",
    "When we differentiate and it does not matter whether the derivative is with respect to $\\hat{\\theta}^R$ or $\\hat{\\theta}^I$, we will use the notation $\\hat{\\theta}^{R|I}$.\n",
    "\n",
    "$\\displaystyle \\nabla_{\\hat{\\theta}^{R|I}} L = \\sum_{k=0}^{F-1} \\lambda_{k+1}^\\dagger \\nabla_{\\hat{\\theta}^{R|I}} \\exp(-i \\hat{H} \\Delta t) \\hat{a}_k$.\n",
    "\n",
    "To understand the last expression, we must use indices and expand the vector-matrix-vector multiplication:\n",
    "\n",
    "$\\nabla_{\\hat{\\theta}^{R|I}} L = \\sum_{k=0}^{F-1} \\sum_{j,\\ell} \\lambda^\\dagger_{k+1, j} \\nabla_{\\hat{\\theta}^{R|I}} \\left[ \\exp(-i \\hat{H} \\Delta t) \\right]_{j,\\ell} \\hat{a}_{k,\\ell}$.\n",
    "\n",
    "We interpret the derivative as:\n",
    "\n",
    "$\\displaystyle \\frac{\\partial  \\left[ \\exp(-i \\hat{H} \\Delta t) \\right]_{j,\\ell}}{\\partial \\hat{\\theta}_m^{R|I}} =  (-i \\Delta t) \\sum_{q,r} \\frac{\\partial  \\left[ \\exp(Z) \\right]_{j,\\ell}}{\\partial Z_{qr}}  \\biggr|_{Z = -i \\hat{H} \\Delta t}  \\frac{\\partial \\hat{H}_{qr}}{\\partial \\hat{\\theta}_m^{R|I}}$.\n",
    "\n",
    "Note that\n",
    "\n",
    "$\\hat{H}_{qr} = K_{qr} + \\hat{V}_{qr} = K_{qr} + \\begin{cases} \\hat{\\theta}_{q-r} & q \\geq r \\\\ \\overline{\\hat{\\theta}}_{r-q} & q < r. \\end{cases}$.\n",
    "\n",
    "This is where it pays to be careful about real and imaginary parts. We see that\n",
    "\n",
    "$\\displaystyle \\frac{\\partial \\hat{H}_{qr}}{\\partial \\hat{\\theta}_m^R} = \\begin{cases} \\delta_{q-r,m} & q \\geq r \\\\ \\delta_{r-q,m} & q < r. \\end{cases}$,\n",
    "\n",
    "and\n",
    "\n",
    "$\\displaystyle \\frac{\\partial \\hat{H}_{qr}}{\\partial \\hat{\\theta}_m^I} = \\begin{cases} i \\delta_{q-r,m} & q > r \\\\ -i \\delta_{r-q,m} & q < r. \\end{cases}$.\n",
    "\n",
    "For $m=0$, these are $(2N+1) \\times (2N+1)$ matrices that are zero except along the main diagonal, where they have a constant band equal to $1$ (in the real case) or $i$ (in the imaginary case).\n",
    "\n",
    "For each fixed value of $m \\neq 0$, these are $(2N+1) \\times (2N+1)$ matrices that are zero except along two diagonals, located $|m|$ entries above and below the main diagonal.  In the real case, the entries are $1$ on both super/sub-diagonals.  In the imaginary case, the entries equal $i$ on the subdiagonal and $-i$ on the superdiagonal."
   ]
  },
  {
   "cell_type": "code",
   "execution_count": 32,
   "metadata": {},
   "outputs": [],
   "source": [
    "# this function implements the adjoint method described mathematically above\n",
    "# it takes as input x, which is a concatenation of the real and imaginary parts of thetahat\n",
    "# as you can see from the first 5 lines of the function, \n",
    "# the real and imaginary part of thetahat *parameterize* the potential matrix \"vhatmat\"\n",
    "def adjgrad(x):\n",
    "    m = 2*nmax + 1\n",
    "    thetahatR = x[:m]\n",
    "    thetahatI = x[m:]\n",
    "    thetahat = thetahatR + 1j*np.concatenate([np.array([0.]), thetahatI])\n",
    "    vhatmat = sl.toeplitz(r=thetahat,c=np.conj(thetahat))\n",
    "    \n",
    "    # Hamiltonian matrix \n",
    "    hhatmat = kmat + vhatmat\n",
    "    \n",
    "    # eigendecomposition and compute propagator\n",
    "    hatspec, hatstates = np.linalg.eigh(hhatmat)\n",
    "    hatprop = hatstates @ np.diag(np.exp(-1j*hatspec*dt)) @ np.conj(hatstates.T)\n",
    "    hatadj = np.conj(hatprop.T)\n",
    "    \n",
    "    # propagate the \"a\" vector of coefficients forward in time\n",
    "    # in other words, solve the *forward* problem\n",
    "    ahatmat = np.zeros((nsteps+1, 2*nmax+1), dtype=np.complex128)\n",
    "    ahatmat[0,:] = np.copy(ainit)\n",
    "    for j in range(nsteps):\n",
    "        ahatmat[j+1,:] = hatprop @ ahatmat[j,:]\n",
    "    \n",
    "    # compute lagrangian\n",
    "    resid = ahatmat - amat\n",
    "    lag = 0.5*np.real(np.sum(np.conj(resid)*resid))\n",
    "    \n",
    "    # propagate the \"lambda\" vector of coefficients backward in time\n",
    "    # in other words, solve the *adjoint* problem\n",
    "    lambmat = np.zeros((nsteps+1, 2*nmax+1), dtype=np.complex128)\n",
    "    lambmat[nsteps,:] = ahatmat[nsteps,:] - amat[nsteps,:] \n",
    "    for j in range(nsteps-1,0,-1):\n",
    "        lambmat[j,:] = ahatmat[j,:] - amat[j,:] + hatadj @ lambmat[j+1,:] \n",
    "    \n",
    "    # Compute the gradients\n",
    "    # Most of this stuff is math that computes the directional derivative of the matrix exponential,\n",
    "    # the part of the derivation above where we see \"\\partial \\exp(Z) / \\partial Z \\cdot A\"\n",
    "    # for some matrix A.\n",
    "    # All of this code has been checked against JAX autograd to make sure it is computing gradients correctly.\n",
    "    # Note that it is much faster than JAX autograd.\n",
    "    alldmat = np.zeros((2*m-1, m, m), dtype=np.complex128)\n",
    "    expspec = np.exp(-1j*dt*hatspec)\n",
    "    mask = np.zeros((m,m), dtype=np.complex128)\n",
    "    for ii in range(m):\n",
    "        for jj in range(m):\n",
    "            if np.isclose(hatspec[ii],hatspec[jj]):\n",
    "                mask[ii,ii] = expspec[ii]\n",
    "            else:\n",
    "                mask[ii,jj] = (expspec[ii] - expspec[jj])/(-1j*dt*(hatspec[ii]-hatspec[jj]))\n",
    "    \n",
    "    for iii in range(m):\n",
    "        ctrvec = np.zeros(m, dtype=np.complex128)\n",
    "        ctrvec[iii] = 1.0\n",
    "        ctrmat = sl.toeplitz(r=ctrvec, c=np.conj(ctrvec))\n",
    "        \n",
    "        # try computing derivative in a different way without calling sl.expm        \n",
    "        derivamat = hatstates.conj().T @ ctrmat @ hatstates\n",
    "        qmat = derivamat * mask\n",
    "        alldmat[iii,:,:] = -1j*dt* hatstates @ qmat @ hatstates.conj().T\n",
    "    \n",
    "    for iii in range(m-1):\n",
    "        ctrvec = np.zeros(m, dtype=np.complex128)\n",
    "        ctrvec[iii + 1] = 1.0j\n",
    "        ctrmat = sl.toeplitz(r=ctrvec, c=np.conj(ctrvec))\n",
    "        \n",
    "        # try computing derivative in a different way without calling sl.expm        \n",
    "        derivamat = hatstates.conj().T @ ctrmat @ hatstates\n",
    "        qmat = derivamat * mask\n",
    "        alldmat[m + iii,:,:] = -1j*dt* hatstates @ qmat @ hatstates.conj().T\n",
    "    \n",
    "    # now compute all entries of the gradient at once\n",
    "    gradients = np.real(np.einsum('ij,ajk,ik->a', np.conj(lambmat[1:,:]), alldmat, ahatmat[:-1,:]))\n",
    "    return lag, gradients"
   ]
  },
  {
   "cell_type": "code",
   "execution_count": 33,
   "metadata": {},
   "outputs": [
    {
     "name": "stdout",
     "output_type": "stream",
     "text": [
      "0.0\n",
      "0.0\n"
     ]
    }
   ],
   "source": [
    "# grab true theta used to generate training data\n",
    "truethetaR = np.real(vrow)\n",
    "truethetaI = np.imag(vrow[1:])\n",
    "\n",
    "# compute Lagrangian and gradient for true theta\n",
    "truelag, trueag = adjgrad(np.concatenate([truethetaR, truethetaI]))\n",
    "\n",
    "# think of this as a sanity check: when we plug in the true theta,\n",
    "# - the Lagrangian should be zero, because the objective function should be 0 and the constraint is satisfied, and\n",
    "# - the gradient of the Lagrangian should be zero\n",
    "print(truelag)\n",
    "print(np.linalg.norm(trueag))"
   ]
  },
  {
   "cell_type": "code",
   "execution_count": 34,
   "metadata": {},
   "outputs": [],
   "source": [
    "# for the purposes of calling scipy.optimize, we split our adjgrad function into two parts\n",
    "\n",
    "# this function computes the Lagrangian; it *does not compute* the gradient\n",
    "def justlag(x):\n",
    "    m = 2*nmax + 1\n",
    "    thetahatR = x[:m]\n",
    "    thetahatI = x[m:]\n",
    "    thetahat = thetahatR + 1j*np.concatenate([np.array([0.]), thetahatI])\n",
    "    vhatmat = sl.toeplitz(r=thetahat,c=np.conj(thetahat))\n",
    "\n",
    "    # Hamiltonian matrix \n",
    "    hhatmat = kmat + vhatmat\n",
    "\n",
    "    # eigendecomposition and compute propagator\n",
    "    hatspec, hatstates = np.linalg.eigh(hhatmat)\n",
    "    hatprop = hatstates @ np.diag(np.exp(-1j*hatspec*dt)) @ np.conj(hatstates.T)\n",
    "    hatadj = np.conj(hatprop.T)\n",
    "\n",
    "    # propagate the \"a\" vector of coefficients as defined above\n",
    "    ahatmat = np.zeros((nsteps+1, 2*nmax+1), dtype=np.complex128)\n",
    "    ahatmat[0,:] = np.copy(ainit)\n",
    "    for j in range(nsteps):\n",
    "        ahatmat[j+1,:] = hatprop @ ahatmat[j,:]\n",
    "    \n",
    "    # compute lagrangian\n",
    "    resid = ahatmat - amat\n",
    "    lag = 0.5*np.real(np.sum(np.conj(resid)*resid))\n",
    "    \n",
    "    return lag\n",
    "\n",
    "# this function computes the gradient; it *does not compute* the Lagrangian\n",
    "def justgrad(x):\n",
    "    m = 2*nmax + 1\n",
    "    thetahatR = x[:m]\n",
    "    thetahatI = x[m:]\n",
    "    thetahat = thetahatR + 1j*np.concatenate([np.array([0.]), thetahatI])\n",
    "    vhatmat = sl.toeplitz(r=thetahat,c=np.conj(thetahat))\n",
    "\n",
    "    # Hamiltonian matrix \n",
    "    hhatmat = kmat + vhatmat\n",
    "\n",
    "    # eigendecomposition and compute propagator\n",
    "    hatspec, hatstates = np.linalg.eigh(hhatmat)\n",
    "    hatprop = hatstates @ np.diag(np.exp(-1j*hatspec*dt)) @ np.conj(hatstates.T)\n",
    "    hatadj = np.conj(hatprop.T)\n",
    "\n",
    "    # propagate the \"a\" vector of coefficients as defined above\n",
    "    ahatmat = np.zeros((nsteps+1, 2*nmax+1), dtype=np.complex128)\n",
    "    ahatmat[0,:] = np.copy(ainit)\n",
    "    for j in range(nsteps):\n",
    "        ahatmat[j+1,:] = hatprop @ ahatmat[j,:]\n",
    "    \n",
    "    # compute lagrangian\n",
    "    resid = ahatmat - amat\n",
    "    \n",
    "    # adjoint backpropagation\n",
    "    lambmat = np.zeros((nsteps+1, 2*nmax+1), dtype=np.complex128)\n",
    "    lambmat[nsteps,:] = resid[nsteps,:]\n",
    "    for j in range(nsteps-1,0,-1):\n",
    "        lambmat[j,:] = resid[j,:] + hatadj @ lambmat[j+1,:] \n",
    "    \n",
    "    # could parallelize these for loops but sticking to serial in Jupyter\n",
    "    alldmat = np.zeros((2*m-1, m, m), dtype=np.complex128)\n",
    "    expspec = np.exp(-1j*dt*hatspec)\n",
    "    mask = np.zeros((m,m), dtype=np.complex128)\n",
    "    for ii in range(m):\n",
    "        for jj in range(m):\n",
    "            if np.isclose(hatspec[ii],hatspec[jj]):\n",
    "                mask[ii,ii] = expspec[ii]\n",
    "            else:\n",
    "                mask[ii,jj] = (expspec[ii] - expspec[jj])/(-1j*dt*(hatspec[ii]-hatspec[jj]))\n",
    "    \n",
    "    for iii in range(m):\n",
    "        ctrvec = np.zeros(m, dtype=np.complex128)\n",
    "        ctrvec[iii] = 1.0\n",
    "        ctrmat = sl.toeplitz(r=ctrvec, c=np.conj(ctrvec))\n",
    "        \n",
    "        # try computing derivative in a different way without calling sl.expm        \n",
    "        derivamat = hatstates.conj().T @ ctrmat @ hatstates\n",
    "        qmat = derivamat * mask\n",
    "        alldmat[iii,:,:] = -1j*dt* hatstates @ qmat @ hatstates.conj().T\n",
    "    \n",
    "    for iii in range(m-1):\n",
    "        ctrvec = np.zeros(m, dtype=np.complex128)\n",
    "        ctrvec[iii + 1] = 1.0j\n",
    "        ctrmat = sl.toeplitz(r=ctrvec, c=np.conj(ctrvec))\n",
    "        \n",
    "        # try computing derivative in a different way without calling sl.expm        \n",
    "        derivamat = hatstates.conj().T @ ctrmat @ hatstates\n",
    "        qmat = derivamat * mask\n",
    "        alldmat[m + iii,:,:] = -1j*dt* hatstates @ qmat @ hatstates.conj().T\n",
    "    \n",
    "    # we compute all the entries of the gradient at once\n",
    "    gradients = np.real(np.einsum('ij,ajk,ik->a', np.conj(lambmat[1:,:]), alldmat, ahatmat[:-1,:]))\n",
    "    return gradients"
   ]
  },
  {
   "cell_type": "code",
   "execution_count": null,
   "metadata": {},
   "outputs": [],
   "source": [
    "# as an easy test case, let us take the true theta and perturb it\n",
    "# with random normally distributed noise (with small variance)\n",
    "# the optimizer should not have great difficulty converging to a good minimum\n",
    "# starting from here\n",
    "x0 = np.concatenate([truethetaR, truethetaI])\n",
    "x0 += 0.01*np.random.normal(size=x0.shape)\n",
    "res = scipy.optimize.minimize(justlag, x0, method='bfgs', jac=justgrad, options={'disp': 99})"
   ]
  },
  {
   "cell_type": "code",
   "execution_count": 18,
   "metadata": {},
   "outputs": [
    {
     "name": "stdout",
     "output_type": "stream",
     "text": [
      "1.9467408658804848e-08\n",
      "0.06801955959374831\n"
     ]
    }
   ],
   "source": [
    "# print out the value of the Lagrangian at the thetahad found by the optimizer\n",
    "print(justlag(res.x))\n",
    "\n",
    "# has the optimizer found a thetahat that is close to the true theta?\n",
    "print(np.linalg.norm(res.x - np.concatenate([truethetaR, truethetaI])))"
   ]
  },
  {
   "cell_type": "code",
   "execution_count": 19,
   "metadata": {},
   "outputs": [
    {
     "data": {
      "image/png": "[encoded data removed]",
      "text/plain": [
       "<Figure size 432x288 with 1 Axes>"
      ]
     },
     "metadata": {
      "needs_background": "light"
     },
     "output_type": "display_data"
    }
   ],
   "source": [
    "# plot the estimated potential\n",
    "mm = 2*nmax+1\n",
    "thetahat = np.zeros(mm, dtype=np.complex128)\n",
    "thetahat += res.x[:mm]\n",
    "thetahat[1:] += 1j*res.x[mm:]\n",
    "nvec2 = np.arange(-2*nmax,2*nmax+1)\n",
    "convmat2 = np.exp(1j*np.pi*np.outer(nvec2, xvec)/a)\n",
    "fullthetahat = np.concatenate([np.flipud(thetahat[1:].conj()), thetahat])\n",
    "vx = fullthetahat @ convmat2\n",
    "\n",
    "# real part\n",
    "# red = learned potential\n",
    "# black = true potential\n",
    "plt.plot(xvec, np.real(vx), color='red')\n",
    "plt.plot(xvec, np.real(v(xvec)), color='black')\n",
    "plt.xlabel('x')\n",
    "plt.ylabel('Re(v(x))')\n",
    "plt.show()"
   ]
  },
  {
   "cell_type": "code",
   "execution_count": 20,
   "metadata": {},
   "outputs": [
    {
     "data": {
      "image/png": "[encoded data removed]",
      "text/plain": [
       "<Figure size 432x288 with 1 Axes>"
      ]
     },
     "metadata": {
      "needs_background": "light"
     },
     "output_type": "display_data"
    }
   ],
   "source": [
    "# imaginary part\n",
    "# red = learned potential\n",
    "# black = true potential\n",
    "plt.plot(xvec, np.imag(vx), color='red')\n",
    "plt.plot(xvec, np.imag(v(xvec)), color='black')\n",
    "plt.xlabel('x')\n",
    "plt.ylabel('Im(v(x))')\n",
    "plt.show()"
   ]
  },
  {
   "cell_type": "code",
   "execution_count": 21,
   "metadata": {},
   "outputs": [
    {
     "ename": "KeyboardInterrupt",
     "evalue": "",
     "output_type": "error",
     "traceback": [
      "\u001b[0;31m---------------------------------------------------------------------------\u001b[0m",
      "\u001b[0;31mKeyboardInterrupt\u001b[0m                         Traceback (most recent call last)",
      "\u001b[0;32m/var/folders/pz/wy3lg_ps0fg986p2nzxcqlf00000gp/T/ipykernel_11358/2032210416.py\u001b[0m in \u001b[0;36m<module>\u001b[0;34m\u001b[0m\n\u001b[1;32m      5\u001b[0m \u001b[0mthetahatI\u001b[0m \u001b[0;34m=\u001b[0m \u001b[0mnp\u001b[0m\u001b[0;34m.\u001b[0m\u001b[0mrandom\u001b[0m\u001b[0;34m.\u001b[0m\u001b[0muniform\u001b[0m\u001b[0;34m(\u001b[0m\u001b[0msize\u001b[0m\u001b[0;34m=\u001b[0m\u001b[0;36m2\u001b[0m\u001b[0;34m*\u001b[0m\u001b[0mnmax\u001b[0m\u001b[0;34m)\u001b[0m \u001b[0;34m-\u001b[0m \u001b[0;36m0.5\u001b[0m\u001b[0;34m\u001b[0m\u001b[0;34m\u001b[0m\u001b[0m\n\u001b[1;32m      6\u001b[0m \u001b[0mx0\u001b[0m \u001b[0;34m=\u001b[0m \u001b[0mnp\u001b[0m\u001b[0;34m.\u001b[0m\u001b[0mconcatenate\u001b[0m\u001b[0;34m(\u001b[0m\u001b[0;34m[\u001b[0m\u001b[0mthetahatR\u001b[0m\u001b[0;34m,\u001b[0m \u001b[0mthetahatI\u001b[0m\u001b[0;34m]\u001b[0m\u001b[0;34m)\u001b[0m\u001b[0;34m\u001b[0m\u001b[0;34m\u001b[0m\u001b[0m\n\u001b[0;32m----> 7\u001b[0;31m \u001b[0mres\u001b[0m \u001b[0;34m=\u001b[0m \u001b[0mscipy\u001b[0m\u001b[0;34m.\u001b[0m\u001b[0moptimize\u001b[0m\u001b[0;34m.\u001b[0m\u001b[0mminimize\u001b[0m\u001b[0;34m(\u001b[0m\u001b[0mjustlag\u001b[0m\u001b[0;34m,\u001b[0m \u001b[0mx0\u001b[0m\u001b[0;34m,\u001b[0m \u001b[0mmethod\u001b[0m\u001b[0;34m=\u001b[0m\u001b[0;34m'bfgs'\u001b[0m\u001b[0;34m,\u001b[0m \u001b[0mjac\u001b[0m\u001b[0;34m=\u001b[0m\u001b[0mjustgrad\u001b[0m\u001b[0;34m,\u001b[0m \u001b[0moptions\u001b[0m\u001b[0;34m=\u001b[0m\u001b[0;34m{\u001b[0m\u001b[0;34m'disp'\u001b[0m\u001b[0;34m:\u001b[0m \u001b[0;36m99\u001b[0m\u001b[0;34m}\u001b[0m\u001b[0;34m)\u001b[0m\u001b[0;34m\u001b[0m\u001b[0;34m\u001b[0m\u001b[0m\n\u001b[0m",
      "\u001b[0;32m~/miniforge3/envs/work1221/lib/python3.9/site-packages/scipy/optimize/_minimize.py\u001b[0m in \u001b[0;36mminimize\u001b[0;34m(fun, x0, args, method, jac, hess, hessp, bounds, constraints, tol, callback, options)\u001b[0m\n\u001b[1;32m    616\u001b[0m         \u001b[0;32mreturn\u001b[0m \u001b[0m_minimize_cg\u001b[0m\u001b[0;34m(\u001b[0m\u001b[0mfun\u001b[0m\u001b[0;34m,\u001b[0m \u001b[0mx0\u001b[0m\u001b[0;34m,\u001b[0m \u001b[0margs\u001b[0m\u001b[0;34m,\u001b[0m \u001b[0mjac\u001b[0m\u001b[0;34m,\u001b[0m \u001b[0mcallback\u001b[0m\u001b[0;34m,\u001b[0m \u001b[0;34m**\u001b[0m\u001b[0moptions\u001b[0m\u001b[0;34m)\u001b[0m\u001b[0;34m\u001b[0m\u001b[0;34m\u001b[0m\u001b[0m\n\u001b[1;32m    617\u001b[0m     \u001b[0;32melif\u001b[0m \u001b[0mmeth\u001b[0m \u001b[0;34m==\u001b[0m \u001b[0;34m'bfgs'\u001b[0m\u001b[0;34m:\u001b[0m\u001b[0;34m\u001b[0m\u001b[0;34m\u001b[0m\u001b[0m\n\u001b[0;32m--> 618\u001b[0;31m         \u001b[0;32mreturn\u001b[0m \u001b[0m_minimize_bfgs\u001b[0m\u001b[0;34m(\u001b[0m\u001b[0mfun\u001b[0m\u001b[0;34m,\u001b[0m \u001b[0mx0\u001b[0m\u001b[0;34m,\u001b[0m \u001b[0margs\u001b[0m\u001b[0;34m,\u001b[0m \u001b[0mjac\u001b[0m\u001b[0;34m,\u001b[0m \u001b[0mcallback\u001b[0m\u001b[0;34m,\u001b[0m \u001b[0;34m**\u001b[0m\u001b[0moptions\u001b[0m\u001b[0;34m)\u001b[0m\u001b[0;34m\u001b[0m\u001b[0;34m\u001b[0m\u001b[0m\n\u001b[0m\u001b[1;32m    619\u001b[0m     \u001b[0;32melif\u001b[0m \u001b[0mmeth\u001b[0m \u001b[0;34m==\u001b[0m \u001b[0;34m'newton-cg'\u001b[0m\u001b[0;34m:\u001b[0m\u001b[0;34m\u001b[0m\u001b[0;34m\u001b[0m\u001b[0m\n\u001b[1;32m    620\u001b[0m         return _minimize_newtoncg(fun, x0, args, jac, hess, hessp, callback,\n",
      "\u001b[0;32m~/miniforge3/envs/work1221/lib/python3.9/site-packages/scipy/optimize/optimize.py\u001b[0m in \u001b[0;36m_minimize_bfgs\u001b[0;34m(fun, x0, args, jac, callback, gtol, norm, eps, maxiter, disp, return_all, finite_diff_rel_step, **unknown_options)\u001b[0m\n\u001b[1;32m   1233\u001b[0m         \u001b[0;32mtry\u001b[0m\u001b[0;34m:\u001b[0m\u001b[0;34m\u001b[0m\u001b[0;34m\u001b[0m\u001b[0m\n\u001b[1;32m   1234\u001b[0m             \u001b[0malpha_k\u001b[0m\u001b[0;34m,\u001b[0m \u001b[0mfc\u001b[0m\u001b[0;34m,\u001b[0m \u001b[0mgc\u001b[0m\u001b[0;34m,\u001b[0m \u001b[0mold_fval\u001b[0m\u001b[0;34m,\u001b[0m \u001b[0mold_old_fval\u001b[0m\u001b[0;34m,\u001b[0m \u001b[0mgfkp1\u001b[0m \u001b[0;34m=\u001b[0m\u001b[0;31m \u001b[0m\u001b[0;31m\\\u001b[0m\u001b[0;34m\u001b[0m\u001b[0;34m\u001b[0m\u001b[0m\n\u001b[0;32m-> 1235\u001b[0;31m                      _line_search_wolfe12(f, myfprime, xk, pk, gfk,\n\u001b[0m\u001b[1;32m   1236\u001b[0m                                           old_fval, old_old_fval, amin=1e-100, amax=1e100)\n\u001b[1;32m   1237\u001b[0m         \u001b[0;32mexcept\u001b[0m \u001b[0m_LineSearchError\u001b[0m\u001b[0;34m:\u001b[0m\u001b[0;34m\u001b[0m\u001b[0;34m\u001b[0m\u001b[0m\n",
      "\u001b[0;32m~/miniforge3/envs/work1221/lib/python3.9/site-packages/scipy/optimize/optimize.py\u001b[0m in \u001b[0;36m_line_search_wolfe12\u001b[0;34m(f, fprime, xk, pk, gfk, old_fval, old_old_fval, **kwargs)\u001b[0m\n\u001b[1;32m   1003\u001b[0m     \u001b[0mextra_condition\u001b[0m \u001b[0;34m=\u001b[0m \u001b[0mkwargs\u001b[0m\u001b[0;34m.\u001b[0m\u001b[0mpop\u001b[0m\u001b[0;34m(\u001b[0m\u001b[0;34m'extra_condition'\u001b[0m\u001b[0;34m,\u001b[0m \u001b[0;32mNone\u001b[0m\u001b[0;34m)\u001b[0m\u001b[0;34m\u001b[0m\u001b[0;34m\u001b[0m\u001b[0m\n\u001b[1;32m   1004\u001b[0m \u001b[0;34m\u001b[0m\u001b[0m\n\u001b[0;32m-> 1005\u001b[0;31m     ret = line_search_wolfe1(f, fprime, xk, pk, gfk,\n\u001b[0m\u001b[1;32m   1006\u001b[0m                              \u001b[0mold_fval\u001b[0m\u001b[0;34m,\u001b[0m \u001b[0mold_old_fval\u001b[0m\u001b[0;34m,\u001b[0m\u001b[0;34m\u001b[0m\u001b[0;34m\u001b[0m\u001b[0m\n\u001b[1;32m   1007\u001b[0m                              **kwargs)\n",
      "\u001b[0;32m~/miniforge3/envs/work1221/lib/python3.9/site-packages/scipy/optimize/linesearch.py\u001b[0m in \u001b[0;36mline_search_wolfe1\u001b[0;34m(f, fprime, xk, pk, gfk, old_fval, old_old_fval, args, c1, c2, amax, amin, xtol)\u001b[0m\n\u001b[1;32m     94\u001b[0m     \u001b[0mderphi0\u001b[0m \u001b[0;34m=\u001b[0m \u001b[0mnp\u001b[0m\u001b[0;34m.\u001b[0m\u001b[0mdot\u001b[0m\u001b[0;34m(\u001b[0m\u001b[0mgfk\u001b[0m\u001b[0;34m,\u001b[0m \u001b[0mpk\u001b[0m\u001b[0;34m)\u001b[0m\u001b[0;34m\u001b[0m\u001b[0;34m\u001b[0m\u001b[0m\n\u001b[1;32m     95\u001b[0m \u001b[0;34m\u001b[0m\u001b[0m\n\u001b[0;32m---> 96\u001b[0;31m     stp, fval, old_fval = scalar_search_wolfe1(\n\u001b[0m\u001b[1;32m     97\u001b[0m             \u001b[0mphi\u001b[0m\u001b[0;34m,\u001b[0m \u001b[0mderphi\u001b[0m\u001b[0;34m,\u001b[0m \u001b[0mold_fval\u001b[0m\u001b[0;34m,\u001b[0m \u001b[0mold_old_fval\u001b[0m\u001b[0;34m,\u001b[0m \u001b[0mderphi0\u001b[0m\u001b[0;34m,\u001b[0m\u001b[0;34m\u001b[0m\u001b[0;34m\u001b[0m\u001b[0m\n\u001b[1;32m     98\u001b[0m             c1=c1, c2=c2, amax=amax, amin=amin, xtol=xtol)\n",
      "\u001b[0;32m~/miniforge3/envs/work1221/lib/python3.9/site-packages/scipy/optimize/linesearch.py\u001b[0m in \u001b[0;36mscalar_search_wolfe1\u001b[0;34m(phi, derphi, phi0, old_phi0, derphi0, c1, c2, amax, amin, xtol)\u001b[0m\n\u001b[1;32m    171\u001b[0m             \u001b[0malpha1\u001b[0m \u001b[0;34m=\u001b[0m \u001b[0mstp\u001b[0m\u001b[0;34m\u001b[0m\u001b[0;34m\u001b[0m\u001b[0m\n\u001b[1;32m    172\u001b[0m             \u001b[0mphi1\u001b[0m \u001b[0;34m=\u001b[0m \u001b[0mphi\u001b[0m\u001b[0;34m(\u001b[0m\u001b[0mstp\u001b[0m\u001b[0;34m)\u001b[0m\u001b[0;34m\u001b[0m\u001b[0;34m\u001b[0m\u001b[0m\n\u001b[0;32m--> 173\u001b[0;31m             \u001b[0mderphi1\u001b[0m \u001b[0;34m=\u001b[0m \u001b[0mderphi\u001b[0m\u001b[0;34m(\u001b[0m\u001b[0mstp\u001b[0m\u001b[0;34m)\u001b[0m\u001b[0;34m\u001b[0m\u001b[0;34m\u001b[0m\u001b[0m\n\u001b[0m\u001b[1;32m    174\u001b[0m         \u001b[0;32melse\u001b[0m\u001b[0;34m:\u001b[0m\u001b[0;34m\u001b[0m\u001b[0;34m\u001b[0m\u001b[0m\n\u001b[1;32m    175\u001b[0m             \u001b[0;32mbreak\u001b[0m\u001b[0;34m\u001b[0m\u001b[0;34m\u001b[0m\u001b[0m\n",
      "\u001b[0;32m~/miniforge3/envs/work1221/lib/python3.9/site-packages/scipy/optimize/linesearch.py\u001b[0m in \u001b[0;36mderphi\u001b[0;34m(s)\u001b[0m\n\u001b[1;32m     85\u001b[0m \u001b[0;34m\u001b[0m\u001b[0m\n\u001b[1;32m     86\u001b[0m     \u001b[0;32mdef\u001b[0m \u001b[0mderphi\u001b[0m\u001b[0;34m(\u001b[0m\u001b[0ms\u001b[0m\u001b[0;34m)\u001b[0m\u001b[0;34m:\u001b[0m\u001b[0;34m\u001b[0m\u001b[0;34m\u001b[0m\u001b[0m\n\u001b[0;32m---> 87\u001b[0;31m         \u001b[0mgval\u001b[0m\u001b[0;34m[\u001b[0m\u001b[0;36m0\u001b[0m\u001b[0;34m]\u001b[0m \u001b[0;34m=\u001b[0m \u001b[0mfprime\u001b[0m\u001b[0;34m(\u001b[0m\u001b[0mxk\u001b[0m \u001b[0;34m+\u001b[0m \u001b[0ms\u001b[0m\u001b[0;34m*\u001b[0m\u001b[0mpk\u001b[0m\u001b[0;34m,\u001b[0m \u001b[0;34m*\u001b[0m\u001b[0mnewargs\u001b[0m\u001b[0;34m)\u001b[0m\u001b[0;34m\u001b[0m\u001b[0;34m\u001b[0m\u001b[0m\n\u001b[0m\u001b[1;32m     88\u001b[0m         \u001b[0;32mif\u001b[0m \u001b[0mgradient\u001b[0m\u001b[0;34m:\u001b[0m\u001b[0;34m\u001b[0m\u001b[0;34m\u001b[0m\u001b[0m\n\u001b[1;32m     89\u001b[0m             \u001b[0mgc\u001b[0m\u001b[0;34m[\u001b[0m\u001b[0;36m0\u001b[0m\u001b[0;34m]\u001b[0m \u001b[0;34m+=\u001b[0m \u001b[0;36m1\u001b[0m\u001b[0;34m\u001b[0m\u001b[0;34m\u001b[0m\u001b[0m\n",
      "\u001b[0;32m~/miniforge3/envs/work1221/lib/python3.9/site-packages/scipy/optimize/_differentiable_functions.py\u001b[0m in \u001b[0;36mgrad\u001b[0;34m(self, x)\u001b[0m\n\u001b[1;32m    253\u001b[0m         \u001b[0;32mif\u001b[0m \u001b[0;32mnot\u001b[0m \u001b[0mnp\u001b[0m\u001b[0;34m.\u001b[0m\u001b[0marray_equal\u001b[0m\u001b[0;34m(\u001b[0m\u001b[0mx\u001b[0m\u001b[0;34m,\u001b[0m \u001b[0mself\u001b[0m\u001b[0;34m.\u001b[0m\u001b[0mx\u001b[0m\u001b[0;34m)\u001b[0m\u001b[0;34m:\u001b[0m\u001b[0;34m\u001b[0m\u001b[0;34m\u001b[0m\u001b[0m\n\u001b[1;32m    254\u001b[0m             \u001b[0mself\u001b[0m\u001b[0;34m.\u001b[0m\u001b[0m_update_x_impl\u001b[0m\u001b[0;34m(\u001b[0m\u001b[0mx\u001b[0m\u001b[0;34m)\u001b[0m\u001b[0;34m\u001b[0m\u001b[0;34m\u001b[0m\u001b[0m\n\u001b[0;32m--> 255\u001b[0;31m         \u001b[0mself\u001b[0m\u001b[0;34m.\u001b[0m\u001b[0m_update_grad\u001b[0m\u001b[0;34m(\u001b[0m\u001b[0;34m)\u001b[0m\u001b[0;34m\u001b[0m\u001b[0;34m\u001b[0m\u001b[0m\n\u001b[0m\u001b[1;32m    256\u001b[0m         \u001b[0;32mreturn\u001b[0m \u001b[0mself\u001b[0m\u001b[0;34m.\u001b[0m\u001b[0mg\u001b[0m\u001b[0;34m\u001b[0m\u001b[0;34m\u001b[0m\u001b[0m\n\u001b[1;32m    257\u001b[0m \u001b[0;34m\u001b[0m\u001b[0m\n",
      "\u001b[0;32m~/miniforge3/envs/work1221/lib/python3.9/site-packages/scipy/optimize/_differentiable_functions.py\u001b[0m in \u001b[0;36m_update_grad\u001b[0;34m(self)\u001b[0m\n\u001b[1;32m    236\u001b[0m     \u001b[0;32mdef\u001b[0m \u001b[0m_update_grad\u001b[0m\u001b[0;34m(\u001b[0m\u001b[0mself\u001b[0m\u001b[0;34m)\u001b[0m\u001b[0;34m:\u001b[0m\u001b[0;34m\u001b[0m\u001b[0;34m\u001b[0m\u001b[0m\n\u001b[1;32m    237\u001b[0m         \u001b[0;32mif\u001b[0m \u001b[0;32mnot\u001b[0m \u001b[0mself\u001b[0m\u001b[0;34m.\u001b[0m\u001b[0mg_updated\u001b[0m\u001b[0;34m:\u001b[0m\u001b[0;34m\u001b[0m\u001b[0;34m\u001b[0m\u001b[0m\n\u001b[0;32m--> 238\u001b[0;31m             \u001b[0mself\u001b[0m\u001b[0;34m.\u001b[0m\u001b[0m_update_grad_impl\u001b[0m\u001b[0;34m(\u001b[0m\u001b[0;34m)\u001b[0m\u001b[0;34m\u001b[0m\u001b[0;34m\u001b[0m\u001b[0m\n\u001b[0m\u001b[1;32m    239\u001b[0m             \u001b[0mself\u001b[0m\u001b[0;34m.\u001b[0m\u001b[0mg_updated\u001b[0m \u001b[0;34m=\u001b[0m \u001b[0;32mTrue\u001b[0m\u001b[0;34m\u001b[0m\u001b[0;34m\u001b[0m\u001b[0m\n\u001b[1;32m    240\u001b[0m \u001b[0;34m\u001b[0m\u001b[0m\n",
      "\u001b[0;32m~/miniforge3/envs/work1221/lib/python3.9/site-packages/scipy/optimize/_differentiable_functions.py\u001b[0m in \u001b[0;36mupdate_grad\u001b[0;34m()\u001b[0m\n\u001b[1;32m    147\u001b[0m \u001b[0;34m\u001b[0m\u001b[0m\n\u001b[1;32m    148\u001b[0m             \u001b[0;32mdef\u001b[0m \u001b[0mupdate_grad\u001b[0m\u001b[0;34m(\u001b[0m\u001b[0;34m)\u001b[0m\u001b[0;34m:\u001b[0m\u001b[0;34m\u001b[0m\u001b[0;34m\u001b[0m\u001b[0m\n\u001b[0;32m--> 149\u001b[0;31m                 \u001b[0mself\u001b[0m\u001b[0;34m.\u001b[0m\u001b[0mg\u001b[0m \u001b[0;34m=\u001b[0m \u001b[0mgrad_wrapped\u001b[0m\u001b[0;34m(\u001b[0m\u001b[0mself\u001b[0m\u001b[0;34m.\u001b[0m\u001b[0mx\u001b[0m\u001b[0;34m)\u001b[0m\u001b[0;34m\u001b[0m\u001b[0;34m\u001b[0m\u001b[0m\n\u001b[0m\u001b[1;32m    150\u001b[0m \u001b[0;34m\u001b[0m\u001b[0m\n\u001b[1;32m    151\u001b[0m         \u001b[0;32melif\u001b[0m \u001b[0mgrad\u001b[0m \u001b[0;32min\u001b[0m \u001b[0mFD_METHODS\u001b[0m\u001b[0;34m:\u001b[0m\u001b[0;34m\u001b[0m\u001b[0;34m\u001b[0m\u001b[0m\n",
      "\u001b[0;32m~/miniforge3/envs/work1221/lib/python3.9/site-packages/scipy/optimize/_differentiable_functions.py\u001b[0m in \u001b[0;36mgrad_wrapped\u001b[0;34m(x)\u001b[0m\n\u001b[1;32m    144\u001b[0m             \u001b[0;32mdef\u001b[0m \u001b[0mgrad_wrapped\u001b[0m\u001b[0;34m(\u001b[0m\u001b[0mx\u001b[0m\u001b[0;34m)\u001b[0m\u001b[0;34m:\u001b[0m\u001b[0;34m\u001b[0m\u001b[0;34m\u001b[0m\u001b[0m\n\u001b[1;32m    145\u001b[0m                 \u001b[0mself\u001b[0m\u001b[0;34m.\u001b[0m\u001b[0mngev\u001b[0m \u001b[0;34m+=\u001b[0m \u001b[0;36m1\u001b[0m\u001b[0;34m\u001b[0m\u001b[0;34m\u001b[0m\u001b[0m\n\u001b[0;32m--> 146\u001b[0;31m                 \u001b[0;32mreturn\u001b[0m \u001b[0mnp\u001b[0m\u001b[0;34m.\u001b[0m\u001b[0matleast_1d\u001b[0m\u001b[0;34m(\u001b[0m\u001b[0mgrad\u001b[0m\u001b[0;34m(\u001b[0m\u001b[0mnp\u001b[0m\u001b[0;34m.\u001b[0m\u001b[0mcopy\u001b[0m\u001b[0;34m(\u001b[0m\u001b[0mx\u001b[0m\u001b[0;34m)\u001b[0m\u001b[0;34m,\u001b[0m \u001b[0;34m*\u001b[0m\u001b[0margs\u001b[0m\u001b[0;34m)\u001b[0m\u001b[0;34m)\u001b[0m\u001b[0;34m\u001b[0m\u001b[0;34m\u001b[0m\u001b[0m\n\u001b[0m\u001b[1;32m    147\u001b[0m \u001b[0;34m\u001b[0m\u001b[0m\n\u001b[1;32m    148\u001b[0m             \u001b[0;32mdef\u001b[0m \u001b[0mupdate_grad\u001b[0m\u001b[0;34m(\u001b[0m\u001b[0;34m)\u001b[0m\u001b[0;34m:\u001b[0m\u001b[0;34m\u001b[0m\u001b[0;34m\u001b[0m\u001b[0m\n",
      "\u001b[0;32m/var/folders/pz/wy3lg_ps0fg986p2nzxcqlf00000gp/T/ipykernel_11358/1061333487.py\u001b[0m in \u001b[0;36mjustgrad\u001b[0;34m(x)\u001b[0m\n\u001b[1;32m     66\u001b[0m     \u001b[0;32mfor\u001b[0m \u001b[0mii\u001b[0m \u001b[0;32min\u001b[0m \u001b[0mrange\u001b[0m\u001b[0;34m(\u001b[0m\u001b[0mm\u001b[0m\u001b[0;34m)\u001b[0m\u001b[0;34m:\u001b[0m\u001b[0;34m\u001b[0m\u001b[0;34m\u001b[0m\u001b[0m\n\u001b[1;32m     67\u001b[0m         \u001b[0;32mfor\u001b[0m \u001b[0mjj\u001b[0m \u001b[0;32min\u001b[0m \u001b[0mrange\u001b[0m\u001b[0;34m(\u001b[0m\u001b[0mm\u001b[0m\u001b[0;34m)\u001b[0m\u001b[0;34m:\u001b[0m\u001b[0;34m\u001b[0m\u001b[0;34m\u001b[0m\u001b[0m\n\u001b[0;32m---> 68\u001b[0;31m             \u001b[0;32mif\u001b[0m \u001b[0mnp\u001b[0m\u001b[0;34m.\u001b[0m\u001b[0misclose\u001b[0m\u001b[0;34m(\u001b[0m\u001b[0mhatspec\u001b[0m\u001b[0;34m[\u001b[0m\u001b[0mii\u001b[0m\u001b[0;34m]\u001b[0m\u001b[0;34m,\u001b[0m\u001b[0mhatspec\u001b[0m\u001b[0;34m[\u001b[0m\u001b[0mjj\u001b[0m\u001b[0;34m]\u001b[0m\u001b[0;34m)\u001b[0m\u001b[0;34m:\u001b[0m\u001b[0;34m\u001b[0m\u001b[0;34m\u001b[0m\u001b[0m\n\u001b[0m\u001b[1;32m     69\u001b[0m                 \u001b[0mmask\u001b[0m\u001b[0;34m[\u001b[0m\u001b[0mii\u001b[0m\u001b[0;34m,\u001b[0m\u001b[0mii\u001b[0m\u001b[0;34m]\u001b[0m \u001b[0;34m=\u001b[0m \u001b[0mexpspec\u001b[0m\u001b[0;34m[\u001b[0m\u001b[0mii\u001b[0m\u001b[0;34m]\u001b[0m\u001b[0;34m\u001b[0m\u001b[0;34m\u001b[0m\u001b[0m\n\u001b[1;32m     70\u001b[0m             \u001b[0;32melse\u001b[0m\u001b[0;34m:\u001b[0m\u001b[0;34m\u001b[0m\u001b[0;34m\u001b[0m\u001b[0m\n",
      "\u001b[0;32m<__array_function__ internals>\u001b[0m in \u001b[0;36misclose\u001b[0;34m(*args, **kwargs)\u001b[0m\n",
      "\u001b[0;32m~/miniforge3/envs/work1221/lib/python3.9/site-packages/numpy/core/numeric.py\u001b[0m in \u001b[0;36misclose\u001b[0;34m(a, b, rtol, atol, equal_nan)\u001b[0m\n\u001b[1;32m   2362\u001b[0m     \u001b[0mxfin\u001b[0m \u001b[0;34m=\u001b[0m \u001b[0misfinite\u001b[0m\u001b[0;34m(\u001b[0m\u001b[0mx\u001b[0m\u001b[0;34m)\u001b[0m\u001b[0;34m\u001b[0m\u001b[0;34m\u001b[0m\u001b[0m\n\u001b[1;32m   2363\u001b[0m     \u001b[0myfin\u001b[0m \u001b[0;34m=\u001b[0m \u001b[0misfinite\u001b[0m\u001b[0;34m(\u001b[0m\u001b[0my\u001b[0m\u001b[0;34m)\u001b[0m\u001b[0;34m\u001b[0m\u001b[0;34m\u001b[0m\u001b[0m\n\u001b[0;32m-> 2364\u001b[0;31m     \u001b[0;32mif\u001b[0m \u001b[0mall\u001b[0m\u001b[0;34m(\u001b[0m\u001b[0mxfin\u001b[0m\u001b[0;34m)\u001b[0m \u001b[0;32mand\u001b[0m \u001b[0mall\u001b[0m\u001b[0;34m(\u001b[0m\u001b[0myfin\u001b[0m\u001b[0;34m)\u001b[0m\u001b[0;34m:\u001b[0m\u001b[0;34m\u001b[0m\u001b[0;34m\u001b[0m\u001b[0m\n\u001b[0m\u001b[1;32m   2365\u001b[0m         \u001b[0;32mreturn\u001b[0m \u001b[0mwithin_tol\u001b[0m\u001b[0;34m(\u001b[0m\u001b[0mx\u001b[0m\u001b[0;34m,\u001b[0m \u001b[0my\u001b[0m\u001b[0;34m,\u001b[0m \u001b[0matol\u001b[0m\u001b[0;34m,\u001b[0m \u001b[0mrtol\u001b[0m\u001b[0;34m)\u001b[0m\u001b[0;34m\u001b[0m\u001b[0;34m\u001b[0m\u001b[0m\n\u001b[1;32m   2366\u001b[0m     \u001b[0;32melse\u001b[0m\u001b[0;34m:\u001b[0m\u001b[0;34m\u001b[0m\u001b[0;34m\u001b[0m\u001b[0m\n",
      "\u001b[0;32m<__array_function__ internals>\u001b[0m in \u001b[0;36mall\u001b[0;34m(*args, **kwargs)\u001b[0m\n",
      "\u001b[0;32m~/miniforge3/envs/work1221/lib/python3.9/site-packages/numpy/core/fromnumeric.py\u001b[0m in \u001b[0;36mall\u001b[0;34m(a, axis, out, keepdims, where)\u001b[0m\n\u001b[1;32m   2436\u001b[0m \u001b[0;34m\u001b[0m\u001b[0m\n\u001b[1;32m   2437\u001b[0m     \"\"\"\n\u001b[0;32m-> 2438\u001b[0;31m     return _wrapreduction(a, np.logical_and, 'all', axis, None, out,\n\u001b[0m\u001b[1;32m   2439\u001b[0m                           keepdims=keepdims, where=where)\n\u001b[1;32m   2440\u001b[0m \u001b[0;34m\u001b[0m\u001b[0m\n",
      "\u001b[0;32m~/miniforge3/envs/work1221/lib/python3.9/site-packages/numpy/core/fromnumeric.py\u001b[0m in \u001b[0;36m_wrapreduction\u001b[0;34m(obj, ufunc, method, axis, dtype, out, **kwargs)\u001b[0m\n\u001b[1;32m     83\u001b[0m                 \u001b[0;32mreturn\u001b[0m \u001b[0mreduction\u001b[0m\u001b[0;34m(\u001b[0m\u001b[0maxis\u001b[0m\u001b[0;34m=\u001b[0m\u001b[0maxis\u001b[0m\u001b[0;34m,\u001b[0m \u001b[0mdtype\u001b[0m\u001b[0;34m=\u001b[0m\u001b[0mdtype\u001b[0m\u001b[0;34m,\u001b[0m \u001b[0mout\u001b[0m\u001b[0;34m=\u001b[0m\u001b[0mout\u001b[0m\u001b[0;34m,\u001b[0m \u001b[0;34m**\u001b[0m\u001b[0mpasskwargs\u001b[0m\u001b[0;34m)\u001b[0m\u001b[0;34m\u001b[0m\u001b[0;34m\u001b[0m\u001b[0m\n\u001b[1;32m     84\u001b[0m             \u001b[0;32melse\u001b[0m\u001b[0;34m:\u001b[0m\u001b[0;34m\u001b[0m\u001b[0;34m\u001b[0m\u001b[0m\n\u001b[0;32m---> 85\u001b[0;31m                 \u001b[0;32mreturn\u001b[0m \u001b[0mreduction\u001b[0m\u001b[0;34m(\u001b[0m\u001b[0maxis\u001b[0m\u001b[0;34m=\u001b[0m\u001b[0maxis\u001b[0m\u001b[0;34m,\u001b[0m \u001b[0mout\u001b[0m\u001b[0;34m=\u001b[0m\u001b[0mout\u001b[0m\u001b[0;34m,\u001b[0m \u001b[0;34m**\u001b[0m\u001b[0mpasskwargs\u001b[0m\u001b[0;34m)\u001b[0m\u001b[0;34m\u001b[0m\u001b[0;34m\u001b[0m\u001b[0m\n\u001b[0m\u001b[1;32m     86\u001b[0m \u001b[0;34m\u001b[0m\u001b[0m\n\u001b[1;32m     87\u001b[0m     \u001b[0;32mreturn\u001b[0m \u001b[0mufunc\u001b[0m\u001b[0;34m.\u001b[0m\u001b[0mreduce\u001b[0m\u001b[0;34m(\u001b[0m\u001b[0mobj\u001b[0m\u001b[0;34m,\u001b[0m \u001b[0maxis\u001b[0m\u001b[0;34m,\u001b[0m \u001b[0mdtype\u001b[0m\u001b[0;34m,\u001b[0m \u001b[0mout\u001b[0m\u001b[0;34m,\u001b[0m \u001b[0;34m**\u001b[0m\u001b[0mpasskwargs\u001b[0m\u001b[0;34m)\u001b[0m\u001b[0;34m\u001b[0m\u001b[0;34m\u001b[0m\u001b[0m\n",
      "\u001b[0;32m~/miniforge3/envs/work1221/lib/python3.9/site-packages/numpy/core/_methods.py\u001b[0m in \u001b[0;36m_all\u001b[0;34m(a, axis, dtype, out, keepdims, where)\u001b[0m\n\u001b[1;32m     57\u001b[0m     \u001b[0;32mreturn\u001b[0m \u001b[0mumr_any\u001b[0m\u001b[0;34m(\u001b[0m\u001b[0ma\u001b[0m\u001b[0;34m,\u001b[0m \u001b[0maxis\u001b[0m\u001b[0;34m,\u001b[0m \u001b[0mdtype\u001b[0m\u001b[0;34m,\u001b[0m \u001b[0mout\u001b[0m\u001b[0;34m,\u001b[0m \u001b[0mkeepdims\u001b[0m\u001b[0;34m,\u001b[0m \u001b[0mwhere\u001b[0m\u001b[0;34m=\u001b[0m\u001b[0mwhere\u001b[0m\u001b[0;34m)\u001b[0m\u001b[0;34m\u001b[0m\u001b[0;34m\u001b[0m\u001b[0m\n\u001b[1;32m     58\u001b[0m \u001b[0;34m\u001b[0m\u001b[0m\n\u001b[0;32m---> 59\u001b[0;31m \u001b[0;32mdef\u001b[0m \u001b[0m_all\u001b[0m\u001b[0;34m(\u001b[0m\u001b[0ma\u001b[0m\u001b[0;34m,\u001b[0m \u001b[0maxis\u001b[0m\u001b[0;34m=\u001b[0m\u001b[0;32mNone\u001b[0m\u001b[0;34m,\u001b[0m \u001b[0mdtype\u001b[0m\u001b[0;34m=\u001b[0m\u001b[0;32mNone\u001b[0m\u001b[0;34m,\u001b[0m \u001b[0mout\u001b[0m\u001b[0;34m=\u001b[0m\u001b[0;32mNone\u001b[0m\u001b[0;34m,\u001b[0m \u001b[0mkeepdims\u001b[0m\u001b[0;34m=\u001b[0m\u001b[0;32mFalse\u001b[0m\u001b[0;34m,\u001b[0m \u001b[0;34m*\u001b[0m\u001b[0;34m,\u001b[0m \u001b[0mwhere\u001b[0m\u001b[0;34m=\u001b[0m\u001b[0;32mTrue\u001b[0m\u001b[0;34m)\u001b[0m\u001b[0;34m:\u001b[0m\u001b[0;34m\u001b[0m\u001b[0;34m\u001b[0m\u001b[0m\n\u001b[0m\u001b[1;32m     60\u001b[0m     \u001b[0;31m# Parsing keyword arguments is currently fairly slow, so avoid it for now\u001b[0m\u001b[0;34m\u001b[0m\u001b[0;34m\u001b[0m\u001b[0m\n\u001b[1;32m     61\u001b[0m     \u001b[0;32mif\u001b[0m \u001b[0mwhere\u001b[0m \u001b[0;32mis\u001b[0m \u001b[0;32mTrue\u001b[0m\u001b[0;34m:\u001b[0m\u001b[0;34m\u001b[0m\u001b[0;34m\u001b[0m\u001b[0m\n",
      "\u001b[0;31mKeyboardInterrupt\u001b[0m: "
     ]
    }
   ],
   "source": [
    "# start from uniform random initial condition (uniform on [-0.5, 0.5])\n",
    "# should be difficult for optimizer to find a good minimum starting from here,\n",
    "# so this is a great test case to prove the method works well\n",
    "thetahatR = np.random.uniform(size=2*nmax+1) - 0.5\n",
    "thetahatI = np.random.uniform(size=2*nmax) - 0.5\n",
    "x0 = np.concatenate([thetahatR, thetahatI])\n",
    "res = scipy.optimize.minimize(justlag, x0, method='bfgs', jac=justgrad, options={'disp': 99})"
   ]
  },
  {
   "cell_type": "code",
   "execution_count": null,
   "metadata": {},
   "outputs": [],
   "source": [
    "# plot the estimated potential\n",
    "# so far, this does not look so great\n",
    "\n",
    "mm = 2*nmax+1\n",
    "thetahat = np.zeros(mm, dtype=np.complex128)\n",
    "thetahat += res.x[:mm]\n",
    "thetahat[1:] += 1j*res.x[mm:]\n",
    "nvec2 = np.arange(-2*nmax,2*nmax+1)\n",
    "convmat2 = np.exp(1j*np.pi*np.outer(nvec2, xvec)/a)\n",
    "fullthetahat = np.concatenate([np.flipud(thetahat[1:].conj()), thetahat])\n",
    "vx = fullthetahat @ convmat2\n",
    "\n",
    "# real part\n",
    "# red = learned potential\n",
    "# black = true potential\n",
    "plt.plot(xvec, np.real(vx), color='red')\n",
    "plt.plot(xvec, np.real(v(xvec)), color='black')\n",
    "plt.xlabel('x')\n",
    "plt.ylabel('Re(v(x))')\n",
    "plt.show()"
   ]
  },
  {
   "cell_type": "code",
   "execution_count": null,
   "metadata": {},
   "outputs": [],
   "source": []
  }
 ],
 "metadata": {
  "kernelspec": {
   "display_name": "Python 3 (ipykernel)",
   "language": "python",
   "name": "python3"
  },
  "language_info": {
   "codemirror_mode": {
    "name": "ipython",
    "version": 3
   },
   "file_extension": ".py",
   "mimetype": "text/x-python",
   "name": "python",
   "nbconvert_exporter": "python",
   "pygments_lexer": "ipython3",
   "version": "3.9.9"
  }
 },
 "nbformat": 4,
 "nbformat_minor": 4
}
