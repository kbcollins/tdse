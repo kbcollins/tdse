{
 "cells": [
  {
   "cell_type": "code",
   "execution_count": 1,
   "id": "0b809e0e",
   "metadata": {},
   "outputs": [],
   "source": [
    "import numpy as np\n",
    "import matplotlib\n",
    "%matplotlib inline\n",
    "import matplotlib.pyplot as plt\n",
    "\n",
    "import scipy.linalg as sl\n",
    "import scipy.integrate as si"
   ]
  },
  {
   "cell_type": "code",
   "execution_count": 2,
   "id": "7c9c85e9",
   "metadata": {},
   "outputs": [],
   "source": [
    "# produce spatial grid vector that uses 2J+1 points to cover interval [-L, L]\n",
    "def xi(J, L):\n",
    "    h = L/J\n",
    "    xivec = np.arange(-J, J+1)*h\n",
    "    return xivec"
   ]
  },
  {
   "cell_type": "code",
   "execution_count": 3,
   "id": "86c43ad6",
   "metadata": {},
   "outputs": [],
   "source": [
    "# function we'd like to approximate\n",
    "def f(x):\n",
    "    return (x**2 - 36.0)**2 / 10000.0"
   ]
  },
  {
   "cell_type": "code",
   "execution_count": 4,
   "id": "cebad534",
   "metadata": {},
   "outputs": [],
   "source": [
    "# Gaussian centered at grid point j*h with shape parameter alpha\n",
    "# x can be a vector\n",
    "def phiv(x, j, h, alpha):\n",
    "    return np.exp(-alpha * (x - j*h)**2)\n",
    "\n",
    "# matricized version\n",
    "def phim(x, alpha):\n",
    "    return np.exp(-alpha * x**2)"
   ]
  },
  {
   "cell_type": "code",
   "execution_count": 5,
   "id": "de9c8dbc",
   "metadata": {},
   "outputs": [],
   "source": [
    "# compute L2 error when we use 2J+1 points to approximate f(x)\n",
    "def error(J, L, alpha):\n",
    "    h = L/J;\n",
    "    xivec = xi(J, L)\n",
    "    \n",
    "    # form Gaussian approximation matrix\n",
    "    \n",
    "    # OLD WAY\n",
    "    # gmat = np.zeros((2*J+1, 2*J+1))\n",
    "    # for j in range(-J, J+1):\n",
    "    #     gmat[j + J, :] = phiv(xivec, j, h, alpha)\n",
    "    \n",
    "    # NEW WAY\n",
    "    xi1, xi2 = np.meshgrid(xivec, xivec)\n",
    "    gmat = phim(xi1 - xi2, alpha)\n",
    "    \n",
    "    # form function vector\n",
    "    fvec = f(xivec)\n",
    "    \n",
    "    # solve for coefficients\n",
    "    beta = sl.solve(gmat, fvec, assume_a='sym')\n",
    "    \n",
    "    # now compute L2 error using quadrature\n",
    "    # define integrand function\n",
    "    def integrand(x):\n",
    "        xm, xim = np.meshgrid(xivec, x)\n",
    "        thisg = phim(xm - xim, alpha)\n",
    "        return np.square(thisg @ beta - f(x))\n",
    "    \n",
    "    l2errsq, _ = si.quadrature(integrand, -L, L, maxiter=500, tol=1e-12, rtol=1e-12)\n",
    "    return np.sqrt(l2errsq)\n",
    "    "
   ]
  },
  {
   "cell_type": "code",
   "execution_count": 6,
   "id": "f4105d27",
   "metadata": {},
   "outputs": [
    {
     "name": "stderr",
     "output_type": "stream",
     "text": [
      "<ipython-input-5-cd3791d9befb>:21: LinAlgWarning: Ill-conditioned matrix (rcond=6.5401e-17): result may not be accurate.\n",
      "  beta = sl.solve(gmat, fvec, assume_a='sym')\n",
      "<ipython-input-5-cd3791d9befb>:21: LinAlgWarning: Ill-conditioned matrix (rcond=1.04629e-17): result may not be accurate.\n",
      "  beta = sl.solve(gmat, fvec, assume_a='sym')\n",
      "<ipython-input-5-cd3791d9befb>:21: LinAlgWarning: Ill-conditioned matrix (rcond=1.16705e-19): result may not be accurate.\n",
      "  beta = sl.solve(gmat, fvec, assume_a='sym')\n",
      "<ipython-input-5-cd3791d9befb>:21: LinAlgWarning: Ill-conditioned matrix (rcond=2.06279e-18): result may not be accurate.\n",
      "  beta = sl.solve(gmat, fvec, assume_a='sym')\n",
      "<ipython-input-5-cd3791d9befb>:21: LinAlgWarning: Ill-conditioned matrix (rcond=9.00483e-19): result may not be accurate.\n",
      "  beta = sl.solve(gmat, fvec, assume_a='sym')\n",
      "<ipython-input-5-cd3791d9befb>:21: LinAlgWarning: Ill-conditioned matrix (rcond=6.77845e-18): result may not be accurate.\n",
      "  beta = sl.solve(gmat, fvec, assume_a='sym')\n",
      "<ipython-input-5-cd3791d9befb>:21: LinAlgWarning: Ill-conditioned matrix (rcond=4.06154e-18): result may not be accurate.\n",
      "  beta = sl.solve(gmat, fvec, assume_a='sym')\n",
      "<ipython-input-5-cd3791d9befb>:21: LinAlgWarning: Ill-conditioned matrix (rcond=9.92016e-19): result may not be accurate.\n",
      "  beta = sl.solve(gmat, fvec, assume_a='sym')\n",
      "<ipython-input-5-cd3791d9befb>:21: LinAlgWarning: Ill-conditioned matrix (rcond=8.12994e-19): result may not be accurate.\n",
      "  beta = sl.solve(gmat, fvec, assume_a='sym')\n",
      "<ipython-input-5-cd3791d9befb>:21: LinAlgWarning: Ill-conditioned matrix (rcond=1.68765e-18): result may not be accurate.\n",
      "  beta = sl.solve(gmat, fvec, assume_a='sym')\n",
      "<ipython-input-5-cd3791d9befb>:21: LinAlgWarning: Ill-conditioned matrix (rcond=8.80402e-20): result may not be accurate.\n",
      "  beta = sl.solve(gmat, fvec, assume_a='sym')\n",
      "<ipython-input-5-cd3791d9befb>:21: LinAlgWarning: Ill-conditioned matrix (rcond=2.30347e-19): result may not be accurate.\n",
      "  beta = sl.solve(gmat, fvec, assume_a='sym')\n",
      "<ipython-input-5-cd3791d9befb>:21: LinAlgWarning: Ill-conditioned matrix (rcond=1.16409e-19): result may not be accurate.\n",
      "  beta = sl.solve(gmat, fvec, assume_a='sym')\n",
      "<ipython-input-5-cd3791d9befb>:21: LinAlgWarning: Ill-conditioned matrix (rcond=1.55664e-19): result may not be accurate.\n",
      "  beta = sl.solve(gmat, fvec, assume_a='sym')\n",
      "<ipython-input-5-cd3791d9befb>:21: LinAlgWarning: Ill-conditioned matrix (rcond=1.26537e-19): result may not be accurate.\n",
      "  beta = sl.solve(gmat, fvec, assume_a='sym')\n",
      "<ipython-input-5-cd3791d9befb>:21: LinAlgWarning: Ill-conditioned matrix (rcond=5.7991e-19): result may not be accurate.\n",
      "  beta = sl.solve(gmat, fvec, assume_a='sym')\n",
      "<ipython-input-5-cd3791d9befb>:21: LinAlgWarning: Ill-conditioned matrix (rcond=1.8866e-19): result may not be accurate.\n",
      "  beta = sl.solve(gmat, fvec, assume_a='sym')\n",
      "<ipython-input-5-cd3791d9befb>:21: LinAlgWarning: Ill-conditioned matrix (rcond=5.97706e-20): result may not be accurate.\n",
      "  beta = sl.solve(gmat, fvec, assume_a='sym')\n",
      "<ipython-input-5-cd3791d9befb>:21: LinAlgWarning: Ill-conditioned matrix (rcond=2.98848e-19): result may not be accurate.\n",
      "  beta = sl.solve(gmat, fvec, assume_a='sym')\n",
      "<ipython-input-5-cd3791d9befb>:21: LinAlgWarning: Ill-conditioned matrix (rcond=5.73052e-20): result may not be accurate.\n",
      "  beta = sl.solve(gmat, fvec, assume_a='sym')\n",
      "<ipython-input-5-cd3791d9befb>:21: LinAlgWarning: Ill-conditioned matrix (rcond=1.44102e-19): result may not be accurate.\n",
      "  beta = sl.solve(gmat, fvec, assume_a='sym')\n"
     ]
    }
   ],
   "source": [
    "jspace = np.arange(5, 80)\n",
    "lsj = jspace.shape[0]\n",
    "errvec = np.zeros(lsj)\n",
    "hvec = np.zeros(lsj)\n",
    "bigL = 15.0\n",
    "for i in range(lsj):\n",
    "    errvec[i] = error(jspace[i], bigL, 1.0)\n",
    "    hvec[i] = bigL/jspace[i]\n",
    "    "
   ]
  },
  {
   "cell_type": "code",
   "execution_count": 7,
   "id": "cc5ded7b",
   "metadata": {},
   "outputs": [
    {
     "data": {
      "text/plain": [
       "[<matplotlib.lines.Line2D at 0x138200430>]"
      ]
     },
     "execution_count": 7,
     "metadata": {},
     "output_type": "execute_result"
    },
    {
     "data": {
      "image/png": "[encoded data removed]",
      "text/plain": [
       "<Figure size 432x288 with 1 Axes>"
      ]
     },
     "metadata": {
      "needs_background": "light"
     },
     "output_type": "display_data"
    }
   ],
   "source": [
    "plt.loglog(hvec, errvec)"
   ]
  },
  {
   "cell_type": "code",
   "execution_count": null,
   "id": "3b0e90a0",
   "metadata": {},
   "outputs": [],
   "source": []
  }
 ],
 "metadata": {
  "kernelspec": {
   "display_name": "Python 3",
   "language": "python",
   "name": "python3"
  },
  "language_info": {
   "codemirror_mode": {
    "name": "ipython",
    "version": 3
   },
   "file_extension": ".py",
   "mimetype": "text/x-python",
   "name": "python",
   "nbconvert_exporter": "python",
   "pygments_lexer": "ipython3",
   "version": "3.9.5"
  }
 },
 "nbformat": 4,
 "nbformat_minor": 5
}
