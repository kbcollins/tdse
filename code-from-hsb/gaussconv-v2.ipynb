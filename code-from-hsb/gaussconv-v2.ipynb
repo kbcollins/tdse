{
 "cells": [
  {
   "cell_type": "code",
   "execution_count": 1,
   "id": "df824445",
   "metadata": {},
   "outputs": [],
   "source": [
    "import numpy as np\n",
    "import matplotlib\n",
    "%matplotlib inline\n",
    "import matplotlib.pyplot as plt\n",
    "import scipy.linalg as sl\n",
    "import scipy.integrate as si"
   ]
  },
  {
   "cell_type": "code",
   "execution_count": 2,
   "id": "65647809",
   "metadata": {},
   "outputs": [],
   "source": [
    "# produce spatial grid vector that uses 2J+1 points to cover interval [-L, L]\n",
    "def xi(J, L):\n",
    "    h = L/J\n",
    "    xivec = np.arange(-J, J+1)*h\n",
    "    return xivec"
   ]
  },
  {
   "cell_type": "code",
   "execution_count": 3,
   "id": "2a6d985d",
   "metadata": {},
   "outputs": [],
   "source": [
    "# function we'd like to approximate\n",
    "def f(x):\n",
    "    return np.cos(x**2) - x*np.sin(x)\n",
    "    # return (x**2 - 36.0)**2 / 10000.0\n"
   ]
  },
  {
   "cell_type": "code",
   "execution_count": 4,
   "id": "a27c8330",
   "metadata": {},
   "outputs": [],
   "source": [
    "# Gaussian centered at grid point j*h with shape parameter alpha\n",
    "# x can be a vector\n",
    "def phiv(x, j, h, alpha):\n",
    "    return np.exp(-alpha * (x - j*h)**2)\n",
    "\n",
    "# matricized version\n",
    "def phim(x, alpha):\n",
    "    return np.exp(-alpha * x**2)"
   ]
  },
  {
   "cell_type": "code",
   "execution_count": 5,
   "id": "018dbcb3",
   "metadata": {},
   "outputs": [],
   "source": [
    "# compute L2 error when we use 2J+1 points to approximate f(x)\n",
    "def error(J, L, alpha):\n",
    "    # h = L/J\n",
    "    xivec = xi(J, L)\n",
    "    \n",
    "    # form Gaussian approximation matrix\n",
    "    \n",
    "    # OLD WAY\n",
    "    # gmat = np.zeros((2*J+1, 2*J+1))\n",
    "    # for j in range(-J, J+1):\n",
    "    #     gmat[j + J, :] = phiv(xivec, j, h, alpha)\n",
    "    \n",
    "    # NEW WAY\n",
    "    xi1, xi2 = np.meshgrid(xivec, xivec)\n",
    "    gmat = phim(xi1 - xi2, alpha)\n",
    "    \n",
    "    # form function vector\n",
    "    fvec = f(xivec)\n",
    "    \n",
    "    # solve for coefficients\n",
    "    beta = sl.solve(gmat, fvec, assume_a='sym')\n",
    "    \n",
    "    # now compute L2 error using quadrature\n",
    "    # define integrand function\n",
    "    def integrand(x):\n",
    "        xm, xim = np.meshgrid(xivec, x)\n",
    "        thisg = phim(xm - xim, alpha)\n",
    "        return np.square(thisg @ beta - f(x))\n",
    "    \n",
    "    l2errsq, _ = si.quadrature(integrand, -L, L, maxiter=500, tol=1e-8, rtol=1e-8)\n",
    "    return np.sqrt(l2errsq)\n",
    "    "
   ]
  },
  {
   "cell_type": "code",
   "execution_count": 6,
   "id": "381b8adc",
   "metadata": {},
   "outputs": [],
   "source": [
    "# compute L2 error when we use 2J+1 points to approximate f(x)\n",
    "def fitgauss(J, L, alpha):\n",
    "    # h = L/J\n",
    "    xivec = xi(J, L)\n",
    "    \n",
    "    # form Gaussian approximation matrix\n",
    "    \n",
    "    # OLD WAY\n",
    "    # gmat = np.zeros((2*J+1, 2*J+1))\n",
    "    # for j in range(-J, J+1):\n",
    "    #     gmat[j + J, :] = phiv(xivec, j, h, alpha)\n",
    "    \n",
    "    # NEW WAY\n",
    "    xi1, xi2 = np.meshgrid(xivec, xivec)\n",
    "    gmat = phim(xi1 - xi2, alpha)\n",
    "    \n",
    "    # form function vector\n",
    "    fvec = f(xivec)\n",
    "    \n",
    "    # solve for coefficients\n",
    "    beta = sl.solve(gmat, fvec, assume_a='sym')\n",
    "    \n",
    "    return beta\n",
    "\n",
    "def evalgauss(x, beta, J, L, alpha):\n",
    "    xivec = xi(J, L)\n",
    "    xm, xim = np.meshgrid(xivec, x)\n",
    "    thisg = phim(xm - xim, alpha)\n",
    "    return thisg @ beta"
   ]
  },
  {
   "cell_type": "code",
   "execution_count": 7,
   "id": "035d5de1",
   "metadata": {},
   "outputs": [
    {
     "name": "stderr",
     "output_type": "stream",
     "text": [
      "<ipython-input-6-d115dbed5c09>:21: LinAlgWarning: Ill-conditioned matrix (rcond=3.01141e-20): result may not be accurate.\n",
      "  beta = sl.solve(gmat, fvec, assume_a='sym')\n"
     ]
    },
    {
     "data": {
      "image/png": "[encoded data removed]",
      "text/plain": [
       "<Figure size 432x288 with 1 Axes>"
      ]
     },
     "metadata": {
      "needs_background": "light"
     },
     "output_type": "display_data"
    }
   ],
   "source": [
    "bigJ = 100\n",
    "bigL = 2*np.pi\n",
    "xiv = xi(bigJ, bigL)\n",
    "myalpha = 3.0\n",
    "mybeta = fitgauss(bigJ, bigL, myalpha)\n",
    "fapprox = evalgauss(xiv, mybeta, bigJ, bigL, myalpha)\n",
    "plt.plot(xiv, f(xiv), color='black')\n",
    "plt.plot(xiv, fapprox, color='red')\n",
    "plt.show()"
   ]
  },
  {
   "cell_type": "code",
   "execution_count": 8,
   "id": "71147335",
   "metadata": {},
   "outputs": [
    {
     "name": "stderr",
     "output_type": "stream",
     "text": [
      "<ipython-input-5-6a0b1052ad0b>:21: LinAlgWarning: Ill-conditioned matrix (rcond=5.14901e-17): result may not be accurate.\n",
      "  beta = sl.solve(gmat, fvec, assume_a='sym')\n",
      "<ipython-input-5-6a0b1052ad0b>:21: LinAlgWarning: Ill-conditioned matrix (rcond=2.29209e-17): result may not be accurate.\n",
      "  beta = sl.solve(gmat, fvec, assume_a='sym')\n",
      "<ipython-input-5-6a0b1052ad0b>:21: LinAlgWarning: Ill-conditioned matrix (rcond=3.44942e-18): result may not be accurate.\n",
      "  beta = sl.solve(gmat, fvec, assume_a='sym')\n",
      "<ipython-input-5-6a0b1052ad0b>:21: LinAlgWarning: Ill-conditioned matrix (rcond=1.72763e-18): result may not be accurate.\n",
      "  beta = sl.solve(gmat, fvec, assume_a='sym')\n",
      "<ipython-input-5-6a0b1052ad0b>:21: LinAlgWarning: Ill-conditioned matrix (rcond=2.31759e-19): result may not be accurate.\n",
      "  beta = sl.solve(gmat, fvec, assume_a='sym')\n",
      "<ipython-input-5-6a0b1052ad0b>:21: LinAlgWarning: Ill-conditioned matrix (rcond=3.29516e-19): result may not be accurate.\n",
      "  beta = sl.solve(gmat, fvec, assume_a='sym')\n",
      "<ipython-input-5-6a0b1052ad0b>:21: LinAlgWarning: Ill-conditioned matrix (rcond=2.97003e-18): result may not be accurate.\n",
      "  beta = sl.solve(gmat, fvec, assume_a='sym')\n",
      "<ipython-input-5-6a0b1052ad0b>:21: LinAlgWarning: Ill-conditioned matrix (rcond=9.60265e-19): result may not be accurate.\n",
      "  beta = sl.solve(gmat, fvec, assume_a='sym')\n",
      "<ipython-input-5-6a0b1052ad0b>:21: LinAlgWarning: Ill-conditioned matrix (rcond=5.99869e-19): result may not be accurate.\n",
      "  beta = sl.solve(gmat, fvec, assume_a='sym')\n",
      "<ipython-input-5-6a0b1052ad0b>:21: LinAlgWarning: Ill-conditioned matrix (rcond=2.3994e-19): result may not be accurate.\n",
      "  beta = sl.solve(gmat, fvec, assume_a='sym')\n",
      "<ipython-input-5-6a0b1052ad0b>:21: LinAlgWarning: Ill-conditioned matrix (rcond=2.18496e-19): result may not be accurate.\n",
      "  beta = sl.solve(gmat, fvec, assume_a='sym')\n",
      "<ipython-input-5-6a0b1052ad0b>:21: LinAlgWarning: Ill-conditioned matrix (rcond=2.09008e-18): result may not be accurate.\n",
      "  beta = sl.solve(gmat, fvec, assume_a='sym')\n",
      "<ipython-input-5-6a0b1052ad0b>:21: LinAlgWarning: Ill-conditioned matrix (rcond=4.93415e-19): result may not be accurate.\n",
      "  beta = sl.solve(gmat, fvec, assume_a='sym')\n",
      "<ipython-input-5-6a0b1052ad0b>:21: LinAlgWarning: Ill-conditioned matrix (rcond=1.01593e-18): result may not be accurate.\n",
      "  beta = sl.solve(gmat, fvec, assume_a='sym')\n",
      "<ipython-input-5-6a0b1052ad0b>:21: LinAlgWarning: Ill-conditioned matrix (rcond=3.93893e-19): result may not be accurate.\n",
      "  beta = sl.solve(gmat, fvec, assume_a='sym')\n",
      "<ipython-input-5-6a0b1052ad0b>:21: LinAlgWarning: Ill-conditioned matrix (rcond=1.20389e-18): result may not be accurate.\n",
      "  beta = sl.solve(gmat, fvec, assume_a='sym')\n",
      "<ipython-input-5-6a0b1052ad0b>:21: LinAlgWarning: Ill-conditioned matrix (rcond=6.24512e-20): result may not be accurate.\n",
      "  beta = sl.solve(gmat, fvec, assume_a='sym')\n"
     ]
    }
   ],
   "source": [
    "jspace = np.arange(5, 60)\n",
    "lsj = jspace.shape[0]\n",
    "errvec = np.zeros(lsj)\n",
    "hvec = np.zeros(lsj)\n",
    "bigL = 2*np.pi\n",
    "for i in range(lsj):\n",
    "    errvec[i] = error(jspace[i], bigL, 3.0)\n",
    "    hvec[i] = bigL/jspace[i]\n",
    "    "
   ]
  },
  {
   "cell_type": "code",
   "execution_count": 9,
   "id": "1eb12566",
   "metadata": {},
   "outputs": [
    {
     "data": {
      "image/png": "[encoded data removed]",
      "text/plain": [
       "<Figure size 432x288 with 1 Axes>"
      ]
     },
     "metadata": {
      "needs_background": "light"
     },
     "output_type": "display_data"
    }
   ],
   "source": [
    "plt.loglog(hvec, errvec)\n",
    "ax = plt.gca()\n",
    "ax.set_xscale(\"log\", base=2)\n",
    "ax.set_yscale(\"log\", base=10)\n",
    "plt.xlabel('h')\n",
    "plt.ylabel('L2 error')\n",
    "plt.show()"
   ]
  },
  {
   "cell_type": "code",
   "execution_count": null,
   "id": "a0f6f591",
   "metadata": {},
   "outputs": [],
   "source": []
  }
 ],
 "metadata": {
  "kernelspec": {
   "display_name": "Python 3",
   "language": "python",
   "name": "python3"
  },
  "language_info": {
   "codemirror_mode": {
    "name": "ipython",
    "version": 3
   },
   "file_extension": ".py",
   "mimetype": "text/x-python",
   "name": "python",
   "nbconvert_exporter": "python",
   "pygments_lexer": "ipython3",
   "version": "3.9.5"
  }
 },
 "nbformat": 4,
 "nbformat_minor": 5
}