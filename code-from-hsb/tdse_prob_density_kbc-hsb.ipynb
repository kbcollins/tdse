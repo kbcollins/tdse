{
  "cells": [
    {
      "cell_type": "code",
      "source": [
        "!pip install --upgrade pip\n",
        "!pip install --upgrade \"jax[cpu]\"\n",
        "!pip install --upgrade scipy"
      ],
      "metadata": {
        "colab": {
          "base_uri": "https://localhost:8080/"
        },
        "id": "ifYIH1POB4IC",
        "outputId": "230a26b3-d073-4f98-f714-61450874cdb0"
      },
      "execution_count": 1,
      "outputs": [
        {
          "output_type": "stream",
          "name": "stdout",
          "text": [
            "Requirement already satisfied: pip in /usr/local/lib/python3.7/dist-packages (22.0.4)\n",
            "\u001b[33mWARNING: Running pip as the 'root' user can result in broken permissions and conflicting behaviour with the system package manager. It is recommended to use a virtual environment instead: https://pip.pypa.io/warnings/venv\u001b[0m\u001b[33m\n",
            "\u001b[0mRequirement already satisfied: jax[cpu] in /usr/local/lib/python3.7/dist-packages (0.3.10)\n",
            "Requirement already satisfied: scipy>=1.2.1 in /usr/local/lib/python3.7/dist-packages (from jax[cpu]) (1.7.3)\n",
            "Requirement already satisfied: typing-extensions in /usr/local/lib/python3.7/dist-packages (from jax[cpu]) (4.2.0)\n",
            "Requirement already satisfied: opt-einsum in /usr/local/lib/python3.7/dist-packages (from jax[cpu]) (3.3.0)\n",
            "Requirement already satisfied: absl-py in /usr/local/lib/python3.7/dist-packages (from jax[cpu]) (1.0.0)\n",
            "Requirement already satisfied: numpy>=1.19 in /usr/local/lib/python3.7/dist-packages (from jax[cpu]) (1.21.6)\n",
            "Requirement already satisfied: jaxlib==0.3.10 in /usr/local/lib/python3.7/dist-packages (from jax[cpu]) (0.3.10)\n",
            "Requirement already satisfied: flatbuffers<3.0,>=1.12 in /usr/local/lib/python3.7/dist-packages (from jaxlib==0.3.10->jax[cpu]) (2.0)\n",
            "Requirement already satisfied: six in /usr/local/lib/python3.7/dist-packages (from absl-py->jax[cpu]) (1.15.0)\n",
            "\u001b[33mWARNING: Running pip as the 'root' user can result in broken permissions and conflicting behaviour with the system package manager. It is recommended to use a virtual environment instead: https://pip.pypa.io/warnings/venv\u001b[0m\u001b[33m\n",
            "\u001b[0mRequirement already satisfied: scipy in /usr/local/lib/python3.7/dist-packages (1.7.3)\n",
            "Requirement already satisfied: numpy<1.23.0,>=1.16.5 in /usr/local/lib/python3.7/dist-packages (from scipy) (1.21.6)\n",
            "\u001b[33mWARNING: Running pip as the 'root' user can result in broken permissions and conflicting behaviour with the system package manager. It is recommended to use a virtual environment instead: https://pip.pypa.io/warnings/venv\u001b[0m\u001b[33m\n",
            "\u001b[0m"
          ]
        }
      ]
    },
    {
      "cell_type": "code",
      "execution_count": 2,
      "metadata": {
        "pycharm": {
          "name": "#%%\n"
        },
        "id": "e55aNjuJB2Pn"
      },
      "outputs": [],
      "source": [
        "import numpy as np\n",
        "import numpy.linalg as nl\n",
        "import scipy.linalg as sl\n",
        "import scipy.special as ss\n",
        "import scipy.integrate as si\n",
        "import scipy.optimize as so\n",
        "import matplotlib.pyplot as plt\n",
        "import jax\n",
        "import jax.numpy as jnp\n",
        "import jax.scipy as jsp\n",
        "import jax.numpy.linalg as jnl\n",
        "from jax.config import config\n",
        "config.update(\"jax_enable_x64\", True)\n",
        "\n",
        "import os\n",
        "os.environ['XLA_PYTHON_CLIENT_PREALLOCATE']='false'"
      ]
    },
    {
      "cell_type": "markdown",
      "metadata": {
        "pycharm": {
          "name": "#%% md\n"
        },
        "id": "PTQDd9cYB2Pq"
      },
      "source": [
        "<h1>Forward Problem</h1>"
      ]
    },
    {
      "cell_type": "code",
      "execution_count": 3,
      "metadata": {
        "pycharm": {
          "name": "#%%\n"
        },
        "colab": {
          "base_uri": "https://localhost:8080/"
        },
        "id": "0s3cfmsMB2Pr",
        "outputId": "a863b1d0-f05f-42f4-9483-45a54ac6800b"
      },
      "outputs": [
        {
          "output_type": "stream",
          "name": "stdout",
          "text": [
            "Shape fourtox: (65, 1025)\n"
          ]
        }
      ],
      "source": [
        "# size of spatial domain\n",
        "L = 10.0\n",
        "# number of real space grid points (for plotting)\n",
        "numx = 1025\n",
        "# real space grid points (for plotting)\n",
        "xvec = np.linspace(-L, L, numx)\n",
        "\n",
        "# number of Fourier basis functions\n",
        "# n = -numF to n = numF\n",
        "numfour = 32  # 32\n",
        "\n",
        "# matrix for converting Fourier representation to real space\n",
        "fournvec = np.arange(-numfour, numfour + 1) # fournvec=-nfb,...,0,...,nfb\n",
        "fourtox = np.exp(1j * np.pi * np.outer(fournvec, xvec) / L) / np.sqrt(2*L)\n",
        "print('Shape fourtox:', fourtox.shape)"
      ]
    },
    {
      "cell_type": "code",
      "execution_count": 4,
      "metadata": {
        "pycharm": {
          "name": "#%%\n"
        },
        "colab": {
          "base_uri": "https://localhost:8080/",
          "height": 295
        },
        "id": "lYC4SVQIB2Pt",
        "outputId": "7ff43db2-7001-46fb-e8ce-915e9ff72fe1"
      },
      "outputs": [
        {
          "output_type": "display_data",
          "data": {
            "text/plain": [
              "<Figure size 432x288 with 1 Axes>"
            ],
            "image/png": "[encoded data removed]"
          },
          "metadata": {
            "needs_background": "light"
          }
        }
      ],
      "source": [
        "def v(z):\n",
        "    # harmonic oscillator potential (should be exact for Chebyshev)\n",
        "    return 0.5 * z**2\n",
        "    # symmetric double well potential\n",
        "    # return 2.5e-3 * (z**2 - 25)**2\n",
        "    # asymmetric double well potential\n",
        "    # c0 = 4.35; c1 = 9.40e-1; c2 = -3.56e-1; c3 = -4.66e-2\n",
        "    # c4 = 1.46e-2; c5 = 6.76e-4; c6 = -1.26e-4; c7 = -5.43e-6\n",
        "    # c8 = 4.12e-7; c9 = 1.65e-8\n",
        "    # x = z + 0.8\n",
        "    # return 0.5 * (c0 + c1*x + c2*x**2 + c3*x**3 + c4*x**4 + c5*x**5 \\\n",
        "    #        + c6*x**6 + c7*x**7 + c8*x**8 + c9*x**9)\n",
        "    # non-polynomial potentials\n",
        "    # return np.sin(0.4 * z - 1)\n",
        "    # return np.sin((0.5 * z)**2)\n",
        "    # return 15 * (-np.cos(z) + np.sin((0.5 * z)**2 - 0.2 * z))\n",
        "    # soft coulomb potential\n",
        "    # return -1 / np.sqrt(z**2 + 0.25)\n",
        "\n",
        "# compute true potential on real space grid for plotting\n",
        "vxvec = v(xvec)\n",
        "\n",
        "# plot true potential\n",
        "plt.plot(xvec, vxvec)\n",
        "plt.title('Plot of V(x)')\n",
        "plt.xlabel('x')\n",
        "plt.show()"
      ]
    },
    {
      "cell_type": "code",
      "execution_count": 5,
      "metadata": {
        "pycharm": {
          "name": "#%%\n"
        },
        "colab": {
          "base_uri": "https://localhost:8080/"
        },
        "id": "KXqif3ipB2Pu",
        "outputId": "0f778f22-85de-499b-ebfd-e10f0ba00a57"
      },
      "outputs": [
        {
          "output_type": "stream",
          "name": "stderr",
          "text": [
            "WARNING:absl:No GPU/TPU found, falling back to CPU. (Set TF_CPP_MIN_LOG_LEVEL=0 and rerun for more info.)\n"
          ]
        },
        {
          "output_type": "stream",
          "name": "stdout",
          "text": [
            "Shape vmattrue: (65, 65)\n"
          ]
        }
      ],
      "source": [
        "# compute the potential matrix in the Fourier representation\n",
        "\n",
        "fourvtoeptrue = []\n",
        "for thisfourn in range(2*numfour+1):\n",
        "    def intgrnd(x):\n",
        "        return v(x) * np.exp(-1j * np.pi * thisfourn * x / L) / (2 * L)\n",
        "    def rintgrnd(x):\n",
        "        return intgrnd(x).real\n",
        "    def iintgrnd(x):\n",
        "        return intgrnd(x).imag\n",
        "    fourvtoeptrue.append(si.quad(rintgrnd, -L, L, limit=100)[0] + 1j * si.quad(iintgrnd, -L, L, limit=100)[0])\n",
        "\n",
        "fourvtoeptrue = jnp.array(fourvtoeptrue)\n",
        "\n",
        "vmattrue = sl.toeplitz(r=fourvtoeptrue, c=np.conj(fourvtoeptrue))\n",
        "\n",
        "print('Shape vmattrue:', vmattrue.shape)"
      ]
    },
    {
      "cell_type": "code",
      "execution_count": 6,
      "metadata": {
        "pycharm": {
          "name": "#%%\n"
        },
        "colab": {
          "base_uri": "https://localhost:8080/",
          "height": 299
        },
        "id": "j_CN0mPtB2Pu",
        "outputId": "7894be0a-9b31-4b6b-b0dd-eeca0f4ddd50"
      },
      "outputs": [
        {
          "output_type": "display_data",
          "data": {
            "text/plain": [
              "<Figure size 432x288 with 1 Axes>"
            ],
            "image/png": "[encoded data removed]"
          },
          "metadata": {
            "needs_background": "light"
          }
        },
        {
          "output_type": "stream",
          "name": "stdout",
          "text": [
            "0.0024095602332768946\n"
          ]
        }
      ],
      "source": [
        "# at this point, \"fourvtoeptrue\" contains Fourier coefficients for modes 0, ..., 2*N\n",
        "# let us convert this into information on modes -N, ..., N\n",
        "# also we need a slight renormalization to make this a Fourier coefficient\n",
        "# with respect to our ***orthonormal*** Fourier basis\n",
        "vfour = np.sqrt(2*L)*np.concatenate([np.conjugate(np.flipud(fourvtoeptrue[1:(numfour+1)])), fourvtoeptrue[:(numfour+1)]])\n",
        "vrecon = vfour @ fourtox\n",
        "\n",
        "plt.plot(xvec, np.real(vfour @ fourtox), label='rec')\n",
        "plt.plot(xvec, vxvec, label='truth')\n",
        "plt.title('Reconstructed Potential vs. Truth')\n",
        "plt.legend()\n",
        "plt.show()\n",
        "\n",
        "print(np.mean(np.square(np.abs(vrecon - vxvec))))"
      ]
    },
    {
      "cell_type": "code",
      "execution_count": 82,
      "metadata": {
        "pycharm": {
          "name": "#%%\n"
        },
        "colab": {
          "base_uri": "https://localhost:8080/",
          "height": 331
        },
        "id": "SjAxsElAB2Pv",
        "outputId": "ecf66366-d706-4435-c2e2-0ad132633af6"
      },
      "outputs": [
        {
          "output_type": "stream",
          "name": "stdout",
          "text": [
            "l2 error psi0: 4.072507283498578e-06\n",
            "l-infinity error psi0: 1.8301527573121855e-06\n"
          ]
        },
        {
          "output_type": "display_data",
          "data": {
            "text/plain": [
              "<Figure size 432x288 with 1 Axes>"
            ],
            "image/png": "[encoded data removed]"
          },
          "metadata": {
            "needs_background": "light"
          }
        }
      ],
      "source": [
        "# define initial states and transform to Fourier basis\n",
        "\n",
        "def psi0(x):\n",
        "    return np.exp(-(x + 3)**2 / 4) * (2.0 / np.pi)**0.25\n",
        "    # return np.exp(-(x - 3)**2 / 4) * (2.0 / np.pi)**0.25\n",
        "    # return np.exp(-(x - 6)**2) * (2.0 / np.pi)**0.25\n",
        "    # return np.exp(-(x + 6)**2) * (2.0 / np.pi)**0.25\n",
        "    # return np.exp(-x**2) * (2.0 / np.pi)**0.25\n",
        "\n",
        "# compute psi0 normalization term\n",
        "psi0_prob_intgrnd = lambda x: np.abs(psi0(x)) ** 2\n",
        "psi0_norm = np.sqrt(si.quad(psi0_prob_intgrnd, -L, L)[0])\n",
        "\n",
        "# normalized psi function (for integration)\n",
        "norm_psi0_fn = lambda x: psi0(x) / psi0_norm\n",
        "\n",
        "# compute the Fourier representation of psi0fn\n",
        "norm_psi0 = []\n",
        "for thisfourn in range (numfour + 1):\n",
        "    def intgrnd(x):\n",
        "        return norm_psi0_fn(x) * np.exp(-1j * np.pi * thisfourn * x / L) / np.sqrt(2 * L)\n",
        "    def rintgrnd(x):\n",
        "        return intgrnd(x).real\n",
        "    def iintgrnd(x):\n",
        "        return intgrnd(x).imag\n",
        "    norm_psi0.append(si.quad(rintgrnd, -L, L)[0] + 1j * si.quad(iintgrnd, -L, L)[0])\n",
        "\n",
        "a0 = np.concatenate([np.conjugate(np.flipud(norm_psi0[1:])), norm_psi0])\n",
        "\n",
        "normpsi0x = norm_psi0_fn(xvec)\n",
        "normpsi0xrec = a0 @ fourtox\n",
        "\n",
        "# check if Fourier representation is close to truth\n",
        "print(f'l2 error psi0:', nl.norm(normpsi0x - normpsi0xrec))\n",
        "print(f'l-infinity error psi0:', np.max(np.abs(normpsi0x - normpsi0xrec)))\n",
        "\n",
        "# plot the real part of the normalized psi0\n",
        "plt.plot(xvec, normpsi0xrec.real, label=f\"Truth\")\n",
        "plt.plot(xvec, normpsi0xrec.real, label=f\"Rec\")\n",
        "plt.title('Real Part of Initial Wave Functions')\n",
        "plt.xlabel('x')\n",
        "plt.legend()\n",
        "plt.show()"
      ]
    },
    {
      "cell_type": "markdown",
      "metadata": {
        "id": "7AaY7oRvB2Pw"
      },
      "source": [
        "---\n",
        "**Forward Propagation**"
      ]
    },
    {
      "cell_type": "code",
      "execution_count": 83,
      "metadata": {
        "pycharm": {
          "name": "#%%\n"
        },
        "colab": {
          "base_uri": "https://localhost:8080/"
        },
        "id": "9_Mv9CKMB2Px",
        "outputId": "d1f83f90-ccc0-4229-8a8f-262d24716eb7"
      },
      "outputs": [
        {
          "output_type": "stream",
          "name": "stdout",
          "text": [
            "hmattrue Hermitian check (should be close to zero):\n",
            "0.0\n",
            "hmattrue diagonalized check (should be close to zero):\n",
            "3.090565745793424e-13\n",
            "stttrue unitary check (should be close to zero):\n",
            "1.1831303161609709e-14\n"
          ]
        }
      ],
      "source": [
        "# Eigendecomposition of Hamiltonian\n",
        "\n",
        "# kinetic operator in the Fourier representation\n",
        "# (this is constant for a given system)\n",
        "kmat = np.diag(np.arange(-numfour, numfour + 1) ** 2 * np.pi ** 2 / (2 * L ** 2))\n",
        "\n",
        "# Hamiltonian operator in the Fourier representation\n",
        "hmattrue = kmat + vmattrue\n",
        "\n",
        "# check if the Hamiltonian matrix is Hermitian\n",
        "print('hmattrue Hermitian check (should be close to zero):', nl.norm(hmattrue - hmattrue.T.conj()), sep='\\n')\n",
        "\n",
        "# eigen-decomposition of the Hamiltonian matrix\n",
        "spctrue, stttrue = jnl.eigh(hmattrue)\n",
        "\n",
        "# check if the decomposition diagonalizes the\n",
        "# Hamiltonian matrix\n",
        "# if this is close to zero then\n",
        "# hmat = states @ np.diag(spec) @ np.conj(states).T\n",
        "print('hmattrue diagonalized check (should be close to zero):', nl.norm(hmattrue @ stttrue - stttrue @ np.diag(spctrue)), sep='\\n')\n",
        "\n",
        "# check if the eigenstates are unitary\n",
        "print('stttrue unitary check (should be close to zero):', nl.norm(stttrue @ stttrue.T.conj() - np.eye(2 * numfour + 1)), sep='\\n')"
      ]
    },
    {
      "cell_type": "code",
      "execution_count": 84,
      "metadata": {
        "pycharm": {
          "name": "#%%\n"
        },
        "colab": {
          "base_uri": "https://localhost:8080/",
          "height": 384
        },
        "id": "5rVPO56TB2Px",
        "outputId": "2b25a056-e214-4a02-b2e3-42253fec2060"
      },
      "outputs": [
        {
          "output_type": "stream",
          "name": "stdout",
          "text": [
            "[0.5 1.5 2.5 3.5 4.5 5.5]\n"
          ]
        },
        {
          "output_type": "display_data",
          "data": {
            "text/plain": [
              "<Figure size 432x288 with 1 Axes>"
            ],
            "image/png": "[encoded data removed]"
          },
          "metadata": {
            "needs_background": "light"
          }
        },
        {
          "output_type": "stream",
          "name": "stdout",
          "text": [
            "Quick normalization check (should be close to 1):\n",
            "0.9999999999999998\n",
            "Accurate normalization check (should be close to 1):\n",
            "0.9999999999999998\n"
          ]
        }
      ],
      "source": [
        "# plot ground state of Eigendecomposition\n",
        "\n",
        "# find indices that sort eigenvalues\n",
        "ordering = np.argsort(spctrue)\n",
        "\n",
        "# print the first few eigenvalues\n",
        "print(spctrue[ordering[:6]])\n",
        "\n",
        "# pick out and plot real part of the ground state\n",
        "groundstate = ordering[0]\n",
        "wavefn = stttrue[:, groundstate] @ fourtox\n",
        "plt.plot(xvec, np.real(wavefn))\n",
        "plt.title('Real Part of Ground State')\n",
        "plt.xlabel('x')\n",
        "plt.show()\n",
        "\n",
        "# quick and dirty check of normalization\n",
        "print('Quick normalization check (should be close to 1):', np.sum(np.abs(wavefn)**2 * (xvec[1]-xvec[0])), sep='\\n')\n",
        "\n",
        "# this should be a more accurate check of the ground state\n",
        "# wave functions' normalization\n",
        "print('Accurate normalization check (should be close to 1):', si.trapezoid(np.abs(wavefn)**2, xvec), sep='\\n')"
      ]
    },
    {
      "cell_type": "code",
      "source": [
        "type(stttrue)"
      ],
      "metadata": {
        "colab": {
          "base_uri": "https://localhost:8080/"
        },
        "id": "Fzb9JfXSLQXP",
        "outputId": "6d6f085c-6c9e-4e69-e7d4-02905082fe1f"
      },
      "execution_count": 85,
      "outputs": [
        {
          "output_type": "execute_result",
          "data": {
            "text/plain": [
              "jaxlib.xla_extension.DeviceArray"
            ]
          },
          "metadata": {},
          "execution_count": 85
        }
      ]
    },
    {
      "cell_type": "code",
      "execution_count": 86,
      "metadata": {
        "pycharm": {
          "name": "#%%\n"
        },
        "colab": {
          "base_uri": "https://localhost:8080/"
        },
        "id": "kppmQCb3B2Py",
        "outputId": "f459a65a-5f7e-4798-dc3e-34a627935508"
      },
      "outputs": [
        {
          "output_type": "stream",
          "name": "stdout",
          "text": [
            "Shape amattrue: (41, 65)\n",
            "Done propagating\n"
          ]
        }
      ],
      "source": [
        "# Propagate\n",
        "\n",
        "# set time-step size\n",
        "dt = 1e-2\n",
        "\n",
        "# set number of time steps\n",
        "# trajectory length is numts + 1 (initial state + numts steps)\n",
        "numts = 40\n",
        "\n",
        "# compute propagator matrix\n",
        "propatrue = stttrue @ jnp.diag(jnp.exp(-1j * spctrue * dt)) @ stttrue.conj().T\n",
        "\n",
        "# propagate system starting from initial \"a\" state\n",
        "amattrue = [jnp.array(a0)]\n",
        "for i in range(numts):\n",
        "    amattrue.append(propatrue @ amattrue[-1])\n",
        "\n",
        "amattrue = jnp.array(amattrue)\n",
        "\n",
        "print('Shape amattrue:', amattrue.shape)\n",
        "\n",
        "print('Done propagating')"
      ]
    },
    {
      "cell_type": "code",
      "execution_count": 87,
      "metadata": {
        "pycharm": {
          "name": "#%%\n"
        },
        "colab": {
          "base_uri": "https://localhost:8080/"
        },
        "id": "B4AhEJzmB2Py",
        "outputId": "5be9b2a1-3f10-4125-8b1a-93cb39071c43"
      },
      "outputs": [
        {
          "output_type": "stream",
          "name": "stdout",
          "text": [
            "Shape psimattrue: (41, 1025)\n",
            "Shape probmattrue: (41, 1025)\n",
            "Shape normmattrue: (41,)\n"
          ]
        },
        {
          "output_type": "execute_result",
          "data": {
            "text/plain": [
              "2.803096508295667e-13"
            ]
          },
          "metadata": {},
          "execution_count": 87
        }
      ],
      "source": [
        "# check if system's state remains normalized for the propagation\n",
        "\n",
        "psimattrue = amattrue @ fourtox\n",
        "print('Shape psimattrue:', psimattrue.shape)\n",
        "\n",
        "probmattrue = np.abs(psimattrue) ** 2\n",
        "print('Shape probmattrue:', probmattrue.shape)\n",
        "\n",
        "normmattrue = si.trapezoid(probmattrue, xvec)\n",
        "print('Shape normmattrue:', normmattrue.shape)\n",
        "\n",
        "np.mean(np.abs(normmattrue - 1.0))"
      ]
    },
    {
      "cell_type": "markdown",
      "metadata": {
        "pycharm": {
          "name": "#%% md\n"
        },
        "id": "X5b8DqF6B2Pz"
      },
      "source": [
        "<h1>Inverse Problem</h1>"
      ]
    },
    {
      "cell_type": "code",
      "execution_count": 88,
      "metadata": {
        "pycharm": {
          "name": "#%%\n"
        },
        "colab": {
          "base_uri": "https://localhost:8080/"
        },
        "id": "rzujX-H8B2Pz",
        "outputId": "44527418-ee61-4897-9ef3-8c3551b1dab9"
      },
      "outputs": [
        {
          "output_type": "stream",
          "name": "stdout",
          "text": [
            "(65, 65)\n"
          ]
        }
      ],
      "source": [
        "# code for constructing a toeplitz matrix from the\n",
        "# Fourier representation\n",
        "# flat_toep_vec = jnp.concatenate([jnp.flipud(cvrow.conj()), cvrow[1:]])\n",
        "\n",
        "numtoepelms = 2 * numfour + 1\n",
        "aa = (-1) * np.arange(0, numtoepelms).reshape(numtoepelms, 1)\n",
        "bb = [np.arange(numtoepelms - 1, 2 * numtoepelms - 1)]\n",
        "toepindxmat = np.array(aa + bb)\n",
        "print(toepindxmat.shape)"
      ]
    },
    {
      "cell_type": "code",
      "execution_count": 89,
      "metadata": {
        "pycharm": {
          "name": "#%%\n"
        },
        "colab": {
          "base_uri": "https://localhost:8080/"
        },
        "id": "kImsJTCOB2P0",
        "outputId": "418e79a2-0a24-4ed3-fb7b-bef4e9f6279a"
      },
      "outputs": [
        {
          "output_type": "stream",
          "name": "stdout",
          "text": [
            "0.0\n"
          ]
        }
      ],
      "source": [
        "# check if index method makes same vmat\n",
        "# should be close to 0\n",
        "\n",
        "print(nl.norm(vmattrue - np.concatenate([np.flipud(np.conj(fourvtoeptrue)), fourvtoeptrue[1:]])[toepindxmat]))"
      ]
    },
    {
      "cell_type": "code",
      "execution_count": 90,
      "metadata": {
        "pycharm": {
          "name": "#%%\n"
        },
        "colab": {
          "base_uri": "https://localhost:8080/"
        },
        "id": "T65xzHupB2P0",
        "outputId": "b7e78fef-75bc-4571-bea8-88bba68c2378"
      },
      "outputs": [
        {
          "output_type": "stream",
          "name": "stdout",
          "text": [
            "Shape probmattrue (41, 1025)\n",
            "Shape betamattrue (41, 65)\n",
            "Shape betamattrue @ fourtox: (41, 1025)\n",
            "l2 error betamattrue @ fourtox:\n",
            "8.854242181860917e-07\n"
          ]
        }
      ],
      "source": [
        "# probability training data\n",
        "# we need |\\psi(t)|^2 in the Fourier representation\n",
        "\n",
        "# compute \"beta\" from \"a\"\n",
        "# np.convolve only works with 1D vectors\n",
        "betamattrue = []\n",
        "for thisavec in amattrue:\n",
        "    betamattrue.append(np.convolve(thisavec.conj(), np.flip(thisavec), 'same').conj())\n",
        "\n",
        "betamattrue = jnp.array(betamattrue) / jnp.sqrt(2 * L)\n",
        "\n",
        "print('Shape probmattrue', probmattrue.shape)\n",
        "print('Shape betamattrue', betamattrue.shape)\n",
        "print('Shape betamattrue @ fourtox:', np.shape(betamattrue @ fourtox))\n",
        "\n",
        "print('l2 error betamattrue @ fourtox:', nl.norm(probmattrue - betamattrue @ fourtox), sep='\\n')"
      ]
    },
    {
      "cell_type": "code",
      "source": [
        "type(betamattrue)"
      ],
      "metadata": {
        "colab": {
          "base_uri": "https://localhost:8080/"
        },
        "id": "dY9rTYYnUp4o",
        "outputId": "5a05877b-e4e0-4243-8793-beb24cf36aad"
      },
      "execution_count": 91,
      "outputs": [
        {
          "output_type": "execute_result",
          "data": {
            "text/plain": [
              "jaxlib.xla_extension.DeviceArray"
            ]
          },
          "metadata": {},
          "execution_count": 91
        }
      ]
    },
    {
      "cell_type": "code",
      "execution_count": 108,
      "metadata": {
        "pycharm": {
          "name": "#%%\n"
        },
        "id": "RkmCOGMeB2P0"
      },
      "outputs": [],
      "source": [
        "# objective function\n",
        "\n",
        "def probobj(catfourvtoep, verbose=False):\n",
        "    # put learning parameters into complex toeplitz vector form\n",
        "    fourvtoep = catfourvtoep[:2 * numfour + 1] + 1j * catfourvtoep[2 * numfour + 1:]\n",
        "\n",
        "    if verbose:\n",
        "        print('l2 error fourvtoep:', jnl.norm(fourvtoep - fourvtoeptrue))\n",
        "\n",
        "    # construct vmat from complex toeplitz vector\n",
        "    vmat = jnp.concatenate([jnp.flipud(jnp.conj(fourvtoep)), fourvtoep[1:]])[toepindxmat]\n",
        "    # vmat = jnp.concatenate([jnp.flipud(jnp.conj(fourvtoep)), fourvtoep[1:]])[toepindxmat]\n",
        "\n",
        "    # Construct Hamiltonian matrix\n",
        "    hmat = kmat + vmat\n",
        "\n",
        "    if verbose:\n",
        "        # check if hmat is Hermitian\n",
        "        print('hmat hermitian? (should be close to 0):', jnl.norm(hmat - hmat.T.conj()), sep='\\n')\n",
        "        print('l2 error hmat:', jnl.norm(hmat - hmattrue))\n",
        "\n",
        "    # eigen-decomposition of the Hamiltonian matrix\n",
        "    spc, stt = jnl.eigh(hmat)\n",
        "\n",
        "    if verbose:\n",
        "        # check if the decomposition diagonalizes hmat\n",
        "        # if this is close to zero then\n",
        "        # hmat = states @ np.diag(spec) @ np.conj(states).T\n",
        "        print('hmat diagonalized? (should be close to 0):', jnl.norm(hmat @ stt - stt @ np.diag(spc)), sep='\\n')\n",
        "\n",
        "        # check if stt is unitary\n",
        "        print('stt unitary? (should be close to 0):', jnl.norm(stt @ stt.T.conj() - jnp.eye(2 * numfour + 1)), sep='\\n')\n",
        "\n",
        "        print('l2 error spc:', jnl.norm(spc - spctrue))\n",
        "        print('l2 error stt:', jnl.norm(stt - stttrue))\n",
        "\n",
        "        print('|| vmattrue - vmat || = ', jnl.norm(vmattrue - vmat))\n",
        "\n",
        "    # compute propagator matrix\n",
        "    propa = stt @ jnp.diag(jnp.exp(-1j * spc * dt)) @ stt.conj().T\n",
        "\n",
        "    # propagate system starting from initial \"a\" state\n",
        "    amat = [a0.copy()]\n",
        "    for i in range(numts):\n",
        "        amat.append(propa @ amat[-1])\n",
        "\n",
        "    amat = jnp.array(amat)\n",
        "\n",
        "    # compute \"beta\" from \"a\"\n",
        "    # np.convolve only works with 1D vectors\n",
        "    # betamat = np.zeros(2 * numfour + 1, dtype=jnp.complex128)\n",
        "    betamat = []\n",
        "    for thisavec in amat:\n",
        "        betamat.append(jnp.convolve(thisavec.conj(), jnp.flip(thisavec), 'same').conj())\n",
        "        # tempbetavec = []\n",
        "        # for l in range(-numfour ,numfour + 1):\n",
        "        #     tempbetavec.append(0.0 + 0.0j)\n",
        "        #     for k in range(-numfour ,numfour + 1):\n",
        "        #         if abs(k+l) <= L:\n",
        "                    # everybody has a \"+d\" inside square brackets because Python indexing starts at 0 and goes up to 2*d,\n",
        "                    # while mathematical indexing goes from -d, -d+1, ..., 0, ..., d-1, d\n",
        "                    # tempbetavec[-1] += thisavec[k + l + numfour] * jnp.conj(thisavec[k + numfour])\n",
        "\n",
        "        # betamat.append(tempbetavec)\n",
        "\n",
        "\n",
        "    betamat = jnp.array(betamat) / jnp.sqrt(2 * L)\n",
        "    # compute objective functions\n",
        "    # print('Shape betamat:', betamat.shape)\n",
        "    # print('Shape betamattrue:', betamattrue.shape)\n",
        "    # print(0.5 * jnl.norm(betamat - betamattrue))\n",
        "    # print(jnp.sum(jnp.abs(betamat - betamattrue)**2))\n",
        "    resid = betamat - betamattrue\n",
        "    rtnobj = 0.5 * jnp.sum(jnp.real(resid * resid.conj()))\n",
        "\n",
        "    return rtnobj"
      ]
    },
    {
      "cell_type": "code",
      "execution_count": 109,
      "metadata": {
        "pycharm": {
          "name": "#%%\n"
        },
        "colab": {
          "base_uri": "https://localhost:8080/"
        },
        "id": "fzhp6bv1B2P1",
        "outputId": "02a2576a-c19f-48cd-924d-82d00dbdc95a"
      },
      "outputs": [
        {
          "output_type": "stream",
          "name": "stdout",
          "text": [
            "Shape vfourcat: (130,)\n",
            "0.0\n",
            "l2 error fourvtoep: 0.0\n",
            "hmat hermitian? (should be close to 0):\n",
            "0.0\n",
            "l2 error hmat: 0.0\n",
            "hmat diagonalized? (should be close to 0):\n",
            "3.0905657457934245e-13\n",
            "stt unitary? (should be close to 0):\n",
            "1.1831303161609709e-14\n",
            "l2 error spc: 0.0\n",
            "l2 error stt: 0.0\n",
            "|| vmattrue - vmat || =  0.0\n",
            "4.499973070281903e-31\n"
          ]
        }
      ],
      "source": [
        "# vfourcat = np.concatenate((np.real(fourv), np.concatenate(([0.0], np.imag(fourv[1:])))))\n",
        "# print('Shape vfourcat:', vfourcat.shape)\n",
        "\n",
        "# check objective with true potential\n",
        "# print(probobj(vfourcat, verbose=True))\n",
        "\n",
        "vfourtoepcat = np.concatenate((np.real(fourvtoeptrue), np.concatenate(([0.0], np.imag(fourvtoeptrue[1:])))))\n",
        "print('Shape vfourcat:', vfourtoepcat.shape)\n",
        "\n",
        "\n",
        "print(nl.norm(vfourtoepcat[:2 * numfour + 1] + 1j*vfourtoepcat[2 * numfour + 1:] - fourvtoeptrue))\n",
        "\n",
        "# check objective with true potential\n",
        "print(probobj(vfourtoepcat, verbose=True))"
      ]
    },
    {
      "cell_type": "code",
      "execution_count": 110,
      "metadata": {
        "pycharm": {
          "name": "#%%\n"
        },
        "id": "usfscZgGB2P1"
      },
      "outputs": [],
      "source": [
        "# jit probobj\n",
        "jitprobobj = jax.jit(probobj)"
      ]
    },
    {
      "cell_type": "code",
      "execution_count": 111,
      "metadata": {
        "pycharm": {
          "name": "#%%\n"
        },
        "colab": {
          "base_uri": "https://localhost:8080/"
        },
        "id": "OQsS5N4dB2P2",
        "outputId": "fb5bb9eb-50c6-4233-bcf5-8f14f2070aa8"
      },
      "outputs": [
        {
          "output_type": "stream",
          "name": "stdout",
          "text": [
            "4.539390238917945e-31\n"
          ]
        }
      ],
      "source": [
        "# complie and test jitprobobj\n",
        "print(jitprobobj(vfourtoepcat))"
      ]
    },
    {
      "cell_type": "code",
      "execution_count": 112,
      "metadata": {
        "pycharm": {
          "name": "#%%\n"
        },
        "id": "tTebgIDKB2P2"
      },
      "outputs": [],
      "source": [
        "# JAX grad of the objective\n",
        "gradprobobj = jax.jit(jax.grad(jitprobobj))"
      ]
    },
    {
      "cell_type": "code",
      "execution_count": null,
      "metadata": {
        "pycharm": {
          "name": "#%%\n"
        },
        "id": "AxjaViVxB2P2"
      },
      "outputs": [],
      "source": [
        "# check grad of objective with true potential\n",
        "jnp.linalg.norm(gradprobobj(vfourtoepcat))"
      ]
    },
    {
      "cell_type": "markdown",
      "metadata": {
        "pycharm": {
          "name": "#%% md\n"
        },
        "id": "mg74vxRKB2P2"
      },
      "source": [
        "---\n",
        "**Initialize with perturbed true coefficients**"
      ]
    },
    {
      "cell_type": "code",
      "execution_count": null,
      "metadata": {
        "pycharm": {
          "name": "#%%\n"
        },
        "id": "o74x1HqmB2P3"
      },
      "outputs": [],
      "source": [
        "seed = 1234  # set to None for random initialization\n",
        "cfftrub = vfourtoepcat.copy()\n",
        "# cfftrub += 2 * np.random.default_rng(seed).normal(size=len(cfftrub))\n",
        "cfftrub += 0.25 * np.random.default_rng(seed).normal(size=len(cfftrub))\n",
        "# cfftrub = 0.001*np.random.default_rng(seed).normal(size=2*(2*numfour+1))\n"
      ]
    },
    {
      "cell_type": "code",
      "source": [
        "cfftrub = jnp.array(cfftrub)"
      ],
      "metadata": {
        "id": "op9BhTPqEfPc"
      },
      "execution_count": null,
      "outputs": []
    },
    {
      "cell_type": "code",
      "execution_count": null,
      "metadata": {
        "pycharm": {
          "name": "#%%\n"
        },
        "id": "NaYi6muIB2P3"
      },
      "outputs": [],
      "source": [
        "print(jitprobobj(cfftrub))\n",
        "print(nl.norm(gradprobobj(cfftrub)))"
      ]
    },
    {
      "cell_type": "code",
      "execution_count": null,
      "metadata": {
        "pycharm": {
          "name": "#%%\n"
        },
        "id": "nkQ_atZcB2P3"
      },
      "outputs": [],
      "source": [
        "rslttrubjaxgrad = so.minimize(jitprobobj, cfftrub, jac=gradprobobj, tol=1e-12, options={'maxiter': 3000, 'disp': True, 'gtol': 1e-15}).x\n",
        "\n",
        "# rslttrubjaxgrad = so.minimize(jitprobobj, cfftrub, jac=gradprobobj, options={'maxiter': 2000, 'disp': True}).x\n",
        "\n",
        "# rslttrubjaxgrad = so.minimize(jitprobobj, vfourtoepcat, jac=gradprobobj, tol=1e-12, options={'maxiter': 3000, 'disp': True, 'gtol': 1e-15}).x"
      ]
    },
    {
      "cell_type": "code",
      "execution_count": 102,
      "metadata": {
        "pycharm": {
          "name": "#%%\n"
        },
        "colab": {
          "base_uri": "https://localhost:8080/"
        },
        "id": "tkHB8W6UB2P3",
        "outputId": "bde10258-33b3-4c92-c41e-678d45010ced"
      },
      "outputs": [
        {
          "output_type": "stream",
          "name": "stdout",
          "text": [
            "2.246724848359715e-12\n",
            "2.2475255718070424e-11\n"
          ]
        }
      ],
      "source": [
        "print(jitprobobj(rslttrubjaxgrad))\n",
        "print(nl.norm(gradprobobj(rslttrubjaxgrad)))"
      ]
    },
    {
      "cell_type": "code",
      "execution_count": 103,
      "metadata": {
        "pycharm": {
          "name": "#%%\n"
        },
        "colab": {
          "base_uri": "https://localhost:8080/"
        },
        "id": "N73Ehn55B2P3",
        "outputId": "51166687-74ba-487e-c06a-e4c7f60fdfd2"
      },
      "outputs": [
        {
          "output_type": "stream",
          "name": "stdout",
          "text": [
            "2.489206319369256\n",
            "0.7213562686242997\n"
          ]
        }
      ],
      "source": [
        "fourvtoeplearn = rslttrubjaxgrad[:2 * numfour + 1] + 1j*rslttrubjaxgrad[2 * numfour + 1:]\n",
        "print(nl.norm(fourvtoeplearn - fourvtoeptrue))\n",
        "print(np.max(np.abs(fourvtoeplearn - fourvtoeptrue)))"
      ]
    },
    {
      "cell_type": "code",
      "execution_count": 104,
      "metadata": {
        "pycharm": {
          "name": "#%%\n"
        },
        "colab": {
          "base_uri": "https://localhost:8080/",
          "height": 545
        },
        "id": "zzLRmowCB2P4",
        "outputId": "d8b01db9-30e9-4597-9abb-a30f867127af"
      },
      "outputs": [
        {
          "output_type": "display_data",
          "data": {
            "text/plain": [
              "<Figure size 432x288 with 1 Axes>"
            ],
            "image/png": "[encoded data removed]"
          },
          "metadata": {
            "needs_background": "light"
          }
        },
        {
          "output_type": "display_data",
          "data": {
            "text/plain": [
              "<Figure size 432x288 with 1 Axes>"
            ],
            "image/png": "[encoded data removed]"
          },
          "metadata": {
            "needs_background": "light"
          }
        }
      ],
      "source": [
        "# plot learned vs true\n",
        "cmpcfftrub = cfftrub[:2 * numfour + 1] + 1j*cfftrub[2 * numfour + 1:]\n",
        "# cmpcfftrub = cfftrub[:2 * numfour + 1] + 1j*np.concatenate(([0.0], cfftrub[2 * numfour + 1:]))\n",
        "\n",
        "cmprslttrubgrad = rslttrubjaxgrad[:2 * numfour + 1] + 1j*rslttrubjaxgrad[2 * numfour + 1:]\n",
        "# cmprslttrubgrad = rslttrubjaxgrad[:2 * numfour + 1] + 1j*np.concatenate(([0.0], rslttrubjaxgrad[2 * numfour + 1:]))\n",
        "\n",
        "plt.plot(np.real(cmprslttrubgrad), '.-', label='learned')\n",
        "plt.plot(np.real(cmpcfftrub), label='initial')\n",
        "# plt.plot(xvec, np.real(cmpcfftrub @ fourtox), label='randtheta')\n",
        "plt.plot(np.real(fourvtoeptrue), label='truth')\n",
        "# plt.plot(xvec, vxvec, label='real truth')\n",
        "plt.title('Learned theta vs. Truth')\n",
        "plt.legend()\n",
        "plt.show()\n",
        "\n",
        "plt.plot(np.imag(cmprslttrubgrad), '.-', label='learned')\n",
        "plt.plot(np.imag(cmpcfftrub), label='initial')\n",
        "# plt.plot(xvec, np.real(cmpcfftrub @ fourtox), label='randtheta')\n",
        "plt.plot(np.imag(fourvtoeptrue), label='truth')\n",
        "# plt.plot(xvec, vxvec, label='real truth')\n",
        "plt.title('Learned theta vs. Truth')\n",
        "plt.legend()\n",
        "plt.show()"
      ]
    },
    {
      "cell_type": "code",
      "source": [
        "vfour = np.sqrt(2*L)*np.concatenate([np.conjugate(np.flipud(cmprslttrubgrad[1:(numfour+1)])), cmprslttrubgrad[:(numfour+1)]])\n",
        "vrecon = vfour @ fourtox\n",
        "\n",
        "vicfour = np.sqrt(2*L)*np.concatenate([np.conjugate(np.flipud(cmpcfftrub[1:(numfour+1)])), cmpcfftrub[:(numfour+1)]])\n",
        "vic = vicfour @ fourtox\n",
        "\n",
        "plt.plot(xvec, jnp.real(vrecon), color='red')\n",
        "plt.plot(xvec, vxvec, color='black')\n",
        "plt.plot(xvec, jnp.real(vic), color='green')\n",
        "plt.show()"
      ],
      "metadata": {
        "colab": {
          "base_uri": "https://localhost:8080/",
          "height": 265
        },
        "id": "Et2xRbT9W52e",
        "outputId": "ab176a9e-2aec-4983-cf31-b37071187d8f"
      },
      "execution_count": 105,
      "outputs": [
        {
          "output_type": "display_data",
          "data": {
            "text/plain": [
              "<Figure size 432x288 with 1 Axes>"
            ],
            "image/png": "[encoded data removed]"
          },
          "metadata": {
            "needs_background": "light"
          }
        }
      ]
    },
    {
      "cell_type": "markdown",
      "metadata": {
        "pycharm": {
          "name": "#%% md\n"
        },
        "id": "foyyicrkB2P4"
      },
      "source": [
        "---\n",
        "**Initialize with random coefficients**"
      ]
    },
    {
      "cell_type": "code",
      "execution_count": null,
      "metadata": {
        "pycharm": {
          "name": "#%%\n"
        },
        "id": "-Y2FVENyB2P4",
        "outputId": "850d34e8-42a5-4a16-b829-cd90a2a0c8a7"
      },
      "outputs": [
        {
          "ename": "NameError",
          "evalue": "name 'cfftrue' is not defined",
          "output_type": "error",
          "traceback": [
            "\u001b[0;31m---------------------------------------------------------------------------\u001b[0m",
            "\u001b[0;31mNameError\u001b[0m                                 Traceback (most recent call last)",
            "Input \u001b[0;32mIn [33]\u001b[0m, in \u001b[0;36m<module>\u001b[0;34m\u001b[0m\n\u001b[1;32m      1\u001b[0m seed \u001b[38;5;241m=\u001b[39m \u001b[38;5;241m1234\u001b[39m  \u001b[38;5;66;03m# set to None for random initialization\u001b[39;00m\n\u001b[0;32m----> 2\u001b[0m cffform \u001b[38;5;241m=\u001b[39m np\u001b[38;5;241m.\u001b[39mrandom\u001b[38;5;241m.\u001b[39mdefault_rng(seed)\u001b[38;5;241m.\u001b[39muniform(low\u001b[38;5;241m=\u001b[39m\u001b[38;5;241m-\u001b[39m\u001b[38;5;241m5.0\u001b[39m, high\u001b[38;5;241m=\u001b[39m\u001b[38;5;241m5.0\u001b[39m, size\u001b[38;5;241m=\u001b[39m\u001b[43mcfftrue\u001b[49m\u001b[38;5;241m.\u001b[39mshape)\n",
            "\u001b[0;31mNameError\u001b[0m: name 'cfftrue' is not defined"
          ]
        }
      ],
      "source": [
        "seed = 1234  # set to None for random initialization\n",
        "cffform = np.random.default_rng(seed).uniform(low=-5.0, high=5.0, size=cfftrue.shape)"
      ]
    },
    {
      "cell_type": "code",
      "execution_count": null,
      "metadata": {
        "pycharm": {
          "name": "#%%\n"
        },
        "id": "n-Iy-JPEB2P4"
      },
      "outputs": [],
      "source": [
        "resform = so.minimize(jitcobjfn, cffform, jac=jaxgradcobjfn, tol=1e-15, options={'maxiter': 1000, 'disp': True, 'gtol': 1e-14}).x"
      ]
    },
    {
      "cell_type": "code",
      "execution_count": null,
      "metadata": {
        "pycharm": {
          "name": "#%%\n"
        },
        "id": "HaJp7G8aB2P4"
      },
      "outputs": [],
      "source": [
        "print('Objective of the Learned Coefficients:', cobjfn(resform), sep='\\n')\n",
        "print('Vec L2 Norm of Gradient of the Learned Coefficients:', nl.norm(jaxgradcobjfn(resform)), sep='\\n')\n",
        "\n",
        "print('Continuous L2 Error of Potential using Quadrature Method:', np.sqrt(si.quad(sqrerrorfn, -L, L, args=(resform)))[0], sep='\\n')\n",
        "\n",
        "# plot initial vs learned\n",
        "plt.plot(xvec, chebtox @ cffform, label='initial')\n",
        "plt.plot(xvec, chebtox @ resform, label='learned')\n",
        "plt.title('Initial Potential vs. Truth')\n",
        "plt.legend()\n",
        "plt.show()\n",
        "\n",
        "# plot true vs learned\n",
        "plt.plot(xvec[100:-100], vxvec[100:-100], label='Truth')\n",
        "plt.plot(xvec[100:-100], (chebtox @ resform)[100:-100], label='learned')\n",
        "plt.title('Learned Potential vs. Truth')\n",
        "plt.legend()\n",
        "plt.show()"
      ]
    },
    {
      "cell_type": "markdown",
      "metadata": {
        "id": "fvKZGruQB2P5"
      },
      "source": [
        "---\n",
        "* Forward Problem\n",
        "    * Computational Variables\n",
        "    * Potential (real space and Fourier basis)\n",
        "    * Initial wave function (real and Fourier)\n",
        "    * Solution to forward problem\n",
        "* Inverse Problem\n",
        "    * Training data (prob density - new)\n",
        "    * Objective (new)\n",
        "    * JAX grad of objective\n",
        "    * Solver (optimizer)"
      ]
    },
    {
      "cell_type": "code",
      "execution_count": null,
      "metadata": {
        "pycharm": {
          "name": "#%%\n"
        },
        "id": "CCOYlxv1B2P5"
      },
      "outputs": [],
      "source": [
        ""
      ]
    }
  ],
  "metadata": {
    "kernelspec": {
      "display_name": "Python 3 (ipykernel)",
      "language": "python",
      "name": "python3"
    },
    "language_info": {
      "codemirror_mode": {
        "name": "ipython",
        "version": 3
      },
      "file_extension": ".py",
      "mimetype": "text/x-python",
      "name": "python",
      "nbconvert_exporter": "python",
      "pygments_lexer": "ipython3",
      "version": "3.8.8"
    },
    "colab": {
      "name": "tdse-prob-density-kbc.ipynb",
      "provenance": [],
      "collapsed_sections": []
    }
  },
  "nbformat": 4,
  "nbformat_minor": 0
}