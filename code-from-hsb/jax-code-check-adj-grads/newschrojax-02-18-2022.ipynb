{
 "cells": [
  {
   "cell_type": "code",
   "execution_count": 1,
   "id": "997e83a9-a12e-4e7a-8aa0-ba9240113bbc",
   "metadata": {},
   "outputs": [],
   "source": [
    "from jax.config import config\n",
    "config.update(\"jax_enable_x64\", True)\n",
    "\n",
    "import jax.numpy as jnp\n",
    "from jax import grad, jit, jacobian, vmap\n",
    "\n",
    "import scipy.linalg as sl\n",
    "import scipy.integrate as si\n",
    "import scipy.optimize\n",
    "import matplotlib\n",
    "%matplotlib inline\n",
    "import matplotlib.pyplot as plt\n",
    "import time"
   ]
  },
  {
   "cell_type": "code",
   "execution_count": 2,
   "id": "91de4b56-7e37-4df4-ba70-d7d6734dce1b",
   "metadata": {},
   "outputs": [],
   "source": [
    "import numpy as np"
   ]
  },
  {
   "cell_type": "code",
   "execution_count": 3,
   "id": "7ffa35f2-508d-4950-bf53-b37283f14535",
   "metadata": {},
   "outputs": [],
   "source": [
    "# our Fourier representation will use basis functions from n = -nmax to n = nmax\n",
    "nmax = 16\n",
    "\n",
    "# size of spatial domain\n",
    "a = 16"
   ]
  },
  {
   "cell_type": "code",
   "execution_count": 4,
   "id": "e44b9dfa-b94c-4794-b760-2beeeff1ed40",
   "metadata": {},
   "outputs": [],
   "source": [
    "# symmetric double well potential just for fun\n",
    "def v(x):\n",
    "    return 0.25*(x**2 - 25)**2"
   ]
  },
  {
   "cell_type": "code",
   "execution_count": 5,
   "id": "0425cdaf-b155-4000-85f9-6f7669fabbeb",
   "metadata": {},
   "outputs": [],
   "source": [
    "# some sampling and FFT tricks\n",
    "# this integer '100' can be adjusted to improve resolution\n",
    "# if we set f_sample = 2*nmax, then we are sampling at the Nyquist frequency\n",
    "f_sample = 100 * 2 * nmax\n",
    "t, dt = np.linspace(-a, a, f_sample+2, endpoint=False, retstep=True)\n",
    "y = (np.fft.rfft(v(t)) / t.size)[:(2*nmax+1)]\n",
    "\n",
    "# this stores the Fourier series coefficients for n-m=0 to n-m=2*nmax\n",
    "vrow = y * (-1)**np.arange(2*nmax+1)"
   ]
  },
  {
   "cell_type": "code",
   "execution_count": 6,
   "id": "c37c4486-bf13-456e-89c0-d9bec201d0bf",
   "metadata": {},
   "outputs": [
    {
     "name": "stdout",
     "output_type": "stream",
     "text": [
      "0.0\n",
      "6.7044174812213135e-15\n"
     ]
    }
   ],
   "source": [
    "# create Toeplitz matrix\n",
    "vmat = sl.toeplitz(r=vrow,c=np.conj(vrow))\n",
    "\n",
    "# kinetic matrix\n",
    "kmat = np.diag( np.arange(-nmax,nmax+1)**2 * np.pi**2 / (2*a**2) )\n",
    "\n",
    "# Hamiltonian matrix \n",
    "hmat = kmat + vmat\n",
    "\n",
    "# check whether Hamiltonian is Hermitian\n",
    "print(np.linalg.norm( hmat - np.conj(hmat.T) ))\n",
    "\n",
    "# eigendecomposition\n",
    "spec, states = np.linalg.eigh(hmat)\n",
    "\n",
    "# check whether this diagonalizes hmat\n",
    "# note that if this is close to zero it means that\n",
    "# hmat = states @ np.diag(spec) @ np.conj(states).T\n",
    "np.linalg.norm( hmat @ states - states @ np.diag(spec) )\n",
    "\n",
    "# check whether we have a unitary matrix\n",
    "print(np.linalg.norm( states @ np.conj(states).T - np.eye(2*nmax+1) ))"
   ]
  },
  {
   "cell_type": "code",
   "execution_count": 7,
   "id": "e2af2a58-079b-419a-ae87-f53da35852db",
   "metadata": {},
   "outputs": [],
   "source": [
    "# find indices that sort eigenvalues\n",
    "ordering = np.argsort(spec)\n",
    "\n",
    "# spatial grid for the purposes of plotting\n",
    "xvec = np.linspace(-a, a, 1025)\n",
    "\n",
    "# convert basis coefficients into wavefunction on grid by matrix multiplication\n",
    "nvec = np.arange(-nmax,nmax+1)\n",
    "convmat = np.exp(1j*np.pi*np.outer(nvec, xvec)/a)/np.sqrt(2*a)"
   ]
  },
  {
   "cell_type": "code",
   "execution_count": 8,
   "id": "bf638dbe-151f-4c3f-893e-46d1564121b6",
   "metadata": {},
   "outputs": [
    {
     "data": {
      "image/png": "[encoded data removed]",
      "text/plain": [
       "<Figure size 432x288 with 1 Axes>"
      ]
     },
     "metadata": {
      "needs_background": "light"
     },
     "output_type": "display_data"
    },
    {
     "name": "stdout",
     "output_type": "stream",
     "text": [
      "1.0\n"
     ]
    }
   ],
   "source": [
    "# pick out and plot ground state\n",
    "groundstate = ordering[0]\n",
    "wavefn = states[:,groundstate] @ convmat\n",
    "plt.plot(xvec, -np.real(wavefn))\n",
    "plt.show()\n",
    "\n",
    "# check normalization\n",
    "print(np.sum(np.abs(wavefn)**2 * (xvec[1]-xvec[0])))"
   ]
  },
  {
   "cell_type": "code",
   "execution_count": 9,
   "id": "72eace0a-17cc-43b5-82b9-72a2670fb029",
   "metadata": {},
   "outputs": [
    {
     "data": {
      "image/png": "[encoded data removed]",
      "text/plain": [
       "<Figure size 432x288 with 1 Axes>"
      ]
     },
     "metadata": {
      "needs_background": "light"
     },
     "output_type": "display_data"
    },
    {
     "name": "stdout",
     "output_type": "stream",
     "text": [
      "1.000000047158553\n"
     ]
    }
   ],
   "source": [
    "# pick out and plot j-th state with j starting at 0\n",
    "wavefn = states[:,ordering[1]] @ convmat\n",
    "plt.plot(xvec, np.imag(wavefn))\n",
    "plt.show()\n",
    "\n",
    "# check normalization\n",
    "print(np.sum(np.abs(wavefn)**2 * (xvec[1]-xvec[0])))"
   ]
  },
  {
   "cell_type": "code",
   "execution_count": 10,
   "id": "de929623-65ae-4e26-85e2-757e9eb21676",
   "metadata": {},
   "outputs": [],
   "source": [
    "# rounded box function\n",
    "def psi0(x):\n",
    "    return (1.0 + np.tanh((1 - x**2)/0.5))/2.58046\n",
    "\n",
    "vraw = np.zeros(nmax+1, dtype=np.complex128)\n",
    "for thisn in range(nmax+1):\n",
    "    def integ(x):\n",
    "        return (2*a)**(-0.5)*np.exp(-1j*np.pi*thisn*x/a)*psi0(x)\n",
    "    def rinteg(x):\n",
    "        return np.real(integ(x))\n",
    "    def iinteg(x):\n",
    "        return np.imag(integ(x))\n",
    "    vraw[thisn] = si.quad(rinteg, a=-a, b=a)[0] + 1j*si.quad(iinteg, a=-a, b=a)[0]\n",
    "\n",
    "ainit = np.concatenate([np.conjugate(np.flipud(vraw[1:])), vraw])"
   ]
  },
  {
   "cell_type": "code",
   "execution_count": 11,
   "id": "cbee9adc-34b6-4b62-a714-3805a95def6a",
   "metadata": {},
   "outputs": [
    {
     "data": {
      "image/png": "[encoded data removed]",
      "text/plain": [
       "<Figure size 432x288 with 1 Axes>"
      ]
     },
     "metadata": {
      "needs_background": "light"
     },
     "output_type": "display_data"
    }
   ],
   "source": [
    "# just check whether psi0 is represented OK\n",
    "plt.plot(xvec, psi0(xvec), color='black')\n",
    "psi0recon = np.real(ainit @ convmat)\n",
    "plt.plot(xvec, psi0recon, color='red')\n",
    "plt.show()"
   ]
  },
  {
   "cell_type": "code",
   "execution_count": 12,
   "id": "7f1eca80-4722-44b0-bb5b-9caf34eedc12",
   "metadata": {},
   "outputs": [],
   "source": [
    "# set the time step and compute the propagator matrix\n",
    "# note that we are reusing the spec, states eigendecomposition of hmat computed above\n",
    "dt = 0.01\n",
    "prop = states @ np.diag(np.exp(-1j*spec*dt)) @ np.conj(states.T)"
   ]
  },
  {
   "cell_type": "code",
   "execution_count": 13,
   "id": "b3ddbb6d-e104-4b6f-ba96-731f8e526fb3",
   "metadata": {},
   "outputs": [],
   "source": [
    "# propagate the \"a\" vector of coefficients as defined above\n",
    "nsteps = 200\n",
    "amat = np.zeros((nsteps+1, 2*nmax+1), dtype=np.complex128)\n",
    "amat[0,:] = np.copy(ainit)\n",
    "for j in range(nsteps):\n",
    "    amat[j+1,:] = prop @ amat[j,:]\n",
    "\n",
    "# compute the wave function in space from each \"a\" vector\n",
    "# do it all at once using matrix multiplication!\n",
    "psi2 = (np.abs(amat @ convmat))**2"
   ]
  },
  {
   "cell_type": "code",
   "execution_count": 14,
   "id": "72f6e31d-b8e9-4f40-91f1-f57dee3325f1",
   "metadata": {},
   "outputs": [
    {
     "name": "stdout",
     "output_type": "stream",
     "text": [
      "(4225, 2)\n"
     ]
    }
   ],
   "source": [
    "Xind, Yind = np.meshgrid(np.arange(2*(2*nmax+1)-1),np.arange(2*(2*nmax+1)-1))\n",
    "indices = np.stack([Xind.flatten(), Yind.flatten()]).T\n",
    "print(indices.shape)"
   ]
  },
  {
   "cell_type": "code",
   "execution_count": 15,
   "id": "7ad18b0b-adaf-4980-b95a-0bfa45f0c9d7",
   "metadata": {},
   "outputs": [],
   "source": [
    "# this function implements the adjoint method described mathematically above\n",
    "# it takes as input x, which is a concatenation of the real and imaginary parts of thetahat\n",
    "# as you can see from the first 5 lines of the function, \n",
    "# the real and imaginary part of thetahat *parameterize* the potential matrix \"vhatmat\"\n",
    "def toeplitz(r, c):\n",
    "    c = np.asarray(c).ravel()\n",
    "    r = np.asarray(r).ravel()\n",
    "    # Form a 1-D array containing a reversed c followed by r[1:] that could be\n",
    "    # strided to give us toeplitz matrix.\n",
    "    vals = np.concatenate((c[::-1], r[1:]))\n",
    "    out_shp = len(c), len(r)\n",
    "    n = vals.strides[0]\n",
    "    return np.lib.stride_tricks.as_strided(vals[len(c)-1:], shape=out_shp, strides=(-n, n)).copy()\n"
   ]
  },
  {
   "cell_type": "code",
   "execution_count": 16,
   "id": "086647c0-21ac-410f-853f-cb2acda9ec10",
   "metadata": {},
   "outputs": [
    {
     "data": {
      "text/plain": [
       "array([[ 1.,  3., -3.],\n",
       "       [ 4.,  1.,  3.],\n",
       "       [-7.,  4.,  1.]])"
      ]
     },
     "execution_count": 16,
     "metadata": {},
     "output_type": "execute_result"
    }
   ],
   "source": [
    "toeplitz(np.array([1.0,3.0,-3.0]),np.array([1.0,4.0,-7.0]))"
   ]
  },
  {
   "cell_type": "code",
   "execution_count": 17,
   "id": "8ba375cf-3837-4f06-bbe1-3d127cb0d997",
   "metadata": {},
   "outputs": [],
   "source": [
    "m = 2*nmax+1\n",
    "n = 2*nmax+1\n",
    "a = np.array((-1)*np.arange(0,m)).reshape(m,1) \n",
    "b = np.array([np.arange(m-1,m+n-1 ),])\n",
    "indx = jnp.array(a + b)\n",
    "\n",
    "def jaxtoeplitz(r, c):\n",
    "    w = jnp.concatenate([jnp.flipud(c), r[1:]])\n",
    "    Tw = w[indx]\n",
    "    return Tw"
   ]
  },
  {
   "cell_type": "code",
   "execution_count": 18,
   "id": "3864775f-039f-4b4c-8082-ddbf67b61af1",
   "metadata": {},
   "outputs": [],
   "source": [
    "# jaxtoeplitz(np.array([1.0,3.0,-3.0]),np.array([1.0,4.0,-7.0]))\n",
    "\n",
    "# jtg = jacobian(jaxtoeplitz)\n",
    "# jtg(np.array([1.0,3.0,-3.0]),np.array([1.0,4.0,-7.0]))"
   ]
  },
  {
   "cell_type": "code",
   "execution_count": 19,
   "id": "842430b9-9aea-4fbc-a93b-2cda2c3ff46c",
   "metadata": {},
   "outputs": [],
   "source": [
    "def adjhesshelper(x):\n",
    "    m = 2*nmax + 1\n",
    "    thetahatR = x[:m]\n",
    "    thetahatI = jnp.concatenate([jnp.array([0.0]), x[m:]])\n",
    "    thetahat = thetahatR + 1j*thetahatI\n",
    "    vhatmat = jaxtoeplitz(r=thetahat,c=np.conj(thetahat))\n",
    "    \n",
    "    # Hamiltonian matrix \n",
    "    hhatmat = kmat + vhatmat\n",
    "    \n",
    "    # eigendecomposition and compute propagator\n",
    "    hatspec, hatstates = jnp.linalg.eigh(hhatmat)\n",
    "    hatprop = hatstates @ jnp.diag(jnp.exp(-1j*hatspec*dt)) @ jnp.conj(hatstates.T)\n",
    "    hatpropH = hatstates @ jnp.diag(jnp.exp(1j*hatspec*dt)) @ jnp.conj(hatstates.T)\n",
    "    \n",
    "    # propagate the \"a\" vector of coefficients forward in time\n",
    "    # in other words, solve the *forward* problem\n",
    "    ahatmat = [jnp.array(ainit)]\n",
    "    for j in range(nsteps):\n",
    "        ahatmat.append( hatprop @ ahatmat[j] )\n",
    "    \n",
    "    ahatmat = jnp.stack(ahatmat)\n",
    "    \n",
    "    # propagate the \"lambda\" vector of coefficients backward in time\n",
    "    # in other words, solve the *adjoint* problem\n",
    "    lambmat = [ahatmat[nsteps,:] - amat[nsteps,:]]\n",
    "    \n",
    "    itr = 0\n",
    "    for j in range(nsteps-1,-1,-1):\n",
    "        lambmat.append( ahatmat[j,:] - amat[j,:] + hatpropH @ lambmat[itr] )\n",
    "        itr += 1\n",
    "        \n",
    "    lambmat = jnp.flipud( jnp.stack(lambmat) )    \n",
    "    \n",
    "    # Compute the gradients\n",
    "    # Most of this stuff is math that computes the directional derivative of the matrix exponential,\n",
    "    # the part of the derivation above where we see \"\\partial \\exp(Z) / \\partial Z \\cdot A\"\n",
    "    # for some matrix A.\n",
    "    # All of this code has been checked against JAX autograd to make sure it is computing gradients correctly.\n",
    "    # Note that it is much faster than JAX autograd.\n",
    "    alldmat = np.zeros((2*m-1, m, m), dtype=np.complex128)\n",
    "    expspec = np.exp(-1j*dt*hatspec)\n",
    "    mask = np.zeros((m,m), dtype=jnp.complex128)\n",
    "    for ii in range(m):\n",
    "        for jj in range(m):\n",
    "            if np.abs(hatspec[ii] - hatspec[jj]) < 1e-8:\n",
    "                mask[ii,ii] = expspec[ii]\n",
    "            else:\n",
    "                mask[ii,jj] = (expspec[ii] - expspec[jj])/(-1j*dt*(hatspec[ii]-hatspec[jj]))\n",
    "    \n",
    "    derivamat = np.zeros((2*m-1, m, m), dtype=np.complex128)\n",
    "    for iii in range(m):\n",
    "        ctrvec = np.zeros(m, dtype=np.complex128)\n",
    "        ctrvec[iii] = 1.0\n",
    "        ctrmat = toeplitz(r=ctrvec, c=np.conj(ctrvec))\n",
    "        derivamat[iii, :, :] = hatstates.conj().T @ ctrmat @ hatstates\n",
    "        qmat = derivamat[iii, :, :] * mask\n",
    "        alldmat[iii,:,:] = -1j*dt* hatstates @ qmat @ hatstates.conj().T\n",
    "    \n",
    "    for iii in range(m-1):\n",
    "        ctrvec = np.zeros(m, dtype=np.complex128)\n",
    "        ctrvec[iii + 1] = 1.0j\n",
    "        ctrmat = toeplitz(r=ctrvec, c=np.conj(ctrvec))\n",
    "        derivamat[m + iii, :, :] = hatstates.conj().T @ ctrmat @ hatstates\n",
    "        qmat = derivamat[m + iii, :, :] * mask\n",
    "        alldmat[m + iii,:,:] = -1j*dt* hatstates @ qmat @ hatstates.conj().T\n",
    "    \n",
    "    return lambmat, alldmat, ahatmat"
   ]
  },
  {
   "cell_type": "code",
   "execution_count": 28,
   "id": "31636b6a-d3f0-4895-a01e-998af3e4405c",
   "metadata": {},
   "outputs": [],
   "source": [
    "def justobj(x):\n",
    "    m = 2*nmax + 1\n",
    "    thetahatR = x[:m]\n",
    "    thetahatI = jnp.concatenate([jnp.array([0.0]), x[m:]])\n",
    "    thetahat = thetahatR + 1j*thetahatI\n",
    "    \n",
    "    # hardcoded Toeplitz so that autodiff doesn't complain\n",
    "    w = jnp.concatenate([jnp.flipud(jnp.conj(thetahat)), thetahat[1:]])\n",
    "    vhatmat = w[indx]\n",
    "    \n",
    "    # Hamiltonian matrix \n",
    "    hhatmat = kmat + vhatmat\n",
    "    \n",
    "    # eigendecomposition and compute propagator\n",
    "    hatspec, hatstates = jnp.linalg.eigh(hhatmat)\n",
    "    hatprop = hatstates @ jnp.diag(jnp.exp(-1j*hatspec*dt)) @ jnp.conj(hatstates.T)\n",
    "    hatpropH = hatstates @ jnp.diag(jnp.exp(1j*hatspec*dt)) @ jnp.conj(hatstates.T)\n",
    "    \n",
    "    # propagate the \"a\" vector of coefficients as defined above\n",
    "    ahatmat = [jnp.array(ainit)]\n",
    "    for j in range(nsteps):\n",
    "        ahatmat.append( hatprop @ ahatmat[j] )\n",
    "    \n",
    "    ahatmat = jnp.stack(ahatmat)\n",
    "    \n",
    "    # compute only the objective function\n",
    "    resid = ahatmat - amat\n",
    "    obj = 0.5*jnp.real(jnp.sum(jnp.conj(resid)*resid))\n",
    "    \n",
    "    return obj\n",
    "\n",
    "def justgrad(x):\n",
    "    lambmat, alldmat, ahatmat = adjhesshelper(x)    \n",
    "    # compute all entries of the gradient at once\n",
    "    gradients = jnp.real(jnp.einsum('ij,ajk,ik->a', jnp.conj(lambmat[1:,:]), alldmat, ahatmat[:-1,:]))\n",
    "    return gradients"
   ]
  },
  {
   "cell_type": "code",
   "execution_count": 21,
   "id": "75f894b2-903f-429b-97e3-a316bb65de7d",
   "metadata": {},
   "outputs": [
    {
     "name": "stdout",
     "output_type": "stream",
     "text": [
      "(65,)\n"
     ]
    }
   ],
   "source": [
    "truethetaR = jnp.real(vrow)\n",
    "truethetaI = jnp.imag(vrow[1:])\n",
    "x0 = jnp.concatenate([truethetaR, truethetaI])\n",
    "print(x0.shape)"
   ]
  },
  {
   "cell_type": "code",
   "execution_count": 29,
   "id": "f16c58b0-0c9b-4d2c-8810-ab877841faec",
   "metadata": {},
   "outputs": [
    {
     "data": {
      "text/plain": [
       "DeviceArray(3.60239945e-23, dtype=float64)"
      ]
     },
     "execution_count": 29,
     "metadata": {},
     "output_type": "execute_result"
    }
   ],
   "source": [
    "justobj(x0)"
   ]
  },
  {
   "cell_type": "code",
   "execution_count": 23,
   "id": "272f8ecf-dd31-4b4e-804e-bf8de098c58d",
   "metadata": {},
   "outputs": [],
   "source": [
    "mygrad = justgrad(x0)"
   ]
  },
  {
   "cell_type": "code",
   "execution_count": 30,
   "id": "a2a2911e-897d-46a6-b6b6-b92cf2dde00d",
   "metadata": {},
   "outputs": [],
   "source": [
    "jaxgrad = jit(grad(justobj))"
   ]
  },
  {
   "cell_type": "code",
   "execution_count": 31,
   "id": "8c77394f-5592-4605-9207-f318f134b39f",
   "metadata": {},
   "outputs": [],
   "source": [
    "jgrad = jaxgrad(x0)"
   ]
  },
  {
   "cell_type": "code",
   "execution_count": 32,
   "id": "5f1eb00d-6a42-499c-8685-794c5a4ad66c",
   "metadata": {},
   "outputs": [
    {
     "data": {
      "text/plain": [
       "4.489679952558946"
      ]
     },
     "execution_count": 32,
     "metadata": {},
     "output_type": "execute_result"
    }
   ],
   "source": [
    "np.linalg.norm(mygrad - jgrad)"
   ]
  },
  {
   "cell_type": "code",
   "execution_count": 27,
   "id": "c418f3f9-9481-44ab-a820-d4b215e133b3",
   "metadata": {},
   "outputs": [
    {
     "data": {
      "text/plain": [
       "3.123502808682592e-12"
      ]
     },
     "execution_count": 27,
     "metadata": {},
     "output_type": "execute_result"
    }
   ],
   "source": [
    "randx = np.random.normal(size=4*nmax+1)*10\n",
    "mygrad = justgrad(randx)\n",
    "jgrad = jaxgrad(randx)\n",
    "np.linalg.norm(mygrad - jgrad)"
   ]
  },
  {
   "cell_type": "code",
   "execution_count": null,
   "id": "0205a7d3-9b59-4a8a-9b14-b68652ad8da6",
   "metadata": {},
   "outputs": [],
   "source": []
  }
 ],
 "metadata": {
  "kernelspec": {
   "display_name": "Python 3 (ipykernel)",
   "language": "python",
   "name": "python3"
  },
  "language_info": {
   "codemirror_mode": {
    "name": "ipython",
    "version": 3
   },
   "file_extension": ".py",
   "mimetype": "text/x-python",
   "name": "python",
   "nbconvert_exporter": "python",
   "pygments_lexer": "ipython3",
   "version": "3.9.7"
  }
 },
 "nbformat": 4,
 "nbformat_minor": 5
}
