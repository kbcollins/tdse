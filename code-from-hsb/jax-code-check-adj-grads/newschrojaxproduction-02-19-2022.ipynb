{
 "cells": [
  {
   "cell_type": "code",
   "execution_count": 1,
   "id": "997e83a9-a12e-4e7a-8aa0-ba9240113bbc",
   "metadata": {},
   "outputs": [],
   "source": [
    "from jax.config import config\n",
    "config.update(\"jax_enable_x64\", True)\n",
    "\n",
    "import jax.numpy as jnp\n",
    "from jax import grad, jit, jacobian, vmap\n",
    "\n",
    "import scipy.linalg as sl\n",
    "import scipy.integrate as si\n",
    "import scipy.optimize\n",
    "import matplotlib\n",
    "%matplotlib inline\n",
    "import matplotlib.pyplot as plt\n",
    "import time"
   ]
  },
  {
   "cell_type": "code",
   "execution_count": 2,
   "id": "91de4b56-7e37-4df4-ba70-d7d6734dce1b",
   "metadata": {},
   "outputs": [],
   "source": [
    "import numpy as np"
   ]
  },
  {
   "cell_type": "code",
   "execution_count": 3,
   "id": "7ffa35f2-508d-4950-bf53-b37283f14535",
   "metadata": {},
   "outputs": [],
   "source": [
    "# our Fourier representation will use basis functions from n = -nmax to n = nmax\n",
    "nmax = 256\n",
    "\n",
    "# size of spatial domain\n",
    "a = 16"
   ]
  },
  {
   "cell_type": "code",
   "execution_count": 4,
   "id": "e44b9dfa-b94c-4794-b760-2beeeff1ed40",
   "metadata": {},
   "outputs": [],
   "source": [
    "# symmetric double well potential just for fun\n",
    "def v(x):\n",
    "    return 0.25*(x**2 - 25)**2"
   ]
  },
  {
   "cell_type": "code",
   "execution_count": 5,
   "id": "0425cdaf-b155-4000-85f9-6f7669fabbeb",
   "metadata": {},
   "outputs": [],
   "source": [
    "# some sampling and FFT tricks\n",
    "# this integer '100' can be adjusted to improve resolution\n",
    "# if we set f_sample = 2*nmax, then we are sampling at the Nyquist frequency\n",
    "f_sample = 100 * 2 * nmax\n",
    "t, dt = np.linspace(-a, a, f_sample+2, endpoint=False, retstep=True)\n",
    "y = (np.fft.rfft(v(t)) / t.size)[:(2*nmax+1)]\n",
    "\n",
    "# this stores the Fourier series coefficients for n-m=0 to n-m=2*nmax\n",
    "vrow = y * (-1)**np.arange(2*nmax+1)"
   ]
  },
  {
   "cell_type": "code",
   "execution_count": 6,
   "id": "c37c4486-bf13-456e-89c0-d9bec201d0bf",
   "metadata": {},
   "outputs": [
    {
     "name": "stdout",
     "output_type": "stream",
     "text": [
      "0.0\n",
      "6.589451280122539e-14\n"
     ]
    }
   ],
   "source": [
    "# create Toeplitz matrix\n",
    "vmat = sl.toeplitz(r=vrow,c=np.conj(vrow))\n",
    "\n",
    "# kinetic matrix\n",
    "kmat = np.diag( np.arange(-nmax,nmax+1)**2 * np.pi**2 / (2*a**2) )\n",
    "\n",
    "# Hamiltonian matrix \n",
    "hmat = kmat + vmat\n",
    "\n",
    "# check whether Hamiltonian is Hermitian\n",
    "print(np.linalg.norm( hmat - np.conj(hmat.T) ))\n",
    "\n",
    "# eigendecomposition\n",
    "spec, states = np.linalg.eigh(hmat)\n",
    "\n",
    "# check whether this diagonalizes hmat\n",
    "# note that if this is close to zero it means that\n",
    "# hmat = states @ np.diag(spec) @ np.conj(states).T\n",
    "np.linalg.norm( hmat @ states - states @ np.diag(spec) )\n",
    "\n",
    "# check whether we have a unitary matrix\n",
    "print(np.linalg.norm( states @ np.conj(states).T - np.eye(2*nmax+1) ))"
   ]
  },
  {
   "cell_type": "code",
   "execution_count": 7,
   "id": "e2af2a58-079b-419a-ae87-f53da35852db",
   "metadata": {},
   "outputs": [],
   "source": [
    "# find indices that sort eigenvalues\n",
    "ordering = np.argsort(spec)\n",
    "\n",
    "# spatial grid for the purposes of plotting\n",
    "xvec = np.linspace(-a, a, 1025)\n",
    "\n",
    "# convert basis coefficients into wavefunction on grid by matrix multiplication\n",
    "nvec = np.arange(-nmax,nmax+1)\n",
    "convmat = np.exp(1j*np.pi*np.outer(nvec, xvec)/a)/np.sqrt(2*a)"
   ]
  },
  {
   "cell_type": "code",
   "execution_count": 8,
   "id": "bf638dbe-151f-4c3f-893e-46d1564121b6",
   "metadata": {},
   "outputs": [
    {
     "data": {
      "image/png": "[encoded data removed]",
      "text/plain": [
       "<Figure size 432x288 with 1 Axes>"
      ]
     },
     "metadata": {
      "needs_background": "light"
     },
     "output_type": "display_data"
    },
    {
     "name": "stdout",
     "output_type": "stream",
     "text": [
      "0.9999999999999993\n"
     ]
    }
   ],
   "source": [
    "# pick out and plot ground state\n",
    "groundstate = ordering[0]\n",
    "wavefn = states[:,groundstate] @ convmat\n",
    "plt.plot(xvec, -np.real(wavefn))\n",
    "plt.show()\n",
    "\n",
    "# check normalization\n",
    "print(np.sum(np.abs(wavefn)**2 * (xvec[1]-xvec[0])))"
   ]
  },
  {
   "cell_type": "code",
   "execution_count": 9,
   "id": "72eace0a-17cc-43b5-82b9-72a2670fb029",
   "metadata": {},
   "outputs": [
    {
     "data": {
      "image/png": "[encoded data removed]",
      "text/plain": [
       "<Figure size 432x288 with 1 Axes>"
      ]
     },
     "metadata": {
      "needs_background": "light"
     },
     "output_type": "display_data"
    },
    {
     "name": "stdout",
     "output_type": "stream",
     "text": [
      "0.9999999999999998\n"
     ]
    }
   ],
   "source": [
    "# pick out and plot j-th state with j starting at 0\n",
    "wavefn = states[:,ordering[1]] @ convmat\n",
    "plt.plot(xvec, np.imag(wavefn))\n",
    "plt.show()\n",
    "\n",
    "# check normalization\n",
    "print(np.sum(np.abs(wavefn)**2 * (xvec[1]-xvec[0])))"
   ]
  },
  {
   "cell_type": "code",
   "execution_count": 10,
   "id": "de929623-65ae-4e26-85e2-757e9eb21676",
   "metadata": {},
   "outputs": [],
   "source": [
    "# rounded box function\n",
    "def psi0(x):\n",
    "    return (1.0 + np.tanh((1 - x**2)/0.5))/2.58046\n",
    "\n",
    "vraw = np.zeros(nmax+1, dtype=np.complex128)\n",
    "for thisn in range(nmax+1):\n",
    "    def integ(x):\n",
    "        return (2*a)**(-0.5)*np.exp(-1j*np.pi*thisn*x/a)*psi0(x)\n",
    "    def rinteg(x):\n",
    "        return np.real(integ(x))\n",
    "    def iinteg(x):\n",
    "        return np.imag(integ(x))\n",
    "    vraw[thisn] = si.quad(rinteg, a=-a, b=a)[0] + 1j*si.quad(iinteg, a=-a, b=a)[0]\n",
    "\n",
    "ainit = np.concatenate([np.conjugate(np.flipud(vraw[1:])), vraw])"
   ]
  },
  {
   "cell_type": "code",
   "execution_count": 11,
   "id": "cbee9adc-34b6-4b62-a714-3805a95def6a",
   "metadata": {},
   "outputs": [
    {
     "data": {
      "image/png": "[encoded data removed]",
      "text/plain": [
       "<Figure size 432x288 with 1 Axes>"
      ]
     },
     "metadata": {
      "needs_background": "light"
     },
     "output_type": "display_data"
    }
   ],
   "source": [
    "# just check whether psi0 is represented OK\n",
    "plt.plot(xvec, psi0(xvec), color='black')\n",
    "psi0recon = np.real(ainit @ convmat)\n",
    "plt.plot(xvec, psi0recon, color='red')\n",
    "plt.show()"
   ]
  },
  {
   "cell_type": "code",
   "execution_count": 12,
   "id": "7f1eca80-4722-44b0-bb5b-9caf34eedc12",
   "metadata": {},
   "outputs": [],
   "source": [
    "# # set the time step and compute the propagator matrix\n",
    "# # note that we are reusing the spec, states eigendecomposition of hmat computed above\n",
    "dt = 0.01\n",
    "prop = states @ np.diag(np.exp(-1j*spec*dt)) @ np.conj(states.T)"
   ]
  },
  {
   "cell_type": "code",
   "execution_count": 13,
   "id": "b3ddbb6d-e104-4b6f-ba96-731f8e526fb3",
   "metadata": {},
   "outputs": [],
   "source": [
    "# propagate the \"a\" vector of coefficients as defined above\n",
    "nsteps = 2000\n",
    "amat = np.zeros((nsteps+1, 2*nmax+1), dtype=np.complex128)\n",
    "amat[0,:] = np.copy(ainit)\n",
    "for j in range(nsteps):\n",
    "    amat[j+1,:] = prop @ amat[j,:]\n",
    "\n",
    "# compute the wave function in space from each \"a\" vector\n",
    "# do it all at once using matrix multiplication!\n",
    "# psi2 = (np.abs(amat @ convmat))**2"
   ]
  },
  {
   "cell_type": "code",
   "execution_count": 14,
   "id": "8ba375cf-3837-4f06-bbe1-3d127cb0d997",
   "metadata": {},
   "outputs": [],
   "source": [
    "m = 2*nmax+1\n",
    "n = 2*nmax+1\n",
    "a = np.array((-1)*np.arange(0,m)).reshape(m,1) \n",
    "b = np.array([np.arange(m-1,m+n-1 ),])\n",
    "indx = jnp.array(a + b)"
   ]
  },
  {
   "cell_type": "code",
   "execution_count": 15,
   "id": "5b2f8446-cab0-46a3-a024-18a604240eff",
   "metadata": {},
   "outputs": [],
   "source": [
    "# goal: make a JAX-compliant version\n",
    "\n",
    "def adjhelper(x):\n",
    "    m = 2*nmax + 1\n",
    "    thetahatR = x[:m]\n",
    "    thetahatI = jnp.concatenate([jnp.array([0.0]), x[m:]])\n",
    "    thetahat = thetahatR + 1j*thetahatI\n",
    "    \n",
    "    w = jnp.concatenate([jnp.flipud(jnp.conj(thetahat)), thetahat[1:]])\n",
    "    vhatmat = w[indx]\n",
    "    \n",
    "    # Hamiltonian matrix \n",
    "    hhatmat = kmat + vhatmat\n",
    "    \n",
    "    # eigendecomposition and compute propagator\n",
    "    hatspec, hatstates = jnp.linalg.eigh(hhatmat)\n",
    "    hatprop = hatstates @ jnp.diag(jnp.exp(-1j*hatspec*dt)) @ jnp.conj(hatstates.T)\n",
    "    hatpropH = hatstates @ jnp.diag(jnp.exp(1j*hatspec*dt)) @ jnp.conj(hatstates.T)\n",
    "    \n",
    "    # propagate the \"a\" vector of coefficients forward in time\n",
    "    # in other words, solve the *forward* problem\n",
    "    ahatmat = [jnp.array(ainit)]\n",
    "    for j in range(nsteps):\n",
    "        ahatmat.append( hatprop @ ahatmat[j] )\n",
    "    \n",
    "    ahatmat = jnp.stack(ahatmat)\n",
    "    \n",
    "    # propagate the \"lambda\" vector of coefficients backward in time\n",
    "    # in other words, solve the *adjoint* problem\n",
    "    lambmat = [ahatmat[nsteps,:] - amat[nsteps,:]]\n",
    "    \n",
    "    itr = 0\n",
    "    for j in range(nsteps-1,-1,-1):\n",
    "        lambmat.append( ahatmat[j,:] - amat[j,:] + hatpropH @ lambmat[itr] )\n",
    "        itr += 1\n",
    "        \n",
    "    lambmat = jnp.flipud( jnp.stack(lambmat) )    \n",
    "    \n",
    "    # Compute the gradients\n",
    "    # Most of this stuff is math that computes the directional derivative of the matrix exponential,\n",
    "    # the part of the derivation above where we see \"\\partial \\exp(Z) / \\partial Z \\cdot A\"\n",
    "    # for some matrix A.\n",
    "    # All of this code has been checked against JAX autograd to make sure it is computing gradients correctly.\n",
    "    # Note that it is faster than JAX autograd at present\n",
    "    \n",
    "    alldmat = []    \n",
    "    offdiagmask = jnp.ones((m, m)) - jnp.eye(m)\n",
    "    expspec = jnp.exp(-1j*dt*hatspec)\n",
    "    e1, e2 = jnp.meshgrid(expspec, expspec)\n",
    "    s1, s2 = jnp.meshgrid(hatspec, hatspec)\n",
    "    denom = offdiagmask * (-1j*dt)*(s1 - s2) + jnp.eye(m)\n",
    "    mask = offdiagmask * (e1 - e2)/denom + jnp.diag(expspec)\n",
    "    myeye = jnp.eye(m)\n",
    "    ws = jnp.hstack([jnp.fliplr(myeye), myeye[:,1:]]).T\n",
    "    ctrmats = ws[indx]\n",
    "    derivamats = jnp.einsum('ij,jkm,kl->ilm',hatstates.conj().T,ctrmats,hatstates) * jnp.expand_dims(mask,2)\n",
    "    alldmatreal = -1j*dt*jnp.einsum('ij,jkm,kl->mil',hatstates,derivamats,hatstates.conj().T)\n",
    "    \n",
    "    ws = 1.0j*jnp.hstack([-jnp.fliplr(myeye), myeye[:,1:]])\n",
    "    ws = ws[1:,:]\n",
    "    ws = ws.T\n",
    "    ctrmats = ws[indx]\n",
    "    derivamats = jnp.einsum('ij,jkm,kl->ilm',hatstates.conj().T,ctrmats,hatstates) * jnp.expand_dims(mask,2)\n",
    "    alldmatimag = -1j*dt*jnp.einsum('ij,jkm,kl->mil',hatstates,derivamats,hatstates.conj().T)\n",
    "    \n",
    "    alldmat = jnp.vstack([alldmatreal, alldmatimag])\n",
    "    \n",
    "    return lambmat, alldmat, ahatmat"
   ]
  },
  {
   "cell_type": "code",
   "execution_count": 16,
   "id": "31636b6a-d3f0-4895-a01e-998af3e4405c",
   "metadata": {},
   "outputs": [],
   "source": [
    "def justobj(x):\n",
    "    m = 2*nmax + 1\n",
    "    thetahatR = x[:m]\n",
    "    thetahatI = jnp.concatenate([jnp.array([0.0]), x[m:]])\n",
    "    thetahat = thetahatR + 1j*thetahatI\n",
    "    \n",
    "    # hardcoded Toeplitz so that autodiff doesn't complain\n",
    "    w = jnp.concatenate([jnp.flipud(jnp.conj(thetahat)), thetahat[1:]])\n",
    "    vhatmat = w[indx]\n",
    "    \n",
    "    # Hamiltonian matrix \n",
    "    hhatmat = kmat + vhatmat\n",
    "    \n",
    "    # eigendecomposition and compute propagator\n",
    "    hatspec, hatstates = jnp.linalg.eigh(hhatmat)\n",
    "    hatprop = hatstates @ jnp.diag(jnp.exp(-1j*hatspec*dt)) @ jnp.conj(hatstates.T)\n",
    "    hatpropH = hatstates @ jnp.diag(jnp.exp(1j*hatspec*dt)) @ jnp.conj(hatstates.T)\n",
    "    \n",
    "    # propagate the \"a\" vector of coefficients as defined above\n",
    "    ahatmat = [jnp.array(ainit)]\n",
    "    for j in range(nsteps):\n",
    "        ahatmat.append( hatprop @ ahatmat[j] )\n",
    "    \n",
    "    ahatmat = jnp.stack(ahatmat)\n",
    "    \n",
    "    # compute only the objective function\n",
    "    resid = ahatmat - amat\n",
    "    obj = 0.5*jnp.real(jnp.sum(jnp.conj(resid)*resid))\n",
    "    \n",
    "    return obj\n",
    "\n",
    "def justgrad(x):\n",
    "    lambmat, alldmat, ahatmat = adjhelper(x)    \n",
    "    # compute all entries of the gradient at once\n",
    "    gradients = jnp.real(jnp.einsum('ij,ajk,ik->a', jnp.conj(lambmat[1:,:]), alldmat, ahatmat[:-1,:]))\n",
    "    return gradients"
   ]
  },
  {
   "cell_type": "code",
   "execution_count": 17,
   "id": "75f894b2-903f-429b-97e3-a316bb65de7d",
   "metadata": {},
   "outputs": [
    {
     "name": "stdout",
     "output_type": "stream",
     "text": [
      "(1025,)\n"
     ]
    }
   ],
   "source": [
    "truethetaR = jnp.real(vrow)\n",
    "truethetaI = jnp.imag(vrow[1:])\n",
    "x0 = jnp.concatenate([truethetaR, truethetaI])\n",
    "print(x0.shape)"
   ]
  },
  {
   "cell_type": "code",
   "execution_count": 18,
   "id": "f16c58b0-0c9b-4d2c-8810-ab877841faec",
   "metadata": {},
   "outputs": [
    {
     "data": {
      "text/plain": [
       "DeviceArray(1.95688707e-20, dtype=float64)"
      ]
     },
     "execution_count": 18,
     "metadata": {},
     "output_type": "execute_result"
    }
   ],
   "source": [
    "justobj(x0)"
   ]
  },
  {
   "cell_type": "code",
   "execution_count": 19,
   "id": "272f8ecf-dd31-4b4e-804e-bf8de098c58d",
   "metadata": {},
   "outputs": [],
   "source": [
    "jjustgrad = jit(justgrad)"
   ]
  },
  {
   "cell_type": "code",
   "execution_count": 20,
   "id": "8083e3c7-c86b-4429-b932-c5a4bf425d46",
   "metadata": {},
   "outputs": [],
   "source": [
    "mygrad = jjustgrad(x0)"
   ]
  },
  {
   "cell_type": "code",
   "execution_count": 21,
   "id": "a2a2911e-897d-46a6-b6b6-b92cf2dde00d",
   "metadata": {},
   "outputs": [],
   "source": [
    "jaxgrad = jit(grad(justobj))"
   ]
  },
  {
   "cell_type": "code",
   "execution_count": 22,
   "id": "8c77394f-5592-4605-9207-f318f134b39f",
   "metadata": {},
   "outputs": [],
   "source": [
    "jgrad = jaxgrad(x0)"
   ]
  },
  {
   "cell_type": "code",
   "execution_count": 23,
   "id": "5f1eb00d-6a42-499c-8685-794c5a4ad66c",
   "metadata": {},
   "outputs": [
    {
     "data": {
      "text/plain": [
       "1.3602594284190008e-09"
      ]
     },
     "execution_count": 23,
     "metadata": {},
     "output_type": "execute_result"
    }
   ],
   "source": [
    "np.linalg.norm(mygrad - jgrad)"
   ]
  },
  {
   "cell_type": "code",
   "execution_count": 24,
   "id": "c418f3f9-9481-44ab-a820-d4b215e133b3",
   "metadata": {},
   "outputs": [
    {
     "name": "stdout",
     "output_type": "stream",
     "text": [
      "adj time = 0.10177421569824219\n",
      "jax time = 0.4749903678894043\n",
      "error = 5.16269918926865e-09\n",
      "adj time = 0.13021016120910645\n",
      "jax time = 0.475269079208374\n",
      "error = 3.290764401423323e-09\n",
      "adj time = 0.13172435760498047\n",
      "jax time = 0.46576619148254395\n",
      "error = 4.561648611910835e-09\n",
      "adj time = 0.10599660873413086\n",
      "jax time = 0.47897839546203613\n",
      "error = 3.1548970393818285e-08\n",
      "adj time = 0.15085935592651367\n",
      "jax time = 0.4748358726501465\n",
      "error = 4.852423367478868e-09\n",
      "adj time = 0.11894917488098145\n",
      "jax time = 0.48674917221069336\n",
      "error = 1.6694369615288504e-08\n",
      "adj time = 0.13741803169250488\n",
      "jax time = 0.45442771911621094\n",
      "error = 1.2735140544237013e-08\n",
      "adj time = 0.11622095108032227\n",
      "jax time = 0.4759514331817627\n",
      "error = 5.416729648365607e-09\n",
      "adj time = 0.1220705509185791\n",
      "jax time = 0.48011136054992676\n",
      "error = 2.8064577015880846e-09\n",
      "adj time = 0.12357759475708008\n",
      "jax time = 0.4650897979736328\n",
      "error = 1.3708345982261323e-07\n",
      "adj time = 0.14246582984924316\n",
      "jax time = 0.48073625564575195\n",
      "error = 3.1727237353725067e-09\n",
      "adj time = 0.13969206809997559\n",
      "jax time = 0.49089527130126953\n",
      "error = 4.479602492724658e-09\n",
      "adj time = 0.1252293586730957\n",
      "jax time = 0.46858787536621094\n",
      "error = 1.872747358442018e-09\n",
      "adj time = 0.12687945365905762\n",
      "jax time = 0.5168917179107666\n",
      "error = 1.9053409026774987e-09\n",
      "adj time = 0.1558823585510254\n",
      "jax time = 0.4920940399169922\n",
      "error = 3.347603023364437e-09\n",
      "adj time = 0.14333653450012207\n",
      "jax time = 0.4659712314605713\n",
      "error = 1.461762207727533e-08\n",
      "adj time = 0.11792254447937012\n",
      "jax time = 0.45914483070373535\n",
      "error = 3.878484961871972e-09\n",
      "adj time = 0.14144182205200195\n",
      "jax time = 0.4758152961730957\n",
      "error = 4.553865091654859e-09\n",
      "adj time = 0.1140899658203125\n",
      "jax time = 0.4553053379058838\n",
      "error = 4.4307273371048035e-08\n",
      "adj time = 0.1398324966430664\n",
      "jax time = 0.4598689079284668\n",
      "error = 2.6370394534344875e-09\n",
      "adj time = 0.1228342056274414\n",
      "jax time = 0.47510838508605957\n",
      "error = 3.4540651991313263e-09\n",
      "adj time = 0.13900041580200195\n",
      "jax time = 0.47560667991638184\n",
      "error = 4.88529152004817e-09\n",
      "adj time = 0.13128018379211426\n",
      "jax time = 0.46758580207824707\n",
      "error = 1.1638970073161465e-07\n",
      "adj time = 0.1169435977935791\n",
      "jax time = 0.4734616279602051\n",
      "error = 3.835143651656854e-09\n",
      "adj time = 0.12955617904663086\n",
      "jax time = 0.48474788665771484\n",
      "error = 3.4076203529753025e-09\n",
      "adj time = 0.13194608688354492\n",
      "jax time = 0.4912259578704834\n",
      "error = 3.3821433372260027e-09\n",
      "adj time = 0.12324190139770508\n",
      "jax time = 0.46903181076049805\n",
      "error = 4.307511187636739e-09\n",
      "adj time = 0.16834139823913574\n",
      "jax time = 0.45989203453063965\n",
      "error = 2.9447278225826455e-09\n",
      "adj time = 0.13910412788391113\n",
      "jax time = 0.45590782165527344\n",
      "error = 2.898413368850392e-09\n",
      "adj time = 0.15981698036193848\n",
      "jax time = 0.47530126571655273\n",
      "error = 3.268352442615479e-09\n",
      "adj time = 0.11140751838684082\n",
      "jax time = 0.4758305549621582\n",
      "error = 7.114202472406814e-09\n",
      "adj time = 0.12816214561462402\n",
      "jax time = 0.4716613292694092\n",
      "error = 3.679433744278744e-09\n",
      "adj time = 0.14395785331726074\n",
      "jax time = 0.46639180183410645\n",
      "error = 4.186652427940056e-09\n",
      "adj time = 0.12408924102783203\n",
      "jax time = 0.46041154861450195\n",
      "error = 3.004007158277455e-09\n",
      "adj time = 0.11515259742736816\n",
      "jax time = 0.4668262004852295\n",
      "error = 2.613943757231324e-09\n",
      "adj time = 0.1180109977722168\n",
      "jax time = 0.46193599700927734\n",
      "error = 3.1410554387481588e-09\n",
      "adj time = 0.13599371910095215\n",
      "jax time = 0.4866065979003906\n",
      "error = 5.142823389606576e-09\n",
      "adj time = 0.17003393173217773\n",
      "jax time = 0.5015876293182373\n",
      "error = 1.0488780662632879e-08\n",
      "adj time = 0.14887762069702148\n",
      "jax time = 0.48002004623413086\n",
      "error = 2.4236038851795024e-09\n",
      "adj time = 0.11751532554626465\n",
      "jax time = 0.44553303718566895\n",
      "error = 2.3849774542487993e-09\n",
      "adj time = 0.10877299308776855\n",
      "jax time = 0.46325016021728516\n",
      "error = 2.7877176966876306e-09\n",
      "adj time = 0.11231470108032227\n",
      "jax time = 0.49520277976989746\n",
      "error = 5.039938478961717e-09\n",
      "adj time = 0.13407444953918457\n",
      "jax time = 0.4533867835998535\n",
      "error = 2.5586035533797158e-09\n",
      "adj time = 0.1246178150177002\n",
      "jax time = 0.4755375385284424\n",
      "error = 5.694052974660177e-09\n",
      "adj time = 0.13842153549194336\n",
      "jax time = 0.4645805358886719\n",
      "error = 8.675456923506905e-09\n",
      "adj time = 0.14580440521240234\n",
      "jax time = 0.49158596992492676\n",
      "error = 6.675345827248092e-09\n",
      "adj time = 0.14128923416137695\n",
      "jax time = 0.5313377380371094\n",
      "error = 4.435225089591663e-09\n",
      "adj time = 0.18715286254882812\n",
      "jax time = 0.5030572414398193\n",
      "error = 3.0288231253941433e-09\n",
      "adj time = 0.1485595703125\n",
      "jax time = 0.47882843017578125\n",
      "error = 1.76296840594211e-09\n",
      "adj time = 0.13597846031188965\n",
      "jax time = 0.448347806930542\n",
      "error = 2.7612173417632797e-09\n",
      "adj time = 0.15430927276611328\n",
      "jax time = 0.4784226417541504\n",
      "error = 3.836392440737525e-09\n",
      "adj time = 0.13383865356445312\n",
      "jax time = 0.46532273292541504\n",
      "error = 1.5968274168039359e-09\n",
      "adj time = 0.1414198875427246\n",
      "jax time = 0.47779250144958496\n",
      "error = 3.021322487260765e-08\n",
      "adj time = 0.15311193466186523\n",
      "jax time = 0.49729418754577637\n",
      "error = 1.9949899143971035e-08\n",
      "adj time = 0.13258671760559082\n",
      "jax time = 0.48875951766967773\n",
      "error = 5.519219727247576e-09\n",
      "adj time = 0.1718742847442627\n",
      "jax time = 0.49402832984924316\n",
      "error = 6.406322238476103e-09\n",
      "adj time = 0.20810890197753906\n",
      "jax time = 0.5865333080291748\n",
      "error = 5.3850292690631756e-09\n",
      "adj time = 0.2000865936279297\n",
      "jax time = 0.46619081497192383\n",
      "error = 5.907379146254107e-09\n",
      "adj time = 0.11849093437194824\n",
      "jax time = 0.4842081069946289\n",
      "error = 4.027506741312777e-09\n",
      "adj time = 0.12865304946899414\n",
      "jax time = 0.4819049835205078\n",
      "error = 2.8254439936643178e-09\n",
      "adj time = 0.12797284126281738\n",
      "jax time = 0.48897886276245117\n",
      "error = 5.75115093311649e-09\n",
      "adj time = 0.15536808967590332\n",
      "jax time = 0.48468613624572754\n",
      "error = 8.039520461967884e-09\n",
      "adj time = 0.13245201110839844\n",
      "jax time = 0.4791605472564697\n",
      "error = 3.0578464432982102e-09\n",
      "adj time = 0.12796401977539062\n",
      "jax time = 0.4944119453430176\n",
      "error = 3.4079110619232754e-09\n",
      "adj time = 0.13774466514587402\n",
      "jax time = 0.4828915596008301\n",
      "error = 7.594139175823248e-09\n",
      "adj time = 0.12941765785217285\n",
      "jax time = 0.4802701473236084\n",
      "error = 3.3935527200783835e-09\n",
      "adj time = 0.14353299140930176\n",
      "jax time = 0.5118894577026367\n",
      "error = 2.8614191832134762e-09\n",
      "adj time = 0.15430974960327148\n",
      "jax time = 0.5030736923217773\n",
      "error = 5.262151539251117e-09\n",
      "adj time = 0.15099596977233887\n",
      "jax time = 0.4818112850189209\n",
      "error = 3.5374437994526584e-09\n",
      "adj time = 0.14708256721496582\n",
      "jax time = 0.4765803813934326\n",
      "error = 3.1326808481129076e-09\n",
      "adj time = 0.13051486015319824\n",
      "jax time = 0.4866316318511963\n",
      "error = 2.704402741231391e-09\n",
      "adj time = 0.14075517654418945\n",
      "jax time = 0.48447465896606445\n",
      "error = 2.2964630403465908e-09\n",
      "adj time = 0.14631938934326172\n",
      "jax time = 0.4706447124481201\n",
      "error = 1.1991089545328988e-08\n",
      "adj time = 0.1261732578277588\n",
      "jax time = 0.4713435173034668\n",
      "error = 4.9727114005787195e-09\n",
      "adj time = 0.13416790962219238\n",
      "jax time = 0.4800527095794678\n",
      "error = 3.805610143706871e-09\n",
      "adj time = 0.11726975440979004\n",
      "jax time = 0.4793529510498047\n",
      "error = 2.4747993457856264e-09\n",
      "adj time = 0.15275955200195312\n",
      "jax time = 0.4837038516998291\n",
      "error = 4.42523789908044e-09\n",
      "adj time = 0.15156936645507812\n",
      "jax time = 0.520550012588501\n",
      "error = 3.937093784665828e-09\n",
      "adj time = 0.12672066688537598\n",
      "jax time = 0.49010419845581055\n",
      "error = 3.6898237134072374e-09\n",
      "adj time = 0.14135408401489258\n",
      "jax time = 0.4756128787994385\n",
      "error = 2.199293485390236e-07\n",
      "adj time = 0.14086389541625977\n",
      "jax time = 0.49072980880737305\n",
      "error = 2.505987641154273e-08\n",
      "adj time = 0.12406015396118164\n",
      "jax time = 0.5009403228759766\n",
      "error = 2.7412236034877166e-09\n",
      "adj time = 0.13924622535705566\n",
      "jax time = 0.49118900299072266\n",
      "error = 3.0121118589133377e-09\n",
      "adj time = 0.13844895362854004\n",
      "jax time = 0.46275830268859863\n",
      "error = 5.348444160192173e-09\n",
      "adj time = 0.15018820762634277\n",
      "jax time = 0.4822499752044678\n",
      "error = 3.78410026722767e-09\n",
      "adj time = 0.13899588584899902\n",
      "jax time = 0.47162294387817383\n",
      "error = 2.397591179989356e-09\n",
      "adj time = 0.14312028884887695\n",
      "jax time = 0.499908447265625\n",
      "error = 2.630182211812112e-09\n",
      "adj time = 0.1615457534790039\n",
      "jax time = 0.5133111476898193\n",
      "error = 3.904688138028158e-09\n",
      "adj time = 0.19465231895446777\n",
      "jax time = 0.5583856105804443\n",
      "error = 3.093100402460825e-09\n",
      "adj time = 0.14153099060058594\n",
      "jax time = 0.47671055793762207\n",
      "error = 3.832814029463123e-09\n",
      "adj time = 0.1819455623626709\n",
      "jax time = 0.4621913433074951\n",
      "error = 2.398527786270017e-09\n",
      "adj time = 0.15210223197937012\n",
      "jax time = 0.47794198989868164\n",
      "error = 2.957952828450442e-09\n",
      "adj time = 0.14004826545715332\n",
      "jax time = 0.469876766204834\n",
      "error = 4.323946358466397e-09\n",
      "adj time = 0.1243288516998291\n",
      "jax time = 0.4597818851470947\n",
      "error = 2.8467715008283533e-09\n",
      "adj time = 0.10129094123840332\n",
      "jax time = 0.4622995853424072\n",
      "error = 3.727353208931253e-09\n",
      "adj time = 0.13511013984680176\n",
      "jax time = 0.4654984474182129\n",
      "error = 4.2193347436272356e-09\n",
      "adj time = 0.14262604713439941\n",
      "jax time = 0.4531879425048828\n",
      "error = 1.9449217571910115e-08\n",
      "adj time = 0.1308119297027588\n",
      "jax time = 0.5192699432373047\n",
      "error = 4.4663773249388e-09\n",
      "adj time = 0.15564393997192383\n",
      "jax time = 0.4920022487640381\n",
      "error = 3.3940275214293514e-09\n",
      "adj time = 0.14055442810058594\n",
      "jax time = 0.5176265239715576\n",
      "error = 9.051972948326158e-09\n"
     ]
    }
   ],
   "source": [
    "for i in range(100):\n",
    "    randx = np.random.normal(size=4*nmax+1)*10\n",
    "    t1 = time.time()\n",
    "    mygrad = jjustgrad(randx)\n",
    "    t2 = time.time()\n",
    "    jgrad = jaxgrad(randx)\n",
    "    t3 = time.time()\n",
    "    print( \"adj time = \" + str(t2-t1) )\n",
    "    print( \"jax time = \" + str(t3-t2) )\n",
    "    print( \"error = \" + str(np.linalg.norm(mygrad - jgrad)) )\n",
    "    "
   ]
  },
  {
   "cell_type": "code",
   "execution_count": null,
   "id": "86941c88-6ec4-4104-9085-69b897fe89e7",
   "metadata": {},
   "outputs": [],
   "source": []
  }
 ],
 "metadata": {
  "kernelspec": {
   "display_name": "Python 3 (ipykernel)",
   "language": "python",
   "name": "python3"
  },
  "language_info": {
   "codemirror_mode": {
    "name": "ipython",
    "version": 3
   },
   "file_extension": ".py",
   "mimetype": "text/x-python",
   "name": "python",
   "nbconvert_exporter": "python",
   "pygments_lexer": "ipython3",
   "version": "3.9.7"
  }
 },
 "nbformat": 4,
 "nbformat_minor": 5
}
