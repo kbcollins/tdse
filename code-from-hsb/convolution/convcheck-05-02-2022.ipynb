{
 "cells": [
  {
   "cell_type": "code",
   "execution_count": 6,
   "id": "8e6c3a91",
   "metadata": {},
   "outputs": [],
   "source": [
    "import numpy as np"
   ]
  },
  {
   "cell_type": "code",
   "execution_count": 7,
   "id": "a435c511",
   "metadata": {},
   "outputs": [],
   "source": [
    "d = 4\n",
    "a = np.random.normal(size=2*d+1) + 1j*np.random.normal(size=2*d+1)"
   ]
  },
  {
   "cell_type": "code",
   "execution_count": 8,
   "id": "f308e03b",
   "metadata": {},
   "outputs": [],
   "source": [
    "numpyway = np.convolve(a.conj(),np.flip(a),'same').conj()"
   ]
  },
  {
   "cell_type": "code",
   "execution_count": 9,
   "id": "5ee567cd",
   "metadata": {},
   "outputs": [],
   "source": [
    "directway = np.zeros(2*d+1, dtype=np.complex128)\n",
    "for l in range(-d,d+1):\n",
    "    for k in range(-d,d+1):\n",
    "        if abs(k+l)<=d:\n",
    "            # everybody has a \"+d\" inside square brackets because Python indexing starts at 0 and goes up to 2*d,\n",
    "            # while mathematical indexing goes from -d, -d+1, ..., 0, ..., d-1, d\n",
    "            directway[l+d] += a[k+l+d]*np.conj(a[k+d])"
   ]
  },
  {
   "cell_type": "code",
   "execution_count": 10,
   "id": "4152edcc",
   "metadata": {},
   "outputs": [
    {
     "name": "stdout",
     "output_type": "stream",
     "text": [
      "[-0.62953604-0.59382927j -3.3359097 +5.85926548j  0.14062732+3.2980408j\n",
      "  0.87476606+0.41109418j 15.91414389-0.j          0.87476606-0.41109418j\n",
      "  0.14062732-3.2980408j  -3.3359097 -5.85926548j -0.62953604+0.59382927j]\n",
      "[-0.62953604-0.59382927j -3.3359097 +5.85926548j  0.14062732+3.2980408j\n",
      "  0.87476606+0.41109418j 15.91414389+0.j          0.87476606-0.41109418j\n",
      "  0.14062732-3.2980408j  -3.3359097 -5.85926548j -0.62953604+0.59382927j]\n",
      "1.735999762954231e-15\n"
     ]
    }
   ],
   "source": [
    "print(numpyway)\n",
    "print(directway)\n",
    "print(np.linalg.norm(numpyway - directway))"
   ]
  },
  {
   "cell_type": "markdown",
   "source": [
    "---"
   ],
   "metadata": {
    "collapsed": false,
    "pycharm": {
     "name": "#%% md\n"
    }
   }
  },
  {
   "cell_type": "code",
   "execution_count": 14,
   "outputs": [
    {
     "name": "stdout",
     "output_type": "stream",
     "text": [
      "[ 0.        -0.j          0.        -0.j          0.        +0.j\n",
      " -0.        +0.j         -0.1723782 +0.95405773j -0.14685068+0.79075625j\n",
      "  1.84950949+0.60150952j  0.13947564+0.35771808j -0.3440701 -1.18943527j]\n",
      "[-0.93998881-1.29288504j -1.14611862-0.28335352j  0.96289245-1.08767642j\n",
      " -0.70041883+1.52134529j -0.1723782 +0.95405773j -0.14685068+0.79075625j\n",
      "  1.84950949+0.60150952j  0.13947564+0.35771808j -0.3440701 -1.18943527j]\n",
      "[ 7.04985618+0.j  9.85493422+0.j 11.96513608+0.j 13.3590132 +0.j\n",
      " 15.91414389+0.j 14.38100339+0.j 14.23358771+0.j 10.45108867+0.j\n",
      "  9.80422811+0.j]\n"
     ]
    }
   ],
   "source": [
    "# my code not hsb\n",
    "\n",
    "grid1, grid2 = np.mgrid[-d:d+1, -d:d+1]\n",
    "mask = np.abs(grid1 + grid2) <= d\n",
    "amat = mask * a\n",
    "print(amat[0])\n",
    "print(a)\n",
    "# np.convolve(a.conj(),np.flip(a),'same').conj()\n",
    "directkc = (amat @ a.conj())\n",
    "print(directkc)"
   ],
   "metadata": {
    "collapsed": false,
    "pycharm": {
     "name": "#%%\n"
    }
   }
  },
  {
   "cell_type": "code",
   "execution_count": 16,
   "outputs": [
    {
     "name": "stdout",
     "output_type": "stream",
     "text": [
      "(-6.408683949100727+0.5804936289111071j)\n"
     ]
    }
   ],
   "source": [
    "print(np.sum(amat[0] * np.conj(a[0]))*2)"
   ],
   "metadata": {
    "collapsed": false,
    "pycharm": {
     "name": "#%%\n"
    }
   }
  },
  {
   "cell_type": "code",
   "execution_count": null,
   "outputs": [],
   "source": [],
   "metadata": {
    "collapsed": false,
    "pycharm": {
     "name": "#%%\n"
    }
   }
  }
 ],
 "metadata": {
  "kernelspec": {
   "display_name": "Python 3 (ipykernel)",
   "language": "python",
   "name": "python3"
  },
  "language_info": {
   "codemirror_mode": {
    "name": "ipython",
    "version": 3
   },
   "file_extension": ".py",
   "mimetype": "text/x-python",
   "name": "python",
   "nbconvert_exporter": "python",
   "pygments_lexer": "ipython3",
   "version": "3.8.8"
  }
 },
 "nbformat": 4,
 "nbformat_minor": 5
}